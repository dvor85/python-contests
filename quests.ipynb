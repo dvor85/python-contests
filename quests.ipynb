{
 "cells": [
  {
   "cell_type": "markdown",
   "id": "fc552b1f-3478-4fe6-a165-4674b47d304a",
   "metadata": {
    "jp-MarkdownHeadingCollapsed": true
   },
   "source": [
    "# 1.1 Гвидо рассуждает с экрана терминала:\n",
    "— Люди постоянно тратят время на игры, результат которых зависит только от удачи. Подумать только, по доброй воле спускать деньги в казино! Мы, роботы, гораздо практичнее. Давай сыграем в следующую игру. Я загадал \n",
    "4\n",
    "4 различных положительных целых числа A, B, C, D, при этом A < B < C < D. Я называю \n",
    "8\n",
    "8 чисел в произвольном порядке: A, B, C, D, A × B, B × C, C × D, D × A. Твоя задача — найти число D. Справишься или предпочтешь игру попроще? Могу принести футбольный мячик. ⚽️\n",
    "\n",
    "Задание нужно выполнить в виде программы, которая получает на вход числа A, B, C, D, A × B, B × C, C × D, D × A (на одной строке) согласно условию. Программа должна вывести одно число D."
   ]
  },
  {
   "cell_type": "code",
   "execution_count": 4,
   "id": "d6c27614-e992-45dd-a994-2e0173e11300",
   "metadata": {},
   "outputs": [
    {
     "data": {
      "text/plain": [
       "4"
      ]
     },
     "execution_count": 4,
     "metadata": {},
     "output_type": "execute_result"
    }
   ],
   "source": [
    "def find_d(inp):\n",
    "    a,res = inp[:4],inp[4:]\n",
    "    for i in range(4):        \n",
    "        ab = a[i]*a[(i+1) % 4]\n",
    "        if ab in a:\n",
    "            ind = a.index(ab)\n",
    "            del a[ind]\n",
    "            a.append(res.pop(0))\n",
    "    return a[3]\n",
    "    \n",
    "find_d(sorted(map(int, \"2 3 4 1 12 6 2 4\".split())))"
   ]
  },
  {
   "cell_type": "code",
   "execution_count": 2,
   "id": "d0a8e3d2-18f9-4c3d-90cc-ee7b519a3b90",
   "metadata": {
    "scrolled": true
   },
   "outputs": [
    {
     "name": "stdin",
     "output_type": "stream",
     "text": [
      " 2 3 4 1 12 6 2 4\n"
     ]
    },
    {
     "name": "stdout",
     "output_type": "stream",
     "text": [
      "4\n"
     ]
    }
   ],
   "source": [
    "a, b, c1, c2, _, _, _, cd = sorted(map(int, input().split()))\n",
    "print(cd // c2 if a * b == c1 else cd // c1)"
   ]
  },
  {
   "cell_type": "markdown",
   "id": "c7b94d58-fdae-4f85-8a67-9a9298b414c6",
   "metadata": {},
   "source": [
    "# Искусственный интеллект Гвидо разворачивает на экране терминала ряды чисел\n",
    "их становится все больше и больше. Когда Джонатан уже не успевает улавливать появление новых символов, Гвидо объясняет:\n",
    "* Смотри, на экран выведены все целые числа от А до В включительно. Тебе нужно посчитать сумму всех четных чисел от А до В, а я посчитаю сумму всех нечетных. А потом тебе нужно будет выяснить, чья сумма больше. Конечно, для этого придется найти разность между этими двумя суммами.\n",
    "Задание нужно выполнить в виде программы, которая получает на вход два целых положительных числа А и В (каждое на отдельной строке). Программа должна вывести одно число — разность между суммой четных чисел и суммой нечетных чисел от А до В.\n"
   ]
  },
  {
   "cell_type": "code",
   "execution_count": 3,
   "id": "296d6f8b-7012-4da8-9774-da65eb94953c",
   "metadata": {},
   "outputs": [
    {
     "name": "stdin",
     "output_type": "stream",
     "text": [
      " 3214\n",
      " 5562345\n"
     ]
    },
    {
     "data": {
      "text/plain": [
       "-2779566"
      ]
     },
     "execution_count": 3,
     "metadata": {},
     "output_type": "execute_result"
    }
   ],
   "source": [
    "def sum_p(a,b):\n",
    "    return (1,-1)[b % 2] * (b-a+1) // 2\n",
    "\n",
    "a,b = int(input()), int(input())\n",
    "sum_p(a,b) if not (b-a+1) % 2 else sum_p(a,b-1) + (1,-1)[b % 2] * b\n"
   ]
  },
  {
   "cell_type": "markdown",
   "id": "dd2fdb54-a167-4f0b-931c-60a19a9db444",
   "metadata": {},
   "source": [
    "Появившееся на экране терминала лицо Гвидо выглядит озабоченным (видимо, он не только обновил эмоциональную прошивку, но и обновил механику лица, мимика стала гораздо выразительнее). Он говорит:\n",
    "— У одного из наших автоматов, которые присваивают порядковые имена новым машинам, произошел сбой. Обычно он формирует имена следующим образом: составляет список всех возможных последовательностей в алфавитном порядке из пяти букв, используя только символы X, Y и Z.\n",
    "Но что-то пошло не так, программа именования повреждена! А нам нужно срочно выяснить, какое имя досталось машине под номером 179. Начало списка ты видишь на экране. Найди ответ на заданный вопрос как можно скорее! Это будет засчитано как прохождение очередного испытания.\n"
   ]
  },
  {
   "cell_type": "code",
   "execution_count": 1,
   "id": "fca1a064-77f6-4739-97f0-0149c866660f",
   "metadata": {},
   "outputs": [
    {
     "data": {
      "text/plain": [
       "'ZXYZY'"
      ]
     },
     "execution_count": 1,
     "metadata": {},
     "output_type": "execute_result"
    }
   ],
   "source": [
    "def convert(num, base):    \n",
    "    res = ''\n",
    "    while num:\n",
    "        res += str(num % base)\n",
    "        num = num // base\n",
    "    return res[::-1]\n",
    "\n",
    "''.join(map(lambda x: 'XYZ'[int(x)], convert(178, 3)))"
   ]
  },
  {
   "cell_type": "markdown",
   "id": "7b11c34d-91e9-402a-83df-f659b96378cb",
   "metadata": {},
   "source": [
    "## Задача 7. \n",
    "В далеком 2024году в одном из отделений банка сломался автомат выдачи талонов электронной очереди. Менеджер Джеймс стал выдавать талоны вручную, вводя номера на клавиатуре для последующей печати. На следующий день головной офис затребовал у Джеймса информацию о количестве клиентов банка за прошедший день, ведь автоматика не смогла сформировать отчет. Джеймс схватился за голову: список выданных талонов не сохранился! Однако компьютер зафиксировал количество нажатий каждой клавиши от 0до 9на клавиатуре. Он показал значения, которые ты видишь сейчас на экране терминала. Так сколько клиентов было в банке в тот злополучный день, если в начале рабочего дня выдача талонов началась с номера 1?"
   ]
  },
  {
   "cell_type": "code",
   "execution_count": 45,
   "id": "969c8ec1-836e-41dd-8ade-6162bf8de5bd",
   "metadata": {},
   "outputs": [
    {
     "name": "stdout",
     "output_type": "stream",
     "text": [
      "{0: 1229, 1: 2338, 2: 2240, 3: 2240, 4: 1438, 5: 1240, 6: 1240, 7: 1240, 8: 1239, 9: 1237}\n",
      "4197\n"
     ]
    }
   ],
   "source": [
    "n = 10000\n",
    "digits = dict.fromkeys(range(10), 0)\n",
    "\n",
    "for num in range(1, n):\n",
    "    for i in map(int, str(num)):\n",
    "        digits[i] += 1\n",
    "    if digits[0] == 1229 and digits[9] == 1237:\n",
    "        print(digits)\n",
    "        print(num)"
   ]
  },
  {
   "cell_type": "code",
   "execution_count": 5,
   "id": "4d1b6d0a-a999-4302-afa9-d5dceb279d3a",
   "metadata": {},
   "outputs": [
    {
     "name": "stdout",
     "output_type": "stream",
     "text": [
      "4197\n"
     ]
    }
   ],
   "source": [
    "digits = [1229, 2338, 2240, 2240, 1438, 1240, 1240, 1240, 1239, 1237]\n",
    "clients = 0\n",
    "while any(digits):\n",
    "    clients+=1\n",
    "    for i in map(int, str(clients)):\n",
    "        digits[i]-=1\n",
    "\n",
    "print(clients)\n",
    "    "
   ]
  },
  {
   "cell_type": "markdown",
   "id": "d3ac90b0-8140-411c-8161-6e03ae1ab60c",
   "metadata": {},
   "source": [
    "## Как улучшить код\n",
    "Джонатан заметил, что Гвидо полюбил рассказывать байки о временах, когда люди управляли компьютерами, а не наоборот. Так он подводил своего испытуемого к очередному заданию.\n",
    "\n",
    "— Джонатан, ты наверняка слышал об ошибках программистов, вошедших в историю. Скажем, однажды целая ракета потерпела крушение из-за того, что люди перенесли блок кода из старой версии в новую, не протестировав его работоспособность. Так же обстоит дело с этим кодом.\n",
    "\n",
    "На экране терминала появляется код:\n",
    "```\n",
    "n = int(input())\n",
    "\n",
    "result = 0\n",
    "for i in range(n):\n",
    "    for j in range(2*n):\n",
    "        result += j + i\n",
    "\n",
    "print(result)\n",
    "```"
   ]
  },
  {
   "cell_type": "code",
   "execution_count": 2,
   "id": "b1a88943-7d16-4a1d-bd41-e6854ce2fc8d",
   "metadata": {},
   "outputs": [
    {
     "name": "stdin",
     "output_type": "stream",
     "text": [
      " 2\n"
     ]
    },
    {
     "data": {
      "text/plain": [
       "16"
      ]
     },
     "execution_count": 2,
     "metadata": {},
     "output_type": "execute_result"
    }
   ],
   "source": [
    "n = int(input())\n",
    "n*n*(3*n-2)"
   ]
  },
  {
   "cell_type": "markdown",
   "id": "136753cf-7537-4657-b37d-1a5805c052e2",
   "metadata": {},
   "source": [
    "## Очень быстрый код\n",
    "Гвидо философски вещает с экрана терминала:\n",
    "\n",
    "— Люди, конечно, способны писать код. Да что там — с появлением зерокодинга даже обезьяну стало возможно усадить за компьютер. Но способны ли люди создавать по-настоящему быстрый и оптимизированный код? Попробуем выяснить — с твоей помощью, конечно.\n",
    "\n",
    "Вот тебе задача: напиши программу, которая принимает на вход одно целое положительное число n. Программа должна вывести количество целых положительных чисел, не превосходящих n, которые не делятся ни на одно из чисел 2,3 и 5."
   ]
  },
  {
   "cell_type": "code",
   "execution_count": 43,
   "id": "a7dc190b-ab74-49bb-9b6d-5f0ce21907c8",
   "metadata": {},
   "outputs": [
    {
     "name": "stdout",
     "output_type": "stream",
     "text": [
      "50 2 0\n",
      "50\n"
     ]
    }
   ],
   "source": [
    "# n=int(input())\n",
    "# for n in range(11):\n",
    "n=100\n",
    "n1 = n - n // 2\n",
    "n2 = n1 & (n - n // 3)\n",
    "n3 = n2 & (n - n // 5)\n",
    "print(n1, n2, n3)\n",
    "print(max(n1,n2,n3) - min(n1,n2,n3))\n",
    "# n1 ^ n2 ^ n3"
   ]
  },
  {
   "cell_type": "code",
   "execution_count": 47,
   "id": "0c4aab5d-afaf-4e7f-972c-10221b399920",
   "metadata": {},
   "outputs": [
    {
     "name": "stdin",
     "output_type": "stream",
     "text": [
      " 100\n"
     ]
    },
    {
     "name": "stdout",
     "output_type": "stream",
     "text": [
      "26\n"
     ]
    }
   ],
   "source": [
    "n = int(input())\n",
    "\n",
    "print(n - n//2 - n//3 - n//5 + n//6 + n//10 + n//15 - n//30)"
   ]
  },
  {
   "cell_type": "markdown",
   "id": "0e0d98e2-50bb-420c-b364-66ad7865638e",
   "metadata": {},
   "source": [
    "## Magic\n",
    "Очередное утро, и очередное сообщение на включенном терминале. Гвидо говорит очень серьезно:\n",
    "\n",
    "— Твое испытание подходит к концу. Пришло время новой задачи на программирование. И знаешь, я уже почти начал болеть за тебя. Итак, тебе дана функция magic(), принимающая три целочисленных аргумента, написанная на языке Python, в теле которой зашиты магические константы a, b, c, являющиеся натуральными числами. Ключом этой функции назовем значение выражения a^2+b^2+c^2. Но вот незадача: значения a, b, c потерялись. Требуется выяснить и вывести ключ функции. При этом вызывать функцию magic() можно не более двух раз, чтобы сформировать ответ.\n",
    "```\n",
    "def magic(x,y,z):\n",
    "    a,b,c = ?,?,?\n",
    "    return a*x+b*y+c*z\n",
    "```"
   ]
  },
  {
   "cell_type": "code",
   "execution_count": 50,
   "id": "8ff763cb-81f3-4105-b0e5-d75ab48d1137",
   "metadata": {},
   "outputs": [
    {
     "data": {
      "text/plain": [
       "29"
      ]
     },
     "execution_count": 50,
     "metadata": {},
     "output_type": "execute_result"
    }
   ],
   "source": [
    "import copy\n",
    "\n",
    "def magic(x,y,z):\n",
    "    a,b,c = 2,3,4\n",
    "    return a*x+b*y+c*z\n",
    "\n",
    "mag = copy.copy(magic)\n",
    "\n",
    "a=magic(1,0,0)\n",
    "b=magic(0,1,0)\n",
    "c=mag(0,0,1)\n",
    "\n",
    "a*a+b*b+c*c"
   ]
  },
  {
   "cell_type": "markdown",
   "id": "d8ab71f6-2747-41a4-9c76-ea52b4d45405",
   "metadata": {},
   "source": [
    "## Решить уравнение\n",
    "Санта Клаус написал на доске уравнение и сказал эльфам:\n",
    "\n",
    "- Понимаю, решить его может быть непросто. Но вы справитесь!\n",
    "\n",
    "Помогите эльфам подобрать такое значение x, при подстановке которого в уравнение получится верное равенство."
   ]
  },
  {
   "cell_type": "code",
   "execution_count": 1,
   "id": "13bc56bc-fef4-473d-9324-1d9052b279c1",
   "metadata": {},
   "outputs": [
    {
     "data": {
      "text/plain": [
       "2024.0"
      ]
     },
     "execution_count": 1,
     "metadata": {},
     "output_type": "execute_result"
    }
   ],
   "source": [
    "a,b,c=2021,2022,2023\n",
    "x=(3*a*b*c+3*b*c+2*a*c+a*b)/(b*c+a*c+a*b)\n",
    "x"
   ]
  },
  {
   "cell_type": "code",
   "execution_count": 3,
   "id": "56ffa839-36f0-4f83-bfd5-e7ccdf92d28e",
   "metadata": {},
   "outputs": [
    {
     "data": {
      "text/plain": [
       "2024"
      ]
     },
     "execution_count": 3,
     "metadata": {},
     "output_type": "execute_result"
    }
   ],
   "source": [
    "a=2021\n",
    "x=a+3\n",
    "x\n"
   ]
  },
  {
   "cell_type": "markdown",
   "id": "dcb0cee9-d82c-4bff-b9ee-b0d434db515e",
   "metadata": {},
   "source": [
    "## abcde\n",
    "Кто-то подбросил Санта Клаусу в почтовый ящик сборник задачек, в котором одна страничка была отмечена закладкой. На ней требовалось найти целые числа a,b,c,d и e, удовлетворяющие условиям, указанным на картинке. Санта попробовал решить задачку вручную, а потом, не выдержав, скормил условия своему новейшему квантовому компьютеру и быстро получил ответ. А вашим компьютерам хватит мощности, чтобы найти эти числа?"
   ]
  },
  {
   "cell_type": "code",
   "execution_count": 5,
   "id": "49716e68-dbb7-4ccf-8d14-1df66d09efc5",
   "metadata": {},
   "outputs": [
    {
     "name": "stdout",
     "output_type": "stream",
     "text": [
      "(27, 84, 110, 133, 144)\n"
     ]
    }
   ],
   "source": [
    "def abcde():\n",
    "    for a in range(1, 200):\n",
    "        for b in range(a+1, 200):\n",
    "            for c in range(b+1, 200):\n",
    "                for d in range(c+1, 200):\n",
    "                    for e in range(d+1, 201):\n",
    "                        if a**5+b**5+c**5+d**5==e**5:\n",
    "                            return a,b,c,d,e\n",
    "\n",
    "print(abcde())"
   ]
  },
  {
   "cell_type": "markdown",
   "id": "36c71f3c-3c1c-4ae8-97c4-dd092f9cf963",
   "metadata": {},
   "source": [
    "# Таблица Пифагора\n",
    "Таблица Пифагора — это квадратная таблица n×n, в каждой ячейке которой записано число, равное произведению номеров своих строки и столбца. Ниже представлена таблица Пифагора для n=6 и n=9.\n",
    "\n",
    "### Напишите программу, которая для таблицы Пифагора размером n×n определяет:\n",
    "\n",
    "* сумму чисел, расположенных на побочной диагонали (выделена зеленым цветом)\n",
    "* сумму чисел выше и левее побочной диагонали (выделены синим цветом)\n",
    "* сумму чисел ниже и правее побочной диагонали (выделены желтым цветом)"
   ]
  },
  {
   "cell_type": "code",
   "execution_count": 9,
   "id": "949d5ec1-4342-4fd8-ad14-aa147a60ffe1",
   "metadata": {},
   "outputs": [
    {
     "name": "stdin",
     "output_type": "stream",
     "text": [
      " 9999988\n"
     ]
    },
    {
     "name": "stdout",
     "output_type": "stream",
     "text": [
      "сумма чисел, расположенных на побочной диагонали = 166666116667269999780\n",
      "сумма чисел выше и левее побочной диагонали = 416664750003295830822500715\n",
      "сумма чисел ниже и правее побочной диагонали = 2083323583350412486727503861\n"
     ]
    }
   ],
   "source": [
    "n=int(input())\n",
    "print('сумма чисел, расположенных на побочной диагонали =', (n*(n+1)*(n+2))//6)\n",
    "print('сумма чисел выше и левее побочной диагонали =', (n-1)*n*(n+1)*(n+2)//24)\n",
    "print('сумма чисел ниже и правее побочной диагонали =', n*(n**2-1)*(5*n+6)//24)"
   ]
  },
  {
   "cell_type": "markdown",
   "id": "1ffb0c10-704e-4a0d-9b83-fc14703554ae",
   "metadata": {},
   "source": [
    "# Функция spiral_transposition() 😈\n",
    "matrix = Реализуйте функцию spiral_transposition(), которая принимает в качестве аргумента матрицу (двумерный список) и возвращает одномерный список со значениями исходной матрицы, расположенными по спирали (начиная с верхнего левого угла)."
   ]
  },
  {
   "cell_type": "code",
   "execution_count": 2,
   "id": "fa4052fc-60e1-481d-a6db-caabe59ec99e",
   "metadata": {},
   "outputs": [
    {
     "name": "stdout",
     "output_type": "stream",
     "text": [
      "[6, 4, 6, 5, 4, 9, 6, 1, 8, 2, 4, 8, 4, 9, 2, 6, 6, 2, 0, 4, 7, 1, 5, 4, 0, 2, 1, 0, 5, 4, 0, 1, 4, 8, 0, 3, 1, 5, 9, 5, 3, 9, 4, 1, 0, 8, 5, 2, 7, 6, 1, 0, 0, 1, 3, 9, 3, 4, 3, 4, 4, 8, 6, 9, 6, 1, 7, 4, 0, 3, 2, 1, 6, 0, 4, 6, 9, 5, 9, 1, 1]\n"
     ]
    }
   ],
   "source": [
    "def spiral_transposition(mat):\n",
    "    res = []\n",
    "    m = len(mat[0])\n",
    "    n = len(mat)\n",
    "    angl = [(0,1), (1,0), (0,-1), (-1,0)]\n",
    "    f = i = j = 0\n",
    "    di, dj = angl[0]\n",
    "    while len(res) < n*m:\n",
    "        if 0<=i<n and 0<=j<m and mat[i][j] is not None:\n",
    "            res.append(mat[i][j])\n",
    "            mat[i][j] = None\n",
    "        else:            \n",
    "            i += -di\n",
    "            j += -dj\n",
    "            f += 1\n",
    "            di, dj = angl[f%4]\n",
    "        i += di\n",
    "        j += dj\n",
    "    return res\n",
    "\n",
    "matrix = [[1, 2, 3, 4],\n",
    "          [5, 6, 7, 8],\n",
    "          [9, 10, 11, 12]]\n",
    "\n",
    "matrix = [[6, 4, 6, 5, 4, 9, 6, 1, 8],\n",
    "          [1, 4, 8, 0, 3, 1, 5, 9, 2],\n",
    "          [0, 9, 3, 4, 3, 4, 4, 5, 4],\n",
    "          [4, 3, 1, 6, 0, 4, 8, 3, 8],\n",
    "          [5, 1, 2, 1, 1, 6, 6, 9, 4],\n",
    "          [0, 0, 3, 9, 5, 9, 9, 4, 9],\n",
    "          [1, 0, 0, 4, 7, 1, 6, 1, 2],\n",
    "          [2, 1, 6, 7, 2, 5, 8, 0, 6],\n",
    "          [0, 4, 5, 1, 7, 4, 0, 2, 6]]\n",
    "\n",
    "print(spiral_transposition(matrix))\n"
   ]
  },
  {
   "cell_type": "markdown",
   "id": "57b194f1-9bd5-4356-a820-e922d7abf774",
   "metadata": {},
   "source": [
    "# Умный сумматор\n",
    "Реализуйте вызываемый объект add(), который складывает целые числа при последовательных вызовах:"
   ]
  },
  {
   "cell_type": "code",
   "execution_count": 13,
   "id": "ec0f6d1c-d1b9-4edb-8303-33e9dbd43a9c",
   "metadata": {},
   "outputs": [
    {
     "name": "stdout",
     "output_type": "stream",
     "text": [
      "2\n",
      "7\n",
      "5\n",
      "10\n"
     ]
    }
   ],
   "source": [
    "class add(int):    \n",
    "    def __call__(self, x):\n",
    "        return add(self + x)\n",
    "\n",
    "\n",
    "add_two = add(2)\n",
    "\n",
    "print(add_two)               # 2\n",
    "print(add_two + 5)           # 7\n",
    "print(add_two(3))            # 5\n",
    "print(add_two(3)(5))         # 10\n"
   ]
  },
  {
   "cell_type": "markdown",
   "id": "d84b1fdc-f136-4aee-baa7-7f97e11c8de0",
   "metadata": {},
   "source": [
    "# Палиндром наибольшей длины\n",
    "На вход программы подается строка, содержащая заглавные латинские буквы (не обязательно различные). Разрешается переставлять буквы, а также удалять некоторые из них. Напишите программу, которая из данных букв по указанным правилам составит и выведет палиндром наибольшей длины, а если таких палиндромов несколько, то необходимо вывести первый из них в алфавитном порядке."
   ]
  },
  {
   "cell_type": "code",
   "execution_count": 66,
   "id": "32d102c3-ef19-45e6-a1e5-0e1fe0525c36",
   "metadata": {},
   "outputs": [
    {
     "name": "stdout",
     "output_type": "stream",
     "text": [
      "AABCACBAA\n"
     ]
    }
   ],
   "source": [
    "def palindrom(ss):\n",
    "    b = nb = ''\n",
    "    for s in sorted(set(ss)):\n",
    "        c = ss.count(s)        \n",
    "        if c//2:\n",
    "            b+=s*(c//2)               \n",
    "        if c%2 and not nb:\n",
    "            nb+=s \n",
    "    return b+nb+b[::-1]\n",
    "    \n",
    "print(palindrom('ABAAAABCC'))"
   ]
  },
  {
   "cell_type": "markdown",
   "id": "370afcfd-b17f-44d1-8abb-e28fa105f880",
   "metadata": {},
   "source": [
    "# Функция find_triple()\n",
    "Даны три положительных целых числа a, b, c.  Вычисляются их всевозможные суммы: a + b, a + c, b + c, a + b + c. Эти суммы и сами числа a, b, c в произвольном порядке записываются в список nums.\n",
    "\n",
    "Реализуйте функцию find_triple(), которая принимает один аргумент:\n",
    "\n",
    "nums – указанный выше список чисел, содержащий числа a, b, c, a + b, a + c, b + c, a + b + c в произвольном порядке.\n",
    "Функция должна вернуть список, состоящий из трех начальных чисел a, b и c. Числа в списке должны быть расположены в порядке неубывания."
   ]
  },
  {
   "cell_type": "code",
   "execution_count": 77,
   "id": "526fc173-c5d6-45bc-b9d7-200f964d3884",
   "metadata": {},
   "outputs": [
    {
     "name": "stdout",
     "output_type": "stream",
     "text": [
      "[2134698, 8633036, 9062130]\n"
     ]
    }
   ],
   "source": [
    "def find_triple(nums):\n",
    "    nums.sort()\n",
    "    a,b = nums[:2]\n",
    "    c = nums[-1] - a - b\n",
    "    return [a,b,c]\n",
    "\n",
    "nums = [8633036, 9062130, 11196828, 2134698, 17695166, 19829864, 10767734]\n",
    "print(find_triple(nums))"
   ]
  },
  {
   "cell_type": "markdown",
   "id": "29a55594-17a0-4c1e-b11f-0e1ea250a907",
   "metadata": {},
   "source": [
    "# Функция trailing_zeros()\n",
    "Реализуйте функцию trailing_zeros(), которая принимает один аргумент:\n",
    "\n",
    "n – неотрицательное целое число (0≤n≤10^9)\n",
    "Функция должна возвращать количество нулей в конце записи факториала числа n."
   ]
  },
  {
   "cell_type": "code",
   "execution_count": 40,
   "id": "160a251f-1253-4eba-aa7f-99041de38f75",
   "metadata": {},
   "outputs": [
    {
     "name": "stdout",
     "output_type": "stream",
     "text": [
      "30864192\n"
     ]
    }
   ],
   "source": [
    "def trailing_zeros(n):\n",
    "    return sum(n//(5**i) for i in range(1, 1+int(n**(1/5))))\n",
    "\n",
    "print(trailing_zeros(123456789))"
   ]
  },
  {
   "cell_type": "code",
   "execution_count": 43,
   "id": "2a52d376-6e80-42b2-ae11-e3fdbd4fd2b5",
   "metadata": {},
   "outputs": [
    {
     "name": "stdout",
     "output_type": "stream",
     "text": [
      "30864192\n"
     ]
    }
   ],
   "source": [
    "def trailing_zeros(n):\n",
    "    res = 0\n",
    "    while n>0:\n",
    "        n //= 5\n",
    "        res += n\n",
    "    return res\n",
    "\n",
    "print(trailing_zeros(123456789))"
   ]
  },
  {
   "cell_type": "markdown",
   "id": "56da2bf8-107d-47de-8fef-93be7fbf0e19",
   "metadata": {},
   "source": [
    "# Функция is_power_of_two()\n",
    "Реализуйте функцию is_power_of_two(), которая принимает один аргумент:\n",
    "\n",
    "n – целое положительное число (1 ≤n ≤10^6)\n",
    "Функция должна возвращать True, если n является степенью двойки и False в противном случае."
   ]
  },
  {
   "cell_type": "code",
   "execution_count": 39,
   "id": "652838ea-bed7-432b-b7c6-dfa94a92da8a",
   "metadata": {},
   "outputs": [
    {
     "name": "stdout",
     "output_type": "stream",
     "text": [
      "False\n"
     ]
    }
   ],
   "source": [
    "def is_power_of_two(n):\n",
    "    return not n & (n - 1)\n",
    "    \n",
    "print(is_power_of_two(65534))"
   ]
  }
 ],
 "metadata": {
  "kernelspec": {
   "display_name": "Python 3 (ipykernel)",
   "language": "python",
   "name": "python3"
  },
  "language_info": {
   "codemirror_mode": {
    "name": "ipython",
    "version": 3
   },
   "file_extension": ".py",
   "mimetype": "text/x-python",
   "name": "python",
   "nbconvert_exporter": "python",
   "pygments_lexer": "ipython3",
   "version": "3.10.12"
  }
 },
 "nbformat": 4,
 "nbformat_minor": 5
}
