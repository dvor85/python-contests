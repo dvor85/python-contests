{
 "cells": [
  {
   "cell_type": "markdown",
   "id": "8efabb10-f17f-49e4-850f-b1222d2d7d49",
   "metadata": {
    "editable": true,
    "slideshow": {
     "slide_type": ""
    },
    "tags": []
   },
   "source": [
    "# Merge sorted arrays\n",
    "You are given two integer arrays nums1 and nums2, sorted in non-decreasing order, and two integers m and n, representing the number of elements in nums1 and nums2 respectively.\n",
    "Merge nums1 and nums2 into a single array sorted in non-decreasing order. "
   ]
  },
  {
   "cell_type": "code",
   "execution_count": 38,
   "id": "80715944-f3ea-49d6-a5cf-a231aaa438d3",
   "metadata": {},
   "outputs": [
    {
     "name": "stdout",
     "output_type": "stream",
     "text": [
      "[2, 4, 5, 6, 6, 7, 9, 10]\n"
     ]
    }
   ],
   "source": [
    "class Solution:\n",
    "    def merge(self, nums1: list[int], m: int, nums2: list[int], n: int) -> None:\n",
    "        \"\"\"\n",
    "        Do not return anything, modify nums1 in-place instead.\n",
    "        \"\"\"\n",
    "        del nums1[m:]\n",
    "        i = 0\n",
    "        while len(nums1) > i and len(nums2) > 0:\n",
    "            while len(nums2) > 0 and nums1[i] >= nums2[0]:\n",
    "                nums1.insert(i, nums2.pop(0))\n",
    "            i += 1\n",
    "\n",
    "        nums1.extend(nums2)\n",
    "\n",
    "\n",
    "nums1 = [4, 6, 7, 0, 0, 0]\n",
    "Solution().merge(nums1, m=3, nums2=[2, 5, 6, 9, 10], n=3)\n",
    "print(nums1)"
   ]
  },
  {
   "cell_type": "markdown",
   "id": "9a08fe77-d968-4545-9918-9a35cdb9a0e4",
   "metadata": {},
   "source": [
    "# Remove elements\n",
    "\n",
    "Given an integer array nums and an integer val, remove all occurrences of val in nums in-place. The order of the elements may be changed. Then return the number of elements in nums which are not equal to val.\n",
    "\n",
    "Consider the number of elements in nums which are not equal to val be k, to get accepted, you need to do the following things:\n",
    "\n",
    "* Change the array nums such that the first k elements of nums contain the elements which are not equal to val. The remaining elements of nums are not important as well as the size of nums.\n",
    "* Return k."
   ]
  },
  {
   "cell_type": "code",
   "execution_count": 46,
   "id": "5964418b-f8cd-4739-a859-694d362de7bc",
   "metadata": {},
   "outputs": [
    {
     "name": "stdout",
     "output_type": "stream",
     "text": [
      "[0, 1, 3, 0, 4]\n"
     ]
    }
   ],
   "source": [
    "class Solution:\n",
    "    def removeElement(self, nums: list[int], val: int) -> int:\n",
    "        i = 0\n",
    "        while i < len(nums):\n",
    "            if nums[i] == val:\n",
    "                del nums[i]\n",
    "            else:\n",
    "                i += 1\n",
    "        return len(nums)\n",
    "\n",
    "\n",
    "nums = [0, 1, 2, 2, 3, 0, 4, 2]\n",
    "Solution().removeElement(nums, val=2)\n",
    "print(nums)"
   ]
  },
  {
   "cell_type": "markdown",
   "id": "a6291967-0a7b-4e02-9b28-07b3bdf95255",
   "metadata": {},
   "source": [
    "# Remove duplicates from sorted array\n",
    "Given an integer array nums sorted in non-decreasing order, remove the duplicates in-place such that each unique element appears only once. The relative order of the elements should be kept the same. Then return the number of unique elements in nums.\n"
   ]
  },
  {
   "cell_type": "code",
   "execution_count": 92,
   "id": "9e148d76-551a-4ed1-898d-21de433652fa",
   "metadata": {},
   "outputs": [
    {
     "name": "stdout",
     "output_type": "stream",
     "text": [
      "5, [0, 1, 2, 3, 4, 2, 2, 3, 3, 4]\n"
     ]
    }
   ],
   "source": [
    "class Solution:\n",
    "    def removeDuplicates(self, nums: list[int]) -> int:\n",
    "        index = 1\n",
    "        for i in range(1, len(nums)):\n",
    "            if nums[i] != nums[i-1]:\n",
    "                nums[index] = nums[i]\n",
    "                index += 1\n",
    "\n",
    "        return index\n",
    "\n",
    "\n",
    "nums = [0, 0, 1, 1, 1, 2, 2, 3, 3, 4]\n",
    "print(Solution().removeDuplicates(nums), nums, sep=', ')"
   ]
  },
  {
   "cell_type": "markdown",
   "id": "8c6e2841-8db5-4a30-bad3-8c59d8fc1ba1",
   "metadata": {},
   "source": [
    "# Word Subsets\n",
    "You are given two string arrays words1 and words2.\n",
    "\n",
    "A string b is a subset of string a if every letter in b occurs in a including multiplicity.\n",
    "\n",
    "For example, \"wrr\" is a subset of \"warrior\" but is not a subset of \"world\".\n",
    "A string a from words1 is universal if for every string b in words2, b is a subset of a.\n",
    "\n",
    "Return an array of all the universal strings in words1. You may return the answer in any order."
   ]
  },
  {
   "cell_type": "code",
   "execution_count": 22,
   "id": "1b1e2489-c918-4864-80d6-b4080168daec",
   "metadata": {},
   "outputs": [
    {
     "name": "stdout",
     "output_type": "stream",
     "text": [
      "['facebook', 'google', 'leetcode']\n",
      "['apple', 'google', 'leetcode']\n",
      "['google', 'leetcode']\n"
     ]
    }
   ],
   "source": [
    "from collections import defaultdict\n",
    "class Solution:\n",
    "    def wordSubsets(self, words1: list[str], words2: list[str]) -> list[str]:\n",
    "        cb = defaultdict(int)\n",
    "        ca = defaultdict(int)\n",
    "        for b in words2:\n",
    "            cb.clear()\n",
    "            for i in b:\n",
    "                cb[i] += 1\n",
    "            for i, c in cb.items():\n",
    "                words1 = [a for a in words1 if a.count(i) >= c]\n",
    "        return words1\n",
    "\n",
    "\n",
    "print(Solution().wordSubsets([\"amazon\", \"apple\", \"facebook\", \"google\", \"leetcode\"], [\"e\", \"o\"]))\n",
    "print(Solution().wordSubsets([\"amazon\", \"apple\", \"facebook\", \"google\", \"leetcode\"], [\"l\", \"e\"]))\n",
    "print(Solution().wordSubsets([\"amazon\", \"apple\", \"facebook\", \"google\", \"leetcode\"], [\"lo\", \"eo\"]))"
   ]
  },
  {
   "cell_type": "code",
   "execution_count": 18,
   "id": "b34a8e3b-04ce-41fd-9146-b688fb087270",
   "metadata": {},
   "outputs": [
    {
     "name": "stdout",
     "output_type": "stream",
     "text": [
      "['google', 'facebook', 'leetcode']\n",
      "['google', 'apple', 'leetcode']\n",
      "['google', 'leetcode']\n"
     ]
    }
   ],
   "source": [
    "from collections import defaultdict\n",
    "class Solution:\n",
    "    def wordSubsets(self, words1: list[str], words2: list[str]) -> list[str]:\n",
    "        cb = defaultdict(int)\n",
    "        res = set(words1)\n",
    "        for b in words2:\n",
    "            cb.clear()\n",
    "            for i in b:\n",
    "                cb[i] += 1\n",
    "            for i, c in cb.items():\n",
    "                for a in res.copy():\n",
    "                    if a.count(i) < c:\n",
    "                        res.remove(a)\n",
    "                        continue\n",
    "        return list(res)\n",
    "\n",
    "\n",
    "print(Solution().wordSubsets([\"amazon\", \"apple\", \"facebook\", \"google\", \"leetcode\"], [\"e\", \"o\"]))\n",
    "print(Solution().wordSubsets([\"amazon\", \"apple\", \"facebook\", \"google\", \"leetcode\"], [\"l\", \"e\"]))\n",
    "print(Solution().wordSubsets([\"amazon\", \"apple\", \"facebook\", \"google\", \"leetcode\"], [\"lo\", \"eo\"]))"
   ]
  },
  {
   "cell_type": "code",
   "execution_count": null,
   "id": "d2ea488b-7ed4-4748-8dd6-4f1d00fcc613",
   "metadata": {},
   "outputs": [],
   "source": []
  },
  {
   "cell_type": "code",
   "execution_count": null,
   "id": "bc83069e-de6f-4e08-9d9d-6257d0f5f90d",
   "metadata": {},
   "outputs": [],
   "source": []
  },
  {
   "cell_type": "code",
   "execution_count": null,
   "id": "382e4468-d564-4046-b161-a057945820ca",
   "metadata": {},
   "outputs": [],
   "source": []
  }
 ],
 "metadata": {
  "kernelspec": {
   "display_name": "Python 3 (ipykernel)",
   "language": "python",
   "name": "python3"
  },
  "language_info": {
   "codemirror_mode": {
    "name": "ipython",
    "version": 3
   },
   "file_extension": ".py",
   "mimetype": "text/x-python",
   "name": "python",
   "nbconvert_exporter": "python",
   "pygments_lexer": "ipython3",
   "version": "3.12.3"
  },
  "widgets": {
   "application/vnd.jupyter.widget-state+json": {
    "state": {},
    "version_major": 2,
    "version_minor": 0
   }
  }
 },
 "nbformat": 4,
 "nbformat_minor": 5
}
