{
 "cells": [
  {
   "cell_type": "markdown",
   "id": "26cac181-f4ae-4bed-a8e6-af5ff2c91875",
   "metadata": {},
   "source": [
    "# 1.1 Pandas"
   ]
  },
  {
   "cell_type": "markdown",
   "id": "304f13f9-7438-4e52-bdcd-51a9faeb5e0e",
   "metadata": {},
   "source": [
    "## Создайте pandas.Series из листа lst."
   ]
  },
  {
   "cell_type": "code",
   "execution_count": 1,
   "id": "bc0a9d45-fd83-4589-aab2-5c18241ca60b",
   "metadata": {},
   "outputs": [
    {
     "data": {
      "text/plain": [
       "0    z\n",
       "1    y\n",
       "2    x\n",
       "3    w\n",
       "4    v\n",
       "5    u\n",
       "6    t\n",
       "7    s\n",
       "8    r\n",
       "dtype: object"
      ]
     },
     "execution_count": 1,
     "metadata": {},
     "output_type": "execute_result"
    }
   ],
   "source": [
    "import pandas as pd\n",
    "lst = list('zyxwvutsr')\n",
    "ser = pd.Series(lst)\n",
    "ser"
   ]
  },
  {
   "cell_type": "markdown",
   "id": "23299000-ea39-4535-bec9-dafdbb1fa03d",
   "metadata": {},
   "source": [
    "## На основе листа lst и массива arr сформируйте словарь и cоздайте pandas.Series из получившегося словаря."
   ]
  },
  {
   "cell_type": "code",
   "execution_count": 2,
   "id": "0dccc7ca-e79e-48a4-98a2-d84167ac2259",
   "metadata": {},
   "outputs": [
    {
     "data": {
      "text/plain": [
       "a    0\n",
       "b    1\n",
       "c    2\n",
       "e    3\n",
       "d    4\n",
       "dtype: int64"
      ]
     },
     "execution_count": 2,
     "metadata": {},
     "output_type": "execute_result"
    }
   ],
   "source": [
    "import numpy as np\n",
    "import pandas as pd\n",
    "\n",
    "lst = list('abced')\n",
    "arr = np.arange(5)\n",
    "pd.Series(arr, index=lst)"
   ]
  },
  {
   "cell_type": "markdown",
   "id": "9e31acd4-40b0-4621-9ba8-0daf8fe8f001",
   "metadata": {},
   "source": [
    "## На вход функции solution подается серия ser. Преобразуйте ее в pandas.DataFrame таким образом, чтобы индекс стал отдельной колонкой датафрейма:"
   ]
  },
  {
   "cell_type": "code",
   "execution_count": 3,
   "id": "c33a25bc-6238-4585-8258-4d0443e18cf8",
   "metadata": {},
   "outputs": [
    {
     "data": {
      "text/html": [
       "<div>\n",
       "<style scoped>\n",
       "    .dataframe tbody tr th:only-of-type {\n",
       "        vertical-align: middle;\n",
       "    }\n",
       "\n",
       "    .dataframe tbody tr th {\n",
       "        vertical-align: top;\n",
       "    }\n",
       "\n",
       "    .dataframe thead th {\n",
       "        text-align: right;\n",
       "    }\n",
       "</style>\n",
       "<table border=\"1\" class=\"dataframe\">\n",
       "  <thead>\n",
       "    <tr style=\"text-align: right;\">\n",
       "      <th></th>\n",
       "      <th>index</th>\n",
       "      <th>0</th>\n",
       "    </tr>\n",
       "  </thead>\n",
       "  <tbody>\n",
       "    <tr>\n",
       "      <th>0</th>\n",
       "      <td>a</td>\n",
       "      <td>0</td>\n",
       "    </tr>\n",
       "    <tr>\n",
       "      <th>1</th>\n",
       "      <td>b</td>\n",
       "      <td>1</td>\n",
       "    </tr>\n",
       "    <tr>\n",
       "      <th>2</th>\n",
       "      <td>c</td>\n",
       "      <td>2</td>\n",
       "    </tr>\n",
       "    <tr>\n",
       "      <th>3</th>\n",
       "      <td>d</td>\n",
       "      <td>3</td>\n",
       "    </tr>\n",
       "  </tbody>\n",
       "</table>\n",
       "</div>"
      ],
      "text/plain": [
       "  index  0\n",
       "0     a  0\n",
       "1     b  1\n",
       "2     c  2\n",
       "3     d  3"
      ]
     },
     "execution_count": 3,
     "metadata": {},
     "output_type": "execute_result"
    }
   ],
   "source": [
    "import pandas as pd\n",
    "import numpy as np\n",
    "\n",
    "def solution(ser):\n",
    "    result = ser.reset_index()\n",
    "    return result\n",
    "\n",
    "\n",
    "ser = pd.Series([0, 1, 2, 3], index=list('abcd'))\n",
    "solution(ser)"
   ]
  },
  {
   "cell_type": "markdown",
   "id": "586badcf-9129-48dc-95c0-10cb7e8c1509",
   "metadata": {},
   "source": [
    "## Объедините два pandas.Series (s1, s2) таким образом чтобы получился pandas.DataFrame не используя конструктор!"
   ]
  },
  {
   "cell_type": "code",
   "execution_count": 4,
   "id": "54dcce00-f515-4620-b02c-a2fa8d7d39c6",
   "metadata": {},
   "outputs": [
    {
     "data": {
      "text/html": [
       "<div>\n",
       "<style scoped>\n",
       "    .dataframe tbody tr th:only-of-type {\n",
       "        vertical-align: middle;\n",
       "    }\n",
       "\n",
       "    .dataframe tbody tr th {\n",
       "        vertical-align: top;\n",
       "    }\n",
       "\n",
       "    .dataframe thead th {\n",
       "        text-align: right;\n",
       "    }\n",
       "</style>\n",
       "<table border=\"1\" class=\"dataframe\">\n",
       "  <thead>\n",
       "    <tr style=\"text-align: right;\">\n",
       "      <th></th>\n",
       "      <th>0</th>\n",
       "      <th>1</th>\n",
       "    </tr>\n",
       "  </thead>\n",
       "  <tbody>\n",
       "    <tr>\n",
       "      <th>0</th>\n",
       "      <td>a</td>\n",
       "      <td>0</td>\n",
       "    </tr>\n",
       "    <tr>\n",
       "      <th>1</th>\n",
       "      <td>b</td>\n",
       "      <td>1</td>\n",
       "    </tr>\n",
       "    <tr>\n",
       "      <th>2</th>\n",
       "      <td>c</td>\n",
       "      <td>2</td>\n",
       "    </tr>\n",
       "    <tr>\n",
       "      <th>3</th>\n",
       "      <td>e</td>\n",
       "      <td>3</td>\n",
       "    </tr>\n",
       "    <tr>\n",
       "      <th>4</th>\n",
       "      <td>d</td>\n",
       "      <td>4</td>\n",
       "    </tr>\n",
       "  </tbody>\n",
       "</table>\n",
       "</div>"
      ],
      "text/plain": [
       "   0  1\n",
       "0  a  0\n",
       "1  b  1\n",
       "2  c  2\n",
       "3  e  3\n",
       "4  d  4"
      ]
     },
     "execution_count": 4,
     "metadata": {},
     "output_type": "execute_result"
    }
   ],
   "source": [
    "import numpy as np\n",
    "import pandas as pd\n",
    "\n",
    "s1 = pd.Series(list('abced'))\n",
    "s2 = pd.Series(np.arange(5))\n",
    "\n",
    "pd.concat([s1, s2], axis=1)"
   ]
  },
  {
   "cell_type": "markdown",
   "id": "fae48b41-37eb-4b9e-a693-320fff5dfa77",
   "metadata": {},
   "source": [
    "## Объедините два pandas.Series (переменные s1, s2) таким образом чтобы получился pandas.DataFrame.Теперь используйте конструктор DataFrame."
   ]
  },
  {
   "cell_type": "code",
   "execution_count": 5,
   "id": "a1245acc-e53b-4bde-a75f-92eb555c55cb",
   "metadata": {},
   "outputs": [
    {
     "data": {
      "text/html": [
       "<div>\n",
       "<style scoped>\n",
       "    .dataframe tbody tr th:only-of-type {\n",
       "        vertical-align: middle;\n",
       "    }\n",
       "\n",
       "    .dataframe tbody tr th {\n",
       "        vertical-align: top;\n",
       "    }\n",
       "\n",
       "    .dataframe thead th {\n",
       "        text-align: right;\n",
       "    }\n",
       "</style>\n",
       "<table border=\"1\" class=\"dataframe\">\n",
       "  <thead>\n",
       "    <tr style=\"text-align: right;\">\n",
       "      <th></th>\n",
       "      <th>col1</th>\n",
       "      <th>col2</th>\n",
       "    </tr>\n",
       "  </thead>\n",
       "  <tbody>\n",
       "    <tr>\n",
       "      <th>0</th>\n",
       "      <td>a</td>\n",
       "      <td>0</td>\n",
       "    </tr>\n",
       "    <tr>\n",
       "      <th>1</th>\n",
       "      <td>b</td>\n",
       "      <td>1</td>\n",
       "    </tr>\n",
       "    <tr>\n",
       "      <th>2</th>\n",
       "      <td>c</td>\n",
       "      <td>2</td>\n",
       "    </tr>\n",
       "    <tr>\n",
       "      <th>3</th>\n",
       "      <td>e</td>\n",
       "      <td>3</td>\n",
       "    </tr>\n",
       "    <tr>\n",
       "      <th>4</th>\n",
       "      <td>d</td>\n",
       "      <td>4</td>\n",
       "    </tr>\n",
       "  </tbody>\n",
       "</table>\n",
       "</div>"
      ],
      "text/plain": [
       "  col1  col2\n",
       "0    a     0\n",
       "1    b     1\n",
       "2    c     2\n",
       "3    e     3\n",
       "4    d     4"
      ]
     },
     "execution_count": 5,
     "metadata": {},
     "output_type": "execute_result"
    }
   ],
   "source": [
    "import pandas as pd\n",
    "import numpy as np\n",
    "\n",
    "def solution():\n",
    "    s1 = pd.Series(list('abced'))\n",
    "    s2 = pd.Series(np.arange(5))\n",
    "    result = pd.DataFrame(list(zip(s1, s2)), columns=['col1', 'col2'])\n",
    "    return result\n",
    "\n",
    "\n",
    "solution()"
   ]
  },
  {
   "cell_type": "markdown",
   "id": "ef1f66d8-3faf-4545-8dc6-69b9b6b1b328",
   "metadata": {},
   "source": [
    "## Присвойте индексу pandas.Series имя 'characters':"
   ]
  },
  {
   "cell_type": "code",
   "execution_count": 6,
   "id": "f3ebdd5e-6db1-46ed-87a5-6896c18eb24c",
   "metadata": {},
   "outputs": [
    {
     "data": {
      "text/plain": [
       "0    a\n",
       "1    b\n",
       "2    c\n",
       "3    e\n",
       "4    d\n",
       "Name: characters, dtype: object"
      ]
     },
     "execution_count": 6,
     "metadata": {},
     "output_type": "execute_result"
    }
   ],
   "source": [
    "import pandas as pd\n",
    "import numpy as np\n",
    "\n",
    "def solution():\n",
    "    return pd.Series(list('abced'), name='characters')\n",
    "\n",
    "\n",
    "solution()"
   ]
  },
  {
   "cell_type": "markdown",
   "id": "ef28bb7e-db08-4eb1-8471-720431ec2de6",
   "metadata": {},
   "source": [
    "## Получите элементы s1, которые не присутствуют в s2. Функция должна вернуть серию."
   ]
  },
  {
   "cell_type": "code",
   "execution_count": 7,
   "id": "1d007250-6c71-4396-ae87-ba292e5713b1",
   "metadata": {},
   "outputs": [
    {
     "data": {
      "text/plain": [
       "0    1\n",
       "1    2\n",
       "2    3\n",
       "dtype: int64"
      ]
     },
     "execution_count": 7,
     "metadata": {},
     "output_type": "execute_result"
    }
   ],
   "source": [
    "import pandas as pd\n",
    "\n",
    "s1 = pd.Series([1, 2, 3, 4, 5])\n",
    "s2 = pd.Series([4, 5, 6, 7, 8])\n",
    "\n",
    "s1[~s1.isin(s2)]"
   ]
  },
  {
   "cell_type": "markdown",
   "id": "b4757895-dd15-4f6a-88ce-09a835cf79e3",
   "metadata": {},
   "source": [
    "## Создайте новый pandas.Series из элементов, которые присутствуют только в одном из двух pandas.Series (переменные s1, s2). Если элемент присутствует в двух Series, то включать его не надо."
   ]
  },
  {
   "cell_type": "code",
   "execution_count": 8,
   "id": "f1313066-0727-4245-b80c-a6fb3e18fb9d",
   "metadata": {},
   "outputs": [
    {
     "data": {
      "text/plain": [
       "0    1\n",
       "1    2\n",
       "2    3\n",
       "5    6\n",
       "6    7\n",
       "7    8\n",
       "dtype: int64"
      ]
     },
     "execution_count": 8,
     "metadata": {},
     "output_type": "execute_result"
    }
   ],
   "source": [
    "import pandas as pd\n",
    "import numpy as np\n",
    "\n",
    "s1 = pd.Series([1, 2, 3, 4, 5])\n",
    "s2 = pd.Series([4, 5, 6, 7, 8])\n",
    "\n",
    "res = pd.Series(np.union1d(s1, s2))\n",
    "s12 = pd.Series(np.intersect1d(s1, s2))\n",
    "res[~res.isin(s12)]"
   ]
  },
  {
   "cell_type": "markdown",
   "id": "f31b4432-19c0-44bd-ba04-bba2842e88fe",
   "metadata": {},
   "source": [
    "## На вход функции solution подаются данные в pandas.Series (переменная ser) рассчитайте:\n",
    "\n",
    "* наименьшее значение\n",
    "* 25 перцентиль\n",
    "* медиану\n",
    "* 75 перцентиль\n",
    "* наибольшее значение\n",
    "\n",
    "Все значения должны быть упакованы в серию."
   ]
  },
  {
   "cell_type": "code",
   "execution_count": 10,
   "id": "975479b5-8c25-4bc4-a689-747a855175b4",
   "metadata": {},
   "outputs": [
    {
     "name": "stdout",
     "output_type": "stream",
     "text": [
      "[ 1.822353    5.61547186  9.83484325 10.91521602 16.24734871]\n"
     ]
    }
   ],
   "source": [
    "import pandas as pd\n",
    "import numpy as np\n",
    "\n",
    "lst = [12.53904795, 5.68886327, 16.24734871, 9.60194377, 5.55134259,\n",
    "       5.59100805, 10.09319475, 11.18922311, 10.06774274, 1.822353]\n",
    "\n",
    "s1 = pd.Series(lst)\n",
    "res = np.percentile(s1, [0, 25, 50, 75, 100])\n",
    "print(res)"
   ]
  },
  {
   "cell_type": "markdown",
   "id": "dc7cc6b7-2d7d-4be3-8da6-bcc6fdacc9ed",
   "metadata": {},
   "source": [
    "## Определите сколько раз встречается каждое значение в исходном pandas.Series (переменная s). Функция должна вернуть серию с подсчитанным количеством каждого символа."
   ]
  },
  {
   "cell_type": "code",
   "execution_count": 11,
   "id": "d7a812cb-da47-41c6-9aa3-ed8a29212c7e",
   "metadata": {},
   "outputs": [
    {
     "data": {
      "text/plain": [
       "a    8\n",
       "b    7\n",
       "c    6\n",
       "e    5\n",
       "d    4\n",
       "h    3\n",
       "f    2\n",
       "g    1\n",
       "Name: count, dtype: int64"
      ]
     },
     "execution_count": 11,
     "metadata": {},
     "output_type": "execute_result"
    }
   ],
   "source": [
    "import pandas as pd\n",
    "\n",
    "s = pd.Series(list('abdcbdhafceeabcahbcaedadaecbbbecafgh'))\n",
    "s.value_counts()"
   ]
  },
  {
   "cell_type": "markdown",
   "id": "2f74c81e-80b3-42c0-9eb8-d978f4c4c0e5",
   "metadata": {},
   "source": [
    "# 1.2 Продолжаем прокачивать Pandas. Если ты еще не сбежал с первой тренировки и готов продолжать, тогда поехали :)"
   ]
  },
  {
   "cell_type": "markdown",
   "id": "7fde3c2c-cc05-4a39-b684-a56204e649b3",
   "metadata": {},
   "source": [
    "## Доработайте код таким образом, чтобы оставить только 2 наиболее встречающихся значения, а для остальных установите значение 'Yet another value'."
   ]
  },
  {
   "cell_type": "code",
   "execution_count": 188,
   "id": "7667d4ed-bc7f-44b3-b275-e088d6143621",
   "metadata": {},
   "outputs": [
    {
     "data": {
      "text/plain": [
       "0                     a\n",
       "1                     b\n",
       "2     Yet another value\n",
       "3     Yet another value\n",
       "4                     b\n",
       "5     Yet another value\n",
       "6     Yet another value\n",
       "7                     a\n",
       "8     Yet another value\n",
       "9     Yet another value\n",
       "10    Yet another value\n",
       "11    Yet another value\n",
       "12                    a\n",
       "13                    b\n",
       "14    Yet another value\n",
       "15                    a\n",
       "16    Yet another value\n",
       "17                    b\n",
       "18    Yet another value\n",
       "19                    a\n",
       "20    Yet another value\n",
       "21    Yet another value\n",
       "22                    a\n",
       "23    Yet another value\n",
       "24                    a\n",
       "25    Yet another value\n",
       "26    Yet another value\n",
       "27                    b\n",
       "28                    b\n",
       "29                    b\n",
       "30    Yet another value\n",
       "31    Yet another value\n",
       "32                    a\n",
       "33    Yet another value\n",
       "34    Yet another value\n",
       "35    Yet another value\n",
       "dtype: object"
      ]
     },
     "execution_count": 188,
     "metadata": {},
     "output_type": "execute_result"
    }
   ],
   "source": [
    "import pandas as pd\n",
    "\n",
    "s = pd.Series(list('abdcbdhafceeabcahbcaedadaecbbbecafgh'))\n",
    "r = s.value_counts().head(2)\n",
    "\n",
    "for i, v in s.items():\n",
    "    if not v in r:\n",
    "        s[i] = 'Yet another value'\n",
    "\n",
    "s"
   ]
  },
  {
   "cell_type": "markdown",
   "id": "7cbc6ae8-27d3-4034-a686-1c2c58e042e9",
   "metadata": {},
   "source": [
    "## Разбейте все значения из pandas.Series (переменная s1) на 3 интервала равного размера. Функция должна вернуть серию."
   ]
  },
  {
   "cell_type": "code",
   "execution_count": 187,
   "id": "ec533445-1409-41a9-a464-0096e116a73e",
   "metadata": {},
   "outputs": [
    {
     "data": {
      "text/plain": [
       "0       (6.0, 9.0]\n",
       "1       (6.0, 9.0]\n",
       "2       (6.0, 9.0]\n",
       "3       (6.0, 9.0]\n",
       "4       (3.0, 6.0]\n",
       "5       (3.0, 6.0]\n",
       "6       (3.0, 6.0]\n",
       "7    (-0.001, 3.0]\n",
       "8    (-0.001, 3.0]\n",
       "9    (-0.001, 3.0]\n",
       "dtype: category\n",
       "Categories (3, interval[float64, right]): [(-0.001, 3.0] < (3.0, 6.0] < (6.0, 9.0]]"
      ]
     },
     "execution_count": 187,
     "metadata": {},
     "output_type": "execute_result"
    }
   ],
   "source": [
    "import pandas as pd\n",
    "\n",
    "s1 = pd.Series(reversed(range(0, 10)))\n",
    "pd.qcut(s1, 3)"
   ]
  },
  {
   "cell_type": "markdown",
   "id": "248aa0df-cd1c-4798-b094-47870a130fbf",
   "metadata": {},
   "source": [
    "## Преобразуйте pandas.Series (переменная s1) в pandas.DataFrame размером 2 х 5."
   ]
  },
  {
   "cell_type": "code",
   "execution_count": 186,
   "id": "7d234577-6c66-4a3e-8f0c-41c9a242fd41",
   "metadata": {},
   "outputs": [
    {
     "data": {
      "text/html": [
       "<div>\n",
       "<style scoped>\n",
       "    .dataframe tbody tr th:only-of-type {\n",
       "        vertical-align: middle;\n",
       "    }\n",
       "\n",
       "    .dataframe tbody tr th {\n",
       "        vertical-align: top;\n",
       "    }\n",
       "\n",
       "    .dataframe thead th {\n",
       "        text-align: right;\n",
       "    }\n",
       "</style>\n",
       "<table border=\"1\" class=\"dataframe\">\n",
       "  <thead>\n",
       "    <tr style=\"text-align: right;\">\n",
       "      <th></th>\n",
       "      <th>0</th>\n",
       "      <th>1</th>\n",
       "      <th>2</th>\n",
       "      <th>3</th>\n",
       "      <th>4</th>\n",
       "    </tr>\n",
       "  </thead>\n",
       "  <tbody>\n",
       "    <tr>\n",
       "      <th>0</th>\n",
       "      <td>0</td>\n",
       "      <td>1</td>\n",
       "      <td>2</td>\n",
       "      <td>3</td>\n",
       "      <td>4</td>\n",
       "    </tr>\n",
       "    <tr>\n",
       "      <th>1</th>\n",
       "      <td>5</td>\n",
       "      <td>6</td>\n",
       "      <td>7</td>\n",
       "      <td>8</td>\n",
       "      <td>9</td>\n",
       "    </tr>\n",
       "  </tbody>\n",
       "</table>\n",
       "</div>"
      ],
      "text/plain": [
       "   0  1  2  3  4\n",
       "0  0  1  2  3  4\n",
       "1  5  6  7  8  9"
      ]
     },
     "execution_count": 186,
     "metadata": {},
     "output_type": "execute_result"
    }
   ],
   "source": [
    "import pandas as pd\n",
    "import numpy as np\n",
    "\n",
    "s1 = pd.Series(range(0, 10))\n",
    "pd.DataFrame(np.array(s1).reshape(2, 5))"
   ]
  },
  {
   "cell_type": "markdown",
   "id": "fbe1e92f-a66e-4b7f-a7c2-aa92e65661d0",
   "metadata": {},
   "source": [
    "## Найдите индексы значений, которые кратны 2. Функция solution должна вернуть numpy массив:"
   ]
  },
  {
   "cell_type": "code",
   "execution_count": 22,
   "id": "e4e4be1e-7ae8-4b06-9ae0-c15dca6053b5",
   "metadata": {},
   "outputs": [
    {
     "data": {
      "text/plain": [
       "array([[1],\n",
       "       [2],\n",
       "       [5]])"
      ]
     },
     "execution_count": 22,
     "metadata": {},
     "output_type": "execute_result"
    }
   ],
   "source": [
    "import pandas as pd\n",
    "import numpy as np\n",
    "\n",
    "s1 = pd.Series([5, 10, 2, 3, 9, 12, 1])\n",
    "np.argwhere(s1.to_numpy() % 2 == 0)"
   ]
  },
  {
   "cell_type": "markdown",
   "id": "a5d0a2e0-44fc-48af-a216-5e2384e3b844",
   "metadata": {},
   "source": [
    "## Создайте новый pandas.Series из элементов, которые находятся по индексам: 0, 7, 12, 15, 19. "
   ]
  },
  {
   "cell_type": "code",
   "execution_count": 182,
   "id": "526f0c09-4ddc-4bed-aaf5-f6e1cd1918f7",
   "metadata": {},
   "outputs": [
    {
     "data": {
      "text/plain": [
       "0     a\n",
       "7     h\n",
       "12    m\n",
       "15    p\n",
       "19    t\n",
       "dtype: object"
      ]
     },
     "execution_count": 182,
     "metadata": {},
     "output_type": "execute_result"
    }
   ],
   "source": [
    "import pandas as pd\n",
    "\n",
    "s1 = pd.Series(list('abcdefghijklmnopqrstuvwxyz'))\n",
    "\n",
    "s1.take([0, 7, 12, 15, 19])"
   ]
  },
  {
   "cell_type": "markdown",
   "id": "d3ac6531-40c4-4002-a420-b76532f2a3cf",
   "metadata": {},
   "source": [
    "## Преобразуйте элементы pandas.Series (переменная s1) из строк в даты. Функция solutionдолжна вернуть серию.\n",
    "\n"
   ]
  },
  {
   "cell_type": "code",
   "execution_count": 183,
   "id": "5dd1f3c5-65d4-490f-ad8d-f0682318a3e1",
   "metadata": {},
   "outputs": [
    {
     "data": {
      "text/plain": [
       "0   2022-01-01 00:00:00\n",
       "1   2022-02-02 00:00:00\n",
       "2   2022-03-03 00:00:00\n",
       "3   2022-04-04 00:00:00\n",
       "4   2022-05-05 00:00:00\n",
       "5   2022-06-06 12:20:00\n",
       "dtype: datetime64[ns]"
      ]
     },
     "execution_count": 183,
     "metadata": {},
     "output_type": "execute_result"
    }
   ],
   "source": [
    "import pandas as pd\n",
    "\n",
    "s1 = pd.Series(['01 Jan 2022', '02-02-2022', '20220303', '2022/04/04', '2022-05-05', '2022-06-06T12:20'])\n",
    "pd.to_datetime(s1, format='mixed')"
   ]
  },
  {
   "cell_type": "markdown",
   "id": "f964b747-979a-45b7-89fe-58e8df23b7c8",
   "metadata": {},
   "source": [
    "## Объект pandas.Series (переменная s1) содержит некоторые числовые значения. Для значений хранящихся в s2 определите индексы под которыми они хранятся  в s1. Функция должна вернуть список (python list):\n",
    "\n"
   ]
  },
  {
   "cell_type": "code",
   "execution_count": 28,
   "id": "848fd698-0fa9-4f68-bdd9-2e6058f1354d",
   "metadata": {},
   "outputs": [
    {
     "name": "stdout",
     "output_type": "stream",
     "text": [
      "[5, 4, 0, 8]\n"
     ]
    }
   ],
   "source": [
    "import pandas as pd\n",
    "\n",
    "s1 = pd.Series([10, 9, 6, 5, 3, 1, 12, 8, 13])\n",
    "s2 = pd.Series([1, 3, 10, 13])\n",
    "\n",
    "print(s1[s1.isin(s2)].sort_values().index.to_list())"
   ]
  },
  {
   "cell_type": "markdown",
   "id": "9463b9db-9684-4735-a2e4-a33a4f65bf12",
   "metadata": {},
   "source": [
    "## Даны следующие ряды данных:\n",
    "\n",
    "s_forecast - ряд прогнозных значений\n",
    "\n",
    "s_real - ряд фактических значений\n",
    "\n",
    " \n",
    "\n",
    "Вычислите среднеквадратичную ошибку.\n",
    "\n"
   ]
  },
  {
   "cell_type": "code",
   "execution_count": 29,
   "id": "60f5d05c-1edc-416e-96f0-16c1e52cab13",
   "metadata": {},
   "outputs": [
    {
     "name": "stdout",
     "output_type": "stream",
     "text": [
      "33.0\n"
     ]
    }
   ],
   "source": [
    "import pandas as pd\n",
    "\n",
    "s_forecast = pd.Series(range(10))\n",
    "s_real = pd.Series(reversed(range(10)))\n",
    "\n",
    "print(((s_forecast - s_real)**2).mean())"
   ]
  },
  {
   "cell_type": "markdown",
   "id": "2852d82f-bd9f-4636-8c5d-17de621f1060",
   "metadata": {},
   "source": [
    "## Измените первый символ каждого слова на верхний регистр."
   ]
  },
  {
   "cell_type": "code",
   "execution_count": 185,
   "id": "b469324d-8cf5-4284-8e58-0438c4f00209",
   "metadata": {},
   "outputs": [
    {
     "data": {
      "text/plain": [
       "0        The\n",
       "1    Weather\n",
       "2         Is\n",
       "3       Fine\n",
       "dtype: object"
      ]
     },
     "execution_count": 185,
     "metadata": {},
     "output_type": "execute_result"
    }
   ],
   "source": [
    "import pandas as pd\n",
    "s1 = pd.Series(['the', 'weather', 'is', 'fine'])\n",
    "\n",
    "s1.str.capitalize()"
   ]
  },
  {
   "cell_type": "markdown",
   "id": "2c779c06-37f1-4649-8f76-ec7635aa87e3",
   "metadata": {},
   "source": [
    "## Подсчитайте количество символов в каждом слове. Функция solution должна вернуть серию."
   ]
  },
  {
   "cell_type": "code",
   "execution_count": 31,
   "id": "c255071e-99fe-4e91-803e-b72b18a47e36",
   "metadata": {},
   "outputs": [
    {
     "name": "stdout",
     "output_type": "stream",
     "text": [
      "0    3\n",
      "1    7\n",
      "2    2\n",
      "3    4\n",
      "dtype: int64\n"
     ]
    }
   ],
   "source": [
    "import pandas as pd\n",
    "\n",
    "s1 = pd.Series(['the', 'weather', 'is', 'fine'])\n",
    "\n",
    "print(s1.str.len())"
   ]
  },
  {
   "cell_type": "markdown",
   "id": "6988e209-bf30-45e5-a2d5-e355c416f4fc",
   "metadata": {},
   "source": [
    "# 1.3"
   ]
  },
  {
   "cell_type": "markdown",
   "id": "7321e942-0c33-4d9c-acd9-8a2156f1784d",
   "metadata": {},
   "source": [
    "## Вытяните день месяца, номер недели, день года и день недели из серии (s1)"
   ]
  },
  {
   "cell_type": "code",
   "execution_count": 4,
   "id": "baa32758-225b-4b67-9600-82ee9a98e31d",
   "metadata": {},
   "outputs": [
    {
     "name": "stdout",
     "output_type": "stream",
     "text": [
      "Date:  [np.int32(5), np.int32(4), np.int32(3), np.int32(4), np.int32(5), np.int32(6)]\n",
      "Week number:  [np.uint32(1), np.uint32(5), np.uint32(13), np.uint32(22), np.uint32(9), np.uint32(9)]\n",
      "Day number of year:  [np.int32(5), np.int32(35), np.int32(93), np.int32(155), np.int32(64), np.int32(65)]\n",
      "Day of week:  ['Tuesday', 'Thursday', 'Saturday', 'Friday', 'Friday', 'Saturday']\n"
     ]
    }
   ],
   "source": [
    "import pandas as pd\n",
    "import numpy as np\n",
    "\n",
    "s1 = pd.Series(['05 Jan 2021', '02-04-2021', '20210403', '2021/06/04', '2021-03-05', '2021-03-06T12:20'])\n",
    "s1 = pd.to_datetime(s1, format=\"mixed\")\n",
    "print(f\"Date:  {list(s1.dt.day.values)}\")\n",
    "print(f'Week number:  {list(s1.dt.isocalendar().week.values)}')\n",
    "print(f'Day number of year:  {list(s1.dt.dayofyear.values)}')\n",
    "print(f'Day of week:  {list(s1.dt.day_name().values)}')"
   ]
  },
  {
   "cell_type": "markdown",
   "id": "323f89f1-406f-4790-8bb3-836c3aaff197",
   "metadata": {},
   "source": [
    "## Измените даты лежащие в серии (s1) таким образом чтобы они начинались с 10-го числа соответствующего месяца."
   ]
  },
  {
   "cell_type": "code",
   "execution_count": 6,
   "id": "b8ff0a43-1df5-4bad-9638-22f3581ee4e7",
   "metadata": {},
   "outputs": [
    {
     "name": "stdout",
     "output_type": "stream",
     "text": [
      "0   2022-01-10\n",
      "1   2022-02-10\n",
      "2   2022-03-10\n",
      "dtype: datetime64[ns]\n"
     ]
    }
   ],
   "source": [
    "import pandas as pd\n",
    "import numpy as np\n",
    "\n",
    "s1 = pd.Series(['Jan 2022', 'Feb 2022', 'Mar 2022'])\n",
    "\n",
    "s2 = pd.to_datetime(s1, format=\"mixed\")\n",
    "print(s2+pd.Timedelta(days=9))"
   ]
  },
  {
   "cell_type": "markdown",
   "id": "76c9d89d-841b-4f8d-b1ae-5dc08d9432d8",
   "metadata": {},
   "source": [
    "## Из серии (s1) вытяните слова, содержащие не менее 2 гласных."
   ]
  },
  {
   "cell_type": "code",
   "execution_count": 9,
   "id": "d57c70ea-eeb4-4950-880e-4c164e1c1cc7",
   "metadata": {},
   "outputs": [
    {
     "name": "stdout",
     "output_type": "stream",
     "text": [
      "0     Apple\n",
      "1    Orange\n",
      "4     Money\n",
      "dtype: object\n"
     ]
    }
   ],
   "source": [
    "import pandas as pd\n",
    "import numpy as np\n",
    "import re\n",
    "\n",
    "s1 = pd.Series(['Apple', 'Orange', 'Plan', 'Sky', 'Money'])\n",
    "print(s1[s1.str.count('[euioa]', flags=re.I) > 1])"
   ]
  },
  {
   "cell_type": "markdown",
   "id": "28d34c3c-f29e-4080-85f9-be4592dcd9d3",
   "metadata": {},
   "source": [
    "## Извлеките корректные почтовые адреса из серии (s1). Используйте pattern для этой задачи."
   ]
  },
  {
   "cell_type": "code",
   "execution_count": 20,
   "id": "199881d1-4710-45e1-bc42-ee8a0f5eef43",
   "metadata": {},
   "outputs": [
    {
     "name": "stdout",
     "output_type": "stream",
     "text": [
      "1          help@stepik.com\n",
      "2                user@t.co\n",
      "3    lovepandas@google.com\n",
      "dtype: object\n"
     ]
    }
   ],
   "source": [
    "import pandas as pd\n",
    "import numpy as np\n",
    "import re\n",
    "\n",
    "s1 = pd.Series(['teach pandas at stepik.com', 'help@stepik.com', 'user@t.co', 'lovepandas@google.com'])\n",
    "\n",
    "pattern = '[\\\\w_-]+@[\\\\w_-]+\\\\.[\\\\w]{2,4}'\n",
    "print(s1[s1.str.match(pattern, re.I)])"
   ]
  },
  {
   "cell_type": "markdown",
   "id": "98902f7c-c01c-4b25-8208-e77c96eac394",
   "metadata": {},
   "source": [
    "## Вычислите среднее значение веса каждого фрукта."
   ]
  },
  {
   "cell_type": "code",
   "execution_count": 21,
   "id": "0a3b6e9d-2f03-49bb-b33f-2339b2d0fc51",
   "metadata": {},
   "outputs": [
    {
     "name": "stdout",
     "output_type": "stream",
     "text": [
      "apple     6.0\n",
      "banana    4.0\n",
      "carrot    5.8\n",
      "dtype: float64\n"
     ]
    }
   ],
   "source": [
    "import pandas as pd\n",
    "import numpy as np\n",
    "\n",
    "fruit_list = ['banana', 'carrot', 'apple', 'carrot', 'carrot', 'apple', 'banana', 'carrot', 'apple', 'carrot']\n",
    "weights_list = [1.0, 2.0, 3.0, 4.0, 5.0, 6.0, 7.0, 8.0, 9.0, 10.0]\n",
    "\n",
    "fruits = pd.Series(fruit_list)\n",
    "weights = pd.Series(weights_list)\n",
    "print(weights.groupby(fruits).mean())"
   ]
  },
  {
   "cell_type": "markdown",
   "id": "d2ed5885-ea58-41e1-87db-7c87921c0564",
   "metadata": {},
   "source": [
    "## Вычислить евклидово расстояние между рядами (точками) X и Y"
   ]
  },
  {
   "cell_type": "code",
   "execution_count": 23,
   "id": "a0308ea8-30fd-48c9-9f0a-7241127aac88",
   "metadata": {},
   "outputs": [
    {
     "name": "stdout",
     "output_type": "stream",
     "text": [
      "18.16590212458495\n"
     ]
    }
   ],
   "source": [
    "import pandas as pd\n",
    "import numpy as np\n",
    "\n",
    "X = pd.Series([1, 2, 3, 4, 5, 6, 7, 8, 9, 10])\n",
    "Y = pd.Series([10, 9, 8, 7, 6, 5, 4, 3, 2, 1])\n",
    "\n",
    "\n",
    "print((sum((X-Y)**2)**0.5))"
   ]
  },
  {
   "cell_type": "markdown",
   "id": "ac456946-4c31-49c1-9336-32da027e0822",
   "metadata": {},
   "source": [
    "## В серии (s1) находятся даты с 1 по 8 января 2022 года. Однако некоторые даты и значения к датам пропущены. Сделайте так, чтобы все отсутствующие даты отображались и заполнялись значением из предыдущей даты."
   ]
  },
  {
   "cell_type": "code",
   "execution_count": 27,
   "id": "e61e072e-ff1b-4ed1-8dab-d5fd8d34da22",
   "metadata": {},
   "outputs": [
    {
     "data": {
      "text/plain": [
       "2022-01-01     1.0\n",
       "2022-01-02     1.0\n",
       "2022-01-03    10.0\n",
       "2022-01-04    10.0\n",
       "2022-01-05    10.0\n",
       "2022-01-06     3.0\n",
       "2022-01-07     3.0\n",
       "2022-01-08     3.0\n",
       "Freq: D, dtype: float64"
      ]
     },
     "execution_count": 27,
     "metadata": {},
     "output_type": "execute_result"
    }
   ],
   "source": [
    "import pandas as pd\n",
    "import numpy as np\n",
    "\n",
    "def solution():\n",
    "    s1 = pd.Series([1, 10, 3, np.nan], index=pd.to_datetime(['2022-01-01', '2022-01-03', '2022-01-06', '2022-01-08']))\n",
    "    s2 = pd.Series(s1, index=pd.date_range(\"2022-01-01\", periods=8, freq=\"D\"))\n",
    "    return s2.ffill()\n",
    "\n",
    "\n",
    "solution()"
   ]
  },
  {
   "cell_type": "markdown",
   "id": "f193e905-9aed-4026-9aac-f2172e56c12d",
   "metadata": {},
   "source": [
    "## Отредактируйте название колонок датафрейма (df) следующим образом:\n",
    "\n",
    "1. user -> user_name\n",
    "\n",
    "2. все точки в названии колонок заменить нижним подчёркиванием"
   ]
  },
  {
   "cell_type": "code",
   "execution_count": 33,
   "id": "72af06ac-ac9c-4a93-8e27-7824adc03b4c",
   "metadata": {},
   "outputs": [
    {
     "data": {
      "text/html": [
       "<div>\n",
       "<style scoped>\n",
       "    .dataframe tbody tr th:only-of-type {\n",
       "        vertical-align: middle;\n",
       "    }\n",
       "\n",
       "    .dataframe tbody tr th {\n",
       "        vertical-align: top;\n",
       "    }\n",
       "\n",
       "    .dataframe thead th {\n",
       "        text-align: right;\n",
       "    }\n",
       "</style>\n",
       "<table border=\"1\" class=\"dataframe\">\n",
       "  <thead>\n",
       "    <tr style=\"text-align: right;\">\n",
       "      <th></th>\n",
       "      <th>user_name</th>\n",
       "      <th>user_balance</th>\n",
       "      <th>user_age</th>\n",
       "      <th>user_group</th>\n",
       "    </tr>\n",
       "  </thead>\n",
       "  <tbody>\n",
       "    <tr>\n",
       "      <th>0</th>\n",
       "      <td>Ivan</td>\n",
       "      <td>500</td>\n",
       "      <td>34</td>\n",
       "      <td>A</td>\n",
       "    </tr>\n",
       "    <tr>\n",
       "      <th>1</th>\n",
       "      <td>Petr</td>\n",
       "      <td>200</td>\n",
       "      <td>25</td>\n",
       "      <td>B</td>\n",
       "    </tr>\n",
       "    <tr>\n",
       "      <th>2</th>\n",
       "      <td>Alex</td>\n",
       "      <td>0</td>\n",
       "      <td>18</td>\n",
       "      <td>A</td>\n",
       "    </tr>\n",
       "  </tbody>\n",
       "</table>\n",
       "</div>"
      ],
      "text/plain": [
       "  user_name  user_balance  user_age user_group\n",
       "0      Ivan           500        34          A\n",
       "1      Petr           200        25          B\n",
       "2      Alex             0        18          A"
      ]
     },
     "execution_count": 33,
     "metadata": {},
     "output_type": "execute_result"
    }
   ],
   "source": [
    "import pandas as pd\n",
    "import numpy as np\n",
    "\n",
    "def solution():\n",
    "    df = pd.DataFrame(data={'user': ['Ivan', 'Petr', 'Alex'], 'user.balance': [\n",
    "                      500, 200, 0], 'user.age': [34, 25, 18], 'user.group': ['A', 'B', 'A']})\n",
    "    df.rename(columns={'user': 'user_name'}, inplace=True)\n",
    "    df.rename(columns=lambda x: x.replace('.', '_'), inplace=True)\n",
    "\n",
    "    return df\n",
    "\n",
    "\n",
    "solution()"
   ]
  },
  {
   "cell_type": "markdown",
   "id": "6406c1be-6894-4bad-8966-3219e8d18065",
   "metadata": {},
   "source": [
    "## Проверьте, имеются ли пропущенные значения в датафрейме (df). Если в строке датафрейма есть хотя-бы одно пропущенное значение - верните True иначе False."
   ]
  },
  {
   "cell_type": "code",
   "execution_count": 35,
   "id": "1a4ff46b-2d11-45eb-88d6-74e669ae0455",
   "metadata": {},
   "outputs": [
    {
     "data": {
      "text/plain": [
       "0    False\n",
       "1     True\n",
       "2    False\n",
       "dtype: bool"
      ]
     },
     "execution_count": 35,
     "metadata": {},
     "output_type": "execute_result"
    }
   ],
   "source": [
    "import pandas as pd\n",
    "import numpy as np\n",
    "\n",
    "def solution():\n",
    "    df = pd.DataFrame(data={'user': ['Ivan', 'Petr', 'Alex'], 'user.balance': [\n",
    "                      500, None, 0], 'user.age': [34, 25, 18], 'user.group': ['A', 'B', 'A']})\n",
    "    result = df.isnull().any(axis=1)\n",
    "    return result\n",
    "\n",
    "\n",
    "solution()"
   ]
  },
  {
   "cell_type": "markdown",
   "id": "7aaf518a-f245-477c-9ae9-8bdf7bbaf67b",
   "metadata": {},
   "source": [
    "# 1.4"
   ]
  },
  {
   "cell_type": "markdown",
   "id": "f3c12d01-6ae2-4531-8e9a-2e138a6258e6",
   "metadata": {},
   "source": [
    "## Подсчитайте количество пропущенных значений в каждом столбце."
   ]
  },
  {
   "cell_type": "code",
   "execution_count": 37,
   "id": "8c8133eb-8c88-4946-9515-344f4ee788d9",
   "metadata": {},
   "outputs": [
    {
     "data": {
      "text/plain": [
       "user            0\n",
       "user.balance    2\n",
       "user.age        1\n",
       "user.group      0\n",
       "dtype: int64"
      ]
     },
     "execution_count": 37,
     "metadata": {},
     "output_type": "execute_result"
    }
   ],
   "source": [
    "import pandas as pd\n",
    "import numpy as np\n",
    "\n",
    "df = pd.DataFrame(data={'user': ['Ivan', 'Petr', 'Alex', 'Den'], 'user.balance': [\n",
    "                  500, None, 0, None], 'user.age': [34, None, 18, 43], 'user.group': ['A', 'B', 'A', 'B']})\n",
    "df.isna().sum()"
   ]
  },
  {
   "cell_type": "markdown",
   "id": "9f61423a-af12-4912-8662-7ec4e3918c11",
   "metadata": {},
   "source": [
    "## Замените отсутствующие значения в столбцах user.speed и user.bag_weight их соответствующими средними значениями."
   ]
  },
  {
   "cell_type": "code",
   "execution_count": 64,
   "id": "1322723e-9797-4eef-87c5-048093bda1dd",
   "metadata": {},
   "outputs": [
    {
     "name": "stdout",
     "output_type": "stream",
     "text": [
      "   user.speed  user.bag_weight\n",
      "0        40.0         8.000000\n",
      "1        39.0         4.666667\n",
      "2        42.0         2.000000\n",
      "3        35.0         4.000000\n"
     ]
    }
   ],
   "source": [
    "import pandas as pd\n",
    "import numpy as np\n",
    "\n",
    "df = pd.DataFrame(data={'user': ['Ivan', 'Petr', 'Alex', 'Den'], 'user.speed': [\n",
    "                  40, None, 42, 35], 'user.bag_weight': [8, None, 2, 4]})\n",
    "\n",
    "print(df[['user.speed', 'user.bag_weight']].apply(lambda x: x.fillna(x.mean()), axis=0))"
   ]
  },
  {
   "cell_type": "markdown",
   "id": "3f203435-3ea5-4a01-85b3-eed5dfc66944",
   "metadata": {},
   "source": [
    "## Используйте метод apply, чтобы заменить отсутствующие значения в user.speed средним значением столбца, а в user.bag_weight — медианой столбца."
   ]
  },
  {
   "cell_type": "code",
   "execution_count": 67,
   "id": "3d26cc3e-326d-4d5d-a138-2dd86dcf4293",
   "metadata": {},
   "outputs": [
    {
     "data": {
      "text/html": [
       "<div>\n",
       "<style scoped>\n",
       "    .dataframe tbody tr th:only-of-type {\n",
       "        vertical-align: middle;\n",
       "    }\n",
       "\n",
       "    .dataframe tbody tr th {\n",
       "        vertical-align: top;\n",
       "    }\n",
       "\n",
       "    .dataframe thead th {\n",
       "        text-align: right;\n",
       "    }\n",
       "</style>\n",
       "<table border=\"1\" class=\"dataframe\">\n",
       "  <thead>\n",
       "    <tr style=\"text-align: right;\">\n",
       "      <th></th>\n",
       "      <th>user</th>\n",
       "      <th>user.speed</th>\n",
       "      <th>user.bag_weight</th>\n",
       "    </tr>\n",
       "  </thead>\n",
       "  <tbody>\n",
       "    <tr>\n",
       "      <th>0</th>\n",
       "      <td>Ivan</td>\n",
       "      <td>40.0</td>\n",
       "      <td>8.0</td>\n",
       "    </tr>\n",
       "    <tr>\n",
       "      <th>1</th>\n",
       "      <td>Petr</td>\n",
       "      <td>39.0</td>\n",
       "      <td>4.0</td>\n",
       "    </tr>\n",
       "    <tr>\n",
       "      <th>2</th>\n",
       "      <td>Alex</td>\n",
       "      <td>42.0</td>\n",
       "      <td>2.0</td>\n",
       "    </tr>\n",
       "    <tr>\n",
       "      <th>3</th>\n",
       "      <td>Den</td>\n",
       "      <td>35.0</td>\n",
       "      <td>4.0</td>\n",
       "    </tr>\n",
       "  </tbody>\n",
       "</table>\n",
       "</div>"
      ],
      "text/plain": [
       "   user  user.speed  user.bag_weight\n",
       "0  Ivan        40.0              8.0\n",
       "1  Petr        39.0              4.0\n",
       "2  Alex        42.0              2.0\n",
       "3   Den        35.0              4.0"
      ]
     },
     "execution_count": 67,
     "metadata": {},
     "output_type": "execute_result"
    }
   ],
   "source": [
    "import pandas as pd\n",
    "import numpy as np\n",
    "\n",
    "df = pd.DataFrame(data={'user': ['Ivan', 'Petr', 'Alex', 'Den'], 'user.speed': [\n",
    "                  40, None, 42, 35], 'user.bag_weight': [8, None, 2, 4]})\n",
    "df[['user.speed', 'user.bag_weight']] = df.apply(\n",
    "    {'user.speed': lambda x: x.fillna(x.mean()), 'user.bag_weight': lambda x: x.fillna(x.median())})\n",
    "df"
   ]
  },
  {
   "cell_type": "markdown",
   "id": "e17737a0-506d-412e-947e-3370ffeda362",
   "metadata": {},
   "source": [
    "## Поменяйте столбцы А и Е местами в датафрейме:"
   ]
  },
  {
   "cell_type": "code",
   "execution_count": 71,
   "id": "bbc3e42d-0c31-4dac-9c7f-11b863470c2d",
   "metadata": {},
   "outputs": [
    {
     "data": {
      "text/html": [
       "<div>\n",
       "<style scoped>\n",
       "    .dataframe tbody tr th:only-of-type {\n",
       "        vertical-align: middle;\n",
       "    }\n",
       "\n",
       "    .dataframe tbody tr th {\n",
       "        vertical-align: top;\n",
       "    }\n",
       "\n",
       "    .dataframe thead th {\n",
       "        text-align: right;\n",
       "    }\n",
       "</style>\n",
       "<table border=\"1\" class=\"dataframe\">\n",
       "  <thead>\n",
       "    <tr style=\"text-align: right;\">\n",
       "      <th></th>\n",
       "      <th>e</th>\n",
       "      <th>b</th>\n",
       "      <th>c</th>\n",
       "      <th>d</th>\n",
       "      <th>a</th>\n",
       "    </tr>\n",
       "  </thead>\n",
       "  <tbody>\n",
       "    <tr>\n",
       "      <th>0</th>\n",
       "      <td>4</td>\n",
       "      <td>1</td>\n",
       "      <td>2</td>\n",
       "      <td>3</td>\n",
       "      <td>0</td>\n",
       "    </tr>\n",
       "    <tr>\n",
       "      <th>1</th>\n",
       "      <td>9</td>\n",
       "      <td>6</td>\n",
       "      <td>7</td>\n",
       "      <td>8</td>\n",
       "      <td>5</td>\n",
       "    </tr>\n",
       "    <tr>\n",
       "      <th>2</th>\n",
       "      <td>14</td>\n",
       "      <td>11</td>\n",
       "      <td>12</td>\n",
       "      <td>13</td>\n",
       "      <td>10</td>\n",
       "    </tr>\n",
       "    <tr>\n",
       "      <th>3</th>\n",
       "      <td>19</td>\n",
       "      <td>16</td>\n",
       "      <td>17</td>\n",
       "      <td>18</td>\n",
       "      <td>15</td>\n",
       "    </tr>\n",
       "  </tbody>\n",
       "</table>\n",
       "</div>"
      ],
      "text/plain": [
       "    e   b   c   d   a\n",
       "0   4   1   2   3   0\n",
       "1   9   6   7   8   5\n",
       "2  14  11  12  13  10\n",
       "3  19  16  17  18  15"
      ]
     },
     "execution_count": 71,
     "metadata": {},
     "output_type": "execute_result"
    }
   ],
   "source": [
    "import pandas as pd\n",
    "import numpy as np\n",
    "\n",
    "\n",
    "df = pd.DataFrame(np.arange(20).reshape(-1, 5), columns=list('abcde'))\n",
    "\n",
    "df[list('ebcda')]"
   ]
  },
  {
   "cell_type": "markdown",
   "id": "eb91ee3b-913d-456c-9b00-4e1e70ebce30",
   "metadata": {},
   "source": [
    "## Поменяйте порядок столбцов в датафрейме от Е до А."
   ]
  },
  {
   "cell_type": "code",
   "execution_count": 73,
   "id": "0b2fe8a2-d57c-4677-a781-daaff772a701",
   "metadata": {},
   "outputs": [
    {
     "data": {
      "text/html": [
       "<div>\n",
       "<style scoped>\n",
       "    .dataframe tbody tr th:only-of-type {\n",
       "        vertical-align: middle;\n",
       "    }\n",
       "\n",
       "    .dataframe tbody tr th {\n",
       "        vertical-align: top;\n",
       "    }\n",
       "\n",
       "    .dataframe thead th {\n",
       "        text-align: right;\n",
       "    }\n",
       "</style>\n",
       "<table border=\"1\" class=\"dataframe\">\n",
       "  <thead>\n",
       "    <tr style=\"text-align: right;\">\n",
       "      <th></th>\n",
       "      <th>e</th>\n",
       "      <th>d</th>\n",
       "      <th>c</th>\n",
       "      <th>b</th>\n",
       "      <th>a</th>\n",
       "    </tr>\n",
       "  </thead>\n",
       "  <tbody>\n",
       "    <tr>\n",
       "      <th>0</th>\n",
       "      <td>4</td>\n",
       "      <td>3</td>\n",
       "      <td>2</td>\n",
       "      <td>1</td>\n",
       "      <td>0</td>\n",
       "    </tr>\n",
       "    <tr>\n",
       "      <th>1</th>\n",
       "      <td>9</td>\n",
       "      <td>8</td>\n",
       "      <td>7</td>\n",
       "      <td>6</td>\n",
       "      <td>5</td>\n",
       "    </tr>\n",
       "    <tr>\n",
       "      <th>2</th>\n",
       "      <td>14</td>\n",
       "      <td>13</td>\n",
       "      <td>12</td>\n",
       "      <td>11</td>\n",
       "      <td>10</td>\n",
       "    </tr>\n",
       "    <tr>\n",
       "      <th>3</th>\n",
       "      <td>19</td>\n",
       "      <td>18</td>\n",
       "      <td>17</td>\n",
       "      <td>16</td>\n",
       "      <td>15</td>\n",
       "    </tr>\n",
       "  </tbody>\n",
       "</table>\n",
       "</div>"
      ],
      "text/plain": [
       "    e   d   c   b   a\n",
       "0   4   3   2   1   0\n",
       "1   9   8   7   6   5\n",
       "2  14  13  12  11  10\n",
       "3  19  18  17  16  15"
      ]
     },
     "execution_count": 73,
     "metadata": {},
     "output_type": "execute_result"
    }
   ],
   "source": [
    "import pandas as pd\n",
    "import numpy as np\n",
    "\n",
    "df = pd.DataFrame(np.arange(20).reshape(-1, 5), columns=list('abcde'))\n",
    "df[list('edcba')]"
   ]
  },
  {
   "cell_type": "markdown",
   "id": "34ee5666-a70a-4e0b-96d9-e46f3e3ac53f",
   "metadata": {},
   "source": [
    "## Выведите на экран строки датафрейма с шагом 2."
   ]
  },
  {
   "cell_type": "code",
   "execution_count": 79,
   "id": "972c0cab-d707-4ca6-b957-ba1bb3c90333",
   "metadata": {},
   "outputs": [
    {
     "data": {
      "text/html": [
       "<div>\n",
       "<style scoped>\n",
       "    .dataframe tbody tr th:only-of-type {\n",
       "        vertical-align: middle;\n",
       "    }\n",
       "\n",
       "    .dataframe tbody tr th {\n",
       "        vertical-align: top;\n",
       "    }\n",
       "\n",
       "    .dataframe thead th {\n",
       "        text-align: right;\n",
       "    }\n",
       "</style>\n",
       "<table border=\"1\" class=\"dataframe\">\n",
       "  <thead>\n",
       "    <tr style=\"text-align: right;\">\n",
       "      <th></th>\n",
       "      <th>user</th>\n",
       "      <th>user.speed</th>\n",
       "      <th>user.bag_weight</th>\n",
       "    </tr>\n",
       "  </thead>\n",
       "  <tbody>\n",
       "    <tr>\n",
       "      <th>0</th>\n",
       "      <td>Ivan</td>\n",
       "      <td>40.0</td>\n",
       "      <td>8.0</td>\n",
       "    </tr>\n",
       "    <tr>\n",
       "      <th>2</th>\n",
       "      <td>Alex</td>\n",
       "      <td>42.0</td>\n",
       "      <td>2.0</td>\n",
       "    </tr>\n",
       "    <tr>\n",
       "      <th>4</th>\n",
       "      <td>Viktor</td>\n",
       "      <td>60.0</td>\n",
       "      <td>19.0</td>\n",
       "    </tr>\n",
       "  </tbody>\n",
       "</table>\n",
       "</div>"
      ],
      "text/plain": [
       "     user  user.speed  user.bag_weight\n",
       "0    Ivan        40.0              8.0\n",
       "2    Alex        42.0              2.0\n",
       "4  Viktor        60.0             19.0"
      ]
     },
     "execution_count": 79,
     "metadata": {},
     "output_type": "execute_result"
    }
   ],
   "source": [
    "import pandas as pd\n",
    "import numpy as np\n",
    "\n",
    "df = pd.DataFrame(data={'user': ['Ivan', 'Petr', 'Alex', 'Den', 'Viktor'], 'user.speed': [\n",
    "                  40, None, 42, 35, 60], 'user.bag_weight': [8, None, 2, 4, 19]})\n",
    "\n",
    "df[::2]"
   ]
  },
  {
   "cell_type": "markdown",
   "id": "977e6912-eea8-4a00-abf7-eed7b79690f1",
   "metadata": {},
   "source": [
    "## Создайте составной индекс на основе колонок user и user.number для датафрейма:\n",
    "\n"
   ]
  },
  {
   "cell_type": "code",
   "execution_count": 88,
   "id": "fc61eb9f-02e4-490d-a0ed-fd43970ae4e5",
   "metadata": {},
   "outputs": [
    {
     "data": {
      "text/html": [
       "<div>\n",
       "<style scoped>\n",
       "    .dataframe tbody tr th:only-of-type {\n",
       "        vertical-align: middle;\n",
       "    }\n",
       "\n",
       "    .dataframe tbody tr th {\n",
       "        vertical-align: top;\n",
       "    }\n",
       "\n",
       "    .dataframe thead th {\n",
       "        text-align: right;\n",
       "    }\n",
       "</style>\n",
       "<table border=\"1\" class=\"dataframe\">\n",
       "  <thead>\n",
       "    <tr style=\"text-align: right;\">\n",
       "      <th></th>\n",
       "      <th>user</th>\n",
       "      <th>user.number</th>\n",
       "      <th>user.speed</th>\n",
       "      <th>user.bag_weight</th>\n",
       "    </tr>\n",
       "  </thead>\n",
       "  <tbody>\n",
       "    <tr>\n",
       "      <th>Ivan_222-333</th>\n",
       "      <td>Ivan</td>\n",
       "      <td>222-333</td>\n",
       "      <td>40.0</td>\n",
       "      <td>8.0</td>\n",
       "    </tr>\n",
       "    <tr>\n",
       "      <th>Petr_missing</th>\n",
       "      <td>Petr</td>\n",
       "      <td>missing</td>\n",
       "      <td>NaN</td>\n",
       "      <td>NaN</td>\n",
       "    </tr>\n",
       "    <tr>\n",
       "      <th>Alex_222-555</th>\n",
       "      <td>Alex</td>\n",
       "      <td>222-555</td>\n",
       "      <td>42.0</td>\n",
       "      <td>2.0</td>\n",
       "    </tr>\n",
       "    <tr>\n",
       "      <th>Den_222-666</th>\n",
       "      <td>Den</td>\n",
       "      <td>222-666</td>\n",
       "      <td>35.0</td>\n",
       "      <td>4.0</td>\n",
       "    </tr>\n",
       "    <tr>\n",
       "      <th>Viktor_222-777</th>\n",
       "      <td>Viktor</td>\n",
       "      <td>222-777</td>\n",
       "      <td>60.0</td>\n",
       "      <td>19.0</td>\n",
       "    </tr>\n",
       "  </tbody>\n",
       "</table>\n",
       "</div>"
      ],
      "text/plain": [
       "                  user user.number  user.speed  user.bag_weight\n",
       "Ivan_222-333      Ivan     222-333        40.0              8.0\n",
       "Petr_missing      Petr     missing         NaN              NaN\n",
       "Alex_222-555      Alex     222-555        42.0              2.0\n",
       "Den_222-666        Den     222-666        35.0              4.0\n",
       "Viktor_222-777  Viktor     222-777        60.0             19.0"
      ]
     },
     "execution_count": 88,
     "metadata": {},
     "output_type": "execute_result"
    }
   ],
   "source": [
    "import pandas as pd\n",
    "import numpy as np\n",
    "\n",
    "df = pd.DataFrame(data={'user': ['Ivan', 'Petr', 'Alex', 'Den', 'Viktor'], 'user.number': [\n",
    "                  '222-333', None, '222-555', '222-666', '222-777'], 'user.speed': [40, None, 42, 35, 60], 'user.bag_weight': [8, None, 2, 4, 19]})\n",
    "\n",
    "df.fillna({\"user.number\": \"missing\"}, inplace=True)\n",
    "df.index = df.apply(lambda x: f\"{x['user']}_{x['user.number']}\", axis=1)\n",
    "df"
   ]
  },
  {
   "cell_type": "markdown",
   "id": "d8a14806-6d3f-49cf-8e57-6c9859200215",
   "metadata": {},
   "source": [
    "## Для столбца А найдите индекс строки в которой находится второе наибольшее значение.\n",
    "\n"
   ]
  },
  {
   "cell_type": "code",
   "execution_count": 92,
   "id": "ff35a87d-ab88-43de-a8ff-d80d2369be5e",
   "metadata": {},
   "outputs": [
    {
     "name": "stdout",
     "output_type": "stream",
     "text": [
      "2\n"
     ]
    }
   ],
   "source": [
    "import pandas as pd\n",
    "import numpy as np\n",
    "\n",
    "df = pd.DataFrame([[16, 24, 29], [1, 10, 16], [26, 21, 10], [3, 3, 8], [6, 17, 17], [2, 25, 14],\n",
    "                  [9, 13, 21], [27, 24, 17], [19, 29, 1], [20, 24, 6]], columns=list('abc'))\n",
    "\n",
    "print(df.sort_values(by=[\"a\"]).index[-2])"
   ]
  },
  {
   "cell_type": "markdown",
   "id": "58d77a51-c759-460e-b8ee-3481bf83bc7d",
   "metadata": {},
   "source": [
    "## Выведите последние две строки датафрейма, сумма ячеек которых больше 100."
   ]
  },
  {
   "cell_type": "code",
   "execution_count": 93,
   "id": "6b1c4369-75a6-4cab-a688-6463ca339276",
   "metadata": {},
   "outputs": [
    {
     "name": "stdout",
     "output_type": "stream",
     "text": [
      "    0   1   2   3\n",
      "5  35  13  36  21\n",
      "6  32  32  25  17\n"
     ]
    }
   ],
   "source": [
    "import pandas as pd\n",
    "import numpy as np\n",
    "\n",
    "df = pd.DataFrame([[23, 33, 16, 35],\n",
    "                   [24, 20, 13, 10],\n",
    "                   [32, 33, 30, 28],\n",
    "                   [13, 32, 36, 18],\n",
    "                   [25, 27, 31, 10],\n",
    "                   [35, 13, 36, 21],\n",
    "                   [32, 32, 25, 17],\n",
    "                   [34, 24, 23, 19]])\n",
    "\n",
    "print(df[df.sum(axis=1) > 100].tail(2))"
   ]
  },
  {
   "cell_type": "markdown",
   "id": "4a9364f4-bbce-4bf9-93e1-806af84a8b6b",
   "metadata": {},
   "source": [
    "# 1.5"
   ]
  },
  {
   "cell_type": "markdown",
   "id": "5095ea59-e84f-403d-9080-1e9376ee9178",
   "metadata": {},
   "source": [
    "## Выведите на экран сводку основной информации о датафрейме. "
   ]
  },
  {
   "cell_type": "code",
   "execution_count": 94,
   "id": "93d2b145-6f62-4722-93f2-2d012d158f3f",
   "metadata": {},
   "outputs": [
    {
     "name": "stdout",
     "output_type": "stream",
     "text": [
      "<class 'pandas.core.frame.DataFrame'>\n",
      "Index: 10 entries, a to j\n",
      "Data columns (total 4 columns):\n",
      " #   Column    Non-Null Count  Dtype  \n",
      "---  ------    --------------  -----  \n",
      " 0   animal    10 non-null     object \n",
      " 1   age       8 non-null      float64\n",
      " 2   visits    10 non-null     int64  \n",
      " 3   priority  10 non-null     object \n",
      "dtypes: float64(1), int64(1), object(2)\n",
      "memory usage: 400.0+ bytes\n"
     ]
    }
   ],
   "source": [
    "import pandas as pd\n",
    "import numpy as np\n",
    "\n",
    "data = {'animal': ['cat', 'cat', 'snake', 'dog', 'dog', 'cat', 'snake', 'cat', 'dog', 'dog'],\n",
    "        'age': [2.5, 3, 0.5, np.nan, 5, 2, 4.5, np.nan, 7, 3],\n",
    "        'visits': [1, 3, 2, 3, 2, 3, 1, 1, 2, 1],\n",
    "        'priority': ['yes', 'yes', 'no', 'yes', 'no', 'no', 'no', 'yes', 'no', 'no']}\n",
    "\n",
    "labels = ['a', 'b', 'c', 'd', 'e', 'f', 'g', 'h', 'i', 'j']\n",
    "\n",
    "df = pd.DataFrame(data, index=labels)\n",
    "\n",
    "#### YOUR ANSWER BELOW THIS LINE ######\n",
    "df.info(verbose=True)"
   ]
  },
  {
   "cell_type": "markdown",
   "id": "d8720c06-344e-411d-92ac-c578907a9977",
   "metadata": {},
   "source": [
    "## Выведите на экран первые три записи датафрейма."
   ]
  },
  {
   "cell_type": "code",
   "execution_count": 96,
   "id": "9dea7ea3-1787-4761-8f69-e72b4fce09f4",
   "metadata": {},
   "outputs": [
    {
     "data": {
      "text/html": [
       "<div>\n",
       "<style scoped>\n",
       "    .dataframe tbody tr th:only-of-type {\n",
       "        vertical-align: middle;\n",
       "    }\n",
       "\n",
       "    .dataframe tbody tr th {\n",
       "        vertical-align: top;\n",
       "    }\n",
       "\n",
       "    .dataframe thead th {\n",
       "        text-align: right;\n",
       "    }\n",
       "</style>\n",
       "<table border=\"1\" class=\"dataframe\">\n",
       "  <thead>\n",
       "    <tr style=\"text-align: right;\">\n",
       "      <th></th>\n",
       "      <th>animal</th>\n",
       "      <th>age</th>\n",
       "      <th>visits</th>\n",
       "      <th>priority</th>\n",
       "    </tr>\n",
       "  </thead>\n",
       "  <tbody>\n",
       "    <tr>\n",
       "      <th>a</th>\n",
       "      <td>cat</td>\n",
       "      <td>2.5</td>\n",
       "      <td>1</td>\n",
       "      <td>yes</td>\n",
       "    </tr>\n",
       "    <tr>\n",
       "      <th>b</th>\n",
       "      <td>cat</td>\n",
       "      <td>3.0</td>\n",
       "      <td>3</td>\n",
       "      <td>yes</td>\n",
       "    </tr>\n",
       "    <tr>\n",
       "      <th>c</th>\n",
       "      <td>snake</td>\n",
       "      <td>0.5</td>\n",
       "      <td>2</td>\n",
       "      <td>no</td>\n",
       "    </tr>\n",
       "  </tbody>\n",
       "</table>\n",
       "</div>"
      ],
      "text/plain": [
       "  animal  age  visits priority\n",
       "a    cat  2.5       1      yes\n",
       "b    cat  3.0       3      yes\n",
       "c  snake  0.5       2       no"
      ]
     },
     "execution_count": 96,
     "metadata": {},
     "output_type": "execute_result"
    }
   ],
   "source": [
    "import pandas as pd\n",
    "import numpy as np\n",
    "\n",
    "data = {'animal': ['cat', 'cat', 'snake', 'dog', 'dog', 'cat', 'snake', 'cat', 'dog', 'dog'],\n",
    "        'age': [2.5, 3, 0.5, np.nan, 5, 2, 4.5, np.nan, 7, 3],\n",
    "        'visits': [1, 3, 2, 3, 2, 3, 1, 1, 2, 1],\n",
    "        'priority': ['yes', 'yes', 'no', 'yes', 'no', 'no', 'no', 'yes', 'no', 'no']}\n",
    "\n",
    "labels = ['a', 'b', 'c', 'd', 'e', 'f', 'g', 'h', 'i', 'j']\n",
    "\n",
    "df = pd.DataFrame(data, index=labels)\n",
    "\n",
    "#### YOUR ANSWER BELOW THIS LINE ######\n",
    "df.head(3)"
   ]
  },
  {
   "cell_type": "markdown",
   "id": "861dcef4-afd3-4856-86c1-fc2e63ed95e4",
   "metadata": {},
   "source": [
    "## Выведите на экран данные, которые хранятся в строках [3, 4, 8] и колонках ['animal', 'age']"
   ]
  },
  {
   "cell_type": "code",
   "execution_count": 103,
   "id": "82502372-3793-4e5c-b9d7-284a7efb89fe",
   "metadata": {},
   "outputs": [
    {
     "data": {
      "text/html": [
       "<div>\n",
       "<style scoped>\n",
       "    .dataframe tbody tr th:only-of-type {\n",
       "        vertical-align: middle;\n",
       "    }\n",
       "\n",
       "    .dataframe tbody tr th {\n",
       "        vertical-align: top;\n",
       "    }\n",
       "\n",
       "    .dataframe thead th {\n",
       "        text-align: right;\n",
       "    }\n",
       "</style>\n",
       "<table border=\"1\" class=\"dataframe\">\n",
       "  <thead>\n",
       "    <tr style=\"text-align: right;\">\n",
       "      <th></th>\n",
       "      <th>animal</th>\n",
       "      <th>age</th>\n",
       "    </tr>\n",
       "  </thead>\n",
       "  <tbody>\n",
       "    <tr>\n",
       "      <th>d</th>\n",
       "      <td>dog</td>\n",
       "      <td>NaN</td>\n",
       "    </tr>\n",
       "    <tr>\n",
       "      <th>e</th>\n",
       "      <td>dog</td>\n",
       "      <td>5.0</td>\n",
       "    </tr>\n",
       "    <tr>\n",
       "      <th>i</th>\n",
       "      <td>dog</td>\n",
       "      <td>7.0</td>\n",
       "    </tr>\n",
       "  </tbody>\n",
       "</table>\n",
       "</div>"
      ],
      "text/plain": [
       "  animal  age\n",
       "d    dog  NaN\n",
       "e    dog  5.0\n",
       "i    dog  7.0"
      ]
     },
     "execution_count": 103,
     "metadata": {},
     "output_type": "execute_result"
    }
   ],
   "source": [
    "import pandas as pd\n",
    "import numpy as np\n",
    "\n",
    "data = {'animal': ['cat', 'cat', 'snake', 'dog', 'dog', 'cat', 'snake', 'cat', 'dog', 'dog'],\n",
    "        'age': [2.5, 3, 0.5, np.nan, 5, 2, 4.5, np.nan, 7, 3],\n",
    "        'visits': [1, 3, 2, 3, 2, 3, 1, 1, 2, 1],\n",
    "        'priority': ['yes', 'yes', 'no', 'yes', 'no', 'no', 'no', 'yes', 'no', 'no']}\n",
    "\n",
    "labels = ['a', 'b', 'c', 'd', 'e', 'f', 'g', 'h', 'i', 'j']\n",
    "\n",
    "df = pd.DataFrame(data, index=labels)\n",
    "\n",
    "#### YOUR ANSWER BELOW THIS LINE ######\n",
    "df[['animal', 'age']].iloc[[3, 4, 8]]"
   ]
  },
  {
   "cell_type": "markdown",
   "id": "5b19e8f6-d390-46c3-aedd-04c188fd21ee",
   "metadata": {},
   "source": [
    "## Выберите только те строки, в которых количество посещений (visits) больше 2."
   ]
  },
  {
   "cell_type": "code",
   "execution_count": 106,
   "id": "dd96bfac-e7b0-4d12-af20-5d6cc5871c51",
   "metadata": {},
   "outputs": [
    {
     "data": {
      "text/html": [
       "<div>\n",
       "<style scoped>\n",
       "    .dataframe tbody tr th:only-of-type {\n",
       "        vertical-align: middle;\n",
       "    }\n",
       "\n",
       "    .dataframe tbody tr th {\n",
       "        vertical-align: top;\n",
       "    }\n",
       "\n",
       "    .dataframe thead th {\n",
       "        text-align: right;\n",
       "    }\n",
       "</style>\n",
       "<table border=\"1\" class=\"dataframe\">\n",
       "  <thead>\n",
       "    <tr style=\"text-align: right;\">\n",
       "      <th></th>\n",
       "      <th>animal</th>\n",
       "      <th>age</th>\n",
       "      <th>visits</th>\n",
       "      <th>priority</th>\n",
       "    </tr>\n",
       "  </thead>\n",
       "  <tbody>\n",
       "    <tr>\n",
       "      <th>b</th>\n",
       "      <td>cat</td>\n",
       "      <td>3.0</td>\n",
       "      <td>3</td>\n",
       "      <td>yes</td>\n",
       "    </tr>\n",
       "    <tr>\n",
       "      <th>d</th>\n",
       "      <td>dog</td>\n",
       "      <td>NaN</td>\n",
       "      <td>3</td>\n",
       "      <td>yes</td>\n",
       "    </tr>\n",
       "    <tr>\n",
       "      <th>f</th>\n",
       "      <td>cat</td>\n",
       "      <td>2.0</td>\n",
       "      <td>3</td>\n",
       "      <td>no</td>\n",
       "    </tr>\n",
       "  </tbody>\n",
       "</table>\n",
       "</div>"
      ],
      "text/plain": [
       "  animal  age  visits priority\n",
       "b    cat  3.0       3      yes\n",
       "d    dog  NaN       3      yes\n",
       "f    cat  2.0       3       no"
      ]
     },
     "execution_count": 106,
     "metadata": {},
     "output_type": "execute_result"
    }
   ],
   "source": [
    "import pandas as pd\n",
    "import numpy as np\n",
    "\n",
    "data = {'animal': ['cat', 'cat', 'snake', 'dog', 'dog', 'cat', 'snake', 'cat', 'dog', 'dog'],\n",
    "        'age': [2.5, 3, 0.5, np.nan, 5, 2, 4.5, np.nan, 7, 3],\n",
    "        'visits': [1, 3, 2, 3, 2, 3, 1, 1, 2, 1],\n",
    "        'priority': ['yes', 'yes', 'no', 'yes', 'no', 'no', 'no', 'yes', 'no', 'no']}\n",
    "\n",
    "labels = ['a', 'b', 'c', 'd', 'e', 'f', 'g', 'h', 'i', 'j']\n",
    "\n",
    "df = pd.DataFrame(data, index=labels)\n",
    "\n",
    "#### YOUR ANSWER BELOW THIS LINE ######\n",
    "df[df['visits'] > 2]"
   ]
  },
  {
   "cell_type": "markdown",
   "id": "cbcfedce-3a13-4f83-a22d-12ca3c7e5aa1",
   "metadata": {},
   "source": [
    "## Выберите строки датафрейма  в которых animal = cat, а age < 3."
   ]
  },
  {
   "cell_type": "code",
   "execution_count": 108,
   "id": "17a1603c-e527-4e17-ba6f-a3570c62198c",
   "metadata": {},
   "outputs": [
    {
     "data": {
      "text/html": [
       "<div>\n",
       "<style scoped>\n",
       "    .dataframe tbody tr th:only-of-type {\n",
       "        vertical-align: middle;\n",
       "    }\n",
       "\n",
       "    .dataframe tbody tr th {\n",
       "        vertical-align: top;\n",
       "    }\n",
       "\n",
       "    .dataframe thead th {\n",
       "        text-align: right;\n",
       "    }\n",
       "</style>\n",
       "<table border=\"1\" class=\"dataframe\">\n",
       "  <thead>\n",
       "    <tr style=\"text-align: right;\">\n",
       "      <th></th>\n",
       "      <th>animal</th>\n",
       "      <th>age</th>\n",
       "      <th>visits</th>\n",
       "      <th>priority</th>\n",
       "    </tr>\n",
       "  </thead>\n",
       "  <tbody>\n",
       "    <tr>\n",
       "      <th>a</th>\n",
       "      <td>cat</td>\n",
       "      <td>2.5</td>\n",
       "      <td>1</td>\n",
       "      <td>yes</td>\n",
       "    </tr>\n",
       "    <tr>\n",
       "      <th>f</th>\n",
       "      <td>cat</td>\n",
       "      <td>2.0</td>\n",
       "      <td>3</td>\n",
       "      <td>no</td>\n",
       "    </tr>\n",
       "  </tbody>\n",
       "</table>\n",
       "</div>"
      ],
      "text/plain": [
       "  animal  age  visits priority\n",
       "a    cat  2.5       1      yes\n",
       "f    cat  2.0       3       no"
      ]
     },
     "execution_count": 108,
     "metadata": {},
     "output_type": "execute_result"
    }
   ],
   "source": [
    "import pandas as pd\n",
    "import numpy as np\n",
    "\n",
    "data = {'animal': ['cat', 'cat', 'snake', 'dog', 'dog', 'cat', 'snake', 'cat', 'dog', 'dog'],\n",
    "        'age': [2.5, 3, 0.5, np.nan, 5, 2, 4.5, np.nan, 7, 3],\n",
    "        'visits': [1, 3, 2, 3, 2, 3, 1, 1, 2, 1],\n",
    "        'priority': ['yes', 'yes', 'no', 'yes', 'no', 'no', 'no', 'yes', 'no', 'no']}\n",
    "\n",
    "labels = ['a', 'b', 'c', 'd', 'e', 'f', 'g', 'h', 'i', 'j']\n",
    "\n",
    "df = pd.DataFrame(data, index=labels)\n",
    "\n",
    "#### YOUR ANSWER BELOW THIS LINE ######\n",
    "df.query(\"animal=='cat' & age<3\")"
   ]
  },
  {
   "cell_type": "markdown",
   "id": "68bad630-4f08-4b5b-9e34-2244790b2a53",
   "metadata": {},
   "source": [
    "## В строке f замените значение в колонке age на 1.5"
   ]
  },
  {
   "cell_type": "code",
   "execution_count": 109,
   "id": "94419864-c8a0-4941-a243-7347dcf3a055",
   "metadata": {},
   "outputs": [
    {
     "data": {
      "text/html": [
       "<div>\n",
       "<style scoped>\n",
       "    .dataframe tbody tr th:only-of-type {\n",
       "        vertical-align: middle;\n",
       "    }\n",
       "\n",
       "    .dataframe tbody tr th {\n",
       "        vertical-align: top;\n",
       "    }\n",
       "\n",
       "    .dataframe thead th {\n",
       "        text-align: right;\n",
       "    }\n",
       "</style>\n",
       "<table border=\"1\" class=\"dataframe\">\n",
       "  <thead>\n",
       "    <tr style=\"text-align: right;\">\n",
       "      <th></th>\n",
       "      <th>animal</th>\n",
       "      <th>age</th>\n",
       "      <th>visits</th>\n",
       "      <th>priority</th>\n",
       "    </tr>\n",
       "  </thead>\n",
       "  <tbody>\n",
       "    <tr>\n",
       "      <th>a</th>\n",
       "      <td>cat</td>\n",
       "      <td>2.5</td>\n",
       "      <td>1</td>\n",
       "      <td>yes</td>\n",
       "    </tr>\n",
       "    <tr>\n",
       "      <th>b</th>\n",
       "      <td>cat</td>\n",
       "      <td>3.0</td>\n",
       "      <td>3</td>\n",
       "      <td>yes</td>\n",
       "    </tr>\n",
       "    <tr>\n",
       "      <th>c</th>\n",
       "      <td>snake</td>\n",
       "      <td>0.5</td>\n",
       "      <td>2</td>\n",
       "      <td>no</td>\n",
       "    </tr>\n",
       "    <tr>\n",
       "      <th>d</th>\n",
       "      <td>dog</td>\n",
       "      <td>NaN</td>\n",
       "      <td>3</td>\n",
       "      <td>yes</td>\n",
       "    </tr>\n",
       "    <tr>\n",
       "      <th>e</th>\n",
       "      <td>dog</td>\n",
       "      <td>5.0</td>\n",
       "      <td>2</td>\n",
       "      <td>no</td>\n",
       "    </tr>\n",
       "    <tr>\n",
       "      <th>f</th>\n",
       "      <td>cat</td>\n",
       "      <td>1.5</td>\n",
       "      <td>3</td>\n",
       "      <td>no</td>\n",
       "    </tr>\n",
       "    <tr>\n",
       "      <th>g</th>\n",
       "      <td>snake</td>\n",
       "      <td>4.5</td>\n",
       "      <td>1</td>\n",
       "      <td>no</td>\n",
       "    </tr>\n",
       "    <tr>\n",
       "      <th>h</th>\n",
       "      <td>cat</td>\n",
       "      <td>NaN</td>\n",
       "      <td>1</td>\n",
       "      <td>yes</td>\n",
       "    </tr>\n",
       "    <tr>\n",
       "      <th>i</th>\n",
       "      <td>dog</td>\n",
       "      <td>7.0</td>\n",
       "      <td>2</td>\n",
       "      <td>no</td>\n",
       "    </tr>\n",
       "    <tr>\n",
       "      <th>j</th>\n",
       "      <td>dog</td>\n",
       "      <td>3.0</td>\n",
       "      <td>1</td>\n",
       "      <td>no</td>\n",
       "    </tr>\n",
       "  </tbody>\n",
       "</table>\n",
       "</div>"
      ],
      "text/plain": [
       "  animal  age  visits priority\n",
       "a    cat  2.5       1      yes\n",
       "b    cat  3.0       3      yes\n",
       "c  snake  0.5       2       no\n",
       "d    dog  NaN       3      yes\n",
       "e    dog  5.0       2       no\n",
       "f    cat  1.5       3       no\n",
       "g  snake  4.5       1       no\n",
       "h    cat  NaN       1      yes\n",
       "i    dog  7.0       2       no\n",
       "j    dog  3.0       1       no"
      ]
     },
     "execution_count": 109,
     "metadata": {},
     "output_type": "execute_result"
    }
   ],
   "source": [
    "import pandas as pd\n",
    "import numpy as np\n",
    "\n",
    "data = {'animal': ['cat', 'cat', 'snake', 'dog', 'dog', 'cat', 'snake', 'cat', 'dog', 'dog'],\n",
    "        'age': [2.5, 3, 0.5, np.nan, 5, 2, 4.5, np.nan, 7, 3],\n",
    "        'visits': [1, 3, 2, 3, 2, 3, 1, 1, 2, 1],\n",
    "        'priority': ['yes', 'yes', 'no', 'yes', 'no', 'no', 'no', 'yes', 'no', 'no']}\n",
    "\n",
    "labels = ['a', 'b', 'c', 'd', 'e', 'f', 'g', 'h', 'i', 'j']\n",
    "\n",
    "df = pd.DataFrame(data, index=labels)\n",
    "\n",
    "#### YOUR ANSWER BELOW THIS LINE ######\n",
    "df.loc[\"f\", \"age\"] = 1.5\n",
    "df"
   ]
  },
  {
   "cell_type": "markdown",
   "id": "3bae4c60-654f-42ec-87ad-98eb18ce58af",
   "metadata": {},
   "source": [
    "## Посчитайте итоговое количество посещений (visits)"
   ]
  },
  {
   "cell_type": "code",
   "execution_count": 111,
   "id": "d849fad9-35cc-4f5d-8ca1-5c8ec66e0c1c",
   "metadata": {},
   "outputs": [
    {
     "name": "stdout",
     "output_type": "stream",
     "text": [
      "19\n"
     ]
    }
   ],
   "source": [
    "import pandas as pd\n",
    "import numpy as np\n",
    "\n",
    "data = {'animal': ['cat', 'cat', 'snake', 'dog', 'dog', 'cat', 'snake', 'cat', 'dog', 'dog'],\n",
    "        'age': [2.5, 3, 0.5, np.nan, 5, 2, 4.5, np.nan, 7, 3],\n",
    "        'visits': [1, 3, 2, 3, 2, 3, 1, 1, 2, 1],\n",
    "        'priority': ['yes', 'yes', 'no', 'yes', 'no', 'no', 'no', 'yes', 'no', 'no']}\n",
    "\n",
    "labels = ['a', 'b', 'c', 'd', 'e', 'f', 'g', 'h', 'i', 'j']\n",
    "\n",
    "df = pd.DataFrame(data, index=labels)\n",
    "\n",
    "#### YOUR ANSWER BELOW THIS LINE ######\n",
    "print(int(df[\"visits\"].sum()))"
   ]
  },
  {
   "cell_type": "markdown",
   "id": "0f187b7e-5938-435e-97a6-6a83deae7989",
   "metadata": {},
   "source": [
    "## Посчитайте средний возраст каждого вида животного (animal)"
   ]
  },
  {
   "cell_type": "code",
   "execution_count": 113,
   "id": "441a87ef-72da-4d6f-9ccf-e3a606986feb",
   "metadata": {},
   "outputs": [
    {
     "data": {
      "text/plain": [
       "animal\n",
       "cat      2.5\n",
       "dog      5.0\n",
       "snake    2.5\n",
       "Name: age, dtype: float64"
      ]
     },
     "execution_count": 113,
     "metadata": {},
     "output_type": "execute_result"
    }
   ],
   "source": [
    "import pandas as pd\n",
    "import numpy as np\n",
    "\n",
    "data = {'animal': ['cat', 'cat', 'snake', 'dog', 'dog', 'cat', 'snake', 'cat', 'dog', 'dog'],\n",
    "        'age': [2.5, 3, 0.5, np.nan, 5, 2, 4.5, np.nan, 7, 3],\n",
    "        'visits': [1, 3, 2, 3, 2, 3, 1, 1, 2, 1],\n",
    "        'priority': ['yes', 'yes', 'no', 'yes', 'no', 'no', 'no', 'yes', 'no', 'no']}\n",
    "\n",
    "labels = ['a', 'b', 'c', 'd', 'e', 'f', 'g', 'h', 'i', 'j']\n",
    "\n",
    "df = pd.DataFrame(data, index=labels)\n",
    "\n",
    "#### YOUR ANSWER BELOW THIS LINE ######\n",
    "df.groupby('animal')['age'].mean()"
   ]
  },
  {
   "cell_type": "markdown",
   "id": "2298cdca-ae64-45fd-9b14-557d52a44e4d",
   "metadata": {},
   "source": [
    "## Отсортируйте датафрейм по столбцу age в порядке убывания, а затем по столбцу visits в порядке возрастания. "
   ]
  },
  {
   "cell_type": "code",
   "execution_count": 115,
   "id": "8c768ab3-0584-4615-a462-a0eba2414912",
   "metadata": {},
   "outputs": [
    {
     "data": {
      "text/html": [
       "<div>\n",
       "<style scoped>\n",
       "    .dataframe tbody tr th:only-of-type {\n",
       "        vertical-align: middle;\n",
       "    }\n",
       "\n",
       "    .dataframe tbody tr th {\n",
       "        vertical-align: top;\n",
       "    }\n",
       "\n",
       "    .dataframe thead th {\n",
       "        text-align: right;\n",
       "    }\n",
       "</style>\n",
       "<table border=\"1\" class=\"dataframe\">\n",
       "  <thead>\n",
       "    <tr style=\"text-align: right;\">\n",
       "      <th></th>\n",
       "      <th>animal</th>\n",
       "      <th>age</th>\n",
       "      <th>visits</th>\n",
       "      <th>priority</th>\n",
       "    </tr>\n",
       "  </thead>\n",
       "  <tbody>\n",
       "    <tr>\n",
       "      <th>i</th>\n",
       "      <td>dog</td>\n",
       "      <td>7.0</td>\n",
       "      <td>2</td>\n",
       "      <td>no</td>\n",
       "    </tr>\n",
       "    <tr>\n",
       "      <th>e</th>\n",
       "      <td>dog</td>\n",
       "      <td>5.0</td>\n",
       "      <td>2</td>\n",
       "      <td>no</td>\n",
       "    </tr>\n",
       "    <tr>\n",
       "      <th>g</th>\n",
       "      <td>snake</td>\n",
       "      <td>4.5</td>\n",
       "      <td>1</td>\n",
       "      <td>no</td>\n",
       "    </tr>\n",
       "    <tr>\n",
       "      <th>j</th>\n",
       "      <td>dog</td>\n",
       "      <td>3.0</td>\n",
       "      <td>1</td>\n",
       "      <td>no</td>\n",
       "    </tr>\n",
       "    <tr>\n",
       "      <th>b</th>\n",
       "      <td>cat</td>\n",
       "      <td>3.0</td>\n",
       "      <td>3</td>\n",
       "      <td>yes</td>\n",
       "    </tr>\n",
       "    <tr>\n",
       "      <th>a</th>\n",
       "      <td>cat</td>\n",
       "      <td>2.5</td>\n",
       "      <td>1</td>\n",
       "      <td>yes</td>\n",
       "    </tr>\n",
       "    <tr>\n",
       "      <th>f</th>\n",
       "      <td>cat</td>\n",
       "      <td>2.0</td>\n",
       "      <td>3</td>\n",
       "      <td>no</td>\n",
       "    </tr>\n",
       "    <tr>\n",
       "      <th>c</th>\n",
       "      <td>snake</td>\n",
       "      <td>0.5</td>\n",
       "      <td>2</td>\n",
       "      <td>no</td>\n",
       "    </tr>\n",
       "    <tr>\n",
       "      <th>h</th>\n",
       "      <td>cat</td>\n",
       "      <td>NaN</td>\n",
       "      <td>1</td>\n",
       "      <td>yes</td>\n",
       "    </tr>\n",
       "    <tr>\n",
       "      <th>d</th>\n",
       "      <td>dog</td>\n",
       "      <td>NaN</td>\n",
       "      <td>3</td>\n",
       "      <td>yes</td>\n",
       "    </tr>\n",
       "  </tbody>\n",
       "</table>\n",
       "</div>"
      ],
      "text/plain": [
       "  animal  age  visits priority\n",
       "i    dog  7.0       2       no\n",
       "e    dog  5.0       2       no\n",
       "g  snake  4.5       1       no\n",
       "j    dog  3.0       1       no\n",
       "b    cat  3.0       3      yes\n",
       "a    cat  2.5       1      yes\n",
       "f    cat  2.0       3       no\n",
       "c  snake  0.5       2       no\n",
       "h    cat  NaN       1      yes\n",
       "d    dog  NaN       3      yes"
      ]
     },
     "execution_count": 115,
     "metadata": {},
     "output_type": "execute_result"
    }
   ],
   "source": [
    "import pandas as pd\n",
    "import numpy as np\n",
    "\n",
    "data = {'animal': ['cat', 'cat', 'snake', 'dog', 'dog', 'cat', 'snake', 'cat', 'dog', 'dog'],\n",
    "        'age': [2.5, 3, 0.5, np.nan, 5, 2, 4.5, np.nan, 7, 3],\n",
    "        'visits': [1, 3, 2, 3, 2, 3, 1, 1, 2, 1],\n",
    "        'priority': ['yes', 'yes', 'no', 'yes', 'no', 'no', 'no', 'yes', 'no', 'no']}\n",
    "\n",
    "labels = ['a', 'b', 'c', 'd', 'e', 'f', 'g', 'h', 'i', 'j']\n",
    "\n",
    "df = pd.DataFrame(data, index=labels)\n",
    "\n",
    "#### YOUR ANSWER BELOW THIS LINE ######\n",
    "df.sort_values(['age', 'visits'], ascending=[False, True])"
   ]
  },
  {
   "cell_type": "markdown",
   "id": "685137ea-1a1f-4818-ace6-d32edbc5e04f",
   "metadata": {},
   "source": [
    "## Столбец priority содержит строковые значения yes и no. Замените их на булевы True и False"
   ]
  },
  {
   "cell_type": "code",
   "execution_count": 117,
   "id": "2aed03ab-b2bd-411f-9a5d-c27f705869ff",
   "metadata": {},
   "outputs": [
    {
     "data": {
      "text/html": [
       "<div>\n",
       "<style scoped>\n",
       "    .dataframe tbody tr th:only-of-type {\n",
       "        vertical-align: middle;\n",
       "    }\n",
       "\n",
       "    .dataframe tbody tr th {\n",
       "        vertical-align: top;\n",
       "    }\n",
       "\n",
       "    .dataframe thead th {\n",
       "        text-align: right;\n",
       "    }\n",
       "</style>\n",
       "<table border=\"1\" class=\"dataframe\">\n",
       "  <thead>\n",
       "    <tr style=\"text-align: right;\">\n",
       "      <th></th>\n",
       "      <th>animal</th>\n",
       "      <th>age</th>\n",
       "      <th>visits</th>\n",
       "      <th>priority</th>\n",
       "    </tr>\n",
       "  </thead>\n",
       "  <tbody>\n",
       "    <tr>\n",
       "      <th>a</th>\n",
       "      <td>cat</td>\n",
       "      <td>2.5</td>\n",
       "      <td>1</td>\n",
       "      <td>True</td>\n",
       "    </tr>\n",
       "    <tr>\n",
       "      <th>b</th>\n",
       "      <td>cat</td>\n",
       "      <td>3.0</td>\n",
       "      <td>3</td>\n",
       "      <td>True</td>\n",
       "    </tr>\n",
       "    <tr>\n",
       "      <th>c</th>\n",
       "      <td>snake</td>\n",
       "      <td>0.5</td>\n",
       "      <td>2</td>\n",
       "      <td>False</td>\n",
       "    </tr>\n",
       "    <tr>\n",
       "      <th>d</th>\n",
       "      <td>dog</td>\n",
       "      <td>NaN</td>\n",
       "      <td>3</td>\n",
       "      <td>True</td>\n",
       "    </tr>\n",
       "    <tr>\n",
       "      <th>e</th>\n",
       "      <td>dog</td>\n",
       "      <td>5.0</td>\n",
       "      <td>2</td>\n",
       "      <td>False</td>\n",
       "    </tr>\n",
       "    <tr>\n",
       "      <th>f</th>\n",
       "      <td>cat</td>\n",
       "      <td>2.0</td>\n",
       "      <td>3</td>\n",
       "      <td>False</td>\n",
       "    </tr>\n",
       "    <tr>\n",
       "      <th>g</th>\n",
       "      <td>snake</td>\n",
       "      <td>4.5</td>\n",
       "      <td>1</td>\n",
       "      <td>False</td>\n",
       "    </tr>\n",
       "    <tr>\n",
       "      <th>h</th>\n",
       "      <td>cat</td>\n",
       "      <td>NaN</td>\n",
       "      <td>1</td>\n",
       "      <td>True</td>\n",
       "    </tr>\n",
       "    <tr>\n",
       "      <th>i</th>\n",
       "      <td>dog</td>\n",
       "      <td>7.0</td>\n",
       "      <td>2</td>\n",
       "      <td>False</td>\n",
       "    </tr>\n",
       "    <tr>\n",
       "      <th>j</th>\n",
       "      <td>dog</td>\n",
       "      <td>3.0</td>\n",
       "      <td>1</td>\n",
       "      <td>False</td>\n",
       "    </tr>\n",
       "  </tbody>\n",
       "</table>\n",
       "</div>"
      ],
      "text/plain": [
       "  animal  age  visits  priority\n",
       "a    cat  2.5       1      True\n",
       "b    cat  3.0       3      True\n",
       "c  snake  0.5       2     False\n",
       "d    dog  NaN       3      True\n",
       "e    dog  5.0       2     False\n",
       "f    cat  2.0       3     False\n",
       "g  snake  4.5       1     False\n",
       "h    cat  NaN       1      True\n",
       "i    dog  7.0       2     False\n",
       "j    dog  3.0       1     False"
      ]
     },
     "execution_count": 117,
     "metadata": {},
     "output_type": "execute_result"
    }
   ],
   "source": [
    "import pandas as pd\n",
    "import numpy as np\n",
    "\n",
    "data = {'animal': ['cat', 'cat', 'snake', 'dog', 'dog', 'cat', 'snake', 'cat', 'dog', 'dog'],\n",
    "        'age': [2.5, 3, 0.5, np.nan, 5, 2, 4.5, np.nan, 7, 3],\n",
    "        'visits': [1, 3, 2, 3, 2, 3, 1, 1, 2, 1],\n",
    "        'priority': ['yes', 'yes', 'no', 'yes', 'no', 'no', 'no', 'yes', 'no', 'no']}\n",
    "\n",
    "labels = ['a', 'b', 'c', 'd', 'e', 'f', 'g', 'h', 'i', 'j']\n",
    "\n",
    "df = pd.DataFrame(data, index=labels)\n",
    "\n",
    "#### YOUR ANSWER BELOW THIS LINE ######\n",
    "df['priority'] = (df['priority'] == 'yes')\n",
    "df"
   ]
  },
  {
   "cell_type": "markdown",
   "id": "811783df-b2b2-45af-b695-6b1d5fe47da7",
   "metadata": {},
   "source": [
    "## Определите средний возраст для каждого типа животного и количества посещений."
   ]
  },
  {
   "cell_type": "code",
   "execution_count": 119,
   "id": "9fed55c5-6556-49ec-92e9-52ff3019b110",
   "metadata": {},
   "outputs": [
    {
     "data": {
      "text/html": [
       "<div>\n",
       "<style scoped>\n",
       "    .dataframe tbody tr th:only-of-type {\n",
       "        vertical-align: middle;\n",
       "    }\n",
       "\n",
       "    .dataframe tbody tr th {\n",
       "        vertical-align: top;\n",
       "    }\n",
       "\n",
       "    .dataframe thead th {\n",
       "        text-align: right;\n",
       "    }\n",
       "</style>\n",
       "<table border=\"1\" class=\"dataframe\">\n",
       "  <thead>\n",
       "    <tr style=\"text-align: right;\">\n",
       "      <th>visits</th>\n",
       "      <th>1</th>\n",
       "      <th>2</th>\n",
       "      <th>3</th>\n",
       "    </tr>\n",
       "    <tr>\n",
       "      <th>animal</th>\n",
       "      <th></th>\n",
       "      <th></th>\n",
       "      <th></th>\n",
       "    </tr>\n",
       "  </thead>\n",
       "  <tbody>\n",
       "    <tr>\n",
       "      <th>cat</th>\n",
       "      <td>2.5</td>\n",
       "      <td>NaN</td>\n",
       "      <td>2.5</td>\n",
       "    </tr>\n",
       "    <tr>\n",
       "      <th>dog</th>\n",
       "      <td>3.0</td>\n",
       "      <td>6.0</td>\n",
       "      <td>NaN</td>\n",
       "    </tr>\n",
       "    <tr>\n",
       "      <th>snake</th>\n",
       "      <td>4.5</td>\n",
       "      <td>0.5</td>\n",
       "      <td>NaN</td>\n",
       "    </tr>\n",
       "  </tbody>\n",
       "</table>\n",
       "</div>"
      ],
      "text/plain": [
       "visits    1    2    3\n",
       "animal               \n",
       "cat     2.5  NaN  2.5\n",
       "dog     3.0  6.0  NaN\n",
       "snake   4.5  0.5  NaN"
      ]
     },
     "execution_count": 119,
     "metadata": {},
     "output_type": "execute_result"
    }
   ],
   "source": [
    "import pandas as pd\n",
    "import numpy as np\n",
    "\n",
    "data = {'animal': ['cat', 'cat', 'snake', 'dog', 'dog', 'cat', 'snake', 'cat', 'dog', 'dog'],\n",
    "        'age': [2.5, 3, 0.5, np.nan, 5, 2, 4.5, np.nan, 7, 3],\n",
    "        'visits': [1, 3, 2, 3, 2, 3, 1, 1, 2, 1],\n",
    "        'priority': ['yes', 'yes', 'no', 'yes', 'no', 'no', 'no', 'yes', 'no', 'no']}\n",
    "\n",
    "labels = ['a', 'b', 'c', 'd', 'e', 'f', 'g', 'h', 'i', 'j']\n",
    "\n",
    "df = pd.DataFrame(data, index=labels)\n",
    "\n",
    "#### YOUR ANSWER BELOW THIS LINE ######\n",
    "df.pivot_table(index='animal', columns='visits', values='age', aggfunc='mean')"
   ]
  },
  {
   "cell_type": "markdown",
   "id": "ea71ac6f-f8f6-47b4-8cef-ecc623fa4cd9",
   "metadata": {},
   "source": [
    "# 1.6"
   ]
  },
  {
   "cell_type": "markdown",
   "id": "640e9ac0-ec78-4429-8549-3e31cc0fa1f5",
   "metadata": {},
   "source": [
    "## Вычтите среднее значение строки из каждого элемента в строке."
   ]
  },
  {
   "cell_type": "code",
   "execution_count": 121,
   "id": "b0760f49-e34a-40ec-90da-b0990b725d7b",
   "metadata": {},
   "outputs": [
    {
     "data": {
      "text/html": [
       "<div>\n",
       "<style scoped>\n",
       "    .dataframe tbody tr th:only-of-type {\n",
       "        vertical-align: middle;\n",
       "    }\n",
       "\n",
       "    .dataframe tbody tr th {\n",
       "        vertical-align: top;\n",
       "    }\n",
       "\n",
       "    .dataframe thead th {\n",
       "        text-align: right;\n",
       "    }\n",
       "</style>\n",
       "<table border=\"1\" class=\"dataframe\">\n",
       "  <thead>\n",
       "    <tr style=\"text-align: right;\">\n",
       "      <th></th>\n",
       "      <th>0</th>\n",
       "      <th>1</th>\n",
       "      <th>2</th>\n",
       "    </tr>\n",
       "  </thead>\n",
       "  <tbody>\n",
       "    <tr>\n",
       "      <th>0</th>\n",
       "      <td>-0.469429</td>\n",
       "      <td>-0.032952</td>\n",
       "      <td>0.502381</td>\n",
       "    </tr>\n",
       "    <tr>\n",
       "      <th>1</th>\n",
       "      <td>0.280649</td>\n",
       "      <td>0.092736</td>\n",
       "      <td>-0.373386</td>\n",
       "    </tr>\n",
       "    <tr>\n",
       "      <th>2</th>\n",
       "      <td>-0.103336</td>\n",
       "      <td>0.085149</td>\n",
       "      <td>0.018186</td>\n",
       "    </tr>\n",
       "  </tbody>\n",
       "</table>\n",
       "</div>"
      ],
      "text/plain": [
       "          0         1         2\n",
       "0 -0.469429 -0.032952  0.502381\n",
       "1  0.280649  0.092736 -0.373386\n",
       "2 -0.103336  0.085149  0.018186"
      ]
     },
     "execution_count": 121,
     "metadata": {},
     "output_type": "execute_result"
    }
   ],
   "source": [
    "import pandas as pd\n",
    "import numpy as np\n",
    "\n",
    "df = pd.DataFrame([[0.020448, 0.456925, 0.992258], [0.743399, 0.555486, 0.089364], [0.094699, 0.283184, 0.216221]])\n",
    "df.apply(lambda x: x-df.mean(axis=1))"
   ]
  },
  {
   "cell_type": "markdown",
   "id": "e1a2169f-5419-4fa7-b81a-3f52ee53d61e",
   "metadata": {},
   "source": [
    "## В каком столбце чисел сумма наименьшая? Выведите на экран название этого столбца."
   ]
  },
  {
   "cell_type": "code",
   "execution_count": 122,
   "id": "8e1a7678-0989-4804-99de-8abca8833234",
   "metadata": {},
   "outputs": [
    {
     "name": "stdout",
     "output_type": "stream",
     "text": [
      "a\n"
     ]
    }
   ],
   "source": [
    "import pandas as pd\n",
    "import numpy as np\n",
    "\n",
    "df = pd.DataFrame([[0.020448, 0.456925, 0.992258], [0.743399, 0.555486, 0.089364],\n",
    "                  [0.094699, 0.283184, 0.216221]], columns=list('abc'))\n",
    "\n",
    "print(df.sum().sort_values().index[0])"
   ]
  },
  {
   "cell_type": "markdown",
   "id": "194dc373-89b7-433c-a113-378f30ae7405",
   "metadata": {},
   "source": [
    "## Как подсчитать, сколько уникальных строк имеет датафрейм (т. е. игнорировать все повторяющиеся строки)?"
   ]
  },
  {
   "cell_type": "code",
   "execution_count": 125,
   "id": "ae4b2933-592b-4286-82e2-f087c0675e77",
   "metadata": {},
   "outputs": [
    {
     "name": "stdout",
     "output_type": "stream",
     "text": [
      "2\n"
     ]
    }
   ],
   "source": [
    "import pandas as pd\n",
    "import numpy as np\n",
    "\n",
    "df = pd.DataFrame([[0.020448, 0.456925, 0.992258], [0.743399, 0.555486, 0.089364], [\n",
    "                  0.020448, 0.456925, 0.992258], [0.094699, 0.283184, 0.216221]], columns=list('abc'))\n",
    "\n",
    "print(df.duplicated(keep=False).sum())"
   ]
  },
  {
   "cell_type": "markdown",
   "id": "30a920a3-9313-4cd3-ad16-c9424db275f3",
   "metadata": {},
   "source": [
    "## Имеется датафрейм состоящий из 10 столбцов чисел с плавающей запятой. Ровно 5 записей в каждой строке являются значениями NaN. Для каждой строки датафрейма найдите столбец, содержащий третье значение NaN."
   ]
  },
  {
   "cell_type": "code",
   "execution_count": 128,
   "id": "b6352d73-96e7-47ba-8fa4-12ea2a10ddad",
   "metadata": {},
   "outputs": [
    {
     "data": {
      "text/plain": [
       "0    e\n",
       "1    c\n",
       "2    d\n",
       "3    h\n",
       "4    d\n",
       "dtype: object"
      ]
     },
     "execution_count": 128,
     "metadata": {},
     "output_type": "execute_result"
    }
   ],
   "source": [
    "import pandas as pd\n",
    "import numpy as np\n",
    "\n",
    "nan = np.nan\n",
    "\n",
    "data = [[0.04, nan, nan, 0.25, nan, 0.43, 0.71, 0.51, nan, nan],\n",
    "        [nan, nan, nan, 0.04, 0.76, nan, nan, 0.67, 0.76, 0.16],\n",
    "        [nan, nan, 0.5, nan, 0.31, 0.4, nan, nan, 0.24, 0.01],\n",
    "        [0.49, nan, nan, 0.62, 0.73, 0.26, 0.85, nan, nan, nan],\n",
    "        [nan, nan, 0.41, nan, 0.05, nan, 0.61, nan, 0.48, 0.68]]\n",
    "\n",
    "columns = list('abcdefghij')\n",
    "\n",
    "df = pd.DataFrame(data, columns=columns)\n",
    "df.apply(lambda x: x[x.isna()].index[2], axis=1)"
   ]
  },
  {
   "cell_type": "markdown",
   "id": "30c38167-b3a4-4d51-83ec-9b67b14dc7d8",
   "metadata": {},
   "source": [
    "## Датафрейм содержит колонку grps (название некоторой группы) и колонку целочисленных значений vals.  Для каждой группы найдите сумму трех наибольших значений."
   ]
  },
  {
   "cell_type": "code",
   "execution_count": 130,
   "id": "60d02cf0-7abd-471e-bcde-3b136cc8902e",
   "metadata": {},
   "outputs": [
    {
     "data": {
      "text/plain": [
       "grps\n",
       "a    409\n",
       "b    156\n",
       "c    345\n",
       "Name: vals, dtype: int64"
      ]
     },
     "execution_count": 130,
     "metadata": {},
     "output_type": "execute_result"
    }
   ],
   "source": [
    "import pandas as pd\n",
    "import numpy as np\n",
    "\n",
    "df = pd.DataFrame({'grps': list('aaabbcaabcccbbc'),\n",
    "                   'vals': [12, 345, 3, 1, 45, 14, 4, 52, 54, 23, 235, 21, 57, 3, 87]})\n",
    "\n",
    "df.groupby('grps').agg(lambda x: x.sort_values(ascending=False).head(3).sum()).squeeze()"
   ]
  },
  {
   "cell_type": "markdown",
   "id": "98f13c2a-44fc-45e6-969e-604b8a3d89ad",
   "metadata": {},
   "source": [
    "## Датафрейм df имеет два целочисленных столбца «A» и «B». Значения в «A» находятся в диапазоне от 1 до 100 (включительно).\n",
    "\n",
    "Для каждой группы из 10 последовательных целых чисел в столбце А (т. е. (0, 10], (10, 20], ...) вычислите сумму соответствующих значений в столбце B."
   ]
  },
  {
   "cell_type": "code",
   "execution_count": 136,
   "id": "df8f16b3-3bec-4cef-b2a4-9e4cf3e6064c",
   "metadata": {},
   "outputs": [
    {
     "data": {
      "text/plain": [
       "A\n",
       "(0, 10]      635\n",
       "(10, 20]     360\n",
       "(20, 30]     315\n",
       "(30, 40]     306\n",
       "(40, 50]     750\n",
       "(50, 60]     284\n",
       "(60, 70]     424\n",
       "(70, 80]     526\n",
       "(80, 90]     835\n",
       "(90, 100]    852\n",
       "Name: B, dtype: int64"
      ]
     },
     "execution_count": 136,
     "metadata": {},
     "output_type": "execute_result"
    }
   ],
   "source": [
    "import pandas as pd\n",
    "import numpy as np\n",
    "\n",
    "df = pd.DataFrame(np.random.RandomState(8765).randint(1, 101, size=(100, 2)), columns=[\"A\", \"B\"])\n",
    "\n",
    "df['B'].groupby(pd.cut(df['A'], bins=pd.interval_range(start=0, end=100, freq=10)), observed=False,).sum()"
   ]
  },
  {
   "cell_type": "markdown",
   "id": "8b6a5afe-0f24-4c8d-a619-5132b0068289",
   "metadata": {},
   "source": [
    "## Создайте список индексов столбцов и строк для 3 самых больших значений в предлагаемом датафрейме."
   ]
  },
  {
   "cell_type": "code",
   "execution_count": 141,
   "id": "398fe678-7d1e-48ad-9a7a-78b91eb1f9cf",
   "metadata": {},
   "outputs": [
    {
     "data": {
      "text/plain": [
       "[(5, 7), (6, 4), (2, 5)]"
      ]
     },
     "execution_count": 141,
     "metadata": {},
     "output_type": "execute_result"
    }
   ],
   "source": [
    "import pandas as pd\n",
    "import numpy as np\n",
    "\n",
    "df = pd.DataFrame(np.random.RandomState(30).randint(1, 101, size=(8, 8)))\n",
    "\n",
    "df.unstack().sort_values().tail(3).index.to_list()"
   ]
  },
  {
   "cell_type": "markdown",
   "id": "481f1921-1fe4-4346-b8ff-e8c5b4bc0aa1",
   "metadata": {},
   "source": [
    "## Создайте новый столбец patched_vals, который содержит те же значения, что и vals, но отрицательные значения заменить средним значением группы."
   ]
  },
  {
   "cell_type": "code",
   "execution_count": 151,
   "id": "b675b501-43cf-4ed6-804f-99ca3d741065",
   "metadata": {},
   "outputs": [
    {
     "data": {
      "text/html": [
       "<div>\n",
       "<style scoped>\n",
       "    .dataframe tbody tr th:only-of-type {\n",
       "        vertical-align: middle;\n",
       "    }\n",
       "\n",
       "    .dataframe tbody tr th {\n",
       "        vertical-align: top;\n",
       "    }\n",
       "\n",
       "    .dataframe thead th {\n",
       "        text-align: right;\n",
       "    }\n",
       "</style>\n",
       "<table border=\"1\" class=\"dataframe\">\n",
       "  <thead>\n",
       "    <tr style=\"text-align: right;\">\n",
       "      <th></th>\n",
       "      <th>vals</th>\n",
       "      <th>grps</th>\n",
       "      <th>patched_vals</th>\n",
       "    </tr>\n",
       "  </thead>\n",
       "  <tbody>\n",
       "    <tr>\n",
       "      <th>0</th>\n",
       "      <td>-12</td>\n",
       "      <td>A</td>\n",
       "      <td>13.6</td>\n",
       "    </tr>\n",
       "    <tr>\n",
       "      <th>1</th>\n",
       "      <td>-7</td>\n",
       "      <td>B</td>\n",
       "      <td>28.0</td>\n",
       "    </tr>\n",
       "    <tr>\n",
       "      <th>2</th>\n",
       "      <td>-14</td>\n",
       "      <td>A</td>\n",
       "      <td>13.6</td>\n",
       "    </tr>\n",
       "    <tr>\n",
       "      <th>3</th>\n",
       "      <td>4</td>\n",
       "      <td>A</td>\n",
       "      <td>4.0</td>\n",
       "    </tr>\n",
       "    <tr>\n",
       "      <th>4</th>\n",
       "      <td>-7</td>\n",
       "      <td>A</td>\n",
       "      <td>13.6</td>\n",
       "    </tr>\n",
       "    <tr>\n",
       "      <th>5</th>\n",
       "      <td>28</td>\n",
       "      <td>B</td>\n",
       "      <td>28.0</td>\n",
       "    </tr>\n",
       "    <tr>\n",
       "      <th>6</th>\n",
       "      <td>-2</td>\n",
       "      <td>A</td>\n",
       "      <td>13.6</td>\n",
       "    </tr>\n",
       "    <tr>\n",
       "      <th>7</th>\n",
       "      <td>-1</td>\n",
       "      <td>A</td>\n",
       "      <td>13.6</td>\n",
       "    </tr>\n",
       "    <tr>\n",
       "      <th>8</th>\n",
       "      <td>8</td>\n",
       "      <td>A</td>\n",
       "      <td>8.0</td>\n",
       "    </tr>\n",
       "    <tr>\n",
       "      <th>9</th>\n",
       "      <td>-2</td>\n",
       "      <td>B</td>\n",
       "      <td>28.0</td>\n",
       "    </tr>\n",
       "    <tr>\n",
       "      <th>10</th>\n",
       "      <td>28</td>\n",
       "      <td>A</td>\n",
       "      <td>28.0</td>\n",
       "    </tr>\n",
       "    <tr>\n",
       "      <th>11</th>\n",
       "      <td>12</td>\n",
       "      <td>A</td>\n",
       "      <td>12.0</td>\n",
       "    </tr>\n",
       "    <tr>\n",
       "      <th>12</th>\n",
       "      <td>16</td>\n",
       "      <td>A</td>\n",
       "      <td>16.0</td>\n",
       "    </tr>\n",
       "    <tr>\n",
       "      <th>13</th>\n",
       "      <td>-24</td>\n",
       "      <td>A</td>\n",
       "      <td>13.6</td>\n",
       "    </tr>\n",
       "    <tr>\n",
       "      <th>14</th>\n",
       "      <td>-12</td>\n",
       "      <td>A</td>\n",
       "      <td>13.6</td>\n",
       "    </tr>\n",
       "  </tbody>\n",
       "</table>\n",
       "</div>"
      ],
      "text/plain": [
       "    vals grps  patched_vals\n",
       "0    -12    A          13.6\n",
       "1     -7    B          28.0\n",
       "2    -14    A          13.6\n",
       "3      4    A           4.0\n",
       "4     -7    A          13.6\n",
       "5     28    B          28.0\n",
       "6     -2    A          13.6\n",
       "7     -1    A          13.6\n",
       "8      8    A           8.0\n",
       "9     -2    B          28.0\n",
       "10    28    A          28.0\n",
       "11    12    A          12.0\n",
       "12    16    A          16.0\n",
       "13   -24    A          13.6\n",
       "14   -12    A          13.6"
      ]
     },
     "execution_count": 151,
     "metadata": {},
     "output_type": "execute_result"
    }
   ],
   "source": [
    "import pandas as pd\n",
    "import numpy as np\n",
    "\n",
    "df = pd.DataFrame({\"vals\": np.random.RandomState(31).randint(-30, 30, size=15),\n",
    "                   \"grps\": np.random.RandomState(31).choice([\"A\", \"B\"], 15)})\n",
    "\n",
    "df['patched_vals'] = df.groupby('grps')['vals'].transform(lambda x: np.where(x < 0, x[x > 0].mean(), x))\n",
    "df"
   ]
  },
  {
   "cell_type": "markdown",
   "id": "664d4b9d-9924-40d7-baea-e326ca5b2059",
   "metadata": {},
   "source": [
    "## Найдите сумму всех значений, которые указаны для среды (Wednesday)"
   ]
  },
  {
   "cell_type": "code",
   "execution_count": 152,
   "id": "6ac89dd6-4ea4-47d5-9a34-ba2059462b7e",
   "metadata": {},
   "outputs": [
    {
     "name": "stdout",
     "output_type": "stream",
     "text": [
      "23.508792429234397\n"
     ]
    }
   ],
   "source": [
    "import pandas as pd\n",
    "import numpy as np\n",
    "\n",
    "\n",
    "dti = pd.date_range(start='2021-01-01', end='2021-12-31', freq='B')\n",
    "s = pd.Series(np.random.RandomState(30).rand(len(dti)), index=dti)\n",
    "\n",
    "print(s[s.index.dayofweek == 2].sum())"
   ]
  },
  {
   "cell_type": "markdown",
   "id": "a6adf745-d03f-45d2-a88f-410680b4eeee",
   "metadata": {},
   "source": [
    "## Для каждого месяца найдите среднее значение."
   ]
  },
  {
   "cell_type": "code",
   "execution_count": 155,
   "id": "2832f4bf-500c-4779-9bd4-f8b220537a3c",
   "metadata": {},
   "outputs": [
    {
     "data": {
      "text/plain": [
       "2021-01-31    0.507726\n",
       "2021-02-28    0.462692\n",
       "2021-03-31    0.478605\n",
       "2021-04-30    0.564210\n",
       "2021-05-31    0.387735\n",
       "2021-06-30    0.451999\n",
       "2021-07-31    0.541958\n",
       "2021-08-31    0.553241\n",
       "2021-09-30    0.507650\n",
       "2021-10-31    0.453517\n",
       "2021-11-30    0.490528\n",
       "2021-12-31    0.495812\n",
       "Freq: ME, dtype: float64"
      ]
     },
     "execution_count": 155,
     "metadata": {},
     "output_type": "execute_result"
    }
   ],
   "source": [
    "import pandas as pd\n",
    "import numpy as np\n",
    "\n",
    "dti = pd.date_range(start='2021-01-01', end='2021-12-31', freq='B')\n",
    "s = pd.Series(np.random.RandomState(30).rand(len(dti)), index=dti)\n",
    "\n",
    "s.groupby(pd.Grouper(freq='ME')).mean()"
   ]
  },
  {
   "cell_type": "markdown",
   "id": "fe5ac09d-384a-4b94-ae56-8daf2f4e00e2",
   "metadata": {},
   "source": [
    "# 1.7"
   ]
  },
  {
   "cell_type": "markdown",
   "id": "3811da79-e76c-44f3-bee5-7850aafe0eac",
   "metadata": {},
   "source": [
    "## Превратите датафрейм в квадрат с максимально возможной длиной стороны n, убрав отрицательные значения. При необходимости удалите наименьшие значения. Порядок положительных чисел в результате должен оставаться таким же, как и в оригинале."
   ]
  },
  {
   "cell_type": "code",
   "execution_count": 158,
   "id": "d3e5fbdf-1062-4b13-af12-41c5ea8f95ac",
   "metadata": {},
   "outputs": [
    {
     "name": "stdout",
     "output_type": "stream",
     "text": [
      "[[17. 17. 25. 25. 33. 26. 21. 45.]\n",
      " [29. 25. 41. 15. 42. 26. 25. 44.]\n",
      " [42. 30. 13. 35. 38. 37. 24. 17.]\n",
      " [37. 19. 13. 27. 19. 16. 20. 34.]\n",
      " [49. 10. 29. 32. 24. 41. 14. 23.]\n",
      " [40. 31. 21. 36. 19. 13.  8. 38.]\n",
      " [25. 28. 35. 25. 11.  9. 24.  9.]\n",
      " [31. 35. 32. 41. 19. 10. 24. 27.]]\n"
     ]
    }
   ],
   "source": [
    "import pandas as pd\n",
    "import numpy as np\n",
    "\n",
    "df = pd.DataFrame(np.random.RandomState(30).randint(-20, 50, 100).reshape(10, -1))\n",
    "\n",
    "\n",
    "df = df.to_numpy(dtype=\"float64\")\n",
    "df = df[df > 0]\n",
    "n = int(np.floor(len(df)**0.5))\n",
    "print(df[sorted(df.argsort()[-n**2:])].reshape(n, n))"
   ]
  },
  {
   "cell_type": "markdown",
   "id": "07bf18d6-b2ae-4bd8-86bf-29f7179281d8",
   "metadata": {},
   "source": [
    "## Поменяйте местами строки 1 и 2"
   ]
  },
  {
   "cell_type": "code",
   "execution_count": 161,
   "id": "a508b04f-67be-4805-a731-a4261a4a21a3",
   "metadata": {},
   "outputs": [
    {
     "data": {
      "text/html": [
       "<div>\n",
       "<style scoped>\n",
       "    .dataframe tbody tr th:only-of-type {\n",
       "        vertical-align: middle;\n",
       "    }\n",
       "\n",
       "    .dataframe tbody tr th {\n",
       "        vertical-align: top;\n",
       "    }\n",
       "\n",
       "    .dataframe thead th {\n",
       "        text-align: right;\n",
       "    }\n",
       "</style>\n",
       "<table border=\"1\" class=\"dataframe\">\n",
       "  <thead>\n",
       "    <tr style=\"text-align: right;\">\n",
       "      <th></th>\n",
       "      <th>0</th>\n",
       "      <th>1</th>\n",
       "      <th>2</th>\n",
       "      <th>3</th>\n",
       "      <th>4</th>\n",
       "    </tr>\n",
       "  </thead>\n",
       "  <tbody>\n",
       "    <tr>\n",
       "      <th>0</th>\n",
       "      <td>0</td>\n",
       "      <td>1</td>\n",
       "      <td>2</td>\n",
       "      <td>3</td>\n",
       "      <td>4</td>\n",
       "    </tr>\n",
       "    <tr>\n",
       "      <th>1</th>\n",
       "      <td>10</td>\n",
       "      <td>11</td>\n",
       "      <td>12</td>\n",
       "      <td>13</td>\n",
       "      <td>14</td>\n",
       "    </tr>\n",
       "    <tr>\n",
       "      <th>2</th>\n",
       "      <td>5</td>\n",
       "      <td>6</td>\n",
       "      <td>7</td>\n",
       "      <td>8</td>\n",
       "      <td>9</td>\n",
       "    </tr>\n",
       "    <tr>\n",
       "      <th>3</th>\n",
       "      <td>15</td>\n",
       "      <td>16</td>\n",
       "      <td>17</td>\n",
       "      <td>18</td>\n",
       "      <td>19</td>\n",
       "    </tr>\n",
       "    <tr>\n",
       "      <th>4</th>\n",
       "      <td>20</td>\n",
       "      <td>21</td>\n",
       "      <td>22</td>\n",
       "      <td>23</td>\n",
       "      <td>24</td>\n",
       "    </tr>\n",
       "  </tbody>\n",
       "</table>\n",
       "</div>"
      ],
      "text/plain": [
       "    0   1   2   3   4\n",
       "0   0   1   2   3   4\n",
       "1  10  11  12  13  14\n",
       "2   5   6   7   8   9\n",
       "3  15  16  17  18  19\n",
       "4  20  21  22  23  24"
      ]
     },
     "execution_count": 161,
     "metadata": {},
     "output_type": "execute_result"
    }
   ],
   "source": [
    "import pandas as pd\n",
    "import numpy as np\n",
    "\n",
    "df = pd.DataFrame(np.arange(25).reshape(5, -1))\n",
    "\n",
    "df.index = [0, 2, 1, 3, 4]\n",
    "df.sort_index()"
   ]
  },
  {
   "cell_type": "markdown",
   "id": "a234caf8-af3f-469f-92a6-10c9b0ed2c0b",
   "metadata": {},
   "source": [
    "## Измените порядок строк датафрейма таким образом, чтобы последние стали первыми, а первые последними (reverse)."
   ]
  },
  {
   "cell_type": "code",
   "execution_count": 163,
   "id": "327d17ad-49fd-41c8-a77c-7fc13a98d98b",
   "metadata": {},
   "outputs": [
    {
     "data": {
      "text/html": [
       "<div>\n",
       "<style scoped>\n",
       "    .dataframe tbody tr th:only-of-type {\n",
       "        vertical-align: middle;\n",
       "    }\n",
       "\n",
       "    .dataframe tbody tr th {\n",
       "        vertical-align: top;\n",
       "    }\n",
       "\n",
       "    .dataframe thead th {\n",
       "        text-align: right;\n",
       "    }\n",
       "</style>\n",
       "<table border=\"1\" class=\"dataframe\">\n",
       "  <thead>\n",
       "    <tr style=\"text-align: right;\">\n",
       "      <th></th>\n",
       "      <th>0</th>\n",
       "      <th>1</th>\n",
       "      <th>2</th>\n",
       "      <th>3</th>\n",
       "      <th>4</th>\n",
       "    </tr>\n",
       "  </thead>\n",
       "  <tbody>\n",
       "    <tr>\n",
       "      <th>4</th>\n",
       "      <td>20</td>\n",
       "      <td>21</td>\n",
       "      <td>22</td>\n",
       "      <td>23</td>\n",
       "      <td>24</td>\n",
       "    </tr>\n",
       "    <tr>\n",
       "      <th>3</th>\n",
       "      <td>15</td>\n",
       "      <td>16</td>\n",
       "      <td>17</td>\n",
       "      <td>18</td>\n",
       "      <td>19</td>\n",
       "    </tr>\n",
       "    <tr>\n",
       "      <th>2</th>\n",
       "      <td>10</td>\n",
       "      <td>11</td>\n",
       "      <td>12</td>\n",
       "      <td>13</td>\n",
       "      <td>14</td>\n",
       "    </tr>\n",
       "    <tr>\n",
       "      <th>1</th>\n",
       "      <td>5</td>\n",
       "      <td>6</td>\n",
       "      <td>7</td>\n",
       "      <td>8</td>\n",
       "      <td>9</td>\n",
       "    </tr>\n",
       "    <tr>\n",
       "      <th>0</th>\n",
       "      <td>0</td>\n",
       "      <td>1</td>\n",
       "      <td>2</td>\n",
       "      <td>3</td>\n",
       "      <td>4</td>\n",
       "    </tr>\n",
       "  </tbody>\n",
       "</table>\n",
       "</div>"
      ],
      "text/plain": [
       "    0   1   2   3   4\n",
       "4  20  21  22  23  24\n",
       "3  15  16  17  18  19\n",
       "2  10  11  12  13  14\n",
       "1   5   6   7   8   9\n",
       "0   0   1   2   3   4"
      ]
     },
     "execution_count": 163,
     "metadata": {},
     "output_type": "execute_result"
    }
   ],
   "source": [
    "import pandas as pd\n",
    "import numpy as np\n",
    "\n",
    "df = pd.DataFrame(np.arange(25).reshape(5, -1))\n",
    "\n",
    "df.reindex(df.index.sort_values(ascending=False))"
   ]
  },
  {
   "cell_type": "markdown",
   "id": "fb2cee1b-cff1-4165-adb1-b2b0021fcdec",
   "metadata": {},
   "source": [
    "## Выполните one-hot encoding для столбца А и добавьте результат к датафрейму"
   ]
  },
  {
   "cell_type": "code",
   "execution_count": 165,
   "id": "1b9fca26-3dbd-42ff-9fd6-9a5008d87cc0",
   "metadata": {},
   "outputs": [
    {
     "data": {
      "text/html": [
       "<div>\n",
       "<style scoped>\n",
       "    .dataframe tbody tr th:only-of-type {\n",
       "        vertical-align: middle;\n",
       "    }\n",
       "\n",
       "    .dataframe tbody tr th {\n",
       "        vertical-align: top;\n",
       "    }\n",
       "\n",
       "    .dataframe thead th {\n",
       "        text-align: right;\n",
       "    }\n",
       "</style>\n",
       "<table border=\"1\" class=\"dataframe\">\n",
       "  <thead>\n",
       "    <tr style=\"text-align: right;\">\n",
       "      <th></th>\n",
       "      <th>0</th>\n",
       "      <th>5</th>\n",
       "      <th>10</th>\n",
       "      <th>15</th>\n",
       "      <th>20</th>\n",
       "      <th>b</th>\n",
       "      <th>c</th>\n",
       "      <th>d</th>\n",
       "      <th>e</th>\n",
       "    </tr>\n",
       "  </thead>\n",
       "  <tbody>\n",
       "    <tr>\n",
       "      <th>0</th>\n",
       "      <td>True</td>\n",
       "      <td>False</td>\n",
       "      <td>False</td>\n",
       "      <td>False</td>\n",
       "      <td>False</td>\n",
       "      <td>1</td>\n",
       "      <td>2</td>\n",
       "      <td>3</td>\n",
       "      <td>4</td>\n",
       "    </tr>\n",
       "    <tr>\n",
       "      <th>1</th>\n",
       "      <td>False</td>\n",
       "      <td>True</td>\n",
       "      <td>False</td>\n",
       "      <td>False</td>\n",
       "      <td>False</td>\n",
       "      <td>6</td>\n",
       "      <td>7</td>\n",
       "      <td>8</td>\n",
       "      <td>9</td>\n",
       "    </tr>\n",
       "    <tr>\n",
       "      <th>2</th>\n",
       "      <td>False</td>\n",
       "      <td>False</td>\n",
       "      <td>True</td>\n",
       "      <td>False</td>\n",
       "      <td>False</td>\n",
       "      <td>11</td>\n",
       "      <td>12</td>\n",
       "      <td>13</td>\n",
       "      <td>14</td>\n",
       "    </tr>\n",
       "    <tr>\n",
       "      <th>3</th>\n",
       "      <td>False</td>\n",
       "      <td>False</td>\n",
       "      <td>False</td>\n",
       "      <td>True</td>\n",
       "      <td>False</td>\n",
       "      <td>16</td>\n",
       "      <td>17</td>\n",
       "      <td>18</td>\n",
       "      <td>19</td>\n",
       "    </tr>\n",
       "    <tr>\n",
       "      <th>4</th>\n",
       "      <td>False</td>\n",
       "      <td>False</td>\n",
       "      <td>False</td>\n",
       "      <td>False</td>\n",
       "      <td>True</td>\n",
       "      <td>21</td>\n",
       "      <td>22</td>\n",
       "      <td>23</td>\n",
       "      <td>24</td>\n",
       "    </tr>\n",
       "  </tbody>\n",
       "</table>\n",
       "</div>"
      ],
      "text/plain": [
       "       0      5     10     15     20   b   c   d   e\n",
       "0   True  False  False  False  False   1   2   3   4\n",
       "1  False   True  False  False  False   6   7   8   9\n",
       "2  False  False   True  False  False  11  12  13  14\n",
       "3  False  False  False   True  False  16  17  18  19\n",
       "4  False  False  False  False   True  21  22  23  24"
      ]
     },
     "execution_count": 165,
     "metadata": {},
     "output_type": "execute_result"
    }
   ],
   "source": [
    "import pandas as pd\n",
    "import numpy as np\n",
    "\n",
    "df = pd.DataFrame(np.arange(25).reshape(5, -1), columns=list('abcde'))\n",
    "\n",
    "pd.concat([pd.get_dummies(df['a']), df.reindex(columns=list('bcde'))], axis=1)"
   ]
  },
  {
   "cell_type": "markdown",
   "id": "4ed05c3a-7f34-4442-bec2-1f9206fc60af",
   "metadata": {},
   "source": [
    "## Создайте новый столбец таким образом, чтобы каждая строка содержала номер наиболее удалённой строки-записи по евклидову расстоянию."
   ]
  },
  {
   "cell_type": "code",
   "execution_count": 169,
   "id": "c1f06adc-a873-4ebd-b5f7-a6431cbeae0d",
   "metadata": {},
   "outputs": [
    {
     "data": {
      "text/html": [
       "<div>\n",
       "<style scoped>\n",
       "    .dataframe tbody tr th:only-of-type {\n",
       "        vertical-align: middle;\n",
       "    }\n",
       "\n",
       "    .dataframe tbody tr th {\n",
       "        vertical-align: top;\n",
       "    }\n",
       "\n",
       "    .dataframe thead th {\n",
       "        text-align: right;\n",
       "    }\n",
       "</style>\n",
       "<table border=\"1\" class=\"dataframe\">\n",
       "  <thead>\n",
       "    <tr style=\"text-align: right;\">\n",
       "      <th></th>\n",
       "      <th>p</th>\n",
       "      <th>q</th>\n",
       "      <th>r</th>\n",
       "      <th>s</th>\n",
       "      <th>nearest_row</th>\n",
       "      <th>dist</th>\n",
       "    </tr>\n",
       "  </thead>\n",
       "  <tbody>\n",
       "    <tr>\n",
       "      <th>a</th>\n",
       "      <td>38</td>\n",
       "      <td>38</td>\n",
       "      <td>46</td>\n",
       "      <td>46</td>\n",
       "      <td>f</td>\n",
       "      <td>61</td>\n",
       "    </tr>\n",
       "    <tr>\n",
       "      <th>b</th>\n",
       "      <td>13</td>\n",
       "      <td>24</td>\n",
       "      <td>3</td>\n",
       "      <td>54</td>\n",
       "      <td>j</td>\n",
       "      <td>100</td>\n",
       "    </tr>\n",
       "    <tr>\n",
       "      <th>c</th>\n",
       "      <td>18</td>\n",
       "      <td>47</td>\n",
       "      <td>4</td>\n",
       "      <td>42</td>\n",
       "      <td>j</td>\n",
       "      <td>97</td>\n",
       "    </tr>\n",
       "    <tr>\n",
       "      <th>d</th>\n",
       "      <td>8</td>\n",
       "      <td>66</td>\n",
       "      <td>50</td>\n",
       "      <td>46</td>\n",
       "      <td>f</td>\n",
       "      <td>96</td>\n",
       "    </tr>\n",
       "    <tr>\n",
       "      <th>e</th>\n",
       "      <td>62</td>\n",
       "      <td>36</td>\n",
       "      <td>19</td>\n",
       "      <td>19</td>\n",
       "      <td>j</td>\n",
       "      <td>103</td>\n",
       "    </tr>\n",
       "    <tr>\n",
       "      <th>f</th>\n",
       "      <td>77</td>\n",
       "      <td>17</td>\n",
       "      <td>7</td>\n",
       "      <td>63</td>\n",
       "      <td>j</td>\n",
       "      <td>107</td>\n",
       "    </tr>\n",
       "    <tr>\n",
       "      <th>g</th>\n",
       "      <td>28</td>\n",
       "      <td>47</td>\n",
       "      <td>46</td>\n",
       "      <td>65</td>\n",
       "      <td>h</td>\n",
       "      <td>71</td>\n",
       "    </tr>\n",
       "    <tr>\n",
       "      <th>h</th>\n",
       "      <td>63</td>\n",
       "      <td>12</td>\n",
       "      <td>16</td>\n",
       "      <td>24</td>\n",
       "      <td>j</td>\n",
       "      <td>110</td>\n",
       "    </tr>\n",
       "    <tr>\n",
       "      <th>i</th>\n",
       "      <td>14</td>\n",
       "      <td>51</td>\n",
       "      <td>34</td>\n",
       "      <td>56</td>\n",
       "      <td>f</td>\n",
       "      <td>77</td>\n",
       "    </tr>\n",
       "    <tr>\n",
       "      <th>j</th>\n",
       "      <td>29</td>\n",
       "      <td>59</td>\n",
       "      <td>92</td>\n",
       "      <td>79</td>\n",
       "      <td>h</td>\n",
       "      <td>110</td>\n",
       "    </tr>\n",
       "  </tbody>\n",
       "</table>\n",
       "</div>"
      ],
      "text/plain": [
       "    p   q   r   s nearest_row  dist\n",
       "a  38  38  46  46           f    61\n",
       "b  13  24   3  54           j   100\n",
       "c  18  47   4  42           j    97\n",
       "d   8  66  50  46           f    96\n",
       "e  62  36  19  19           j   103\n",
       "f  77  17   7  63           j   107\n",
       "g  28  47  46  65           h    71\n",
       "h  63  12  16  24           j   110\n",
       "i  14  51  34  56           f    77\n",
       "j  29  59  92  79           h   110"
      ]
     },
     "execution_count": 169,
     "metadata": {},
     "output_type": "execute_result"
    }
   ],
   "source": [
    "import pandas as pd\n",
    "import numpy as np\n",
    "\n",
    "def solution(df):\n",
    "    def foo(x):\n",
    "        return df.apply(lambda y: int(round(np.sqrt(np.sum((x-y)**2)))), axis=1)\n",
    "    _df = df.apply(foo, axis=1)\n",
    "    df['nearest_row'] = _df.idxmax()\n",
    "    df['dist'] = _df.max()\n",
    "\n",
    "    return df\n",
    "\n",
    "\n",
    "df = pd.DataFrame(np.random.RandomState(30).randint(1, 100, 40).reshape(\n",
    "    10, -1), columns=list('pqrs'), index=list('abcdefghij'))\n",
    "solution(df)"
   ]
  },
  {
   "cell_type": "markdown",
   "id": "d7364989-b6ea-4629-8d72-642394cfbd83",
   "metadata": {},
   "source": [
    "## Определите максимально возможное значение корреляции каждого столбца по сравнению с другими столбцами датафрейма."
   ]
  },
  {
   "cell_type": "code",
   "execution_count": 170,
   "id": "f90bd5c5-ab28-4e73-b485-b5389335580b",
   "metadata": {},
   "outputs": [
    {
     "name": "stdout",
     "output_type": "stream",
     "text": [
      "[0.77 0.64 0.77 0.85 0.62 0.85 0.62 0.67 0.44 0.62]\n"
     ]
    }
   ],
   "source": [
    "import numpy as np\n",
    "import pandas as pd\n",
    "\n",
    "df = pd.DataFrame(np.random.RandomState(25).randint(1, 100, 80).reshape(\n",
    "    8, -1), columns=list('pqrstuvwxy'), index=list('abcdefgh'))\n",
    "\n",
    "_df = df.corr().round(2).abs()\n",
    "print(_df[_df < 1].max().to_numpy())"
   ]
  },
  {
   "cell_type": "markdown",
   "id": "a98bb747-61fb-4544-bacc-23bfc71198aa",
   "metadata": {},
   "source": [
    "## Определите отношение минимума к максимуму для каждой строки."
   ]
  },
  {
   "cell_type": "code",
   "execution_count": 172,
   "id": "33f00ca6-d932-4fd5-8da1-1635519b893c",
   "metadata": {},
   "outputs": [
    {
     "data": {
      "text/plain": [
       "0    0.054945\n",
       "1    0.022222\n",
       "2    0.023529\n",
       "3    0.022989\n",
       "4    0.030303\n",
       "5    0.032967\n",
       "6    0.170455\n",
       "7    0.164835\n",
       "dtype: float64"
      ]
     },
     "execution_count": 172,
     "metadata": {},
     "output_type": "execute_result"
    }
   ],
   "source": [
    "import pandas as pd\n",
    "import numpy as np\n",
    "\n",
    "df = pd.DataFrame(np.random.RandomState(25).randint(1, 100, 80).reshape(8, -1))\n",
    "\n",
    "df.min(axis=1)/df.max(axis=1)"
   ]
  },
  {
   "cell_type": "markdown",
   "id": "c728cf1f-992f-4f04-b127-09d1d6d2f8c3",
   "metadata": {},
   "source": [
    "## Создайте новый столбец penultimate (с англ. предпоследний), который имеет второе по величине значение каждой строки датафрейма:"
   ]
  },
  {
   "cell_type": "code",
   "execution_count": 174,
   "id": "22f16814-f615-4007-a8f4-050c05e28d6e",
   "metadata": {},
   "outputs": [
    {
     "data": {
      "text/html": [
       "<div>\n",
       "<style scoped>\n",
       "    .dataframe tbody tr th:only-of-type {\n",
       "        vertical-align: middle;\n",
       "    }\n",
       "\n",
       "    .dataframe tbody tr th {\n",
       "        vertical-align: top;\n",
       "    }\n",
       "\n",
       "    .dataframe thead th {\n",
       "        text-align: right;\n",
       "    }\n",
       "</style>\n",
       "<table border=\"1\" class=\"dataframe\">\n",
       "  <thead>\n",
       "    <tr style=\"text-align: right;\">\n",
       "      <th></th>\n",
       "      <th>0</th>\n",
       "      <th>1</th>\n",
       "      <th>2</th>\n",
       "      <th>3</th>\n",
       "      <th>4</th>\n",
       "      <th>5</th>\n",
       "      <th>6</th>\n",
       "      <th>7</th>\n",
       "      <th>8</th>\n",
       "      <th>9</th>\n",
       "      <th>penultimate</th>\n",
       "    </tr>\n",
       "  </thead>\n",
       "  <tbody>\n",
       "    <tr>\n",
       "      <th>0</th>\n",
       "      <td>5</td>\n",
       "      <td>63</td>\n",
       "      <td>91</td>\n",
       "      <td>16</td>\n",
       "      <td>62</td>\n",
       "      <td>24</td>\n",
       "      <td>45</td>\n",
       "      <td>51</td>\n",
       "      <td>9</td>\n",
       "      <td>29</td>\n",
       "      <td>63</td>\n",
       "    </tr>\n",
       "    <tr>\n",
       "      <th>1</th>\n",
       "      <td>5</td>\n",
       "      <td>90</td>\n",
       "      <td>32</td>\n",
       "      <td>70</td>\n",
       "      <td>2</td>\n",
       "      <td>40</td>\n",
       "      <td>4</td>\n",
       "      <td>89</td>\n",
       "      <td>56</td>\n",
       "      <td>4</td>\n",
       "      <td>89</td>\n",
       "    </tr>\n",
       "    <tr>\n",
       "      <th>2</th>\n",
       "      <td>85</td>\n",
       "      <td>46</td>\n",
       "      <td>4</td>\n",
       "      <td>2</td>\n",
       "      <td>23</td>\n",
       "      <td>32</td>\n",
       "      <td>49</td>\n",
       "      <td>48</td>\n",
       "      <td>74</td>\n",
       "      <td>17</td>\n",
       "      <td>74</td>\n",
       "    </tr>\n",
       "    <tr>\n",
       "      <th>3</th>\n",
       "      <td>51</td>\n",
       "      <td>86</td>\n",
       "      <td>37</td>\n",
       "      <td>10</td>\n",
       "      <td>33</td>\n",
       "      <td>11</td>\n",
       "      <td>61</td>\n",
       "      <td>48</td>\n",
       "      <td>2</td>\n",
       "      <td>87</td>\n",
       "      <td>86</td>\n",
       "    </tr>\n",
       "    <tr>\n",
       "      <th>4</th>\n",
       "      <td>92</td>\n",
       "      <td>50</td>\n",
       "      <td>19</td>\n",
       "      <td>93</td>\n",
       "      <td>37</td>\n",
       "      <td>99</td>\n",
       "      <td>31</td>\n",
       "      <td>39</td>\n",
       "      <td>3</td>\n",
       "      <td>6</td>\n",
       "      <td>93</td>\n",
       "    </tr>\n",
       "    <tr>\n",
       "      <th>5</th>\n",
       "      <td>58</td>\n",
       "      <td>74</td>\n",
       "      <td>23</td>\n",
       "      <td>12</td>\n",
       "      <td>3</td>\n",
       "      <td>44</td>\n",
       "      <td>91</td>\n",
       "      <td>62</td>\n",
       "      <td>85</td>\n",
       "      <td>84</td>\n",
       "      <td>85</td>\n",
       "    </tr>\n",
       "    <tr>\n",
       "      <th>6</th>\n",
       "      <td>75</td>\n",
       "      <td>18</td>\n",
       "      <td>15</td>\n",
       "      <td>84</td>\n",
       "      <td>38</td>\n",
       "      <td>88</td>\n",
       "      <td>51</td>\n",
       "      <td>52</td>\n",
       "      <td>15</td>\n",
       "      <td>72</td>\n",
       "      <td>84</td>\n",
       "    </tr>\n",
       "    <tr>\n",
       "      <th>7</th>\n",
       "      <td>63</td>\n",
       "      <td>91</td>\n",
       "      <td>16</td>\n",
       "      <td>15</td>\n",
       "      <td>77</td>\n",
       "      <td>40</td>\n",
       "      <td>89</td>\n",
       "      <td>47</td>\n",
       "      <td>54</td>\n",
       "      <td>30</td>\n",
       "      <td>89</td>\n",
       "    </tr>\n",
       "  </tbody>\n",
       "</table>\n",
       "</div>"
      ],
      "text/plain": [
       "    0   1   2   3   4   5   6   7   8   9  penultimate\n",
       "0   5  63  91  16  62  24  45  51   9  29           63\n",
       "1   5  90  32  70   2  40   4  89  56   4           89\n",
       "2  85  46   4   2  23  32  49  48  74  17           74\n",
       "3  51  86  37  10  33  11  61  48   2  87           86\n",
       "4  92  50  19  93  37  99  31  39   3   6           93\n",
       "5  58  74  23  12   3  44  91  62  85  84           85\n",
       "6  75  18  15  84  38  88  51  52  15  72           84\n",
       "7  63  91  16  15  77  40  89  47  54  30           89"
      ]
     },
     "execution_count": 174,
     "metadata": {},
     "output_type": "execute_result"
    }
   ],
   "source": [
    "import pandas as pd\n",
    "import numpy as np\n",
    "\n",
    "df = pd.DataFrame(np.random.RandomState(25).randint(1, 100, 80).reshape(8, -1))\n",
    "\n",
    "df['penultimate'] = df.apply(lambda x: x.nlargest(2).min(), axis=1)\n",
    "df"
   ]
  },
  {
   "cell_type": "markdown",
   "id": "cdd7e8d8-35a9-4562-8ed8-fbbe37dd710f",
   "metadata": {},
   "source": [
    "## Нормализуйте все столбцы датафрейма, вычитая среднее значение столбца и разделив на стандартное отклонение:"
   ]
  },
  {
   "cell_type": "code",
   "execution_count": 181,
   "id": "69f29600-de6a-4e7c-abdf-2a1e96452ced",
   "metadata": {},
   "outputs": [
    {
     "data": {
      "text/html": [
       "<div>\n",
       "<style scoped>\n",
       "    .dataframe tbody tr th:only-of-type {\n",
       "        vertical-align: middle;\n",
       "    }\n",
       "\n",
       "    .dataframe tbody tr th {\n",
       "        vertical-align: top;\n",
       "    }\n",
       "\n",
       "    .dataframe thead th {\n",
       "        text-align: right;\n",
       "    }\n",
       "</style>\n",
       "<table border=\"1\" class=\"dataframe\">\n",
       "  <thead>\n",
       "    <tr style=\"text-align: right;\">\n",
       "      <th></th>\n",
       "      <th>0</th>\n",
       "      <th>1</th>\n",
       "      <th>2</th>\n",
       "      <th>3</th>\n",
       "      <th>4</th>\n",
       "      <th>5</th>\n",
       "      <th>6</th>\n",
       "      <th>7</th>\n",
       "      <th>8</th>\n",
       "      <th>9</th>\n",
       "    </tr>\n",
       "  </thead>\n",
       "  <tbody>\n",
       "    <tr>\n",
       "      <th>0</th>\n",
       "      <td>1.47</td>\n",
       "      <td>-1.13</td>\n",
       "      <td>1.31</td>\n",
       "      <td>-0.59</td>\n",
       "      <td>1.38</td>\n",
       "      <td>-1.00</td>\n",
       "      <td>-1.27</td>\n",
       "      <td>0.98</td>\n",
       "      <td>-0.46</td>\n",
       "      <td>0.59</td>\n",
       "    </tr>\n",
       "    <tr>\n",
       "      <th>1</th>\n",
       "      <td>-0.23</td>\n",
       "      <td>1.07</td>\n",
       "      <td>-0.50</td>\n",
       "      <td>1.08</td>\n",
       "      <td>1.38</td>\n",
       "      <td>-0.47</td>\n",
       "      <td>1.03</td>\n",
       "      <td>-0.97</td>\n",
       "      <td>0.72</td>\n",
       "      <td>-1.08</td>\n",
       "    </tr>\n",
       "    <tr>\n",
       "      <th>2</th>\n",
       "      <td>-1.05</td>\n",
       "      <td>1.12</td>\n",
       "      <td>-1.62</td>\n",
       "      <td>-0.65</td>\n",
       "      <td>-0.69</td>\n",
       "      <td>1.07</td>\n",
       "      <td>0.12</td>\n",
       "      <td>-0.67</td>\n",
       "      <td>-1.02</td>\n",
       "      <td>0.68</td>\n",
       "    </tr>\n",
       "    <tr>\n",
       "      <th>3</th>\n",
       "      <td>1.02</td>\n",
       "      <td>0.12</td>\n",
       "      <td>0.72</td>\n",
       "      <td>1.02</td>\n",
       "      <td>0.50</td>\n",
       "      <td>1.67</td>\n",
       "      <td>-0.83</td>\n",
       "      <td>-1.17</td>\n",
       "      <td>-0.93</td>\n",
       "      <td>0.71</td>\n",
       "    </tr>\n",
       "    <tr>\n",
       "      <th>4</th>\n",
       "      <td>-0.71</td>\n",
       "      <td>-1.45</td>\n",
       "      <td>0.72</td>\n",
       "      <td>-0.92</td>\n",
       "      <td>0.12</td>\n",
       "      <td>-0.78</td>\n",
       "      <td>-1.34</td>\n",
       "      <td>1.11</td>\n",
       "      <td>1.55</td>\n",
       "      <td>0.23</td>\n",
       "    </tr>\n",
       "    <tr>\n",
       "      <th>5</th>\n",
       "      <td>0.89</td>\n",
       "      <td>0.50</td>\n",
       "      <td>-0.86</td>\n",
       "      <td>-0.10</td>\n",
       "      <td>-0.87</td>\n",
       "      <td>0.70</td>\n",
       "      <td>0.85</td>\n",
       "      <td>-0.71</td>\n",
       "      <td>-0.58</td>\n",
       "      <td>1.26</td>\n",
       "    </tr>\n",
       "    <tr>\n",
       "      <th>6</th>\n",
       "      <td>-0.26</td>\n",
       "      <td>0.58</td>\n",
       "      <td>-0.43</td>\n",
       "      <td>1.34</td>\n",
       "      <td>-0.95</td>\n",
       "      <td>-0.72</td>\n",
       "      <td>0.56</td>\n",
       "      <td>0.22</td>\n",
       "      <td>-0.46</td>\n",
       "      <td>-1.14</td>\n",
       "    </tr>\n",
       "    <tr>\n",
       "      <th>7</th>\n",
       "      <td>-1.14</td>\n",
       "      <td>-0.80</td>\n",
       "      <td>0.66</td>\n",
       "      <td>-1.18</td>\n",
       "      <td>-0.87</td>\n",
       "      <td>-0.47</td>\n",
       "      <td>0.89</td>\n",
       "      <td>1.21</td>\n",
       "      <td>1.19</td>\n",
       "      <td>-1.26</td>\n",
       "    </tr>\n",
       "  </tbody>\n",
       "</table>\n",
       "</div>"
      ],
      "text/plain": [
       "      0     1     2     3     4     5     6     7     8     9\n",
       "0  1.47 -1.13  1.31 -0.59  1.38 -1.00 -1.27  0.98 -0.46  0.59\n",
       "1 -0.23  1.07 -0.50  1.08  1.38 -0.47  1.03 -0.97  0.72 -1.08\n",
       "2 -1.05  1.12 -1.62 -0.65 -0.69  1.07  0.12 -0.67 -1.02  0.68\n",
       "3  1.02  0.12  0.72  1.02  0.50  1.67 -0.83 -1.17 -0.93  0.71\n",
       "4 -0.71 -1.45  0.72 -0.92  0.12 -0.78 -1.34  1.11  1.55  0.23\n",
       "5  0.89  0.50 -0.86 -0.10 -0.87  0.70  0.85 -0.71 -0.58  1.26\n",
       "6 -0.26  0.58 -0.43  1.34 -0.95 -0.72  0.56  0.22 -0.46 -1.14\n",
       "7 -1.14 -0.80  0.66 -1.18 -0.87 -0.47  0.89  1.21  1.19 -1.26"
      ]
     },
     "execution_count": 181,
     "metadata": {},
     "output_type": "execute_result"
    }
   ],
   "source": [
    "import numpy as np\n",
    "import pandas as pd\n",
    "\n",
    "df = pd.DataFrame(np.random.RandomState(20).randint(1, 100, 80).reshape(8, -1))\n",
    "\n",
    "((df-df.mean(axis=0))/df.std(axis=0)).round(2)"
   ]
  },
  {
   "cell_type": "markdown",
   "id": "c8f2ade2-e9ec-4c6b-8042-dda53d162452",
   "metadata": {},
   "source": [
    "# 1.8"
   ]
  },
  {
   "cell_type": "markdown",
   "id": "9c41d57a-6cfd-43a3-8897-3dd17fffaa68",
   "metadata": {},
   "source": [
    "## Для вас подготовлен датафрейм содержащий имена пользователей и их теги. Ваша задача заключается в том чтобы вытянуть самый первый тег из списка и сформировать отдельную колонку:"
   ]
  },
  {
   "cell_type": "code",
   "execution_count": 5,
   "id": "110baf0b-ffe7-4714-b6c9-04ff5f5b2f54",
   "metadata": {},
   "outputs": [
    {
     "data": {
      "text/html": [
       "<div>\n",
       "<style scoped>\n",
       "    .dataframe tbody tr th:only-of-type {\n",
       "        vertical-align: middle;\n",
       "    }\n",
       "\n",
       "    .dataframe tbody tr th {\n",
       "        vertical-align: top;\n",
       "    }\n",
       "\n",
       "    .dataframe thead th {\n",
       "        text-align: right;\n",
       "    }\n",
       "</style>\n",
       "<table border=\"1\" class=\"dataframe\">\n",
       "  <thead>\n",
       "    <tr style=\"text-align: right;\">\n",
       "      <th></th>\n",
       "      <th>user_name</th>\n",
       "      <th>user_tags</th>\n",
       "      <th>user_main_tag</th>\n",
       "    </tr>\n",
       "  </thead>\n",
       "  <tbody>\n",
       "    <tr>\n",
       "      <th>0</th>\n",
       "      <td>Ivan 007</td>\n",
       "      <td>['sport', 'law', 'cars']</td>\n",
       "      <td>sport</td>\n",
       "    </tr>\n",
       "    <tr>\n",
       "      <th>1</th>\n",
       "      <td>Petr 911</td>\n",
       "      <td>['cars', 'law', 'girls']</td>\n",
       "      <td>cars</td>\n",
       "    </tr>\n",
       "    <tr>\n",
       "      <th>2</th>\n",
       "      <td>Nikolay 112</td>\n",
       "      <td>['law', 'travels', 'cars']</td>\n",
       "      <td>law</td>\n",
       "    </tr>\n",
       "  </tbody>\n",
       "</table>\n",
       "</div>"
      ],
      "text/plain": [
       "     user_name                   user_tags user_main_tag\n",
       "0     Ivan 007    ['sport', 'law', 'cars']         sport\n",
       "1     Petr 911    ['cars', 'law', 'girls']          cars\n",
       "2  Nikolay 112  ['law', 'travels', 'cars']           law"
      ]
     },
     "execution_count": 5,
     "metadata": {},
     "output_type": "execute_result"
    }
   ],
   "source": [
    "import pandas as pd\n",
    "\n",
    "initial_df = pd.DataFrame({'user_name': ['Ivan 007', 'Petr 911', 'Nikolay 112'], 'user_tags': [\n",
    "                          \"['sport', 'law', 'cars']\", \"['cars', 'law', 'girls']\", \"['law', 'travels', 'cars']\"]})\n",
    "\n",
    "def solution(df):\n",
    "    df[\"user_main_tag\"] = df.apply(lambda x: x.str.replace(r\"^\\['(\\w+)'.*\", r\"\\g<1>\", regex=True)[\"user_tags\"], axis=1)\n",
    "    return df\n",
    "\n",
    "\n",
    "solution(initial_df)"
   ]
  },
  {
   "cell_type": "markdown",
   "id": "09ac46e6-a9da-477f-83ee-618aa7ab6b1c",
   "metadata": {},
   "source": [
    "## Некоторые значения в столбце FlightNumber отсутствуют. Значения в столбце должны увеличиваться на 10 с каждой строкой, поэтому в пропусках необходимо установить 10055 и 10075. Заполните эти недостающие числа и измените тип столбца с float на int"
   ]
  },
  {
   "cell_type": "code",
   "execution_count": 6,
   "id": "0a06ecfd-5906-4196-a397-791d295eccc2",
   "metadata": {},
   "outputs": [
    {
     "data": {
      "text/html": [
       "<div>\n",
       "<style scoped>\n",
       "    .dataframe tbody tr th:only-of-type {\n",
       "        vertical-align: middle;\n",
       "    }\n",
       "\n",
       "    .dataframe tbody tr th {\n",
       "        vertical-align: top;\n",
       "    }\n",
       "\n",
       "    .dataframe thead th {\n",
       "        text-align: right;\n",
       "    }\n",
       "</style>\n",
       "<table border=\"1\" class=\"dataframe\">\n",
       "  <thead>\n",
       "    <tr style=\"text-align: right;\">\n",
       "      <th></th>\n",
       "      <th>From_To</th>\n",
       "      <th>FlightNumber</th>\n",
       "      <th>RecentDelays</th>\n",
       "      <th>Airline</th>\n",
       "    </tr>\n",
       "  </thead>\n",
       "  <tbody>\n",
       "    <tr>\n",
       "      <th>0</th>\n",
       "      <td>LoNDon_paris</td>\n",
       "      <td>10045</td>\n",
       "      <td>[23, 47]</td>\n",
       "      <td>KLM(!)</td>\n",
       "    </tr>\n",
       "    <tr>\n",
       "      <th>1</th>\n",
       "      <td>MAdrid_miLAN</td>\n",
       "      <td>10055</td>\n",
       "      <td>[]</td>\n",
       "      <td>&lt;Air France&gt; (12)</td>\n",
       "    </tr>\n",
       "    <tr>\n",
       "      <th>2</th>\n",
       "      <td>londON_StockhOlm</td>\n",
       "      <td>10065</td>\n",
       "      <td>[24, 43, 87]</td>\n",
       "      <td>(British Airways. )</td>\n",
       "    </tr>\n",
       "    <tr>\n",
       "      <th>3</th>\n",
       "      <td>Budapest_PaRis</td>\n",
       "      <td>10075</td>\n",
       "      <td>[13]</td>\n",
       "      <td>12. Air France</td>\n",
       "    </tr>\n",
       "    <tr>\n",
       "      <th>4</th>\n",
       "      <td>Brussels_londOn</td>\n",
       "      <td>10085</td>\n",
       "      <td>[67, 32]</td>\n",
       "      <td>\"Swiss Air\"</td>\n",
       "    </tr>\n",
       "  </tbody>\n",
       "</table>\n",
       "</div>"
      ],
      "text/plain": [
       "            From_To  FlightNumber  RecentDelays              Airline\n",
       "0      LoNDon_paris         10045      [23, 47]               KLM(!)\n",
       "1      MAdrid_miLAN         10055            []    <Air France> (12)\n",
       "2  londON_StockhOlm         10065  [24, 43, 87]  (British Airways. )\n",
       "3    Budapest_PaRis         10075          [13]       12. Air France\n",
       "4   Brussels_londOn         10085      [67, 32]          \"Swiss Air\""
      ]
     },
     "execution_count": 6,
     "metadata": {},
     "output_type": "execute_result"
    }
   ],
   "source": [
    "import pandas as pd\n",
    "import numpy as np\n",
    "\n",
    "initial_df = pd.DataFrame({'From_To': ['LoNDon_paris', 'MAdrid_miLAN', 'londON_StockhOlm',\n",
    "                                       'Budapest_PaRis', 'Brussels_londOn'],\n",
    "                           'FlightNumber': [10045, np.nan, 10065, np.nan, 10085],\n",
    "                           'RecentDelays': [[23, 47], [], [24, 43, 87], [13], [67, 32]],\n",
    "                           'Airline': ['KLM(!)', '<Air France> (12)', '(British Airways. )',\n",
    "                                       '12. Air France', '\"Swiss Air\"']})\n",
    "\n",
    "def solution(df):\n",
    "    df[\"FlightNumber\"] = df[\"FlightNumber\"].interpolate().astype(\"int\")\n",
    "    return df\n",
    "\n",
    "\n",
    "solution(initial_df)"
   ]
  },
  {
   "cell_type": "markdown",
   "id": "7e60fb7a-007e-4603-b3e9-16d5df94e8d4",
   "metadata": {},
   "source": [
    "## Разбейте данные из столбца From_To на два столбца From и То. Исходный столбец удалите."
   ]
  },
  {
   "cell_type": "code",
   "execution_count": 7,
   "id": "c72785ef-1266-4e4c-a753-eddc27201223",
   "metadata": {},
   "outputs": [
    {
     "data": {
      "text/html": [
       "<div>\n",
       "<style scoped>\n",
       "    .dataframe tbody tr th:only-of-type {\n",
       "        vertical-align: middle;\n",
       "    }\n",
       "\n",
       "    .dataframe tbody tr th {\n",
       "        vertical-align: top;\n",
       "    }\n",
       "\n",
       "    .dataframe thead th {\n",
       "        text-align: right;\n",
       "    }\n",
       "</style>\n",
       "<table border=\"1\" class=\"dataframe\">\n",
       "  <thead>\n",
       "    <tr style=\"text-align: right;\">\n",
       "      <th></th>\n",
       "      <th>FlightNumber</th>\n",
       "      <th>RecentDelays</th>\n",
       "      <th>Airline</th>\n",
       "      <th>From</th>\n",
       "      <th>To</th>\n",
       "    </tr>\n",
       "  </thead>\n",
       "  <tbody>\n",
       "    <tr>\n",
       "      <th>0</th>\n",
       "      <td>10045.0</td>\n",
       "      <td>[23, 47]</td>\n",
       "      <td>KLM(!)</td>\n",
       "      <td>London</td>\n",
       "      <td>Paris</td>\n",
       "    </tr>\n",
       "    <tr>\n",
       "      <th>1</th>\n",
       "      <td>NaN</td>\n",
       "      <td>[]</td>\n",
       "      <td>&lt;Air France&gt; (12)</td>\n",
       "      <td>Madrid</td>\n",
       "      <td>Milan</td>\n",
       "    </tr>\n",
       "    <tr>\n",
       "      <th>2</th>\n",
       "      <td>10065.0</td>\n",
       "      <td>[24, 43, 87]</td>\n",
       "      <td>(British Airways. )</td>\n",
       "      <td>London</td>\n",
       "      <td>Stockholm</td>\n",
       "    </tr>\n",
       "    <tr>\n",
       "      <th>3</th>\n",
       "      <td>NaN</td>\n",
       "      <td>[13]</td>\n",
       "      <td>12. Air France</td>\n",
       "      <td>Budapest</td>\n",
       "      <td>Paris</td>\n",
       "    </tr>\n",
       "    <tr>\n",
       "      <th>4</th>\n",
       "      <td>10085.0</td>\n",
       "      <td>[67, 32]</td>\n",
       "      <td>\"Swiss Air\"</td>\n",
       "      <td>Brussels</td>\n",
       "      <td>London</td>\n",
       "    </tr>\n",
       "  </tbody>\n",
       "</table>\n",
       "</div>"
      ],
      "text/plain": [
       "   FlightNumber  RecentDelays              Airline      From         To\n",
       "0       10045.0      [23, 47]               KLM(!)    London      Paris\n",
       "1           NaN            []    <Air France> (12)    Madrid      Milan\n",
       "2       10065.0  [24, 43, 87]  (British Airways. )    London  Stockholm\n",
       "3           NaN          [13]       12. Air France  Budapest      Paris\n",
       "4       10085.0      [67, 32]          \"Swiss Air\"  Brussels     London"
      ]
     },
     "execution_count": 7,
     "metadata": {},
     "output_type": "execute_result"
    }
   ],
   "source": [
    "import pandas as pd\n",
    "import numpy as np\n",
    "\n",
    "def solution(df):\n",
    "    df = pd.concat([df.drop(columns=[\"From_To\"]),\n",
    "                    df[\"From_To\"].str.extract(r'(?P<From>.*?)_(?P<To>.*)').apply(lambda x: x.str.capitalize())], axis=1)\n",
    "    return df\n",
    "\n",
    "\n",
    "solution(initial_df)"
   ]
  },
  {
   "cell_type": "markdown",
   "id": "87f50a23-deaa-4a95-a763-60773d35a0e3",
   "metadata": {},
   "source": [
    "## В столбце Airline содержатся наименования авиакомпаний. Можно заметить, что в названиях присутствуют 'лишние' символы. Выполните преобразование столбца Airline:"
   ]
  },
  {
   "cell_type": "code",
   "execution_count": 8,
   "id": "2e6a39a6-f2ec-4adc-9a63-7b580cdd48b7",
   "metadata": {},
   "outputs": [
    {
     "data": {
      "text/html": [
       "<div>\n",
       "<style scoped>\n",
       "    .dataframe tbody tr th:only-of-type {\n",
       "        vertical-align: middle;\n",
       "    }\n",
       "\n",
       "    .dataframe tbody tr th {\n",
       "        vertical-align: top;\n",
       "    }\n",
       "\n",
       "    .dataframe thead th {\n",
       "        text-align: right;\n",
       "    }\n",
       "</style>\n",
       "<table border=\"1\" class=\"dataframe\">\n",
       "  <thead>\n",
       "    <tr style=\"text-align: right;\">\n",
       "      <th></th>\n",
       "      <th>From_To</th>\n",
       "      <th>FlightNumber</th>\n",
       "      <th>RecentDelays</th>\n",
       "      <th>Airline</th>\n",
       "    </tr>\n",
       "  </thead>\n",
       "  <tbody>\n",
       "    <tr>\n",
       "      <th>0</th>\n",
       "      <td>LoNDon_paris</td>\n",
       "      <td>10045.0</td>\n",
       "      <td>[23, 47]</td>\n",
       "      <td>KLM</td>\n",
       "    </tr>\n",
       "    <tr>\n",
       "      <th>1</th>\n",
       "      <td>MAdrid_miLAN</td>\n",
       "      <td>NaN</td>\n",
       "      <td>[]</td>\n",
       "      <td>Air France</td>\n",
       "    </tr>\n",
       "    <tr>\n",
       "      <th>2</th>\n",
       "      <td>londON_StockhOlm</td>\n",
       "      <td>10065.0</td>\n",
       "      <td>[24, 43, 87]</td>\n",
       "      <td>British Airways</td>\n",
       "    </tr>\n",
       "    <tr>\n",
       "      <th>3</th>\n",
       "      <td>Budapest_PaRis</td>\n",
       "      <td>NaN</td>\n",
       "      <td>[13]</td>\n",
       "      <td>Air France</td>\n",
       "    </tr>\n",
       "    <tr>\n",
       "      <th>4</th>\n",
       "      <td>Brussels_londOn</td>\n",
       "      <td>10085.0</td>\n",
       "      <td>[67, 32]</td>\n",
       "      <td>Swiss Air</td>\n",
       "    </tr>\n",
       "  </tbody>\n",
       "</table>\n",
       "</div>"
      ],
      "text/plain": [
       "            From_To  FlightNumber  RecentDelays          Airline\n",
       "0      LoNDon_paris       10045.0      [23, 47]              KLM\n",
       "1      MAdrid_miLAN           NaN            []       Air France\n",
       "2  londON_StockhOlm       10065.0  [24, 43, 87]  British Airways\n",
       "3    Budapest_PaRis           NaN          [13]       Air France\n",
       "4   Brussels_londOn       10085.0      [67, 32]        Swiss Air"
      ]
     },
     "execution_count": 8,
     "metadata": {},
     "output_type": "execute_result"
    }
   ],
   "source": [
    "import pandas as pd\n",
    "import numpy as np\n",
    "\n",
    "def solution(df):\n",
    "    df[\"Airline\"] = df[\"Airline\"].replace(r'[^a-zA-Z\\s]', '', regex=True).str.strip()\n",
    "    return df\n",
    "\n",
    "\n",
    "solution(initial_df)"
   ]
  },
  {
   "cell_type": "markdown",
   "id": "27a5b180-62c8-4160-b7ca-0cfa8fda2611",
   "metadata": {},
   "source": [
    "## Распакуйте данные из RecentDelays по столбцам delay_1 ... delay_n. После распаковки удалите столбец RecentDelays."
   ]
  },
  {
   "cell_type": "code",
   "execution_count": 9,
   "id": "c6e5ce16-bb39-4867-87ba-6feabbac5c6f",
   "metadata": {},
   "outputs": [
    {
     "data": {
      "text/html": [
       "<div>\n",
       "<style scoped>\n",
       "    .dataframe tbody tr th:only-of-type {\n",
       "        vertical-align: middle;\n",
       "    }\n",
       "\n",
       "    .dataframe tbody tr th {\n",
       "        vertical-align: top;\n",
       "    }\n",
       "\n",
       "    .dataframe thead th {\n",
       "        text-align: right;\n",
       "    }\n",
       "</style>\n",
       "<table border=\"1\" class=\"dataframe\">\n",
       "  <thead>\n",
       "    <tr style=\"text-align: right;\">\n",
       "      <th></th>\n",
       "      <th>From_To</th>\n",
       "      <th>FlightNumber</th>\n",
       "      <th>Airline</th>\n",
       "      <th>delay_1</th>\n",
       "      <th>delay_2</th>\n",
       "      <th>delay_3</th>\n",
       "    </tr>\n",
       "  </thead>\n",
       "  <tbody>\n",
       "    <tr>\n",
       "      <th>0</th>\n",
       "      <td>LoNDon_paris</td>\n",
       "      <td>10045.0</td>\n",
       "      <td>KLM</td>\n",
       "      <td>23.0</td>\n",
       "      <td>47.0</td>\n",
       "      <td>NaN</td>\n",
       "    </tr>\n",
       "    <tr>\n",
       "      <th>1</th>\n",
       "      <td>MAdrid_miLAN</td>\n",
       "      <td>NaN</td>\n",
       "      <td>Air France</td>\n",
       "      <td>NaN</td>\n",
       "      <td>NaN</td>\n",
       "      <td>NaN</td>\n",
       "    </tr>\n",
       "    <tr>\n",
       "      <th>2</th>\n",
       "      <td>londON_StockhOlm</td>\n",
       "      <td>10065.0</td>\n",
       "      <td>British Airways</td>\n",
       "      <td>24.0</td>\n",
       "      <td>43.0</td>\n",
       "      <td>87.0</td>\n",
       "    </tr>\n",
       "    <tr>\n",
       "      <th>3</th>\n",
       "      <td>Budapest_PaRis</td>\n",
       "      <td>NaN</td>\n",
       "      <td>Air France</td>\n",
       "      <td>13.0</td>\n",
       "      <td>NaN</td>\n",
       "      <td>NaN</td>\n",
       "    </tr>\n",
       "    <tr>\n",
       "      <th>4</th>\n",
       "      <td>Brussels_londOn</td>\n",
       "      <td>10085.0</td>\n",
       "      <td>Swiss Air</td>\n",
       "      <td>67.0</td>\n",
       "      <td>32.0</td>\n",
       "      <td>NaN</td>\n",
       "    </tr>\n",
       "  </tbody>\n",
       "</table>\n",
       "</div>"
      ],
      "text/plain": [
       "            From_To  FlightNumber          Airline  delay_1  delay_2  delay_3\n",
       "0      LoNDon_paris       10045.0              KLM     23.0     47.0      NaN\n",
       "1      MAdrid_miLAN           NaN       Air France      NaN      NaN      NaN\n",
       "2  londON_StockhOlm       10065.0  British Airways     24.0     43.0     87.0\n",
       "3    Budapest_PaRis           NaN       Air France     13.0      NaN      NaN\n",
       "4   Brussels_londOn       10085.0        Swiss Air     67.0     32.0      NaN"
      ]
     },
     "execution_count": 9,
     "metadata": {},
     "output_type": "execute_result"
    }
   ],
   "source": [
    "import pandas as pd\n",
    "import numpy as np\n",
    "\n",
    "def solution(df):\n",
    "    def foo(x):\n",
    "        for i, v in enumerate(x):\n",
    "            df.loc[x.name, f\"delay_{i+1}\"] = v\n",
    "\n",
    "    df['RecentDelays'].explode().groupby(level=0).apply(foo)\n",
    "    df = df.drop(columns='RecentDelays')\n",
    "    return df\n",
    "\n",
    "\n",
    "solution(initial_df)"
   ]
  },
  {
   "cell_type": "markdown",
   "id": "0eb526e6-ba63-468f-92de-e62415ae9bfc",
   "metadata": {},
   "source": [
    "## Замените на 0 все значения на диагоналях матрицы:"
   ]
  },
  {
   "cell_type": "code",
   "execution_count": 12,
   "id": "618f7066-b845-4e0c-a049-629bad551183",
   "metadata": {},
   "outputs": [
    {
     "data": {
      "text/html": [
       "<div>\n",
       "<style scoped>\n",
       "    .dataframe tbody tr th:only-of-type {\n",
       "        vertical-align: middle;\n",
       "    }\n",
       "\n",
       "    .dataframe tbody tr th {\n",
       "        vertical-align: top;\n",
       "    }\n",
       "\n",
       "    .dataframe thead th {\n",
       "        text-align: right;\n",
       "    }\n",
       "</style>\n",
       "<table border=\"1\" class=\"dataframe\">\n",
       "  <thead>\n",
       "    <tr style=\"text-align: right;\">\n",
       "      <th></th>\n",
       "      <th>0</th>\n",
       "      <th>1</th>\n",
       "      <th>2</th>\n",
       "      <th>3</th>\n",
       "      <th>4</th>\n",
       "      <th>5</th>\n",
       "      <th>6</th>\n",
       "      <th>7</th>\n",
       "      <th>8</th>\n",
       "      <th>9</th>\n",
       "    </tr>\n",
       "  </thead>\n",
       "  <tbody>\n",
       "    <tr>\n",
       "      <th>0</th>\n",
       "      <td>0</td>\n",
       "      <td>16</td>\n",
       "      <td>65</td>\n",
       "      <td>29</td>\n",
       "      <td>90</td>\n",
       "      <td>94</td>\n",
       "      <td>30</td>\n",
       "      <td>9</td>\n",
       "      <td>74</td>\n",
       "      <td>0</td>\n",
       "    </tr>\n",
       "    <tr>\n",
       "      <th>1</th>\n",
       "      <td>41</td>\n",
       "      <td>0</td>\n",
       "      <td>17</td>\n",
       "      <td>12</td>\n",
       "      <td>55</td>\n",
       "      <td>89</td>\n",
       "      <td>63</td>\n",
       "      <td>34</td>\n",
       "      <td>0</td>\n",
       "      <td>79</td>\n",
       "    </tr>\n",
       "    <tr>\n",
       "      <th>2</th>\n",
       "      <td>50</td>\n",
       "      <td>52</td>\n",
       "      <td>0</td>\n",
       "      <td>78</td>\n",
       "      <td>70</td>\n",
       "      <td>14</td>\n",
       "      <td>26</td>\n",
       "      <td>0</td>\n",
       "      <td>93</td>\n",
       "      <td>87</td>\n",
       "    </tr>\n",
       "    <tr>\n",
       "      <th>3</th>\n",
       "      <td>31</td>\n",
       "      <td>31</td>\n",
       "      <td>90</td>\n",
       "      <td>0</td>\n",
       "      <td>66</td>\n",
       "      <td>32</td>\n",
       "      <td>0</td>\n",
       "      <td>37</td>\n",
       "      <td>28</td>\n",
       "      <td>19</td>\n",
       "    </tr>\n",
       "    <tr>\n",
       "      <th>4</th>\n",
       "      <td>94</td>\n",
       "      <td>78</td>\n",
       "      <td>23</td>\n",
       "      <td>24</td>\n",
       "      <td>0</td>\n",
       "      <td>0</td>\n",
       "      <td>29</td>\n",
       "      <td>75</td>\n",
       "      <td>89</td>\n",
       "      <td>10</td>\n",
       "    </tr>\n",
       "    <tr>\n",
       "      <th>5</th>\n",
       "      <td>16</td>\n",
       "      <td>19</td>\n",
       "      <td>81</td>\n",
       "      <td>72</td>\n",
       "      <td>0</td>\n",
       "      <td>0</td>\n",
       "      <td>18</td>\n",
       "      <td>47</td>\n",
       "      <td>8</td>\n",
       "      <td>76</td>\n",
       "    </tr>\n",
       "    <tr>\n",
       "      <th>6</th>\n",
       "      <td>29</td>\n",
       "      <td>34</td>\n",
       "      <td>85</td>\n",
       "      <td>0</td>\n",
       "      <td>89</td>\n",
       "      <td>45</td>\n",
       "      <td>0</td>\n",
       "      <td>5</td>\n",
       "      <td>72</td>\n",
       "      <td>89</td>\n",
       "    </tr>\n",
       "    <tr>\n",
       "      <th>7</th>\n",
       "      <td>89</td>\n",
       "      <td>51</td>\n",
       "      <td>0</td>\n",
       "      <td>35</td>\n",
       "      <td>16</td>\n",
       "      <td>78</td>\n",
       "      <td>89</td>\n",
       "      <td>0</td>\n",
       "      <td>7</td>\n",
       "      <td>86</td>\n",
       "    </tr>\n",
       "    <tr>\n",
       "      <th>8</th>\n",
       "      <td>23</td>\n",
       "      <td>0</td>\n",
       "      <td>13</td>\n",
       "      <td>93</td>\n",
       "      <td>97</td>\n",
       "      <td>63</td>\n",
       "      <td>58</td>\n",
       "      <td>80</td>\n",
       "      <td>0</td>\n",
       "      <td>58</td>\n",
       "    </tr>\n",
       "    <tr>\n",
       "      <th>9</th>\n",
       "      <td>0</td>\n",
       "      <td>51</td>\n",
       "      <td>46</td>\n",
       "      <td>41</td>\n",
       "      <td>90</td>\n",
       "      <td>74</td>\n",
       "      <td>38</td>\n",
       "      <td>1</td>\n",
       "      <td>19</td>\n",
       "      <td>0</td>\n",
       "    </tr>\n",
       "  </tbody>\n",
       "</table>\n",
       "</div>"
      ],
      "text/plain": [
       "    0   1   2   3   4   5   6   7   8   9\n",
       "0   0  16  65  29  90  94  30   9  74   0\n",
       "1  41   0  17  12  55  89  63  34   0  79\n",
       "2  50  52   0  78  70  14  26   0  93  87\n",
       "3  31  31  90   0  66  32   0  37  28  19\n",
       "4  94  78  23  24   0   0  29  75  89  10\n",
       "5  16  19  81  72   0   0  18  47   8  76\n",
       "6  29  34  85   0  89  45   0   5  72  89\n",
       "7  89  51   0  35  16  78  89   0   7  86\n",
       "8  23   0  13  93  97  63  58  80   0  58\n",
       "9   0  51  46  41  90  74  38   1  19   0"
      ]
     },
     "execution_count": 12,
     "metadata": {},
     "output_type": "execute_result"
    }
   ],
   "source": [
    "import pandas as pd\n",
    "import numpy as np\n",
    "\n",
    "initial_df = pd.DataFrame(np.random.RandomState(10).randint(1, 100, 100).reshape(10, -1))\n",
    "\n",
    "def solution(df):\n",
    "    dn = df.to_numpy()\n",
    "    np.fill_diagonal(dn, 0)\n",
    "    np.fill_diagonal(np.fliplr(dn), 0)\n",
    "    return df\n",
    "\n",
    "\n",
    "solution(initial_df)"
   ]
  },
  {
   "cell_type": "markdown",
   "id": "b01d9bf3-2361-4d7b-a93f-f979e0066cb4",
   "metadata": {},
   "source": [
    "## Создайте два новых столбца, один из которых является lag1 (сдвиг значений столбца А вниз на 1 строку), а другой — lead1 (сдвиг значений столбца B вверх на 1 строку):"
   ]
  },
  {
   "cell_type": "code",
   "execution_count": 14,
   "id": "b6dab8df-0125-491f-91bb-abdf5def047d",
   "metadata": {},
   "outputs": [
    {
     "data": {
      "text/html": [
       "<div>\n",
       "<style scoped>\n",
       "    .dataframe tbody tr th:only-of-type {\n",
       "        vertical-align: middle;\n",
       "    }\n",
       "\n",
       "    .dataframe tbody tr th {\n",
       "        vertical-align: top;\n",
       "    }\n",
       "\n",
       "    .dataframe thead th {\n",
       "        text-align: right;\n",
       "    }\n",
       "</style>\n",
       "<table border=\"1\" class=\"dataframe\">\n",
       "  <thead>\n",
       "    <tr style=\"text-align: right;\">\n",
       "      <th></th>\n",
       "      <th>a</th>\n",
       "      <th>b</th>\n",
       "      <th>c</th>\n",
       "      <th>d</th>\n",
       "      <th>a_lag1</th>\n",
       "      <th>b_lead1</th>\n",
       "    </tr>\n",
       "  </thead>\n",
       "  <tbody>\n",
       "    <tr>\n",
       "      <th>0</th>\n",
       "      <td>10</td>\n",
       "      <td>16</td>\n",
       "      <td>65</td>\n",
       "      <td>29</td>\n",
       "      <td>NaN</td>\n",
       "      <td>94.0</td>\n",
       "    </tr>\n",
       "    <tr>\n",
       "      <th>1</th>\n",
       "      <td>90</td>\n",
       "      <td>94</td>\n",
       "      <td>30</td>\n",
       "      <td>9</td>\n",
       "      <td>10.0</td>\n",
       "      <td>1.0</td>\n",
       "    </tr>\n",
       "    <tr>\n",
       "      <th>2</th>\n",
       "      <td>74</td>\n",
       "      <td>1</td>\n",
       "      <td>41</td>\n",
       "      <td>37</td>\n",
       "      <td>90.0</td>\n",
       "      <td>12.0</td>\n",
       "    </tr>\n",
       "    <tr>\n",
       "      <th>3</th>\n",
       "      <td>17</td>\n",
       "      <td>12</td>\n",
       "      <td>55</td>\n",
       "      <td>89</td>\n",
       "      <td>74.0</td>\n",
       "      <td>34.0</td>\n",
       "    </tr>\n",
       "    <tr>\n",
       "      <th>4</th>\n",
       "      <td>63</td>\n",
       "      <td>34</td>\n",
       "      <td>73</td>\n",
       "      <td>79</td>\n",
       "      <td>17.0</td>\n",
       "      <td>NaN</td>\n",
       "    </tr>\n",
       "  </tbody>\n",
       "</table>\n",
       "</div>"
      ],
      "text/plain": [
       "    a   b   c   d  a_lag1  b_lead1\n",
       "0  10  16  65  29     NaN     94.0\n",
       "1  90  94  30   9    10.0      1.0\n",
       "2  74   1  41  37    90.0     12.0\n",
       "3  17  12  55  89    74.0     34.0\n",
       "4  63  34  73  79    17.0      NaN"
      ]
     },
     "execution_count": 14,
     "metadata": {},
     "output_type": "execute_result"
    }
   ],
   "source": [
    "import pandas as pd\n",
    "import numpy as np\n",
    "\n",
    "initial_df = pd.DataFrame(np.random.RandomState(10).randint(1, 100, 20).reshape(-1, 4), columns=list('abcd'))\n",
    "\n",
    "def solution(df):\n",
    "    df['a_lag1'] = df['a'].shift(1)\n",
    "    df['b_lead1'] = df['b'].shift(-1)\n",
    "    return df\n",
    "\n",
    "\n",
    "solution(initial_df)"
   ]
  },
  {
   "cell_type": "markdown",
   "id": "40501556-a207-4f5a-a5a1-72ea7b11d01d",
   "metadata": {},
   "source": [
    "## В исходном датафрейме содержится информация о затратах во время командировок по каждому месяцу для каждого сотрудника. Выполните преобразование датафрейма:"
   ]
  },
  {
   "cell_type": "code",
   "execution_count": 15,
   "id": "6a95061d-9002-4802-9ee3-048fa652ee96",
   "metadata": {},
   "outputs": [
    {
     "data": {
      "text/html": [
       "<div>\n",
       "<style scoped>\n",
       "    .dataframe tbody tr th:only-of-type {\n",
       "        vertical-align: middle;\n",
       "    }\n",
       "\n",
       "    .dataframe tbody tr th {\n",
       "        vertical-align: top;\n",
       "    }\n",
       "\n",
       "    .dataframe thead th {\n",
       "        text-align: right;\n",
       "    }\n",
       "</style>\n",
       "<table border=\"1\" class=\"dataframe\">\n",
       "  <thead>\n",
       "    <tr style=\"text-align: right;\">\n",
       "      <th></th>\n",
       "      <th>city</th>\n",
       "      <th>agent</th>\n",
       "      <th>Date</th>\n",
       "      <th>Value</th>\n",
       "    </tr>\n",
       "  </thead>\n",
       "  <tbody>\n",
       "    <tr>\n",
       "      <th>0</th>\n",
       "      <td>Moscow</td>\n",
       "      <td>Ivan</td>\n",
       "      <td>Jan-2022</td>\n",
       "      <td>5000</td>\n",
       "    </tr>\n",
       "    <tr>\n",
       "      <th>1</th>\n",
       "      <td>Berlin</td>\n",
       "      <td>Valter</td>\n",
       "      <td>Jan-2022</td>\n",
       "      <td>3000</td>\n",
       "    </tr>\n",
       "    <tr>\n",
       "      <th>2</th>\n",
       "      <td>Paris</td>\n",
       "      <td>Ali Abu</td>\n",
       "      <td>Jan-2022</td>\n",
       "      <td>2000</td>\n",
       "    </tr>\n",
       "    <tr>\n",
       "      <th>3</th>\n",
       "      <td>Moscow</td>\n",
       "      <td>Ivan</td>\n",
       "      <td>Feb-2022</td>\n",
       "      <td>3000</td>\n",
       "    </tr>\n",
       "    <tr>\n",
       "      <th>4</th>\n",
       "      <td>Berlin</td>\n",
       "      <td>Valter</td>\n",
       "      <td>Feb-2022</td>\n",
       "      <td>2000</td>\n",
       "    </tr>\n",
       "    <tr>\n",
       "      <th>5</th>\n",
       "      <td>Paris</td>\n",
       "      <td>Ali Abu</td>\n",
       "      <td>Feb-2022</td>\n",
       "      <td>4000</td>\n",
       "    </tr>\n",
       "    <tr>\n",
       "      <th>6</th>\n",
       "      <td>Moscow</td>\n",
       "      <td>Ivan</td>\n",
       "      <td>March-2022</td>\n",
       "      <td>0</td>\n",
       "    </tr>\n",
       "    <tr>\n",
       "      <th>7</th>\n",
       "      <td>Berlin</td>\n",
       "      <td>Valter</td>\n",
       "      <td>March-2022</td>\n",
       "      <td>5000</td>\n",
       "    </tr>\n",
       "    <tr>\n",
       "      <th>8</th>\n",
       "      <td>Paris</td>\n",
       "      <td>Ali Abu</td>\n",
       "      <td>March-2022</td>\n",
       "      <td>7000</td>\n",
       "    </tr>\n",
       "  </tbody>\n",
       "</table>\n",
       "</div>"
      ],
      "text/plain": [
       "     city    agent        Date  Value\n",
       "0  Moscow     Ivan    Jan-2022   5000\n",
       "1  Berlin   Valter    Jan-2022   3000\n",
       "2   Paris  Ali Abu    Jan-2022   2000\n",
       "3  Moscow     Ivan    Feb-2022   3000\n",
       "4  Berlin   Valter    Feb-2022   2000\n",
       "5   Paris  Ali Abu    Feb-2022   4000\n",
       "6  Moscow     Ivan  March-2022      0\n",
       "7  Berlin   Valter  March-2022   5000\n",
       "8   Paris  Ali Abu  March-2022   7000"
      ]
     },
     "execution_count": 15,
     "metadata": {},
     "output_type": "execute_result"
    }
   ],
   "source": [
    "import pandas as pd\n",
    "import numpy as np\n",
    "\n",
    "initial_df = pd.DataFrame({'city': ['Moscow', 'Berlin', 'Paris'], 'agent': [\n",
    "                          'Ivan', 'Valter', 'Ali Abu'], 'Jan-2022': [5000, 3000, 2000], 'Feb-2022': [3000, 2000, 4000], 'March-2022': [0, 5000, 7000]})\n",
    "\n",
    "def solution(df):\n",
    "    df = df.melt(id_vars=['city', 'agent'], var_name='Date', value_name='Value')\n",
    "    return df\n",
    "\n",
    "\n",
    "solution(initial_df)"
   ]
  },
  {
   "cell_type": "markdown",
   "id": "6762c3a2-1bf1-4d4b-a54e-c57337c344a3",
   "metadata": {},
   "source": [
    "## Для каждого месяца определите, кто затратил больше всего денег:"
   ]
  },
  {
   "cell_type": "code",
   "execution_count": 25,
   "id": "87dbdfc2-25cd-4a81-a9d4-ea9eb62181aa",
   "metadata": {},
   "outputs": [
    {
     "data": {
      "text/html": [
       "<div>\n",
       "<style scoped>\n",
       "    .dataframe tbody tr th:only-of-type {\n",
       "        vertical-align: middle;\n",
       "    }\n",
       "\n",
       "    .dataframe tbody tr th {\n",
       "        vertical-align: top;\n",
       "    }\n",
       "\n",
       "    .dataframe thead th {\n",
       "        text-align: right;\n",
       "    }\n",
       "</style>\n",
       "<table border=\"1\" class=\"dataframe\">\n",
       "  <thead>\n",
       "    <tr style=\"text-align: right;\">\n",
       "      <th></th>\n",
       "      <th>city</th>\n",
       "      <th>agent</th>\n",
       "      <th>Date</th>\n",
       "      <th>Value</th>\n",
       "    </tr>\n",
       "  </thead>\n",
       "  <tbody>\n",
       "    <tr>\n",
       "      <th>0</th>\n",
       "      <td>Moscow</td>\n",
       "      <td>Ivan</td>\n",
       "      <td>Jan-2022</td>\n",
       "      <td>5000</td>\n",
       "    </tr>\n",
       "    <tr>\n",
       "      <th>5</th>\n",
       "      <td>Paris</td>\n",
       "      <td>Ali Abu</td>\n",
       "      <td>Feb-2022</td>\n",
       "      <td>4000</td>\n",
       "    </tr>\n",
       "    <tr>\n",
       "      <th>8</th>\n",
       "      <td>Paris</td>\n",
       "      <td>Ali Abu</td>\n",
       "      <td>March-2022</td>\n",
       "      <td>7000</td>\n",
       "    </tr>\n",
       "  </tbody>\n",
       "</table>\n",
       "</div>"
      ],
      "text/plain": [
       "     city    agent        Date  Value\n",
       "0  Moscow     Ivan    Jan-2022   5000\n",
       "5   Paris  Ali Abu    Feb-2022   4000\n",
       "8   Paris  Ali Abu  March-2022   7000"
      ]
     },
     "execution_count": 25,
     "metadata": {},
     "output_type": "execute_result"
    }
   ],
   "source": [
    "import pandas as pd\n",
    "import numpy as np\n",
    "\n",
    "initial_df = pd.DataFrame({'city': ['Moscow', 'Berlin', 'Paris'], 'agent': ['Ivan', 'Valter', 'Ali Abu'], 'Jan-2022': [5000, 3000, 2000], 'Feb-2022': [\n",
    "                          3000, 2000, 4000], 'March-2022': [0, 5000, 7000]}).melt(id_vars=[\"city\", \"agent\"], var_name=\"Date\", value_name=\"Value\")\n",
    "\n",
    "def solution(df):\n",
    "    df = df.loc[df.groupby('Date').Value.idxmax()].sort_index()\n",
    "    return df\n",
    "\n",
    "\n",
    "solution(initial_df)"
   ]
  },
  {
   "cell_type": "markdown",
   "id": "29bb5bae-ad63-4bc0-8c28-74989e6a9521",
   "metadata": {},
   "source": [
    "## Сгруппируйте все затраты для каждого месяца в список:"
   ]
  },
  {
   "cell_type": "code",
   "execution_count": 27,
   "id": "e6bf454e-0966-4d21-8ff9-9438a6a35350",
   "metadata": {},
   "outputs": [
    {
     "data": {
      "text/html": [
       "<div>\n",
       "<style scoped>\n",
       "    .dataframe tbody tr th:only-of-type {\n",
       "        vertical-align: middle;\n",
       "    }\n",
       "\n",
       "    .dataframe tbody tr th {\n",
       "        vertical-align: top;\n",
       "    }\n",
       "\n",
       "    .dataframe thead th {\n",
       "        text-align: right;\n",
       "    }\n",
       "</style>\n",
       "<table border=\"1\" class=\"dataframe\">\n",
       "  <thead>\n",
       "    <tr style=\"text-align: right;\">\n",
       "      <th></th>\n",
       "      <th>Date</th>\n",
       "      <th>values_in_list</th>\n",
       "    </tr>\n",
       "  </thead>\n",
       "  <tbody>\n",
       "    <tr>\n",
       "      <th>0</th>\n",
       "      <td>Feb-2022</td>\n",
       "      <td>[3000, 2000, 4000]</td>\n",
       "    </tr>\n",
       "    <tr>\n",
       "      <th>1</th>\n",
       "      <td>Jan-2022</td>\n",
       "      <td>[5000, 3000, 2000]</td>\n",
       "    </tr>\n",
       "    <tr>\n",
       "      <th>2</th>\n",
       "      <td>March-2022</td>\n",
       "      <td>[0, 5000, 7000]</td>\n",
       "    </tr>\n",
       "  </tbody>\n",
       "</table>\n",
       "</div>"
      ],
      "text/plain": [
       "         Date      values_in_list\n",
       "0    Feb-2022  [3000, 2000, 4000]\n",
       "1    Jan-2022  [5000, 3000, 2000]\n",
       "2  March-2022     [0, 5000, 7000]"
      ]
     },
     "execution_count": 27,
     "metadata": {},
     "output_type": "execute_result"
    }
   ],
   "source": [
    "import pandas as pd\n",
    "import numpy as np\n",
    "\n",
    "def solution(df):\n",
    "    df = df.groupby('Date')['Value'].apply(list).reset_index(name='values_in_list')\n",
    "    return df\n",
    "\n",
    "\n",
    "solution(initial_df)"
   ]
  },
  {
   "cell_type": "markdown",
   "id": "67498dd1-2d79-4e3e-b831-d4a8034314c9",
   "metadata": {},
   "source": [
    "# 1.9"
   ]
  },
  {
   "cell_type": "markdown",
   "id": "63b73656-fff4-4711-ba4e-31af96ac4990",
   "metadata": {},
   "source": [
    "## В датафрейме содержатся классы ABC1 - ABC5. Постройте новый датафрейм, который будет состоять из уникальных пар классов:"
   ]
  },
  {
   "cell_type": "code",
   "execution_count": 29,
   "id": "af23da97-67ce-4556-b3f6-96b5ed70dfb8",
   "metadata": {},
   "outputs": [
    {
     "data": {
      "text/html": [
       "<div>\n",
       "<style scoped>\n",
       "    .dataframe tbody tr th:only-of-type {\n",
       "        vertical-align: middle;\n",
       "    }\n",
       "\n",
       "    .dataframe tbody tr th {\n",
       "        vertical-align: top;\n",
       "    }\n",
       "\n",
       "    .dataframe thead th {\n",
       "        text-align: right;\n",
       "    }\n",
       "</style>\n",
       "<table border=\"1\" class=\"dataframe\">\n",
       "  <thead>\n",
       "    <tr style=\"text-align: right;\">\n",
       "      <th></th>\n",
       "      <th></th>\n",
       "      <th>base1_1</th>\n",
       "      <th>base1_2</th>\n",
       "    </tr>\n",
       "    <tr>\n",
       "      <th>class_1</th>\n",
       "      <th>class_2</th>\n",
       "      <th></th>\n",
       "      <th></th>\n",
       "    </tr>\n",
       "  </thead>\n",
       "  <tbody>\n",
       "    <tr>\n",
       "      <th rowspan=\"4\" valign=\"top\">ABC1</th>\n",
       "      <th>ABC2</th>\n",
       "      <td>1</td>\n",
       "      <td>2</td>\n",
       "    </tr>\n",
       "    <tr>\n",
       "      <th>ABC3</th>\n",
       "      <td>1</td>\n",
       "      <td>3</td>\n",
       "    </tr>\n",
       "    <tr>\n",
       "      <th>ABC4</th>\n",
       "      <td>1</td>\n",
       "      <td>4</td>\n",
       "    </tr>\n",
       "    <tr>\n",
       "      <th>ABC5</th>\n",
       "      <td>1</td>\n",
       "      <td>5</td>\n",
       "    </tr>\n",
       "    <tr>\n",
       "      <th rowspan=\"3\" valign=\"top\">ABC2</th>\n",
       "      <th>ABC3</th>\n",
       "      <td>2</td>\n",
       "      <td>3</td>\n",
       "    </tr>\n",
       "    <tr>\n",
       "      <th>ABC4</th>\n",
       "      <td>2</td>\n",
       "      <td>4</td>\n",
       "    </tr>\n",
       "    <tr>\n",
       "      <th>ABC5</th>\n",
       "      <td>2</td>\n",
       "      <td>5</td>\n",
       "    </tr>\n",
       "    <tr>\n",
       "      <th rowspan=\"2\" valign=\"top\">ABC3</th>\n",
       "      <th>ABC4</th>\n",
       "      <td>3</td>\n",
       "      <td>4</td>\n",
       "    </tr>\n",
       "    <tr>\n",
       "      <th>ABC5</th>\n",
       "      <td>3</td>\n",
       "      <td>5</td>\n",
       "    </tr>\n",
       "    <tr>\n",
       "      <th>ABC4</th>\n",
       "      <th>ABC5</th>\n",
       "      <td>4</td>\n",
       "      <td>5</td>\n",
       "    </tr>\n",
       "  </tbody>\n",
       "</table>\n",
       "</div>"
      ],
      "text/plain": [
       "                 base1_1  base1_2\n",
       "class_1 class_2                  \n",
       "ABC1    ABC2           1        2\n",
       "        ABC3           1        3\n",
       "        ABC4           1        4\n",
       "        ABC5           1        5\n",
       "ABC2    ABC3           2        3\n",
       "        ABC4           2        4\n",
       "        ABC5           2        5\n",
       "ABC3    ABC4           3        4\n",
       "        ABC5           3        5\n",
       "ABC4    ABC5           4        5"
      ]
     },
     "execution_count": 29,
     "metadata": {},
     "output_type": "execute_result"
    }
   ],
   "source": [
    "import pandas as pd\n",
    "import numpy as np\n",
    "\n",
    "df = pd.DataFrame({'class': ['ABC1', 'ABC2', 'ABC3', 'ABC4', 'ABC5'],\n",
    "                   'base1': [1, 2, 3, 4, 5]})\n",
    "\n",
    "def solution(df):\n",
    "\n",
    "    df['key'] = 1\n",
    "    df = df.merge(df, on='key', suffixes=('_1', '_2')).drop('key', axis=1)\n",
    "    df = df.query('base1_1 < base1_2').set_index(['class_1', 'class_2'])\n",
    "\n",
    "    return df\n",
    "\n",
    "\n",
    "solution(df)"
   ]
  },
  {
   "cell_type": "markdown",
   "id": "cb88d0de-c172-4883-8bf0-447ad0905de6",
   "metadata": {},
   "source": [
    "## В результате некоторой выездной проверки, контролёром Петренко была собрана информация о работающих магазинах (наименование, ИНН владельца, адрес магазина)[df_shops]:\n",
    "![Image](https://ucarecdn.com/f21cfbef-561a-4c82-8c02-b4a814301312/)\n",
    "\n",
    "Контролёр Петренко имеет доступ к базе разрешений на торговлю (номер разрешения, ИНН владельца, адрес торговли)[df_licenses]:\n",
    "\n",
    "![Image](https://ucarecdn.com/05d1e139-152b-47eb-b4fa-d04c86458ab7/)\n",
    "\n",
    "Помогите контролёру Петренко подтянуть информацию о разрешениях на торговлю в его датафрейм.\n",
    "\n",
    "![Image](https://ucarecdn.com/9c2ec9c7-47b4-4d49-a82b-3c63e99b012f/)\n",
    "\n",
    "Так получилось, что у Петренко нет информации о том, на какой конкретно магазин выдано разрешение (если по адресу у хозяина несколько магазинов). В таких случаях подтяните первое разрешение, которое ранее не было привязано.\n",
    "\n",
    "В конечном счёте, на основе нашего датафрейма, Петренко построит сводную таблицу и поймет, где больше всего работает магазинов без разрешения на торговлю."
   ]
  },
  {
   "cell_type": "code",
   "execution_count": 32,
   "id": "fd5b6b98-f475-4a98-9c26-b7d8b90c4c7a",
   "metadata": {},
   "outputs": [
    {
     "data": {
      "text/html": [
       "<div>\n",
       "<style scoped>\n",
       "    .dataframe tbody tr th:only-of-type {\n",
       "        vertical-align: middle;\n",
       "    }\n",
       "\n",
       "    .dataframe tbody tr th {\n",
       "        vertical-align: top;\n",
       "    }\n",
       "\n",
       "    .dataframe thead th {\n",
       "        text-align: right;\n",
       "    }\n",
       "</style>\n",
       "<table border=\"1\" class=\"dataframe\">\n",
       "  <thead>\n",
       "    <tr style=\"text-align: right;\">\n",
       "      <th></th>\n",
       "      <th>shop_name</th>\n",
       "      <th>owner_inn</th>\n",
       "      <th>address</th>\n",
       "      <th>reg_number</th>\n",
       "    </tr>\n",
       "  </thead>\n",
       "  <tbody>\n",
       "    <tr>\n",
       "      <th>0</th>\n",
       "      <td>Детские игрушки</td>\n",
       "      <td>7700000001</td>\n",
       "      <td>ул. Академика Иванова, 1</td>\n",
       "      <td>A-000-001</td>\n",
       "    </tr>\n",
       "    <tr>\n",
       "      <th>1</th>\n",
       "      <td>Продукты</td>\n",
       "      <td>7700000001</td>\n",
       "      <td>ул. Академика Иванова, 1</td>\n",
       "      <td>A-000-002</td>\n",
       "    </tr>\n",
       "    <tr>\n",
       "      <th>2</th>\n",
       "      <td>Хоз. товары</td>\n",
       "      <td>7700000002</td>\n",
       "      <td>ул. Летчиков, 5</td>\n",
       "      <td>A-000-003</td>\n",
       "    </tr>\n",
       "    <tr>\n",
       "      <th>3</th>\n",
       "      <td>Бытовая химия</td>\n",
       "      <td>7700000002</td>\n",
       "      <td>ул. Летчиков, 5</td>\n",
       "      <td>-</td>\n",
       "    </tr>\n",
       "    <tr>\n",
       "      <th>4</th>\n",
       "      <td>Военторг</td>\n",
       "      <td>7700000003</td>\n",
       "      <td>ул. Автомобилистов, 6</td>\n",
       "      <td>A-000-005</td>\n",
       "    </tr>\n",
       "    <tr>\n",
       "      <th>5</th>\n",
       "      <td>АлкоМаркет</td>\n",
       "      <td>7700000004</td>\n",
       "      <td>ул. Автомобилистов, 6</td>\n",
       "      <td>-</td>\n",
       "    </tr>\n",
       "    <tr>\n",
       "      <th>6</th>\n",
       "      <td>Фрукты-Овощи</td>\n",
       "      <td>7700000005</td>\n",
       "      <td>ул. Первомайская, 66</td>\n",
       "      <td>A-000-007</td>\n",
       "    </tr>\n",
       "    <tr>\n",
       "      <th>7</th>\n",
       "      <td>Цветы 24</td>\n",
       "      <td>7700000006</td>\n",
       "      <td>ул. Степика, 123</td>\n",
       "      <td>-</td>\n",
       "    </tr>\n",
       "  </tbody>\n",
       "</table>\n",
       "</div>"
      ],
      "text/plain": [
       "         shop_name   owner_inn                   address reg_number\n",
       "0  Детские игрушки  7700000001  ул. Академика Иванова, 1  A-000-001\n",
       "1         Продукты  7700000001  ул. Академика Иванова, 1  A-000-002\n",
       "2      Хоз. товары  7700000002           ул. Летчиков, 5  A-000-003\n",
       "3    Бытовая химия  7700000002           ул. Летчиков, 5          -\n",
       "4         Военторг  7700000003     ул. Автомобилистов, 6  A-000-005\n",
       "5       АлкоМаркет  7700000004     ул. Автомобилистов, 6          -\n",
       "6     Фрукты-Овощи  7700000005      ул. Первомайская, 66  A-000-007\n",
       "7         Цветы 24  7700000006          ул. Степика, 123          -"
      ]
     },
     "execution_count": 32,
     "metadata": {},
     "output_type": "execute_result"
    }
   ],
   "source": [
    "import pandas as pd\n",
    "import numpy as np\n",
    "\n",
    "df_shops = pd.DataFrame({\n",
    "    'shop_name': ['Детские игрушки', 'Продукты', 'Хоз. товары', 'Бытовая химия', 'Военторг', 'АлкоМаркет', 'Фрукты-Овощи', 'Цветы 24'],\n",
    "    'owner_inn': ['7700000001', '7700000001', '7700000002', '7700000002', '7700000003', '7700000004', '7700000005', '7700000006'],\n",
    "    'address': ['ул. Академика Иванова, 1', 'ул. Академика Иванова, 1', 'ул. Летчиков, 5', 'ул. Летчиков, 5', 'ул. Автомобилистов, 6', 'ул. Автомобилистов, 6', 'ул. Первомайская, 66', 'ул. Степика, 123']})\n",
    "\n",
    "df_licenses = pd.DataFrame({\n",
    "    'reg_number': ['A-000-001', 'A-000-002', 'A-000-003', 'A-000-005', 'A-000-006', 'A-000-007'],\n",
    "    'owner_inn': ['7700000001', '7700000001', '7700000002', '7700000003', '7700000004', '7700000005'],\n",
    "    'address': ['ул. Академика Иванова, 1', 'ул. Академика Иванова, 1', 'ул. Летчиков, 5', 'ул. Автомобилистов, 6', 'ул. Автомобилистов, 8', 'ул. Первомайская, 66']})\n",
    "\n",
    "def solution(shops, lics):\n",
    "    shops['rank'] = shops.groupby('owner_inn').cumcount()\n",
    "    lics['rank'] = lics.groupby('owner_inn').cumcount()\n",
    "    return shops.merge(lics, how='left').drop('rank', axis=1).fillna('-')\n",
    "\n",
    "\n",
    "solution(df_shops, df_licenses)"
   ]
  },
  {
   "cell_type": "markdown",
   "id": "4b38f43e-3e79-460d-bdb4-d29a998412d6",
   "metadata": {},
   "source": [
    "## Для каждой группы определите номер уникального значения:"
   ]
  },
  {
   "cell_type": "code",
   "execution_count": 31,
   "id": "16fcc2f6-07c9-4e07-b7d2-28cd17a0f1bc",
   "metadata": {},
   "outputs": [
    {
     "data": {
      "text/html": [
       "<div>\n",
       "<style scoped>\n",
       "    .dataframe tbody tr th:only-of-type {\n",
       "        vertical-align: middle;\n",
       "    }\n",
       "\n",
       "    .dataframe tbody tr th {\n",
       "        vertical-align: top;\n",
       "    }\n",
       "\n",
       "    .dataframe thead th {\n",
       "        text-align: right;\n",
       "    }\n",
       "</style>\n",
       "<table border=\"1\" class=\"dataframe\">\n",
       "  <thead>\n",
       "    <tr style=\"text-align: right;\">\n",
       "      <th></th>\n",
       "      <th>group</th>\n",
       "      <th>value</th>\n",
       "      <th>group_val_id</th>\n",
       "    </tr>\n",
       "  </thead>\n",
       "  <tbody>\n",
       "    <tr>\n",
       "      <th>0</th>\n",
       "      <td>1</td>\n",
       "      <td>a</td>\n",
       "      <td>1</td>\n",
       "    </tr>\n",
       "    <tr>\n",
       "      <th>1</th>\n",
       "      <td>1</td>\n",
       "      <td>a</td>\n",
       "      <td>1</td>\n",
       "    </tr>\n",
       "    <tr>\n",
       "      <th>2</th>\n",
       "      <td>1</td>\n",
       "      <td>b</td>\n",
       "      <td>2</td>\n",
       "    </tr>\n",
       "    <tr>\n",
       "      <th>3</th>\n",
       "      <td>1</td>\n",
       "      <td>b</td>\n",
       "      <td>2</td>\n",
       "    </tr>\n",
       "    <tr>\n",
       "      <th>4</th>\n",
       "      <td>1</td>\n",
       "      <td>b</td>\n",
       "      <td>2</td>\n",
       "    </tr>\n",
       "    <tr>\n",
       "      <th>5</th>\n",
       "      <td>1</td>\n",
       "      <td>b</td>\n",
       "      <td>2</td>\n",
       "    </tr>\n",
       "    <tr>\n",
       "      <th>6</th>\n",
       "      <td>1</td>\n",
       "      <td>c</td>\n",
       "      <td>3</td>\n",
       "    </tr>\n",
       "    <tr>\n",
       "      <th>7</th>\n",
       "      <td>2</td>\n",
       "      <td>d</td>\n",
       "      <td>1</td>\n",
       "    </tr>\n",
       "    <tr>\n",
       "      <th>8</th>\n",
       "      <td>2</td>\n",
       "      <td>d</td>\n",
       "      <td>1</td>\n",
       "    </tr>\n",
       "    <tr>\n",
       "      <th>9</th>\n",
       "      <td>2</td>\n",
       "      <td>d</td>\n",
       "      <td>1</td>\n",
       "    </tr>\n",
       "    <tr>\n",
       "      <th>10</th>\n",
       "      <td>2</td>\n",
       "      <td>d</td>\n",
       "      <td>1</td>\n",
       "    </tr>\n",
       "    <tr>\n",
       "      <th>11</th>\n",
       "      <td>2</td>\n",
       "      <td>e</td>\n",
       "      <td>2</td>\n",
       "    </tr>\n",
       "  </tbody>\n",
       "</table>\n",
       "</div>"
      ],
      "text/plain": [
       "    group value  group_val_id\n",
       "0       1     a             1\n",
       "1       1     a             1\n",
       "2       1     b             2\n",
       "3       1     b             2\n",
       "4       1     b             2\n",
       "5       1     b             2\n",
       "6       1     c             3\n",
       "7       2     d             1\n",
       "8       2     d             1\n",
       "9       2     d             1\n",
       "10      2     d             1\n",
       "11      2     e             2"
      ]
     },
     "execution_count": 31,
     "metadata": {},
     "output_type": "execute_result"
    }
   ],
   "source": [
    "import pandas as pd\n",
    "import numpy as np\n",
    "\n",
    "df = pd.DataFrame({'group': [1, 1, 1, 1, 1, 1, 1, 2, 2, 2, 2, 2], 'value': [\n",
    "                  'a', 'a', 'b', 'b', 'b', 'b', 'c', 'd', 'd', 'd', 'd', 'e']})\n",
    "\n",
    "def solution(df):\n",
    "    df['group_val_id'] = df.groupby('group')['value'].rank(method='dense').astype('int8')\n",
    "    return df\n",
    "\n",
    "\n",
    "solution(df)"
   ]
  },
  {
   "cell_type": "markdown",
   "id": "a7d1a79d-5457-4a01-ba40-b1f0c93f0a17",
   "metadata": {},
   "source": [
    "# 2.1 Numpy"
   ]
  },
  {
   "cell_type": "markdown",
   "id": "769bceb2-a569-46e3-9267-631ae2d764d7",
   "metadata": {},
   "source": [
    "## Создайте нулевой вектор размера 10."
   ]
  },
  {
   "cell_type": "code",
   "execution_count": 2,
   "id": "18bb1caa-81c2-41b7-aad2-c9c688522552",
   "metadata": {},
   "outputs": [
    {
     "data": {
      "text/plain": [
       "array([0., 0., 0., 0., 0., 0., 0., 0., 0., 0.])"
      ]
     },
     "execution_count": 2,
     "metadata": {},
     "output_type": "execute_result"
    }
   ],
   "source": [
    "import numpy as np\n",
    "\n",
    "np.zeros(10)"
   ]
  },
  {
   "cell_type": "markdown",
   "id": "99652e42-2141-46a5-a7b8-4a9b60523fd2",
   "metadata": {},
   "source": [
    "## Как узнать размер в памяти массива Z."
   ]
  },
  {
   "cell_type": "code",
   "execution_count": 3,
   "id": "b289211c-531a-4600-bb91-8ee1197bc105",
   "metadata": {},
   "outputs": [
    {
     "name": "stdout",
     "output_type": "stream",
     "text": [
      "800 bytes\n"
     ]
    }
   ],
   "source": [
    "import numpy as np\n",
    "\n",
    "Z = np.zeros((10, 10))\n",
    "print(f\"{Z.size*8} bytes\")"
   ]
  },
  {
   "cell_type": "markdown",
   "id": "b7c5f84b-4c66-4f01-a833-7f54edb6876d",
   "metadata": {},
   "source": [
    "## Создайте нулевой вектор размера 10, но пятое значение равно 1"
   ]
  },
  {
   "cell_type": "code",
   "execution_count": 4,
   "id": "239d0f35-9aad-4808-ae59-283c658caec2",
   "metadata": {},
   "outputs": [
    {
     "name": "stdout",
     "output_type": "stream",
     "text": [
      "[0. 0. 0. 0. 1. 0. 0. 0. 0. 0.]\n"
     ]
    }
   ],
   "source": [
    "import numpy as np\n",
    "a = np.zeros(10)\n",
    "a[4] = 1\n",
    "print(a)"
   ]
  },
  {
   "cell_type": "markdown",
   "id": "4c4facae-5b03-4dd1-b67f-0c6d237b4b5e",
   "metadata": {},
   "source": [
    "## Создайте вектор со значениями в диапазоне от 10 до 20"
   ]
  },
  {
   "cell_type": "code",
   "execution_count": 5,
   "id": "dea09a56-61a4-437e-aae0-67d69ed0ba0c",
   "metadata": {},
   "outputs": [
    {
     "data": {
      "text/plain": [
       "array([10, 11, 12, 13, 14, 15, 16, 17, 18, 19, 20])"
      ]
     },
     "execution_count": 5,
     "metadata": {},
     "output_type": "execute_result"
    }
   ],
   "source": [
    "import numpy as np\n",
    "np.arange(10, 21)"
   ]
  },
  {
   "cell_type": "markdown",
   "id": "1596e264-5dd3-4ee6-bbf5-b5c7b35676af",
   "metadata": {},
   "source": [
    "## Разверните вектор Z (первый элемент становится последним, а последний первым)"
   ]
  },
  {
   "cell_type": "code",
   "execution_count": 7,
   "id": "d3fcde31-0b6c-4423-bbae-37e65651b09f",
   "metadata": {},
   "outputs": [
    {
     "data": {
      "text/plain": [
       "array([9, 8, 7, 6, 5, 4, 3, 2, 1, 0])"
      ]
     },
     "execution_count": 7,
     "metadata": {},
     "output_type": "execute_result"
    }
   ],
   "source": [
    "import numpy as np\n",
    "\n",
    "Z = np.arange(10)\n",
    "np.flip(Z, axis=0)"
   ]
  },
  {
   "cell_type": "markdown",
   "id": "db97b5e5-3c9e-430f-b0f1-47b47ed3f376",
   "metadata": {},
   "source": [
    "## Создайте матрицу 3x3 со значениями в диапазоне от 0 до 8. Используйте arange и reshape."
   ]
  },
  {
   "cell_type": "code",
   "execution_count": 8,
   "id": "1b3892b0-d9de-4c77-8dbf-b2c061682d46",
   "metadata": {},
   "outputs": [
    {
     "data": {
      "text/plain": [
       "array([[0, 1, 2],\n",
       "       [3, 4, 5],\n",
       "       [6, 7, 8]])"
      ]
     },
     "execution_count": 8,
     "metadata": {},
     "output_type": "execute_result"
    }
   ],
   "source": [
    "import numpy as np\n",
    "\n",
    "np.arange(0, 9).reshape(3, 3)"
   ]
  },
  {
   "cell_type": "markdown",
   "id": "a5d42e31-6565-424c-9b68-030b55d563ab",
   "metadata": {},
   "source": [
    "## Найдите индексы ненулевых элементов массива Z. Ответ представьте в виде одномерного массива."
   ]
  },
  {
   "cell_type": "code",
   "execution_count": 9,
   "id": "a3a47e7a-1853-4c5f-9277-8f6fef6224de",
   "metadata": {},
   "outputs": [
    {
     "data": {
      "text/plain": [
       "(array([1, 2, 3, 4, 5, 6, 7, 8, 9]),)"
      ]
     },
     "execution_count": 9,
     "metadata": {},
     "output_type": "execute_result"
    }
   ],
   "source": [
    "import numpy as np\n",
    "\n",
    "def solution(Z):\n",
    "    M = Z.nonzero()\n",
    "    return M\n",
    "\n",
    "\n",
    "solution(Z)"
   ]
  },
  {
   "cell_type": "markdown",
   "id": "de74acc1-36a0-4c6b-aec3-77258c1c2f18",
   "metadata": {},
   "source": [
    "## Создайте единичную матрицу 3х3"
   ]
  },
  {
   "cell_type": "code",
   "execution_count": 10,
   "id": "0f57460e-2d90-45a1-b152-40fd21236abc",
   "metadata": {},
   "outputs": [
    {
     "data": {
      "text/plain": [
       "array([[1., 0., 0.],\n",
       "       [0., 1., 0.],\n",
       "       [0., 0., 1.]])"
      ]
     },
     "execution_count": 10,
     "metadata": {},
     "output_type": "execute_result"
    }
   ],
   "source": [
    "import numpy as np\n",
    "\n",
    "z = np.zeros(9).reshape(3, 3)\n",
    "np.fill_diagonal(z, 1)\n",
    "z"
   ]
  },
  {
   "cell_type": "markdown",
   "id": "61e6f105-8e33-42cf-80f2-ca37d1268089",
   "metadata": {},
   "source": [
    "## Найдите наименьшее и наибольшее значение массива Z"
   ]
  },
  {
   "cell_type": "code",
   "execution_count": 11,
   "id": "7196ab14-378a-4f84-b7fd-39866b80dfc5",
   "metadata": {},
   "outputs": [
    {
     "name": "stdout",
     "output_type": "stream",
     "text": [
      "0 4\n"
     ]
    }
   ],
   "source": [
    "import numpy as np\n",
    "\n",
    "Z = np.array([1, 2, 0, 0, 4, 0])\n",
    "\n",
    "print(Z.min(), Z.max())"
   ]
  },
  {
   "cell_type": "markdown",
   "id": "627275a4-c96e-4e63-80d3-1c5eb2a6654d",
   "metadata": {},
   "source": [
    "## Создайте матрицу размером 5х5, где по краям будут единицы, а в центре нули."
   ]
  },
  {
   "cell_type": "code",
   "execution_count": 12,
   "id": "14aa675e-05fb-47f8-bd4b-415fb4265e73",
   "metadata": {},
   "outputs": [
    {
     "name": "stdout",
     "output_type": "stream",
     "text": [
      "[[1. 1. 1. 1. 1.]\n",
      " [1. 0. 0. 0. 1.]\n",
      " [1. 0. 0. 0. 1.]\n",
      " [1. 0. 0. 0. 1.]\n",
      " [1. 1. 1. 1. 1.]]\n"
     ]
    }
   ],
   "source": [
    "import numpy as np\n",
    "\n",
    "z = np.ndarray(shape=(5, 5))\n",
    "z.fill(1)\n",
    "z[1:-1, 1:-1] = 0\n",
    "print(z)"
   ]
  },
  {
   "cell_type": "markdown",
   "id": "dae85ca9-f408-4375-a17f-1fbe72c7af58",
   "metadata": {},
   "source": [
    "# 2.2"
   ]
  },
  {
   "cell_type": "markdown",
   "id": "22a3d5ca-9fa0-47c4-8fd9-11d2f30d66d1",
   "metadata": {},
   "source": [
    "## Создайте матрицу 5x5 со значениями 1,2,3,4 чуть ниже диагонали"
   ]
  },
  {
   "cell_type": "code",
   "execution_count": 13,
   "id": "10e85a8c-e601-482f-a5f8-113b4dc5514c",
   "metadata": {},
   "outputs": [
    {
     "data": {
      "text/plain": [
       "array([[0, 0, 0, 0, 0],\n",
       "       [1, 0, 0, 0, 0],\n",
       "       [0, 2, 0, 0, 0],\n",
       "       [0, 0, 3, 0, 0],\n",
       "       [0, 0, 0, 4, 0]])"
      ]
     },
     "execution_count": 13,
     "metadata": {},
     "output_type": "execute_result"
    }
   ],
   "source": [
    "import numpy as np\n",
    "\n",
    "z = np.zeros((5, 5))\n",
    "np.fill_diagonal(z[1:, :-1], np.arange(1, 5))\n",
    "z.astype(\"int64\")"
   ]
  },
  {
   "cell_type": "markdown",
   "id": "46325d88-4dfe-4333-87fb-321bd8ee1f77",
   "metadata": {},
   "source": [
    "## Создайте матрицу 8x8 и заполните ее в шахматном порядке."
   ]
  },
  {
   "cell_type": "code",
   "execution_count": 14,
   "id": "aa7464d7-60cd-4f67-be48-d5a573d42c87",
   "metadata": {},
   "outputs": [
    {
     "data": {
      "text/plain": [
       "array([[0, 1, 0, 1, 0, 1, 0, 1],\n",
       "       [1, 0, 1, 0, 1, 0, 1, 0],\n",
       "       [0, 1, 0, 1, 0, 1, 0, 1],\n",
       "       [1, 0, 1, 0, 1, 0, 1, 0],\n",
       "       [0, 1, 0, 1, 0, 1, 0, 1],\n",
       "       [1, 0, 1, 0, 1, 0, 1, 0],\n",
       "       [0, 1, 0, 1, 0, 1, 0, 1],\n",
       "       [1, 0, 1, 0, 1, 0, 1, 0]])"
      ]
     },
     "execution_count": 14,
     "metadata": {},
     "output_type": "execute_result"
    }
   ],
   "source": [
    "import numpy as np\n",
    "\n",
    "z = np.zeros((8, 8), dtype=int)\n",
    "z[1::2, ::2] = 1\n",
    "z[::2, 1::2] = 1\n",
    "z"
   ]
  },
  {
   "cell_type": "markdown",
   "id": "26d6a212-527c-4754-ae5d-ae5e3d4feda6",
   "metadata": {},
   "source": [
    "## Нормализуйте матрицу Z"
   ]
  },
  {
   "cell_type": "code",
   "execution_count": 15,
   "id": "602fe969-97a6-463d-9de5-d76638e7cd54",
   "metadata": {},
   "outputs": [
    {
     "name": "stdout",
     "output_type": "stream",
     "text": [
      "[[-1.41421356 -0.70710678  0.          0.70710678  1.41421356]\n",
      " [ 1.41421356  0.70710678  0.         -0.70710678 -1.41421356]\n",
      " [-1.41421356 -0.70710678  0.          0.70710678  1.41421356]\n",
      " [ 1.41421356  0.70710678  0.         -0.70710678 -1.41421356]]\n"
     ]
    }
   ],
   "source": [
    "import numpy as np\n",
    "\n",
    "Z = np.array([[1, 2, 3, 4, 5], [5, 4, 3, 2, 1], [1, 2, 3, 4, 5], [5, 4, 3, 2, 1]])\n",
    "print((Z-Z.mean())/Z.std())"
   ]
  },
  {
   "cell_type": "markdown",
   "id": "77afe9af-9ae0-4e75-ad8f-13cd772813b4",
   "metadata": {},
   "source": [
    "## Выполните матричное умножение А и B"
   ]
  },
  {
   "cell_type": "code",
   "execution_count": 18,
   "id": "4f348947-a34d-4576-ae5e-41cec97c1354",
   "metadata": {},
   "outputs": [
    {
     "data": {
      "text/plain": [
       "array([[3., 3.],\n",
       "       [3., 3.],\n",
       "       [3., 3.],\n",
       "       [3., 3.],\n",
       "       [3., 3.]])"
      ]
     },
     "execution_count": 18,
     "metadata": {},
     "output_type": "execute_result"
    }
   ],
   "source": [
    "import numpy as np\n",
    "\n",
    "A = np.ones((5, 3))\n",
    "B = np.ones((3, 2))\n",
    "\n",
    "np.dot(A, B)"
   ]
  },
  {
   "cell_type": "markdown",
   "id": "cb02d092-fec2-4156-8e72-6ddbe27e91e1",
   "metadata": {},
   "source": [
    "## Выполните умножение на -1 те значения, которые больше 3, но меньше 8. "
   ]
  },
  {
   "cell_type": "code",
   "execution_count": 17,
   "id": "b5816f68-b8dc-433c-8c9c-0843ec5e78f3",
   "metadata": {},
   "outputs": [
    {
     "name": "stdout",
     "output_type": "stream",
     "text": [
      "[ 0  1  2  3 -4 -5 -6 -7  8  9 10]\n"
     ]
    }
   ],
   "source": [
    "import numpy as np\n",
    "\n",
    "Z = np.arange(11)\n",
    "\n",
    "print(np.where((Z > 3) & (Z < 8), -1 * Z, Z))"
   ]
  },
  {
   "cell_type": "markdown",
   "id": "146dfe08-425f-4d7c-994f-c21a20e5ff7b",
   "metadata": {},
   "source": [
    "## Как найти общие значения между двумя массивами Z1 и Z2?"
   ]
  },
  {
   "cell_type": "code",
   "execution_count": 19,
   "id": "6a0f25d8-c474-4d7e-bb29-f356d3af9bef",
   "metadata": {},
   "outputs": [
    {
     "data": {
      "text/plain": [
       "array([4, 5])"
      ]
     },
     "execution_count": 19,
     "metadata": {},
     "output_type": "execute_result"
    }
   ],
   "source": [
    "import numpy as np\n",
    "\n",
    "Z1 = np.array([1, 2, 3, 4, 5])\n",
    "Z2 = np.array([6, 7, 8, 9, 5, 4])\n",
    "\n",
    "np.intersect1d(Z1, Z2)"
   ]
  },
  {
   "cell_type": "markdown",
   "id": "6c7e2dde-696a-4c9b-add6-1dddfd15d263",
   "metadata": {},
   "source": [
    "## Вычислите ((A+B)*(-A/2)) без копирования массивов."
   ]
  },
  {
   "cell_type": "code",
   "execution_count": 21,
   "id": "510411cc-3ff7-4fc2-867e-eeada52be411",
   "metadata": {},
   "outputs": [
    {
     "data": {
      "text/plain": [
       "array([-1.5, -1.5, -1.5])"
      ]
     },
     "execution_count": 21,
     "metadata": {},
     "output_type": "execute_result"
    }
   ],
   "source": [
    "import numpy as np\n",
    "\n",
    "A = np.ones(3)*1\n",
    "B = np.ones(3)*2\n",
    "\n",
    "np.multiply(np.add(A, B), np.divide(-A, 2))"
   ]
  },
  {
   "cell_type": "markdown",
   "id": "7cc9539e-5f3c-410c-b2cc-44f5d298154a",
   "metadata": {},
   "source": [
    "## Создайте матрицу 5x5 со значениями строк в диапазоне от 0 до 4."
   ]
  },
  {
   "cell_type": "code",
   "execution_count": 22,
   "id": "5af2aacf-7554-46e7-a972-7f9228b7f306",
   "metadata": {},
   "outputs": [
    {
     "data": {
      "text/plain": [
       "array([[0., 1., 2., 3., 4.],\n",
       "       [0., 1., 2., 3., 4.],\n",
       "       [0., 1., 2., 3., 4.],\n",
       "       [0., 1., 2., 3., 4.],\n",
       "       [0., 1., 2., 3., 4.]])"
      ]
     },
     "execution_count": 22,
     "metadata": {},
     "output_type": "execute_result"
    }
   ],
   "source": [
    "import numpy as np\n",
    "\n",
    "np.ones((5, 5))*np.arange(5)"
   ]
  },
  {
   "cell_type": "markdown",
   "id": "61249e68-b2f2-4c17-9d24-137350ca524f",
   "metadata": {},
   "source": [
    "## Создайте вектор размера 10 со значениями в диапазоне от 0 до 1. (0 и 1 не должны входить)"
   ]
  },
  {
   "cell_type": "code",
   "execution_count": 23,
   "id": "dd774ed2-5975-43bb-8c27-34f7ff9a3b81",
   "metadata": {},
   "outputs": [
    {
     "data": {
      "text/plain": [
       "array([0.09090909, 0.18181818, 0.27272727, 0.36363636, 0.45454545,\n",
       "       0.54545455, 0.63636364, 0.72727273, 0.81818182, 0.90909091])"
      ]
     },
     "execution_count": 23,
     "metadata": {},
     "output_type": "execute_result"
    }
   ],
   "source": [
    "import numpy as np\n",
    "\n",
    "np.linspace(0, 1, num=11, endpoint=False)[-10:]"
   ]
  },
  {
   "cell_type": "markdown",
   "id": "d3673822-3041-4da9-98ee-303f0fab164c",
   "metadata": {},
   "source": [
    "## Выполните сортировку массива Z"
   ]
  },
  {
   "cell_type": "code",
   "execution_count": 24,
   "id": "f57589c3-e4c7-45db-80b8-f08e3c48104d",
   "metadata": {},
   "outputs": [
    {
     "data": {
      "text/plain": [
       "array([4, 5, 6, 7, 8, 9])"
      ]
     },
     "execution_count": 24,
     "metadata": {},
     "output_type": "execute_result"
    }
   ],
   "source": [
    "import numpy as np\n",
    "\n",
    "Z = np.array([6, 9, 5, 7, 8, 4])\n",
    "\n",
    "np.sort(Z)"
   ]
  },
  {
   "cell_type": "markdown",
   "id": "2caa3878-f5da-4dd3-818a-76966bb253de",
   "metadata": {},
   "source": [
    "# 2.4"
   ]
  },
  {
   "cell_type": "markdown",
   "id": "cf6659ed-4abd-452a-b43f-8f66c858d5a9",
   "metadata": {},
   "source": [
    "## Проверьте, равны ли элементы массивов A и B в пределах допуска, который равен 1 (проверка на приблизительное равенство). "
   ]
  },
  {
   "cell_type": "code",
   "execution_count": 25,
   "id": "0eb1dbcd-79db-4c15-b153-b17af607484c",
   "metadata": {},
   "outputs": [
    {
     "data": {
      "text/plain": [
       "np.True_"
      ]
     },
     "execution_count": 25,
     "metadata": {},
     "output_type": "execute_result"
    }
   ],
   "source": [
    "import numpy as np\n",
    "\n",
    "A = np.array([1, 2, 3, 4, 5])\n",
    "B = np.array([2, 3, 4, 5, 6])\n",
    "\n",
    "np.all(np.abs(A-B) <= 1)"
   ]
  },
  {
   "cell_type": "markdown",
   "id": "e292cc22-5b58-44eb-9df0-6feb676dc633",
   "metadata": {},
   "source": [
    "## Матрица Z размером 10x2, содержит декартовы координаты. Преобразуйте их в полярные координаты."
   ]
  },
  {
   "cell_type": "code",
   "execution_count": 26,
   "id": "281ccf34-585f-4969-aeab-b1723999688a",
   "metadata": {},
   "outputs": [
    {
     "name": "stdout",
     "output_type": "stream",
     "text": [
      "[0.74825819 0.68294516 1.02312669 1.0192263  0.71304601 0.56093145\n",
      " 0.92551255 0.93814859 1.01328548 0.33529741]\n",
      "[0.53384421 0.24197957 0.34566872 0.23271877 0.60693925 1.32547133\n",
      " 0.97655486 0.09576376 1.37636924 0.79342443]\n"
     ]
    }
   ],
   "source": [
    "import numpy as np\n",
    "Z = np.array([[0.64414354, 0.38074849],\n",
    "              [0.66304791, 0.16365073],\n",
    "              [0.96260781, 0.34666184],\n",
    "              [0.99175099, 0.2350579],\n",
    "              [0.58569427, 0.4066901],\n",
    "              [0.13623432, 0.54413629],\n",
    "              [0.51817635, 0.76685511],\n",
    "              [0.93385014, 0.08970338],\n",
    "              [0.19577126, 0.99419368],\n",
    "              [0.2351805, 0.23898637]])\n",
    "\n",
    "print(np.sqrt(Z[:, 1]**2+Z[:, 0]**2))\n",
    "print(np.arctan2(Z[:, 1], Z[:, 0]))"
   ]
  },
  {
   "cell_type": "markdown",
   "id": "32d644f4-5f04-4297-80c6-0f14bb2c5053",
   "metadata": {},
   "source": [
    "## Замените максимальное значение массива на -1"
   ]
  },
  {
   "cell_type": "code",
   "execution_count": 28,
   "id": "8c837964-fa1c-4799-84dd-7d34ee8d289b",
   "metadata": {},
   "outputs": [
    {
     "data": {
      "text/plain": [
       "array([ 1,  6,  3,  9,  3,  6,  7, -1,  3])"
      ]
     },
     "execution_count": 28,
     "metadata": {},
     "output_type": "execute_result"
    }
   ],
   "source": [
    "import numpy as np\n",
    "Z = np.array([1, 6, 3, 9, 3, 6, 7, 10, 3])\n",
    "\n",
    "Z[np.argsort(Z)[-1]] = -1\n",
    "Z"
   ]
  },
  {
   "cell_type": "markdown",
   "id": "a37511eb-fe59-4a3e-8076-61b10672416b",
   "metadata": {},
   "source": [
    "## Имея массивы X и Y постройте матрицу Коши: C (Cij =1/(xi - yj))а затем посчитайте детерминант."
   ]
  },
  {
   "cell_type": "code",
   "execution_count": 30,
   "id": "936b52ed-1d7a-4d96-ae0e-cac07b81a3b3",
   "metadata": {},
   "outputs": [
    {
     "name": "stdout",
     "output_type": "stream",
     "text": [
      "3638.163637117973\n"
     ]
    }
   ],
   "source": [
    "import numpy as np\n",
    "\n",
    "X = np.arange(8)\n",
    "Y = X + 0.5\n",
    "\n",
    "print(np.linalg.det(1 / np.subtract.outer(X, Y)))"
   ]
  },
  {
   "cell_type": "markdown",
   "id": "a7bdf774-0b21-485b-a1a2-289caf93a19a",
   "metadata": {},
   "source": [
    "## Найдите ближайшее значение (к заданному скаляру v) в векторе Z?"
   ]
  },
  {
   "cell_type": "code",
   "execution_count": 32,
   "id": "9c4bda06-d95d-4f94-a96a-889b038a04c3",
   "metadata": {},
   "outputs": [
    {
     "data": {
      "text/plain": [
       "np.int64(68)"
      ]
     },
     "execution_count": 32,
     "metadata": {},
     "output_type": "execute_result"
    }
   ],
   "source": [
    "import numpy as np\n",
    "\n",
    "Z = np.arange(100)\n",
    "v = 68.2139380784148\n",
    "\n",
    "Z[np.abs(Z-v).argmin()]"
   ]
  },
  {
   "cell_type": "code",
   "execution_count": null,
   "id": "d76dbc6c-af16-4cc1-9ece-a763ee69f496",
   "metadata": {},
   "outputs": [],
   "source": []
  }
 ],
 "metadata": {
  "kernelspec": {
   "display_name": "Python 3 (ipykernel)",
   "language": "python",
   "name": "python3"
  },
  "language_info": {
   "codemirror_mode": {
    "name": "ipython",
    "version": 3
   },
   "file_extension": ".py",
   "mimetype": "text/x-python",
   "name": "python",
   "nbconvert_exporter": "python",
   "pygments_lexer": "ipython3",
   "version": "3.12.3"
  },
  "widgets": {
   "application/vnd.jupyter.widget-state+json": {
    "state": {},
    "version_major": 2,
    "version_minor": 0
   }
  }
 },
 "nbformat": 4,
 "nbformat_minor": 5
}
