{
 "cells": [
  {
   "cell_type": "markdown",
   "id": "926bb8fd-9cc5-4e73-8c2f-208175c6331a",
   "metadata": {},
   "source": [
    "# Утешительный приз\n",
    "Вы работаете над программой для проведения лотерей. Чтобы победить в лотерее, участник должен угадать загаданную последовательность цифр. Те, кто угадал сами цифры, но расположил их в неправильной последовательности, тоже получают призы. При чем размер приза зависит от близости последовательности к выигрышному значению.\n",
    "Задача вашей программы — найти следующее большее положительное число с теми же цифрами, что и в правильной последовательности. Если такого числа не существует или следующее большее число с такими же цифрами начинается с нуля, верните -1. Это значит, что других победителей в лотерее не будет."
   ]
  },
  {
   "cell_type": "code",
   "execution_count": 2,
   "id": "8291bf9e-69cd-484e-8f96-b8052e049c9e",
   "metadata": {},
   "outputs": [
    {
     "name": "stdin",
     "output_type": "stream",
     "text": [
      " 1111\n"
     ]
    },
    {
     "name": "stdout",
     "output_type": "stream",
     "text": [
      "-1\n"
     ]
    }
   ],
   "source": [
    "def next_larger(n):\n",
    "    \"\"\"Ваш код\"\"\"\n",
    "    larger = ''.join(sorted(list(n), reverse=True))\n",
    "    return -1 if larger == n else larger\n",
    "        \n",
    "\n",
    "input_string = input()\n",
    "result = next_larger(input_string)\n",
    "print(result)"
   ]
  },
  {
   "cell_type": "markdown",
   "id": "581410c1-6608-4e42-b266-4d1a12e5cdf6",
   "metadata": {},
   "source": [
    "# Отчёт о продажах за квартал\n",
    "Вы работаете над модулем для CRM-системы, который помогает менеджерам по продажам готовить автоматизированные отчеты. Данные о продажах поступают в формате «Дата:Продукт:Количество;Дата:Продукт:Количество;...».\n",
    "Напишите программу, которая принимает информацию о продажах по датам и возвращает отчет о продажах за каждый квартал."
   ]
  },
  {
   "cell_type": "code",
   "execution_count": 19,
   "id": "1c2851ac-eed2-4595-8d19-e2a40b1f83a9",
   "metadata": {},
   "outputs": [
    {
     "name": "stdin",
     "output_type": "stream",
     "text": [
      " 2023-02-05:Шляпа:4;2023-03-20:Кольцо:7;2023-04-25:Браслет:6;2023-04-26:Браслет:12\n"
     ]
    },
    {
     "name": "stdout",
     "output_type": "stream",
     "text": [
      "Q1:\n",
      "- Кольцо: 7\n",
      "- Шляпа: 4\n",
      "Q2:\n",
      "- Браслет: 18\n"
     ]
    }
   ],
   "source": [
    "class Item:\n",
    "    def __init__(self, date, product, quantity):\n",
    "        self.date = date\n",
    "        self.product = product\n",
    "        self.quantity = int(quantity)\n",
    "\n",
    "    @property\n",
    "    def quarter(self):\n",
    "        month = int(self.date.split('-')[1])\n",
    "        if 1 <= month <= 3:\n",
    "            return \"Q1\"\n",
    "        elif 4 <= month <= 6:\n",
    "            return \"Q2\"\n",
    "        elif 7 <= month <= 9:\n",
    "            return \"Q3\"\n",
    "        else:\n",
    "            return \"Q4\"\n",
    "\n",
    "\n",
    "def generate_quarterly_report(data):\n",
    "    \"\"\"Ваш код\"\"\"\n",
    "    ls = data.split(';')\n",
    "    rep = {}    \n",
    "    for l in ls:\n",
    "        item = Item(*l.split(':'))\n",
    "        rep.setdefault(item.quarter, {}).setdefault(item.product, 0)\n",
    "        rep[item.quarter][item.product] += item.quantity \n",
    "\n",
    "    s = ''\n",
    "    for k,v in sorted(rep.items()):\n",
    "        s = \"\"\n",
    "        for p,q in sorted(v.items()):\n",
    "            s += f\"- {p}: {q}\\n\"\n",
    "        yield f\"{k}:\\n\" + s.rstrip()\n",
    "\n",
    "\n",
    "input_data = input()\n",
    "quarterly_report_generator = generate_quarterly_report(input_data)\n",
    "for report in quarterly_report_generator:\n",
    "    print(report)\n"
   ]
  },
  {
   "cell_type": "markdown",
   "id": "0069f783-4b91-4315-bf95-60b44186d95a",
   "metadata": {},
   "source": [
    "# Предмет без отстающих\n",
    "Вы работаете над модулем «Электронная зачетка» в системе для администрирования учебного процесса регионального вуза. Каждый студент может быть записан на несколько курсов, по каждому курсу у него есть итоговый балл.\n",
    "Необходимо написать программу для учебного офиса, которая будет выбирать из базы те курсы, на которых нет ни одной академической задолженности. Курс без единой академической задолженности — это такой курс, где все студенты (у кого этот курс указан) набрали строго выше проходного балла по этому предмету. Проходной балл определяется для каждого курса отдельно.\n"
   ]
  },
  {
   "cell_type": "code",
   "execution_count": 53,
   "id": "4ba77dd5-87aa-4acd-81a9-7de2262e1581",
   "metadata": {},
   "outputs": [
    {
     "name": "stdout",
     "output_type": "stream",
     "text": [
      "Химия История\n"
     ]
    }
   ],
   "source": [
    "students_info = \"Анна,Математика,85;Анна,Химия,90;Борис,Математика,75;Борис,История,80;Евгений,Математика,95;Евгений,История,85\"\n",
    "scores_info = \"Математика,80;Химия,60;История,80\"\n",
    "\"\"\"Ваш код\"\"\"\n",
    "pass_scores={k:int(v) for k,v in (ls.split(',') for ls in scores_info.split(';'))}\n",
    "\n",
    "courses = {}\n",
    "for s in students_info.split(';'):\n",
    "    name,course,score = s.split(',')\n",
    "    courses[course] = pass_scores[course] <= int(score) and courses.get(course, True)\n",
    "\n",
    "print(*[k for k,v in courses.items() if v])\n",
    "    \n"
   ]
  },
  {
   "cell_type": "code",
   "execution_count": null,
   "id": "1190a461-9f22-42bf-a08a-6f13b53e9127",
   "metadata": {},
   "outputs": [],
   "source": [
    "Анна,Математика,85;Анна,Химия,90;Борис,Математика,75;Борис,История,80;Евгений,Математика,95;Евгений,История,85\n",
    "Математика,80;Химия,60;История,80"
   ]
  },
  {
   "cell_type": "code",
   "execution_count": 54,
   "id": "90791020-1c0e-44e7-9f10-69564b170a81",
   "metadata": {},
   "outputs": [
    {
     "name": "stdout",
     "output_type": "stream",
     "text": [
      "[1, 2, 3, 4] [1, 2, 3, 4]\n"
     ]
    }
   ],
   "source": [
    "def modify(lst):\n",
    "    lst.append(4)\n",
    "    return lst\n",
    "\n",
    "my_lst = [1,2,3]\n",
    "new_lst = modify(my_lst)\n",
    "print(new_lst, my_lst)"
   ]
  },
  {
   "cell_type": "code",
   "execution_count": 56,
   "id": "0e7b7489-ec5f-4544-baf0-d0dc1e844780",
   "metadata": {},
   "outputs": [
    {
     "name": "stdout",
     "output_type": "stream",
     "text": [
      "123.45\n"
     ]
    }
   ],
   "source": [
    "import re\n",
    "text = '123.45 678.9'\n",
    "pattern = r'\\d+.\\d+'\n",
    "result = re.search(pattern, text)\n",
    "print(result.group())"
   ]
  },
  {
   "cell_type": "code",
   "execution_count": 57,
   "id": "69f54cbe-8d81-495e-932d-8dc711ccad9a",
   "metadata": {},
   "outputs": [
    {
     "ename": "ValueError",
     "evalue": "substring not found",
     "output_type": "error",
     "traceback": [
      "\u001b[0;31m---------------------------------------------------------------------------\u001b[0m",
      "\u001b[0;31mValueError\u001b[0m                                Traceback (most recent call last)",
      "Cell \u001b[0;32mIn[57], line 1\u001b[0m\n\u001b[0;32m----> 1\u001b[0m \u001b[38;5;124;43m'\u001b[39;49m\u001b[38;5;124;43m1234\u001b[39;49m\u001b[38;5;124;43m'\u001b[39;49m\u001b[38;5;241;43m.\u001b[39;49m\u001b[43mindex\u001b[49m\u001b[43m(\u001b[49m\u001b[38;5;124;43m'\u001b[39;49m\u001b[38;5;124;43m5\u001b[39;49m\u001b[38;5;124;43m'\u001b[39;49m\u001b[43m)\u001b[49m\n",
      "\u001b[0;31mValueError\u001b[0m: substring not found"
     ]
    }
   ],
   "source": [
    "'1234'.index('5')"
   ]
  }
 ],
 "metadata": {
  "kernelspec": {
   "display_name": "Python 3 (ipykernel)",
   "language": "python",
   "name": "python3"
  },
  "language_info": {
   "codemirror_mode": {
    "name": "ipython",
    "version": 3
   },
   "file_extension": ".py",
   "mimetype": "text/x-python",
   "name": "python",
   "nbconvert_exporter": "python",
   "pygments_lexer": "ipython3",
   "version": "3.12.3"
  }
 },
 "nbformat": 4,
 "nbformat_minor": 5
}
