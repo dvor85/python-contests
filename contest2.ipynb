{
 "cells": [
  {
   "cell_type": "markdown",
   "id": "ea29af53",
   "metadata": {},
   "source": [
    "# 1. Задачи на программирование"
   ]
  },
  {
   "cell_type": "markdown",
   "id": "bd9c87c4",
   "metadata": {},
   "source": [
    "## 1. Последовательность Анри-Скромняговского\n",
    "Рассмотрим последовательность натуральных чисел:\n",
    "1, 2, 3, 4, 5, 6, 7, 8, 9, 10...\n",
    "Перевернем в ней подпоследовательности длины 1 (1), затем длины 2 (2, 3), затем длины 3 (4, 5, 6), затем длины 4 (7, 8, 9, 10), и так далее. Получим последовательность:\n",
    "1, 3, 2, 6, 5, 4, 10, 9, 8, 7...\n",
    "Напишите программу, которая выводит первые n членов получившейся последовательности."
   ]
  },
  {
   "cell_type": "code",
   "execution_count": 165,
   "id": "35f77d93",
   "metadata": {
    "ExecuteTime": {
     "end_time": "2022-06-14T13:19:58.393834Z",
     "start_time": "2022-06-14T13:19:58.384022Z"
    }
   },
   "outputs": [
    {
     "name": "stdout",
     "output_type": "stream",
     "text": [
      "1 3 2 6 5 4 10 9 8 "
     ]
    }
   ],
   "source": [
    "def solution(n):\n",
    "    subres = [0]\n",
    "    l = 0\n",
    "    for i in range(1, n + 1):\n",
    "        l += i\n",
    "        r = 0 if n - l > 0 else n - l\n",
    "\n",
    "        subres = list(range(subres[0] + i, subres[0] - r, -1))\n",
    "        if len(subres) > 0:\n",
    "            print(' '.join(list(map(str, subres))), end=' ')\n",
    "        else:\n",
    "            return\n",
    "\n",
    "n = 9\n",
    "solution(n)"
   ]
  },
  {
   "cell_type": "markdown",
   "id": "d1080c08",
   "metadata": {},
   "source": [
    "## 2. Ключевое различие\n",
    "Реализуйте функцию key_difference(), которая принимает в качестве аргументов два словаря, находит различия между ними и возвращает словарь с названиями ключей и с состояниями каждого ключа в виде его значения при переходе от первого словаря ко второму в формате:\n",
    "\n",
    "    added, если ключа не было в первом словаре, но он появился во втором;\n",
    "    deleted, если ключ был в первом словаре, но его не было во втором;\n",
    "    changed, если ключ присутствует в обоих словарях, но значения различаются;\n",
    "    equal, если ключ присутствует в обоих словарях, и значения совпадают.\n"
   ]
  },
  {
   "cell_type": "code",
   "execution_count": 173,
   "id": "5a9f04fb",
   "metadata": {
    "ExecuteTime": {
     "end_time": "2022-06-14T13:52:18.212551Z",
     "start_time": "2022-06-14T13:52:18.205662Z"
    }
   },
   "outputs": [
    {
     "data": {
      "text/plain": [
       "{'one': 'deleted', 'two': 'changed', 'four': 'equal', 'zero': 'added'}"
      ]
     },
     "execution_count": 173,
     "metadata": {},
     "output_type": "execute_result"
    }
   ],
   "source": [
    "def key_difference(dict1, dict2):\n",
    "    res = {}\n",
    "    for k in dict1:\n",
    "        if k in dict2:\n",
    "            res[k] = 'equal' if dict1[k] == dict2[k] else 'changed'\n",
    "        else:\n",
    "            res[k] = 'deleted'\n",
    "            \n",
    "    for k in dict2:\n",
    "        if k not in dict1:\n",
    "            res[k] = 'added'\n",
    "    return res\n",
    "\n",
    "key_difference({\n",
    "    'one': 'eon',\n",
    "    'two': 'two',\n",
    "    'four': 'True'\n",
    "}, {\n",
    "    'two': 'own',\n",
    "    'zero': '4',\n",
    "    'four': 'True'\n",
    "})"
   ]
  },
  {
   "cell_type": "markdown",
   "id": "fd4f9cb9",
   "metadata": {},
   "source": [
    "## 3. Бабкагеддон\n",
    "Ховард и Винс убегают от демона злой бабушки, которого они случайно призвали. Ритуал произошел на нулевых линейных координатах, и перед тем как бабушка погналась за ними, Ховард отбежал на координату n, а Винс на координату m, после чего они продолжили убегать от нулевой координаты с одинаковой скоростью, а бабушка начала свое движение в два раза быстрее них.\n",
    "Напишите программу, которая находит минимальное расстояние, которое нужно пробежать бабушке, чтобы настигнуть Ховарда и Винса."
   ]
  },
  {
   "cell_type": "code",
   "execution_count": 108,
   "id": "abf3c24b",
   "metadata": {
    "ExecuteTime": {
     "end_time": "2022-06-15T13:15:14.946246Z",
     "start_time": "2022-06-15T13:15:14.937346Z"
    }
   },
   "outputs": [
    {
     "data": {
      "text/plain": [
       "10"
      ]
     },
     "execution_count": 108,
     "metadata": {},
     "output_type": "execute_result"
    }
   ],
   "source": [
    "def solution(inputmn):\n",
    "    sign = lambda x: (1, -1)[x < 0]\n",
    "    x0 = 0\n",
    "    x = [int(_) for _ in inputmn.split(' ')]\n",
    "    if abs(x0 - x[0]) <= abs(x0 - x[1]):\n",
    "        n, m = x\n",
    "    else:\n",
    "        m, n = x\n",
    "\n",
    "    x01 = 2 * n - x0\n",
    "    x21 = m + sign(m) * abs(n - x0)\n",
    "    x02 = x01 + 2 * abs(x21 - x01) * sign(m)\n",
    "    return int(abs(x02 - x01) + abs(x01))\n",
    "\n",
    "\n",
    "solution('-1 1')"
   ]
  },
  {
   "cell_type": "markdown",
   "id": "59550f12",
   "metadata": {},
   "source": [
    "## 4. Самое скучное условие\n",
    "Напишите программу, которая находит длину самого длинного палиндрома, который можно составить из букв в строке."
   ]
  },
  {
   "cell_type": "code",
   "execution_count": 134,
   "id": "cba9419b",
   "metadata": {
    "ExecuteTime": {
     "end_time": "2022-06-15T13:32:42.897098Z",
     "start_time": "2022-06-15T13:32:42.886160Z"
    }
   },
   "outputs": [
    {
     "data": {
      "text/plain": [
       "19"
      ]
     },
     "execution_count": 134,
     "metadata": {},
     "output_type": "execute_result"
    }
   ],
   "source": [
    "def solution(ss):\n",
    "    return min(sum([ss.count(_) // 2 * 2 for _ in set(ss)]) + 1, len(ss))\n",
    "\n",
    "\n",
    "solution('aaaa23t23wgv398046703aaaajjl')"
   ]
  },
  {
   "cell_type": "markdown",
   "id": "6b8f5691",
   "metadata": {},
   "source": [
    "## 5. Дружелюбный городок\n",
    "В городке BeeGeek, чтобы все жители виделись как можно чаще, существует всего одна улица, представляющая собой координатную прямую. На ней находится какое-то количество домов, у каждого из которых, есть своя координата, представленная неотрицательным целым числом, и свой цвет (цвета домов могут повторяться).\n",
    "Напишите программу, которая находит максимальное расстояние между домами одинакового цвета. Если домов одинакового цвета нет, то следует вывести 0."
   ]
  },
  {
   "cell_type": "code",
   "execution_count": 155,
   "id": "0bc2dffd",
   "metadata": {
    "ExecuteTime": {
     "end_time": "2022-06-15T14:01:24.765380Z",
     "start_time": "2022-06-15T14:01:24.752684Z"
    }
   },
   "outputs": [
    {
     "data": {
      "text/plain": [
       "15"
      ]
     },
     "execution_count": 155,
     "metadata": {},
     "output_type": "execute_result"
    }
   ],
   "source": [
    "import pandas as pd\n",
    "def solution(coords, colors):\n",
    "    ser = pd.Series(coords.split(), index = colors.split()).astype(int)\n",
    "    return ser.groupby(level=0).apply(lambda x: x.max() - x.min() if len(x) % 2 == 0 else 0).max()\n",
    "\n",
    "solution('2 5 10 11 16 17 18 20', 'r w g w g r w b')\n",
    "        "
   ]
  },
  {
   "cell_type": "code",
   "execution_count": 4,
   "id": "e8c49b83",
   "metadata": {
    "ExecuteTime": {
     "end_time": "2022-06-16T10:15:22.611834Z",
     "start_time": "2022-06-16T10:15:22.596874Z"
    }
   },
   "outputs": [
    {
     "data": {
      "text/plain": [
       "20"
      ]
     },
     "execution_count": 4,
     "metadata": {},
     "output_type": "execute_result"
    }
   ],
   "source": [
    "def solution(coords, colors):\n",
    "    coords = list(map(int, coords.split()))\n",
    "    colors = colors.split()\n",
    "    res = 0\n",
    "    for i in range(0, len(colors) // 2 + 1):\n",
    "        for j in range(len(colors) - 1, len(colors) // 2, -1):\n",
    "            if colors[i] == colors[j]:\n",
    "                res = max(res, coords[j] - coords[i])\n",
    "                break\n",
    "    return res\n",
    "\n",
    "\n",
    "solution('1 3 5 6 10 21 22', 'r g b w w r g')"
   ]
  },
  {
   "cell_type": "markdown",
   "id": "b5ab6bfe",
   "metadata": {},
   "source": [
    "## 6. Повторяйповторяйповторяй\n",
    "Напишите программу, которая определяет, на какое максимальное количество одинаковых подстрок можно разбить данную строку так, чтобы все элементы строки были задействованы."
   ]
  },
  {
   "cell_type": "code",
   "execution_count": 51,
   "id": "dac50b84",
   "metadata": {
    "ExecuteTime": {
     "end_time": "2022-06-20T12:34:10.156255Z",
     "start_time": "2022-06-20T12:34:10.143401Z"
    }
   },
   "outputs": [
    {
     "data": {
      "text/plain": [
       "2"
      ]
     },
     "execution_count": 51,
     "metadata": {},
     "output_type": "execute_result"
    }
   ],
   "source": [
    "# %%timeit\n",
    "from collections import Counter\n",
    "import numpy as np\n",
    "\n",
    "def solution(ss):\n",
    "    x = np.array(list(Counter(ss).values()))\n",
    "    for i in range(x.min(), 0, -1):\n",
    "        if np.all(x % i == 0):\n",
    "            return i\n",
    "    \n",
    "\n",
    "solution('повторяйповторяйповторяй')"
   ]
  },
  {
   "cell_type": "code",
   "execution_count": 52,
   "id": "5fb16cd5",
   "metadata": {
    "ExecuteTime": {
     "end_time": "2022-06-20T12:34:25.578356Z",
     "start_time": "2022-06-20T12:34:25.572587Z"
    }
   },
   "outputs": [
    {
     "data": {
      "text/plain": [
       "2"
      ]
     },
     "execution_count": 52,
     "metadata": {},
     "output_type": "execute_result"
    }
   ],
   "source": [
    "def solution(ss):\n",
    "    subss = ''\n",
    "    for s in ss:\n",
    "        subss += s\n",
    "        sc = ss.count(subss)\n",
    "        if sc == 1 or len(ss) / len(subss) == sc:\n",
    "            return sc\n",
    "        \n",
    "solution('bbabbbab')"
   ]
  },
  {
   "cell_type": "markdown",
   "id": "08bd8a7d",
   "metadata": {},
   "source": [
    "## 7. Умножение строк\n",
    "Назовем умножением строки на число запись в формате n(string), где n — неотрицательное целое число, а string — строка, которая должна быть записана n раз. Раскрытием умножения будем считать развернутый вариант данной записи, например, строка ti2(Be)3(Ge) после раскрытия в ней всех умножений будет иметь вид tiBeBeGeGeGe.\n",
    "\n",
    "Напишите программу, которая раскрывает все умножения в тексте и выводит полученный результат."
   ]
  },
  {
   "cell_type": "code",
   "execution_count": 46,
   "id": "69692818",
   "metadata": {
    "ExecuteTime": {
     "end_time": "2022-06-20T11:26:48.641744Z",
     "start_time": "2022-06-20T11:26:48.635515Z"
    }
   },
   "outputs": [
    {
     "data": {
      "text/plain": [
       "'helied'"
      ]
     },
     "execution_count": 46,
     "metadata": {},
     "output_type": "execute_result"
    }
   ],
   "source": [
    "import re\n",
    "\n",
    "\n",
    "def solution(ss):\n",
    "    _re_brace = re.compile(r'(\\d+)\\(([a-z]+)\\)', re.ASCII)\n",
    "    while _re_brace.search(ss):\n",
    "        ss = _re_brace.sub(lambda x: int(x.group(1)) * x.group(2), ss)\n",
    "    return ss\n",
    "\n",
    "\n",
    "solution('0(s)he0(be)lie0(ve)d')"
   ]
  }
 ],
 "metadata": {
  "kernelspec": {
   "display_name": "Python 3 (ipykernel)",
   "language": "python",
   "name": "python3"
  },
  "language_info": {
   "codemirror_mode": {
    "name": "ipython",
    "version": 3
   },
   "file_extension": ".py",
   "mimetype": "text/x-python",
   "name": "python",
   "nbconvert_exporter": "python",
   "pygments_lexer": "ipython3",
   "version": "3.10.12"
  },
  "latex_envs": {
   "LaTeX_envs_menu_present": true,
   "autoclose": false,
   "autocomplete": true,
   "bibliofile": "biblio.bib",
   "cite_by": "apalike",
   "current_citInitial": 1,
   "eqLabelWithNumbers": true,
   "eqNumInitial": 1,
   "hotkeys": {
    "equation": "Ctrl-E",
    "itemize": "Ctrl-I"
   },
   "labels_anchors": false,
   "latex_user_defs": false,
   "report_style_numbering": false,
   "user_envs_cfg": false
  },
  "varInspector": {
   "cols": {
    "lenName": 16,
    "lenType": 16,
    "lenVar": 40
   },
   "kernels_config": {
    "python": {
     "delete_cmd_postfix": "",
     "delete_cmd_prefix": "del ",
     "library": "var_list.py",
     "varRefreshCmd": "print(var_dic_list())"
    },
    "r": {
     "delete_cmd_postfix": ") ",
     "delete_cmd_prefix": "rm(",
     "library": "var_list.r",
     "varRefreshCmd": "cat(var_dic_list()) "
    }
   },
   "types_to_exclude": [
    "module",
    "function",
    "builtin_function_or_method",
    "instance",
    "_Feature"
   ],
   "window_display": false
  }
 },
 "nbformat": 4,
 "nbformat_minor": 5
}
