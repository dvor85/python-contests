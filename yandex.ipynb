{
 "cells": [
  {
   "cell_type": "code",
   "execution_count": 2,
   "id": "902d1e0e-29b3-43c3-94bb-734b35eb3f1c",
   "metadata": {},
   "outputs": [
    {
     "data": {
      "text/plain": [
       "2"
      ]
     },
     "execution_count": 2,
     "metadata": {},
     "output_type": "execute_result"
    }
   ],
   "source": [
    "from pathlib import Path\n",
    "\n",
    "Path(\"output.txt\").write_text(str(sum(map(int, Path(\"input.txt\").read_text().split()))))"
   ]
  },
  {
   "cell_type": "code",
   "execution_count": 7,
   "id": "cfe45c68-7e4d-4e50-822a-4f44d1d55842",
   "metadata": {},
   "outputs": [
    {
     "data": {
      "text/plain": [
       "1"
      ]
     },
     "execution_count": 7,
     "metadata": {},
     "output_type": "execute_result"
    }
   ],
   "source": [
    "from pathlib import Path\n",
    "J, S = Path(\"input.txt\").read_text().splitlines()\n",
    "Path(\"output.txt\").write_text(str(sum(a in J for a in S)))"
   ]
  },
  {
   "cell_type": "code",
   "execution_count": null,
   "id": "9d05958b-9ac1-4e44-8b17-b7255a849ba6",
   "metadata": {},
   "outputs": [],
   "source": []
  }
 ],
 "metadata": {
  "kernelspec": {
   "display_name": "Python 3 (ipykernel)",
   "language": "python",
   "name": "python3"
  },
  "language_info": {
   "codemirror_mode": {
    "name": "ipython",
    "version": 3
   },
   "file_extension": ".py",
   "mimetype": "text/x-python",
   "name": "python",
   "nbconvert_exporter": "python",
   "pygments_lexer": "ipython3",
   "version": "3.12.3"
  },
  "widgets": {
   "application/vnd.jupyter.widget-state+json": {
    "state": {},
    "version_major": 2,
    "version_minor": 0
   }
  }
 },
 "nbformat": 4,
 "nbformat_minor": 5
}
