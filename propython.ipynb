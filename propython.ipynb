{
 "cells": [
  {
   "cell_type": "markdown",
   "id": "66b6052b",
   "metadata": {},
   "source": [
    "## 2.1 Основные конструкции"
   ]
  },
  {
   "cell_type": "markdown",
   "id": "64e23db3",
   "metadata": {},
   "source": [
    "### 1. Easy"
   ]
  },
  {
   "cell_type": "code",
   "execution_count": 2,
   "id": "6ad962cb",
   "metadata": {
    "ExecuteTime": {
     "end_time": "2022-06-22T14:00:32.048416Z",
     "start_time": "2022-06-22T14:00:29.319751Z"
    }
   },
   "outputs": [
    {
     "name": "stdout",
     "output_type": "stream",
     "text": [
      "4\n",
      "5\n",
      "9\n",
      "-1\n",
      "20\n",
      "0.8\n",
      "0\n",
      "4\n",
      "3288.4952485901513\n"
     ]
    }
   ],
   "source": [
    "a,b = int(input()), int(input())\n",
    "print(a+b)\n",
    "print(a-b)\n",
    "print(a*b)\n",
    "print(a/b)\n",
    "print(a//b)\n",
    "print(a % b)\n",
    "print((a**10+b**10)**0.5)"
   ]
  },
  {
   "cell_type": "markdown",
   "id": "085e355b",
   "metadata": {},
   "source": [
    "### 2. Индекс массы тела\n",
    "Напишите программу для вычисления и оценки индекса массы тела (ИМТ) человека. ИМТ показывает весит человек больше или меньше нормы для своего роста."
   ]
  },
  {
   "cell_type": "code",
   "execution_count": 6,
   "id": "30fcbfad",
   "metadata": {
    "ExecuteTime": {
     "end_time": "2022-06-22T14:07:36.898681Z",
     "start_time": "2022-06-22T14:07:36.887799Z"
    }
   },
   "outputs": [
    {
     "data": {
      "text/plain": [
       "'Оптимальная масса'"
      ]
     },
     "execution_count": 6,
     "metadata": {},
     "output_type": "execute_result"
    }
   ],
   "source": [
    "def solution(m,l):\n",
    "    imt = m/(l**2)\n",
    "    if 18.5<=imt<=25:\n",
    "        return \"Оптимальная масса\"\n",
    "    elif imt<18.5:\n",
    "        return \"Недостаточная масса\"\n",
    "    else:\n",
    "        return \"Избыточная масса\"\n",
    "    \n",
    "solution(75, 1.8)"
   ]
  },
  {
   "cell_type": "markdown",
   "id": "10332184",
   "metadata": {},
   "source": [
    "### 3. Стоимость строки\n",
    "Дана строка текста. Напишите программу для подсчета стоимости строки, исходя из того, что один любой символ (в том числе пробел) стоит 60 копеек."
   ]
  },
  {
   "cell_type": "code",
   "execution_count": 18,
   "id": "c0fe0262",
   "metadata": {
    "ExecuteTime": {
     "end_time": "2022-06-22T14:24:16.319390Z",
     "start_time": "2022-06-22T14:24:16.313348Z"
    }
   },
   "outputs": [
    {
     "data": {
      "text/plain": [
       "'43 р. 80 коп.'"
      ]
     },
     "execution_count": 18,
     "metadata": {},
     "output_type": "execute_result"
    }
   ],
   "source": [
    "def solution(s):\n",
    "    price = 60*len(s)\n",
    "    return f\"{price // 100} р. {price % 100} коп.\"\n",
    "solution(\"Я собираюсь сделать ему предложение, от которого он не сможет отказаться.\")"
   ]
  },
  {
   "cell_type": "markdown",
   "id": "c5220d32",
   "metadata": {},
   "source": [
    "### 4. Количество слов\n",
    "Дана строка, состоящая из слов, разделенных пробелами. Напишите программу, которая подсчитывает количество слов в этой строке."
   ]
  },
  {
   "cell_type": "code",
   "execution_count": 1,
   "id": "3d18bf52",
   "metadata": {
    "ExecuteTime": {
     "end_time": "2022-06-23T10:41:20.843967Z",
     "start_time": "2022-06-23T10:41:14.128726Z"
    }
   },
   "outputs": [
    {
     "name": "stdout",
     "output_type": "stream",
     "text": [
      "Hello world\n",
      "2\n"
     ]
    }
   ],
   "source": [
    "print(len(input().split()))"
   ]
  },
  {
   "cell_type": "markdown",
   "id": "7242edcf",
   "metadata": {},
   "source": [
    "### 5.Зодиак\n",
    "Китайский гороскоп назначает животным годы в 12-летнем цикле. Один 12-летний цикл показан в таблице ниже. Таким образом, 2012 год будет очередным годом дракона."
   ]
  },
  {
   "cell_type": "code",
   "execution_count": 32,
   "id": "5fb9a50c",
   "metadata": {
    "ExecuteTime": {
     "end_time": "2022-06-23T11:05:55.070606Z",
     "start_time": "2022-06-23T11:05:55.063742Z"
    }
   },
   "outputs": [
    {
     "data": {
      "text/plain": [
       "'Петух'"
      ]
     },
     "execution_count": 32,
     "metadata": {},
     "output_type": "execute_result"
    }
   ],
   "source": [
    "def solution(year):\n",
    "    zodiak = [\n",
    "        \"Дракон\", \"Змея\", \"Лошадь\", \"Овца\", \"Обезьяна\", \"Петух\", \"Собака\",\n",
    "        \"Свинья\", \"Крыса\", \"Бык\", \"Тигр\", \"Заяц\"\n",
    "    ]\n",
    "    return zodiak[(year - 2000) % 12]\n",
    "\n",
    "\n",
    "solution(1945)"
   ]
  },
  {
   "cell_type": "markdown",
   "id": "3efdba6c",
   "metadata": {
    "ExecuteTime": {
     "end_time": "2022-06-23T10:51:51.370003Z",
     "start_time": "2022-06-23T10:51:51.366362Z"
    }
   },
   "source": [
    "### 6. Переворот числа\n",
    "Дано пятизначное или шестизначное натуральное число. Напишите программу, которая изменит порядок его последних пяти цифр на обратный."
   ]
  },
  {
   "cell_type": "code",
   "execution_count": 64,
   "id": "fdaf92f0",
   "metadata": {
    "ExecuteTime": {
     "end_time": "2022-06-23T11:21:34.152920Z",
     "start_time": "2022-06-23T11:21:34.148051Z"
    }
   },
   "outputs": [
    {
     "data": {
      "text/plain": [
       "52"
      ]
     },
     "execution_count": 64,
     "metadata": {},
     "output_type": "execute_result"
    }
   ],
   "source": [
    "s=\"25000\"\n",
    "int(s.replace(s[-5:],s[:-6:-1]))"
   ]
  },
  {
   "cell_type": "markdown",
   "id": "1f21ab77",
   "metadata": {},
   "source": [
    "### 7. Standard American Convention\n",
    "На вход программе подаётся натуральное число. Напишите программу, которая вставляет в заданное число запятые в соответствии со стандартным американским соглашением о запятых в больших числах.\n"
   ]
  },
  {
   "cell_type": "code",
   "execution_count": 71,
   "id": "890e9d80",
   "metadata": {
    "ExecuteTime": {
     "end_time": "2022-06-23T11:30:00.424437Z",
     "start_time": "2022-06-23T11:29:55.780557Z"
    }
   },
   "outputs": [
    {
     "name": "stdout",
     "output_type": "stream",
     "text": [
      " \t  3724650756252\n",
      "3,724,650,756,252\n"
     ]
    }
   ],
   "source": [
    "print(f\"{int(input()):,}\")\n",
    "    "
   ]
  },
  {
   "cell_type": "markdown",
   "id": "68d330bb",
   "metadata": {},
   "source": [
    "### 8. Задача Иосифа Флавия\n",
    "n человек, пронумерованных числами от 1 до n, стоят в кругу. Они начинают считаться, каждый k-й по счету человек выбывает из круга, после чего счет продолжается со следующего за ним человека. Напишите программу, определяющую номер человека, который останется в кругу последним."
   ]
  },
  {
   "cell_type": "code",
   "execution_count": 91,
   "id": "1b8080df",
   "metadata": {
    "ExecuteTime": {
     "end_time": "2022-06-23T12:29:28.611975Z",
     "start_time": "2022-06-23T12:29:28.606515Z"
    }
   },
   "outputs": [
    {
     "data": {
      "text/plain": [
       "2"
      ]
     },
     "execution_count": 91,
     "metadata": {},
     "output_type": "execute_result"
    }
   ],
   "source": [
    "def F(n, k):\n",
    "    return 1 if n == 1 else 1 + (F(n - 1, k) + k - 1) % n\n",
    "\n",
    "\n",
    "F(2, 1)"
   ]
  },
  {
   "cell_type": "markdown",
   "id": "0daa23db",
   "metadata": {},
   "source": [
    "## 2.2"
   ]
  },
  {
   "cell_type": "markdown",
   "id": "f92af1d4",
   "metadata": {},
   "source": [
    "### 1. Координатные четверти\n",
    "Дан набор точек на координатной плоскости. Необходимо подсчитать и вывести количество точек, лежащих в каждой координатной четверти."
   ]
  },
  {
   "cell_type": "code",
   "execution_count": 150,
   "id": "5d5ab321",
   "metadata": {
    "ExecuteTime": {
     "end_time": "2022-06-23T14:18:20.666768Z",
     "start_time": "2022-06-23T14:18:20.659386Z"
    }
   },
   "outputs": [
    {
     "name": "stdout",
     "output_type": "stream",
     "text": [
      "Первая четверть: 1\n",
      "Вторая четверть: 0\n",
      "Третья четверть: 1\n",
      "Четвертая четверть: 0\n"
     ]
    }
   ],
   "source": [
    "import numpy as np\n",
    "\n",
    "def solution(n):\n",
    "    test = '0 -1\\n1 2\\n0 9\\n-9 -5'\n",
    "    coords = np.array([x.split() for x in [_ for _ in test.splitlines()]], dtype=int)\n",
    "    print(\"Первая четверть:\", sum(np.logical_and(coords[:,0]>0, coords[:,1]>0)))\n",
    "    print(\"Вторая четверть:\", sum(np.logical_and(coords[:,0]<0, coords[:,1]>0)))\n",
    "    print(\"Третья четверть:\", sum(np.logical_and(coords[:,0]<0, coords[:,1]<0)))\n",
    "    print(\"Четвертая четверть:\", sum(np.logical_and(coords[:,0]>0, coords[:,1]<0)))\n",
    "    \n",
    "solution(4)"
   ]
  },
  {
   "cell_type": "markdown",
   "id": "77d7f9b2",
   "metadata": {},
   "source": [
    "### 2. Больше предыдущего\n",
    "Напишите программу подсчета количества чисел, которые больше предшествующего им в этом списке числа, то есть, стоят вслед за меньшим числом. "
   ]
  },
  {
   "cell_type": "code",
   "execution_count": 11,
   "id": "05fba943",
   "metadata": {
    "ExecuteTime": {
     "end_time": "2022-06-24T10:25:46.448389Z",
     "start_time": "2022-06-24T10:25:46.442459Z"
    }
   },
   "outputs": [
    {
     "name": "stdout",
     "output_type": "stream",
     "text": [
      "4\n"
     ]
    }
   ],
   "source": [
    "import numpy as np\n",
    "\n",
    "print(sum(np.diff(np.array('1 2 3 4 5'.split(), dtype=int))>0))\n"
   ]
  },
  {
   "cell_type": "markdown",
   "id": "4533c047",
   "metadata": {},
   "source": [
    "### 3. Назад, вперёд и наоборот\n",
    "На вход программе подается строка текста из натуральных чисел. Из элементов строки формируется список чисел. Напишите программу, которая меняет местами соседние элементы списка"
   ]
  },
  {
   "cell_type": "code",
   "execution_count": 18,
   "id": "1c8912f4",
   "metadata": {
    "ExecuteTime": {
     "end_time": "2022-06-24T10:36:33.338987Z",
     "start_time": "2022-06-24T10:36:33.331834Z"
    }
   },
   "outputs": [
    {
     "data": {
      "text/plain": [
       "'2 1 4 3 5'"
      ]
     },
     "execution_count": 18,
     "metadata": {},
     "output_type": "execute_result"
    }
   ],
   "source": [
    "import re\n",
    "\n",
    "def solution(ls):\n",
    "    regx = re.compile(r'(\\d+)\\s+(\\d+)')\n",
    "    return regx.sub(lambda m: f\"{m.group(2)} {m.group(1)}\", ls)\n",
    "\n",
    "solution('1 2 3 4 5')"
   ]
  },
  {
   "cell_type": "markdown",
   "id": "92eb1712",
   "metadata": {},
   "source": [
    "### 4. Сдвиг в развитии\n",
    "Напишите программу циклического сдвига элементов списка направо, когда последний элемент становится первым, а остальные сдвигаются на одну позицию вперед, в сторону увеличения индексов."
   ]
  },
  {
   "cell_type": "code",
   "execution_count": 23,
   "id": "31a94096",
   "metadata": {
    "ExecuteTime": {
     "end_time": "2022-06-24T10:46:42.457594Z",
     "start_time": "2022-06-24T10:46:42.451345Z"
    }
   },
   "outputs": [
    {
     "name": "stdout",
     "output_type": "stream",
     "text": [
      "13 489 483 43 2 3 84 1 4 3 2 5 4 3\n"
     ]
    }
   ],
   "source": [
    "from collections import deque\n",
    "\n",
    "def solution(ls):\n",
    "    dl = deque(ls.split())\n",
    "    dl.rotate(1)\n",
    "    return dl\n",
    "\n",
    "print(*solution('489 483 43 2 3 84 1 4 3 2 5 4 3 13'))"
   ]
  },
  {
   "cell_type": "markdown",
   "id": "33136be2",
   "metadata": {},
   "source": [
    "### 5. Различные элементы\n",
    "Напишите программу для подсчета количества разных элементов в списке."
   ]
  },
  {
   "cell_type": "code",
   "execution_count": 26,
   "id": "5a5a97fb",
   "metadata": {
    "ExecuteTime": {
     "end_time": "2022-06-24T10:50:39.304177Z",
     "start_time": "2022-06-24T10:50:39.297897Z"
    }
   },
   "outputs": [
    {
     "data": {
      "text/plain": [
       "1"
      ]
     },
     "execution_count": 26,
     "metadata": {},
     "output_type": "execute_result"
    }
   ],
   "source": [
    "len(set('2 2 5 5 5 5 8 10 10'.split()))"
   ]
  },
  {
   "cell_type": "markdown",
   "id": "2098f0f6",
   "metadata": {},
   "source": [
    "### 6. Произведение чисел\n",
    "Напишите программу для определения, является ли число произведением двух чисел из данного набора, выводящую результат в виде ответа «ДА» или «НЕТ»."
   ]
  },
  {
   "cell_type": "code",
   "execution_count": 55,
   "id": "eb737152",
   "metadata": {
    "ExecuteTime": {
     "end_time": "2022-06-24T11:34:50.590699Z",
     "start_time": "2022-06-24T11:34:50.584056Z"
    }
   },
   "outputs": [
    {
     "data": {
      "text/plain": [
       "'ДА'"
      ]
     },
     "execution_count": 55,
     "metadata": {},
     "output_type": "execute_result"
    }
   ],
   "source": [
    "def solution(n):\n",
    "    test = '89\\n4\\n77\\n4'\n",
    "    prod = 16\n",
    "    nums = [int(x) for x in test.splitlines()]\n",
    "    for i in range(len(nums)):\n",
    "        for j in range(len(nums)):\n",
    "            if i != j and nums[i] * nums[j] == prod:\n",
    "                return \"ДА\"\n",
    "    return \"НЕТ\"\n",
    "\n",
    "\n",
    "solution(5)"
   ]
  },
  {
   "cell_type": "markdown",
   "id": "adb31220",
   "metadata": {},
   "source": [
    "### 7. Камень, ножницы, бумага\n",
    "Программа должна вывести результат жеребьёвки, то есть кто победит"
   ]
  },
  {
   "cell_type": "code",
   "execution_count": 64,
   "id": "fcff1de1",
   "metadata": {
    "ExecuteTime": {
     "end_time": "2022-06-24T12:29:24.380800Z",
     "start_time": "2022-06-24T12:29:24.373983Z"
    }
   },
   "outputs": [
    {
     "data": {
      "text/plain": [
       "'Тимур'"
      ]
     },
     "execution_count": 64,
     "metadata": {},
     "output_type": "execute_result"
    }
   ],
   "source": [
    "def solution(timur, ruslan):\n",
    "    elems = {\"камень\": [0,1,-1], \"ножницы\": [-1,0,1], \"бумага\": [1,-1,0]}\n",
    "    res = elems[timur][list(elems.keys()).index(ruslan)]\n",
    "    return \"Тимур\" if res > 0 else \"Руслан\" if res < 0 else \"ничья\"\n",
    "    \n",
    "solution(\"камень\", \"ножницы\") "
   ]
  },
  {
   "cell_type": "code",
   "execution_count": 63,
   "id": "f7e579de",
   "metadata": {
    "ExecuteTime": {
     "end_time": "2022-06-24T12:22:49.549753Z",
     "start_time": "2022-06-24T12:22:49.541516Z"
    }
   },
   "outputs": [
    {
     "data": {
      "text/plain": [
       "'Тимур'"
      ]
     },
     "execution_count": 63,
     "metadata": {},
     "output_type": "execute_result"
    }
   ],
   "source": [
    "def solution(timur, ruslan):\n",
    "    var = ['камень', 'ножницы', 'бумага']\n",
    "    ans = ['ничья', 'Руслан', 'Тимур']\n",
    "    return ans[var.index(timur) - var.index(ruslan)]\n",
    "    \n",
    "solution(\"камень\", \"ножницы\")       \n",
    "    "
   ]
  },
  {
   "cell_type": "markdown",
   "id": "704ee46b",
   "metadata": {},
   "source": [
    "### 8. Камень, ножницы, бумага, ящерица, Спок\n",
    "Правила игры стандартные: ножницы режут бумагу. Бумага заворачивает камень. Камень давит ящерицу, а ящерица травит Спока, в то время как Спок ломает ножницы, которые, в свою очередь, отрезают голову ящерице, которая ест бумагу, на которой улики против Спока. Спок испаряет камень, а камень, разумеется, затупляет ножницы."
   ]
  },
  {
   "cell_type": "code",
   "execution_count": 95,
   "id": "4b5388e6",
   "metadata": {
    "ExecuteTime": {
     "end_time": "2022-06-24T13:05:25.808599Z",
     "start_time": "2022-06-24T13:05:25.801446Z"
    }
   },
   "outputs": [
    {
     "data": {
      "text/plain": [
       "'Тимур'"
      ]
     },
     "execution_count": 95,
     "metadata": {},
     "output_type": "execute_result"
    }
   ],
   "source": [
    "def solution(timur, ruslan):\n",
    "    graf = {\n",
    "        'ножницы': ['бумага', 'ящерица'],\n",
    "        'бумага': ['камень', 'Спок'],\n",
    "        'камень': ['ножницы', 'ящерица'],\n",
    "        'ящерица': ['Спок', 'бумага'],\n",
    "        'Спок': ['ножницы', 'камень']\n",
    "    }\n",
    "    return \"Тимур\" if ruslan in graf[timur] else \"Руслан\" if timur in graf[ruslan] else \"ничья\"\n",
    "\n",
    "\n",
    "solution(\"бумага\", \"Спок\")"
   ]
  },
  {
   "cell_type": "code",
   "execution_count": 97,
   "id": "9be62c0e",
   "metadata": {
    "ExecuteTime": {
     "end_time": "2022-06-24T13:23:55.316242Z",
     "start_time": "2022-06-24T13:23:55.304100Z"
    }
   },
   "outputs": [
    {
     "data": {
      "text/plain": [
       "'Тимур'"
      ]
     },
     "execution_count": 97,
     "metadata": {},
     "output_type": "execute_result"
    }
   ],
   "source": [
    "#Алекс Глозман\n",
    "def solution(timur, ruslan):\n",
    "    g = ('ножницы', 'бумага', 'камень', 'ящерица', 'Спок')\n",
    "    dist = (g.index(timur) - g.index(ruslan)) % len(g)\n",
    "    return ('ничья', 'Тимур', 'Руслан')[dist and dist % 2 + 1]\n",
    "            \n",
    "solution(\"бумага\", \"Спок\")\n"
   ]
  },
  {
   "cell_type": "markdown",
   "id": "94999714",
   "metadata": {},
   "source": [
    "### 9. Орел и решка\n",
    "Дана строка текста, состоящая из букв русского алфавита \"О\" и \"Р\". Буква \"О\" – соответствует выпадению Орла, а буква \"Р\" – соответствует выпадению Решки. Напишите программу, которая подсчитывает наибольшее количество подряд выпавших Решек."
   ]
  },
  {
   "cell_type": "code",
   "execution_count": 114,
   "id": "3e091b00",
   "metadata": {
    "ExecuteTime": {
     "end_time": "2022-06-24T13:46:30.915705Z",
     "start_time": "2022-06-24T13:46:30.910340Z"
    }
   },
   "outputs": [
    {
     "data": {
      "text/plain": [
       "7"
      ]
     },
     "execution_count": 114,
     "metadata": {},
     "output_type": "execute_result"
    }
   ],
   "source": [
    "len(max('ООООООРРРОРОРРРРРРР'.split('О')))\n"
   ]
  }
 ],
 "metadata": {
  "kernelspec": {
   "display_name": "Python 3 (ipykernel)",
   "language": "python",
   "name": "python3"
  },
  "language_info": {
   "codemirror_mode": {
    "name": "ipython",
    "version": 3
   },
   "file_extension": ".py",
   "mimetype": "text/x-python",
   "name": "python",
   "nbconvert_exporter": "python",
   "pygments_lexer": "ipython3",
   "version": "3.8.10"
  },
  "latex_envs": {
   "LaTeX_envs_menu_present": true,
   "autoclose": false,
   "autocomplete": true,
   "bibliofile": "biblio.bib",
   "cite_by": "apalike",
   "current_citInitial": 1,
   "eqLabelWithNumbers": true,
   "eqNumInitial": 1,
   "hotkeys": {
    "equation": "Ctrl-E",
    "itemize": "Ctrl-I"
   },
   "labels_anchors": false,
   "latex_user_defs": false,
   "report_style_numbering": false,
   "user_envs_cfg": false
  },
  "varInspector": {
   "cols": {
    "lenName": 16,
    "lenType": 16,
    "lenVar": 40
   },
   "kernels_config": {
    "python": {
     "delete_cmd_postfix": "",
     "delete_cmd_prefix": "del ",
     "library": "var_list.py",
     "varRefreshCmd": "print(var_dic_list())"
    },
    "r": {
     "delete_cmd_postfix": ") ",
     "delete_cmd_prefix": "rm(",
     "library": "var_list.r",
     "varRefreshCmd": "cat(var_dic_list()) "
    }
   },
   "types_to_exclude": [
    "module",
    "function",
    "builtin_function_or_method",
    "instance",
    "_Feature"
   ],
   "window_display": false
  }
 },
 "nbformat": 4,
 "nbformat_minor": 5
}
