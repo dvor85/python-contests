{
 "cells": [
  {
   "cell_type": "markdown",
   "id": "3a2bc313",
   "metadata": {},
   "source": [
    "## 2.1 Основные конструкции"
   ]
  },
  {
   "cell_type": "markdown",
   "id": "d30166a5",
   "metadata": {},
   "source": [
    "### 1. Easy"
   ]
  },
  {
   "cell_type": "code",
   "execution_count": 1,
   "id": "9a60ac2d",
   "metadata": {
    "ExecuteTime": {
     "end_time": "2022-07-12T10:27:21.831902Z",
     "start_time": "2022-07-12T10:27:15.513256Z"
    }
   },
   "outputs": [
    {
     "name": "stdout",
     "output_type": "stream",
     "text": [
      "3\n",
      "6\n",
      "9 -3 18 0.5 0 3 7779.795948480911\n"
     ]
    }
   ],
   "source": [
    "a, b = int(input()), int(input())\n",
    "print(a + b, a - b, a * b, a / b, a // b, a % b, (a**10 + b**10)**0.5)"
   ]
  },
  {
   "cell_type": "markdown",
   "id": "c38e9863",
   "metadata": {},
   "source": [
    "### 2. Индекс массы тела\n",
    "Напишите программу для вычисления и оценки индекса массы тела (ИМТ) человека. ИМТ показывает весит человек больше или меньше нормы для своего роста."
   ]
  },
  {
   "cell_type": "code",
   "execution_count": 6,
   "id": "76fb7aa3",
   "metadata": {
    "ExecuteTime": {
     "end_time": "2022-06-22T14:07:36.898681Z",
     "start_time": "2022-06-22T14:07:36.887799Z"
    }
   },
   "outputs": [
    {
     "data": {
      "text/plain": [
       "'Оптимальная масса'"
      ]
     },
     "execution_count": 6,
     "metadata": {},
     "output_type": "execute_result"
    }
   ],
   "source": [
    "def solution(m, l):\n",
    "    imt = m/(l**2)\n",
    "    if 18.5 <= imt <= 25:\n",
    "        return \"Оптимальная масса\"\n",
    "    elif imt < 18.5:\n",
    "        return \"Недостаточная масса\"\n",
    "    else:\n",
    "        return \"Избыточная масса\"\n",
    "\n",
    "\n",
    "solution(75, 1.8)"
   ]
  },
  {
   "cell_type": "markdown",
   "id": "aad0d2b8",
   "metadata": {},
   "source": [
    "### 3. Стоимость строки\n",
    "Дана строка текста. Напишите программу для подсчета стоимости строки, исходя из того, что один любой символ (в том числе пробел) стоит 60 копеек."
   ]
  },
  {
   "cell_type": "code",
   "execution_count": 18,
   "id": "3fb2372e",
   "metadata": {
    "ExecuteTime": {
     "end_time": "2022-06-22T14:24:16.319390Z",
     "start_time": "2022-06-22T14:24:16.313348Z"
    }
   },
   "outputs": [
    {
     "data": {
      "text/plain": [
       "'43 р. 80 коп.'"
      ]
     },
     "execution_count": 18,
     "metadata": {},
     "output_type": "execute_result"
    }
   ],
   "source": [
    "def solution(s):\n",
    "    price = 60*len(s)\n",
    "    return f\"{price // 100} р. {price % 100} коп.\"\n",
    "\n",
    "\n",
    "solution(\"Я собираюсь сделать ему предложение, от которого он не сможет отказаться.\")"
   ]
  },
  {
   "cell_type": "markdown",
   "id": "fd4bc325",
   "metadata": {},
   "source": [
    "### 4. Количество слов\n",
    "Дана строка, состоящая из слов, разделенных пробелами. Напишите программу, которая подсчитывает количество слов в этой строке."
   ]
  },
  {
   "cell_type": "code",
   "execution_count": 1,
   "id": "2bce1caa",
   "metadata": {
    "ExecuteTime": {
     "end_time": "2022-06-23T10:41:20.843967Z",
     "start_time": "2022-06-23T10:41:14.128726Z"
    }
   },
   "outputs": [
    {
     "name": "stdout",
     "output_type": "stream",
     "text": [
      "Hello world\n",
      "2\n"
     ]
    }
   ],
   "source": [
    "print(len(input().split()))"
   ]
  },
  {
   "cell_type": "markdown",
   "id": "9329147a",
   "metadata": {},
   "source": [
    "### 5.Зодиак\n",
    "Китайский гороскоп назначает животным годы в 12-летнем цикле. Один 12-летний цикл показан в таблице ниже. Таким образом, 2012 год будет очередным годом дракона."
   ]
  },
  {
   "cell_type": "code",
   "execution_count": 32,
   "id": "cedfd40d",
   "metadata": {
    "ExecuteTime": {
     "end_time": "2022-06-23T11:05:55.070606Z",
     "start_time": "2022-06-23T11:05:55.063742Z"
    }
   },
   "outputs": [
    {
     "data": {
      "text/plain": [
       "'Петух'"
      ]
     },
     "execution_count": 32,
     "metadata": {},
     "output_type": "execute_result"
    }
   ],
   "source": [
    "def solution(year):\n",
    "    zodiak = [\n",
    "        \"Дракон\", \"Змея\", \"Лошадь\", \"Овца\", \"Обезьяна\", \"Петух\", \"Собака\",\n",
    "        \"Свинья\", \"Крыса\", \"Бык\", \"Тигр\", \"Заяц\"\n",
    "    ]\n",
    "    return zodiak[(year - 2000) % 12]\n",
    "\n",
    "\n",
    "solution(1945)"
   ]
  },
  {
   "cell_type": "markdown",
   "id": "df4176b5",
   "metadata": {
    "ExecuteTime": {
     "end_time": "2022-06-23T10:51:51.370003Z",
     "start_time": "2022-06-23T10:51:51.366362Z"
    }
   },
   "source": [
    "### 6. Переворот числа\n",
    "Дано пятизначное или шестизначное натуральное число. Напишите программу, которая изменит порядок его последних пяти цифр на обратный."
   ]
  },
  {
   "cell_type": "code",
   "execution_count": 64,
   "id": "659bb52d",
   "metadata": {
    "ExecuteTime": {
     "end_time": "2022-06-23T11:21:34.152920Z",
     "start_time": "2022-06-23T11:21:34.148051Z"
    }
   },
   "outputs": [
    {
     "data": {
      "text/plain": [
       "52"
      ]
     },
     "execution_count": 64,
     "metadata": {},
     "output_type": "execute_result"
    }
   ],
   "source": [
    "s = \"25000\"\n",
    "int(s.replace(s[-5:], s[:-6:-1]))"
   ]
  },
  {
   "cell_type": "markdown",
   "id": "a7c4f439",
   "metadata": {},
   "source": [
    "### 7. Standard American Convention\n",
    "На вход программе подаётся натуральное число. Напишите программу, которая вставляет в заданное число запятые в соответствии со стандартным американским соглашением о запятых в больших числах.\n"
   ]
  },
  {
   "cell_type": "code",
   "execution_count": 71,
   "id": "231c861f",
   "metadata": {
    "ExecuteTime": {
     "end_time": "2022-06-23T11:30:00.424437Z",
     "start_time": "2022-06-23T11:29:55.780557Z"
    }
   },
   "outputs": [
    {
     "name": "stdout",
     "output_type": "stream",
     "text": [
      " \t  3724650756252\n",
      "3,724,650,756,252\n"
     ]
    }
   ],
   "source": [
    "print(f\"{int(input()):,}\")"
   ]
  },
  {
   "cell_type": "markdown",
   "id": "1f606d4f",
   "metadata": {},
   "source": [
    "### 8. Задача Иосифа Флавия\n",
    "n человек, пронумерованных числами от 1 до n, стоят в кругу. Они начинают считаться, каждый k-й по счету человек выбывает из круга, после чего счет продолжается со следующего за ним человека. Напишите программу, определяющую номер человека, который останется в кругу последним."
   ]
  },
  {
   "cell_type": "code",
   "execution_count": 91,
   "id": "9069da98",
   "metadata": {
    "ExecuteTime": {
     "end_time": "2022-06-23T12:29:28.611975Z",
     "start_time": "2022-06-23T12:29:28.606515Z"
    }
   },
   "outputs": [
    {
     "data": {
      "text/plain": [
       "2"
      ]
     },
     "execution_count": 91,
     "metadata": {},
     "output_type": "execute_result"
    }
   ],
   "source": [
    "def F(n, k):\n",
    "    return 1 if n == 1 else 1 + (F(n - 1, k) + k - 1) % n\n",
    "\n",
    "\n",
    "F(2, 1)"
   ]
  },
  {
   "cell_type": "markdown",
   "id": "9fd03f15",
   "metadata": {},
   "source": [
    "## 2.2"
   ]
  },
  {
   "cell_type": "markdown",
   "id": "2d0dbf9a",
   "metadata": {},
   "source": [
    "### 1. Координатные четверти\n",
    "Дан набор точек на координатной плоскости. Необходимо подсчитать и вывести количество точек, лежащих в каждой координатной четверти."
   ]
  },
  {
   "cell_type": "code",
   "execution_count": 150,
   "id": "214e6bd0",
   "metadata": {
    "ExecuteTime": {
     "end_time": "2022-06-23T14:18:20.666768Z",
     "start_time": "2022-06-23T14:18:20.659386Z"
    }
   },
   "outputs": [
    {
     "name": "stdout",
     "output_type": "stream",
     "text": [
      "Первая четверть: 1\n",
      "Вторая четверть: 0\n",
      "Третья четверть: 1\n",
      "Четвертая четверть: 0\n"
     ]
    }
   ],
   "source": [
    "import numpy as np\n",
    "\n",
    "def solution(n):\n",
    "    test = '0 -1\\n1 2\\n0 9\\n-9 -5'\n",
    "    coords = np.array([x.split() for x in [_ for _ in test.splitlines()]], dtype=int)\n",
    "    print(\"Первая четверть:\", sum(np.logical_and(coords[:, 0] > 0, coords[:, 1] > 0)))\n",
    "    print(\"Вторая четверть:\", sum(np.logical_and(coords[:, 0] < 0, coords[:, 1] > 0)))\n",
    "    print(\"Третья четверть:\", sum(np.logical_and(coords[:, 0] < 0, coords[:, 1] < 0)))\n",
    "    print(\"Четвертая четверть:\", sum(np.logical_and(coords[:, 0] > 0, coords[:, 1] < 0)))\n",
    "\n",
    "\n",
    "solution(4)"
   ]
  },
  {
   "cell_type": "markdown",
   "id": "d520f69d",
   "metadata": {},
   "source": [
    "### 2. Больше предыдущего\n",
    "Напишите программу подсчета количества чисел, которые больше предшествующего им в этом списке числа, то есть, стоят вслед за меньшим числом. "
   ]
  },
  {
   "cell_type": "code",
   "execution_count": 5,
   "id": "f9bf6414",
   "metadata": {
    "ExecuteTime": {
     "end_time": "2022-06-24T10:25:46.448389Z",
     "start_time": "2022-06-24T10:25:46.442459Z"
    }
   },
   "outputs": [
    {
     "name": "stdout",
     "output_type": "stream",
     "text": [
      "4\n"
     ]
    }
   ],
   "source": [
    "import numpy as np\n",
    "\n",
    "print(sum(np.diff(np.array('1 2 3 4 5'.split(), dtype=int)) > 0))"
   ]
  },
  {
   "cell_type": "markdown",
   "id": "d65d556f",
   "metadata": {},
   "source": [
    "### 3. Назад, вперёд и наоборот\n",
    "На вход программе подается строка текста из натуральных чисел. Из элементов строки формируется список чисел. Напишите программу, которая меняет местами соседние элементы списка"
   ]
  },
  {
   "cell_type": "code",
   "execution_count": 18,
   "id": "673c725d",
   "metadata": {
    "ExecuteTime": {
     "end_time": "2022-06-24T10:36:33.338987Z",
     "start_time": "2022-06-24T10:36:33.331834Z"
    }
   },
   "outputs": [
    {
     "data": {
      "text/plain": [
       "'2 1 4 3 5'"
      ]
     },
     "execution_count": 18,
     "metadata": {},
     "output_type": "execute_result"
    }
   ],
   "source": [
    "import re\n",
    "\n",
    "def solution(ls):\n",
    "    regx = re.compile(r'(\\d+)\\s+(\\d+)')\n",
    "    return regx.sub(lambda m: f\"{m.group(2)} {m.group(1)}\", ls)\n",
    "\n",
    "\n",
    "solution('1 2 3 4 5')"
   ]
  },
  {
   "cell_type": "markdown",
   "id": "d946fd6b",
   "metadata": {},
   "source": [
    "### 4. Сдвиг в развитии\n",
    "Напишите программу циклического сдвига элементов списка направо, когда последний элемент становится первым, а остальные сдвигаются на одну позицию вперед, в сторону увеличения индексов."
   ]
  },
  {
   "cell_type": "code",
   "execution_count": 23,
   "id": "c42b591e",
   "metadata": {
    "ExecuteTime": {
     "end_time": "2022-06-24T10:46:42.457594Z",
     "start_time": "2022-06-24T10:46:42.451345Z"
    }
   },
   "outputs": [
    {
     "name": "stdout",
     "output_type": "stream",
     "text": [
      "13 489 483 43 2 3 84 1 4 3 2 5 4 3\n"
     ]
    }
   ],
   "source": [
    "from collections import deque\n",
    "\n",
    "def solution(ls):\n",
    "    dl = deque(ls.split())\n",
    "    dl.rotate(1)\n",
    "    return dl\n",
    "\n",
    "\n",
    "print(*solution('489 483 43 2 3 84 1 4 3 2 5 4 3 13'))"
   ]
  },
  {
   "cell_type": "markdown",
   "id": "62062c1b",
   "metadata": {},
   "source": [
    "### 5. Различные элементы\n",
    "Напишите программу для подсчета количества разных элементов в списке."
   ]
  },
  {
   "cell_type": "code",
   "execution_count": 26,
   "id": "1d3ebca3",
   "metadata": {
    "ExecuteTime": {
     "end_time": "2022-06-24T10:50:39.304177Z",
     "start_time": "2022-06-24T10:50:39.297897Z"
    }
   },
   "outputs": [
    {
     "data": {
      "text/plain": [
       "1"
      ]
     },
     "execution_count": 26,
     "metadata": {},
     "output_type": "execute_result"
    }
   ],
   "source": [
    "len(set('2 2 5 5 5 5 8 10 10'.split()))"
   ]
  },
  {
   "cell_type": "markdown",
   "id": "13bd551b",
   "metadata": {},
   "source": [
    "### 6. Произведение чисел\n",
    "Напишите программу для определения, является ли число произведением двух чисел из данного набора, выводящую результат в виде ответа «ДА» или «НЕТ»."
   ]
  },
  {
   "cell_type": "code",
   "execution_count": 55,
   "id": "1cc99439",
   "metadata": {
    "ExecuteTime": {
     "end_time": "2022-06-24T11:34:50.590699Z",
     "start_time": "2022-06-24T11:34:50.584056Z"
    }
   },
   "outputs": [
    {
     "data": {
      "text/plain": [
       "'ДА'"
      ]
     },
     "execution_count": 55,
     "metadata": {},
     "output_type": "execute_result"
    }
   ],
   "source": [
    "def solution(n):\n",
    "    test = '89\\n4\\n77\\n4'\n",
    "    prod = 16\n",
    "    nums = [int(x) for x in test.splitlines()]\n",
    "    for i in range(len(nums)):\n",
    "        for j in range(len(nums)):\n",
    "            if i != j and nums[i] * nums[j] == prod:\n",
    "                return \"ДА\"\n",
    "    return \"НЕТ\"\n",
    "\n",
    "\n",
    "solution(5)"
   ]
  },
  {
   "cell_type": "markdown",
   "id": "fec31727",
   "metadata": {},
   "source": [
    "### 7. Камень, ножницы, бумага\n",
    "Программа должна вывести результат жеребьёвки, то есть кто победит"
   ]
  },
  {
   "cell_type": "code",
   "execution_count": 64,
   "id": "112c1daa",
   "metadata": {
    "ExecuteTime": {
     "end_time": "2022-06-24T12:29:24.380800Z",
     "start_time": "2022-06-24T12:29:24.373983Z"
    }
   },
   "outputs": [
    {
     "data": {
      "text/plain": [
       "'Тимур'"
      ]
     },
     "execution_count": 64,
     "metadata": {},
     "output_type": "execute_result"
    }
   ],
   "source": [
    "def solution(timur, ruslan):\n",
    "    elems = {\"камень\": [0, 1, -1], \"ножницы\": [-1, 0, 1], \"бумага\": [1, -1, 0]}\n",
    "    res = elems[timur][list(elems.keys()).index(ruslan)]\n",
    "    return \"Тимур\" if res > 0 else \"Руслан\" if res < 0 else \"ничья\"\n",
    "\n",
    "\n",
    "solution(\"камень\", \"ножницы\")"
   ]
  },
  {
   "cell_type": "code",
   "execution_count": 63,
   "id": "9d2db670",
   "metadata": {
    "ExecuteTime": {
     "end_time": "2022-06-24T12:22:49.549753Z",
     "start_time": "2022-06-24T12:22:49.541516Z"
    }
   },
   "outputs": [
    {
     "data": {
      "text/plain": [
       "'Тимур'"
      ]
     },
     "execution_count": 63,
     "metadata": {},
     "output_type": "execute_result"
    }
   ],
   "source": [
    "def solution(timur, ruslan):\n",
    "    var = ['камень', 'ножницы', 'бумага']\n",
    "    ans = ['ничья', 'Руслан', 'Тимур']\n",
    "    return ans[var.index(timur) - var.index(ruslan)]\n",
    "\n",
    "\n",
    "solution(\"камень\", \"ножницы\")"
   ]
  },
  {
   "cell_type": "markdown",
   "id": "756ddb88",
   "metadata": {},
   "source": [
    "### 8. Камень, ножницы, бумага, ящерица, Спок\n",
    "Правила игры стандартные: ножницы режут бумагу. Бумага заворачивает камень. Камень давит ящерицу, а ящерица травит Спока, в то время как Спок ломает ножницы, которые, в свою очередь, отрезают голову ящерице, которая ест бумагу, на которой улики против Спока. Спок испаряет камень, а камень, разумеется, затупляет ножницы."
   ]
  },
  {
   "cell_type": "code",
   "execution_count": 95,
   "id": "50ca654d",
   "metadata": {
    "ExecuteTime": {
     "end_time": "2022-06-24T13:05:25.808599Z",
     "start_time": "2022-06-24T13:05:25.801446Z"
    }
   },
   "outputs": [
    {
     "data": {
      "text/plain": [
       "'Тимур'"
      ]
     },
     "execution_count": 95,
     "metadata": {},
     "output_type": "execute_result"
    }
   ],
   "source": [
    "def solution(timur, ruslan):\n",
    "    graf = {\n",
    "        'ножницы': ['бумага', 'ящерица'],\n",
    "        'бумага': ['камень', 'Спок'],\n",
    "        'камень': ['ножницы', 'ящерица'],\n",
    "        'ящерица': ['Спок', 'бумага'],\n",
    "        'Спок': ['ножницы', 'камень']\n",
    "    }\n",
    "    return \"Тимур\" if ruslan in graf[timur] else \"Руслан\" if timur in graf[ruslan] else \"ничья\"\n",
    "\n",
    "\n",
    "solution(\"бумага\", \"Спок\")"
   ]
  },
  {
   "cell_type": "code",
   "execution_count": 97,
   "id": "e1c51599",
   "metadata": {
    "ExecuteTime": {
     "end_time": "2022-06-24T13:23:55.316242Z",
     "start_time": "2022-06-24T13:23:55.304100Z"
    }
   },
   "outputs": [
    {
     "data": {
      "text/plain": [
       "'Тимур'"
      ]
     },
     "execution_count": 97,
     "metadata": {},
     "output_type": "execute_result"
    }
   ],
   "source": [
    "# Алекс Глозман\n",
    "def solution(timur, ruslan):\n",
    "    g = ('ножницы', 'бумага', 'камень', 'ящерица', 'Спок')\n",
    "    dist = (g.index(timur) - g.index(ruslan)) % len(g)\n",
    "    return ('ничья', 'Тимур', 'Руслан')[dist and dist % 2 + 1]\n",
    "\n",
    "\n",
    "solution(\"бумага\", \"Спок\")"
   ]
  },
  {
   "cell_type": "markdown",
   "id": "458f71b1",
   "metadata": {},
   "source": [
    "### 9. Орел и решка\n",
    "Дана строка текста, состоящая из букв русского алфавита \"О\" и \"Р\". Буква \"О\" – соответствует выпадению Орла, а буква \"Р\" – соответствует выпадению Решки. Напишите программу, которая подсчитывает наибольшее количество подряд выпавших Решек."
   ]
  },
  {
   "cell_type": "code",
   "execution_count": 114,
   "id": "fd5086cd",
   "metadata": {
    "ExecuteTime": {
     "end_time": "2022-06-24T13:46:30.915705Z",
     "start_time": "2022-06-24T13:46:30.910340Z"
    }
   },
   "outputs": [
    {
     "data": {
      "text/plain": [
       "7"
      ]
     },
     "execution_count": 114,
     "metadata": {},
     "output_type": "execute_result"
    }
   ],
   "source": [
    "len(max('ООООООРРРОРОРРРРРРР'.split('О')))"
   ]
  },
  {
   "cell_type": "markdown",
   "id": "85c249a2",
   "metadata": {},
   "source": [
    "### 10. Кремниевая долина\n",
    "Искусственный интеллект Антон, созданный Гилфойлом, взломал сеть умных холодильников. Теперь он использует их в качестве серверов \"Пегого дудочника\". Помогите владельцу фирмы отыскать все зараженные холодильники.\n",
    "\n",
    "Для каждого холодильника существует строка с данными, состоящая из строчных букв и цифр, и если в ней присутствует слово \"anton\" (необязательно рядом стоящие буквы, главное наличие последовательности букв), то холодильник заражен и нужно вывести номер холодильника, нумерация начинается с единицы"
   ]
  },
  {
   "cell_type": "code",
   "execution_count": 12,
   "id": "2203d77e",
   "metadata": {
    "ExecuteTime": {
     "end_time": "2022-06-27T10:58:27.569810Z",
     "start_time": "2022-06-27T10:58:27.563883Z"
    }
   },
   "outputs": [
    {
     "data": {
      "text/plain": [
       "[1, 2, 3]"
      ]
     },
     "execution_count": 12,
     "metadata": {},
     "output_type": "execute_result"
    }
   ],
   "source": [
    "import re\n",
    "\n",
    "\n",
    "def solution(n):\n",
    "    test = [\n",
    "        '222anton456', 'a1n1t1o1n1', '0000a0000n00t00000o000000n', 'gylfole',\n",
    "        'richard', 'ant0n'\n",
    "    ]\n",
    "    rex = re.compile(r'a.*?n.*?t.*?o.*?n')\n",
    "    fr = [i + 1 for i, s in enumerate(test) if rex.search(s) is not None]\n",
    "    return fr\n",
    "\n",
    "\n",
    "solution(9)"
   ]
  },
  {
   "cell_type": "code",
   "execution_count": 19,
   "id": "b860733d",
   "metadata": {
    "ExecuteTime": {
     "end_time": "2022-06-27T11:09:22.691959Z",
     "start_time": "2022-06-27T11:08:56.302272Z"
    }
   },
   "outputs": [
    {
     "name": "stdout",
     "output_type": "stream",
     "text": [
      "6\n",
      "222anton456\n",
      "a1n1t1o1n1\n",
      "0000a0000n00t00000o000000n\n",
      "gylfole\n",
      "richard\n",
      "ant0n\n",
      "1 2 3\n"
     ]
    }
   ],
   "source": [
    "import re\n",
    "\n",
    "print(*[\n",
    "    i + 1 for i, s in enumerate([input() for _ in range(int(input()))])\n",
    "    if re.search(r'a.*?n.*?t.*?o.*?n', s) is not None\n",
    "])"
   ]
  },
  {
   "cell_type": "markdown",
   "id": "081fe8a2",
   "metadata": {},
   "source": [
    "### 11. Роскомнадзор запретил букву а\n",
    "Необходимо написать программу, реализующую алгоритм написания [этой](https://www.youtube.com/watch?v=sAuMERnj-FU) песни. Алгоритм выводит в конце предложения следующую в алфавитном порядке букву, если она встречается в строке текста, а очередную строку отображает уже без этой буквы."
   ]
  },
  {
   "cell_type": "code",
   "execution_count": 41,
   "id": "b6ccd9f6",
   "metadata": {
    "ExecuteTime": {
     "end_time": "2022-06-27T12:06:26.854465Z",
     "start_time": "2022-06-27T12:06:26.849484Z"
    }
   },
   "outputs": [
    {
     "name": "stdout",
     "output_type": "stream",
     "text": [
      "тимур запретил букву а\n",
      "тимур зпретил букву б\n",
      "тимур зпретил укву в\n",
      "тимур зпретил уку е\n",
      "тимур зпртил уку з\n",
      "тимур пртил уку и\n",
      "тмур пртл уку к\n",
      "тмур пртл уу л\n",
      "тмур прт уу м\n",
      "тур прт уу п\n",
      "тур рт уу р\n",
      "ту т уу т\n",
      "у уу у\n"
     ]
    }
   ],
   "source": [
    "def solution(s):\n",
    "    s = f\"{s} запретил букву\"\n",
    "    for i in range(1072, 1104):\n",
    "        if chr(i) in s:\n",
    "            print(*s.split(), chr(i))\n",
    "            s = s.replace(chr(i), '').strip()\n",
    "\n",
    "\n",
    "solution('тимур')"
   ]
  },
  {
   "cell_type": "markdown",
   "id": "c4176fde",
   "metadata": {},
   "source": [
    "## 4.2 Вложенные списки\n",
    "Дополните приведенный код так, чтобы он выводил единственное число: сумму всех чисел списка list1 разделённую на общее количество всех чисел."
   ]
  },
  {
   "cell_type": "code",
   "execution_count": 89,
   "id": "5a3766d0",
   "metadata": {
    "ExecuteTime": {
     "end_time": "2022-06-27T14:25:20.089229Z",
     "start_time": "2022-06-27T14:25:20.083625Z"
    }
   },
   "outputs": [
    {
     "data": {
      "text/plain": [
       "53.3125"
      ]
     },
     "execution_count": 89,
     "metadata": {},
     "output_type": "execute_result"
    }
   ],
   "source": [
    "def solution():\n",
    "    list1 = [[1, 7, 8], [9, 7, 102], [102, 106, 105], [100, 99, 98, 103], [1, 2, 3]]\n",
    "    total = sum(list1, [])\n",
    "    return sum(total) / len(total)\n",
    "\n",
    "\n",
    "solution()"
   ]
  },
  {
   "cell_type": "markdown",
   "id": "fc86fd14",
   "metadata": {},
   "source": [
    "### Треугольник Паскаля\n",
    "Треугольник Паскаля — бесконечная таблица биномиальных коэффициентов, имеющая треугольную форму. В этом треугольнике на вершине и по бокам стоят единицы. Каждое число равно сумме двух расположенных над ним чисел."
   ]
  },
  {
   "cell_type": "code",
   "execution_count": 87,
   "id": "9c1ae52f",
   "metadata": {
    "ExecuteTime": {
     "end_time": "2022-06-28T12:49:51.728856Z",
     "start_time": "2022-06-28T12:49:51.723348Z"
    }
   },
   "outputs": [
    {
     "name": "stdout",
     "output_type": "stream",
     "text": [
      "1\n",
      "1 1\n",
      "1 2 1\n",
      "1 3 3 1\n",
      "1 4 6 4 1\n",
      "1 5 10 10 5 1\n"
     ]
    }
   ],
   "source": [
    "def pascal(n):\n",
    "    res = []\n",
    "    for i in range(n+1):\n",
    "        res.append([1])\n",
    "        for j in range(i):\n",
    "            res[i].append(sum(res[i-1][j:j+2]))\n",
    "    return res[:n]\n",
    "\n",
    "\n",
    "[print(*li) for li in pascal(6)];"
   ]
  },
  {
   "cell_type": "markdown",
   "id": "f036b8d9",
   "metadata": {},
   "source": [
    "### Упаковка дубликатов\n",
    "На вход программе подается строка текста, содержащая символы. Напишите программу, которая упаковывает последовательности одинаковых символов заданной строки в подсписки."
   ]
  },
  {
   "cell_type": "code",
   "execution_count": 102,
   "id": "a800be41",
   "metadata": {
    "ExecuteTime": {
     "end_time": "2022-06-28T13:23:14.674877Z",
     "start_time": "2022-06-28T13:23:14.668216Z"
    }
   },
   "outputs": [
    {
     "data": {
      "text/plain": [
       "[['w', 'w', 'w'],\n",
       " ['o'],\n",
       " ['r'],\n",
       " ['l'],\n",
       " ['d'],\n",
       " ['g', 'g', 'g', 'g'],\n",
       " ['r'],\n",
       " ['e'],\n",
       " ['a'],\n",
       " ['t', 't'],\n",
       " ['e'],\n",
       " ['c', 'c'],\n",
       " ['h'],\n",
       " ['e'],\n",
       " ['m'],\n",
       " ['g', 'g'],\n",
       " ['p'],\n",
       " ['w', 'w']]"
      ]
     },
     "execution_count": 102,
     "metadata": {},
     "output_type": "execute_result"
    }
   ],
   "source": [
    "def solution(s):\n",
    "    res = []\n",
    "    for x in s.split():\n",
    "        if res and x in res[-1]:\n",
    "            res[-1].append(x)\n",
    "        else:\n",
    "            res.append([x])\n",
    "    return res\n",
    "\n",
    "\n",
    "solution('w w w o r l d g g g g r e a t t e c c h e m g g p w w')"
   ]
  },
  {
   "cell_type": "markdown",
   "id": "7b40a237",
   "metadata": {},
   "source": [
    "### Разбиение на чанки\n",
    "Реализуйте функцию chunked(), которая принимает на вход список и число, задающее размер чанка (куска), а возвращает список из чанков указанной длины."
   ]
  },
  {
   "cell_type": "code",
   "execution_count": 132,
   "id": "d3c445fa",
   "metadata": {
    "ExecuteTime": {
     "end_time": "2022-06-28T14:09:39.735844Z",
     "start_time": "2022-06-28T14:09:39.728360Z"
    }
   },
   "outputs": [
    {
     "data": {
      "text/plain": [
       "[['a', 'b'], ['c', 'd'], ['e', 'f'], ['r', 'g'], ['b']]"
      ]
     },
     "execution_count": 132,
     "metadata": {},
     "output_type": "execute_result"
    }
   ],
   "source": [
    "def chunked(ls, size):\n",
    "    ls = ls.split()\n",
    "    return [ls[i:i+size] for i in range(0, len(ls), size)]\n",
    "\n",
    "\n",
    "chunked('a b c d e f r g b ', 2)"
   ]
  },
  {
   "cell_type": "markdown",
   "id": "5b24203e",
   "metadata": {},
   "source": [
    "### Подсписки списка\n",
    "Подсписок может содержать один элемент, несколько, и даже ни одного. Например, [1], [2], [3] и [4] — подсписки списка [1, 2, 3, 4]. Список [2, 3] — подсписок списка [1, 2, 3, 4], но список [2, 4] не подсписок списка [1, 2, 3, 4], так как элементы 2 и 4 во втором списке не смежные. Пустой список — подсписок любого списка. Сам список — подсписок самого себя, то есть список [1, 2, 3, 4] подсписок списка [1, 2, 3, 4]."
   ]
  },
  {
   "cell_type": "code",
   "execution_count": 20,
   "id": "f8a0206f",
   "metadata": {
    "ExecuteTime": {
     "end_time": "2022-06-29T10:38:17.967604Z",
     "start_time": "2022-06-29T10:38:17.957368Z"
    }
   },
   "outputs": [
    {
     "data": {
      "text/plain": [
       "[[],\n",
       " ['1'],\n",
       " ['2'],\n",
       " ['3'],\n",
       " ['1'],\n",
       " ['1', '2'],\n",
       " ['2', '3'],\n",
       " ['3', '1'],\n",
       " ['1', '2', '3'],\n",
       " ['2', '3', '1'],\n",
       " ['1', '2', '3', '1']]"
      ]
     },
     "execution_count": 20,
     "metadata": {},
     "output_type": "execute_result"
    }
   ],
   "source": [
    "def chunked(ls, size):\n",
    "    return [ls[i:i+size] for i in range(len(ls))]\n",
    "\n",
    "def sublists(ls):\n",
    "    ls = ls.split()\n",
    "    res = [[]]\n",
    "    for i in range(len(ls)):\n",
    "        for ch in chunked(ls, i+1):\n",
    "            if len(ch) == i+1:\n",
    "                res.append(ch)\n",
    "    return res\n",
    "\n",
    "\n",
    "sublists('1 2 3 1')"
   ]
  },
  {
   "cell_type": "markdown",
   "id": "47fbb0c9",
   "metadata": {},
   "source": [
    "## 4.4 Матрицы"
   ]
  },
  {
   "cell_type": "markdown",
   "id": "f0d70595",
   "metadata": {},
   "source": [
    "### Вывести матрицу"
   ]
  },
  {
   "cell_type": "code",
   "execution_count": 11,
   "id": "1cfb439e",
   "metadata": {
    "ExecuteTime": {
     "end_time": "2022-06-29T11:32:12.830189Z",
     "start_time": "2022-06-29T11:32:12.825683Z"
    }
   },
   "outputs": [
    {
     "name": "stdout",
     "output_type": "stream",
     "text": [
      "и швец\n",
      "и жнец\n",
      "и на\n",
      "дуде игрец\n"
     ]
    }
   ],
   "source": [
    "def sol(n, m):\n",
    "    li = ['и', 'швец', 'и', 'жнец', 'и', 'на', 'дуде', 'игрец']\n",
    "#     li = [input() for _ in range(n*m)]\n",
    "    [print(*li[i:i+m]) for i in range(0, n*m, m)]\n",
    "\n",
    "\n",
    "sol(4, 2)"
   ]
  },
  {
   "cell_type": "code",
   "execution_count": 27,
   "id": "5ba228c3",
   "metadata": {
    "ExecuteTime": {
     "end_time": "2022-06-29T11:44:56.126304Z",
     "start_time": "2022-06-29T11:44:56.120192Z"
    }
   },
   "outputs": [
    {
     "name": "stdout",
     "output_type": "stream",
     "text": [
      "и швец\n",
      "и жнец\n",
      "и на\n",
      "дуде игрец\n",
      "\n",
      "и и и дуде\n",
      "швец жнец на игрец\n"
     ]
    }
   ],
   "source": [
    "import numpy as np\n",
    "def sol(n, m):\n",
    "    mat = np.array(['и', 'швец', 'и', 'жнец', 'и', 'на', 'дуде', 'игрец']).reshape((n, m))\n",
    "    [print(*r) for r in mat]\n",
    "    print()\n",
    "    [print(*r) for r in np.transpose(mat)]\n",
    "\n",
    "\n",
    "sol(4, 2)"
   ]
  },
  {
   "cell_type": "markdown",
   "id": "282791c7",
   "metadata": {},
   "source": [
    "### След матрицы\n",
    "Следом квадратной матрицы называется сумма элементов главной диагонали. Напишите программу, которая выводит след заданной квадратной матрицы."
   ]
  },
  {
   "cell_type": "code",
   "execution_count": 57,
   "id": "3e3d8e6c",
   "metadata": {
    "ExecuteTime": {
     "end_time": "2022-06-29T12:19:15.838746Z",
     "start_time": "2022-06-29T12:19:15.830476Z"
    }
   },
   "outputs": [
    {
     "data": {
      "text/plain": [
       "15"
      ]
     },
     "execution_count": 57,
     "metadata": {},
     "output_type": "execute_result"
    }
   ],
   "source": [
    "def sol(n):\n",
    "    #     mat = list(map(int, [input().split() for _ in range(n)]))\n",
    "    mat = list(map(lambda x: x.split(), ['1 2 3', '4 5 6', '7 8 9']))\n",
    "    return sum(map(int, [mat[i][i] for i in range(n)]))\n",
    "\n",
    "\n",
    "sol(3)"
   ]
  },
  {
   "cell_type": "markdown",
   "id": "72d83ad8",
   "metadata": {},
   "source": [
    "### Больше среднего\n",
    "Напишите программу, которая выводит количество элементов квадратной матрицы в каждой строке, больших среднего арифметического элементов данной строки."
   ]
  },
  {
   "cell_type": "code",
   "execution_count": 33,
   "id": "67c2cd1e",
   "metadata": {
    "ExecuteTime": {
     "end_time": "2022-06-29T12:34:45.366282Z",
     "start_time": "2022-06-29T12:34:45.356545Z"
    }
   },
   "outputs": [
    {
     "name": "stdout",
     "output_type": "stream",
     "text": [
      "[[ 1  2  3  4]\n",
      " [ 5  6  3 15]\n",
      " [ 0  2  3  1]\n",
      " [ 5  2  8  5]]\n",
      "[2.5  7.25 1.5  5.  ]\n"
     ]
    },
    {
     "data": {
      "text/plain": [
       "array([2, 1, 2, 1])"
      ]
     },
     "execution_count": 33,
     "metadata": {},
     "output_type": "execute_result"
    }
   ],
   "source": [
    "import numpy as np\n",
    "def sol(n):    \n",
    "#     mat = list(map(int, [input().split() for _ in range(n)]))\n",
    "    mat = np.array(list(map(lambda x: x.split(), ['1 2 3 4','5 6 3 15','0 2 3 1', '5 2 8 5'])), dtype=int)\n",
    "    print(mat)\n",
    "    print(mat.mean(axis=1))\n",
    "    return sum((np.transpose(mat)>mat.mean(axis=1)))\n",
    "\n",
    "sol(3)"
   ]
  },
  {
   "cell_type": "code",
   "execution_count": 107,
   "id": "d4ac9e3a",
   "metadata": {
    "ExecuteTime": {
     "end_time": "2022-06-29T13:12:45.086898Z",
     "start_time": "2022-06-29T13:12:45.082304Z"
    }
   },
   "outputs": [
    {
     "name": "stdout",
     "output_type": "stream",
     "text": [
      "2\n",
      "1\n",
      "2\n",
      "1\n"
     ]
    }
   ],
   "source": [
    "def sol(n):\n",
    "    #     mat = list(map(int, [input().split() for _ in range(n)]))\n",
    "    mat = list(map(lambda x: list(map(int, x.split())), ['1 2 3 4', '5 6 3 15', '0 2 3 1', '5 2 8 5']))\n",
    "#     mat = [list(map(int, input().split())) for _ in range(n)]\n",
    "    [print(sum([e > sum(r)/len(r) for e in r])) for r in mat]\n",
    "\n",
    "\n",
    "sol(4)"
   ]
  },
  {
   "cell_type": "markdown",
   "id": "f84a3e1f",
   "metadata": {},
   "source": [
    "### Максимальный в области\n"
   ]
  },
  {
   "cell_type": "code",
   "execution_count": 115,
   "id": "fb107df0",
   "metadata": {
    "ExecuteTime": {
     "end_time": "2022-06-29T13:22:38.999871Z",
     "start_time": "2022-06-29T13:22:38.991704Z"
    }
   },
   "outputs": [
    {
     "data": {
      "text/plain": [
       "7"
      ]
     },
     "execution_count": 115,
     "metadata": {},
     "output_type": "execute_result"
    }
   ],
   "source": [
    "def sol(n):\n",
    "    mat = list(map(lambda x: list(map(int, x.split())), ['1 4 5', '6 7 8', '1 1 6']))\n",
    "    #     mat = [list(map(int, input().split())) for _ in range(n)]\n",
    "    res = mat[0][0]\n",
    "    for i in range(n):\n",
    "        res = max(res, max(mat[i][:i+1]))\n",
    "    return res\n",
    "\n",
    "\n",
    "sol(3)"
   ]
  },
  {
   "cell_type": "code",
   "execution_count": 134,
   "id": "5d2023ce",
   "metadata": {
    "ExecuteTime": {
     "end_time": "2022-06-29T13:50:51.971017Z",
     "start_time": "2022-06-29T13:50:51.964583Z"
    }
   },
   "outputs": [
    {
     "data": {
      "text/plain": [
       "8"
      ]
     },
     "execution_count": 134,
     "metadata": {},
     "output_type": "execute_result"
    }
   ],
   "source": [
    "def sol(n):\n",
    "    mat = list(map(lambda x: list(map(int, x.split())), ['1 4 5', '6 7 8', '1 1 6']))\n",
    "    #     mat = [list(map(int, input().split())) for _ in range(n)]\n",
    "    return max([mat[i][j] for j in range(n) for i in range(n) if n-j-1 >= i >= j or j >= i >= n-j-1])\n",
    "\n",
    "\n",
    "sol(3)"
   ]
  },
  {
   "cell_type": "markdown",
   "id": "391f434e",
   "metadata": {},
   "source": [
    "### Суммы четвертей\n",
    "Квадратная матрица разбивается на четыре четверти, ограниченные главной и побочной диагоналями: верхнюю, нижнюю, левую и правую.\n",
    "**Примечание.** Элементы диагоналей не учитываются."
   ]
  },
  {
   "cell_type": "code",
   "execution_count": 149,
   "id": "8bbd88c6",
   "metadata": {
    "ExecuteTime": {
     "end_time": "2022-06-29T14:12:25.426886Z",
     "start_time": "2022-06-29T14:12:25.416324Z"
    }
   },
   "outputs": [
    {
     "name": "stdout",
     "output_type": "stream",
     "text": [
      "Верхняя четверть: 5\n",
      "Правая четверть: 14\n",
      "Нижняя четверть: 5\n",
      "Левая четверть: 8\n"
     ]
    }
   ],
   "source": [
    "def sol(n):\n",
    "    mat = list(map(lambda x: list(map(int, x.split())), ['1 2 3 4', '5 6 7 8', '3 4 5 6', '1 2 3 4']))\n",
    "    #     mat = [list(map(int, input().split())) for _ in range(n)]\n",
    "    res = [0, 0, 0, 0]\n",
    "    keys = ['Верхняя четверть:', 'Правая четверть:', 'Нижняя четверть:', 'Левая четверть:']\n",
    "    for i in range(n):\n",
    "        for j in range(n):\n",
    "            if n-j-1 > i > j:\n",
    "                res[3] += mat[i][j]\n",
    "            if j > i > n-j-1:\n",
    "                res[1] += mat[i][j]\n",
    "            if n-j-1 > i < j:\n",
    "                res[0] += mat[i][j]\n",
    "            if n-j-1 < i > j:\n",
    "                res[2] += mat[i][j]\n",
    "\n",
    "    return dict(zip(keys, res))\n",
    "\n",
    "\n",
    "[print(k, v) for k, v in sol(4).items()];"
   ]
  },
  {
   "cell_type": "markdown",
   "id": "f3e73c06",
   "metadata": {},
   "source": [
    "### Таблица умножения\n",
    "На вход программе подаются два натуральных числа n и m — количество строк и столбцов в матрице. Создайте матрицу mult размером n×m и заполните её таблицей умножения по формуле mult[i][j] = i * j"
   ]
  },
  {
   "cell_type": "code",
   "execution_count": 15,
   "id": "5f5428b9",
   "metadata": {
    "ExecuteTime": {
     "end_time": "2022-06-30T10:41:55.518611Z",
     "start_time": "2022-06-30T10:41:55.511735Z"
    }
   },
   "outputs": [
    {
     "name": "stdout",
     "output_type": "stream",
     "text": [
      "0   0   0   0   0   0  \n",
      "0   1   2   3   4   5  \n",
      "0   2   4   6   8   10 \n",
      "0   3   6   9   12  15 \n"
     ]
    }
   ],
   "source": [
    "def mult(n, m):\n",
    "    [print(*[str(i*j).ljust(3) for j in range(m)]) for i in range(n)]\n",
    "\n",
    "\n",
    "mult(4, 6)"
   ]
  },
  {
   "cell_type": "markdown",
   "id": "4f390517",
   "metadata": {},
   "source": [
    "### Максимум в таблице\n",
    "Напишите программу, которая находит индексы (строку и столбец) первого вхождения максимального элемента."
   ]
  },
  {
   "cell_type": "code",
   "execution_count": 27,
   "id": "e05b70d4",
   "metadata": {
    "ExecuteTime": {
     "end_time": "2022-06-30T10:54:40.324662Z",
     "start_time": "2022-06-30T10:54:40.319864Z"
    }
   },
   "outputs": [
    {
     "name": "stdout",
     "output_type": "stream",
     "text": [
      "1 2\n"
     ]
    }
   ],
   "source": [
    "import numpy as np\n",
    "def sol(n, m):\n",
    "    mat = np.array(list(map(lambda x: x.split(), ['0 3 2 4', '2 3 5 5', '5 1 2 3'])), dtype=int)\n",
    "    return np.unravel_index(np.argmax(mat), shape=mat.shape)\n",
    "\n",
    "\n",
    "print(*sol(3, 4))"
   ]
  },
  {
   "cell_type": "markdown",
   "id": "5a00f452",
   "metadata": {},
   "source": [
    "### Обмен столбцов\n",
    "Напишите программу, которая меняет местами столбцы в матрице."
   ]
  },
  {
   "cell_type": "code",
   "execution_count": 34,
   "id": "d8491437",
   "metadata": {
    "ExecuteTime": {
     "end_time": "2022-06-30T11:11:08.523269Z",
     "start_time": "2022-06-30T11:11:08.517714Z"
    }
   },
   "outputs": [
    {
     "name": "stdout",
     "output_type": "stream",
     "text": [
      "[[12 11 13 14]\n",
      " [22 21 23 24]\n",
      " [32 31 33 34]]\n"
     ]
    }
   ],
   "source": [
    "import numpy as np\n",
    "def sol(n, m):\n",
    "    mat = np.array(list(map(lambda x: x.split(), ['11 12 13 14', '21 22 23 24', '31 32 33 34'])), dtype=int)\n",
    "#     mat = np.array([input().split() for _ in range(n)], dtype=int)\n",
    "    i, j = 0, 1\n",
    "    mat[:, i], mat[:, j] = mat[:, j].copy(), mat[:, i].copy()\n",
    "    return mat\n",
    "\n",
    "\n",
    "print(sol(3, 4))"
   ]
  },
  {
   "cell_type": "markdown",
   "id": "ff9a420d",
   "metadata": {},
   "source": [
    "### Симметричная матрица\n",
    "Напишите программу, которая проверяет симметричность квадратной матрицы относительно главной диагонали."
   ]
  },
  {
   "cell_type": "code",
   "execution_count": 49,
   "id": "590618f2",
   "metadata": {
    "ExecuteTime": {
     "end_time": "2022-06-30T11:36:53.028433Z",
     "start_time": "2022-06-30T11:36:53.018035Z"
    }
   },
   "outputs": [
    {
     "data": {
      "text/plain": [
       "'NO'"
      ]
     },
     "execution_count": 49,
     "metadata": {},
     "output_type": "execute_result"
    }
   ],
   "source": [
    "def sol(n):\n",
    "    mat = list(map(lambda x: list(map(int, x.split())), ['0 1 2', '1 2 7', '2 3 4']))\n",
    "    #     mat = [list(map(int, input().split())) for _ in range(n)]\n",
    "    return 'YES' if all([mat[i][j] == mat[j][i] for j in range(len(mat)) for i in range(j)]) else 'NO'\n",
    "\n",
    "\n",
    "sol(3)"
   ]
  },
  {
   "cell_type": "markdown",
   "id": "5d9ac878",
   "metadata": {},
   "source": [
    "### Обмен диагоналей\n",
    "Дана квадратная матрица чисел. Напишите программу, которая меняет местами элементы, стоящие на главной и побочной диагонали, при этом каждый элемент должен остаться в том же столбце (то есть в каждом столбце нужно поменять местами элемент на главной диагонали и на побочной диагонали)."
   ]
  },
  {
   "cell_type": "code",
   "execution_count": 59,
   "id": "a7fa29e3",
   "metadata": {
    "ExecuteTime": {
     "end_time": "2022-06-30T11:56:48.116186Z",
     "start_time": "2022-06-30T11:56:48.108820Z"
    }
   },
   "outputs": [
    {
     "name": "stdout",
     "output_type": "stream",
     "text": [
      "7 2 9\n",
      "4 5 6\n",
      "1 8 3\n"
     ]
    }
   ],
   "source": [
    "def sol(n):\n",
    "    mat = list(map(lambda x: list(map(int, x.split())), ['1 2 3', '4 5 6', '7 8 9']))\n",
    "    #     mat = [list(map(int, input().split())) for _ in range(n)]\n",
    "    for i in range(n):\n",
    "        mat[i][i], mat[n-i-1][i] = mat[n-i-1][i], mat[i][i]\n",
    "\n",
    "    return mat\n",
    "\n",
    "\n",
    "[print(*_) for _ in sol(3)];"
   ]
  },
  {
   "cell_type": "markdown",
   "id": "a4f0d4ec",
   "metadata": {},
   "source": [
    "### Зеркальное отображение\n",
    "Напишите программу, которая зеркально отображает её элементы относительно горизонтальной оси симметрии."
   ]
  },
  {
   "cell_type": "code",
   "execution_count": 62,
   "id": "cfe06d9e",
   "metadata": {
    "ExecuteTime": {
     "end_time": "2022-06-30T12:07:28.115108Z",
     "start_time": "2022-06-30T12:07:28.110212Z"
    }
   },
   "outputs": [
    {
     "name": "stdout",
     "output_type": "stream",
     "text": [
      "7 8 9\n",
      "4 5 6\n",
      "1 2 3\n"
     ]
    }
   ],
   "source": [
    "def sol(n):\n",
    "    mat = list(map(lambda x: list(map(int, x.split())), ['1 2 3', '4 5 6', '7 8 9']))\n",
    "    #     mat = [list(map(int, input().split())) for _ in range(n)]\n",
    "    mat.reverse()\n",
    "    return mat\n",
    "\n",
    "\n",
    "[print(*_) for _ in sol(3)];"
   ]
  },
  {
   "cell_type": "markdown",
   "id": "d0f8d8fc",
   "metadata": {},
   "source": [
    "### Поворот матрицы\n",
    "Напишите программу, которая поворачивает квадратную матрицу чисел на 90 по часовой стрелке."
   ]
  },
  {
   "cell_type": "code",
   "execution_count": 112,
   "id": "4cd3ae08",
   "metadata": {
    "ExecuteTime": {
     "end_time": "2022-06-30T14:05:34.460675Z",
     "start_time": "2022-06-30T14:05:34.455666Z"
    }
   },
   "outputs": [
    {
     "name": "stdout",
     "output_type": "stream",
     "text": [
      "7 4 1\n",
      "8 5 2\n",
      "9 6 3\n"
     ]
    }
   ],
   "source": [
    "import numpy as np\n",
    "def sol(n):\n",
    "    mat = np.array(list(map(lambda x: x.split(), ['1 2 3', '4 5 6', '7 8 9'])), dtype=int)\n",
    "    #     mat = [list(map(int, input().split())) for _ in range(n)]\n",
    "    return np.rot90(mat, k=3)\n",
    "\n",
    "\n",
    "[print(*_) for _ in sol(3)];"
   ]
  },
  {
   "cell_type": "code",
   "execution_count": 1,
   "id": "639e714e",
   "metadata": {
    "ExecuteTime": {
     "end_time": "2022-06-30T14:18:45.449322Z",
     "start_time": "2022-06-30T14:18:45.441281Z"
    }
   },
   "outputs": [
    {
     "name": "stdout",
     "output_type": "stream",
     "text": [
      "7 4 1\n",
      "8 5 2\n",
      "9 6 3\n"
     ]
    }
   ],
   "source": [
    "def sol(n):\n",
    "    mat = list(map(lambda x: list(map(int, x.split())), ['1 2 3', '4 5 6', '7 8 9']))\n",
    "    #     mat = [list(map(int, input().split())) for _ in range(n)]\n",
    "    return [[mat[n-j-1][i] for j in range(n)] for i in range(n)]\n",
    "\n",
    "\n",
    "[print(*_) for _ in sol(3)];"
   ]
  },
  {
   "cell_type": "markdown",
   "id": "21a71cd1",
   "metadata": {},
   "source": [
    "### Ходы коня\n",
    "Напишите программу, которая отмечает положение коня на доске и все клетки, которые бьет конь. Клетку, где стоит конь, отметьте английской буквой N, клетки, которые бьет конь, отметьте символами *, остальные клетки заполните точками."
   ]
  },
  {
   "cell_type": "code",
   "execution_count": 464,
   "id": "85765c4f",
   "metadata": {
    "ExecuteTime": {
     "end_time": "2022-07-11T14:55:25.858820Z",
     "start_time": "2022-07-11T14:55:25.845819Z"
    }
   },
   "outputs": [
    {
     "name": "stdout",
     "output_type": "stream",
     "text": [
      ". . . . . . . .\n",
      ". . . . . . . .\n",
      ". . . . . . . .\n",
      ". . . . * . * .\n",
      ". . . * . . . *\n",
      ". . . . . N . .\n",
      ". . . * . . . *\n",
      ". . . . * . * .\n"
     ]
    }
   ],
   "source": [
    "import math\n",
    "def sol(ch):\n",
    "    j, i = 'abcdefgh'.index(ch[0]), 8-int(ch[1])\n",
    "    chess = [['.' for _ in range(8)] for _ in range(8)]\n",
    "    chess[i][j] = 'N'\n",
    "    for f in range(12):\n",
    "        x, y = round(math.sqrt(5)*math.cos(f*math.pi/6)), round(math.sqrt(5)*math.sin(f*math.pi/6))\n",
    "        if x and y and x+i in range(8) and y+j in range(8):\n",
    "            chess[x+i][y+j] = '*'\n",
    "\n",
    "    return chess\n",
    "\n",
    "\n",
    "[print(*_) for _ in sol('f3')];"
   ]
  },
  {
   "cell_type": "code",
   "execution_count": 463,
   "id": "dca916ef",
   "metadata": {
    "ExecuteTime": {
     "end_time": "2022-07-11T14:55:17.438099Z",
     "start_time": "2022-07-11T14:55:17.429076Z"
    }
   },
   "outputs": [
    {
     "name": "stdout",
     "output_type": "stream",
     "text": [
      ". . . . . . . .\n",
      ". . . . . . . .\n",
      ". . . . . . . .\n",
      ". . . . * . * .\n",
      ". . . * . . . *\n",
      ". . . . . N . .\n",
      ". . . * . . . *\n",
      ". . . . * . * .\n"
     ]
    }
   ],
   "source": [
    "def sol(ch):\n",
    "    j, i = 'abcdefgh'.index(ch[0]), 8-int(ch[1])\n",
    "    chess = [['.*'[abs((x - j) * (y - i)) == 2] for y in range(8)] for x in range(8)]\n",
    "    chess[i][j] = 'N'\n",
    "\n",
    "    return chess\n",
    "\n",
    "\n",
    "[print(*_) for _ in sol('f3')];"
   ]
  },
  {
   "cell_type": "markdown",
   "id": "b298d353",
   "metadata": {},
   "source": [
    "### Магический квадрат\n",
    "Магическим квадратом порядка n называется квадратная таблица размера n×n, составленная из всех чисел 1,2,3,…,n^2 так, что суммы по каждому столбцу, каждой строке и каждой из двух диагоналей равны между собой. Напишите программу, которая проверяет, является ли заданная квадратная матрица магическим квадратом."
   ]
  },
  {
   "cell_type": "code",
   "execution_count": 81,
   "id": "84cd12f8",
   "metadata": {
    "ExecuteTime": {
     "end_time": "2022-07-01T13:38:58.241216Z",
     "start_time": "2022-07-01T13:38:58.233901Z"
    }
   },
   "outputs": [
    {
     "data": {
      "text/plain": [
       "'YES'"
      ]
     },
     "execution_count": 81,
     "metadata": {},
     "output_type": "execute_result"
    }
   ],
   "source": [
    "import numpy as np\n",
    "\n",
    "\n",
    "def sol(n):\n",
    "    mat = np.array(\n",
    "        list(map(lambda x: list(map(int, x.split())), ['8 1 6', '3 5 7', '4 9 2']))\n",
    "    )\n",
    "    #     mat = [list(map(int, input().split())) for _ in range(n)]\n",
    "    return 'YES' if np.unique(\n",
    "        np.concatenate(\n",
    "            (mat.sum(axis=0), mat.sum(axis=1),\n",
    "             np.array(\n",
    "                 (mat.diagonal().sum(),\n",
    "                  np.rot90(mat, k=1).diagonal().sum()))))).size == 1 else 'NO'\n",
    "\n",
    "\n",
    "sol(3)"
   ]
  },
  {
   "cell_type": "code",
   "execution_count": 123,
   "id": "cbfb36f5",
   "metadata": {
    "ExecuteTime": {
     "end_time": "2022-07-01T14:35:37.022448Z",
     "start_time": "2022-07-01T14:35:37.012592Z"
    }
   },
   "outputs": [
    {
     "data": {
      "text/plain": [
       "'NO'"
      ]
     },
     "execution_count": 123,
     "metadata": {},
     "output_type": "execute_result"
    }
   ],
   "source": [
    "def sol(n):\n",
    "    mat = list(map(lambda x: list(map(int, x.split())), ['8 2 5', '2 5 8', '5 8 2']))\n",
    "#     mat = [list(map(int, input().split())) for _ in range(n)]\n",
    "    magic = n*(n**2 + 1) // 2\n",
    "    diag = [0, 0]\n",
    "    uniq = set()\n",
    "    for i in range(n):\n",
    "        diag[0] += mat[i][i]\n",
    "        diag[1] += mat[i][n-i-1]\n",
    "        uniq |= set(mat[i])\n",
    "        if len(uniq) < n*(i+1) or not (sum(mat[i]) == magic and sum([mat[j][i] for j in range(n)]) == magic):\n",
    "            return 'NO'\n",
    "\n",
    "    return 'YES' if all([_ for _ in diag if _ == magic]) else 'NO'\n",
    "\n",
    "\n",
    "sol(3)"
   ]
  },
  {
   "cell_type": "markdown",
   "id": "2e7c2cd1",
   "metadata": {},
   "source": [
    "### Шахматная доска\n",
    "Напишите программу для создания матрицы размером m x n заполнив ее символами . и * в шахматном порядке. В левом верхнем углу должна стоять точка."
   ]
  },
  {
   "cell_type": "code",
   "execution_count": 62,
   "id": "d08fb41a",
   "metadata": {},
   "outputs": [
    {
     "name": "stdout",
     "output_type": "stream",
     "text": [
      ". * . *\n",
      "* . * .\n",
      ". * . *\n"
     ]
    }
   ],
   "source": [
    "def sol(nm):\n",
    "    n, m = nm.split()\n",
    "    return [['.*'[(i+j) % 2] for j in range(int(m))] for i in range(int(n))]\n",
    "\n",
    "\n",
    "[print(*_) for _ in sol('3 4')];"
   ]
  },
  {
   "cell_type": "markdown",
   "id": "bc036ae9",
   "metadata": {},
   "source": [
    "### Побочная диагональ\n",
    "На вход программе подается натуральное число n. Напишите программу, которая создает матрицу размером n×n и заполняет её по следующему правилу:\n",
    "\n",
    "- числа на побочной диагонали равны 1;\n",
    "- числа, стоящие выше этой диагонали, равны 0;\n",
    "- числа, стоящие ниже этой диагонали, равны 2.\n"
   ]
  },
  {
   "cell_type": "code",
   "execution_count": 69,
   "id": "c9e3d45b",
   "metadata": {},
   "outputs": [
    {
     "name": "stdout",
     "output_type": "stream",
     "text": [
      "0 0 0 0 0 1\n",
      "0 0 0 0 1 2\n",
      "0 0 0 1 2 2\n",
      "0 0 1 2 2 2\n",
      "0 1 2 2 2 2\n",
      "1 2 2 2 2 2\n"
     ]
    }
   ],
   "source": [
    "def sol(n):\n",
    "    return [[2 if j > n+~i else int(j == n+~i) for j in range(n)] for i in range(n)]\n",
    "\n",
    "\n",
    "[print(*_) for _ in sol(6)];"
   ]
  },
  {
   "cell_type": "markdown",
   "id": "6dd45c36",
   "metadata": {},
   "source": [
    "### Заполнение\n",
    "Напишите программу, которая создает матрицу размером n×m и заполняет её числами от 1 до n⋅m в соответствии с образцом."
   ]
  },
  {
   "cell_type": "code",
   "execution_count": 80,
   "id": "9c9a446f",
   "metadata": {},
   "outputs": [
    {
     "name": "stdout",
     "output_type": "stream",
     "text": [
      "1   2   3   4   5   6   7  \n",
      "8   9   10  11  12  13  14 \n",
      "15  16  17  18  19  20  21 \n",
      "22  23  24  25  26  27  28 \n"
     ]
    }
   ],
   "source": [
    "def sol(nm):\n",
    "    n, m = map(int, nm.split())\n",
    "    return [[str(i*m+j+1).ljust(3) for j in range(m)] for i in range(n)]\n",
    "\n",
    "\n",
    "[print(*_) for _ in sol('4 7')];"
   ]
  },
  {
   "cell_type": "code",
   "execution_count": 10,
   "id": "83db4f3c",
   "metadata": {},
   "outputs": [
    {
     "name": "stdout",
     "output_type": "stream",
     "text": [
      "1   7   13  19  25  31 \n",
      "2   8   14  20  26  32 \n",
      "3   9   15  21  27  33 \n",
      "4   10  16  22  28  34 \n",
      "5   11  17  23  29  35 \n",
      "6   12  18  24  30  36 \n"
     ]
    }
   ],
   "source": [
    "def sol(nm):\n",
    "    n, m = map(int, nm.split())\n",
    "    return [[str(1+i+j*n).ljust(3) for j in range(m)] for i in range(n)]\n",
    "\n",
    "\n",
    "[print(*_) for _ in sol('6 6')];"
   ]
  },
  {
   "cell_type": "code",
   "execution_count": 13,
   "id": "c64b4314",
   "metadata": {},
   "outputs": [
    {
     "name": "stdout",
     "output_type": "stream",
     "text": [
      "1 0 0 0 1\n",
      "0 1 0 1 0\n",
      "0 0 1 0 0\n",
      "0 1 0 1 0\n",
      "1 0 0 0 1\n"
     ]
    }
   ],
   "source": [
    "def sol(n):\n",
    "    return [[int(i == j or j == n+~i) for j in range(n)] for i in range(n)]\n",
    "\n",
    "\n",
    "[print(*_) for _ in sol(5)];"
   ]
  },
  {
   "cell_type": "code",
   "execution_count": 26,
   "id": "84139593",
   "metadata": {},
   "outputs": [
    {
     "name": "stdout",
     "output_type": "stream",
     "text": [
      "1 1 1 1 1\n",
      "0 1 1 1 0\n",
      "0 0 1 0 0\n",
      "0 0 1 1 0\n",
      "0 1 1 1 1\n"
     ]
    }
   ],
   "source": [
    "def sol(n):\n",
    "    return [[int(i <= j <= n+~i or i >= j >= n+~i) for j in range(n)] for i in range(n)]\n",
    "\n",
    "\n",
    "[print(*_) for _ in sol(5)];"
   ]
  },
  {
   "cell_type": "code",
   "execution_count": 33,
   "id": "7f3bb9d5",
   "metadata": {},
   "outputs": [
    {
     "name": "stdout",
     "output_type": "stream",
     "text": [
      "1   2   3   4   5  \n",
      "2   3   4   5   1  \n",
      "3   4   5   1   2  \n",
      "4   5   1   2   3  \n",
      "5   1   2   3   4  \n"
     ]
    }
   ],
   "source": [
    "def sol(nm):\n",
    "    n, m = map(int, nm.split())\n",
    "    return [[str(1+(i+j+m) % m).ljust(3) for j in range(m)] for i in range(n)]\n",
    "\n",
    "\n",
    "[print(*_) for _ in sol('5 5')];"
   ]
  },
  {
   "cell_type": "code",
   "execution_count": 56,
   "id": "104a8f2d",
   "metadata": {},
   "outputs": [
    {
     "name": "stdout",
     "output_type": "stream",
     "text": [
      "1   2   3   4   5  \n",
      "10  9   8   7   6  \n",
      "11  12  13  14  15 \n"
     ]
    }
   ],
   "source": [
    "def sol(nm):\n",
    "    n, m = map(int, nm.split())\n",
    "    return [[str(1+(i*m+j)).ljust(3) for j in range(m)][::(1, -1)[i % 2]] for i in range(n)]\n",
    "\n",
    "\n",
    "[print(*_) for _ in sol('3 5')];"
   ]
  },
  {
   "cell_type": "code",
   "execution_count": 210,
   "id": "05070db4",
   "metadata": {},
   "outputs": [
    {
     "name": "stdout",
     "output_type": "stream",
     "text": [
      "1   2   4  \n",
      "3   5   7  \n",
      "6   8   10 \n",
      "9   11  13 \n",
      "12  14  16 \n",
      "15  17  19 \n",
      "18  20  22 \n",
      "21  23  24 \n"
     ]
    }
   ],
   "source": [
    "def sol(nm):\n",
    "    n, m = map(int, nm.split())\n",
    "    mat = [[0]*m for _ in range(n)]\n",
    "    c = 0\n",
    "    for d in range(n+m):\n",
    "        for i in range(n):\n",
    "            for j in range(m):\n",
    "                if j == d+~i:\n",
    "                    c += 1\n",
    "                    mat[i][j] = str(c).ljust(3)\n",
    "\n",
    "    return mat\n",
    "\n",
    "\n",
    "[print(*_) for _ in sol('8 3')];"
   ]
  },
  {
   "cell_type": "markdown",
   "id": "a13d4e28",
   "metadata": {},
   "source": [
    "### Заполнение спиралью\n",
    "Напишите программу, которая создает матрицу размером n×m заполнив её \"спиралью\" в соответствии с образцом."
   ]
  },
  {
   "cell_type": "code",
   "execution_count": 31,
   "id": "7ea0e778",
   "metadata": {},
   "outputs": [
    {
     "name": "stdout",
     "output_type": "stream",
     "text": [
      "1   2   3   4   5   6  \n",
      "20  21  22  23  24  7  \n",
      "19  32  33  34  25  8  \n",
      "18  31  36  35  26  9  \n",
      "17  30  29  28  27  10 \n",
      "16  15  14  13  12  11 \n"
     ]
    }
   ],
   "source": [
    "import math\n",
    "def sol(nm):\n",
    "    n, m = map(int, nm.split())\n",
    "    mat = [[0]*m for _ in range(n)]\n",
    "    c = f = i = j = 0\n",
    "    di, dj = 0, 1\n",
    "    while c < n*m:\n",
    "        if 0 <= i < n and 0 <= j < m and not mat[i][j]:\n",
    "            c += 1\n",
    "            mat[i][j] = str(c).ljust(3)\n",
    "        else:\n",
    "            i += -di\n",
    "            j += -dj\n",
    "            f += math.pi/2\n",
    "            di, dj = int(math.sin(f)), int(math.cos(f))\n",
    "\n",
    "        i += di\n",
    "        j += dj\n",
    "\n",
    "    return mat\n",
    "\n",
    "\n",
    "[print(*_) for _ in sol('6 6')];"
   ]
  },
  {
   "cell_type": "markdown",
   "id": "fac477dd",
   "metadata": {},
   "source": [
    "### Сложение матриц"
   ]
  },
  {
   "cell_type": "code",
   "execution_count": 10,
   "id": "fc57a894",
   "metadata": {
    "ExecuteTime": {
     "end_time": "2022-07-11T09:53:00.067333Z",
     "start_time": "2022-07-11T09:53:00.060742Z"
    }
   },
   "outputs": [
    {
     "name": "stdout",
     "output_type": "stream",
     "text": [
      "4 4 4 6\n",
      "6 9 8 4\n"
     ]
    }
   ],
   "source": [
    "def sol(nm):\n",
    "    n, m = map(int, nm.split())\n",
    "    a = list(map(lambda x: list(map(int, x.split())), ['1 2 3 4', '5 6 7 1']))\n",
    "    b = list(map(lambda x: list(map(int, x.split())), ['3 2 1 2', '1 3 1 3']))\n",
    "#     mat = [list(map(int, input().split())) for _ in range(n)]\n",
    "\n",
    "    return [[a[i][j] + b[i][j] for j in range(m)] for i in range(n)]\n",
    "\n",
    "\n",
    "[print(*_) for _ in sol('2 4')];"
   ]
  },
  {
   "cell_type": "markdown",
   "id": "aafb6d55",
   "metadata": {},
   "source": [
    "### Умножение матриц"
   ]
  },
  {
   "cell_type": "code",
   "execution_count": 33,
   "id": "59ea0625",
   "metadata": {
    "ExecuteTime": {
     "end_time": "2022-07-11T11:03:38.495780Z",
     "start_time": "2022-07-11T11:03:38.488589Z"
    }
   },
   "outputs": [
    {
     "name": "stdout",
     "output_type": "stream",
     "text": [
      "[2, 5] [2, 5, 2, 5, 2, 5] [2, 5]\n",
      "[6, 7] [6, 7, 6, 7, 6, 7] [6, 7]\n",
      "[1, 8] [1, 8, 1, 8, 1, 8] [1, 8]\n"
     ]
    }
   ],
   "source": [
    "def sol():\n",
    "    nm = '3 2'\n",
    "    mk = '2 3'\n",
    "    n, m = map(int, nm.split())\n",
    "    a = list(map(lambda x: list(map(int, x.split())), ['2 5', '6 7', '1 8']))\n",
    "    m, k = map(int, mk.split())\n",
    "    b = list(map(lambda x: list(map(int, x.split())), ['1 2 1', '0 1 0']))\n",
    "#     mat = [list(map(int, input().split())) for _ in range(n)]\n",
    "    return [[sum([a[i][j] * b[j][l] for j in range(m)]) for l in range(k)] for i in range(n)]\n",
    "\n",
    "\n",
    "[print(*_) for _ in sol()];"
   ]
  },
  {
   "cell_type": "markdown",
   "id": "88af6b55",
   "metadata": {},
   "source": [
    "### Возведение матрицы в степень"
   ]
  },
  {
   "cell_type": "code",
   "execution_count": 35,
   "id": "820faf46",
   "metadata": {
    "ExecuteTime": {
     "end_time": "2022-07-11T11:06:05.935910Z",
     "start_time": "2022-07-11T11:06:05.929198Z"
    }
   },
   "outputs": [
    {
     "name": "stdout",
     "output_type": "stream",
     "text": [
      "30 36 42\n",
      "66 81 96\n",
      "102 126 150\n"
     ]
    }
   ],
   "source": [
    "def power(a, m):\n",
    "    n = len(a)\n",
    "    r = a.copy()\n",
    "    for _ in range(m-1):\n",
    "        r = [[sum([a[i][j] * r[j][l] for j in range(n)]) for l in range(n)] for i in range(n)]\n",
    "    return r\n",
    "\n",
    "def sol():\n",
    "    n = 3\n",
    "    a = list(map(lambda x: list(map(int, x.split())), ['1 2 3', '4 5 6', '7 8 9']))\n",
    "#     a = [list(map(int, input().split())) for _ in range(n)]\n",
    "    m = 2\n",
    "    return power(a, m)\n",
    "\n",
    "\n",
    "[print(*_) for _ in sol()];"
   ]
  },
  {
   "cell_type": "markdown",
   "id": "3c31a514",
   "metadata": {},
   "source": [
    "## Итоговая работа на вложенные списки и матрицы"
   ]
  },
  {
   "cell_type": "markdown",
   "id": "2c420da2",
   "metadata": {},
   "source": [
    "### Каждый n-ый элемент\n",
    "Напишите программу, которая разделяет список на вложенные подсписки так, что nnn последовательных элементов принадлежат разным подспискам."
   ]
  },
  {
   "cell_type": "code",
   "execution_count": 46,
   "id": "b96d6d81",
   "metadata": {
    "ExecuteTime": {
     "end_time": "2022-07-11T11:33:04.746199Z",
     "start_time": "2022-07-11T11:33:04.738380Z"
    }
   },
   "outputs": [
    {
     "data": {
      "text/plain": [
       "[['a', 'd', 'g', 'j', 'm'], ['b', 'e', 'h', 'k', 'n'], ['c', 'f', 'i', 'l']]"
      ]
     },
     "execution_count": 46,
     "metadata": {},
     "output_type": "execute_result"
    }
   ],
   "source": [
    "def sol(ls, n):\n",
    "    ls = ls.split()\n",
    "    return [ls[i::n] for i in range(n)]\n",
    "\n",
    "\n",
    "sol('a b c d e f g h i j k l m n', 3)"
   ]
  },
  {
   "cell_type": "markdown",
   "id": "ce023551",
   "metadata": {},
   "source": [
    "### Максимальный в области 2\n"
   ]
  },
  {
   "cell_type": "code",
   "execution_count": 56,
   "id": "def770f1",
   "metadata": {
    "ExecuteTime": {
     "end_time": "2022-07-11T11:41:35.568645Z",
     "start_time": "2022-07-11T11:41:35.563025Z"
    }
   },
   "outputs": [
    {
     "data": {
      "text/plain": [
       "8"
      ]
     },
     "execution_count": 56,
     "metadata": {},
     "output_type": "execute_result"
    }
   ],
   "source": [
    "def sol(n):\n",
    "    mat = list(map(lambda x: list(map(int, x.split())), ['1 4 5', '6 7 8', '1 1 6']))\n",
    "    #     mat = [list(map(int, input().split())) for _ in range(n)]\n",
    "    return max([max(mat[i][~i:]) for i in range(n)])\n",
    "\n",
    "\n",
    "sol(3)"
   ]
  },
  {
   "cell_type": "markdown",
   "id": "73dcb4b0",
   "metadata": {},
   "source": [
    "### Транспонирование матрицы"
   ]
  },
  {
   "cell_type": "code",
   "execution_count": 60,
   "id": "d9227212",
   "metadata": {
    "ExecuteTime": {
     "end_time": "2022-07-11T11:47:09.797186Z",
     "start_time": "2022-07-11T11:47:09.789059Z"
    }
   },
   "outputs": [
    {
     "name": "stdout",
     "output_type": "stream",
     "text": [
      "1 4 7\n",
      "2 5 8\n",
      "3 6 9\n"
     ]
    }
   ],
   "source": [
    "def sol(n):\n",
    "    mat = list(map(lambda x: list(map(int, x.split())), ['1 2 3', '4 5 6', '7 8 9']))\n",
    "    #     mat = [list(map(int, input().split())) for _ in range(n)]\n",
    "    return [[mat[j][i] for j in range(n)] for i in range(n)]\n",
    "\n",
    "\n",
    "[print(*_) for _ in sol(3)];"
   ]
  },
  {
   "cell_type": "markdown",
   "id": "39df9918",
   "metadata": {},
   "source": [
    "### Снежинка\n",
    "Напишите программу, которая создает матрицу размером n×n заполнив её символами. Затем заполните символами * среднюю строку и столбец матрицы, главную и побочную диагональ матрицы. Выведите полученную матрицу на экран, разделяя элементы пробелами."
   ]
  },
  {
   "cell_type": "code",
   "execution_count": 74,
   "id": "1fff1a82",
   "metadata": {
    "ExecuteTime": {
     "end_time": "2022-07-11T12:12:44.160691Z",
     "start_time": "2022-07-11T12:12:44.155329Z"
    }
   },
   "outputs": [
    {
     "name": "stdout",
     "output_type": "stream",
     "text": [
      "* . * . *\n",
      ". * * * .\n",
      "* * * * *\n",
      ". * * * .\n",
      "* . * . *\n"
     ]
    }
   ],
   "source": [
    "def sol(n):\n",
    "    mat = [['.']*n for i in range(n)]\n",
    "    for i in range(n):\n",
    "        mat[i][i] = '*'\n",
    "        mat[i][~i] = '*'\n",
    "        mat[i][(n-1)//2] = '*'\n",
    "        mat[(n-1)//2][i] = '*'\n",
    "\n",
    "    return mat\n",
    "\n",
    "\n",
    "[print(*_) for _ in sol(5)];"
   ]
  },
  {
   "cell_type": "markdown",
   "id": "c2ae5675",
   "metadata": {},
   "source": [
    "### Симметричная матрица\n",
    "Напишите программу проверки симметричности квадратной матрицы относительно побочной диагонали."
   ]
  },
  {
   "cell_type": "code",
   "execution_count": 103,
   "id": "0330551b",
   "metadata": {
    "ExecuteTime": {
     "end_time": "2022-07-11T12:35:39.692080Z",
     "start_time": "2022-07-11T12:35:39.686461Z"
    }
   },
   "outputs": [
    {
     "data": {
      "text/plain": [
       "'YES'"
      ]
     },
     "execution_count": 103,
     "metadata": {},
     "output_type": "execute_result"
    }
   ],
   "source": [
    "def sol(n):\n",
    "    mat = list(map(lambda x: list(map(int, x.split())), ['0 3 10', '4 9 3', '7 4 0']))\n",
    "    #     mat = [list(map(int, input().split())) for _ in range(n)]\n",
    "    return 'YES' if all([mat[i][j] == mat[~j][~i] for j in range(n) for i in range(j, n)]) else 'NO'\n",
    "\n",
    "\n",
    "sol(3)"
   ]
  },
  {
   "cell_type": "markdown",
   "id": "89647063",
   "metadata": {},
   "source": [
    "### Латинский квадрат\n",
    "Латинским квадратом порядка nnn называется квадратная матрица размером n×n, каждая строка и каждый столбец которой содержат все числа от 1 до n. Напишите программу, которая проверяет, является ли заданная квадратная матрица латинским квадратом."
   ]
  },
  {
   "cell_type": "code",
   "execution_count": 105,
   "id": "11ce2923",
   "metadata": {
    "ExecuteTime": {
     "end_time": "2022-07-11T12:46:33.633735Z",
     "start_time": "2022-07-11T12:46:33.624409Z"
    }
   },
   "outputs": [
    {
     "data": {
      "text/plain": [
       "'YES'"
      ]
     },
     "execution_count": 105,
     "metadata": {},
     "output_type": "execute_result"
    }
   ],
   "source": [
    "def sol(n):\n",
    "    mat = list(map(lambda x: list(map(int, x.split())), ['2 3 4 1', '3 4 1 2', '4 1 2 3', '1 2 3 4']))\n",
    "    n = len(mat)\n",
    "    nat = list(range(1, n+1))\n",
    "    #     mat = [list(map(int, input().split())) for _ in range(n)]\n",
    "    for i in range(n):\n",
    "        if not (sorted(mat[i]) == nat and sorted([mat[j][i] for j in range(n)]) == nat):\n",
    "            return 'NO'\n",
    "    return 'YES'\n",
    "\n",
    "\n",
    "sol(3)"
   ]
  },
  {
   "cell_type": "markdown",
   "id": "5710faa4",
   "metadata": {},
   "source": [
    "### Ходы ферзя\n",
    "На шахматной доске 8×8 стоит ферзь. Отметьте положение ферзя на доске и все клетки, которые бьет ферзь. Клетку, где стоит ферзь, отметьте буквой Q, клетки, которые бьет ферзь, отметьте символами *, остальные клетки заполните точками."
   ]
  },
  {
   "cell_type": "code",
   "execution_count": 460,
   "id": "dd6b3670",
   "metadata": {
    "ExecuteTime": {
     "end_time": "2022-07-11T14:48:07.670370Z",
     "start_time": "2022-07-11T14:48:07.660229Z"
    }
   },
   "outputs": [
    {
     "name": "stdout",
     "output_type": "stream",
     "text": [
      ". . * . . . . *\n",
      ". . * . . . * .\n",
      ". . * . . * . .\n",
      "* . * . * . . .\n",
      ". * * * . . . .\n",
      "* * Q * * * * *\n",
      ". * * * . . . .\n",
      "* . * . * . . .\n"
     ]
    }
   ],
   "source": [
    "import math\n",
    "def sol(ch):\n",
    "    n = 8\n",
    "    j, i = 'abcdefgh'.index(ch[0]), n-int(ch[1])\n",
    "    chess = [['.*'[x == i or y == j or abs(x-i) == abs(y-j)] for y in range(n)] for x in range(n)]\n",
    "    chess[i][j] = 'Q'\n",
    "\n",
    "    return chess\n",
    "\n",
    "\n",
    "[print(*_) for _ in sol('c3')];"
   ]
  },
  {
   "cell_type": "markdown",
   "id": "d863eddd",
   "metadata": {},
   "source": [
    "### Диагонали параллельные главной\n",
    "Напишите программу, которая создает матрицу размером n×n и заполняет её по следующему правилу:\n",
    "- на главной диагонали на месте каждого элемента должно стоять число 0;\n",
    "- на двух диагоналях, прилегающих к главной, число 1;\n",
    "- на следующих двух диагоналях число 2, и т.д.\n"
   ]
  },
  {
   "cell_type": "code",
   "execution_count": 211,
   "id": "9065de0d",
   "metadata": {
    "ExecuteTime": {
     "end_time": "2022-07-11T13:30:19.598240Z",
     "start_time": "2022-07-11T13:30:19.594297Z"
    }
   },
   "outputs": [
    {
     "name": "stdout",
     "output_type": "stream",
     "text": [
      "0 1 2 3 4\n",
      "1 0 1 2 3\n",
      "2 1 0 1 2\n",
      "3 2 1 0 1\n",
      "4 3 2 1 0\n"
     ]
    }
   ],
   "source": [
    "def sol(n):\n",
    "    return [[abs(i - j) for j in range(n)] for i in range(n)]\n",
    "\n",
    "\n",
    "[print(*_) for _ in sol(5)];"
   ]
  },
  {
   "cell_type": "markdown",
   "id": "56fdd2dc",
   "metadata": {},
   "source": [
    "## Кортежи"
   ]
  },
  {
   "cell_type": "markdown",
   "id": "5d74ef33",
   "metadata": {},
   "source": [
    "### Вершина параболы\n",
    "Уравнение параболы имеет вид $y = ax^2 + bx + c$, где $a≠0$. Напишите программу, которая по введенным значениям a,b,c определяет и выводит вершину параболы.\n",
    "Координаты вершины параболы имеют вид: $\\left(-\\dfrac{b}{2a}; \\, \\dfrac{4ac-b^2}{4a}\\right)$."
   ]
  },
  {
   "cell_type": "code",
   "execution_count": 4,
   "id": "0b2ead23",
   "metadata": {
    "ExecuteTime": {
     "end_time": "2022-07-12T12:28:11.397887Z",
     "start_time": "2022-07-12T12:28:11.379194Z"
    }
   },
   "outputs": [
    {
     "data": {
      "text/plain": [
       "(-1.0, -7.0)"
      ]
     },
     "execution_count": 4,
     "metadata": {},
     "output_type": "execute_result"
    }
   ],
   "source": [
    "def sol(a, b, c):\n",
    "    return -b/2/a, (4*a*c-b**2)/4/a\n",
    "\n",
    "\n",
    "sol(2, 4, -5)"
   ]
  },
  {
   "cell_type": "markdown",
   "id": "b9ff4363",
   "metadata": {},
   "source": [
    "### Конкурсный отбор\n",
    "Напишите программу, которая выводит список хорошистов и отличников в классе."
   ]
  },
  {
   "cell_type": "code",
   "execution_count": 54,
   "id": "06e0c6d6",
   "metadata": {
    "ExecuteTime": {
     "end_time": "2022-07-12T13:47:18.278760Z",
     "start_time": "2022-07-12T13:47:18.249966Z"
    }
   },
   "outputs": [
    {
     "name": "stdout",
     "output_type": "stream",
     "text": [
      "Гуев 3\n",
      "Чаниев 5\n",
      "Барсуков 2\n",
      "\n",
      "Чаниев 5\n"
     ]
    }
   ],
   "source": [
    "def sol(n):\n",
    "    data = ['Гуев 3', 'Чаниев 5', 'Барсуков 2']\n",
    "    print(*data, sep='\\n')\n",
    "    print()\n",
    "    [print(x) for x in data if int(x.split()[1]) > 3]\n",
    "\n",
    "\n",
    "sol(3)"
   ]
  },
  {
   "cell_type": "markdown",
   "id": "b2eb1fd6",
   "metadata": {},
   "source": [
    "### Последовательность Трибоначчи\n",
    "Последовательность Трибоначчи – последовательность натуральных чисел, где каждое последующее число является суммой трех предыдущих"
   ]
  },
  {
   "cell_type": "code",
   "execution_count": 53,
   "id": "be690cf4",
   "metadata": {
    "ExecuteTime": {
     "end_time": "2022-07-12T13:28:46.868370Z",
     "start_time": "2022-07-12T13:28:46.861702Z"
    }
   },
   "outputs": [
    {
     "name": "stdout",
     "output_type": "stream",
     "text": [
      "1 1 1 3 5 9 17 31 57 105\n"
     ]
    }
   ],
   "source": [
    "def tribon(n):\n",
    "    t, res = (1,) * 3, []\n",
    "    for i in range(n):\n",
    "        res.append(t[0])\n",
    "        t = *t[1:], sum(t)\n",
    "    return res\n",
    "\n",
    "\n",
    "print(*tribon(10))"
   ]
  },
  {
   "cell_type": "markdown",
   "id": "fc68574d",
   "metadata": {},
   "source": [
    "## Множества"
   ]
  },
  {
   "cell_type": "markdown",
   "id": "5691f3e2",
   "metadata": {},
   "source": [
    "### Тимур и его команда\n",
    "\n",
    "На летних каникулах Тимур и ученики онлайн-школы BEEGEEK решили отдохнуть. В результате n учеников школы поехали отдыхать на море, m учеников съездили в деревню, а k учеников сходили в горы. Оказалось, что и в деревне, и на море были x учеников, а в деревне и в горах — y учеников. Побывать и в горах, и на море не удалось никому. \n",
    "\n",
    "Напишите программу для определения количества учеников в школе, если никто не смог посетить все три места сразу, а z учеников писали ДВИ по математике для поступления в МГУ, и никуда не ездили.\n",
    "\n"
   ]
  },
  {
   "cell_type": "code",
   "execution_count": 1,
   "id": "002f6fd6",
   "metadata": {
    "ExecuteTime": {
     "end_time": "2022-07-14T11:01:28.972343Z",
     "start_time": "2022-07-14T11:01:05.826631Z"
    }
   },
   "outputs": [
    {
     "name": "stdout",
     "output_type": "stream",
     "text": [
      "14\n",
      "16\n",
      "5\n",
      "10\n",
      "3\n",
      "2\n"
     ]
    },
    {
     "data": {
      "text/plain": [
       "24"
      ]
     },
     "execution_count": 1,
     "metadata": {},
     "output_type": "execute_result"
    }
   ],
   "source": [
    "def sol():\n",
    "    n, m, k, x, y, z = [int(input()) for _ in 'nmkxyz']\n",
    "    return n+m+k+z-x-y\n",
    "\n",
    "\n",
    "sol()"
   ]
  },
  {
   "cell_type": "markdown",
   "id": "b87086c5",
   "metadata": {},
   "source": [
    "### Книги на прочтение 🌶️\n",
    "\n",
    "Ученики 10 класса онлайн-школы BEEGEEK получили задание прочесть на летних каникулах три книги:\n",
    "\n",
    "- \"Что такое математика?\";\n",
    "- \"Математическая составляющая\";\n",
    "- \"100 гениальных идей по математике\".\n",
    "\n",
    "Оказалось, что n учеников прочитали первую книгу, m учеников — вторую, k учеников — третью. Также известно, что x учеников прочли первую или вторую, или обе эти книги, y учеников — вторую или третью, или обе, z учеников — первую и третью, или хотя бы одну из этих двух книг. Полностью выполнили задание только t учеников. Всего в 10 классе учится a учеников. Напишите программу, которая выводит сколько учеников:\n",
    "\n",
    "- прочитали только одну книгу;\n",
    "- прочитали две книги;\n",
    "- не прочитали ни одной из рекомендованных книг.\n"
   ]
  },
  {
   "cell_type": "code",
   "execution_count": 18,
   "id": "688f84d1",
   "metadata": {
    "ExecuteTime": {
     "end_time": "2022-07-14T12:01:18.451175Z",
     "start_time": "2022-07-14T12:01:18.446058Z"
    }
   },
   "outputs": [
    {
     "name": "stdout",
     "output_type": "stream",
     "text": [
      "29\n",
      "12\n",
      "7\n"
     ]
    }
   ],
   "source": [
    "def sol():\n",
    "    #     n,m,k,x,y,z,t,a = [int(input()) for _ in 'nmkxyzta']\n",
    "    n, m, k, x, y, z, t, a = 19, 18, 22, 32, 33, 35, 2, 50\n",
    "    l1, l2, l3 = n+m-t-x, m+k-t-y, n+k-t-z\n",
    "    s1 = n + m + k - 2*l1 - 2*l2 - 2*l3 - 3*t\n",
    "    s2 = l1 + l2 + l3\n",
    "    s3 = a - (n + m + k - l1 - l2 - l3 - 2*t)\n",
    "    return s1, s2, s3\n",
    "\n",
    "\n",
    "print(*sol(), sep='\\n')"
   ]
  },
  {
   "cell_type": "markdown",
   "id": "537d185a",
   "metadata": {},
   "source": [
    "### Уникальные символы\n",
    "Напишите программу для вывода общего количества уникальных символов во всех считанных словах без учета регистра."
   ]
  },
  {
   "cell_type": "code",
   "execution_count": 27,
   "id": "2d6bcc02",
   "metadata": {
    "ExecuteTime": {
     "end_time": "2022-07-15T11:53:46.318226Z",
     "start_time": "2022-07-15T11:53:41.081080Z"
    }
   },
   "outputs": [
    {
     "name": "stdout",
     "output_type": "stream",
     "text": [
      "4\n",
      "wdcwc\n",
      "wcwec\n",
      "gbb\n",
      "wafwe\n"
     ]
    },
    {
     "data": {
      "text/plain": [
       "8"
      ]
     },
     "execution_count": 27,
     "metadata": {},
     "output_type": "execute_result"
    }
   ],
   "source": [
    "def sol():\n",
    "    s = set()\n",
    "    [s.update(set(input().lower())) for _ in range(int(input()))]\n",
    "\n",
    "    return len(s)\n",
    "\n",
    "\n",
    "sol()"
   ]
  },
  {
   "cell_type": "markdown",
   "id": "50aefa11",
   "metadata": {},
   "source": [
    "### Количество слов в тексте\n",
    "Напишите программу для определения общего количества различных слов в строке текста.\n"
   ]
  },
  {
   "cell_type": "code",
   "execution_count": 56,
   "id": "2c7ed660",
   "metadata": {
    "ExecuteTime": {
     "end_time": "2022-07-15T12:20:26.337757Z",
     "start_time": "2022-07-15T12:20:26.333279Z"
    }
   },
   "outputs": [
    {
     "data": {
      "text/plain": [
       "15"
      ]
     },
     "execution_count": 56,
     "metadata": {},
     "output_type": "execute_result"
    }
   ],
   "source": [
    "import re\n",
    "def sol(s):\n",
    "    return len(set(re.split(r'\\W+', s.lower()))) - 1\n",
    "\n",
    "\n",
    "sol('Snowflakes, snowflakes falling down. Snowflakes, covering up the ground. Making a blanket, soft and white. Making a blanket in the night.')"
   ]
  },
  {
   "cell_type": "markdown",
   "id": "c5cdc896",
   "metadata": {},
   "source": [
    "### Встречалось ли число раньше?\n",
    "\n",
    "На вход программе подается строка текста, содержащая числа. Для каждого числа выведите слово YES (в отдельной строке), если это число ранее встречалось в последовательности или NO, если не встречалось."
   ]
  },
  {
   "cell_type": "code",
   "execution_count": 80,
   "id": "e659b023",
   "metadata": {
    "ExecuteTime": {
     "end_time": "2022-07-15T12:42:08.932365Z",
     "start_time": "2022-07-15T12:42:08.927309Z"
    }
   },
   "outputs": [
    {
     "name": "stdout",
     "output_type": "stream",
     "text": [
      "NO\n",
      "YES\n",
      "NO\n",
      "YES\n",
      "NO\n",
      "YES\n",
      "YES\n",
      "YES\n",
      "NO\n",
      "NO\n",
      "NO\n"
     ]
    }
   ],
   "source": [
    "def sol(ls):\n",
    "    s = set()\n",
    "    return [(print('YES' if int(x) in s else 'NO'), s.add(int(x))) for x in ls.split()]\n",
    "#     return s\n",
    "\n",
    "\n",
    "sol('1 1 2 2 5 5 5 5 6 7 8');"
   ]
  },
  {
   "cell_type": "markdown",
   "id": "75a233ca",
   "metadata": {},
   "source": [
    "### Общие числа\n",
    "\n",
    "На вход программе подаются две строки текста, содержащие числа. Напишите программу, которая выводит все числа в порядке возрастания, которые есть как в первой строке, так и во второй."
   ]
  },
  {
   "cell_type": "code",
   "execution_count": 82,
   "id": "a7ef0119",
   "metadata": {
    "ExecuteTime": {
     "end_time": "2022-07-15T13:01:32.131053Z",
     "start_time": "2022-07-15T13:01:22.096352Z"
    }
   },
   "outputs": [
    {
     "name": "stdout",
     "output_type": "stream",
     "text": [
      "10 9 8 7 6 5 4 3 2 1\n",
      "1 2 3 4 5 6 7 8 9 10\n",
      "1 2 3 4 5 6 7 8 9 10\n"
     ]
    }
   ],
   "source": [
    "print(*sorted(set(map(int, input().split())) & set(map(int, input().split()))))"
   ]
  },
  {
   "cell_type": "markdown",
   "id": "6783cc09",
   "metadata": {},
   "source": [
    "### Числа первой строки\n",
    "\n",
    "На вход программе подаются две строки текста, содержащие числа. Напишите программу, которая выводит все числа в порядке возрастания, которые есть в первой строке, но отсутствуют во второй."
   ]
  },
  {
   "cell_type": "code",
   "execution_count": 84,
   "id": "2bcd019a",
   "metadata": {
    "ExecuteTime": {
     "end_time": "2022-07-15T13:06:25.501312Z",
     "start_time": "2022-07-15T13:06:13.099323Z"
    }
   },
   "outputs": [
    {
     "name": "stdout",
     "output_type": "stream",
     "text": [
      "1 2 3 4\n",
      "5 6 7 8\n",
      "1 2 3 4\n"
     ]
    }
   ],
   "source": [
    "print(*sorted(set(input().split()) - set(input().split()), key=int))"
   ]
  },
  {
   "cell_type": "markdown",
   "id": "1d406220",
   "metadata": {},
   "source": [
    "### Общие цифры\n",
    "\n",
    "На вход программе подается натуральное число n, а затем n различных натуральных чисел, каждое на отдельной строке. Напишите программу, которая выводит все общие цифры в порядке возрастания у всех введенных чисел."
   ]
  },
  {
   "cell_type": "code",
   "execution_count": 103,
   "id": "c61de432",
   "metadata": {
    "ExecuteTime": {
     "end_time": "2022-07-15T13:39:52.106189Z",
     "start_time": "2022-07-15T13:39:46.950498Z"
    }
   },
   "outputs": [
    {
     "name": "stdout",
     "output_type": "stream",
     "text": [
      "3\n",
      "123\n",
      "456\n",
      "789\n",
      "\n"
     ]
    }
   ],
   "source": [
    "print(*sorted(set.intersection(*[set(input()) for _ in range(int(input()))])))"
   ]
  },
  {
   "cell_type": "markdown",
   "id": "e02a8e0b",
   "metadata": {},
   "source": [
    "### Используя генератор множеств\n",
    "дополните приведенный код, так чтобы получить множество, содержащее уникальные слова  строки sentence длиною меньше 4 символов. Результат вывести на одной строке (в нижнем регистре) в алфавитном порядке, разделяя элементы одним символом пробела.\n",
    "\n",
    "**Примечание**. Учтите, что знаки пунктуации не относятся к словам."
   ]
  },
  {
   "cell_type": "code",
   "execution_count": 6,
   "id": "183d4463",
   "metadata": {
    "ExecuteTime": {
     "end_time": "2022-07-18T10:41:42.196893Z",
     "start_time": "2022-07-18T10:41:42.191770Z"
    }
   },
   "outputs": [
    {
     "name": "stdout",
     "output_type": "stream",
     "text": [
      "a all am and at by can day for had her i if in my of or set sun the was you\n"
     ]
    }
   ],
   "source": [
    "import re\n",
    "sentence = '''My very photogenic mother died in a freak accident (picnic, lightning) when I was three, and, save for a pocket of warmth in the darkest past, nothing of her subsists within the hollows and dells of memory, over which, if you can still stand my style (I am writing under observation), the sun of my infancy had set: surely, you all know those redolent remnants of day suspended, with the midges, about some hedge in bloom or suddenly entered and traversed by the rambler, at the bottom of a hill, in the summer dusk; a furry warmth, golden midges.'''\n",
    "\n",
    "print(*sorted({s.lower() for s in re.findall(r'\\b\\w{1,3}\\b', sentence)}))"
   ]
  },
  {
   "cell_type": "code",
   "execution_count": 8,
   "id": "dd572461",
   "metadata": {
    "ExecuteTime": {
     "end_time": "2022-07-18T10:46:54.420097Z",
     "start_time": "2022-07-18T10:46:54.415935Z"
    }
   },
   "outputs": [
    {
     "name": "stdout",
     "output_type": "stream",
     "text": [
      "board.png png.png python.png stepik.png\n"
     ]
    }
   ],
   "source": [
    "files = ['python.png', 'qwerty.py', 'stepik.png', 'beegeek.org', 'windows.pnp', 'pen.txt', 'phone.py', 'book.txT', 'board.pNg',\n",
    "         'keyBoard.jpg', 'Python.PNg', 'apple.jpeg', 'png.png', 'input.tXt', 'split.pop', 'solution.Py', 'stepik.org', 'kotlin.ko', 'github.git']\n",
    "print(*sorted({f.lower() for f in files if f.lower().endswith('.png')}))"
   ]
  },
  {
   "cell_type": "markdown",
   "id": "e9376e9b",
   "metadata": {},
   "source": [
    "## Итоговая \"Множества\""
   ]
  },
  {
   "cell_type": "markdown",
   "id": "83057253",
   "metadata": {},
   "source": [
    "### Домашнее задание\n",
    "\n",
    "Учитель проверяет домашнее задание в классе и получил следующие ответы: из n школьников у m домашнее задание съела собака, у k отключили свет, а p учеников постигли оба несчастья. Напишите программу, которая определяет сколько человек выполнило домашнее задание."
   ]
  },
  {
   "cell_type": "code",
   "execution_count": 9,
   "id": "37476513",
   "metadata": {
    "ExecuteTime": {
     "end_time": "2022-07-18T11:13:43.581016Z",
     "start_time": "2022-07-18T11:13:32.112414Z"
    }
   },
   "outputs": [
    {
     "name": "stdout",
     "output_type": "stream",
     "text": [
      "35\n",
      "20\n",
      "10\n",
      "3\n",
      "8\n"
     ]
    }
   ],
   "source": [
    "n, m, k, p = [int(input()) for _ in 'nmkp']\n",
    "print(n-m-k+p)"
   ]
  },
  {
   "cell_type": "markdown",
   "id": "2ad98797",
   "metadata": {},
   "source": [
    "### Восход\n",
    "\n",
    "На спутнике «Восход» установлен прибор для измерения солнечной активности. Каждую минуту он передаёт в обсерваторию по каналу связи положительное целое число — количество энергии солнечного излучения. Для правильного анализа результатов нет необходимости держать повторяющиеся данные. Напишите программу, которая выводит максимальное количество показаний спутника, при удалении которых результат будет правильно проанализирован."
   ]
  },
  {
   "cell_type": "code",
   "execution_count": 10,
   "id": "bbeaa2b7",
   "metadata": {
    "ExecuteTime": {
     "end_time": "2022-07-18T11:16:34.331639Z",
     "start_time": "2022-07-18T11:16:26.495018Z"
    }
   },
   "outputs": [
    {
     "name": "stdout",
     "output_type": "stream",
     "text": [
      "10 20 30 10 40\n"
     ]
    },
    {
     "data": {
      "text/plain": [
       "1"
      ]
     },
     "execution_count": 10,
     "metadata": {},
     "output_type": "execute_result"
    }
   ],
   "source": [
    "d = input().split()\n",
    "len(d) - len(set(d))"
   ]
  },
  {
   "cell_type": "markdown",
   "id": "9f0bbbd4",
   "metadata": {},
   "source": [
    "### Города\n",
    "\n",
    "Тимур и Руслан играют в игру города. Они очень любят эту игру и знают много городов, особенно Тимур, однако к концу игры ввиду своего возраста забывают, какие города уже называли.\n",
    "\n",
    "Напишите программу, считывающую информацию об игре и сообщающую ребятам, что очередной город назван повторно."
   ]
  },
  {
   "cell_type": "code",
   "execution_count": 11,
   "id": "42657dbd",
   "metadata": {
    "ExecuteTime": {
     "end_time": "2022-07-18T11:24:52.933073Z",
     "start_time": "2022-07-18T11:24:30.529184Z"
    }
   },
   "outputs": [
    {
     "name": "stdout",
     "output_type": "stream",
     "text": [
      "Каир\n",
      "Рим\n",
      "Москва\n",
      "Агра\n",
      "OK\n"
     ]
    }
   ],
   "source": [
    "def sol(n):\n",
    "    towns = [input() for _ in range(n)]\n",
    "    print('REPEAT' if input() in set(towns) else 'OK')\n",
    "\n",
    "\n",
    "sol(3)"
   ]
  },
  {
   "cell_type": "markdown",
   "id": "a898f235",
   "metadata": {},
   "source": [
    "### Книги на прочтение\n",
    "\n",
    "Руслан получил в конце учебного года список литературы на лето. Теперь ему надо выяснить, какие книги из этого списка у него есть. У Руслана на компьютере в текстовом файле записаны все книги из его домашней библиотеки в случайном порядке.\n",
    "\n",
    "Напишите программу, определяющую для каждой книги из списка на прочтение, есть она у Руслана или нет."
   ]
  },
  {
   "cell_type": "code",
   "execution_count": 12,
   "id": "cd271034",
   "metadata": {
    "ExecuteTime": {
     "end_time": "2022-07-18T11:34:08.457452Z",
     "start_time": "2022-07-18T11:33:19.398825Z"
    }
   },
   "outputs": [
    {
     "name": "stdout",
     "output_type": "stream",
     "text": [
      "4\n",
      "4\n",
      "Хоббит\n",
      "Алиса в стране чудес\n",
      "Том Сойер\n",
      "Остров сокровищ\n",
      "Буратино\n",
      "Хоббит\n",
      "Остров сокровищ\n",
      "Война и мир\n",
      "NO\n",
      "YES\n",
      "YES\n",
      "NO\n"
     ]
    },
    {
     "data": {
      "text/plain": [
       "[None, None, None, None]"
      ]
     },
     "execution_count": 12,
     "metadata": {},
     "output_type": "execute_result"
    }
   ],
   "source": [
    "m, n = int(input()), int(input())\n",
    "hl = [input() for _ in range(m)]\n",
    "sl = [input() for _ in range(n)]\n",
    "[print('YES' if x in hl else 'NO') for x in sl];"
   ]
  },
  {
   "cell_type": "markdown",
   "id": "0244cf24",
   "metadata": {},
   "source": [
    "### Странное увлечение\n",
    "\n",
    "Как известно, математики странные люди. Не составляет исключения и Тимур — автор данного курса. Каждый день Тимур решает ровно две сложные математические задачи. Решая первую задачу, он записывает на первом листочке все числа, которые в ней встречаются. Далее он делает паузу и берется за вторую задачу. Затем записывает на втором листочке все числа, которые в ней встречаются. После этого он берет еще один листок и выписывает на него все совпадающие числа из первых двух листочков. Если такие числа есть, день удался, если общих чисел нет, Тимур считает день неудачным.\n",
    "\n",
    "Напишите программу, которая находит общие числа двух листочков или сообщает, что день не удался 😏"
   ]
  },
  {
   "cell_type": "code",
   "execution_count": 17,
   "id": "9240a3f8",
   "metadata": {
    "ExecuteTime": {
     "end_time": "2022-07-18T11:44:31.070277Z",
     "start_time": "2022-07-18T11:44:04.145959Z"
    }
   },
   "outputs": [
    {
     "name": "stdout",
     "output_type": "stream",
     "text": [
      "6 56 7 34 14\n",
      "675 45 246 2 1\n",
      "BAD DAY\n"
     ]
    }
   ],
   "source": [
    "a, b = [set(input().split()) for _ in 'ab']\n",
    "c = a & b\n",
    "print(*sorted(c, reverse=True, key=int) if c else ['BAD DAY'])"
   ]
  },
  {
   "cell_type": "markdown",
   "id": "875649b4",
   "metadata": {},
   "source": [
    "### Онлайн-школа BEEGEEK 1\n",
    "\n",
    "При приёме новых сотрудников в онлайн-школу BEEGEEK её руководитель тестирует не только профессиональные качества кандидата, но и его память.\n",
    "\n",
    "Кандидату показывают ненадолго несколько различных чисел, а затем кандидат должен их назвать. Причем неважно, в каком порядке он их вспоминает, и повторяется он или нет, главное он должен назвать все числа, не добавляя лишних.\n",
    "\n",
    "Напишите программу, определяющую, успешно ли прошел кандидат тестирование памяти."
   ]
  },
  {
   "cell_type": "code",
   "execution_count": 18,
   "id": "65308742",
   "metadata": {
    "ExecuteTime": {
     "end_time": "2022-07-18T11:46:19.713427Z",
     "start_time": "2022-07-18T11:46:08.306403Z"
    }
   },
   "outputs": [
    {
     "name": "stdout",
     "output_type": "stream",
     "text": [
      "1 2 3 4 8 5\n",
      "1 2 8 2 3 4 5 2\n",
      "YES\n"
     ]
    }
   ],
   "source": [
    "print('YES' if set(input().split()) == set(input().split()) else 'NO')"
   ]
  },
  {
   "cell_type": "markdown",
   "id": "a39147cd",
   "metadata": {},
   "source": [
    "### Онлайн-школа BEEGEEK 2\n",
    "\n",
    "Каждый ученик, обучающийся в онлайн-школе BEEGEEK изучает либо математику, либо информатику, либо оба эти предмета. У руководителя школы есть списки изучающих каждый предмет.\n",
    "\n",
    "Напишите программу, позволяющую руководителю выяснить, сколько учеников изучает только математику."
   ]
  },
  {
   "cell_type": "code",
   "execution_count": 20,
   "id": "eb4f5855",
   "metadata": {
    "ExecuteTime": {
     "end_time": "2022-07-18T11:55:33.118121Z",
     "start_time": "2022-07-18T11:53:13.054714Z"
    }
   },
   "outputs": [
    {
     "name": "stdout",
     "output_type": "stream",
     "text": [
      "2\n",
      "3\n",
      "Хохлов\n",
      "Фадеев\n",
      "Ершов\n",
      "Ушаков\n",
      "Хохлов\n",
      "1\n"
     ]
    }
   ],
   "source": [
    "m, n = [int(input()) for _ in 'mn']\n",
    "mat = set([input() for _ in range(m)])\n",
    "inf = set([input() for _ in range(n)])\n",
    "print(len(mat-inf))"
   ]
  },
  {
   "cell_type": "markdown",
   "id": "cb4bbfb5",
   "metadata": {},
   "source": [
    "### Онлайн-школа BEEGEEK 3\n",
    "\n",
    "Каждый ученик, обучающийся в онлайн-школе BEEGEEK изучает либо математику, либо информатику, либо оба этих предмета. У руководителя школы есть списки изучающих каждый предмет.\n",
    "\n",
    "Напишите программу, позволяющую руководителю выяснить, сколько учеников изучает только один предмет."
   ]
  },
  {
   "cell_type": "code",
   "execution_count": 22,
   "id": "a62fc092",
   "metadata": {
    "ExecuteTime": {
     "end_time": "2022-07-18T11:58:19.939056Z",
     "start_time": "2022-07-18T11:57:27.961001Z"
    }
   },
   "outputs": [
    {
     "name": "stdout",
     "output_type": "stream",
     "text": [
      "5\n",
      "4\n",
      "Демин\n",
      "Рыбаков\n",
      "Сафонов\n",
      "Игнатов\n",
      "Мухин\n",
      "Сафонов\n",
      "Игнатов\n",
      "Демин\n",
      "Рыбаков\n",
      "1\n"
     ]
    }
   ],
   "source": [
    "m, n = [int(input()) for _ in 'mn']\n",
    "mat = set([input() for _ in range(m)])\n",
    "inf = set([input() for _ in range(n)])\n",
    "print(len(mat ^ inf) or 'NO')"
   ]
  },
  {
   "cell_type": "markdown",
   "id": "f0d4df4b",
   "metadata": {},
   "source": [
    "### Онлайн-школа BEEGEEK 4\n",
    "\n",
    "Руководитель онлайн-школы BEEGEEK и его помощник составили списки учеников их школы.\n",
    "\n",
    "Напишите программу, которая выведет все фамилии учеников, которые вспомнили руководитель и его помощник."
   ]
  },
  {
   "cell_type": "code",
   "execution_count": 25,
   "id": "4d52470b",
   "metadata": {
    "ExecuteTime": {
     "end_time": "2022-07-18T12:09:08.388729Z",
     "start_time": "2022-07-18T12:08:56.915396Z"
    }
   },
   "outputs": [
    {
     "name": "stdout",
     "output_type": "stream",
     "text": [
      "Бобров Жданов Некрасов Блинов\n",
      "Блинов Жданов\n",
      "Блинов Бобров Жданов Некрасов\n"
     ]
    }
   ],
   "source": [
    "print(*sorted(set(input().split()).union(set(input().split()))))"
   ]
  },
  {
   "cell_type": "markdown",
   "id": "e26286b5",
   "metadata": {},
   "source": [
    "### Онлайн-школа BEEGEEK 5 🌶️\n",
    "\n",
    "Каждый ученик, обучающийся в онлайн-школе BEEGEEK изучает либо математику, либо информатику, либо оба этих предмета. У руководителя школы есть списки учеников, изучающих каждый предмет. Случайно списки всех учеников перемешались.\n",
    "\n",
    "Напишите программу, которая позволит руководителю выяснить, сколько учеников изучает только один предмет."
   ]
  },
  {
   "cell_type": "code",
   "execution_count": 26,
   "id": "23661124",
   "metadata": {
    "ExecuteTime": {
     "end_time": "2022-07-18T12:22:24.805909Z",
     "start_time": "2022-07-18T12:21:52.358680Z"
    }
   },
   "outputs": [
    {
     "name": "stdout",
     "output_type": "stream",
     "text": [
      "2\n",
      "3\n",
      "Хохлов\n",
      "Фадеев\n",
      "Ершов\n",
      "Ушаков\n",
      "Хохлов\n",
      "3\n"
     ]
    }
   ],
   "source": [
    "n = int(input()) + int(input())\n",
    "print(2 * len(set([input() for _ in range(n)])) - n or 'NO')"
   ]
  },
  {
   "cell_type": "markdown",
   "id": "5286a17a",
   "metadata": {},
   "source": [
    "### Онлайн-школа BEEGEEK 6 🌶️\n",
    "\n",
    "Руководителю онлайн-школы BEEGEEK захотелось узнать, кто из его учеников присутствовал на всех уроках с начала учебного года. Для каждого урока есть листок со списком присутствовавших учеников.\n",
    "\n",
    "Напишите программу, определяющую фамилии учеников, которые присутствовали на всех уроках."
   ]
  },
  {
   "cell_type": "code",
   "execution_count": 34,
   "id": "3c643531",
   "metadata": {
    "ExecuteTime": {
     "end_time": "2022-07-18T12:43:17.144736Z",
     "start_time": "2022-07-18T12:42:42.335202Z"
    }
   },
   "outputs": [
    {
     "name": "stdout",
     "output_type": "stream",
     "text": [
      "2\n",
      "4\n",
      "Черкасов\n",
      "Фокин\n",
      "Самойлов\n",
      "Устинов\n",
      "2\n",
      "Черкасов\n",
      "Устинов\n",
      "Устинов\n",
      "Черкасов\n"
     ]
    }
   ],
   "source": [
    "print(*sorted(set.intersection(*[{input() for _ in range(int(input()))} for x in range(int(input()))])), sep='\\n')"
   ]
  },
  {
   "cell_type": "markdown",
   "id": "3a626b2e",
   "metadata": {},
   "source": [
    "## Словари"
   ]
  },
  {
   "cell_type": "markdown",
   "id": "5d80c1c4",
   "metadata": {},
   "source": [
    "### выведите\n",
    "имена всех пользователей (в алфавитном порядке), чей номер оканчивается на 8."
   ]
  },
  {
   "cell_type": "code",
   "execution_count": 4,
   "id": "05474e7a",
   "metadata": {
    "ExecuteTime": {
     "end_time": "2022-07-19T12:02:47.100325Z",
     "start_time": "2022-07-19T12:02:47.091189Z"
    }
   },
   "outputs": [
    {
     "name": "stdout",
     "output_type": "stream",
     "text": [
      "Helga LJ Maria Riyad Ruslan\n"
     ]
    }
   ],
   "source": [
    "users = [{'name': 'Todd', 'phone': '551-1414', 'email': 'todd@gmail.com'},\n",
    "         {'name': 'Helga', 'phone': '555-1618', 'email': 'helga@mail.net'},\n",
    "         {'name': 'Olivia', 'phone': '449-3141', 'email': ''},\n",
    "         {'name': 'LJ', 'phone': '555-2718', 'email': 'lj@gmail.net'},\n",
    "         {'name': 'Ruslan', 'phone': '422-145-9098', 'email': 'rus-lan.cha@yandex.ru'},\n",
    "         {'name': 'John', 'phone': '233-421-32', 'email': ''},\n",
    "         {'name': 'Lara', 'phone': '+7998-676-2532', 'email': 'g.lara89@gmail.com'},\n",
    "         {'name': 'Alina', 'phone': '+7948-799-2434', 'email': 'ali.ch.b@gmail.com'},\n",
    "         {'name': 'Robert', 'phone': '420-2011', 'email': ''},\n",
    "         {'name': 'Riyad', 'phone': '128-8890-128', 'email': 'r.mahrez@mail.net'},\n",
    "         {'name': 'Khabib', 'phone': '+7995-600-9080', 'email': 'kh.nurmag@gmail.com'},\n",
    "         {'name': 'Olga', 'phone': '6449-314-1213', 'email': ''},\n",
    "         {'name': 'Roman', 'phone': '+7459-145-8059', 'email': 'roma988@mail.ru'},\n",
    "         {'name': 'Maria', 'phone': '12-129-3148', 'email': 'm.sharapova@gmail.com'},\n",
    "         {'name': 'Fedor', 'phone': '+7445-341-0545', 'email': ''},\n",
    "         {'name': 'Tim', 'phone': '242-449-3141', 'email': 'timm.ggg@yandex.ru'}]\n",
    "\n",
    "print(*sorted([u['name'] for u in users if u['phone'].endswith('8')]))"
   ]
  },
  {
   "cell_type": "markdown",
   "id": "62193038",
   "metadata": {},
   "source": [
    "### Строковое представление\n",
    "\n",
    "Напишите программу, которая будет превращать натуральное число в строку, заменяя все цифры в числе на слова:"
   ]
  },
  {
   "cell_type": "code",
   "execution_count": 8,
   "id": "53dfa924",
   "metadata": {
    "ExecuteTime": {
     "end_time": "2022-07-19T12:32:17.364858Z",
     "start_time": "2022-07-19T12:32:17.358841Z"
    }
   },
   "outputs": [
    {
     "name": "stdout",
     "output_type": "stream",
     "text": [
      "two three zero\n"
     ]
    }
   ],
   "source": [
    "my_dict = {\n",
    "    '0': 'zero',\n",
    "    '1': 'one',\n",
    "    '2': 'two',\n",
    "    '3': 'three',\n",
    "    '4': 'four',\n",
    "    '5': 'five',\n",
    "    '6': 'six',\n",
    "    '7': 'seven',\n",
    "    '8': 'eight',\n",
    "    '9': 'nine'\n",
    "}\n",
    "print(*[my_dict[i] for i in '230'])"
   ]
  },
  {
   "cell_type": "markdown",
   "id": "c429d835",
   "metadata": {},
   "source": [
    "### Информация об учебных курсах\n",
    "\n",
    "Напишите программу, которая по номеру курса выводит информацию о данном курсе. "
   ]
  },
  {
   "cell_type": "code",
   "execution_count": 11,
   "id": "42285694",
   "metadata": {
    "ExecuteTime": {
     "end_time": "2022-07-19T12:35:52.017737Z",
     "start_time": "2022-07-19T12:35:52.012624Z"
    }
   },
   "outputs": [
    {
     "name": "stdout",
     "output_type": "stream",
     "text": [
      "CS101: 3004, Хайнс, 8:00\n"
     ]
    }
   ],
   "source": [
    "d = {\n",
    "    'CS101': ['3004', 'Хайнс', '8:00'],\n",
    "    'CS102': ['4501', 'Альварадо', '9:00'],\n",
    "    'CS103': ['6755', 'Рич', '10:00'],\n",
    "    'NT110': ['1244', 'Берк', '11:00'],\n",
    "    'CM241': ['1411', 'Ли', '13:00']\n",
    "}\n",
    "key = 'CS101'\n",
    "print(f\"{key}: {', '.join(d[key])}\")"
   ]
  },
  {
   "cell_type": "markdown",
   "id": "cc68c1b5",
   "metadata": {},
   "source": [
    "### Набор сообщений\n",
    "\n",
    "На мобильных кнопочных телефонах текстовые сообщения можно отправлять с помощью цифровой клавиатуры. Поскольку с каждой клавишей связано несколько букв, для большинства букв требуется несколько нажатий клавиш. При однократном нажатии цифры генерируется первый символ, указанный для этой клавиши. Нажатие цифры 2,3,4,5 раз генерирует второй, третий, четвертый или пятый символ клавиши."
   ]
  },
  {
   "cell_type": "code",
   "execution_count": 19,
   "id": "3fd2a71a",
   "metadata": {
    "ExecuteTime": {
     "end_time": "2022-07-19T13:06:09.643780Z",
     "start_time": "2022-07-19T13:06:09.635342Z"
    }
   },
   "outputs": [
    {
     "data": {
      "text/plain": [
       "'4433555555666110966677755531111'"
      ]
     },
     "execution_count": 19,
     "metadata": {},
     "output_type": "execute_result"
    }
   ],
   "source": [
    "def sol(ss):\n",
    "    t9 = [' ', \".,?!:\", 'ABC', 'DEF', 'GHI', 'JKL', 'MNO', 'PQRS', 'TUV', 'WXYZ']\n",
    "    res = ''\n",
    "    for s in ss.upper():\n",
    "        for i in range(len(t9)):\n",
    "            if s in t9[i]:\n",
    "                res += str(i) * (t9[i].index(s) + 1)\n",
    "    return res\n",
    "\n",
    "\n",
    "sol('Hello, World!')"
   ]
  },
  {
   "cell_type": "markdown",
   "id": "cb5a35bd",
   "metadata": {},
   "source": [
    "### Код Морзе\n",
    "\n",
    "Код Морзе для представления цифр и букв использует тире и точки.\n",
    "Напишите программу для кодирования текстового сообщения в соответствии с кодом Морзе."
   ]
  },
  {
   "cell_type": "code",
   "execution_count": 28,
   "id": "9091c59b",
   "metadata": {
    "ExecuteTime": {
     "end_time": "2022-07-19T13:22:44.452597Z",
     "start_time": "2022-07-19T13:22:44.446577Z"
    }
   },
   "outputs": [
    {
     "name": "stdout",
     "output_type": "stream",
     "text": [
      "... --- ...\n"
     ]
    }
   ],
   "source": [
    "letters = 'ABCDEFGHIJKLMNOPQRSTUVWXYZ0123456789'\n",
    "morse = ['.-', '-...', '-.-.', '-..', '.', '..-.', '--.', '....', '..', '.---', '-.-', '.-..', '--', '-.', '---', '.--.', '--.-', '.-.', '...',\n",
    "         '-', '..-', '...-', '.--', '-..-', '-.--', '--..', '-----', '.----', '..---', '...--', '....-', '.....', '-....', '--...', '---..', '----.']\n",
    "\n",
    "t = dict(zip(letters, morse))\n",
    "\n",
    "print(*[t[s] for s in 'sos'.upper() if s in t])"
   ]
  },
  {
   "cell_type": "markdown",
   "id": "e9a8d3fc",
   "metadata": {},
   "source": [
    "### Дополните\n",
    "приведенный код так, чтобы он объединил содержимое двух словарей dict1 и dict2 по ключам, складывая значения по одному и тому же ключу, в случае, если ключ присутствует в обоих словарях. Результирующий словарь необходимо присвоить переменной result."
   ]
  },
  {
   "cell_type": "code",
   "execution_count": 6,
   "id": "b90b9421",
   "metadata": {
    "ExecuteTime": {
     "end_time": "2022-07-20T11:06:14.194441Z",
     "start_time": "2022-07-20T11:06:14.189081Z"
    }
   },
   "outputs": [
    {
     "name": "stdout",
     "output_type": "stream",
     "text": [
      "{'p': 123, 'm': 230, 'b': 400, 'c': 312, 'a': 400, 'q': 34, 'z': 999, 'd': 445, 'e': 98, 't': 853, 'w': 111, 'f': 90}\n"
     ]
    }
   ],
   "source": [
    "dict1 = {'a': 100, 'z': 333, 'b': 200, 'c': 300, 'd': 45, 'e': 98, 't': 76, 'q': 34, 'f': 90, 'm': 230}\n",
    "dict2 = {'a': 300, 'b': 200, 'd': 400, 't': 777, 'c': 12, 'p': 123, 'w': 111, 'z': 666}\n",
    "\n",
    "\n",
    "result = {k: dict1.get(k, 0) + dict2.get(k, 0) for k in set(dict1) | set(dict2)}\n",
    "\n",
    "print(result)"
   ]
  },
  {
   "cell_type": "markdown",
   "id": "966e0beb",
   "metadata": {},
   "source": [
    "### Дополните \n",
    "приведенный код, чтобы он вывел наиболее часто встречающееся слово строки s. Если таких слов несколько, должно быть выведено то, что меньше в лексикографическом порядке."
   ]
  },
  {
   "cell_type": "code",
   "execution_count": 32,
   "id": "8e3599e5",
   "metadata": {
    "ExecuteTime": {
     "end_time": "2022-07-20T12:11:33.568306Z",
     "start_time": "2022-07-20T12:11:33.559823Z"
    }
   },
   "outputs": [
    {
     "data": {
      "text/plain": [
       "'banana'"
      ]
     },
     "execution_count": 32,
     "metadata": {},
     "output_type": "execute_result"
    }
   ],
   "source": [
    "s = 'orange strawberry barley gooseberry apple apricot barley currant orange melon pomegranate banana banana orange barley apricot plum grapefruit banana quince strawberry barley grapefruit banana grapes melon strawberry apricot currant currant gooseberry raspberry apricot currant orange lime quince grapefruit barley banana melon pomegranate barley banana orange barley apricot plum banana quince lime grapefruit strawberry gooseberry apple barley apricot currant orange melon pomegranate banana banana orange apricot barley plum banana grapefruit banana quince currant orange melon pomegranate barley plum banana quince barley lime grapefruit pomegranate barley'\n",
    "d = {s.count(x): x for x in sorted(set(s.split()), reverse=True)}\n",
    "d[max(d)]"
   ]
  },
  {
   "cell_type": "markdown",
   "id": "873655e5",
   "metadata": {},
   "source": [
    "Вам доступен список pets, содержащий информацию о собаках и их владельцах.  Каждый элемент списка – это кортеж вида (кличка собаки, имя владельца, фамилия владельца, возраст владельца).\n",
    "\n",
    "Дополните приведенный код так, чтобы в переменной result хранился словарь, в котором для каждого владельца будут перечислены его собаки. Ключом словаря должен быть кортеж (имя, фамилия, возраст владельца), а значением – список кличек собак (сохранив исходный порядок следования)."
   ]
  },
  {
   "cell_type": "code",
   "execution_count": 37,
   "id": "35795b4a",
   "metadata": {
    "ExecuteTime": {
     "end_time": "2022-07-20T12:30:34.383643Z",
     "start_time": "2022-07-20T12:30:34.368541Z"
    }
   },
   "outputs": [
    {
     "data": {
      "text/plain": [
       "{('Parker', 'Wilson', 50): ['Hatiko'],\n",
       " ('Josh', 'King', 25): ['Rusty', 'Balto', 'Barry', 'Lassie'],\n",
       " ('John', 'Smith', 28): ['Fido'],\n",
       " ('Jake', 'Smirnoff', 18): ['Butch'],\n",
       " ('Emma', 'Wright', 18): ['Odi'],\n",
       " ('Hannah', 'Taylor', 40): ['Snape'],\n",
       " ('Martha', 'Robinson', 73): ['Horry', 'Chase'],\n",
       " ('Alex', 'Martinez', 65): ['Giro'],\n",
       " ('Simon', 'Nevel', 32): ['Zooma', 'Rocky'],\n",
       " ('Martha', 'Williams', 38): ['Ace']}"
      ]
     },
     "execution_count": 37,
     "metadata": {},
     "output_type": "execute_result"
    }
   ],
   "source": [
    "pets = [('Hatiko', 'Parker', 'Wilson', 50),\n",
    "        ('Rusty', 'Josh', 'King', 25),\n",
    "        ('Fido', 'John', 'Smith', 28),\n",
    "        ('Butch', 'Jake', 'Smirnoff', 18),\n",
    "        ('Odi', 'Emma', 'Wright', 18),\n",
    "        ('Balto', 'Josh', 'King', 25),\n",
    "        ('Barry', 'Josh', 'King', 25),\n",
    "        ('Snape', 'Hannah', 'Taylor', 40),\n",
    "        ('Horry', 'Martha', 'Robinson', 73),\n",
    "        ('Giro', 'Alex', 'Martinez', 65),\n",
    "        ('Zooma', 'Simon', 'Nevel', 32),\n",
    "        ('Lassie', 'Josh', 'King', 25),\n",
    "        ('Chase', 'Martha', 'Robinson', 73),\n",
    "        ('Ace', 'Martha', 'Williams', 38),\n",
    "        ('Rocky', 'Simon', 'Nevel', 32)]\n",
    "\n",
    "result = {}\n",
    "for pet, *owner in pets:\n",
    "    result.setdefault(tuple(owner), []).append(pet)\n",
    "result"
   ]
  },
  {
   "cell_type": "markdown",
   "id": "7d3b4759",
   "metadata": {},
   "source": [
    "### Самое редкое слово 🌶️\n",
    "\n",
    "На вход программе подается строка текста. Напишите программу, которая выводит слово, которое встречается реже всего, без учета регистра. Если таких слов несколько, выведите то, которое меньше в лексикографическом порядке."
   ]
  },
  {
   "cell_type": "code",
   "execution_count": 60,
   "id": "20b0a912",
   "metadata": {
    "ExecuteTime": {
     "end_time": "2022-07-20T12:49:30.374581Z",
     "start_time": "2022-07-20T12:49:30.367098Z"
    }
   },
   "outputs": [
    {
     "data": {
      "text/plain": [
       "'a'"
      ]
     },
     "execution_count": 60,
     "metadata": {},
     "output_type": "execute_result"
    }
   ],
   "source": [
    "import re\n",
    "s = 'I bought two books: a new book and an old book. The new book was more expensive than the old book.'\n",
    "ls = re.findall(r'\\b\\w+\\b', s.lower())\n",
    "d = {ls.count(x): x for x in sorted(set(ls), reverse=True)}\n",
    "d[min(d)]"
   ]
  },
  {
   "cell_type": "markdown",
   "id": "16c5d1b0",
   "metadata": {},
   "source": [
    "### Исправление дубликатов 🌶️\n",
    "\n",
    "На вход программе подается строка, содержащая строки-идентификаторы. Напишите программу, которая исправляет их так, чтобы в результирующей строке не было дубликатов. Для этого необходимо прибавлять к повторяющимся идентификаторам постфикс _n, где n – количество раз, сколько такой идентификатор уже встречался."
   ]
  },
  {
   "cell_type": "code",
   "execution_count": 64,
   "id": "62499b3d",
   "metadata": {
    "ExecuteTime": {
     "end_time": "2022-07-20T13:12:24.344138Z",
     "start_time": "2022-07-20T13:12:24.339614Z"
    }
   },
   "outputs": [
    {
     "name": "stdout",
     "output_type": "stream",
     "text": [
      "a b c a_1 a_2 d c_1 "
     ]
    }
   ],
   "source": [
    "s = 'a b c a a d c'.split()\n",
    "res = set()\n",
    "for a in s:\n",
    "    e, i = a, 1\n",
    "    while e in res:\n",
    "        e, i = f\"{a}_{i}\", i+1\n",
    "    res.add(e)\n",
    "    print(e, end=' ')"
   ]
  },
  {
   "cell_type": "markdown",
   "id": "91c2350b",
   "metadata": {},
   "source": [
    "### Словарь программиста\n",
    "\n",
    "Программисты, как вы уже знаете, постоянно учатся, а в общении между собой используют весьма специфический язык. Чтобы систематизировать ваш пополняющийся профессиональный лексикон, мы придумали эту задачу. Напишите программу создания небольшого словаря сленговых программерских выражений, чтобы она потом по запросу возвращала значения из этого словаря."
   ]
  },
  {
   "cell_type": "code",
   "execution_count": 113,
   "id": "304c18c1",
   "metadata": {
    "ExecuteTime": {
     "end_time": "2022-07-20T14:52:36.091041Z",
     "start_time": "2022-07-20T14:52:36.077387Z"
    }
   },
   "outputs": [
    {
     "name": "stdout",
     "output_type": "stream",
     "text": [
      "язык программирования Python\n",
      "Не найдено\n",
      "код, который нужен, чтобы исправить несовершенство ранее написанного кода\n"
     ]
    }
   ],
   "source": [
    "def translate():\n",
    "    d = {}\n",
    "    n = 5\n",
    "    words = [\n",
    "        \"Змея: язык программирования Python\",\n",
    "        \"Баг: от англ. bug — жучок, клоп, ошибка в программе\",\n",
    "        \"Конфа: конференция\",\n",
    "        \"Костыль: код, который нужен, чтобы исправить несовершенство ранее написанного кода\",\n",
    "        \"Бета: бета-версия, приложение на стадии публичного тестирования\"\n",
    "    ]\n",
    "    d = {k.lower(): v for _ in range(n) for k, v in [w.split(': ', 1) for w in words]}\n",
    "    return [d.get(w.lower(), 'Не найдено') for w in (\"Змея\", \"Жаба\", \"костыль\")]\n",
    "\n",
    "\n",
    "print(*translate(), sep='\\n')"
   ]
  },
  {
   "cell_type": "markdown",
   "id": "fc0295a8",
   "metadata": {},
   "source": [
    "### Анаграммы\n",
    "\n",
    "На вход программе подаются два предложения. Напишите программу, которая определяет, являются они анаграммами или нет. Ваша программа должна игнорировать регистр символов, знаки препинания и пробелы."
   ]
  },
  {
   "cell_type": "code",
   "execution_count": 21,
   "id": "052fbdf3",
   "metadata": {
    "ExecuteTime": {
     "end_time": "2022-07-21T10:51:43.977535Z",
     "start_time": "2022-07-21T10:51:43.972313Z"
    }
   },
   "outputs": [
    {
     "data": {
      "text/plain": [
       "'YES'"
      ]
     },
     "execution_count": 21,
     "metadata": {},
     "output_type": "execute_result"
    }
   ],
   "source": [
    "import re\n",
    "def sol():\n",
    "    a, b = [sorted(re.sub(r'[.,!?:;\\-\\s]+', '', s.lower())) for s in ['С мая весной', 'сам я не свой']]\n",
    "    return ('NO', 'YES')[a == b]\n",
    "\n",
    "\n",
    "sol()"
   ]
  },
  {
   "cell_type": "markdown",
   "id": "4596504a",
   "metadata": {},
   "source": [
    "### Словарь синонимов\n",
    "\n",
    "Вам дан словарь, состоящий из пар слов-синонимов. Повторяющихся слов в словаре нет. Напишите программу, которая для одного данного слова определяет его синоним."
   ]
  },
  {
   "cell_type": "code",
   "execution_count": 43,
   "id": "ae5c9dab",
   "metadata": {
    "ExecuteTime": {
     "end_time": "2022-07-21T11:13:26.428287Z",
     "start_time": "2022-07-21T11:13:26.420124Z"
    }
   },
   "outputs": [
    {
     "data": {
      "text/plain": [
       "'Beautiful'"
      ]
     },
     "execution_count": 43,
     "metadata": {},
     "output_type": "execute_result"
    }
   ],
   "source": [
    "def sol(s):\n",
    "    sinon = [\n",
    "        'Awful Terrible', 'Beautiful Pretty', 'Great Excellent',\n",
    "        'Generous Bountiful'\n",
    "    ]\n",
    "    d = dict([x.split() for x in sinon] + [(v, k) for k, v in [x.split() for x in sinon]])\n",
    "    return d[s]\n",
    "\n",
    "\n",
    "sol('Pretty')"
   ]
  },
  {
   "cell_type": "markdown",
   "id": "f28ac144",
   "metadata": {},
   "source": [
    "### Страны и города\n",
    "\n",
    "На вход программе подается список стран и городов каждой страны. Затем даны названия городов. Напишите программу, которая для каждого города выводит, в какой стране он находится.\n",
    "\n"
   ]
  },
  {
   "cell_type": "code",
   "execution_count": 53,
   "id": "53e88500",
   "metadata": {
    "ExecuteTime": {
     "end_time": "2022-07-21T12:02:38.005346Z",
     "start_time": "2022-07-21T12:01:38.181333Z"
    }
   },
   "outputs": [
    {
     "name": "stdout",
     "output_type": "stream",
     "text": [
      "2\n",
      "Германия Берлин Мюнхен Гамбург Дортмунд\n",
      "Нидерланды Амстердам Гаага Роттердам Алкмар\n",
      "4\n",
      "Амстердам\n",
      "Нидерланды\n",
      "Алкмар\n",
      "Нидерланды\n",
      "Гамбург\n",
      "Германия\n",
      "Гаага\n",
      "Нидерланды\n"
     ]
    }
   ],
   "source": [
    "countries = [dict.fromkeys(v, k) for k, *v in [input().split() for _ in range(int(input()))]]\n",
    "\n",
    "for i in range(int(input())):\n",
    "    k = input()\n",
    "    [print(c[k]) for c in countries if k in c]"
   ]
  },
  {
   "cell_type": "markdown",
   "id": "913c57d4",
   "metadata": {},
   "source": [
    "### Телефонная книга\n",
    "\n",
    "Тимур записал телефоны всех своих друзей, чтобы автоматизировать поиск нужного номера.\n",
    "\n",
    "У каждого из друзей Тимура может быть один или более телефонных номеров. Напишите программу, которая поможет Тимуру находить все номера определённого друга."
   ]
  },
  {
   "cell_type": "code",
   "execution_count": 56,
   "id": "35015ddb",
   "metadata": {
    "ExecuteTime": {
     "end_time": "2022-07-21T12:29:20.010369Z",
     "start_time": "2022-07-21T12:28:48.501365Z"
    }
   },
   "outputs": [
    {
     "name": "stdout",
     "output_type": "stream",
     "text": [
      "3\n",
      "79184219577 Женя\n",
      "79194249271 Руслан\n",
      "79281234567 Женя\n",
      "3\n",
      "Руслан\n",
      "79194249271\n",
      "женя\n",
      "79184219577 79281234567\n",
      "Рустам\n",
      "абонент не найден\n"
     ]
    }
   ],
   "source": [
    "def phonebook():\n",
    "    phonedict = {}\n",
    "    [phonedict.setdefault(v.lower(), []).append(k) for k, v in [input().split() for _ in range(int(input()))]]\n",
    "    for _ in range(int(input())):\n",
    "        print(*phonedict.get(input().lower(), ['абонент не найден']))\n",
    "\n",
    "\n",
    "phonebook()"
   ]
  },
  {
   "cell_type": "markdown",
   "id": "fc45cd12",
   "metadata": {},
   "source": [
    "### Секретное слово\n",
    "\n",
    "Напишите программу для расшифровки секретного слова методом частотного анализа."
   ]
  },
  {
   "cell_type": "code",
   "execution_count": 69,
   "id": "720dc12b",
   "metadata": {
    "ExecuteTime": {
     "end_time": "2022-07-21T13:59:30.096664Z",
     "start_time": "2022-07-21T13:59:30.091002Z"
    }
   },
   "outputs": [
    {
     "name": "stdout",
     "output_type": "stream",
     "text": [
      "ананас\n"
     ]
    }
   ],
   "source": [
    "def secret():\n",
    "    #     cipher = input()\n",
    "    #     d = {int(v):k for k,v in [input().split(': ') for _ in range(int(input()))]}\n",
    "    cipher = '*!*!*?'\n",
    "    n = 3\n",
    "    dl = ['а: 3', 'н: 2', 'с: 1']\n",
    "\n",
    "    d = {int(v): k for k, v in [l.split(': ') for l in dl]}\n",
    "    return [d[cipher.count(c)] for c in cipher]\n",
    "\n",
    "\n",
    "print(*secret(), sep='')"
   ]
  },
  {
   "cell_type": "markdown",
   "id": "e1ca5c44",
   "metadata": {},
   "source": [
    "Используя генератор, дополните приведенный код, чтобы получить словарь result , где ключом будет элемент списка numbers, а значением – отсортированный по возрастанию список всех его **делителей** начиная с 1."
   ]
  },
  {
   "cell_type": "code",
   "execution_count": 8,
   "id": "c3cfdf4c",
   "metadata": {
    "ExecuteTime": {
     "end_time": "2022-07-22T11:51:48.055222Z",
     "start_time": "2022-07-22T11:51:38.450000Z"
    }
   },
   "outputs": [
    {
     "name": "stdout",
     "output_type": "stream",
     "text": [
      "1.21 ms ± 202 µs per loop (mean ± std. dev. of 7 runs, 1,000 loops each)\n"
     ]
    }
   ],
   "source": [
    "%%timeit\n",
    "def sol():\n",
    "    numbers = [34, 10, 4, 6, 10, 23, 90, 100, 21, 35, 95, 1, 36, 38, 19, 1, 6, 87, 1000, 13456, 360]\n",
    "\n",
    "    return {k: [i for i in range(1, k+1) if k % i == 0] for k in numbers}\n",
    "\n",
    "\n",
    "sol()"
   ]
  },
  {
   "cell_type": "code",
   "execution_count": 9,
   "id": "678455d7",
   "metadata": {
    "ExecuteTime": {
     "end_time": "2022-07-22T11:52:03.866353Z",
     "start_time": "2022-07-22T11:51:58.702588Z"
    }
   },
   "outputs": [
    {
     "name": "stdout",
     "output_type": "stream",
     "text": [
      "624 µs ± 120 µs per loop (mean ± std. dev. of 7 runs, 1,000 loops each)\n"
     ]
    }
   ],
   "source": [
    "%%timeit\n",
    "def glozman_1():\n",
    "    numbers = [34, 10, 4, 6, 10, 23, 90, 100, 21, 35, 95, 1, 36, 38, 19, 1, 6, 87, 1000, 13456, 360]\n",
    "    return {n: [i for i in range(1, n // 2 + 1) if n % i == 0] + [n] for n in numbers}\n",
    "\n",
    "\n",
    "glozman_1()"
   ]
  },
  {
   "cell_type": "code",
   "execution_count": 10,
   "id": "302adc72",
   "metadata": {
    "ExecuteTime": {
     "end_time": "2022-07-22T11:52:23.538312Z",
     "start_time": "2022-07-22T11:52:18.313992Z"
    }
   },
   "outputs": [
    {
     "name": "stdout",
     "output_type": "stream",
     "text": [
      "66.8 µs ± 16.1 µs per loop (mean ± std. dev. of 7 runs, 10,000 loops each)\n"
     ]
    }
   ],
   "source": [
    "%%timeit\n",
    "from collections import deque\n",
    "def get_factors_fast(n):\n",
    "    nsqrt = n ** .5\n",
    "    factors = deque()\n",
    "    if nsqrt.is_integer():\n",
    "        factors.append(int(nsqrt))\n",
    "    for i in range(int(nsqrt) - nsqrt.is_integer(), 0, -1):\n",
    "        if n % i == 0:\n",
    "            factors.appendleft(i)\n",
    "            factors.append(n // i)\n",
    "    return list(factors)\n",
    "\n",
    "\n",
    "def glozman_2():\n",
    "    numbers = [34, 10, 4, 6, 10, 23, 90, 100, 21, 35, 95, 1, 36, 38, 19, 1, 6, 87, 1000, 13456, 360]\n",
    "    return {n: get_factors_fast(n) for n in numbers}\n",
    "\n",
    "\n",
    "glozman_2()"
   ]
  },
  {
   "cell_type": "markdown",
   "id": "b550ce9c",
   "metadata": {},
   "source": [
    "Список tuples содержит кортежи, состоящие из трех чисел.\n",
    "\n",
    "Дополните приведенный код, используя генератор, чтобы получить словарь result, в котором ключом является первый элемент каждого кортежа, а значением – **кортеж из оставшихся двух элементов**."
   ]
  },
  {
   "cell_type": "code",
   "execution_count": 15,
   "id": "e075f1f7",
   "metadata": {
    "ExecuteTime": {
     "end_time": "2022-07-22T12:24:41.844605Z",
     "start_time": "2022-07-22T12:24:41.833395Z"
    }
   },
   "outputs": [
    {
     "data": {
      "text/plain": [
       "{1: (2, 3),\n",
       " 4: (5, 6),\n",
       " 7: (8, 9),\n",
       " 10: (11, 12),\n",
       " 13: (14, 15),\n",
       " 16: (17, 18),\n",
       " 19: (20, 21),\n",
       " 22: (23, 24),\n",
       " 25: (26, 27),\n",
       " 28: (29, 30),\n",
       " 31: (32, 33),\n",
       " 34: (35, 36)}"
      ]
     },
     "execution_count": 15,
     "metadata": {},
     "output_type": "execute_result"
    }
   ],
   "source": [
    "def sol():\n",
    "    tuples = [(1, 2, 3), (4, 5, 6), (7, 8, 9), (10, 11, 12), (13, 14, 15), (16, 17, 18),\n",
    "              (19, 20, 21), (22, 23, 24), (25, 26, 27), (28, 29, 30), (31, 32, 33), (34, 35, 36)]\n",
    "    return {k: tuple(v) for k, *v in tuples}\n",
    "\n",
    "\n",
    "sol()"
   ]
  },
  {
   "cell_type": "markdown",
   "id": "84b248fe",
   "metadata": {},
   "source": [
    "Даны три списка student_ids, student_names, student_grades, содержащие информацию о студентах.\n",
    "\n",
    "Дополните приведенный код, используя генератор, так чтобы получить список result, содержащий вложенные словари в соответствии с образцом: **[{'S001': {'Camila Rodriguez': 86}}, {'S002': {'Juan Cruz': 98}},...]**."
   ]
  },
  {
   "cell_type": "code",
   "execution_count": 27,
   "id": "fd09cd43",
   "metadata": {
    "ExecuteTime": {
     "end_time": "2022-07-22T12:41:17.468234Z",
     "start_time": "2022-07-22T12:41:17.461067Z"
    }
   },
   "outputs": [
    {
     "data": {
      "text/plain": [
       "[{'S001': {'Camila Rodriguez': 86}},\n",
       " {'S002': {'Juan Cruz': 98}},\n",
       " {'S003': {'Dan Richards': 89}},\n",
       " {'S004': {'Sam Boyle': 92}},\n",
       " {'S005': {'Batista Cesare': 45}},\n",
       " {'S006': {'Francesco Totti': 67}},\n",
       " {'S007': {'Khalid Hussain': 89}},\n",
       " {'S008': {'Ethan Hawke': 90}},\n",
       " {'S009': {'David Bowman': 100}},\n",
       " {'S010': {'James Milner': 98}},\n",
       " {'S011': {'Michael Owen': 10}},\n",
       " {'S012': {'Gary Oldman': 96}},\n",
       " {'S013': {'Tom Hardy': 93}}]"
      ]
     },
     "execution_count": 27,
     "metadata": {},
     "output_type": "execute_result"
    }
   ],
   "source": [
    "def sol():\n",
    "    student_ids = ['S001', 'S002', 'S003', 'S004', 'S005', 'S006',\n",
    "                   'S007', 'S008', 'S009', 'S010', 'S011', 'S012', 'S013']\n",
    "    student_names = ['Camila Rodriguez', 'Juan Cruz', 'Dan Richards', 'Sam Boyle', 'Batista Cesare', 'Francesco Totti',\n",
    "                     'Khalid Hussain', 'Ethan Hawke', 'David Bowman', 'James Milner', 'Michael Owen', 'Gary Oldman', 'Tom Hardy']\n",
    "    student_grades = [86, 98, 89, 92, 45, 67, 89, 90, 100, 98, 10, 96, 93]\n",
    "\n",
    "    return [{i: {n: g}} for i, n, g in zip(student_ids, student_names, student_grades)]\n",
    "\n",
    "\n",
    "sol()"
   ]
  },
  {
   "cell_type": "markdown",
   "id": "6e26c37e",
   "metadata": {},
   "source": [
    "## Итоговая по словарям"
   ]
  },
  {
   "cell_type": "markdown",
   "id": "2f940a11",
   "metadata": {
    "ExecuteTime": {
     "end_time": "2022-07-28T10:30:27.711776Z",
     "start_time": "2022-07-28T10:30:27.707040Z"
    }
   },
   "source": [
    "Словарь emails содержит информацию об электронных адресах пользователей, сгруппированных по домену. Дополните приведенный код, чтобы он вывел все электронные адреса в алфавитном порядке, каждый на отдельной строке, в формате username@domain."
   ]
  },
  {
   "cell_type": "code",
   "execution_count": 16,
   "id": "f645adbb",
   "metadata": {
    "ExecuteTime": {
     "end_time": "2022-07-28T10:58:09.237497Z",
     "start_time": "2022-07-28T10:58:09.232999Z"
    }
   },
   "outputs": [
    {
     "name": "stdout",
     "output_type": "stream",
     "text": [
      "angel.down@mail.ru\n",
      "apple.fruit@msu.edu\n",
      "beegeek.school@msu.edu\n",
      "beegeek@msu.edu\n",
      "cream.soda@hse.edu\n",
      "google@yandex.ru\n",
      "joanne@mail.ru\n",
      "joseph@nosu.edu\n",
      "larisa.mamuk@nosu.edu\n",
      "ruslan.chaika@gmail.com\n",
      "rustam.mini@gmail.com\n",
      "stepik-best@gmail.com\n",
      "surface@yandex.ru\n",
      "svetlana.gaeva@nosu.edu\n",
      "the.fame.moster@mail.ru\n",
      "timyr@nosu.edu\n",
      "tomas-henders@hse.edu\n",
      "zivert@hse.edu\n"
     ]
    }
   ],
   "source": [
    "emails = {'nosu.edu': ['timyr', 'joseph', 'svetlana.gaeva', 'larisa.mamuk'],\n",
    "          'gmail.com': ['ruslan.chaika', 'rustam.mini', 'stepik-best'],\n",
    "          'msu.edu': ['apple.fruit', 'beegeek', 'beegeek.school'],\n",
    "          'yandex.ru': ['surface', 'google'],\n",
    "          'hse.edu': ['tomas-henders', 'cream.soda', 'zivert'],\n",
    "          'mail.ru': ['angel.down', 'joanne', 'the.fame.moster']}\n",
    "\n",
    "print(*sorted([f\"{x}@{k}\" for k, v in emails.items() for x in v]), sep='\\n')"
   ]
  },
  {
   "cell_type": "markdown",
   "id": "e69b724a",
   "metadata": {},
   "source": [
    "### Минутка генетики"
   ]
  },
  {
   "cell_type": "code",
   "execution_count": 17,
   "id": "61a80828",
   "metadata": {
    "ExecuteTime": {
     "end_time": "2022-07-28T11:01:59.173990Z",
     "start_time": "2022-07-28T11:01:59.169981Z"
    }
   },
   "outputs": [
    {
     "name": "stdout",
     "output_type": "stream",
     "text": [
      "UGAC\n"
     ]
    }
   ],
   "source": [
    "d = {'A': 'U', 'C': 'G', 'G': 'C', 'T': 'A'}\n",
    "print(*[d[i] for i in 'ACTG'], sep='')"
   ]
  },
  {
   "cell_type": "markdown",
   "id": "684af315",
   "metadata": {},
   "source": [
    "### Порядковый номер\n",
    "\n",
    "Дана строка текста на русском языке, состоящая из слов и символов пробела. Словом считается последовательность букв, слова разделены одним пробелом или несколькими.\n",
    "\n",
    "Напишите программу, определяющую для каждого слова порядковый номер его вхождения в текст именно в этой форме, с учетом регистра. Для первого вхождения слова программа выведет 1, для второго вхождения того же слова — 2 и т. д."
   ]
  },
  {
   "cell_type": "code",
   "execution_count": 49,
   "id": "76d47f6c",
   "metadata": {
    "ExecuteTime": {
     "end_time": "2022-07-28T11:35:17.054343Z",
     "start_time": "2022-07-28T11:35:17.049797Z"
    }
   },
   "outputs": [
    {
     "name": "stdout",
     "output_type": "stream",
     "text": [
      "1 1 2 1 1 2 1 2 3 1\n"
     ]
    }
   ],
   "source": [
    "def sol(ss):\n",
    "    ls = ss.split()\n",
    "    d = {}\n",
    "    res = []\n",
    "    for i in ls:\n",
    "        d[i] = d.get(i, 0) + 1\n",
    "        res.append(d[i])\n",
    "    return res\n",
    "\n",
    "\n",
    "print(*sol('прием Хьюстон Хьюстон как слышно прием меня слышно прием хьюстон'))"
   ]
  },
  {
   "cell_type": "markdown",
   "id": "b511902f",
   "metadata": {},
   "source": [
    "### Scrabble game\n",
    "\n",
    "В игре Scrabble каждая буква приносит определенное количество баллов. Общая стоимость слова – сумма баллов его букв. Чем реже буква встречается, тем больше она ценится"
   ]
  },
  {
   "cell_type": "code",
   "execution_count": 61,
   "id": "8a72180d",
   "metadata": {
    "ExecuteTime": {
     "end_time": "2022-07-28T11:46:47.194586Z",
     "start_time": "2022-07-28T11:46:47.188162Z"
    }
   },
   "outputs": [
    {
     "data": {
      "text/plain": [
       "15"
      ]
     },
     "execution_count": 61,
     "metadata": {},
     "output_type": "execute_result"
    }
   ],
   "source": [
    "def sol(ss):\n",
    "    d = {\n",
    "        1: \"AEILNORSTU\",\n",
    "        2: \"DG\",\n",
    "        3: \"BCMP\",\n",
    "        4: \"FHVWY\",\n",
    "        5: \"K\",\n",
    "        8: \"JX\",\n",
    "        10: \"QZ\"\n",
    "    }\n",
    "    return sum([k for s in ss for k, v in d.items() if s in v])\n",
    "\n",
    "\n",
    "sol('FRESHENER')"
   ]
  },
  {
   "cell_type": "markdown",
   "id": "c1a8c660",
   "metadata": {},
   "source": [
    "### Строка запроса\n"
   ]
  },
  {
   "cell_type": "code",
   "execution_count": 63,
   "id": "df663e3f",
   "metadata": {
    "ExecuteTime": {
     "end_time": "2022-07-28T11:52:20.144946Z",
     "start_time": "2022-07-28T11:52:20.140178Z"
    }
   },
   "outputs": [
    {
     "data": {
      "text/plain": [
       "'age=28&name=timur'"
      ]
     },
     "execution_count": 63,
     "metadata": {},
     "output_type": "execute_result"
    }
   ],
   "source": [
    "def build_query_string(params):\n",
    "    return '&'.join(sorted([f\"{k}={v}\" for k, v in params.items()]))\n",
    "\n",
    "\n",
    "build_query_string({'name': 'timur', 'age': 28})"
   ]
  },
  {
   "cell_type": "markdown",
   "id": "b3f21cbf",
   "metadata": {},
   "source": [
    "### Слияние словарей 🌶️\n",
    "\n",
    "Напишите функцию merge(), объединяющую словари в один общий. Функция должна принимать список словарей и возвращать словарь, каждый ключ которого содержит множество (тип данных set) уникальных значений собранных из всех словарей переданного списка."
   ]
  },
  {
   "cell_type": "code",
   "execution_count": 65,
   "id": "02026bc8",
   "metadata": {
    "ExecuteTime": {
     "end_time": "2022-07-28T11:56:57.556779Z",
     "start_time": "2022-07-28T11:56:57.550159Z"
    }
   },
   "outputs": [
    {
     "data": {
      "text/plain": [
       "{'a': {1, 5}, 'b': {2, 10, 17}, 'c': {50, 100}, 'd': {777}}"
      ]
     },
     "execution_count": 65,
     "metadata": {},
     "output_type": "execute_result"
    }
   ],
   "source": [
    "def merge(values):      # values - это список словарей\n",
    "    res = {}\n",
    "    for d in values:\n",
    "        for k, v in d.items():\n",
    "            res.setdefault(k, set()).add(v)\n",
    "    return res\n",
    "\n",
    "\n",
    "merge([{'a': 1, 'b': 2}, {'b': 10, 'c': 100}, {'a': 1, 'b': 17, 'c': 50}, {'a': 5, 'd': 777}])"
   ]
  },
  {
   "cell_type": "markdown",
   "id": "10618083",
   "metadata": {},
   "source": [
    "### Опасный вирус 😈\n",
    "\n",
    "В файловую систему компьютера, на котором развернута наша ❤️ платформа Stepik, проник опасный вирус и сломал контроль прав доступа к файлам. Говорят, вирус написал один из студентов курса Python для начинающих.\n",
    "\n",
    "Для каждого файла известно, с какими действиями можно к нему обращаться:\n",
    "\n",
    "    запись W (write, доступ на запись в файл);\n",
    "    чтение R (read, доступ на чтение из файла);\n",
    "    запуск X (execute, запуск на исполнение файла).\n",
    "\n",
    "Напишите программу для восстановления контроля прав доступа к файлам. Ваша программа для каждого запроса должна будет возвращать OK если выполняется допустимая операция, и Access denied, если операция недопустима."
   ]
  },
  {
   "cell_type": "code",
   "execution_count": 72,
   "id": "2b443504",
   "metadata": {
    "ExecuteTime": {
     "end_time": "2022-07-28T12:17:25.519761Z",
     "start_time": "2022-07-28T12:16:25.878774Z"
    }
   },
   "outputs": [
    {
     "name": "stdout",
     "output_type": "stream",
     "text": [
      "2\n",
      "my_pycode.exe W X\n",
      "log_n X W R\n",
      "2\n",
      "write my_pycode.exe\n",
      "OK\n",
      "write log_n\n",
      "OK\n"
     ]
    }
   ],
   "source": [
    "def sol():\n",
    "    t = {'execute': 'X', 'read': 'R', 'write': 'W'}\n",
    "    n = int(input())\n",
    "    files = {}\n",
    "    for i in range(n):\n",
    "        k, *v = input().split()\n",
    "        files[k] = v\n",
    "\n",
    "    m = int(input())\n",
    "    for i in range(m):\n",
    "        a, f = input().split()\n",
    "        print('OK' if t[a] in files[f] else 'Access denied')\n",
    "\n",
    "\n",
    "sol()"
   ]
  },
  {
   "cell_type": "markdown",
   "id": "85f4a696",
   "metadata": {},
   "source": [
    "### Покупки в интернет-магазине 🌶️\n",
    "\n",
    "Напишите программу для подсчета количества единиц каждого вида товара из приобретенных каждым покупателем интернет-магазина."
   ]
  },
  {
   "cell_type": "code",
   "execution_count": 82,
   "id": "481da195",
   "metadata": {
    "ExecuteTime": {
     "end_time": "2022-07-28T13:10:12.284420Z",
     "start_time": "2022-07-28T13:09:36.507244Z"
    }
   },
   "outputs": [
    {
     "name": "stdout",
     "output_type": "stream",
     "text": [
      "7\n",
      "Вячеслав Ручка 1\n",
      "Филипп Ручка 1\n",
      "Виктория Перо 3\n",
      "Вячеслав Линейка 4\n",
      "Виктория Тетрадь 7\n",
      "Вячеслав Ручка 29\n",
      "Филипп Циркуль 1\n",
      "Виктория:\n",
      "Перо 3\n",
      "Тетрадь 7\n",
      "Вячеслав:\n",
      "Линейка 4\n",
      "Ручка 30\n",
      "Филипп:\n",
      "Ручка 1\n",
      "Циркуль 1\n"
     ]
    }
   ],
   "source": [
    "def sol():\n",
    "    orders = {}\n",
    "    n = int(input())\n",
    "    for i in range(n):\n",
    "        n, t, c = input().split()\n",
    "        part = orders.setdefault(n, {})\n",
    "        orders[n][t] = part.get(t, 0) + int(c)\n",
    "\n",
    "    return orders\n",
    "\n",
    "\n",
    "for n, p in sorted(sol().items()):\n",
    "    print(f\"{n}:\")\n",
    "    for t in sorted(p.items()):\n",
    "        print(*t)"
   ]
  },
  {
   "cell_type": "markdown",
   "id": "b1adae66",
   "metadata": {},
   "source": [
    "## Random"
   ]
  },
  {
   "cell_type": "markdown",
   "id": "51bbf9aa",
   "metadata": {},
   "source": [
    "Напишите программу, которая с помощью модуля random генерирует случайный пароль. Программа принимает на вход длину пароля и выводит случайный пароль, содержащий только символы английского алфавита a..z, A..Z"
   ]
  },
  {
   "cell_type": "code",
   "execution_count": 85,
   "id": "3fedb692",
   "metadata": {
    "ExecuteTime": {
     "end_time": "2022-07-28T13:33:18.184343Z",
     "start_time": "2022-07-28T13:33:18.179953Z"
    }
   },
   "outputs": [
    {
     "name": "stdout",
     "output_type": "stream",
     "text": [
      "OZPXHWmMuqpSWlZ\n"
     ]
    }
   ],
   "source": [
    "import random\n",
    "\n",
    "length = 15    # длина пароля\n",
    "res = ''\n",
    "while len(res) < length:\n",
    "    s = random.randrange(65, 123)\n",
    "    if s not in range(91, 97):\n",
    "        res += chr(s)\n",
    "print(res)"
   ]
  },
  {
   "cell_type": "markdown",
   "id": "09822236",
   "metadata": {},
   "source": [
    "Лотерейный билет содержит 7 чисел из диапазона от 1 до 49 (включительно).\n",
    "\n",
    "Напишите программу, которая с помощью модуля random генерирует 7 различных случайных чисел для лотерейного билета. Программа должна вывести числа в порядке возрастания на одной строке через один символ пробела.\n",
    "\n",
    "**Примечание.** Убедитесь, что сгенерированные числа не содержат дубликатов."
   ]
  },
  {
   "cell_type": "code",
   "execution_count": 86,
   "id": "a36ff8b4",
   "metadata": {
    "ExecuteTime": {
     "end_time": "2022-07-28T13:40:53.486868Z",
     "start_time": "2022-07-28T13:40:53.483344Z"
    }
   },
   "outputs": [
    {
     "name": "stdout",
     "output_type": "stream",
     "text": [
      "3 4 5 12 16 19 30\n"
     ]
    }
   ],
   "source": [
    "import random\n",
    "res = set()\n",
    "while len(res) < 7:\n",
    "    res.add(random.randrange(1, 50))\n",
    "print(*sorted(res))"
   ]
  },
  {
   "cell_type": "markdown",
   "id": "ba872f2e",
   "metadata": {},
   "source": [
    "Напишите программу, которая с помощью модуля random генерирует 100 случайных номеров лотерейных билетов и выводит их каждый на отдельной строке. Обратите внимание, вы должны придерживаться следующих условий:\n",
    "\n",
    "- номер не может начинаться с нулей;\n",
    "- номер лотерейного билета должен состоять из 7 цифр;\n",
    "- все 100 лотерейных билетов должны быть различными.\n"
   ]
  },
  {
   "cell_type": "code",
   "execution_count": 4,
   "id": "4dd20d19",
   "metadata": {
    "ExecuteTime": {
     "end_time": "2022-08-01T11:12:01.601122Z",
     "start_time": "2022-08-01T11:12:01.597175Z"
    }
   },
   "outputs": [
    {
     "name": "stdout",
     "output_type": "stream",
     "text": [
      "1866108\n",
      "2562743\n",
      "8831414\n",
      "8716577\n",
      "2286390\n",
      "8330450\n",
      "6728043\n",
      "8588645\n",
      "8217678\n",
      "1014142\n"
     ]
    }
   ],
   "source": [
    "import random\n",
    "[print(random.randrange(10**6, 10**7)) for i in range(10)];"
   ]
  },
  {
   "cell_type": "markdown",
   "id": "5abe5cd0",
   "metadata": {},
   "source": [
    "### Бинго\n",
    "Для игры в бинго требуется карточка размером 5×5, содержащая различные (уникальные) целые числа от 1 до 75 (включительно), при этом центральная клетка является пустой (она заполняется числом 0)."
   ]
  },
  {
   "cell_type": "code",
   "execution_count": 14,
   "id": "81252ee2",
   "metadata": {
    "ExecuteTime": {
     "end_time": "2022-08-01T11:37:14.066616Z",
     "start_time": "2022-08-01T11:37:14.061242Z"
    }
   },
   "outputs": [
    {
     "name": "stdout",
     "output_type": "stream",
     "text": [
      "26 6 47 2 29\n",
      "50 65 32 46 20\n",
      "7 15 0 14 64\n",
      "43 19 5 30 18\n",
      "67 16 22 74 8\n"
     ]
    }
   ],
   "source": [
    "import random\n",
    "def sol():\n",
    "    n = 5\n",
    "    lst = random.sample(range(1, 76), n*n)\n",
    "    res = [lst[i*n:(i+1)*n] for i in range(n)]\n",
    "    res[n//2][n//2] = 0\n",
    "    return res\n",
    "\n",
    "\n",
    "[print(*r) for r in sol()];"
   ]
  },
  {
   "cell_type": "markdown",
   "id": "61f723d4",
   "metadata": {},
   "source": [
    "### Тайный друг 🌶️\n",
    "\n",
    "Напишите программу, которая случайным образом назначает каждому ученику его тайного друга, который будет вместе с ним решать задачи по программированию."
   ]
  },
  {
   "cell_type": "code",
   "execution_count": 42,
   "id": "d61c9353",
   "metadata": {
    "ExecuteTime": {
     "end_time": "2022-08-02T11:01:34.609526Z",
     "start_time": "2022-08-02T11:01:34.602181Z"
    }
   },
   "outputs": [
    {
     "data": {
      "text/plain": [
       "{'Светлана Зуева': 'Тагир Хан',\n",
       " 'Аркадий Белых': 'Глеб Анисимов',\n",
       " 'Борис Боков': 'Светлана Зуева',\n",
       " 'Тагир Хан': 'Борис Боков',\n",
       " 'Арина Приходько': 'Аркадий Белых',\n",
       " 'Глеб Анисимов': 'Владимир Смолов',\n",
       " 'Владимир Смолов': 'Арина Приходько'}"
      ]
     },
     "execution_count": 42,
     "metadata": {},
     "output_type": "execute_result"
    }
   ],
   "source": [
    "from random import choice\n",
    "def sol(n):\n",
    "    pupils = ['Светлана Зуева', 'Аркадий Белых', 'Борис Боков',\n",
    "              'Тагир Хан', 'Арина Приходько', 'Глеб Анисимов', 'Владимир Смолов']\n",
    "\n",
    "    d = {}\n",
    "    for p in pupils:\n",
    "        pair = choice(list(set(pupils).difference(d.values()).difference([p])))\n",
    "        while len(pupils) > 2 and d.get(pair, '') == p:\n",
    "            pair = choice(list(set(pupils).difference(d.values()).difference([p])))\n",
    "        d[p] = pair\n",
    "    return d\n",
    "\n",
    "\n",
    "sol(3)"
   ]
  },
  {
   "cell_type": "code",
   "execution_count": 40,
   "id": "a481947b",
   "metadata": {
    "ExecuteTime": {
     "end_time": "2022-08-02T10:47:03.041218Z",
     "start_time": "2022-08-02T10:47:03.031730Z"
    }
   },
   "outputs": [
    {
     "data": {
      "text/plain": [
       "{'Светлана Зуева': 'Арина Приходько',\n",
       " 'Аркадий Белых': 'Глеб Анисимов',\n",
       " 'Борис Боков': 'Аркадий Белых',\n",
       " 'Тагир Хан': 'Светлана Зуева',\n",
       " 'Арина Приходько': 'Борис Боков',\n",
       " 'Глеб Анисимов': 'Владимир Смолов',\n",
       " 'Владимир Смолов': 'Тагир Хан'}"
      ]
     },
     "execution_count": 40,
     "metadata": {},
     "output_type": "execute_result"
    }
   ],
   "source": [
    "from random import choice\n",
    "def sol(n):\n",
    "    pupils = ['Светлана Зуева', 'Аркадий Белых', 'Борис Боков',\n",
    "              'Тагир Хан', 'Арина Приходько', 'Глеб Анисимов', 'Владимир Смолов']\n",
    "\n",
    "    d = {}\n",
    "    for p in pupils:\n",
    "        names = set(pupils).difference(d.values()).difference([p])\n",
    "        if len(names) > 0:\n",
    "            pair = choice(list(names))\n",
    "        else:\n",
    "            pupil, pair = d.popitem()\n",
    "            d[pupil] = p\n",
    "        d[p] = pair\n",
    "    return d\n",
    "\n",
    "\n",
    "sol(3)"
   ]
  },
  {
   "cell_type": "code",
   "execution_count": 41,
   "id": "4af204e6",
   "metadata": {
    "ExecuteTime": {
     "end_time": "2022-08-02T11:01:26.060859Z",
     "start_time": "2022-08-02T11:01:26.052234Z"
    }
   },
   "outputs": [
    {
     "name": "stdout",
     "output_type": "stream",
     "text": [
      "Светлана Зуева - Владимир Смолов\n",
      "Аркадий Белых - Борис Боков\n",
      "Борис Боков - Арина Приходько\n",
      "Тагир Хан - Глеб Анисимов\n",
      "Арина Приходько - Тагир Хан\n",
      "Глеб Анисимов - Светлана Зуева\n",
      "Владимир Смолов - Аркадий Белых\n"
     ]
    }
   ],
   "source": [
    "from random import shuffle\n",
    "def sol(n):\n",
    "    pupils = ['Светлана Зуева', 'Аркадий Белых', 'Борис Боков',\n",
    "              'Тагир Хан', 'Арина Приходько', 'Глеб Анисимов', 'Владимир Смолов']\n",
    "    friends = pupils.copy()\n",
    "    while not all([a != b for a, b in zip(pupils, friends)]):\n",
    "        shuffle(friends)\n",
    "\n",
    "    [print(f\"{a} - {b}\") for a, b in zip(pupils, friends)]\n",
    "\n",
    "\n",
    "sol(3)"
   ]
  },
  {
   "cell_type": "markdown",
   "id": "73102665",
   "metadata": {},
   "source": [
    "### Генератор паролей 1\n",
    "\n",
    "Напишите программу, которая с помощью модуля random генерирует n паролей длиной m символов, состоящих из строчных и прописных английских букв и цифр, кроме тех, которые легко перепутать между собой:"
   ]
  },
  {
   "cell_type": "code",
   "execution_count": 47,
   "id": "abea3ed6",
   "metadata": {
    "ExecuteTime": {
     "end_time": "2022-08-02T11:15:04.283835Z",
     "start_time": "2022-08-02T11:15:04.278605Z"
    }
   },
   "outputs": [
    {
     "name": "stdout",
     "output_type": "stream",
     "text": [
      "NQzvXA3zdu\n",
      "UqA2jgVX8H\n",
      "ziWFNj5rpx\n",
      "rQbHL778aq\n",
      "AJDUZMYmje\n",
      "zCgK5PJtCE\n",
      "ycABqYTAwq\n",
      "4WECA6Vzzt\n",
      "xZnNpWEBnw\n",
      "g3QKgJMYgT\n"
     ]
    }
   ],
   "source": [
    "import random\n",
    "import string\n",
    "def generate_password(length):\n",
    "    chset = set(string.digits + string.ascii_letters).difference('lI1oO0')\n",
    "    return ''.join(random.choices(list(chset), k=length))\n",
    "\n",
    "def generate_passwords(count, length):\n",
    "    return [generate_password(length) for _ in range(count)]\n",
    "\n",
    "\n",
    "print(*generate_passwords(10, 10), sep='\\n')"
   ]
  },
  {
   "cell_type": "markdown",
   "id": "b48c9d44",
   "metadata": {},
   "source": [
    "### Генератор паролей 2 🌶️\n",
    "\n",
    "Напишите программу, которая с помощью модуля random генерирует n паролей длиной m символов, состоящих из строчных и прописных английских букв и цифр, кроме тех, которые легко перепутать между собой:\n",
    "\n",
    "**Дополнительное условие:** в каждом пароле обязательно должна присутствовать хотя бы одна цифра и как минимум по одной букве в верхнем и нижнем регистре."
   ]
  },
  {
   "cell_type": "code",
   "execution_count": 55,
   "id": "d28c572a",
   "metadata": {
    "ExecuteTime": {
     "end_time": "2022-08-02T11:57:06.995126Z",
     "start_time": "2022-08-02T11:57:06.985033Z"
    }
   },
   "outputs": [
    {
     "name": "stdout",
     "output_type": "stream",
     "text": [
      "aNx6\n",
      "pY3T\n",
      "gEP5\n",
      "N27p\n",
      "2QNu\n",
      "6kJH\n",
      "3Ju9\n",
      "cLi7\n",
      "J6iX\n",
      "P4rS\n"
     ]
    }
   ],
   "source": [
    "from random import choices, shuffle\n",
    "from string import digits, ascii_lowercase, ascii_uppercase\n",
    "def generate_password(length):\n",
    "    a = list(set(digits).difference('01'))\n",
    "    b = list(set(ascii_lowercase).difference('lo'))\n",
    "    c = list(set(ascii_uppercase).difference('IO'))\n",
    "    res = choices(a+b+c, k=length-3) + choices(a, k=1) + choices(b, k=1) + choices(c, k=1)\n",
    "    shuffle(res)\n",
    "    return ''.join(res)\n",
    "\n",
    "def generate_passwords(count, length):\n",
    "    return [generate_password(length) for _ in range(count)]\n",
    "\n",
    "\n",
    "print(*generate_passwords(10, 4), sep='\\n')"
   ]
  },
  {
   "cell_type": "markdown",
   "id": "827d5bae",
   "metadata": {},
   "source": [
    "## Метод Монте-Карло"
   ]
  },
  {
   "cell_type": "markdown",
   "id": "18174544",
   "metadata": {},
   "source": [
    "Напишите программу, которая при помощи метода Монте-Карло вычисляет площадь фигуры, задаваемой с помощью системы неравенств:\n",
    "\n",
    "$$\\left\\{\n",
    "\\begin{array}-2\\le x \\le 2\\\\\n",
    "-2\\le y \\le 2\\\\\n",
    "x^3+y^4 + 2 \\ge 0\\\\\n",
    "3x+y^2 \\le 2\\end{array}\n",
    "\\right.\n",
    "$$"
   ]
  },
  {
   "cell_type": "code",
   "execution_count": 66,
   "id": "746f4335",
   "metadata": {
    "ExecuteTime": {
     "end_time": "2022-08-02T13:01:44.695347Z",
     "start_time": "2022-08-02T13:01:43.683410Z"
    }
   },
   "outputs": [
    {
     "data": {
      "text/plain": [
       "7.14072"
      ]
     },
     "execution_count": 66,
     "metadata": {},
     "output_type": "execute_result"
    }
   ],
   "source": [
    "from random import uniform\n",
    "def square():\n",
    "    n, k, s0 = 10**6, 0, 4*4\n",
    "    for _ in range(n):\n",
    "        x, y = uniform(-2, 2), uniform(-2, 2)\n",
    "        k += (x**3 + y**4 > -2) and (3*x + y**2 < 2)\n",
    "    return s0*k / n\n",
    "\n",
    "\n",
    "square()"
   ]
  },
  {
   "cell_type": "markdown",
   "id": "f703abda",
   "metadata": {},
   "source": [
    "Напишите программу, которая при помощи метода Монте-Карло определяет приближённое значение числа π."
   ]
  },
  {
   "cell_type": "code",
   "execution_count": 86,
   "id": "8f1f021a",
   "metadata": {
    "ExecuteTime": {
     "end_time": "2022-08-02T13:45:21.751959Z",
     "start_time": "2022-08-02T13:45:21.574922Z"
    }
   },
   "outputs": [
    {
     "data": {
      "image/png": "[encoded data removed]",
      "text/plain": [
       "<Figure size 432x288 with 1 Axes>"
      ]
     },
     "metadata": {
      "needs_background": "light"
     },
     "output_type": "display_data"
    }
   ],
   "source": [
    "import numpy as np\n",
    "import matplotlib.pyplot as plt\n",
    "\n",
    "n = 10**3\n",
    "x = 1-2*np.random.random(n)\n",
    "y = 1-2*np.random.random(n)\n",
    "insideX, insideY = x[(x**2+y**2) < 1], y[(x**2+y**2) < 1]\n",
    "outsideX, outsideY = x[(x**2+y**2) > 1], y[(x**2+y**2) > 1]\n",
    "\n",
    "fig, ax = plt.subplots(1)\n",
    "ax.scatter(insideX, insideY, c='b', alpha=0.5, edgecolor=None)\n",
    "ax.scatter(outsideX, outsideY, c='r', alpha=0.5, edgecolor=None)\n",
    "ax.set_aspect('equal')"
   ]
  },
  {
   "cell_type": "code",
   "execution_count": 116,
   "id": "c4c1c447",
   "metadata": {
    "ExecuteTime": {
     "end_time": "2022-08-02T14:18:50.578612Z",
     "start_time": "2022-08-02T14:18:49.891669Z"
    }
   },
   "outputs": [
    {
     "data": {
      "text/plain": [
       "3.142544"
      ]
     },
     "execution_count": 116,
     "metadata": {},
     "output_type": "execute_result"
    }
   ],
   "source": [
    "from random import uniform\n",
    "import numpy as np\n",
    "def cickle():\n",
    "    n, k, s0 = 10**6, 0, 4\n",
    "    for _ in range(n):\n",
    "        x, y = uniform(-1, 1), uniform(-1, 1)\n",
    "        k += x*x + y*y < 1\n",
    "    return s0*k / n\n",
    "\n",
    "\n",
    "cickle()"
   ]
  },
  {
   "cell_type": "markdown",
   "id": "416db3ba",
   "metadata": {},
   "source": [
    "## Decimal"
   ]
  },
  {
   "cell_type": "markdown",
   "id": "75154c9e",
   "metadata": {
    "ExecuteTime": {
     "end_time": "2022-08-03T11:23:05.160817Z",
     "start_time": "2022-08-03T11:23:05.157099Z"
    }
   },
   "source": [
    "Decimal числа, разделенные символом пробела, хранятся в строковой переменной s. Дополните приведенный код, чтобы он вывел сумму наибольшего и наименьшего Decimal числа."
   ]
  },
  {
   "cell_type": "code",
   "execution_count": 3,
   "id": "593c5503",
   "metadata": {
    "ExecuteTime": {
     "end_time": "2022-08-03T11:30:23.745018Z",
     "start_time": "2022-08-03T11:30:23.739739Z"
    }
   },
   "outputs": [
    {
     "name": "stdout",
     "output_type": "stream",
     "text": [
      "10.00\n"
     ]
    }
   ],
   "source": [
    "from decimal import Decimal as D\n",
    "s = '0.77 4.03 9.06 3.80 7.08 5.88 0.23 4.65 2.79 0.90 4.23 2.15 3.24 8.57 0.10 8.57 1.49 5.64 3.63 8.36 1.56 6.67 1.46 5.26 4.83 7.23 1.22 1.02 7.82 9.97 5.40 9.79 9.82 2.78 2.96 0.07 1.72 7.24 7.84 9.23 1.71 6.24 5.78 5.37 0.03 9.60 8.86 2.73 5.83 6.50'\n",
    "sa = sorted([D(x) for x in s.split()])\n",
    "print(sa[0]+sa[~0])"
   ]
  },
  {
   "cell_type": "markdown",
   "id": "868e0c40",
   "metadata": {},
   "source": [
    "Decimal числа, разделенные символом пробела, хранятся в строковой переменной s. Дополните приведенный код, чтобы он вывел на первой строке сумму всех чисел, а на второй строке 555 самых больших чисел в порядке убывания, разделенных символом пробела."
   ]
  },
  {
   "cell_type": "code",
   "execution_count": 6,
   "id": "8511dd92",
   "metadata": {
    "ExecuteTime": {
     "end_time": "2022-08-03T11:35:30.858308Z",
     "start_time": "2022-08-03T11:35:30.854127Z"
    }
   },
   "outputs": [
    {
     "name": "stdout",
     "output_type": "stream",
     "text": [
      "279.12\n",
      "9.85 9.74 9.73 9.60 9.36\n"
     ]
    }
   ],
   "source": [
    "from decimal import Decimal as D\n",
    "s = '9.73 8.84 8.92 9.60 9.32 8.97 8.53 1.26 6.62 9.85 1.85 1.80 0.83 6.75 9.74 9.11 9.14 5.03 5.03 1.34 3.52 8.09 7.89 8.24 8.23 5.22 0.30 2.59 1.25 6.24 2.14 7.54 5.72 2.75 2.32 2.69 9.32 8.11 4.53 0.80 0.08 9.36 5.22 4.08 3.86 5.56 1.43 8.36 6.29 5.13'\n",
    "sa = sorted([D(x) for x in s.split()], reverse=True)\n",
    "print(sum(sa))\n",
    "print(*sa[:5])"
   ]
  },
  {
   "cell_type": "markdown",
   "id": "2c6de662",
   "metadata": {},
   "source": [
    "Дополните приведенный код, чтобы он вывел сумму наибольшей и наименьшей цифры Decimal числа."
   ]
  },
  {
   "cell_type": "code",
   "execution_count": 23,
   "id": "b39d02a0",
   "metadata": {
    "ExecuteTime": {
     "end_time": "2022-08-03T11:56:11.993470Z",
     "start_time": "2022-08-03T11:56:11.988286Z"
    }
   },
   "outputs": [
    {
     "name": "stdout",
     "output_type": "stream",
     "text": [
      "9\n"
     ]
    }
   ],
   "source": [
    "from decimal import Decimal as D\n",
    "num = D('0.1244354689')\n",
    "t = num.as_tuple()\n",
    "digits = sorted(t.digits, reverse=True)\n",
    "if len(digits) == abs(t.exponent):\n",
    "    digits.append(0)\n",
    "\n",
    "print(digits[0] + digits[~0])"
   ]
  },
  {
   "cell_type": "markdown",
   "id": "b6a33ddf",
   "metadata": {},
   "source": [
    "### Математическое выражение\n",
    "\n",
    "На вход программе подается Decimal число d. Напишите программу, которая вычисляет значение выражения:\n",
    "$\n",
    "e^{d} + \\ln(d) + \\lg (d) + \\sqrt{d}$\n",
    "\n"
   ]
  },
  {
   "cell_type": "code",
   "execution_count": 25,
   "id": "26c10e5e",
   "metadata": {
    "ExecuteTime": {
     "end_time": "2022-08-03T12:03:15.464998Z",
     "start_time": "2022-08-03T12:03:15.460834Z"
    }
   },
   "outputs": [
    {
     "name": "stdout",
     "output_type": "stream",
     "text": [
      "4.189677737079134559844013562\n"
     ]
    }
   ],
   "source": [
    "from decimal import Decimal as D\n",
    "d = D('1.1')\n",
    "print(d.exp() + d.ln() + d.log10() + d.sqrt())"
   ]
  },
  {
   "cell_type": "markdown",
   "id": "788c2c8a",
   "metadata": {},
   "source": [
    "## Fractions"
   ]
  },
  {
   "cell_type": "markdown",
   "id": "7ed2f8c8",
   "metadata": {},
   "source": [
    "Десятичные числа хранятся в списке numbers в виде строк. Дополните приведенный код, чтобы он для каждого десятичного числа вывел его представление в виде обыкновенной дроби в формате:\n",
    "\n",
    "- десятичное число = обыкновенная дробь\n"
   ]
  },
  {
   "cell_type": "code",
   "execution_count": 28,
   "id": "477e6446",
   "metadata": {
    "ExecuteTime": {
     "end_time": "2022-08-03T12:30:39.355645Z",
     "start_time": "2022-08-03T12:30:39.351232Z"
    }
   },
   "outputs": [
    {
     "name": "stdout",
     "output_type": "stream",
     "text": [
      "6.34 = 317/50\n",
      "4.08 = 102/25\n",
      "3.04 = 76/25\n",
      "7.49 = 749/100\n",
      "4.45 = 89/20\n",
      "5.39 = 539/100\n",
      "7.82 = 391/50\n",
      "2.76 = 69/25\n",
      "0.71 = 71/100\n",
      "1.97 = 197/100\n",
      "2.54 = 127/50\n",
      "3.67 = 367/100\n",
      "0.14 = 7/50\n",
      "4.29 = 429/100\n",
      "1.84 = 46/25\n",
      "4.07 = 407/100\n",
      "7.26 = 363/50\n",
      "9.37 = 937/100\n"
     ]
    }
   ],
   "source": [
    "from fractions import Fraction as F\n",
    "\n",
    "numbers = [\n",
    "    '6.34', '4.08', '3.04', '7.49', '4.45', '5.39', '7.82', '2.76', '0.71',\n",
    "    '1.97', '2.54', '3.67', '0.14', '4.29', '1.84', '4.07', '7.26', '9.37'\n",
    "]\n",
    "print(*[f\"{x} = {F(x)}\" for x in numbers], sep='\\n')"
   ]
  },
  {
   "cell_type": "markdown",
   "id": "cabb5f1e",
   "metadata": {},
   "source": [
    "Десятичные числа, разделенные символом пробела, хранятся в строковой переменной s. Дополните приведенный код, чтобы он вывел сумму наибольшего и наименьшего числа в виде обыкновенной дроби."
   ]
  },
  {
   "cell_type": "code",
   "execution_count": 51,
   "id": "c61a58b7",
   "metadata": {
    "ExecuteTime": {
     "end_time": "2022-08-03T14:03:52.882974Z",
     "start_time": "2022-08-03T14:03:52.878683Z"
    }
   },
   "outputs": [
    {
     "name": "stdout",
     "output_type": "stream",
     "text": [
      "997021/100000\n"
     ]
    }
   ],
   "source": [
    "from fractions import Fraction as F\n",
    "s = '0.78 4.3 9.6 3.88 7.08 5.88 0.23 4.65 2.79 0.90 4.23 2.15 3.24 8.57 0.10 8.57 1.49 5.64 3.63 8.36 1.56 6.67 1.46 5.26 4.83 7.13 1.22 1.02 7.82 9.97 5.40 9.79 9.82 2.78 2.96 0.07 1.72 7.24 7.84 9.23 1.71 6.24 5.78 5.37 0.03 9.60 8.86 2.73 5.83 6.50 0.123 0.00021'\n",
    "sa = sorted([F(x) for x in s.split()])\n",
    "print(sa[0] + sa[~0])"
   ]
  },
  {
   "cell_type": "markdown",
   "id": "8500487a",
   "metadata": {},
   "source": [
    "## Сократите дробь"
   ]
  },
  {
   "cell_type": "code",
   "execution_count": 34,
   "id": "27af6ddb",
   "metadata": {
    "ExecuteTime": {
     "end_time": "2022-08-03T12:38:15.212397Z",
     "start_time": "2022-08-03T12:38:12.698546Z"
    }
   },
   "outputs": [
    {
     "name": "stdout",
     "output_type": "stream",
     "text": [
      "5\n",
      "10\n",
      "1/2\n"
     ]
    }
   ],
   "source": [
    "from fractions import Fraction as F\n",
    "print(F(int(input()), int(input())))"
   ]
  },
  {
   "cell_type": "markdown",
   "id": "c2955032",
   "metadata": {},
   "source": [
    "### Операции над дробями\n",
    "\n",
    "Даны две дроби в формате a/b. Напишите программу, которая вычисляет и выводит их сумму, разность, произведение и частное."
   ]
  },
  {
   "cell_type": "code",
   "execution_count": 49,
   "id": "89f4f32b",
   "metadata": {
    "ExecuteTime": {
     "end_time": "2022-08-03T13:52:16.217645Z",
     "start_time": "2022-08-03T13:52:11.567990Z"
    }
   },
   "outputs": [
    {
     "name": "stdout",
     "output_type": "stream",
     "text": [
      "1/2\n",
      "3/4\n",
      "1/2 + 3/4 = 5/4\n",
      "1/2 - 3/4 = -1/4\n",
      "1/2 * 3/4 = 3/8\n",
      "1/2 / 3/4 = 2/3\n"
     ]
    }
   ],
   "source": [
    "from fractions import Fraction as F\n",
    "a, b = [input() for _ in 'ab']\n",
    "\n",
    "print(f\"{a} + {b} = {F(a) + F(b)}\")\n",
    "print(f\"{a} - {b} = {F(a) - F(b)}\")\n",
    "print(f\"{a} * {b} = {F(a) * F(b)}\")\n",
    "print(f\"{a} / {b} = {F(a) / F(b)}\")"
   ]
  },
  {
   "cell_type": "markdown",
   "id": "a643d3ac",
   "metadata": {},
   "source": [
    "### Сумма дробей 1\n",
    "\n",
    "На вход программе подается натуральное число n. Напишите программу, которая вычисляет и выводит рациональное число, равное значению выражения: $$\\frac{1}{1^2}+\\frac{1}{2^2}+\\frac{1}{3^2}+...+\\frac{1}{n^2}$$"
   ]
  },
  {
   "cell_type": "code",
   "execution_count": 66,
   "id": "ad1f1b0c",
   "metadata": {
    "ExecuteTime": {
     "end_time": "2022-08-03T14:19:29.135503Z",
     "start_time": "2022-08-03T14:19:29.130294Z"
    }
   },
   "outputs": [
    {
     "name": "stdout",
     "output_type": "stream",
     "text": [
      "205/144\n"
     ]
    }
   ],
   "source": [
    "from fractions import Fraction as F\n",
    "n = 4\n",
    "print(sum(F(1, x*x) for x in range(1, n+1)))"
   ]
  },
  {
   "cell_type": "markdown",
   "id": "b6a80c45",
   "metadata": {},
   "source": [
    "### Сумма дробей 2"
   ]
  },
  {
   "cell_type": "code",
   "execution_count": 6,
   "id": "2210ebde",
   "metadata": {
    "ExecuteTime": {
     "end_time": "2022-08-04T10:37:28.086445Z",
     "start_time": "2022-08-04T10:37:28.082789Z"
    }
   },
   "outputs": [
    {
     "name": "stdout",
     "output_type": "stream",
     "text": [
      "41/24\n"
     ]
    }
   ],
   "source": [
    "from fractions import Fraction as F\n",
    "from math import factorial\n",
    "n = 4\n",
    "print(sum(F(1, factorial(x)) for x in range(1, n+1)))"
   ]
  },
  {
   "cell_type": "markdown",
   "id": "84e5aea0",
   "metadata": {},
   "source": [
    "### Юный математик 🌶️\n",
    "На вход программе подается натуральное число n. Напишите программу, которая находит наибольшую правильную несократимую дробь с суммой числителя и знаменателя равной n."
   ]
  },
  {
   "cell_type": "code",
   "execution_count": 40,
   "id": "d8c72c6a",
   "metadata": {
    "ExecuteTime": {
     "end_time": "2022-08-04T11:12:52.234356Z",
     "start_time": "2022-08-04T11:12:52.204276Z"
    }
   },
   "outputs": [
    {
     "name": "stdout",
     "output_type": "stream",
     "text": [
      "499/501\n"
     ]
    }
   ],
   "source": [
    "from fractions import Fraction as F\n",
    "from math import gcd\n",
    "def sol(n):\n",
    "    return max(F(x, n-x) for x in range(1, n//2+1) if gcd(x, n-x) == 1)\n",
    "\n",
    "\n",
    "print(sol(1000))"
   ]
  },
  {
   "cell_type": "code",
   "execution_count": 42,
   "id": "63d4a8fb",
   "metadata": {
    "ExecuteTime": {
     "end_time": "2022-08-04T11:13:26.363760Z",
     "start_time": "2022-08-04T11:13:26.358096Z"
    }
   },
   "outputs": [
    {
     "name": "stdout",
     "output_type": "stream",
     "text": [
      "499/501\n"
     ]
    }
   ],
   "source": [
    "# @Алексей Новиков\n",
    "\n",
    "n = 1000\n",
    "d = n // 2 + 1 + (n / 2 % 2 == 1)\n",
    "print(f'{n - d}/{d}')"
   ]
  },
  {
   "cell_type": "markdown",
   "id": "3a5701d1",
   "metadata": {},
   "source": [
    "### Упорядоченные дроби\n",
    "\n",
    "На вход программе подается натуральное число n. Напишите программу, которая выводит в порядке возрастания все несократимые дроби, заключённые между 0 и 1, знаменатель которых не превосходит n.\n",
    "\n"
   ]
  },
  {
   "cell_type": "code",
   "execution_count": 52,
   "id": "33c1bebb",
   "metadata": {
    "ExecuteTime": {
     "end_time": "2022-08-04T11:21:54.740064Z",
     "start_time": "2022-08-04T11:21:54.734098Z"
    }
   },
   "outputs": [
    {
     "name": "stdout",
     "output_type": "stream",
     "text": [
      "1/5 1/4 1/3 2/5 1/2 3/5 2/3 3/4 4/5\n"
     ]
    }
   ],
   "source": [
    "from fractions import Fraction as F\n",
    "from math import gcd\n",
    "def sol(n):\n",
    "\n",
    "    return sorted(F(x, y) for y in range(2, n+1) for x in range(1, y) if gcd(x, y) == 1)\n",
    "\n",
    "\n",
    "print(*sol(5))"
   ]
  },
  {
   "cell_type": "markdown",
   "id": "bae46b53",
   "metadata": {},
   "source": [
    "## Complex"
   ]
  },
  {
   "cell_type": "markdown",
   "id": "8a09487e",
   "metadata": {},
   "source": [
    "### Операции над комлексными числами\n",
    "\n",
    "Даны два комплексных числа. Напишите программу, которая вычисляет и выводит их сумму, разность и произведение."
   ]
  },
  {
   "cell_type": "code",
   "execution_count": 54,
   "id": "e72e8f27",
   "metadata": {
    "ExecuteTime": {
     "end_time": "2022-08-04T13:20:54.652946Z",
     "start_time": "2022-08-04T13:20:54.647364Z"
    }
   },
   "outputs": [
    {
     "name": "stdout",
     "output_type": "stream",
     "text": [
      "(1+2j) + (-2+4j) = (-1+6j)\n",
      "(1+2j) - (-2+4j) = (3-2j)\n",
      "(1+2j) * (-2+4j) = (-10+0j)\n"
     ]
    }
   ],
   "source": [
    "z1 = 1+2j\n",
    "z2 = -2+4j\n",
    "print(f\"{z1} + {z2} = {z1 + z2}\")\n",
    "print(f\"{z1} - {z2} = {z1 - z2}\")\n",
    "print(f\"{z1} * {z2} = {z1 * z2}\")"
   ]
  },
  {
   "cell_type": "markdown",
   "id": "0c76f082",
   "metadata": {},
   "source": [
    "Комплексные числа хранятся в списке numbers. Дополните приведенный код так, чтобы он вывел комплексное число с наибольшим модулем и сам модуль числа на отдельных строках."
   ]
  },
  {
   "cell_type": "code",
   "execution_count": 69,
   "id": "ed5b12b2",
   "metadata": {
    "ExecuteTime": {
     "end_time": "2022-08-04T13:37:42.160151Z",
     "start_time": "2022-08-04T13:37:42.151422Z"
    }
   },
   "outputs": [
    {
     "name": "stdout",
     "output_type": "stream",
     "text": [
      "(-20+15j)\n",
      "25.0\n"
     ]
    }
   ],
   "source": [
    "numbers = [3 + 4j, 3 + 1j, -7 + 3j, 4 + 8j, -8 + 10j, -3 + 2j, 3 - 2j, -9 + 9j, -\n",
    "           1 - 1j, -1 - 10j, -20 + 15j, -21 + 1j, 1j, -3 + 8j, 4 - 6j, 8 + 2j, 2 + 3j]\n",
    "print(*max(zip((abs(x) for x in numbers), numbers))[::-1], sep='\\n')"
   ]
  },
  {
   "cell_type": "markdown",
   "id": "e86f9cb9",
   "metadata": {},
   "source": [
    "### Сопряженные числа\n",
    "\n",
    "Дано натуральное число n и два комплексных числа z1, z2. Напишите программу, которая вычисляет и выводит значение выражения:\n",
    "$$z_1^n + z_2^n + \\bar{z_1}^n + \\bar{z_2}^{n+1}.$$\n"
   ]
  },
  {
   "cell_type": "code",
   "execution_count": 5,
   "id": "96ed507a",
   "metadata": {
    "ExecuteTime": {
     "end_time": "2022-08-04T13:48:51.594886Z",
     "start_time": "2022-08-04T13:48:34.793896Z"
    },
    "scrolled": true
   },
   "outputs": [
    {
     "name": "stdout",
     "output_type": "stream",
     "text": [
      "1\n",
      "2+3j\n",
      "1+4j\n"
     ]
    },
    {
     "data": {
      "text/plain": [
       "(-10-4j)"
      ]
     },
     "execution_count": 5,
     "metadata": {},
     "output_type": "execute_result"
    }
   ],
   "source": [
    "n, a, b = int(input()), *[complex(input()) for _ in 'ab']\n",
    "a**n + b**n + a.conjugate()**n + b.conjugate()**(n+1)"
   ]
  },
  {
   "cell_type": "markdown",
   "id": "9436a455",
   "metadata": {},
   "source": [
    "## Turtle"
   ]
  },
  {
   "cell_type": "code",
   "execution_count": 43,
   "id": "3c6c2777",
   "metadata": {
    "ExecuteTime": {
     "end_time": "2022-08-08T14:14:21.350935Z",
     "start_time": "2022-08-08T14:14:21.262757Z"
    }
   },
   "outputs": [
    {
     "ename": "TclError",
     "evalue": "invalid command name \".!canvas\"",
     "output_type": "error",
     "traceback": [
      "\u001b[0;31m---------------------------------------------------------------------------\u001b[0m",
      "\u001b[0;31mTclError\u001b[0m                                  Traceback (most recent call last)",
      "Input \u001b[0;32mIn [43]\u001b[0m, in \u001b[0;36m<cell line: 14>\u001b[0;34m()\u001b[0m\n\u001b[1;32m     11\u001b[0m         t\u001b[38;5;241m.\u001b[39mleft(\u001b[38;5;241m60\u001b[39m)\n\u001b[1;32m     12\u001b[0m         gexagon(s)\n\u001b[0;32m---> 14\u001b[0m \u001b[43msota\u001b[49m\u001b[43m(\u001b[49m\u001b[38;5;241;43m60\u001b[39;49m\u001b[43m)\u001b[49m\n\u001b[1;32m     15\u001b[0m t\u001b[38;5;241m.\u001b[39mdone()\n",
      "Input \u001b[0;32mIn [43]\u001b[0m, in \u001b[0;36msota\u001b[0;34m(s)\u001b[0m\n\u001b[1;32m      7\u001b[0m \u001b[38;5;28;01mdef\u001b[39;00m \u001b[38;5;21msota\u001b[39m(s):\n\u001b[1;32m      8\u001b[0m     \u001b[38;5;28;01mfor\u001b[39;00m a \u001b[38;5;129;01min\u001b[39;00m \u001b[38;5;28mrange\u001b[39m(\u001b[38;5;241m0\u001b[39m, \u001b[38;5;241m360\u001b[39m, \u001b[38;5;241m60\u001b[39m):\n\u001b[0;32m----> 9\u001b[0m         \u001b[43mt\u001b[49m\u001b[38;5;241;43m.\u001b[39;49m\u001b[43msetheading\u001b[49m\u001b[43m(\u001b[49m\u001b[38;5;241;43m-\u001b[39;49m\u001b[43ma\u001b[49m\u001b[43m)\u001b[49m\n\u001b[1;32m     10\u001b[0m         t\u001b[38;5;241m.\u001b[39mforward(s)\n\u001b[1;32m     11\u001b[0m         t\u001b[38;5;241m.\u001b[39mleft(\u001b[38;5;241m60\u001b[39m)\n",
      "File \u001b[0;32m<string>:8\u001b[0m, in \u001b[0;36msetheading\u001b[0;34m(to_angle)\u001b[0m\n",
      "File \u001b[0;32m/usr/lib/python3.8/turtle.py:1937\u001b[0m, in \u001b[0;36mTNavigator.setheading\u001b[0;34m(self, to_angle)\u001b[0m\n\u001b[1;32m   1935\u001b[0m full \u001b[38;5;241m=\u001b[39m \u001b[38;5;28mself\u001b[39m\u001b[38;5;241m.\u001b[39m_fullcircle\n\u001b[1;32m   1936\u001b[0m angle \u001b[38;5;241m=\u001b[39m (angle\u001b[38;5;241m+\u001b[39mfull\u001b[38;5;241m/\u001b[39m\u001b[38;5;241m2.\u001b[39m)\u001b[38;5;241m%\u001b[39mfull \u001b[38;5;241m-\u001b[39m full\u001b[38;5;241m/\u001b[39m\u001b[38;5;241m2.\u001b[39m\n\u001b[0;32m-> 1937\u001b[0m \u001b[38;5;28;43mself\u001b[39;49m\u001b[38;5;241;43m.\u001b[39;49m\u001b[43m_rotate\u001b[49m\u001b[43m(\u001b[49m\u001b[43mangle\u001b[49m\u001b[43m)\u001b[49m\n",
      "File \u001b[0;32m/usr/lib/python3.8/turtle.py:3277\u001b[0m, in \u001b[0;36mRawTurtle._rotate\u001b[0;34m(self, angle)\u001b[0m\n\u001b[1;32m   3275\u001b[0m     \u001b[38;5;28;01mfor\u001b[39;00m _ \u001b[38;5;129;01min\u001b[39;00m \u001b[38;5;28mrange\u001b[39m(steps):\n\u001b[1;32m   3276\u001b[0m         \u001b[38;5;28mself\u001b[39m\u001b[38;5;241m.\u001b[39m_orient \u001b[38;5;241m=\u001b[39m \u001b[38;5;28mself\u001b[39m\u001b[38;5;241m.\u001b[39m_orient\u001b[38;5;241m.\u001b[39mrotate(delta)\n\u001b[0;32m-> 3277\u001b[0m         \u001b[38;5;28;43mself\u001b[39;49m\u001b[38;5;241;43m.\u001b[39;49m\u001b[43m_update\u001b[49m\u001b[43m(\u001b[49m\u001b[43m)\u001b[49m\n\u001b[1;32m   3278\u001b[0m \u001b[38;5;28mself\u001b[39m\u001b[38;5;241m.\u001b[39m_orient \u001b[38;5;241m=\u001b[39m neworient\n\u001b[1;32m   3279\u001b[0m \u001b[38;5;28mself\u001b[39m\u001b[38;5;241m.\u001b[39m_update()\n",
      "File \u001b[0;32m/usr/lib/python3.8/turtle.py:2662\u001b[0m, in \u001b[0;36mRawTurtle._update\u001b[0;34m(self)\u001b[0m\n\u001b[1;32m   2660\u001b[0m \u001b[38;5;28;01melif\u001b[39;00m screen\u001b[38;5;241m.\u001b[39m_tracing \u001b[38;5;241m==\u001b[39m \u001b[38;5;241m1\u001b[39m:\n\u001b[1;32m   2661\u001b[0m     \u001b[38;5;28mself\u001b[39m\u001b[38;5;241m.\u001b[39m_update_data()\n\u001b[0;32m-> 2662\u001b[0m     \u001b[38;5;28;43mself\u001b[39;49m\u001b[38;5;241;43m.\u001b[39;49m\u001b[43m_drawturtle\u001b[49m\u001b[43m(\u001b[49m\u001b[43m)\u001b[49m\n\u001b[1;32m   2663\u001b[0m     screen\u001b[38;5;241m.\u001b[39m_update()                  \u001b[38;5;66;03m# TurtleScreenBase\u001b[39;00m\n\u001b[1;32m   2664\u001b[0m     screen\u001b[38;5;241m.\u001b[39m_delay(screen\u001b[38;5;241m.\u001b[39m_delayvalue) \u001b[38;5;66;03m# TurtleScreenBase\u001b[39;00m\n",
      "File \u001b[0;32m/usr/lib/python3.8/turtle.py:3011\u001b[0m, in \u001b[0;36mRawTurtle._drawturtle\u001b[0;34m(self)\u001b[0m\n\u001b[1;32m   3009\u001b[0m     shape \u001b[38;5;241m=\u001b[39m \u001b[38;5;28mself\u001b[39m\u001b[38;5;241m.\u001b[39m_polytrafo(\u001b[38;5;28mself\u001b[39m\u001b[38;5;241m.\u001b[39m_getshapepoly(tshape))\n\u001b[1;32m   3010\u001b[0m     fc, oc \u001b[38;5;241m=\u001b[39m \u001b[38;5;28mself\u001b[39m\u001b[38;5;241m.\u001b[39m_fillcolor, \u001b[38;5;28mself\u001b[39m\u001b[38;5;241m.\u001b[39m_pencolor\n\u001b[0;32m-> 3011\u001b[0m     \u001b[43mscreen\u001b[49m\u001b[38;5;241;43m.\u001b[39;49m\u001b[43m_drawpoly\u001b[49m\u001b[43m(\u001b[49m\u001b[43mtitem\u001b[49m\u001b[43m,\u001b[49m\u001b[43m \u001b[49m\u001b[43mshape\u001b[49m\u001b[43m,\u001b[49m\u001b[43m \u001b[49m\u001b[43mfill\u001b[49m\u001b[38;5;241;43m=\u001b[39;49m\u001b[43mfc\u001b[49m\u001b[43m,\u001b[49m\u001b[43m \u001b[49m\u001b[43moutline\u001b[49m\u001b[38;5;241;43m=\u001b[39;49m\u001b[43moc\u001b[49m\u001b[43m,\u001b[49m\n\u001b[1;32m   3012\u001b[0m \u001b[43m                                          \u001b[49m\u001b[43mwidth\u001b[49m\u001b[38;5;241;43m=\u001b[39;49m\u001b[43mw\u001b[49m\u001b[43m,\u001b[49m\u001b[43m \u001b[49m\u001b[43mtop\u001b[49m\u001b[38;5;241;43m=\u001b[39;49m\u001b[38;5;28;43;01mTrue\u001b[39;49;00m\u001b[43m)\u001b[49m\n\u001b[1;32m   3013\u001b[0m \u001b[38;5;28;01melif\u001b[39;00m ttype \u001b[38;5;241m==\u001b[39m \u001b[38;5;124m\"\u001b[39m\u001b[38;5;124mimage\u001b[39m\u001b[38;5;124m\"\u001b[39m:\n\u001b[1;32m   3014\u001b[0m     screen\u001b[38;5;241m.\u001b[39m_drawimage(titem, \u001b[38;5;28mself\u001b[39m\u001b[38;5;241m.\u001b[39m_position, tshape)\n",
      "File \u001b[0;32m/usr/lib/python3.8/turtle.py:513\u001b[0m, in \u001b[0;36mTurtleScreenBase._drawpoly\u001b[0;34m(self, polyitem, coordlist, fill, outline, width, top)\u001b[0m\n\u001b[1;32m    511\u001b[0m     cl\u001b[38;5;241m.\u001b[39mappend(x \u001b[38;5;241m*\u001b[39m \u001b[38;5;28mself\u001b[39m\u001b[38;5;241m.\u001b[39mxscale)\n\u001b[1;32m    512\u001b[0m     cl\u001b[38;5;241m.\u001b[39mappend(\u001b[38;5;241m-\u001b[39my \u001b[38;5;241m*\u001b[39m \u001b[38;5;28mself\u001b[39m\u001b[38;5;241m.\u001b[39myscale)\n\u001b[0;32m--> 513\u001b[0m \u001b[38;5;28;43mself\u001b[39;49m\u001b[38;5;241;43m.\u001b[39;49m\u001b[43mcv\u001b[49m\u001b[38;5;241;43m.\u001b[39;49m\u001b[43mcoords\u001b[49m\u001b[43m(\u001b[49m\u001b[43mpolyitem\u001b[49m\u001b[43m,\u001b[49m\u001b[43m \u001b[49m\u001b[38;5;241;43m*\u001b[39;49m\u001b[43mcl\u001b[49m\u001b[43m)\u001b[49m\n\u001b[1;32m    514\u001b[0m \u001b[38;5;28;01mif\u001b[39;00m fill \u001b[38;5;129;01mis\u001b[39;00m \u001b[38;5;129;01mnot\u001b[39;00m \u001b[38;5;28;01mNone\u001b[39;00m:\n\u001b[1;32m    515\u001b[0m     \u001b[38;5;28mself\u001b[39m\u001b[38;5;241m.\u001b[39mcv\u001b[38;5;241m.\u001b[39mitemconfigure(polyitem, fill\u001b[38;5;241m=\u001b[39mfill)\n",
      "File \u001b[0;32m<string>:1\u001b[0m, in \u001b[0;36mcoords\u001b[0;34m(self, *args, **kw)\u001b[0m\n",
      "File \u001b[0;32m/usr/lib/python3.8/tkinter/__init__.py:2766\u001b[0m, in \u001b[0;36mCanvas.coords\u001b[0;34m(self, *args)\u001b[0m\n\u001b[1;32m   2762\u001b[0m \u001b[38;5;124;03m\"\"\"Return a list of coordinates for the item given in ARGS.\"\"\"\u001b[39;00m\n\u001b[1;32m   2763\u001b[0m \u001b[38;5;66;03m# XXX Should use _flatten on args\u001b[39;00m\n\u001b[1;32m   2764\u001b[0m \u001b[38;5;28;01mreturn\u001b[39;00m [\u001b[38;5;28mself\u001b[39m\u001b[38;5;241m.\u001b[39mtk\u001b[38;5;241m.\u001b[39mgetdouble(x) \u001b[38;5;28;01mfor\u001b[39;00m x \u001b[38;5;129;01min\u001b[39;00m\n\u001b[1;32m   2765\u001b[0m                    \u001b[38;5;28mself\u001b[39m\u001b[38;5;241m.\u001b[39mtk\u001b[38;5;241m.\u001b[39msplitlist(\n\u001b[0;32m-> 2766\u001b[0m            \u001b[38;5;28;43mself\u001b[39;49m\u001b[38;5;241;43m.\u001b[39;49m\u001b[43mtk\u001b[49m\u001b[38;5;241;43m.\u001b[39;49m\u001b[43mcall\u001b[49m\u001b[43m(\u001b[49m\u001b[43m(\u001b[49m\u001b[38;5;28;43mself\u001b[39;49m\u001b[38;5;241;43m.\u001b[39;49m\u001b[43m_w\u001b[49m\u001b[43m,\u001b[49m\u001b[43m \u001b[49m\u001b[38;5;124;43m'\u001b[39;49m\u001b[38;5;124;43mcoords\u001b[39;49m\u001b[38;5;124;43m'\u001b[39;49m\u001b[43m)\u001b[49m\u001b[43m \u001b[49m\u001b[38;5;241;43m+\u001b[39;49m\u001b[43m \u001b[49m\u001b[43margs\u001b[49m\u001b[43m)\u001b[49m)]\n",
      "\u001b[0;31mTclError\u001b[0m: invalid command name \".!canvas\""
     ]
    }
   ],
   "source": [
    "import turtle as t\n",
    "def gexagon(s):\n",
    "    for _ in range(6):\n",
    "        t.forward(s)\n",
    "        t.left(60)\n",
    "\n",
    "def sota(s):\n",
    "    for a in range(0, 360, 60):\n",
    "        t.setheading(-a)\n",
    "        t.forward(s)\n",
    "        t.left(60)\n",
    "        gexagon(s)\n",
    "\n",
    "\n",
    "sota(60)\n",
    "t.done()"
   ]
  },
  {
   "cell_type": "code",
   "execution_count": 24,
   "id": "8ec01a86",
   "metadata": {
    "ExecuteTime": {
     "end_time": "2022-08-08T14:01:25.916315Z",
     "start_time": "2022-08-08T14:01:25.802073Z"
    }
   },
   "outputs": [
    {
     "ename": "TclError",
     "evalue": "invalid command name \".!canvas\"",
     "output_type": "error",
     "traceback": [
      "\u001b[0;31m---------------------------------------------------------------------------\u001b[0m",
      "\u001b[0;31mTclError\u001b[0m                                  Traceback (most recent call last)",
      "Input \u001b[0;32mIn [24]\u001b[0m, in \u001b[0;36m<cell line: 2>\u001b[0;34m()\u001b[0m\n\u001b[1;32m      1\u001b[0m \u001b[38;5;28;01mimport\u001b[39;00m \u001b[38;5;21;01mturtle\u001b[39;00m \u001b[38;5;28;01mas\u001b[39;00m \u001b[38;5;21;01mt\u001b[39;00m\n\u001b[0;32m----> 2\u001b[0m \u001b[43mt\u001b[49m\u001b[38;5;241;43m.\u001b[39;49m\u001b[43mspeed\u001b[49m\u001b[43m(\u001b[49m\u001b[38;5;241;43m5\u001b[39;49m\u001b[43m)\u001b[49m\n\u001b[1;32m      3\u001b[0m colours\u001b[38;5;241m=\u001b[39m[\u001b[38;5;124m\"\u001b[39m\u001b[38;5;124mred\u001b[39m\u001b[38;5;124m\"\u001b[39m,\u001b[38;5;124m\"\u001b[39m\u001b[38;5;124mblue\u001b[39m\u001b[38;5;124m\"\u001b[39m,\u001b[38;5;124m\"\u001b[39m\u001b[38;5;124myellow\u001b[39m\u001b[38;5;124m\"\u001b[39m,\u001b[38;5;124m\"\u001b[39m\u001b[38;5;124mbrown\u001b[39m\u001b[38;5;124m\"\u001b[39m,\u001b[38;5;124m\"\u001b[39m\u001b[38;5;124mblack\u001b[39m\u001b[38;5;124m\"\u001b[39m,\u001b[38;5;124m\"\u001b[39m\u001b[38;5;124mpurple\u001b[39m\u001b[38;5;124m\"\u001b[39m,\u001b[38;5;124m\"\u001b[39m\u001b[38;5;124mgreen\u001b[39m\u001b[38;5;124m\"\u001b[39m]\n\u001b[1;32m      5\u001b[0m t\u001b[38;5;241m.\u001b[39mpenup(); t\u001b[38;5;241m.\u001b[39mleft(\u001b[38;5;241m90\u001b[39m); t\u001b[38;5;241m.\u001b[39mforward(\u001b[38;5;241m200\u001b[39m);t\u001b[38;5;241m.\u001b[39mright(\u001b[38;5;241m90\u001b[39m);t\u001b[38;5;241m.\u001b[39mpendown()\n",
      "File \u001b[0;32m<string>:8\u001b[0m, in \u001b[0;36mspeed\u001b[0;34m(speed)\u001b[0m\n",
      "File \u001b[0;32m/usr/lib/python3.8/turtle.py:2175\u001b[0m, in \u001b[0;36mTPen.speed\u001b[0;34m(self, speed)\u001b[0m\n\u001b[1;32m   2173\u001b[0m \u001b[38;5;28;01melse\u001b[39;00m:\n\u001b[1;32m   2174\u001b[0m     speed \u001b[38;5;241m=\u001b[39m \u001b[38;5;241m0\u001b[39m\n\u001b[0;32m-> 2175\u001b[0m \u001b[38;5;28;43mself\u001b[39;49m\u001b[38;5;241;43m.\u001b[39;49m\u001b[43mpen\u001b[49m\u001b[43m(\u001b[49m\u001b[43mspeed\u001b[49m\u001b[38;5;241;43m=\u001b[39;49m\u001b[43mspeed\u001b[49m\u001b[43m)\u001b[49m\n",
      "File \u001b[0;32m/usr/lib/python3.8/turtle.py:2460\u001b[0m, in \u001b[0;36mTPen.pen\u001b[0;34m(self, pen, **pendict)\u001b[0m\n\u001b[1;32m   2457\u001b[0m     sa, ca \u001b[38;5;241m=\u001b[39m math\u001b[38;5;241m.\u001b[39msin(\u001b[38;5;28mself\u001b[39m\u001b[38;5;241m.\u001b[39m_tilt), math\u001b[38;5;241m.\u001b[39mcos(\u001b[38;5;28mself\u001b[39m\u001b[38;5;241m.\u001b[39m_tilt)\n\u001b[1;32m   2458\u001b[0m     \u001b[38;5;28mself\u001b[39m\u001b[38;5;241m.\u001b[39m_shapetrafo \u001b[38;5;241m=\u001b[39m ( scx\u001b[38;5;241m*\u001b[39mca, scy\u001b[38;5;241m*\u001b[39m(shf\u001b[38;5;241m*\u001b[39mca \u001b[38;5;241m+\u001b[39m sa),\n\u001b[1;32m   2459\u001b[0m                         \u001b[38;5;241m-\u001b[39mscx\u001b[38;5;241m*\u001b[39msa, scy\u001b[38;5;241m*\u001b[39m(ca \u001b[38;5;241m-\u001b[39m shf\u001b[38;5;241m*\u001b[39msa))\n\u001b[0;32m-> 2460\u001b[0m \u001b[38;5;28;43mself\u001b[39;49m\u001b[38;5;241;43m.\u001b[39;49m\u001b[43m_update\u001b[49m\u001b[43m(\u001b[49m\u001b[43m)\u001b[49m\n",
      "File \u001b[0;32m/usr/lib/python3.8/turtle.py:2662\u001b[0m, in \u001b[0;36mRawTurtle._update\u001b[0;34m(self)\u001b[0m\n\u001b[1;32m   2660\u001b[0m \u001b[38;5;28;01melif\u001b[39;00m screen\u001b[38;5;241m.\u001b[39m_tracing \u001b[38;5;241m==\u001b[39m \u001b[38;5;241m1\u001b[39m:\n\u001b[1;32m   2661\u001b[0m     \u001b[38;5;28mself\u001b[39m\u001b[38;5;241m.\u001b[39m_update_data()\n\u001b[0;32m-> 2662\u001b[0m     \u001b[38;5;28;43mself\u001b[39;49m\u001b[38;5;241;43m.\u001b[39;49m\u001b[43m_drawturtle\u001b[49m\u001b[43m(\u001b[49m\u001b[43m)\u001b[49m\n\u001b[1;32m   2663\u001b[0m     screen\u001b[38;5;241m.\u001b[39m_update()                  \u001b[38;5;66;03m# TurtleScreenBase\u001b[39;00m\n\u001b[1;32m   2664\u001b[0m     screen\u001b[38;5;241m.\u001b[39m_delay(screen\u001b[38;5;241m.\u001b[39m_delayvalue) \u001b[38;5;66;03m# TurtleScreenBase\u001b[39;00m\n",
      "File \u001b[0;32m/usr/lib/python3.8/turtle.py:3011\u001b[0m, in \u001b[0;36mRawTurtle._drawturtle\u001b[0;34m(self)\u001b[0m\n\u001b[1;32m   3009\u001b[0m     shape \u001b[38;5;241m=\u001b[39m \u001b[38;5;28mself\u001b[39m\u001b[38;5;241m.\u001b[39m_polytrafo(\u001b[38;5;28mself\u001b[39m\u001b[38;5;241m.\u001b[39m_getshapepoly(tshape))\n\u001b[1;32m   3010\u001b[0m     fc, oc \u001b[38;5;241m=\u001b[39m \u001b[38;5;28mself\u001b[39m\u001b[38;5;241m.\u001b[39m_fillcolor, \u001b[38;5;28mself\u001b[39m\u001b[38;5;241m.\u001b[39m_pencolor\n\u001b[0;32m-> 3011\u001b[0m     \u001b[43mscreen\u001b[49m\u001b[38;5;241;43m.\u001b[39;49m\u001b[43m_drawpoly\u001b[49m\u001b[43m(\u001b[49m\u001b[43mtitem\u001b[49m\u001b[43m,\u001b[49m\u001b[43m \u001b[49m\u001b[43mshape\u001b[49m\u001b[43m,\u001b[49m\u001b[43m \u001b[49m\u001b[43mfill\u001b[49m\u001b[38;5;241;43m=\u001b[39;49m\u001b[43mfc\u001b[49m\u001b[43m,\u001b[49m\u001b[43m \u001b[49m\u001b[43moutline\u001b[49m\u001b[38;5;241;43m=\u001b[39;49m\u001b[43moc\u001b[49m\u001b[43m,\u001b[49m\n\u001b[1;32m   3012\u001b[0m \u001b[43m                                          \u001b[49m\u001b[43mwidth\u001b[49m\u001b[38;5;241;43m=\u001b[39;49m\u001b[43mw\u001b[49m\u001b[43m,\u001b[49m\u001b[43m \u001b[49m\u001b[43mtop\u001b[49m\u001b[38;5;241;43m=\u001b[39;49m\u001b[38;5;28;43;01mTrue\u001b[39;49;00m\u001b[43m)\u001b[49m\n\u001b[1;32m   3013\u001b[0m \u001b[38;5;28;01melif\u001b[39;00m ttype \u001b[38;5;241m==\u001b[39m \u001b[38;5;124m\"\u001b[39m\u001b[38;5;124mimage\u001b[39m\u001b[38;5;124m\"\u001b[39m:\n\u001b[1;32m   3014\u001b[0m     screen\u001b[38;5;241m.\u001b[39m_drawimage(titem, \u001b[38;5;28mself\u001b[39m\u001b[38;5;241m.\u001b[39m_position, tshape)\n",
      "File \u001b[0;32m/usr/lib/python3.8/turtle.py:513\u001b[0m, in \u001b[0;36mTurtleScreenBase._drawpoly\u001b[0;34m(self, polyitem, coordlist, fill, outline, width, top)\u001b[0m\n\u001b[1;32m    511\u001b[0m     cl\u001b[38;5;241m.\u001b[39mappend(x \u001b[38;5;241m*\u001b[39m \u001b[38;5;28mself\u001b[39m\u001b[38;5;241m.\u001b[39mxscale)\n\u001b[1;32m    512\u001b[0m     cl\u001b[38;5;241m.\u001b[39mappend(\u001b[38;5;241m-\u001b[39my \u001b[38;5;241m*\u001b[39m \u001b[38;5;28mself\u001b[39m\u001b[38;5;241m.\u001b[39myscale)\n\u001b[0;32m--> 513\u001b[0m \u001b[38;5;28;43mself\u001b[39;49m\u001b[38;5;241;43m.\u001b[39;49m\u001b[43mcv\u001b[49m\u001b[38;5;241;43m.\u001b[39;49m\u001b[43mcoords\u001b[49m\u001b[43m(\u001b[49m\u001b[43mpolyitem\u001b[49m\u001b[43m,\u001b[49m\u001b[43m \u001b[49m\u001b[38;5;241;43m*\u001b[39;49m\u001b[43mcl\u001b[49m\u001b[43m)\u001b[49m\n\u001b[1;32m    514\u001b[0m \u001b[38;5;28;01mif\u001b[39;00m fill \u001b[38;5;129;01mis\u001b[39;00m \u001b[38;5;129;01mnot\u001b[39;00m \u001b[38;5;28;01mNone\u001b[39;00m:\n\u001b[1;32m    515\u001b[0m     \u001b[38;5;28mself\u001b[39m\u001b[38;5;241m.\u001b[39mcv\u001b[38;5;241m.\u001b[39mitemconfigure(polyitem, fill\u001b[38;5;241m=\u001b[39mfill)\n",
      "File \u001b[0;32m<string>:1\u001b[0m, in \u001b[0;36mcoords\u001b[0;34m(self, *args, **kw)\u001b[0m\n",
      "File \u001b[0;32m/usr/lib/python3.8/tkinter/__init__.py:2766\u001b[0m, in \u001b[0;36mCanvas.coords\u001b[0;34m(self, *args)\u001b[0m\n\u001b[1;32m   2762\u001b[0m \u001b[38;5;124;03m\"\"\"Return a list of coordinates for the item given in ARGS.\"\"\"\u001b[39;00m\n\u001b[1;32m   2763\u001b[0m \u001b[38;5;66;03m# XXX Should use _flatten on args\u001b[39;00m\n\u001b[1;32m   2764\u001b[0m \u001b[38;5;28;01mreturn\u001b[39;00m [\u001b[38;5;28mself\u001b[39m\u001b[38;5;241m.\u001b[39mtk\u001b[38;5;241m.\u001b[39mgetdouble(x) \u001b[38;5;28;01mfor\u001b[39;00m x \u001b[38;5;129;01min\u001b[39;00m\n\u001b[1;32m   2765\u001b[0m                    \u001b[38;5;28mself\u001b[39m\u001b[38;5;241m.\u001b[39mtk\u001b[38;5;241m.\u001b[39msplitlist(\n\u001b[0;32m-> 2766\u001b[0m            \u001b[38;5;28;43mself\u001b[39;49m\u001b[38;5;241;43m.\u001b[39;49m\u001b[43mtk\u001b[49m\u001b[38;5;241;43m.\u001b[39;49m\u001b[43mcall\u001b[49m\u001b[43m(\u001b[49m\u001b[43m(\u001b[49m\u001b[38;5;28;43mself\u001b[39;49m\u001b[38;5;241;43m.\u001b[39;49m\u001b[43m_w\u001b[49m\u001b[43m,\u001b[49m\u001b[43m \u001b[49m\u001b[38;5;124;43m'\u001b[39;49m\u001b[38;5;124;43mcoords\u001b[39;49m\u001b[38;5;124;43m'\u001b[39;49m\u001b[43m)\u001b[49m\u001b[43m \u001b[49m\u001b[38;5;241;43m+\u001b[39;49m\u001b[43m \u001b[49m\u001b[43margs\u001b[49m\u001b[43m)\u001b[49m)]\n",
      "\u001b[0;31mTclError\u001b[0m: invalid command name \".!canvas\""
     ]
    }
   ],
   "source": [
    "import turtle as t\n",
    "t.speed(5)\n",
    "colours = [\"red\", \"blue\", \"yellow\", \"brown\", \"black\", \"purple\", \"green\"]\n",
    "\n",
    "t.penup()\n",
    "t.left(90)\n",
    "t.forward(200)\n",
    "t.right(90)\n",
    "t.pendown()\n",
    "for i in range(0, 18):\n",
    "    t.pencolor(colours[i % 7])\n",
    "    t.right(20)\n",
    "    t.forward(50)\n",
    "\n",
    "t.right(180)\n",
    "t.home()\n",
    "t.done()"
   ]
  },
  {
   "cell_type": "markdown",
   "id": "4ff1679f",
   "metadata": {},
   "source": [
    "## Функции"
   ]
  },
  {
   "cell_type": "code",
   "execution_count": 42,
   "id": "e8ec28f8",
   "metadata": {
    "ExecuteTime": {
     "end_time": "2022-08-08T14:12:04.701781Z",
     "start_time": "2022-08-08T14:12:04.696233Z"
    }
   },
   "outputs": [
    {
     "data": {
      "text/plain": [
       "[[5, 5, 5, 5], [5, 5, 5, 5], [5, 5, 5, 5]]"
      ]
     },
     "execution_count": 42,
     "metadata": {},
     "output_type": "execute_result"
    }
   ],
   "source": [
    "def matrix(n=1, m=0, value=0):\n",
    "    return [[value] * (m or n) for _ in range(n)]\n",
    "\n",
    "\n",
    "matrix(3, 4, 5)"
   ]
  },
  {
   "cell_type": "code",
   "execution_count": 20,
   "id": "e53a0666",
   "metadata": {
    "ExecuteTime": {
     "end_time": "2022-08-10T11:47:16.730846Z",
     "start_time": "2022-08-10T11:47:16.722813Z"
    }
   },
   "outputs": [
    {
     "data": {
      "text/plain": [
       "0"
      ]
     },
     "execution_count": 20,
     "metadata": {},
     "output_type": "execute_result"
    }
   ],
   "source": [
    "def mean(*args):\n",
    "    ls = [x for x in args if type(x) in (int, float)]\n",
    "    return len(ls) and sum(ls)/len(ls)\n",
    "\n",
    "\n",
    "mean(1.5, True, ['stepik'], 'beegeek', 2.5, (1, 2))"
   ]
  },
  {
   "cell_type": "code",
   "execution_count": 28,
   "id": "0bba414c",
   "metadata": {
    "ExecuteTime": {
     "end_time": "2022-08-10T11:53:23.907254Z",
     "start_time": "2022-08-10T11:53:23.900927Z"
    }
   },
   "outputs": [
    {
     "data": {
      "text/plain": [
       "'Hello, Timur and Roman and Ruslan!'"
      ]
     },
     "execution_count": 28,
     "metadata": {},
     "output_type": "execute_result"
    }
   ],
   "source": [
    "def greet(name, *args):\n",
    "    return f\"Hello, {' and '.join((name, *args))}!\"\n",
    "\n",
    "\n",
    "greet('Timur', 'Roman', 'Ruslan')"
   ]
  },
  {
   "cell_type": "code",
   "execution_count": 43,
   "id": "b3df7ec4",
   "metadata": {
    "ExecuteTime": {
     "end_time": "2022-08-10T12:06:26.900432Z",
     "start_time": "2022-08-10T12:06:26.894826Z"
    }
   },
   "outputs": [
    {
     "name": "stdout",
     "output_type": "stream",
     "text": [
      "1) Бананы\n",
      "2) Яблоки\n",
      "3) Макароны\n"
     ]
    }
   ],
   "source": [
    "def print_products(*args):\n",
    "    ls = [x for x in args if x and isinstance(x, str)]\n",
    "    print(*[f\"{n+1}) {l}\" for n, l in enumerate(ls)] if ls else [\"Нет продуктов\"], sep='\\n')\n",
    "\n",
    "\n",
    "print_products('Бананы', [1, 2], ('Stepik',), 'Яблоки', '', 'Макароны', 5, True)"
   ]
  },
  {
   "cell_type": "code",
   "execution_count": 47,
   "id": "da58543c",
   "metadata": {
    "ExecuteTime": {
     "end_time": "2022-08-10T12:13:05.896778Z",
     "start_time": "2022-08-10T12:13:05.891038Z"
    }
   },
   "outputs": [
    {
     "name": "stdout",
     "output_type": "stream",
     "text": [
      "age: 28\n",
      "first_name: Timur\n",
      "job: teacher\n",
      "last_name: Guev\n"
     ]
    }
   ],
   "source": [
    "def info_kwargs(**kwargs):\n",
    "    [print(f\"{k}: {v}\") for k, v in sorted(kwargs.items())]\n",
    "\n",
    "\n",
    "info_kwargs(first_name='Timur', last_name='Guev', age=28, job='teacher')"
   ]
  },
  {
   "cell_type": "code",
   "execution_count": 48,
   "id": "dea154d1",
   "metadata": {
    "ExecuteTime": {
     "end_time": "2022-08-10T13:15:36.139071Z",
     "start_time": "2022-08-10T13:15:36.130921Z"
    }
   },
   "outputs": [
    {
     "data": {
      "text/plain": [
       "(81, 39)"
      ]
     },
     "execution_count": 48,
     "metadata": {},
     "output_type": "execute_result"
    }
   ],
   "source": [
    "numbers = [(10, 10, 10), (30, 45, 56), (81, 39), (1, 2, 3), (12,), (-2, -4, 100), (1, 2, 99), (89, 9, 34), (10,\n",
    "                                                                                                            20, 30, -2), (50, 40, 50), (34, 78, 65), (-5, 90, -1, -5), (1, 2, 3, 4, 5, 6), (-9, 8, 4), (90, 1, -45, -21)]\n",
    "min(numbers, key=lambda x: sum(x)/len(x))\n",
    "max(numbers, key=lambda x: sum(x)/len(x))"
   ]
  },
  {
   "cell_type": "code",
   "execution_count": 51,
   "id": "8a682574",
   "metadata": {
    "ExecuteTime": {
     "end_time": "2022-08-10T13:25:50.130277Z",
     "start_time": "2022-08-10T13:25:50.125632Z"
    }
   },
   "outputs": [
    {
     "name": "stdout",
     "output_type": "stream",
     "text": [
      "[(0, 0), (0, 1), (-1, 1), (2, 0), (3, 0), (-1, 3), (-3, 2), (4, 3), (3, 6), (5, 6), (-9, 1), (8, 8), (12, 0)]\n"
     ]
    }
   ],
   "source": [
    "points = [(-1, 1), (5, 6), (12, 0), (4, 3), (0, 1), (-3, 2), (0, 0), (-1, 3), (2, 0), (3, 0), (-9, 1), (3, 6), (8, 8)]\n",
    "points.sort(key=lambda x: abs(complex(*x)))\n",
    "\n",
    "print(points)"
   ]
  },
  {
   "cell_type": "markdown",
   "id": "ed242d6b",
   "metadata": {},
   "source": [
    "### Сортируй как хочешь"
   ]
  },
  {
   "cell_type": "code",
   "execution_count": 57,
   "id": "868e12cb",
   "metadata": {
    "ExecuteTime": {
     "end_time": "2022-08-10T13:40:46.760451Z",
     "start_time": "2022-08-10T13:40:46.752820Z"
    }
   },
   "outputs": [
    {
     "name": "stdout",
     "output_type": "stream",
     "text": [
      "Рустам 10 128 30\n",
      "Дима 10 130 35\n",
      "Тимур 11 135 39\n",
      "Руслан 9 140 33\n",
      "Матвей 17 168 68\n",
      "Амир 16 170 70\n",
      "Рома 16 188 100\n",
      "Петя 15 190 90\n"
     ]
    },
    {
     "data": {
      "text/plain": [
       "[None, None, None, None, None, None, None, None]"
      ]
     },
     "execution_count": 57,
     "metadata": {},
     "output_type": "execute_result"
    }
   ],
   "source": [
    "athletes = [('Дима', 10, 130, 35), ('Тимур', 11, 135, 39),\n",
    "            ('Руслан', 9, 140, 33), ('Рустам', 10, 128, 30),\n",
    "            ('Амир', 16, 170, 70), ('Рома', 16, 188, 100),\n",
    "            ('Матвей', 17, 168, 68), ('Петя', 15, 190, 90)]\n",
    "sort_key = 3\n",
    "[print(*x) for x in sorted(athletes, key=lambda x: x[sort_key-1])]"
   ]
  },
  {
   "cell_type": "markdown",
   "id": "857f0a01",
   "metadata": {},
   "source": [
    "### Математические функции\n",
    "\n",
    "Напишите программу, которая принимает число и название функции, а выводит результат применения функции к данному числу."
   ]
  },
  {
   "cell_type": "code",
   "execution_count": 59,
   "id": "c83ea1d8",
   "metadata": {
    "ExecuteTime": {
     "end_time": "2022-08-10T13:50:43.285807Z",
     "start_time": "2022-08-10T13:50:30.661133Z"
    }
   },
   "outputs": [
    {
     "name": "stdout",
     "output_type": "stream",
     "text": [
      "5\n",
      "квадрат\n"
     ]
    },
    {
     "data": {
      "text/plain": [
       "25"
      ]
     },
     "execution_count": 59,
     "metadata": {},
     "output_type": "execute_result"
    }
   ],
   "source": [
    "import math\n",
    "\n",
    "n, f = int(input()), input()\n",
    "func = {\n",
    "    \"квадрат\": lambda x: x * x,\n",
    "    \"куб\": lambda x: x * x * x,\n",
    "    \"корень\": math.sqrt,\n",
    "    \"модуль\": abs,\n",
    "    \"синус\": math.sin\n",
    "}\n",
    "\n",
    "func[f](n)"
   ]
  },
  {
   "cell_type": "markdown",
   "id": "d8235966",
   "metadata": {},
   "source": [
    "### Интересная сортировка"
   ]
  },
  {
   "cell_type": "code",
   "execution_count": 62,
   "id": "906a8f18",
   "metadata": {
    "ExecuteTime": {
     "end_time": "2022-08-10T13:57:53.381498Z",
     "start_time": "2022-08-10T13:57:53.376221Z"
    }
   },
   "outputs": [
    {
     "name": "stdout",
     "output_type": "stream",
     "text": [
      "12 111 4 14 123 7 45 90 79\n"
     ]
    }
   ],
   "source": [
    "ls = \"12 14 79 7 4 123 45 90 111\".split()\n",
    "print(*sorted(ls, key=lambda x: sum(int(a) for a in x)))"
   ]
  },
  {
   "cell_type": "code",
   "execution_count": 65,
   "id": "5ee2b91e",
   "metadata": {
    "ExecuteTime": {
     "end_time": "2022-08-10T14:05:07.207952Z",
     "start_time": "2022-08-10T14:05:07.204010Z"
    }
   },
   "outputs": [
    {
     "name": "stdout",
     "output_type": "stream",
     "text": [
      "12 111 4 14 123 7 45 90 79\n"
     ]
    }
   ],
   "source": [
    "ls = \"12 14 79 7 4 123 45 90 111\".split()\n",
    "print(*sorted(ls, key=lambda x: (sum(map(int, x)), int(x))))"
   ]
  },
  {
   "cell_type": "markdown",
   "id": "f9d9db54",
   "metadata": {},
   "source": [
    "## Функции высшего порядка"
   ]
  },
  {
   "cell_type": "code",
   "execution_count": 2,
   "id": "38f96d2f",
   "metadata": {
    "ExecuteTime": {
     "end_time": "2022-08-11T12:20:23.974705Z",
     "start_time": "2022-08-11T12:20:23.970017Z"
    }
   },
   "outputs": [
    {
     "name": "stdout",
     "output_type": "stream",
     "text": [
      "-99 2\n"
     ]
    }
   ],
   "source": [
    "numbers = [-2, 45, 45, -7, -45, 37, -42, 27, -58, -58, -12, -27, -49, -27, -56, 4, -99, -11, 86]\n",
    "\n",
    "var1 = max(numbers, key=abs)\n",
    "var2 = min(map(abs, numbers))\n",
    "\n",
    "print(var1, var2)"
   ]
  },
  {
   "cell_type": "code",
   "execution_count": 6,
   "id": "4f3dccf5",
   "metadata": {
    "ExecuteTime": {
     "end_time": "2022-08-11T12:26:02.401969Z",
     "start_time": "2022-08-11T12:26:02.397965Z"
    }
   },
   "outputs": [
    {
     "name": "stdout",
     "output_type": "stream",
     "text": [
      "3.57\n",
      "5.58\n",
      "4.01\n",
      "56.24\n",
      "9.01\n",
      "32.12\n",
      "23.22\n",
      "90.1\n",
      "45.45\n",
      "314.15\n",
      "2.72\n",
      "1.42\n"
     ]
    }
   ],
   "source": [
    "numbers = [3.56773, 5.57668, 4.00914, 56.24241, 9.01344, 32.12013,\n",
    "           23.22222, 90.09873, 45.45, 314.1528, 2.71828, 1.41546]\n",
    "print(*map(lambda x: round(x, 2), numbers), sep='\\n')"
   ]
  },
  {
   "cell_type": "code",
   "execution_count": 11,
   "id": "dc278e27",
   "metadata": {
    "ExecuteTime": {
     "end_time": "2022-08-11T13:10:12.738541Z",
     "start_time": "2022-08-11T13:10:12.731089Z"
    }
   },
   "outputs": [
    {
     "name": "stdout",
     "output_type": "stream",
     "text": [
      "283593393\n",
      "758550528\n",
      "154854153\n",
      "8869743\n",
      "16974593\n",
      "12487168\n",
      "6028568\n",
      "849278123\n",
      "2863288\n",
      "57960603\n",
      "575930368\n"
     ]
    }
   ],
   "source": [
    "numbers = [\n",
    "    1014, 1321, 675, 1215, 56, 1386, 1385, 431, 1058, 486, 1434, 696, 1016,\n",
    "    1084, 424, 1189, 475, 95, 1434, 1462, 815, 776, 657, 1225, 912, 537, 1478,\n",
    "    1176, 544, 488, 668, 944, 207, 266, 1309, 1027, 257, 1374, 1289, 1155, 230,\n",
    "    866, 708, 144, 1434, 1163, 345, 394, 560, 338, 232, 182, 1438, 1127, 928,\n",
    "    1309, 98, 530, 1013, 898, 669, 105, 130, 1363, 947, 72, 1278, 166, 904,\n",
    "    349, 831, 1207, 1496, 370, 725, 926, 175, 959, 1282, 336, 1268, 351, 1439,\n",
    "    186, 273, 1008, 231, 138, 142, 433, 456, 1268, 1018, 1274, 387, 120, 340,\n",
    "    963, 832, 1127\n",
    "]\n",
    "print(*map(lambda x: x*x*x, filter(lambda x: 99 < x < 10**3 and x % 5 == 2, numbers)), sep='\\n')"
   ]
  },
  {
   "cell_type": "code",
   "execution_count": 33,
   "id": "3f5beed1",
   "metadata": {
    "ExecuteTime": {
     "end_time": "2022-08-11T13:32:23.152204Z",
     "start_time": "2022-08-11T13:32:23.142167Z"
    }
   },
   "outputs": [
    {
     "name": "stdout",
     "output_type": "stream",
     "text": [
      "319563\n"
     ]
    },
    {
     "data": {
      "text/plain": [
       "319563"
      ]
     },
     "execution_count": 33,
     "metadata": {},
     "output_type": "execute_result"
    }
   ],
   "source": [
    "from functools import reduce\n",
    "numbers = [\n",
    "    97, 42, 9, 32, 3, 45, 31, 77, -1, 11, -2, 75, 5, 51, 34, 28, 46, 1, -8, 84,\n",
    "    16, 51, 90, 56, 65, 90, 23, 35, 11, -10, 70, 90, 90, 12, 96, 58, -8, -4,\n",
    "    91, 76, 94, 60, 72, 43, 4, -6, -5, 51, 58, 60, 30, 38, 67, 62, 36, 72, 34,\n",
    "    82, 62, -1, 60, 82, 87, 81, -7, 57, 26, 36, 17, 43, 80, 40, 75, 94, 91, 64,\n",
    "    38, 72, 29, 84, 38, 35, 7, 54, 31, 95, 78, 27, 82, 1, 64, 94, 31, 29, -8,\n",
    "    98, 24, 61, 7, 73\n",
    "]\n",
    "def square(*args):\n",
    "    return args[~0]**2 + (len(args) > 1) * args[0]\n",
    "\n",
    "\n",
    "print(sum(map(square, numbers)))\n",
    "reduce(square, numbers, 0)"
   ]
  },
  {
   "cell_type": "markdown",
   "id": "9dccaceb",
   "metadata": {},
   "source": [
    "Напишите программу для вычисления и вывода суммы квадратов двузначных чисел, которые делятся на 7 без остатка."
   ]
  },
  {
   "cell_type": "code",
   "execution_count": 39,
   "id": "23cfd5bc",
   "metadata": {
    "ExecuteTime": {
     "end_time": "2022-08-11T13:43:10.238093Z",
     "start_time": "2022-08-11T13:43:10.229430Z"
    }
   },
   "outputs": [
    {
     "name": "stdout",
     "output_type": "stream",
     "text": [
      "25137\n"
     ]
    }
   ],
   "source": [
    "numbers = [\n",
    "    77, 293, 28, 242, 213, 285, 71, 286, 144, 276, 61, 298, 280, 214, 156, 227,\n",
    "    228, 51, -4, 202, 58, 99, 270, 219, 94, 253, 53, 235, 9, 158, 49, 183, 166,\n",
    "    205, 183, 266, 180, 6, 279, 200, 208, 231, 178, 201, 260, -35, 152, 115,\n",
    "    79, 284, 181, 92, 286, 98, 271, 259, 258, 196, -8, 43, 2, 128, 143, 43,\n",
    "    297, 229, 60, 254, -9, 5, 187, 220, -8, 111, 285, 5, 263, 187, 192, -9,\n",
    "    268, -9, 23, 71, 135, 7, -161, 65, 135, 29, 148, 242, 33, 35, 211, 5, 161,\n",
    "    46, 159, 23, 169, 23, 172, 184, -7, 228, 129, 274, 73, 197, 272, 54, 278,\n",
    "    26, 280, 13, 171, 2, 79, -2, 183, 10, 236, 276, 4, 29, -10, 41, 269, 94,\n",
    "    279, 129, 39, 92, -63, 263, 219, 57, 18, 236, 291, 234, 10, 250, 0, 64,\n",
    "    172, 216, 30, 15, 229, 205, 123, -105\n",
    "]\n",
    "\n",
    "print(sum(map(lambda x: x*x, filter(lambda x: 9 < abs(x) < 100 and not x % 7, numbers))), sep='\\n')"
   ]
  },
  {
   "cell_type": "markdown",
   "id": "c2fd8ce0",
   "metadata": {},
   "source": [
    "## Lambda"
   ]
  },
  {
   "cell_type": "markdown",
   "id": "2db6e8ec",
   "metadata": {},
   "source": [
    "Требовалось написать программу, которая:\n",
    "\n",
    "- преобразует список floats в список чисел, возведенных в квадрат и округленных с точностью до одного десятичного знака;\n",
    "- фильтрует список words  и оставляет только палиндромы длиной более 4 символов;\n",
    "- находит произведение чисел из списка numbers.\n",
    "\n",
    "Программист торопился и написал программу неправильно. Доработайте его программу."
   ]
  },
  {
   "cell_type": "code",
   "execution_count": 7,
   "id": "95706a4c",
   "metadata": {
    "ExecuteTime": {
     "end_time": "2022-08-12T12:56:28.250044Z",
     "start_time": "2022-08-12T12:56:28.244387Z"
    }
   },
   "outputs": [
    {
     "name": "stdout",
     "output_type": "stream",
     "text": [
      "[18.9, 37.1, 10.6, 95.5, 4.7, 78.9, 21.1, 1171.7, 146.9, 21.8, 6.0, 86.9]\n",
      "['racecar', 'civic', 'TATTARRATTAT', 'malayalam']\n",
      "24840\n"
     ]
    }
   ],
   "source": [
    "from functools import reduce\n",
    "\n",
    "floats = [4.35, 6.09, 3.25, 9.77, 2.16, 8.88, 4.59, 34.23, 12.12, 4.67, 2.45, 9.32]\n",
    "words = ['racecar', 'akinremi', 'deed', 'temidayo', 'omoseun', 'civic', 'TATTARRATTAT', 'malayalam', 'nun']\n",
    "numbers = [4, 6, 9, 23, 5]\n",
    "\n",
    "# Исправьте этот код\n",
    "map_result = list(map(lambda num: round(num * num, 1), floats))\n",
    "filter_result = list(filter(lambda name: len(name) > 4 and name == name[::-1], words))\n",
    "reduce_result = reduce(lambda num1, num2: num1 * num2, numbers, 1)\n",
    "\n",
    "print(map_result)\n",
    "print(filter_result)\n",
    "print(reduce_result)"
   ]
  },
  {
   "cell_type": "markdown",
   "id": "b44f8fdf",
   "metadata": {},
   "source": [
    "Напишите программу, которая с помощью встроенных функций filter(), map(), sorted() и reduce() выводит в алфавитном порядке список primary городов с населением более 10 000 000 человек, в формате:"
   ]
  },
  {
   "cell_type": "code",
   "execution_count": 18,
   "id": "7a9504bf",
   "metadata": {
    "ExecuteTime": {
     "end_time": "2022-08-12T13:40:46.974683Z",
     "start_time": "2022-08-12T13:40:46.967996Z"
    }
   },
   "outputs": [
    {
     "name": "stdout",
     "output_type": "stream",
     "text": [
      "Cities: Beijing, Buenos Aires, Cairo, Dhaka, Manila, Mexico City, Moscow, Tokyo\n"
     ]
    }
   ],
   "source": [
    "from functools import reduce\n",
    "\n",
    "data = [['Tokyo', 35676000, 'primary'],\n",
    "        ['New York', 19354922, 'nan'],\n",
    "        ['Mexico City', 19028000, 'primary'],\n",
    "        ['Mumbai', 18978000, 'admin'],\n",
    "        ['Sao Paulo', 18845000, 'admin'],\n",
    "        ['Delhi', 15926000, 'admin'],\n",
    "        ['Shanghai', 14987000, 'admin'],\n",
    "        ['Kolkata', 14787000, 'admin'],\n",
    "        ['Los Angeles', 12815475, 'nan'],\n",
    "        ['Dhaka', 12797394, 'primary'],\n",
    "        ['Buenos Aires', 12795000, 'primary'],\n",
    "        ['Karachi', 12130000, 'admin'],\n",
    "        ['Cairo', 11893000, 'primary'],\n",
    "        ['Rio de Janeiro', 11748000, 'admin'],\n",
    "        ['Osaka', 11294000, 'admin'],\n",
    "        ['Beijing', 11106000, 'primary'],\n",
    "        ['Manila', 11100000, 'primary'],\n",
    "        ['Moscow', 10452000, 'primary'],\n",
    "        ['Istanbul', 10061000, 'admin'],\n",
    "        ['Paris', 9904000, 'primary']]\n",
    "\n",
    "print('Cities:', reduce(lambda x, y: x + ', ' + y,\n",
    "      sorted(map(lambda x: x[0], filter(lambda x: 'primary' in x and x[1] > 10**7, data)))))"
   ]
  },
  {
   "cell_type": "code",
   "execution_count": 9,
   "id": "74eb4f7e",
   "metadata": {
    "ExecuteTime": {
     "end_time": "2022-08-15T11:05:51.431468Z",
     "start_time": "2022-08-15T11:05:51.423522Z"
    }
   },
   "outputs": [
    {
     "data": {
      "text/plain": [
       "True"
      ]
     },
     "execution_count": 9,
     "metadata": {},
     "output_type": "execute_result"
    }
   ],
   "source": [
    "def func(x): return not (x % 19 and x % 13)\n",
    "\n",
    "\n",
    "func(19)"
   ]
  },
  {
   "cell_type": "code",
   "execution_count": 10,
   "id": "6a17cd86",
   "metadata": {
    "ExecuteTime": {
     "end_time": "2022-08-15T11:20:45.061389Z",
     "start_time": "2022-08-15T11:20:45.057077Z"
    }
   },
   "outputs": [
    {
     "data": {
      "text/plain": [
       "True"
      ]
     },
     "execution_count": 10,
     "metadata": {},
     "output_type": "execute_result"
    }
   ],
   "source": [
    "def func(s): return (s[0]+s[~0]).lower() == 'aa'\n",
    "\n",
    "\n",
    "func('abcdA')"
   ]
  },
  {
   "cell_type": "code",
   "execution_count": 62,
   "id": "1b70f638",
   "metadata": {
    "ExecuteTime": {
     "end_time": "2022-08-15T12:01:07.584701Z",
     "start_time": "2022-08-15T12:01:07.580585Z"
    }
   },
   "outputs": [
    {
     "data": {
      "text/plain": [
       "True"
      ]
     },
     "execution_count": 62,
     "metadata": {},
     "output_type": "execute_result"
    }
   ],
   "source": [
    "def is_non_negative_num(x): return set(x).issubset('0123456789.') and x.count('.') <= 1\n",
    "\n",
    "\n",
    "is_non_negative_num('123421')"
   ]
  },
  {
   "cell_type": "code",
   "execution_count": 64,
   "id": "4985bf74",
   "metadata": {
    "ExecuteTime": {
     "end_time": "2022-08-15T12:08:46.316761Z",
     "start_time": "2022-08-15T12:08:46.312563Z"
    }
   },
   "outputs": [
    {
     "data": {
      "text/plain": [
       "True"
      ]
     },
     "execution_count": 64,
     "metadata": {},
     "output_type": "execute_result"
    }
   ],
   "source": [
    "# Тимур 👨‍🏫 Гуев\n",
    "def is_non_negative_num(q): return q.replace('.', '', 1).isdigit()\n",
    "\n",
    "\n",
    "is_non_negative_num('12.3421')"
   ]
  },
  {
   "cell_type": "code",
   "execution_count": 85,
   "id": "21d98b29",
   "metadata": {
    "ExecuteTime": {
     "end_time": "2022-08-15T12:20:51.498411Z",
     "start_time": "2022-08-15T12:20:51.494164Z"
    }
   },
   "outputs": [
    {
     "data": {
      "text/plain": [
       "True"
      ]
     },
     "execution_count": 85,
     "metadata": {},
     "output_type": "execute_result"
    }
   ],
   "source": [
    "def is_num(x): return x.find('-') < 1 and x.replace('.', '', 1).replace('-', '', 1).isdigit()\n",
    "\n",
    "\n",
    "is_num('-12.3421')"
   ]
  },
  {
   "cell_type": "code",
   "execution_count": 111,
   "id": "0732f5b5",
   "metadata": {
    "ExecuteTime": {
     "end_time": "2022-08-15T13:42:13.419904Z",
     "start_time": "2022-08-15T13:42:13.410174Z"
    }
   },
   "outputs": [
    {
     "name": "stdout",
     "output_type": "stream",
     "text": [
      "23 17 17 28 13 1 3 41 37 40 27 47 17 50 18 33 33 41 40 40 20 17 16 8 5 8 20 18 4 19 4 33 21 36 16 41 35 32 39 27 43 35 24 17 19 20 45 28 40 45 27 13 3 2 23 26 39 37 15 33 29 44 47 37 22 1 19 18 16 5 33 30 47 4 18 47 23 33\n"
     ]
    }
   ],
   "source": [
    "numbers = [46, 61, 34, 17, 56, 26, 93, 1, 3, 82, 71, 37, 80, 27, 77, 94, 34, 100, 36, 81, 33, 81, 66, 83, 41, 80, 80, 93, 40, 34, 32, 16, 5, 16, 40, 93, 36, 65, 8, 19, 8, 75, 66, 21, 72, 32, 41, 59, 35,\n",
    "           64, 49, 78, 83, 27, 57, 53, 43, 35, 48, 17, 19, 40, 90, 57, 77, 56, 80, 95, 90, 27, 26, 6, 4, 23, 52, 39, 63, 74, 15, 66, 29, 88, 94, 37, 44, 2, 38, 36, 32, 49, 5, 33, 60, 94, 89, 8, 36, 94, 46, 33]\n",
    "print(*map(lambda x: x if x % 2 else x // 2, filter(lambda x: x <= 47 or not x % 2, numbers)))"
   ]
  },
  {
   "cell_type": "markdown",
   "id": "7fb856c7",
   "metadata": {},
   "source": [
    "Список data содержит информацию о численности населения некоторых штатов США. Напишите программу сортировки по убыванию списка data на основании последнего символа в названии штата. Затем распечатайте элементы этого списка, каждый на новой строке в формате:"
   ]
  },
  {
   "cell_type": "code",
   "execution_count": 113,
   "id": "0197304d",
   "metadata": {
    "ExecuteTime": {
     "end_time": "2022-08-15T13:51:30.682573Z",
     "start_time": "2022-08-15T13:51:30.676913Z"
    }
   },
   "outputs": [
    {
     "name": "stdout",
     "output_type": "stream",
     "text": [
      "Vermont: 626299\n",
      "Massachusetts: 7029917\n",
      "Ohio: 11799448\n",
      "Michigan: 10077331\n",
      "Washington: 7705281\n",
      "New York: 19542209\n",
      "Hawaii: 1420491\n",
      "Tennessee: 6910840\n",
      "Alabama: 4887871\n",
      "West Virginia: 1805832\n",
      "California: 39865590\n",
      "Georgia: 10711908\n",
      "Virginia: 10439388\n",
      "Arizona: 7151502\n"
     ]
    }
   ],
   "source": [
    "data = [(19542209, 'New York'), (4887871, 'Alabama'), (1420491, 'Hawaii'),\n",
    "        (626299, 'Vermont'), (1805832, 'West Virginia'),\n",
    "        (39865590, 'California'), (11799448, 'Ohio'), (10711908, 'Georgia'),\n",
    "        (10077331, 'Michigan'), (10439388, 'Virginia'),\n",
    "        (7705281, 'Washington'), (7151502, 'Arizona'),\n",
    "        (7029917, 'Massachusetts'), (6910840, 'Tennessee')]\n",
    "print(*[f\"{n}: {c}\" for c, n in sorted(data, key=lambda x: x[1][~0], reverse=True)], sep='\\n')"
   ]
  },
  {
   "cell_type": "markdown",
   "id": "4e7cf029",
   "metadata": {},
   "source": [
    "Список data содержит слова на русском языке. Напишите программу его сортировки по возрастанию длины слов, а затем в лексикографическом порядке. Отсортированные слова следует вывести на одной строке, разделив символом пробела."
   ]
  },
  {
   "cell_type": "code",
   "execution_count": 117,
   "id": "b5650f61",
   "metadata": {
    "ExecuteTime": {
     "end_time": "2022-08-15T13:55:32.374419Z",
     "start_time": "2022-08-15T13:55:32.369825Z"
    }
   },
   "outputs": [
    {
     "name": "stdout",
     "output_type": "stream",
     "text": [
      "вид год дом мир раз глаз дело день друг лицо рука сила время город жизнь конец место слово часть вопрос голова деньги работа случай страна женщина ребенок система сторона человек отношение\n"
     ]
    }
   ],
   "source": [
    "data = [\n",
    "    'год', 'человек', 'время', 'дело', 'жизнь', 'день', 'рука', 'раз',\n",
    "    'работа', 'слово', 'место', 'лицо', 'друг', 'глаз', 'вопрос', 'дом',\n",
    "    'сторона', 'страна', 'мир', 'случай', 'голова', 'ребенок', 'сила', 'конец',\n",
    "    'вид', 'система', 'часть', 'город', 'отношение', 'женщина', 'деньги'\n",
    "]\n",
    "print(*sorted(data, key=lambda x: (len(x), x)))"
   ]
  },
  {
   "cell_type": "markdown",
   "id": "0144cc01",
   "metadata": {},
   "source": [
    "Список mixed_list содержит целочисленные и строковые значения. Напишите программу, которая с помощью встроенной функции max() находит и выводит наибольшее числовое значение в указанном списке."
   ]
  },
  {
   "cell_type": "code",
   "execution_count": 120,
   "id": "8ffea93a",
   "metadata": {
    "ExecuteTime": {
     "end_time": "2022-08-15T14:02:09.392408Z",
     "start_time": "2022-08-15T14:02:09.382072Z"
    }
   },
   "outputs": [
    {
     "data": {
      "text/plain": [
       "2950603"
      ]
     },
     "execution_count": 120,
     "metadata": {},
     "output_type": "execute_result"
    }
   ],
   "source": [
    "mixed_list = [\n",
    "    'tuesday', 'abroad', 'abuse', 'beside', 'monday', 'abate', 'accessory',\n",
    "    'absorb', 1384878, 'sunday', 'about', 454805, 'saturday', 'abort', 2121919,\n",
    "    2552839, 977970, 1772933, 1564063, 'abduct', 901271, 2680434, 'bicycle',\n",
    "    'accelerate', 1109147, 942908, 'berry', 433507, 'bias', 'bestow', 1875665,\n",
    "    'besides', 'bewilder', 1586517, 375290, 1503450, 2713047, 'abnormal',\n",
    "    2286106, 242192, 701049, 2866491, 'benevolent', 'bigot', 'abuse', 'abrupt',\n",
    "    343772, 'able', 2135748, 690280, 686008, 'beyond', 2415643, 'aboard',\n",
    "    'bet', 859105, 'accident', 2223166, 894187, 146564, 1251748, 2851543,\n",
    "    1619426, 2263113, 1618068, 'berth', 'abolish', 'beware', 2618492, 1555062,\n",
    "    'access', 'absent', 'abundant', 2950603, 'betray', 'beverage', 'abide',\n",
    "    'abandon', 2284251, 'wednesday', 2709698, 'thursday', 810387, 'friday',\n",
    "    2576799, 2213552, 1599022, 'accept', 'abuse', 'abound', 1352953, 'bid',\n",
    "    1805326, 1499197, 2241159, 605320, 2347441\n",
    "]\n",
    "\n",
    "max(mixed_list, key=lambda x: (0, x)[isinstance(x, int)])"
   ]
  },
  {
   "cell_type": "markdown",
   "id": "7992f451",
   "metadata": {},
   "source": [
    "Список mixed_list содержит целочисленные и строковые значения. Напишите программу его сортировки по неубыванию значений элементов, при этом числа должны следовать до строк.  Элементы отсортированного списка выведите на одной строке, разделив символом пробела."
   ]
  },
  {
   "cell_type": "code",
   "execution_count": 4,
   "id": "58598524",
   "metadata": {
    "ExecuteTime": {
     "end_time": "2022-08-16T11:09:22.491281Z",
     "start_time": "2022-08-16T11:09:22.486176Z"
    }
   },
   "outputs": [
    {
     "data": {
      "text/plain": [
       "[0, 1, 3, 5, 8, 'a', 'aab', 'ab', 'ac', 'c']"
      ]
     },
     "execution_count": 4,
     "metadata": {},
     "output_type": "execute_result"
    }
   ],
   "source": [
    "mixed_list = ['a', 'ab', 3, 5, 1, 8, 0, 'c', 'ac', 'aab']\n",
    "sorted(mixed_list, key=lambda x: (isinstance(x, str), x))"
   ]
  },
  {
   "cell_type": "markdown",
   "id": "3f5f57f7",
   "metadata": {},
   "source": [
    "### Противоположный цвет"
   ]
  },
  {
   "cell_type": "code",
   "execution_count": 12,
   "id": "4efa7a8c",
   "metadata": {
    "ExecuteTime": {
     "end_time": "2022-08-16T11:25:14.054894Z",
     "start_time": "2022-08-16T11:25:06.748236Z"
    }
   },
   "outputs": [
    {
     "name": "stdout",
     "output_type": "stream",
     "text": [
      "244 11 120\n",
      "11 244 135\n"
     ]
    }
   ],
   "source": [
    "print(*map(lambda x: 255-int(x), input().split()))"
   ]
  },
  {
   "cell_type": "markdown",
   "id": "87665c39",
   "metadata": {},
   "source": [
    "### Значение многочлена 🌶️"
   ]
  },
  {
   "cell_type": "code",
   "execution_count": 44,
   "id": "c8b56483",
   "metadata": {
    "ExecuteTime": {
     "end_time": "2022-08-16T11:54:25.093054Z",
     "start_time": "2022-08-16T11:54:20.904232Z"
    }
   },
   "outputs": [
    {
     "name": "stdout",
     "output_type": "stream",
     "text": [
      "1 2 3 4 5 6 7\n",
      "0\n"
     ]
    },
    {
     "data": {
      "text/plain": [
       "7"
      ]
     },
     "execution_count": 44,
     "metadata": {},
     "output_type": "execute_result"
    }
   ],
   "source": [
    "from functools import reduce\n",
    "from operator import add\n",
    "def evaluate(coeff, x):\n",
    "    return reduce(add, map(lambda c, p: c * x**p, coeff, range(len(coeff)-1, -1, -1)))\n",
    "\n",
    "\n",
    "evaluate(list(map(int, input().split())), int(input()))"
   ]
  },
  {
   "cell_type": "markdown",
   "id": "65b21a47",
   "metadata": {},
   "source": [
    "**Решение по схеме Горнера для разложения многочлена:**\n",
    "$$a_n​x^n+a_{n−1}​x^{n−1}+...+a_2​x^2+a_1​x+a_0​=(((...(((a_n​)x+a_{n−1}​)x+a_{n−2}​)x+...+a_1​)x+a_0$$"
   ]
  },
  {
   "cell_type": "code",
   "execution_count": 47,
   "id": "11f62374",
   "metadata": {
    "ExecuteTime": {
     "end_time": "2022-08-16T12:09:12.202342Z",
     "start_time": "2022-08-16T12:09:08.778408Z"
    }
   },
   "outputs": [
    {
     "name": "stdout",
     "output_type": "stream",
     "text": [
      "1 2 3\n",
      "2\n"
     ]
    },
    {
     "data": {
      "text/plain": [
       "11"
      ]
     },
     "execution_count": 47,
     "metadata": {},
     "output_type": "execute_result"
    }
   ],
   "source": [
    "from functools import reduce\n",
    "\n",
    "def evaluate(coefficients, x):\n",
    "    return reduce(lambda s, a: s * x + a, coefficients, 0)\n",
    "\n",
    "\n",
    "evaluate([*map(int, input().split())], int(input()))"
   ]
  },
  {
   "cell_type": "code",
   "execution_count": 49,
   "id": "10629555",
   "metadata": {
    "ExecuteTime": {
     "end_time": "2022-08-16T12:54:40.626074Z",
     "start_time": "2022-08-16T12:54:40.620551Z"
    }
   },
   "outputs": [
    {
     "name": "stdout",
     "output_type": "stream",
     "text": [
      "True\n"
     ]
    }
   ],
   "source": [
    "def ignore_command(command):\n",
    "    ignore = ['alias', 'configuration', 'ip', 'sql', 'select', 'update', 'exec', 'del', 'truncate']\n",
    "    return any(map(lambda x: x in command, ignore))\n",
    "\n",
    "\n",
    "print(ignore_command('get ip'))"
   ]
  },
  {
   "cell_type": "code",
   "execution_count": 52,
   "id": "7cbedf22",
   "metadata": {
    "ExecuteTime": {
     "end_time": "2022-08-16T12:59:05.842677Z",
     "start_time": "2022-08-16T12:59:05.838210Z"
    }
   },
   "outputs": [
    {
     "name": "stdout",
     "output_type": "stream",
     "text": [
      "Moscow is the capital of Russia, population equal 145934462 people.\n",
      "Washington is the capital of USA, population equal 331002651 people.\n",
      "London is the capital of UK, population equal 80345321 people.\n",
      "Berlin is the capital of Germany, population equal 67886011 people.\n",
      "Paris is the capital of France, population equal 65273511 people.\n",
      "Delhi is the capital of India, population equal 1380004385 people.\n"
     ]
    }
   ],
   "source": [
    "countries = ['Russia', 'USA', 'UK', 'Germany', 'France', 'India']\n",
    "capitals = ['Moscow', 'Washington', 'London', 'Berlin', 'Paris', 'Delhi']\n",
    "population = [145_934_462, 331_002_651, 80_345_321, 67_886_011, 65_273_511, 1_380_004_385]\n",
    "\n",
    "print(*[f\"{capital} is the capital of {country}, population equal {popul} people.\" for country,\n",
    "      capital, popul in zip(countries, capitals, population)], sep='\\n')"
   ]
  },
  {
   "cell_type": "markdown",
   "id": "ce2be5ae-b5aa-4af5-93ad-d0d04494b901",
   "metadata": {},
   "source": [
    "### Внутри шара\n",
    "\n",
    "На вход программе подаются три строки текста с вещественными числами, значениями абсцисс (x), ординат (y) и аппликат (z) точек трехмерного пространства. Напишите программу для проверки расположения всех точек с введенными координатами внутри либо на поверхности шара с центром в начале координат и радиусом R = 2."
   ]
  },
  {
   "cell_type": "code",
   "execution_count": 1,
   "id": "3c86aafc",
   "metadata": {
    "ExecuteTime": {
     "end_time": "2022-08-16T14:15:27.800448Z",
     "start_time": "2022-08-16T14:15:27.795949Z"
    }
   },
   "outputs": [
    {
     "name": "stdout",
     "output_type": "stream",
     "text": [
      "True\n"
     ]
    }
   ],
   "source": [
    "# points = [list(map(float, input().split())) for _ in range(3)]\n",
    "\n",
    "points = [[0.637, -0.411, -0.247, 1.658, 0.061],\n",
    "          [-0.78, -1.374, 0.762, 0.306, -0.614],\n",
    "          [-1.317, -0.444, -0.572, -0.341, 0.295]]\n",
    "\n",
    "print(all(map(lambda x: sum(map(lambda i: i*i, x)) <= 4, zip(*points))))"
   ]
  },
  {
   "cell_type": "markdown",
   "id": "f872176b",
   "metadata": {},
   "source": [
    "### Корректный IP-адрес"
   ]
  },
  {
   "cell_type": "code",
   "execution_count": 137,
   "id": "82915acd",
   "metadata": {
    "ExecuteTime": {
     "end_time": "2022-08-16T14:08:56.484449Z",
     "start_time": "2022-08-16T14:08:54.459669Z"
    }
   },
   "outputs": [
    {
     "name": "stdout",
     "output_type": "stream",
     "text": [
      "10.0.1.1\n",
      "True\n"
     ]
    }
   ],
   "source": [
    "print(all(map(lambda x: x.isdigit() and 0 <= int(x) < 256, input().split('.'))))"
   ]
  },
  {
   "cell_type": "markdown",
   "id": "25be4989",
   "metadata": {},
   "source": [
    "### Интересные числа\n",
    "\n",
    "На вход программе подаются два натуральных числа a и b. Напишите программу с использованием встроенной функции all() для обнаружения всех целых чисел в диапазоне [a; b], которые делятся на каждую содержащуюся в них цифру без остатка."
   ]
  },
  {
   "cell_type": "code",
   "execution_count": 5,
   "id": "43909495",
   "metadata": {
    "ExecuteTime": {
     "end_time": "2022-08-25T10:50:02.083975Z",
     "start_time": "2022-08-25T10:50:02.072907Z"
    }
   },
   "outputs": [
    {
     "name": "stdout",
     "output_type": "stream",
     "text": [
      "55 66 77 88 99 111 112 115 122 124 126 128 132 135 144\n"
     ]
    }
   ],
   "source": [
    "# a,b = [int(input()) for _ in 'ab']\n",
    "a, b = 50, 150\n",
    "print(*filter(lambda x: all(map(lambda y: y > 0 and not x % y, map(int, str(x)))), range(a, b+1)))"
   ]
  },
  {
   "cell_type": "markdown",
   "id": "6eddecb2",
   "metadata": {},
   "source": [
    "### Хороший пароль\n",
    "\n",
    "Хороший пароль по условиям этой задачи состоит как минимум из 7 символов, содержит хотя бы одну цифру, заглавную и строчную букву. Напишите программу со встроенной функцией any() для определения хорош ли введенный пароль."
   ]
  },
  {
   "cell_type": "code",
   "execution_count": 33,
   "id": "3b4fb182",
   "metadata": {
    "ExecuteTime": {
     "end_time": "2022-08-25T11:35:11.256972Z",
     "start_time": "2022-08-25T11:35:11.247756Z"
    }
   },
   "outputs": [
    {
     "data": {
      "text/plain": [
       "'YES'"
      ]
     },
     "execution_count": 33,
     "metadata": {},
     "output_type": "execute_result"
    }
   ],
   "source": [
    "passwd = 'abcABC9'\n",
    "('NO', 'YES')[all([len(passwd) > 6] + [any(map(f, passwd)) for f in [str.isdigit, str.isupper, str.islower]])]"
   ]
  },
  {
   "cell_type": "markdown",
   "id": "d7fab630",
   "metadata": {},
   "source": [
    "### Отличники\n",
    "\n",
    "Учитель Тимур проверял контрольные работы по математике в нескольких классах онлайн-школы BEEGEEK и решил убедиться, что в каждом классе есть хотя бы один отличник – ученик с оценкой 5 по контрольной работе. Напишите программу с использованием встроенных функций all(), any() для помощи Тимуру в проверке."
   ]
  },
  {
   "cell_type": "code",
   "execution_count": 35,
   "id": "591003e4",
   "metadata": {
    "ExecuteTime": {
     "end_time": "2022-08-25T11:55:25.165377Z",
     "start_time": "2022-08-25T11:54:05.746379Z"
    }
   },
   "outputs": [
    {
     "name": "stdout",
     "output_type": "stream",
     "text": [
      "4\n",
      "3\n",
      "Васечкин 4\n",
      "Илюшин 5\n",
      "Кривцов 3\n",
      "2\n",
      "Боталов 5\n",
      "Петров 5\n",
      "3\n",
      "Лебеда 4\n",
      "Ивлев 4\n",
      "Суворов 4\n",
      "2\n",
      "Ласкер 4\n",
      "Козлов 5\n",
      "NO\n"
     ]
    }
   ],
   "source": [
    "print(('NO', 'YES')[all([any([int(input().split()[1]) == 5 for _ in range(int(input()))])\n",
    "      for _ in range(int(input()))])])"
   ]
  },
  {
   "cell_type": "code",
   "execution_count": null,
   "id": "d90fa347",
   "metadata": {},
   "outputs": [],
   "source": [
    "# @Владимир Журавлев\n",
    "print(('NO', 'YES')[all([any(['5' in input() for _ in 'k'*int(input())]) for _ in 'n'*int(input())])])"
   ]
  },
  {
   "cell_type": "markdown",
   "id": "9ef7d06e-0666-4df0-ac7b-7334747995fa",
   "metadata": {},
   "source": [
    "## Письмо для экзамена\n",
    "Напишите функцию generate_letter(), которая будет собирать электронное письмо в соответствии с шаблоном:\n",
    "```\n",
    "To: <mail>\n",
    "Приветствую, <name>!\n",
    "Вам назначен экзамен, который пройдет <date>, в <time>.\n",
    "По адресу: <place>. \n",
    "Экзамен будет проводить <teacher> в кабинете <number>. \n",
    "Желаем удачи на экзамене!\n",
    "```\n",
    "Функция должна получать на вход пять обязательных аргументов mail, name, date, time, place и два необязательных teacher, number и возвращать текст готового письма. При отсутствии аргумента teacher учителем будет Тимур Гуев, а если нет аргумента number, то кабинет будет 17."
   ]
  },
  {
   "cell_type": "code",
   "execution_count": 1,
   "id": "326c4160-85eb-41f8-9a70-cfd537fab334",
   "metadata": {},
   "outputs": [
    {
     "name": "stdout",
     "output_type": "stream",
     "text": [
      "To: lara@yandex.ru\n",
      "Приветствую, Лариса!\n",
      "Вам назначен экзамен, который пройдет 10 декабря, в 12:00.\n",
      "По адресу: Часова 23, корпус 2. \n",
      "Экзамен будет проводить Тимур Гуев в кабинете 17. \n",
      "Желаем удачи на экзамене!\n",
      "\n",
      "To: lara@yandex.ru\n",
      "Приветствую, Лариса!\n",
      "Вам назначен экзамен, который пройдет 10 декабря, в 12:00.\n",
      "По адресу: Часова 23, корпус 2. \n",
      "Экзамен будет проводить Василь Ярошевич в кабинете 23. \n",
      "Желаем удачи на экзамене!\n"
     ]
    }
   ],
   "source": [
    "def generate_letter(mail, name, date, time, place, teacher='Тимур Гуев', number=17):\n",
    "    return f\"\"\"To: {mail}\n",
    "Приветствую, {name}!\n",
    "Вам назначен экзамен, который пройдет {date}, в {time}.\n",
    "По адресу: {place}. \n",
    "Экзамен будет проводить {teacher} в кабинете {number}. \n",
    "Желаем удачи на экзамене!\"\"\"\n",
    "\n",
    "\n",
    "print(generate_letter('lara@yandex.ru', 'Лариса', '10 декабря', '12:00', 'Часова 23, корпус 2'))\n",
    "print()\n",
    "print(generate_letter('lara@yandex.ru', 'Лариса', '10 декабря', '12:00',\n",
    "                      'Часова 23, корпус 2', 'Василь Ярошевич', 23))"
   ]
  },
  {
   "cell_type": "markdown",
   "id": "c24b07d0-9fa9-4e4c-9752-ab238cfbc718",
   "metadata": {},
   "source": [
    "## Pretty print\n",
    "Напишите функцию pretty_print(), которая выводит содержимое списка с рамкой. \n",
    "\n",
    "Функция должна получать на вход один обязательный аргумент data – список, который следует вывести и два необязательных строковых односимвольных  аргумента side и delimiter и выводить содержимое списка в соответствии с примерами.\n",
    "\n",
    "В случае если отсутствует аргумент side, то полагаем side='-', а если отсутствует аргумент delimiter, то полагаем delimiter='|'.\n",
    "\n"
   ]
  },
  {
   "cell_type": "code",
   "execution_count": 27,
   "id": "3c491a70-e735-41a5-a298-267b64791e3e",
   "metadata": {},
   "outputs": [
    {
     "name": "stdout",
     "output_type": "stream",
     "text": [
      " ------------------------------ \n",
      "| 1 | 2 | 10 | 23 | 123 | 3000 |\n",
      " ------------------------------ \n",
      " ------------------------- \n",
      "| abc | def | ghi | 12345 |\n",
      " ------------------------- \n",
      " ***************** \n",
      "| abc | def | ghi |\n",
      " ***************** \n",
      " ----------------- \n",
      "# abc # def # ghi #\n",
      " ----------------- \n",
      " ***************** \n",
      "# abc # def # ghi #\n",
      " ***************** \n"
     ]
    }
   ],
   "source": [
    "def pretty_print(data, side='-', delimiter='|'):\n",
    "    s = f\" {delimiter} \".join(map(str, data))\n",
    "    print(' ', side*(len(s)+2), ' ', sep='')\n",
    "    print(delimiter, s, delimiter)\n",
    "    print(' ', side*(len(s)+2), ' ', sep='')\n",
    "\n",
    "\n",
    "pretty_print([1, 2, 10, 23, 123, 3000])\n",
    "pretty_print(['abc', 'def', 'ghi', '12345'])\n",
    "pretty_print(['abc', 'def', 'ghi'], side='*')\n",
    "pretty_print(['abc', 'def', 'ghi'], delimiter='#')\n",
    "pretty_print(['abc', 'def', 'ghi'], side='*', delimiter='#')"
   ]
  },
  {
   "cell_type": "code",
   "execution_count": 28,
   "id": "1eb51e46-6cc3-48db-8409-b64652259e8c",
   "metadata": {},
   "outputs": [
    {
     "name": "stdout",
     "output_type": "stream",
     "text": [
      "[1, 7, 'beegeek']\n"
     ]
    }
   ],
   "source": [
    "print(list(filter(None, ['', 1, 7, 'beegeek', None, False, 0])))"
   ]
  },
  {
   "cell_type": "code",
   "execution_count": 29,
   "id": "af842bec-8c5f-49e0-b60f-13f6f827bbf0",
   "metadata": {},
   "outputs": [
    {
     "name": "stdout",
     "output_type": "stream",
     "text": [
      "iq-option\n"
     ]
    }
   ],
   "source": [
    "from functools import reduce\n",
    "\n",
    "words = ['beegeek', 'stepik', 'python', 'iq-option']\n",
    "result = reduce(lambda a, b: a if len(a) > len(b) else b, words)\n",
    "print(result)"
   ]
  },
  {
   "cell_type": "markdown",
   "id": "254f1234-2a2c-4c38-830a-e10a97c9b859",
   "metadata": {},
   "source": [
    "## concat\n",
    "Напишите функцию concat(), принимающую переменное количество аргументов и объединяющую их в одну строку через разделитель (sep). Если разделитель не задан, им служит пробел."
   ]
  },
  {
   "cell_type": "code",
   "execution_count": 33,
   "id": "87c44284-195c-497f-adc2-088954b8d697",
   "metadata": {},
   "outputs": [
    {
     "name": "stdout",
     "output_type": "stream",
     "text": [
      "hello python and stepik\n",
      "hello*python*and*stepik\n",
      "hello()()()python\n",
      "hello\n",
      "1$$2$$3$$4$$5$$6$$7$$8$$9\n"
     ]
    }
   ],
   "source": [
    "def concat(*args, sep=' '):\n",
    "    return sep.join(map(str, args))\n",
    "\n",
    "\n",
    "print(concat('hello', 'python', 'and', 'stepik'))\n",
    "print(concat('hello', 'python', 'and', 'stepik', sep='*'))\n",
    "print(concat('hello', 'python', sep='()()()'))\n",
    "print(concat('hello', sep='()'))\n",
    "print(concat(1, 2, 3, 4, 5, 6, 7, 8, 9, sep='$$'))"
   ]
  },
  {
   "cell_type": "markdown",
   "id": "9f471110-23a7-4282-bea0-75a4b858b910",
   "metadata": {},
   "source": [
    "## product_of_odd\n",
    "Перепишите функцию product_of_odds() в функциональном стиле с использованием встроенных функций filter() и reduce()."
   ]
  },
  {
   "cell_type": "code",
   "execution_count": 41,
   "id": "c118e8d4-6f54-4436-817c-21311c405341",
   "metadata": {},
   "outputs": [
    {
     "name": "stdout",
     "output_type": "stream",
     "text": [
      "945\n",
      "945\n"
     ]
    }
   ],
   "source": [
    "from functools import reduce\n",
    "\n",
    "def product_of_odds_(data):   # data - список целых чисел\n",
    "    result = 1\n",
    "    for i in data:\n",
    "        if i % 2 == 1:\n",
    "            result *= i\n",
    "    return result\n",
    "\n",
    "def product_of_odds(data):   # data - список целых чисел\n",
    "    return reduce(lambda a, b: a*b, filter(lambda x: x % 2, data), 1)\n",
    "\n",
    "\n",
    "print(product_of_odds(range(1, 10)))\n",
    "print(product_of_odds_(range(1, 10)))"
   ]
  },
  {
   "cell_type": "markdown",
   "id": "bfc078dc-1d65-42ea-babd-ec0c07da914d",
   "metadata": {},
   "source": [
    "## Распаковка\n",
    "Дан список слов words. Допишите код после оператора распаковки (*), который оборачивает в двойные кавычки все элементы списка words, а затем печатает результат на одной строке через пробел.\n",
    "\n"
   ]
  },
  {
   "cell_type": "code",
   "execution_count": 43,
   "id": "a267380c-1293-43c8-823f-5f7afa223b9d",
   "metadata": {},
   "outputs": [
    {
     "name": "stdout",
     "output_type": "stream",
     "text": [
      "\"the\" \"world\" \"is\" \"mine\" \"take\" \"a\" \"look\" \"what\" \"you\" \"have\" \"started\"\n"
     ]
    }
   ],
   "source": [
    "words = 'the world is mine take a look what you have started'.split()\n",
    "\n",
    "print(*map(lambda x: f'\"{x}\"', words))"
   ]
  },
  {
   "cell_type": "markdown",
   "id": "aa5ddf88-942c-4b0a-abbe-dead3efe7b84",
   "metadata": {},
   "source": [
    "## Удаление палиндромов\n",
    "Дан список целых чисел numbers. Допишите код после оператора распаковки (*), для удаления из списка всех чисел-палиндромов и печати результата на одной строке через пробел."
   ]
  },
  {
   "cell_type": "code",
   "execution_count": 47,
   "id": "57fafaaa-a49f-4158-877a-9c2a063bddbb",
   "metadata": {},
   "outputs": [
    {
     "name": "stdout",
     "output_type": "stream",
     "text": [
      "18 78 45 23 908 8976 6565 10 1000 908 786\n"
     ]
    }
   ],
   "source": [
    "numbers = [18, 191, 9009, 5665, 78, 77, 45, 23, 19991, 908, 8976, 6565, 5665, 10, 1000, 908, 909, 232, 45654, 786]\n",
    "print(*filter(lambda x: not str(x) == str(x)[::-1], numbers))"
   ]
  },
  {
   "cell_type": "markdown",
   "id": "bf0ffede-af0d-4548-80e9-aef77f8abffe",
   "metadata": {},
   "source": [
    "## Убывание по среднеарифметическому\n",
    "Дан список numbers, состоящий из кортежей. Допишите пропущенную часть программы, чтобы список sorted_numbers был упорядочен по убыванию среднего арифметического элементов кортежей списка numbers."
   ]
  },
  {
   "cell_type": "code",
   "execution_count": 49,
   "id": "dafca642-b0b5-43b3-a2b3-bf87977e9069",
   "metadata": {},
   "outputs": [
    {
     "name": "stdout",
     "output_type": "stream",
     "text": [
      "[(39, 12), (-13, 56), (17, 0, 1), (1, 9, 2), (10, -2, 3, 4), (3,), (-1, 5, 1), (1, 1), (0, 1), (3, -8), (-1, -9, -45, 32), (11, -23), (10, -100, 21, 32)]\n"
     ]
    }
   ],
   "source": [
    "numbers = [(10, -2, 3, 4), (-13, 56), (1, 9, 2), (-1, -9, -45, 32), (-1, 5, 1), (17, 0, 1),\n",
    "           (0, 1), (3,), (39, 12), (11, -23), (10, -100, 21, 32), (3, -8), (1, 1)]\n",
    "\n",
    "sorted_numbers = sorted(numbers, key=lambda x: sum(x)/len(x), reverse=True)\n",
    "\n",
    "print(sorted_numbers)"
   ]
  },
  {
   "cell_type": "markdown",
   "id": "7f6c64ac-1f10-42d6-ae3c-01808afd127a",
   "metadata": {},
   "source": [
    "## call\n",
    "Напишите функцию call(), которая принимает произвольную функцию и аргументы для неё и делает вызов переданной функции, возвращая ее значение."
   ]
  },
  {
   "cell_type": "code",
   "execution_count": 50,
   "id": "1a490e80-1259-4c1d-b5c1-081568c09fc9",
   "metadata": {},
   "outputs": [
    {
     "name": "stdout",
     "output_type": "stream",
     "text": [
      "70\n",
      "9\n",
      "80\n",
      "False\n"
     ]
    }
   ],
   "source": [
    "def mul7(x):\n",
    "    return x * 7\n",
    "\n",
    "\n",
    "def add2(x, y):\n",
    "    return x + y\n",
    "\n",
    "\n",
    "def add3(x, y, z):\n",
    "    return x + y + z\n",
    "\n",
    "\n",
    "def call(f, *args):\n",
    "    return f(*args)\n",
    "\n",
    "\n",
    "print(call(mul7, 10))\n",
    "print(call(add2, 2, 7))\n",
    "print(call(add3, 10, 30, 40))\n",
    "print(call(bool, 0))"
   ]
  },
  {
   "cell_type": "markdown",
   "id": "afe7bbc5-62f8-4adf-9afb-2483853ae9db",
   "metadata": {},
   "source": [
    "## compose\n",
    "Напишите функцию compose(), которая принимает на вход две других одноаргументных функции f и g и возвращает новую функцию. Эта новая функция также должна принимать один аргумент x и применять к нему исходные функции в нужном порядке: для функций f и g порядок применения должен выглядеть, как f(g(x))."
   ]
  },
  {
   "cell_type": "code",
   "execution_count": 52,
   "id": "e6d7ddd1-1fa4-4844-b72d-a098cd6f6688",
   "metadata": {},
   "outputs": [
    {
     "name": "stdout",
     "output_type": "stream",
     "text": [
      "28\n",
      "17\n",
      "3333333\n",
      "35\n"
     ]
    }
   ],
   "source": [
    "def add3(x):\n",
    "    return x + 3\n",
    "\n",
    "\n",
    "def mul7(x):\n",
    "    return x * 7\n",
    "\n",
    "def compose(f, g):\n",
    "    return lambda x: f(g(x))\n",
    "\n",
    "\n",
    "print(compose(mul7, add3)(1))\n",
    "print(compose(add3, mul7)(2))\n",
    "print(compose(mul7, str)(3))\n",
    "print(compose(str, mul7)(5))"
   ]
  },
  {
   "cell_type": "markdown",
   "id": "fb6b8e49-7d19-46cf-9e93-66c0a8a2685d",
   "metadata": {},
   "source": [
    "## arithmetic_operation\n",
    "Напишите функцию arithmetic_operation(), которая принимает символ одной из четырех арифметических операций (+, -, *, /) и возвращает функцию двух аргументов для соответствующей операции."
   ]
  },
  {
   "cell_type": "code",
   "execution_count": 54,
   "id": "fa539fcf-133e-4792-9a20-ade9ba67f4ff",
   "metadata": {},
   "outputs": [
    {
     "name": "stdout",
     "output_type": "stream",
     "text": [
      "30\n",
      "4.0\n"
     ]
    }
   ],
   "source": [
    "from operator import add, sub, mul, truediv\n",
    "def arithmetic_operation(operation):\n",
    "    return {'+': add, '-': sub, '*': mul, '/': truediv}[operation]\n",
    "\n",
    "\n",
    "add = arithmetic_operation('+')\n",
    "div = arithmetic_operation('/')\n",
    "print(add(10, 20))\n",
    "print(div(20, 5))"
   ]
  },
  {
   "cell_type": "markdown",
   "id": "7a612dd7-6025-4225-9f4f-3f85bc4a62c3",
   "metadata": {},
   "source": [
    "## В одну строку\n",
    "Дана строка из разделенных пробелами слов в разных регистрах. Напишите программу, которая отсортирует слова независимо от регистра, а затем выведет их. Отсортированные слова должны выводиться на печать в исходном регистре, в каком переданы программе на вход."
   ]
  },
  {
   "cell_type": "code",
   "execution_count": 60,
   "id": "897a2766-0eb7-49ee-a412-cbf68ae1e10f",
   "metadata": {},
   "outputs": [
    {
     "name": "stdin",
     "output_type": "stream",
     "text": [
      " cate Frog cat FROGs bee CATERS mouse cATwalk dolphin mOus Cats CatAlo\n"
     ]
    },
    {
     "name": "stdout",
     "output_type": "stream",
     "text": [
      "bee cat CatAlo cate CATERS Cats cATwalk dolphin Frog FROGs mOus mouse\n"
     ]
    }
   ],
   "source": [
    "words = input().split()\n",
    "print(*sorted(words, key=str.lower))"
   ]
  },
  {
   "cell_type": "markdown",
   "id": "fb64ff3a-4464-47a1-813e-23adf48cda6b",
   "metadata": {},
   "source": [
    "## Гематрия слова\n",
    "Гематрией слова называется сумма числовых значений входящих в него букв.\n",
    "\n",
    "Для вычисления гематрии слова в этой задаче:\n",
    "\n",
    "переведём слово в верхний регистр;\n",
    "числовое значение буквы вычислим как код(буквы) - код(буквы A).\n",
    "На вход программе подается натуральное число n, а затем n строк английских слов в разных регистрах.\n",
    "\n",
    "Напишите программу, которая выводит слова в начальном регистре (каждое на отдельной строке) в порядке возрастания их гематрии. Если гематрия слов совпадает, они выводятся в алфавитном (лексикографическом) порядке."
   ]
  },
  {
   "cell_type": "code",
   "execution_count": 71,
   "id": "8e1aaa8e-b7d5-42cc-a5a4-2e2a924ffcef",
   "metadata": {},
   "outputs": [
    {
     "name": "stdin",
     "output_type": "stream",
     "text": [
      " 4\n",
      " basis\n",
      " after\n",
      " chief\n",
      " agenda\n"
     ]
    },
    {
     "name": "stdout",
     "output_type": "stream",
     "text": [
      "agenda\n",
      "chief\n",
      "after\n",
      "basis\n"
     ]
    }
   ],
   "source": [
    "def gema(word): return sum(map(lambda x: ord(x)-65, word.upper()))\n",
    "\n",
    "\n",
    "print(*sorted(sorted((input() for _ in range(int(input())))), key=gema), sep='\\n')"
   ]
  },
  {
   "cell_type": "markdown",
   "id": "c5673e4d-4f1f-44a9-9a58-1309f2a273cb",
   "metadata": {},
   "source": [
    "## Сортировка IP-адресов\n",
    "IP-адрес – уникальный числовой идентификатор устройства в компьютерной сети, работающий по протоколу TCP/IP.\n",
    "В 4-й версии IP-адрес представляет собой 32-битное число. Адрес записывается в виде четырёх десятичных чисел (октетов) со значением от 0 до 255, разделённых точками, например, 192.168.1.2\n",
    "\n",
    "Напишите программу, которая считывает IP-адреса и выводит их в порядке возрастания в соответствии с десятичным представлением."
   ]
  },
  {
   "cell_type": "code",
   "execution_count": 69,
   "id": "279be164-c49f-45ee-a089-2a009d75f508",
   "metadata": {},
   "outputs": [
    {
     "name": "stdin",
     "output_type": "stream",
     "text": [
      " 9\n",
      " 128.199.44.24\n",
      " 128.199.201.245\n",
      " 143.198.168.95\n",
      " 172.67.181.62\n",
      " 172.67.222.111\n",
      " 172.67.10.90\n",
      " 45.8.106.59\n",
      " 203.13.32.156\n",
      " 172.67.181.194\n"
     ]
    },
    {
     "name": "stdout",
     "output_type": "stream",
     "text": [
      "45.8.106.59\n",
      "128.199.44.24\n",
      "128.199.201.245\n",
      "143.198.168.95\n",
      "172.67.10.90\n",
      "172.67.181.62\n",
      "172.67.181.194\n",
      "172.67.222.111\n",
      "203.13.32.156\n"
     ]
    }
   ],
   "source": [
    "def dec_view(ip):\n",
    "    return sum(int(o)*256**(3-i) for i, o in enumerate(ip.split('.')))\n",
    "\n",
    "\n",
    "print(*sorted((input() for _ in range(int(input()))), key=dec_view), sep='\\n')"
   ]
  },
  {
   "cell_type": "markdown",
   "id": "c22c17f1-9f6b-4ee6-ad95-88be61a88a59",
   "metadata": {},
   "source": [
    "# Работа с файлами"
   ]
  },
  {
   "cell_type": "markdown",
   "id": "8a391fbd-821d-457c-b7a4-b49b1a559f51",
   "metadata": {},
   "source": [
    "## Сумма двух-2\n",
    "Вам доступен текстовый файл nums.txt. В файле записано два целых числа, они могут быть разделены символами пробела и конца строки. Напишите программу, выводящую на экран сумму этих чисел."
   ]
  },
  {
   "cell_type": "code",
   "execution_count": 15,
   "id": "7190f4c2-3712-4b49-a086-fa4c020f9201",
   "metadata": {},
   "outputs": [
    {
     "name": "stdout",
     "output_type": "stream",
     "text": [
      "453491626\n"
     ]
    }
   ],
   "source": [
    "with open(\"nums.txt\") as f:\n",
    "    print(sum(map(int, f.read().split())))"
   ]
  },
  {
   "cell_type": "markdown",
   "id": "20b8c22b-b74f-4ce0-bda5-7aa0f1133219",
   "metadata": {},
   "source": [
    "## Общая стоимость\n",
    "Вам доступен текстовый файл prices.txt с информацией о заказе из интернет магазина. В нем каждая строка с помощью символа табуляции (\\t) разделена на три колонки:\n",
    "- наименование товара;\n",
    "- количество товара (целое число);\n",
    "- цена (в рублях) товара за 1 шт (целое число).\n",
    "Напишите программу, выводящую на экран общую стоимость заказа."
   ]
  },
  {
   "cell_type": "code",
   "execution_count": 5,
   "id": "dbe5f8df-ab1c-4f85-a96b-e7268ff84c45",
   "metadata": {
    "editable": true,
    "slideshow": {
     "slide_type": ""
    },
    "tags": []
   },
   "outputs": [
    {
     "name": "stdout",
     "output_type": "stream",
     "text": [
      "1286800\n"
     ]
    }
   ],
   "source": [
    "from functools import reduce\n",
    "with open(\"prices.txt\") as f:\n",
    "    print(sum(reduce(lambda a, b: a*b, map(int, x.split()[1:])) for x in f))"
   ]
  },
  {
   "cell_type": "markdown",
   "id": "93ba9e58-cc38-45d1-adc1-0f87f9270742",
   "metadata": {},
   "source": [
    "## Обратный порядок\n",
    "Вам доступен текстовый файл data.txt, в котором записаны строки текста. Напишите программу, выводящую все строки данного файла в обратном порядке: сначала последнюю, затем предпоследнюю и т.д."
   ]
  },
  {
   "cell_type": "code",
   "execution_count": 16,
   "id": "68bd13fe-1321-4c3d-a114-d77396cc343c",
   "metadata": {},
   "outputs": [
    {
     "name": "stdout",
     "output_type": "stream",
     "text": [
      "Complex is better than complicated.\n",
      "Simple is better than complex.\n",
      "Explicit is better than implicit.\n",
      "Beautiful is better than ugly.\n",
      "\n"
     ]
    }
   ],
   "source": [
    "with open(\"data.txt\") as f:\n",
    "    print(*f.readlines()[::-1], sep='')"
   ]
  },
  {
   "cell_type": "markdown",
   "id": "7eec0982-c594-4125-8216-d3cf130de7c0",
   "metadata": {},
   "source": [
    "## Длинные строки\n",
    "Вам доступен текстовый файл lines.txt, в котором записаны строки текста. Напишите программу, которая выводит все строки наибольшей длины из файла, не меняя их порядок."
   ]
  },
  {
   "cell_type": "code",
   "execution_count": 30,
   "id": "36eae271-756f-41fb-81a3-9f033d175678",
   "metadata": {
    "scrolled": true
   },
   "outputs": [
    {
     "name": "stdout",
     "output_type": "stream",
     "text": [
      "believe in their..\n",
      "Life is what 12345\n",
      "better than ugly!!\n",
      "Explicit is better\n",
      "\n"
     ]
    }
   ],
   "source": [
    "with open(\"lines.txt\") as f:\n",
    "    maxlen = len(max(f.readlines(), key=len))\n",
    "    f.seek(0)\n",
    "    print(*filter(lambda x: len(x) == maxlen, f.readlines()), sep='')"
   ]
  },
  {
   "cell_type": "markdown",
   "id": "ad1c6fc4-c8e7-4737-b11d-11309dd84b54",
   "metadata": {},
   "source": [
    "## Сумма чисел в строках\n",
    "Вам доступен текстовый файл numbers.txt, каждая строка которого может содержать одно или несколько целых чисел, разделенных одним или несколькими пробелами.\n",
    "\n",
    "Напишите программу, которая вычисляет сумму чисел в каждой строке и выводит эту сумму на экран (для каждой строки выводится сумма чисел в этой строке).\n",
    "\n"
   ]
  },
  {
   "cell_type": "code",
   "execution_count": 42,
   "id": "1540536c-c280-4d0f-bb94-3d02b4ab4142",
   "metadata": {},
   "outputs": [
    {
     "name": "stdout",
     "output_type": "stream",
     "text": [
      "256\n",
      "78\n",
      "114\n",
      "15\n",
      "1089\n"
     ]
    }
   ],
   "source": [
    "with open(\"numbers.txt\") as f:\n",
    "    print(*(sum(map(int, x.split())) for x in f), sep='\\n')"
   ]
  },
  {
   "cell_type": "markdown",
   "id": "d17e18c2-32cb-4754-ae61-0eeb095adae7",
   "metadata": {},
   "source": [
    "## Сумма чисел в файле\n",
    "Вам доступен текстовый файл nums.txt. В файле могут быть записаны целые неотрицательные числа и все, что угодно. Числом назовем последовательность одной и более цифр, идущих подряд (число всегда неотрицательно).\n",
    "\n",
    "Напишите программу, которая вычисляет сумму всех чисел, записанных в файле."
   ]
  },
  {
   "cell_type": "code",
   "execution_count": 62,
   "id": "89503436-6f75-4c30-879d-2903ead2590d",
   "metadata": {},
   "outputs": [
    {
     "name": "stdout",
     "output_type": "stream",
     "text": [
      "124410\n"
     ]
    }
   ],
   "source": [
    "import re\n",
    "with open(\"nums1.txt\") as f:\n",
    "    print(sum(sum(map(int, re.findall('\\d+', x))) for x in f))"
   ]
  },
  {
   "cell_type": "markdown",
   "id": "2d712695-6c11-4eac-a84e-72ba297d9900",
   "metadata": {},
   "source": [
    "## Статистика по файлу\n",
    "Вам доступен текстовый файл file.txt, набранный латиницей. Напишите программу, которая выводит количество букв латинского алфавита, слов и строк. Выведите три найденных числа в формате, приведенном в примере."
   ]
  },
  {
   "cell_type": "code",
   "execution_count": 84,
   "id": "24ec200e-7839-4a61-b240-2cf2ab9f00f2",
   "metadata": {},
   "outputs": [
    {
     "name": "stdout",
     "output_type": "stream",
     "text": [
      "Input file contains:\n",
      "1069 letters\n",
      "229 words\n",
      "12 lines\n"
     ]
    }
   ],
   "source": [
    "with open('file.txt') as f:\n",
    "    txt = f.read()\n",
    "    print('Input file contains:')\n",
    "    print(sum(map(str.isalpha, txt)), 'letters')\n",
    "    print(len(txt.split()), 'words')\n",
    "    print(txt.count('\\n') + 1, 'lines')"
   ]
  },
  {
   "cell_type": "markdown",
   "id": "477b8549-a9ce-4fdc-b287-022ea0daf86f",
   "metadata": {},
   "source": [
    "## Random name and surname\n",
    "Вам доступны два текстовых файла first_names.txt и last_names.txt, один с именами, другой с фамилиями.\n",
    "\n",
    "Напишите программу, которая c помощью модуля random создает \n",
    "3\n",
    "3 случайные пары имя + фамилия, а затем выводит их, каждую на отдельной строке.\n",
    "\n"
   ]
  },
  {
   "cell_type": "code",
   "execution_count": 112,
   "id": "93b9a60e-9da0-4768-9cb8-44eabbf72c37",
   "metadata": {},
   "outputs": [
    {
     "name": "stdout",
     "output_type": "stream",
     "text": [
      "Abe Perryman\n",
      "Davis Torrez\n",
      "Aaron Towle\n"
     ]
    }
   ],
   "source": [
    "from random import choices\n",
    "with open('first_names.txt') as name, open(\"last_names.txt\") as surname:\n",
    "    [print(*l) for l in zip(choices(list(map(str.rstrip, name)), k=3), choices(list(map(str.rstrip, surname)), k=3))]"
   ]
  },
  {
   "cell_type": "markdown",
   "id": "b7108565-c75b-428a-9a9d-eef3527623b0",
   "metadata": {},
   "source": [
    "## Необычные страны\n",
    "Вам доступен текстовый файл population.txt с названиями стран и численностью их населения, разделенными символом табуляции '\\t'.\n",
    "\n",
    "Напишите программу выводящую все страны, название которых начинается с буквы 'G', численность населения которых больше чем \n",
    "500000 человек, не меняя их порядок."
   ]
  },
  {
   "cell_type": "code",
   "execution_count": 128,
   "id": "770f075e-6142-4d39-ae5d-58c50d75fc0a",
   "metadata": {},
   "outputs": [
    {
     "name": "stdout",
     "output_type": "stream",
     "text": [
      "Germany\n",
      "Ghana\n",
      "Guatemala\n",
      "Greece\n",
      "Guinea\n",
      "Georgia\n",
      "Guinea-Bissau\n",
      "Gabon\n",
      "Guyana\n"
     ]
    }
   ],
   "source": [
    "with open(\"population.txt\") as f:\n",
    "    print(*(c for c, p in filter(lambda x: x[0].startswith('G') and int(x[1])\n",
    "          > 500000, map(lambda x: x.split('\\t'), f))), sep='\\n')"
   ]
  },
  {
   "cell_type": "markdown",
   "id": "024ec8c3-ecdd-4b9b-b408-1bf0c5af9cfd",
   "metadata": {},
   "source": [
    "## CSV-файл\n",
    "Вам доступен CSV-файл data.csv, содержащий информацию в csv формате. Напишите функцию read_csv для чтения данных из этого файла. Она должна возвращать список словарей, интерпретируя первую строку как имена ключей, а каждую последующую строку как значения этих ключей."
   ]
  },
  {
   "cell_type": "code",
   "execution_count": 140,
   "id": "57a80f5a-9991-4b68-83e9-0f969f52af4e",
   "metadata": {},
   "outputs": [
    {
     "data": {
      "text/plain": [
       "[{'policyID': '119736',\n",
       "  'statecode': 'FL',\n",
       "  'county': 'CLAY COUNTY',\n",
       "  'eq_site_limit': '498960',\n",
       "  'hu_site_limit': '498960',\n",
       "  'fl_site_limit': '498960',\n",
       "  'fr_site_limit': '498960',\n",
       "  'tiv_2011': '498960',\n",
       "  'tiv_2012': '792148.9',\n",
       "  'eq_site_deductible': '0',\n",
       "  'hu_site_deductible': '9979.2',\n",
       "  'fl_site_deductible': '0',\n",
       "  'fr_site_deductible': '0',\n",
       "  'point_latitude': '30.102261',\n",
       "  'point_longitude': '-81.711777',\n",
       "  'line': 'Residential',\n",
       "  'construction': 'Masonry',\n",
       "  'point_granularity': '1'},\n",
       " {'policyID': '448094',\n",
       "  'statecode': 'FL',\n",
       "  'county': 'CLAY COUNTY',\n",
       "  'eq_site_limit': '1322376.3',\n",
       "  'hu_site_limit': '1322376.3',\n",
       "  'fl_site_limit': '1322376.3',\n",
       "  'fr_site_limit': '1322376.3',\n",
       "  'tiv_2011': '1322376.3',\n",
       "  'tiv_2012': '1438163.57',\n",
       "  'eq_site_deductible': '0',\n",
       "  'hu_site_deductible': '0',\n",
       "  'fl_site_deductible': '0',\n",
       "  'fr_site_deductible': '0',\n",
       "  'point_latitude': '30.063936',\n",
       "  'point_longitude': '-81.707664',\n",
       "  'line': 'Residential',\n",
       "  'construction': 'Masonry',\n",
       "  'point_granularity': '3'},\n",
       " {'policyID': '206893',\n",
       "  'statecode': 'FL',\n",
       "  'county': 'CLAY COUNTY',\n",
       "  'eq_site_limit': '190724.4',\n",
       "  'hu_site_limit': '190724.4',\n",
       "  'fl_site_limit': '190724.4',\n",
       "  'fr_site_limit': '190724.4',\n",
       "  'tiv_2011': '190724.4',\n",
       "  'tiv_2012': '192476.78',\n",
       "  'eq_site_deductible': '0',\n",
       "  'hu_site_deductible': '0',\n",
       "  'fl_site_deductible': '0',\n",
       "  'fr_site_deductible': '0',\n",
       "  'point_latitude': '30.089579',\n",
       "  'point_longitude': '-81.700455',\n",
       "  'line': 'Residential',\n",
       "  'construction': 'Wood',\n",
       "  'point_granularity': '1'},\n",
       " {'policyID': '333743',\n",
       "  'statecode': 'FL',\n",
       "  'county': 'CLAY COUNTY',\n",
       "  'eq_site_limit': '0',\n",
       "  'hu_site_limit': '79520.76',\n",
       "  'fl_site_limit': '0',\n",
       "  'fr_site_limit': '0',\n",
       "  'tiv_2011': '79520.76',\n",
       "  'tiv_2012': '86854.48',\n",
       "  'eq_site_deductible': '0',\n",
       "  'hu_site_deductible': '0',\n",
       "  'fl_site_deductible': '0',\n",
       "  'fr_site_deductible': '0',\n",
       "  'point_latitude': '30.063236',\n",
       "  'point_longitude': '-81.707703',\n",
       "  'line': 'Residential',\n",
       "  'construction': 'Wood',\n",
       "  'point_granularity': '3'},\n",
       " {'policyID': '172534',\n",
       "  'statecode': 'FL',\n",
       "  'county': 'CLAY COUNTY',\n",
       "  'eq_site_limit': '0',\n",
       "  'hu_site_limit': '254281.5',\n",
       "  'fl_site_limit': '0',\n",
       "  'fr_site_limit': '254281.5',\n",
       "  'tiv_2011': '254281.5',\n",
       "  'tiv_2012': '246144.49',\n",
       "  'eq_site_deductible': '0',\n",
       "  'hu_site_deductible': '0',\n",
       "  'fl_site_deductible': '0',\n",
       "  'fr_site_deductible': '0',\n",
       "  'point_latitude': '30.060614',\n",
       "  'point_longitude': '-81.702675',\n",
       "  'line': 'Residential',\n",
       "  'construction': 'Wood',\n",
       "  'point_granularity': '1'},\n",
       " {'policyID': '785275',\n",
       "  'statecode': 'FL',\n",
       "  'county': 'CLAY COUNTY',\n",
       "  'eq_site_limit': '0',\n",
       "  'hu_site_limit': '515035.62',\n",
       "  'fl_site_limit': '0',\n",
       "  'fr_site_limit': '0',\n",
       "  'tiv_2011': '515035.62',\n",
       "  'tiv_2012': '884419.17',\n",
       "  'eq_site_deductible': '0',\n",
       "  'hu_site_deductible': '0',\n",
       "  'fl_site_deductible': '0',\n",
       "  'fr_site_deductible': '0',\n",
       "  'point_latitude': '30.063236',\n",
       "  'point_longitude': '-81.707703',\n",
       "  'line': 'Residential',\n",
       "  'construction': 'Masonry',\n",
       "  'point_granularity': '3'},\n",
       " {'policyID': '995932',\n",
       "  'statecode': 'FL',\n",
       "  'county': 'CLAY COUNTY',\n",
       "  'eq_site_limit': '0',\n",
       "  'hu_site_limit': '19260000',\n",
       "  'fl_site_limit': '0',\n",
       "  'fr_site_limit': '0',\n",
       "  'tiv_2011': '19260000',\n",
       "  'tiv_2012': '20610000',\n",
       "  'eq_site_deductible': '0',\n",
       "  'hu_site_deductible': '0',\n",
       "  'fl_site_deductible': '0',\n",
       "  'fr_site_deductible': '0',\n",
       "  'point_latitude': '30.102226',\n",
       "  'point_longitude': '-81.713882',\n",
       "  'line': 'Commercial',\n",
       "  'construction': 'Reinforced Concrete',\n",
       "  'point_granularity': '1'},\n",
       " {'policyID': '223488',\n",
       "  'statecode': 'FL',\n",
       "  'county': 'CLAY COUNTY',\n",
       "  'eq_site_limit': '328500',\n",
       "  'hu_site_limit': '328500',\n",
       "  'fl_site_limit': '328500',\n",
       "  'fr_site_limit': '328500',\n",
       "  'tiv_2011': '328500',\n",
       "  'tiv_2012': '348374.25',\n",
       "  'eq_site_deductible': '0',\n",
       "  'hu_site_deductible': '16425',\n",
       "  'fl_site_deductible': '0',\n",
       "  'fr_site_deductible': '0',\n",
       "  'point_latitude': '30.102217',\n",
       "  'point_longitude': '-81.707146',\n",
       "  'line': 'Residential',\n",
       "  'construction': 'Wood',\n",
       "  'point_granularity': '1'},\n",
       " {'policyID': '433512',\n",
       "  'statecode': 'FL',\n",
       "  'county': 'CLAY COUNTY',\n",
       "  'eq_site_limit': '315000',\n",
       "  'hu_site_limit': '315000',\n",
       "  'fl_site_limit': '315000',\n",
       "  'fr_site_limit': '315000',\n",
       "  'tiv_2011': '315000',\n",
       "  'tiv_2012': '265821.57',\n",
       "  'eq_site_deductible': '0',\n",
       "  'hu_site_deductible': '15750',\n",
       "  'fl_site_deductible': '0',\n",
       "  'fr_site_deductible': '0',\n",
       "  'point_latitude': '30.118774',\n",
       "  'point_longitude': '-81.704613',\n",
       "  'line': 'Residential',\n",
       "  'construction': 'Wood',\n",
       "  'point_granularity': '1'},\n",
       " {'policyID': '142071',\n",
       "  'statecode': 'FL',\n",
       "  'county': 'CLAY COUNTY',\n",
       "  'eq_site_limit': '705600',\n",
       "  'hu_site_limit': '705600',\n",
       "  'fl_site_limit': '705600',\n",
       "  'fr_site_limit': '705600',\n",
       "  'tiv_2011': '705600',\n",
       "  'tiv_2012': '1010842.56',\n",
       "  'eq_site_deductible': '14112',\n",
       "  'hu_site_deductible': '35280',\n",
       "  'fl_site_deductible': '0',\n",
       "  'fr_site_deductible': '0',\n",
       "  'point_latitude': '30.100628',\n",
       "  'point_longitude': '-81.703751',\n",
       "  'line': 'Residential',\n",
       "  'construction': 'Masonry',\n",
       "  'point_granularity': '1'}]"
      ]
     },
     "execution_count": 140,
     "metadata": {},
     "output_type": "execute_result"
    }
   ],
   "source": [
    "def read_csv():\n",
    "    with open(\"data.csv\") as f:\n",
    "        keys = f.readline().rstrip().split(',')\n",
    "        return [dict(zip(keys, l.rstrip().split(','))) for l in f]\n",
    "\n",
    "\n",
    "read_csv()"
   ]
  },
  {
   "cell_type": "markdown",
   "id": "5b3cf231-1fed-4f94-91ba-83848b162f78",
   "metadata": {},
   "source": [
    "## Случайные числа\n",
    "Напишите программу, записывающую в текстовый файл random.txt \n",
    "25 случайных чисел в диапазоне от 111 до 777 (включительно), каждое с новой строки."
   ]
  },
  {
   "cell_type": "code",
   "execution_count": 144,
   "id": "613e5f3c-60e1-445b-b528-b3e0221d2b7c",
   "metadata": {},
   "outputs": [],
   "source": [
    "from random import sample\n",
    "with open(\"random.txt\", 'w') as f:\n",
    "    print(*sample(range(111, 778), 25), sep='\\n', file=f)"
   ]
  },
  {
   "cell_type": "markdown",
   "id": "41afa573-0b63-4f47-8223-c54d65940cf8",
   "metadata": {},
   "source": [
    "## Нумерация строк\n",
    "Вам доступен текстовый файл input.txt, состоящий из нескольких строк. Напишите программу для записи содержимого этого файла в файл output.txt в виде нумерованного списка, где перед каждой строкой стоит ее номер, символ ) и пробел. Нумерация строк должна начинаться с 1."
   ]
  },
  {
   "cell_type": "code",
   "execution_count": 148,
   "id": "7e6ce3c3-9820-4a98-bdd0-e804fcaee6e6",
   "metadata": {},
   "outputs": [],
   "source": [
    "with open(\"lines.txt\") as _input, open(\"output.txt\", 'w') as _output:\n",
    "    for i, l in enumerate(_input):\n",
    "        print(f\"{i+1})\", l, end='', file=_output)"
   ]
  },
  {
   "cell_type": "markdown",
   "id": "44cbbb78-8f66-4631-9676-a8e2810956e6",
   "metadata": {},
   "source": [
    "## Подарок на новый год\n",
    "Вам доступен текстовый файл class_scores.txt с оценками за итоговый тест на строках вида: фамилия оценка (фамилия и оценка разделены пробелом). Оценка - целое число от 0 до 100 включительно.\n",
    "Напишите программу для добавления 5 баллов к каждому результату теста и вывода фамилий и новых результатов тестов в файл new_scores.txt."
   ]
  },
  {
   "cell_type": "code",
   "execution_count": 182,
   "id": "b174be35-310d-4680-b229-eedd37ea5cd6",
   "metadata": {},
   "outputs": [],
   "source": [
    "with open(\"class_scores.txt\") as _i, open(\"new_scores.txt\", 'w') as _o:\n",
    "    for l in _i:\n",
    "        a, b = l.split()\n",
    "        nv = int(b)+5\n",
    "        print(a, 100 if nv > 100 else nv, file=_o)"
   ]
  },
  {
   "cell_type": "markdown",
   "id": "84ad71e3-b177-41db-a500-2f9b391b882a",
   "metadata": {},
   "source": [
    "## Загадка от Жака Фреско 🌶️\n",
    "Вам доступен текстовый файл goats.txt в первой строке которого написано слово COLOURS, далее идет список всех возможных цветов козлов. Затем идет строка со словом GOATS, и далее непосредственно перечисление козлов разных цветов. Перечень козлов включает только строки из первого списка.\n",
    "\n",
    "Напишите программу создания файла answer.txt и вывода в него списка козлов, которые удовлетворяют условию загадки от Жака Фреско: \"Сколько из них составляет более 7% от общего количества козлов?\""
   ]
  },
  {
   "cell_type": "code",
   "execution_count": 32,
   "id": "58975672-a5e0-4b2c-a00f-d74b81a75d36",
   "metadata": {},
   "outputs": [
    {
     "name": "stdout",
     "output_type": "stream",
     "text": [
      "Pink goat\n",
      "White goat\n"
     ]
    }
   ],
   "source": [
    "goats = {}\n",
    "sum_goats = 0\n",
    "with open(\"goats.txt\") as f:\n",
    "    while not f.readline().startswith('GOATS'):\n",
    "        pass\n",
    "    for g in f:\n",
    "        goats[g] = goats.get(g, 0) + 1\n",
    "        sum_goats += 1\n",
    "\n",
    "print(*sorted(filter(lambda x: goats[x] > sum_goats * 0.07, goats)), sep='', end='')"
   ]
  },
  {
   "cell_type": "markdown",
   "id": "b9f1742c-073d-4314-badc-86ae65436978",
   "metadata": {},
   "source": [
    "## Конкатенация файлов 🌶️\n",
    "На вход программе подается натуральное число n и n строк с названиями файлов. Напишите программу, которая создает файл output.txt и выводит в него содержимое всех файлов, не меняя их порядка. Смотрите Примечание 2 для понимания работы программы."
   ]
  },
  {
   "cell_type": "code",
   "execution_count": 36,
   "id": "e2e0d952-6fe9-4c6f-ad15-c570a754eada",
   "metadata": {},
   "outputs": [
    {
     "name": "stdin",
     "output_type": "stream",
     "text": [
      " 2\n",
      " data.txt\n",
      " file.txt\n"
     ]
    }
   ],
   "source": [
    "with open(\"output.txt\", 'w') as _o:\n",
    "    for f in [input() for _ in range(int(input()))]:\n",
    "        with open(f) as _i:\n",
    "            _o.write(_i.read())"
   ]
  },
  {
   "cell_type": "markdown",
   "id": "54126765-7e96-4709-a441-4f536eb48e1e",
   "metadata": {},
   "source": [
    "## Лог файл 🌶️\n",
    "Вам доступен текстовый файл logfile.txt с информацией о времени входа пользователя в систему и выхода из нее. Каждая строка файла содержит три значения, разделенные запятыми и символом пробела: имя пользователя, время входа, время выхода, где время указано в 24-часовом формате.\n",
    "\n",
    "Напишите программу, которая создает файл output.txt и выводит в него имена всех пользователей (не меняя порядка следования), которые были в сети не менее часа."
   ]
  },
  {
   "cell_type": "code",
   "execution_count": 49,
   "id": "0883c812-1270-405c-bd46-0da15ca7998a",
   "metadata": {},
   "outputs": [],
   "source": [
    "from time import mktime, strptime\n",
    "with open(\"logfile.txt\") as log, open(\"output.txt\", 'w') as _o:\n",
    "    for l in log:\n",
    "        name, btime, etime = l.split(',')\n",
    "        if mktime(strptime(etime.strip(), \"%H:%M\")) - mktime(strptime(btime.strip(), \"%H:%M\")) >= 3600:\n",
    "            print(name, file=_o)"
   ]
  },
  {
   "cell_type": "markdown",
   "id": "50420f3a-8f40-4aa2-a7bd-d890b45f774a",
   "metadata": {},
   "source": [
    "## Экзамен"
   ]
  },
  {
   "cell_type": "markdown",
   "id": "0976efe5-3483-456f-a1d2-8af0e0aedea1",
   "metadata": {},
   "source": [
    "## Количество строк в файле\n",
    "На вход программе подается строка текста с именем текстового файла. Напишите программу для вывода на экран количества строк данного файла."
   ]
  },
  {
   "cell_type": "code",
   "execution_count": 2,
   "id": "1b9f681e-debb-4e5a-9b12-5af50a094f4c",
   "metadata": {},
   "outputs": [
    {
     "name": "stdin",
     "output_type": "stream",
     "text": [
      " file.txt\n"
     ]
    },
    {
     "name": "stdout",
     "output_type": "stream",
     "text": [
      "12\n"
     ]
    }
   ],
   "source": [
    "with open(input()) as f:\n",
    "    print(len(f.readlines()))"
   ]
  },
  {
   "cell_type": "markdown",
   "id": "a6ba8719-f00b-4576-ae79-998e38627fd6",
   "metadata": {},
   "source": [
    "## Суммарная стоимость\n",
    "Вам доступен текстовый файл ledger.txt с данными о продажах фирмы за месяц. На каждой строке файла указано, сколько клиент заплатил за товар, в долларах (целое число). Напишите программу для подсчета суммарной месячной выручки фирмы. \n",
    "\n"
   ]
  },
  {
   "cell_type": "code",
   "execution_count": 4,
   "id": "28593c82-27ba-4270-8307-67c9950ec11c",
   "metadata": {},
   "outputs": [
    {
     "name": "stdout",
     "output_type": "stream",
     "text": [
      "$26127\n"
     ]
    }
   ],
   "source": [
    "with open(\"ledger.txt\") as f:\n",
    "    print(f\"${sum(map(lambda x: int(x[1:]), f))}\")"
   ]
  },
  {
   "cell_type": "markdown",
   "id": "97d3d61f-18c1-4c57-916c-304445834bf0",
   "metadata": {},
   "source": [
    "## Goooood students\n",
    "Вам доступен текстовый файл grades.txt, содержащий оценки студента за три теста в каждом из триместров. Строки файла имеют вид: фамилия оценка_1 оценка_2 оценка_3.\n",
    "\n",
    "Напишите программу для подсчета количества студентов, сдавших все три теста. Тест считается сданным, если количество баллов по нему не меньше 65."
   ]
  },
  {
   "cell_type": "code",
   "execution_count": 15,
   "id": "bd1af514-f092-4401-8941-1250d9a876f1",
   "metadata": {},
   "outputs": [
    {
     "name": "stdout",
     "output_type": "stream",
     "text": [
      "19\n"
     ]
    }
   ],
   "source": [
    "good_students = 0\n",
    "with open(\"grades.txt\") as f:\n",
    "    for l in f:\n",
    "        name, *m = l.split()\n",
    "        good_students += all(map(lambda x: int(x) >= 65, m))\n",
    "print(good_students)"
   ]
  },
  {
   "cell_type": "markdown",
   "id": "adc64fb1-7403-4f71-b9b9-85e1e9511ab9",
   "metadata": {},
   "source": [
    "## Самое длинное слово в файле\n",
    "Вам доступен текстовый файл words.txt со словами, разделенными пробелом. Напишите программу, которая находит и выводит самые длинные слова этого файла, не меняя порядка их следования."
   ]
  },
  {
   "cell_type": "code",
   "execution_count": 24,
   "id": "76a80821-c9f5-4d49-8a8a-82e84851b904",
   "metadata": {},
   "outputs": [
    {
     "name": "stdout",
     "output_type": "stream",
     "text": [
      "responsibility\n",
      "administration\n",
      "recommendation\n",
      "transportation\n"
     ]
    }
   ],
   "source": [
    "with open(\"words.txt\") as f:\n",
    "    words = f.read().split()\n",
    "    maxlen = len(max(words, key=len))\n",
    "    print(*filter(lambda x: len(x) == maxlen, words), sep='\\n')"
   ]
  },
  {
   "cell_type": "markdown",
   "id": "2cce68a7-1eb2-4ec5-947d-a4595d2ef728",
   "metadata": {},
   "source": [
    "## Tail of a File\n",
    "На вход программе подается строка текста с именем текстового файла. Напишите программу, выводящую на экран последние 10 строк данного файла.\n",
    "\n"
   ]
  },
  {
   "cell_type": "code",
   "execution_count": 33,
   "id": "d9957d5b-1d65-4c12-92ad-37e357a6c57d",
   "metadata": {},
   "outputs": [
    {
     "name": "stdin",
     "output_type": "stream",
     "text": [
      " grades.txt\n"
     ]
    },
    {
     "name": "stdout",
     "output_type": "stream",
     "text": [
      "Wheatley 54 58 35\n",
      "Whitfield 68 81 93\n",
      "Willcox 96 94 80\n",
      "Williams 68 54 33\n",
      "Williams 60 91 21\n",
      "Wilson 87 97 96\n",
      "Wilson 67 28 81\n",
      "Wright 65 66 67\n",
      "Young 64 65 66\n",
      "Young 65 65 65\n"
     ]
    }
   ],
   "source": [
    "with open(input()) as f:\n",
    "    print(*list(f)[-10:], sep='')"
   ]
  },
  {
   "cell_type": "markdown",
   "id": "3d941286-fffa-48f2-933a-0ba6950932b9",
   "metadata": {},
   "source": [
    "## Forbidden words 🌶️\n",
    "На вход программе подается строка текста с именем текстового файла. Напишите программу, выводящую на экран содержимое этого файла, но с заменой всех запрещенных слов звездочками * (количество звездочек равно количеству букв в слове).\n",
    "\n",
    "Запрещенные слова, разделенные символом пробела, хранятся в текстовом файле forbidden_words.txt. Гарантируется, что все слова в этом файле записаны в нижнем регистре."
   ]
  },
  {
   "cell_type": "code",
   "execution_count": 48,
   "id": "9fad13b6-1b66-49e7-afd8-8ff424eb4046",
   "metadata": {},
   "outputs": [
    {
     "name": "stdin",
     "output_type": "stream",
     "text": [
      " beegeek.txt\n"
     ]
    },
    {
     "name": "stdout",
     "output_type": "stream",
     "text": [
      "*****, ***ld! ****** ** *** programming language of *** future. My ***** **....\n",
      "****** ** awesome!!!!\n",
      "\n"
     ]
    }
   ],
   "source": [
    "import re\n",
    "with open(\"forbidden_words.txt\") as fw, open(input()) as ft:\n",
    "    fwords, text = fw.read().split(), ft.read()\n",
    "for w in fwords:\n",
    "    text = re.sub(fr'{w}', '*'*len(w), text, flags=re.I | re.M)\n",
    "print(text)"
   ]
  },
  {
   "cell_type": "markdown",
   "id": "aea6a91a-cb32-4be7-b60b-886656d47b37",
   "metadata": {},
   "source": [
    "## Транслитерация 🌶️\n",
    "Вам доступен текстовый файл cyrillic.txt, содержащий текст. Напишите программу для транслитерации этого файла, то есть замены кириллических символов на латинские в соответствии с предложенной таблицей. Все остальные символы надо оставить без изменений. Результат транслитерации требуется записать в файл transliteration.txt."
   ]
  },
  {
   "cell_type": "code",
   "execution_count": 61,
   "id": "2765b0e4-52a4-4bdc-849c-87d371501043",
   "metadata": {},
   "outputs": [],
   "source": [
    "d = {\n",
    "    'а': 'a', 'к': 'k', 'х': 'h', 'б': 'b', 'л': 'l', 'ц': 'c', 'в': 'v', 'м': 'm', 'ч': 'ch',\n",
    "    'г': 'g', 'н': 'n', 'ш': 'sh', 'д': 'd', 'о': 'o', 'щ': 'shh', 'е': 'e', 'п': 'p', 'ъ': '*',\n",
    "    'ё': 'jo', 'р': 'r', 'ы': 'y', 'ж': 'zh', 'с': 's', 'ь': \"'\", 'з': 'z', 'т': 't', 'э': 'je',\n",
    "    'и': 'i', 'у': 'u', 'ю': 'ju', 'й': 'j', 'ф': 'f', 'я': 'ya'\n",
    "}\n",
    "with open('cyrillic.txt') as _i:\n",
    "    text = _i.read()\n",
    "out = ''\n",
    "for c in text:\n",
    "    out += d.get(c, d[c.lower()].capitalize() if c.lower() in d else c)\n",
    "with open('transliteration.txt', 'w') as ft:\n",
    "    print(out, file=ft, end='')"
   ]
  },
  {
   "cell_type": "markdown",
   "id": "1f462c79-b431-4ba8-94e8-36eee7d5dfa4",
   "metadata": {},
   "source": [
    "## Пропущенные комменты 🌶️\n",
    "При написании собственных функций рекомендуется в комментарии описывать назначение функции, ее параметры и возвращаемое значение. Часто программисты откладывают написание таких комментариев напоследок, а потом и вовсе забывают о них 😂.\n",
    "\n",
    "На вход программе подается строка текста с именем текстового файла, в котором написан код на языке Python. Напишите программу, выводящую на экран имена всех функций, для которых отсутствует поясняющий комментарий. Будем считать, что любая строка, начинающаяся со слова def и пробела, является началом определения функции. Функция содержит комментарий, если первый символ предыдущей строки - #."
   ]
  },
  {
   "cell_type": "code",
   "execution_count": 73,
   "id": "8740c82a-5757-4740-b114-6c7443fb4270",
   "metadata": {},
   "outputs": [
    {
     "name": "stdin",
     "output_type": "stream",
     "text": [
      " python.txt\n"
     ]
    },
    {
     "name": "stdout",
     "output_type": "stream",
     "text": [
      "powers\n",
      "matrix\n",
      "mean\n",
      "greet\n"
     ]
    }
   ],
   "source": [
    "with open(input()) as f:\n",
    "    prev, defs = '', []\n",
    "    for line in f:\n",
    "        if line.startswith('def ') and not prev.startswith('#'):\n",
    "            defs.append(line[4:line.find('(')])\n",
    "        prev = line\n",
    "if not defs:\n",
    "    print('Best Programming Team')\n",
    "else:\n",
    "    print(*defs, sep='\\n')"
   ]
  }
 ],
 "metadata": {
  "kernelspec": {
   "display_name": "Python 3 (ipykernel)",
   "language": "python",
   "name": "python3"
  },
  "language_info": {
   "codemirror_mode": {
    "name": "ipython",
    "version": 3
   },
   "file_extension": ".py",
   "mimetype": "text/x-python",
   "name": "python",
   "nbconvert_exporter": "python",
   "pygments_lexer": "ipython3",
   "version": "3.12.3"
  },
  "latex_envs": {
   "LaTeX_envs_menu_present": true,
   "autoclose": false,
   "autocomplete": true,
   "bibliofile": "biblio.bib",
   "cite_by": "apalike",
   "current_citInitial": 1,
   "eqLabelWithNumbers": true,
   "eqNumInitial": 1,
   "hotkeys": {
    "equation": "Ctrl-E",
    "itemize": "Ctrl-I"
   },
   "labels_anchors": false,
   "latex_user_defs": false,
   "report_style_numbering": false,
   "user_envs_cfg": false
  },
  "varInspector": {
   "cols": {
    "lenName": 16,
    "lenType": 16,
    "lenVar": 40
   },
   "kernels_config": {
    "python": {
     "delete_cmd_postfix": "",
     "delete_cmd_prefix": "del ",
     "library": "var_list.py",
     "varRefreshCmd": "print(var_dic_list())"
    },
    "r": {
     "delete_cmd_postfix": ") ",
     "delete_cmd_prefix": "rm(",
     "library": "var_list.r",
     "varRefreshCmd": "cat(var_dic_list()) "
    }
   },
   "types_to_exclude": [
    "module",
    "function",
    "builtin_function_or_method",
    "instance",
    "_Feature"
   ],
   "window_display": false
  },
  "widgets": {
   "application/vnd.jupyter.widget-state+json": {
    "state": {},
    "version_major": 2,
    "version_minor": 0
   }
  }
 },
 "nbformat": 4,
 "nbformat_minor": 5
}
