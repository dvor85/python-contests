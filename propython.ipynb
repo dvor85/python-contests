{
 "cells": [
  {
   "cell_type": "markdown",
   "metadata": {},
   "source": [
    "## 2.1 Основные конструкции"
   ]
  },
  {
   "cell_type": "markdown",
   "metadata": {},
   "source": [
    "### 1. Easy"
   ]
  },
  {
   "cell_type": "code",
   "execution_count": 2,
   "metadata": {
    "ExecuteTime": {
     "end_time": "2022-06-22T14:00:32.048416Z",
     "start_time": "2022-06-22T14:00:29.319751Z"
    }
   },
   "outputs": [
    {
     "name": "stdout",
     "output_type": "stream",
     "text": [
      "4\n",
      "5\n",
      "9\n",
      "-1\n",
      "20\n",
      "0.8\n",
      "0\n",
      "4\n",
      "3288.4952485901513\n"
     ]
    }
   ],
   "source": [
    "a,b = int(input()), int(input())\n",
    "print(a+b)\n",
    "print(a-b)\n",
    "print(a*b)\n",
    "print(a/b)\n",
    "print(a//b)\n",
    "print(a % b)\n",
    "print((a**10+b**10)**0.5)"
   ]
  },
  {
   "cell_type": "markdown",
   "metadata": {},
   "source": [
    "### 2. Индекс массы тела\n",
    "Напишите программу для вычисления и оценки индекса массы тела (ИМТ) человека. ИМТ показывает весит человек больше или меньше нормы для своего роста."
   ]
  },
  {
   "cell_type": "code",
   "execution_count": 6,
   "metadata": {
    "ExecuteTime": {
     "end_time": "2022-06-22T14:07:36.898681Z",
     "start_time": "2022-06-22T14:07:36.887799Z"
    }
   },
   "outputs": [
    {
     "data": {
      "text/plain": [
       "'Оптимальная масса'"
      ]
     },
     "execution_count": 6,
     "metadata": {},
     "output_type": "execute_result"
    }
   ],
   "source": [
    "def solution(m,l):\n",
    "    imt = m/(l**2)\n",
    "    if 18.5<=imt<=25:\n",
    "        return \"Оптимальная масса\"\n",
    "    elif imt<18.5:\n",
    "        return \"Недостаточная масса\"\n",
    "    else:\n",
    "        return \"Избыточная масса\"\n",
    "    \n",
    "solution(75, 1.8)"
   ]
  },
  {
   "cell_type": "markdown",
   "metadata": {},
   "source": [
    "### 3. Стоимость строки\n",
    "Дана строка текста. Напишите программу для подсчета стоимости строки, исходя из того, что один любой символ (в том числе пробел) стоит 60 копеек."
   ]
  },
  {
   "cell_type": "code",
   "execution_count": 18,
   "metadata": {
    "ExecuteTime": {
     "end_time": "2022-06-22T14:24:16.319390Z",
     "start_time": "2022-06-22T14:24:16.313348Z"
    }
   },
   "outputs": [
    {
     "data": {
      "text/plain": [
       "'43 р. 80 коп.'"
      ]
     },
     "execution_count": 18,
     "metadata": {},
     "output_type": "execute_result"
    }
   ],
   "source": [
    "def solution(s):\n",
    "    price = 60*len(s)\n",
    "    return f\"{price // 100} р. {price % 100} коп.\"\n",
    "solution(\"Я собираюсь сделать ему предложение, от которого он не сможет отказаться.\")"
   ]
  },
  {
   "cell_type": "markdown",
   "metadata": {},
   "source": [
    "### 4. Количество слов\n",
    "Дана строка, состоящая из слов, разделенных пробелами. Напишите программу, которая подсчитывает количество слов в этой строке."
   ]
  },
  {
   "cell_type": "code",
   "execution_count": 1,
   "metadata": {
    "ExecuteTime": {
     "end_time": "2022-06-23T10:41:20.843967Z",
     "start_time": "2022-06-23T10:41:14.128726Z"
    }
   },
   "outputs": [
    {
     "name": "stdout",
     "output_type": "stream",
     "text": [
      "Hello world\n",
      "2\n"
     ]
    }
   ],
   "source": [
    "print(len(input().split()))"
   ]
  },
  {
   "cell_type": "markdown",
   "metadata": {},
   "source": [
    "### 5.Зодиак\n",
    "Китайский гороскоп назначает животным годы в 12-летнем цикле. Один 12-летний цикл показан в таблице ниже. Таким образом, 2012 год будет очередным годом дракона."
   ]
  },
  {
   "cell_type": "code",
   "execution_count": 32,
   "metadata": {
    "ExecuteTime": {
     "end_time": "2022-06-23T11:05:55.070606Z",
     "start_time": "2022-06-23T11:05:55.063742Z"
    }
   },
   "outputs": [
    {
     "data": {
      "text/plain": [
       "'Петух'"
      ]
     },
     "execution_count": 32,
     "metadata": {},
     "output_type": "execute_result"
    }
   ],
   "source": [
    "def solution(year):\n",
    "    zodiak = [\n",
    "        \"Дракон\", \"Змея\", \"Лошадь\", \"Овца\", \"Обезьяна\", \"Петух\", \"Собака\",\n",
    "        \"Свинья\", \"Крыса\", \"Бык\", \"Тигр\", \"Заяц\"\n",
    "    ]\n",
    "    return zodiak[(year - 2000) % 12]\n",
    "\n",
    "\n",
    "solution(1945)"
   ]
  },
  {
   "cell_type": "markdown",
   "metadata": {
    "ExecuteTime": {
     "end_time": "2022-06-23T10:51:51.370003Z",
     "start_time": "2022-06-23T10:51:51.366362Z"
    }
   },
   "source": [
    "### 6. Переворот числа\n",
    "Дано пятизначное или шестизначное натуральное число. Напишите программу, которая изменит порядок его последних пяти цифр на обратный."
   ]
  },
  {
   "cell_type": "code",
   "execution_count": 64,
   "metadata": {
    "ExecuteTime": {
     "end_time": "2022-06-23T11:21:34.152920Z",
     "start_time": "2022-06-23T11:21:34.148051Z"
    }
   },
   "outputs": [
    {
     "data": {
      "text/plain": [
       "52"
      ]
     },
     "execution_count": 64,
     "metadata": {},
     "output_type": "execute_result"
    }
   ],
   "source": [
    "s=\"25000\"\n",
    "int(s.replace(s[-5:],s[:-6:-1]))"
   ]
  },
  {
   "cell_type": "markdown",
   "metadata": {},
   "source": [
    "### 7. Standard American Convention\n",
    "На вход программе подаётся натуральное число. Напишите программу, которая вставляет в заданное число запятые в соответствии со стандартным американским соглашением о запятых в больших числах.\n"
   ]
  },
  {
   "cell_type": "code",
   "execution_count": 71,
   "metadata": {
    "ExecuteTime": {
     "end_time": "2022-06-23T11:30:00.424437Z",
     "start_time": "2022-06-23T11:29:55.780557Z"
    }
   },
   "outputs": [
    {
     "name": "stdout",
     "output_type": "stream",
     "text": [
      " \t  3724650756252\n",
      "3,724,650,756,252\n"
     ]
    }
   ],
   "source": [
    "print(f\"{int(input()):,}\")\n",
    "    "
   ]
  },
  {
   "cell_type": "markdown",
   "metadata": {},
   "source": [
    "### 8. Задача Иосифа Флавия\n",
    "n человек, пронумерованных числами от 1 до n, стоят в кругу. Они начинают считаться, каждый k-й по счету человек выбывает из круга, после чего счет продолжается со следующего за ним человека. Напишите программу, определяющую номер человека, который останется в кругу последним."
   ]
  },
  {
   "cell_type": "code",
   "execution_count": 91,
   "metadata": {
    "ExecuteTime": {
     "end_time": "2022-06-23T12:29:28.611975Z",
     "start_time": "2022-06-23T12:29:28.606515Z"
    }
   },
   "outputs": [
    {
     "data": {
      "text/plain": [
       "2"
      ]
     },
     "execution_count": 91,
     "metadata": {},
     "output_type": "execute_result"
    }
   ],
   "source": [
    "def F(n, k):\n",
    "    return 1 if n == 1 else 1 + (F(n - 1, k) + k - 1) % n\n",
    "\n",
    "\n",
    "F(2, 1)"
   ]
  },
  {
   "cell_type": "markdown",
   "metadata": {},
   "source": [
    "## 2.2"
   ]
  },
  {
   "cell_type": "markdown",
   "metadata": {},
   "source": [
    "### 1. Координатные четверти\n",
    "Дан набор точек на координатной плоскости. Необходимо подсчитать и вывести количество точек, лежащих в каждой координатной четверти."
   ]
  },
  {
   "cell_type": "code",
   "execution_count": 150,
   "metadata": {
    "ExecuteTime": {
     "end_time": "2022-06-23T14:18:20.666768Z",
     "start_time": "2022-06-23T14:18:20.659386Z"
    }
   },
   "outputs": [
    {
     "name": "stdout",
     "output_type": "stream",
     "text": [
      "Первая четверть: 1\n",
      "Вторая четверть: 0\n",
      "Третья четверть: 1\n",
      "Четвертая четверть: 0\n"
     ]
    }
   ],
   "source": [
    "import numpy as np\n",
    "\n",
    "def solution(n):\n",
    "    test = '0 -1\\n1 2\\n0 9\\n-9 -5'\n",
    "    coords = np.array([x.split() for x in [_ for _ in test.splitlines()]], dtype=int)\n",
    "    print(\"Первая четверть:\", sum(np.logical_and(coords[:,0]>0, coords[:,1]>0)))\n",
    "    print(\"Вторая четверть:\", sum(np.logical_and(coords[:,0]<0, coords[:,1]>0)))\n",
    "    print(\"Третья четверть:\", sum(np.logical_and(coords[:,0]<0, coords[:,1]<0)))\n",
    "    print(\"Четвертая четверть:\", sum(np.logical_and(coords[:,0]>0, coords[:,1]<0)))\n",
    "    \n",
    "solution(4)"
   ]
  },
  {
   "cell_type": "markdown",
   "metadata": {},
   "source": [
    "### 2. Больше предыдущего\n",
    "Напишите программу подсчета количества чисел, которые больше предшествующего им в этом списке числа, то есть, стоят вслед за меньшим числом. "
   ]
  },
  {
   "cell_type": "code",
   "execution_count": 11,
   "metadata": {
    "ExecuteTime": {
     "end_time": "2022-06-24T10:25:46.448389Z",
     "start_time": "2022-06-24T10:25:46.442459Z"
    }
   },
   "outputs": [
    {
     "name": "stdout",
     "output_type": "stream",
     "text": [
      "4\n"
     ]
    }
   ],
   "source": [
    "import numpy as np\n",
    "\n",
    "print(sum(np.diff(np.array('1 2 3 4 5'.split(), dtype=int))>0))\n"
   ]
  },
  {
   "cell_type": "markdown",
   "metadata": {},
   "source": [
    "### 3. Назад, вперёд и наоборот\n",
    "На вход программе подается строка текста из натуральных чисел. Из элементов строки формируется список чисел. Напишите программу, которая меняет местами соседние элементы списка"
   ]
  },
  {
   "cell_type": "code",
   "execution_count": 18,
   "metadata": {
    "ExecuteTime": {
     "end_time": "2022-06-24T10:36:33.338987Z",
     "start_time": "2022-06-24T10:36:33.331834Z"
    }
   },
   "outputs": [
    {
     "data": {
      "text/plain": [
       "'2 1 4 3 5'"
      ]
     },
     "execution_count": 18,
     "metadata": {},
     "output_type": "execute_result"
    }
   ],
   "source": [
    "import re\n",
    "\n",
    "def solution(ls):\n",
    "    regx = re.compile(r'(\\d+)\\s+(\\d+)')\n",
    "    return regx.sub(lambda m: f\"{m.group(2)} {m.group(1)}\", ls)\n",
    "\n",
    "solution('1 2 3 4 5')"
   ]
  },
  {
   "cell_type": "markdown",
   "metadata": {},
   "source": [
    "### 4. Сдвиг в развитии\n",
    "Напишите программу циклического сдвига элементов списка направо, когда последний элемент становится первым, а остальные сдвигаются на одну позицию вперед, в сторону увеличения индексов."
   ]
  },
  {
   "cell_type": "code",
   "execution_count": 23,
   "metadata": {
    "ExecuteTime": {
     "end_time": "2022-06-24T10:46:42.457594Z",
     "start_time": "2022-06-24T10:46:42.451345Z"
    }
   },
   "outputs": [
    {
     "name": "stdout",
     "output_type": "stream",
     "text": [
      "13 489 483 43 2 3 84 1 4 3 2 5 4 3\n"
     ]
    }
   ],
   "source": [
    "from collections import deque\n",
    "\n",
    "def solution(ls):\n",
    "    dl = deque(ls.split())\n",
    "    dl.rotate(1)\n",
    "    return dl\n",
    "\n",
    "print(*solution('489 483 43 2 3 84 1 4 3 2 5 4 3 13'))"
   ]
  },
  {
   "cell_type": "markdown",
   "metadata": {},
   "source": [
    "### 5. Различные элементы\n",
    "Напишите программу для подсчета количества разных элементов в списке."
   ]
  },
  {
   "cell_type": "code",
   "execution_count": 26,
   "metadata": {
    "ExecuteTime": {
     "end_time": "2022-06-24T10:50:39.304177Z",
     "start_time": "2022-06-24T10:50:39.297897Z"
    }
   },
   "outputs": [
    {
     "data": {
      "text/plain": [
       "1"
      ]
     },
     "execution_count": 26,
     "metadata": {},
     "output_type": "execute_result"
    }
   ],
   "source": [
    "len(set('2 2 5 5 5 5 8 10 10'.split()))"
   ]
  },
  {
   "cell_type": "markdown",
   "metadata": {},
   "source": [
    "### 6. Произведение чисел\n",
    "Напишите программу для определения, является ли число произведением двух чисел из данного набора, выводящую результат в виде ответа «ДА» или «НЕТ»."
   ]
  },
  {
   "cell_type": "code",
   "execution_count": 55,
   "metadata": {
    "ExecuteTime": {
     "end_time": "2022-06-24T11:34:50.590699Z",
     "start_time": "2022-06-24T11:34:50.584056Z"
    }
   },
   "outputs": [
    {
     "data": {
      "text/plain": [
       "'ДА'"
      ]
     },
     "execution_count": 55,
     "metadata": {},
     "output_type": "execute_result"
    }
   ],
   "source": [
    "def solution(n):\n",
    "    test = '89\\n4\\n77\\n4'\n",
    "    prod = 16\n",
    "    nums = [int(x) for x in test.splitlines()]\n",
    "    for i in range(len(nums)):\n",
    "        for j in range(len(nums)):\n",
    "            if i != j and nums[i] * nums[j] == prod:\n",
    "                return \"ДА\"\n",
    "    return \"НЕТ\"\n",
    "\n",
    "\n",
    "solution(5)"
   ]
  },
  {
   "cell_type": "markdown",
   "metadata": {},
   "source": [
    "### 7. Камень, ножницы, бумага\n",
    "Программа должна вывести результат жеребьёвки, то есть кто победит"
   ]
  },
  {
   "cell_type": "code",
   "execution_count": 64,
   "metadata": {
    "ExecuteTime": {
     "end_time": "2022-06-24T12:29:24.380800Z",
     "start_time": "2022-06-24T12:29:24.373983Z"
    }
   },
   "outputs": [
    {
     "data": {
      "text/plain": [
       "'Тимур'"
      ]
     },
     "execution_count": 64,
     "metadata": {},
     "output_type": "execute_result"
    }
   ],
   "source": [
    "def solution(timur, ruslan):\n",
    "    elems = {\"камень\": [0,1,-1], \"ножницы\": [-1,0,1], \"бумага\": [1,-1,0]}\n",
    "    res = elems[timur][list(elems.keys()).index(ruslan)]\n",
    "    return \"Тимур\" if res > 0 else \"Руслан\" if res < 0 else \"ничья\"\n",
    "    \n",
    "solution(\"камень\", \"ножницы\") "
   ]
  },
  {
   "cell_type": "code",
   "execution_count": 63,
   "metadata": {
    "ExecuteTime": {
     "end_time": "2022-06-24T12:22:49.549753Z",
     "start_time": "2022-06-24T12:22:49.541516Z"
    }
   },
   "outputs": [
    {
     "data": {
      "text/plain": [
       "'Тимур'"
      ]
     },
     "execution_count": 63,
     "metadata": {},
     "output_type": "execute_result"
    }
   ],
   "source": [
    "def solution(timur, ruslan):\n",
    "    var = ['камень', 'ножницы', 'бумага']\n",
    "    ans = ['ничья', 'Руслан', 'Тимур']\n",
    "    return ans[var.index(timur) - var.index(ruslan)]\n",
    "    \n",
    "solution(\"камень\", \"ножницы\")       \n",
    "    "
   ]
  },
  {
   "cell_type": "markdown",
   "metadata": {},
   "source": [
    "### 8. Камень, ножницы, бумага, ящерица, Спок\n",
    "Правила игры стандартные: ножницы режут бумагу. Бумага заворачивает камень. Камень давит ящерицу, а ящерица травит Спока, в то время как Спок ломает ножницы, которые, в свою очередь, отрезают голову ящерице, которая ест бумагу, на которой улики против Спока. Спок испаряет камень, а камень, разумеется, затупляет ножницы."
   ]
  },
  {
   "cell_type": "code",
   "execution_count": 95,
   "metadata": {
    "ExecuteTime": {
     "end_time": "2022-06-24T13:05:25.808599Z",
     "start_time": "2022-06-24T13:05:25.801446Z"
    }
   },
   "outputs": [
    {
     "data": {
      "text/plain": [
       "'Тимур'"
      ]
     },
     "execution_count": 95,
     "metadata": {},
     "output_type": "execute_result"
    }
   ],
   "source": [
    "def solution(timur, ruslan):\n",
    "    graf = {\n",
    "        'ножницы': ['бумага', 'ящерица'],\n",
    "        'бумага': ['камень', 'Спок'],\n",
    "        'камень': ['ножницы', 'ящерица'],\n",
    "        'ящерица': ['Спок', 'бумага'],\n",
    "        'Спок': ['ножницы', 'камень']\n",
    "    }\n",
    "    return \"Тимур\" if ruslan in graf[timur] else \"Руслан\" if timur in graf[ruslan] else \"ничья\"\n",
    "\n",
    "\n",
    "solution(\"бумага\", \"Спок\")"
   ]
  },
  {
   "cell_type": "code",
   "execution_count": 97,
   "metadata": {
    "ExecuteTime": {
     "end_time": "2022-06-24T13:23:55.316242Z",
     "start_time": "2022-06-24T13:23:55.304100Z"
    }
   },
   "outputs": [
    {
     "data": {
      "text/plain": [
       "'Тимур'"
      ]
     },
     "execution_count": 97,
     "metadata": {},
     "output_type": "execute_result"
    }
   ],
   "source": [
    "#Алекс Глозман\n",
    "def solution(timur, ruslan):\n",
    "    g = ('ножницы', 'бумага', 'камень', 'ящерица', 'Спок')\n",
    "    dist = (g.index(timur) - g.index(ruslan)) % len(g)\n",
    "    return ('ничья', 'Тимур', 'Руслан')[dist and dist % 2 + 1]\n",
    "            \n",
    "solution(\"бумага\", \"Спок\")\n"
   ]
  },
  {
   "cell_type": "markdown",
   "metadata": {},
   "source": [
    "### 9. Орел и решка\n",
    "Дана строка текста, состоящая из букв русского алфавита \"О\" и \"Р\". Буква \"О\" – соответствует выпадению Орла, а буква \"Р\" – соответствует выпадению Решки. Напишите программу, которая подсчитывает наибольшее количество подряд выпавших Решек."
   ]
  },
  {
   "cell_type": "code",
   "execution_count": 114,
   "metadata": {
    "ExecuteTime": {
     "end_time": "2022-06-24T13:46:30.915705Z",
     "start_time": "2022-06-24T13:46:30.910340Z"
    }
   },
   "outputs": [
    {
     "data": {
      "text/plain": [
       "7"
      ]
     },
     "execution_count": 114,
     "metadata": {},
     "output_type": "execute_result"
    }
   ],
   "source": [
    "len(max('ООООООРРРОРОРРРРРРР'.split('О')))\n"
   ]
  },
  {
   "cell_type": "markdown",
   "metadata": {},
   "source": [
    "### 10. Кремниевая долина\n",
    "Искусственный интеллект Антон, созданный Гилфойлом, взломал сеть умных холодильников. Теперь он использует их в качестве серверов \"Пегого дудочника\". Помогите владельцу фирмы отыскать все зараженные холодильники.\n",
    "\n",
    "Для каждого холодильника существует строка с данными, состоящая из строчных букв и цифр, и если в ней присутствует слово \"anton\" (необязательно рядом стоящие буквы, главное наличие последовательности букв), то холодильник заражен и нужно вывести номер холодильника, нумерация начинается с единицы"
   ]
  },
  {
   "cell_type": "code",
   "execution_count": 12,
   "metadata": {
    "ExecuteTime": {
     "end_time": "2022-06-27T10:58:27.569810Z",
     "start_time": "2022-06-27T10:58:27.563883Z"
    }
   },
   "outputs": [
    {
     "data": {
      "text/plain": [
       "[1, 2, 3]"
      ]
     },
     "execution_count": 12,
     "metadata": {},
     "output_type": "execute_result"
    }
   ],
   "source": [
    "import re\n",
    "\n",
    "\n",
    "def solution(n):\n",
    "    test = [\n",
    "        '222anton456', 'a1n1t1o1n1', '0000a0000n00t00000o000000n', 'gylfole',\n",
    "        'richard', 'ant0n'\n",
    "    ]\n",
    "    rex = re.compile(r'a.*?n.*?t.*?o.*?n')\n",
    "    fr = [i + 1 for i, s in enumerate(test) if rex.search(s) is not None]\n",
    "    return fr\n",
    "\n",
    "\n",
    "solution(9)"
   ]
  },
  {
   "cell_type": "code",
   "execution_count": 19,
   "metadata": {
    "ExecuteTime": {
     "end_time": "2022-06-27T11:09:22.691959Z",
     "start_time": "2022-06-27T11:08:56.302272Z"
    }
   },
   "outputs": [
    {
     "name": "stdout",
     "output_type": "stream",
     "text": [
      "6\n",
      "222anton456\n",
      "a1n1t1o1n1\n",
      "0000a0000n00t00000o000000n\n",
      "gylfole\n",
      "richard\n",
      "ant0n\n",
      "1 2 3\n"
     ]
    }
   ],
   "source": [
    "import re\n",
    "\n",
    "print(*[\n",
    "    i + 1 for i, s in enumerate([input() for _ in range(int(input()))])\n",
    "    if re.search(r'a.*?n.*?t.*?o.*?n', s) is not None\n",
    "])"
   ]
  },
  {
   "cell_type": "markdown",
   "metadata": {},
   "source": [
    "### 11. Роскомнадзор запретил букву а\n",
    "Необходимо написать программу, реализующую алгоритм написания [этой](https://www.youtube.com/watch?v=sAuMERnj-FU) песни. Алгоритм выводит в конце предложения следующую в алфавитном порядке букву, если она встречается в строке текста, а очередную строку отображает уже без этой буквы."
   ]
  },
  {
   "cell_type": "code",
   "execution_count": 41,
   "metadata": {
    "ExecuteTime": {
     "end_time": "2022-06-27T12:06:26.854465Z",
     "start_time": "2022-06-27T12:06:26.849484Z"
    }
   },
   "outputs": [
    {
     "name": "stdout",
     "output_type": "stream",
     "text": [
      "тимур запретил букву а\n",
      "тимур зпретил букву б\n",
      "тимур зпретил укву в\n",
      "тимур зпретил уку е\n",
      "тимур зпртил уку з\n",
      "тимур пртил уку и\n",
      "тмур пртл уку к\n",
      "тмур пртл уу л\n",
      "тмур прт уу м\n",
      "тур прт уу п\n",
      "тур рт уу р\n",
      "ту т уу т\n",
      "у уу у\n"
     ]
    }
   ],
   "source": [
    "def solution(s):\n",
    "    s = f\"{s} запретил букву\"\n",
    "    for i in range(1072, 1104):\n",
    "        if chr(i) in s:\n",
    "            print(*s.split(), chr(i))\n",
    "            s = s.replace(chr(i), '').strip()\n",
    "\n",
    "\n",
    "solution('тимур')"
   ]
  },
  {
   "cell_type": "markdown",
   "metadata": {},
   "source": [
    "## 4.2 Вложенные списки\n",
    "Дополните приведенный код так, чтобы он выводил единственное число: сумму всех чисел списка list1 разделённую на общее количество всех чисел."
   ]
  },
  {
   "cell_type": "code",
   "execution_count": 89,
   "metadata": {
    "ExecuteTime": {
     "end_time": "2022-06-27T14:25:20.089229Z",
     "start_time": "2022-06-27T14:25:20.083625Z"
    }
   },
   "outputs": [
    {
     "data": {
      "text/plain": [
       "53.3125"
      ]
     },
     "execution_count": 89,
     "metadata": {},
     "output_type": "execute_result"
    }
   ],
   "source": [
    "def solution():\n",
    "    list1 = [[1, 7, 8], [9, 7, 102], [102, 106, 105], [100, 99, 98, 103], [1, 2, 3]]\n",
    "    total = sum(list1, [])\n",
    "    return sum(total) / len(total)\n",
    "solution()"
   ]
  },
  {
   "cell_type": "markdown",
   "metadata": {},
   "source": [
    "### Треугольник Паскаля\n",
    "Треугольник Паскаля — бесконечная таблица биномиальных коэффициентов, имеющая треугольную форму. В этом треугольнике на вершине и по бокам стоят единицы. Каждое число равно сумме двух расположенных над ним чисел."
   ]
  },
  {
   "cell_type": "code",
   "execution_count": 87,
   "metadata": {
    "ExecuteTime": {
     "end_time": "2022-06-28T12:49:51.728856Z",
     "start_time": "2022-06-28T12:49:51.723348Z"
    }
   },
   "outputs": [
    {
     "name": "stdout",
     "output_type": "stream",
     "text": [
      "1\n",
      "1 1\n",
      "1 2 1\n",
      "1 3 3 1\n",
      "1 4 6 4 1\n",
      "1 5 10 10 5 1\n"
     ]
    }
   ],
   "source": [
    "def pascal(n):\n",
    "    res = []\n",
    "    for i in range(n+1):\n",
    "        res.append([1])\n",
    "        for j in range(i):\n",
    "            res[i].append(sum(res[i-1][j:j+2]))\n",
    "    return res[:n]\n",
    "    \n",
    "[print(*li) for li in pascal(6)];"
   ]
  },
  {
   "cell_type": "markdown",
   "metadata": {},
   "source": [
    "### Упаковка дубликатов\n",
    "На вход программе подается строка текста, содержащая символы. Напишите программу, которая упаковывает последовательности одинаковых символов заданной строки в подсписки."
   ]
  },
  {
   "cell_type": "code",
   "execution_count": 102,
   "metadata": {
    "ExecuteTime": {
     "end_time": "2022-06-28T13:23:14.674877Z",
     "start_time": "2022-06-28T13:23:14.668216Z"
    }
   },
   "outputs": [
    {
     "data": {
      "text/plain": [
       "[['w', 'w', 'w'],\n",
       " ['o'],\n",
       " ['r'],\n",
       " ['l'],\n",
       " ['d'],\n",
       " ['g', 'g', 'g', 'g'],\n",
       " ['r'],\n",
       " ['e'],\n",
       " ['a'],\n",
       " ['t', 't'],\n",
       " ['e'],\n",
       " ['c', 'c'],\n",
       " ['h'],\n",
       " ['e'],\n",
       " ['m'],\n",
       " ['g', 'g'],\n",
       " ['p'],\n",
       " ['w', 'w']]"
      ]
     },
     "execution_count": 102,
     "metadata": {},
     "output_type": "execute_result"
    }
   ],
   "source": [
    "def solution(s):\n",
    "    res = []\n",
    "    for x in s.split():\n",
    "        if res and x in res[-1]:\n",
    "            res[-1].append(x)\n",
    "        else:\n",
    "            res.append([x])\n",
    "    return res\n",
    "\n",
    "solution('w w w o r l d g g g g r e a t t e c c h e m g g p w w')"
   ]
  },
  {
   "cell_type": "markdown",
   "metadata": {},
   "source": [
    "### Разбиение на чанки\n",
    "Реализуйте функцию chunked(), которая принимает на вход список и число, задающее размер чанка (куска), а возвращает список из чанков указанной длины."
   ]
  },
  {
   "cell_type": "code",
   "execution_count": 132,
   "metadata": {
    "ExecuteTime": {
     "end_time": "2022-06-28T14:09:39.735844Z",
     "start_time": "2022-06-28T14:09:39.728360Z"
    }
   },
   "outputs": [
    {
     "data": {
      "text/plain": [
       "[['a', 'b'], ['c', 'd'], ['e', 'f'], ['r', 'g'], ['b']]"
      ]
     },
     "execution_count": 132,
     "metadata": {},
     "output_type": "execute_result"
    }
   ],
   "source": [
    "def chunked(ls, size):\n",
    "    ls = ls.split()\n",
    "    return [ls[i:i+size] for i in range(0,len(ls),size)]\n",
    "\n",
    "\n",
    "chunked('a b c d e f r g b ', 2)"
   ]
  },
  {
   "cell_type": "markdown",
   "metadata": {},
   "source": [
    "### Подсписки списка\n",
    "Подсписок может содержать один элемент, несколько, и даже ни одного. Например, [1], [2], [3] и [4] — подсписки списка [1, 2, 3, 4]. Список [2, 3] — подсписок списка [1, 2, 3, 4], но список [2, 4] не подсписок списка [1, 2, 3, 4], так как элементы 2 и 4 во втором списке не смежные. Пустой список — подсписок любого списка. Сам список — подсписок самого себя, то есть список [1, 2, 3, 4] подсписок списка [1, 2, 3, 4]."
   ]
  },
  {
   "cell_type": "code",
   "execution_count": 20,
   "metadata": {
    "ExecuteTime": {
     "end_time": "2022-06-29T10:38:17.967604Z",
     "start_time": "2022-06-29T10:38:17.957368Z"
    }
   },
   "outputs": [
    {
     "data": {
      "text/plain": [
       "[[],\n",
       " ['1'],\n",
       " ['2'],\n",
       " ['3'],\n",
       " ['1'],\n",
       " ['1', '2'],\n",
       " ['2', '3'],\n",
       " ['3', '1'],\n",
       " ['1', '2', '3'],\n",
       " ['2', '3', '1'],\n",
       " ['1', '2', '3', '1']]"
      ]
     },
     "execution_count": 20,
     "metadata": {},
     "output_type": "execute_result"
    }
   ],
   "source": [
    "def chunked(ls, size):\n",
    "    return [ls[i:i+size] for i in range(len(ls))]\n",
    "\n",
    "def sublists(ls):\n",
    "    ls = ls.split()\n",
    "    res = [[]]    \n",
    "    for i in range(len(ls)):\n",
    "        for ch in chunked(ls, i+1):\n",
    "            if len(ch) == i+1:\n",
    "                res.append(ch)\n",
    "    return res\n",
    "sublists('1 2 3 1')"
   ]
  },
  {
   "cell_type": "markdown",
   "metadata": {},
   "source": [
    "## 4.4 Матрицы"
   ]
  },
  {
   "cell_type": "markdown",
   "metadata": {},
   "source": [
    "### Вывести матрицу"
   ]
  },
  {
   "cell_type": "code",
   "execution_count": 11,
   "metadata": {
    "ExecuteTime": {
     "end_time": "2022-06-29T11:32:12.830189Z",
     "start_time": "2022-06-29T11:32:12.825683Z"
    }
   },
   "outputs": [
    {
     "name": "stdout",
     "output_type": "stream",
     "text": [
      "и швец\n",
      "и жнец\n",
      "и на\n",
      "дуде игрец\n"
     ]
    }
   ],
   "source": [
    "def sol(n,m):\n",
    "    li = ['и','швец','и','жнец','и','на','дуде','игрец']    \n",
    "#     li = [input() for _ in range(n*m)]\n",
    "    [print(*li[i:i+m]) for i in range(0,n*m,m)]\n",
    "        \n",
    "sol(4,2)"
   ]
  },
  {
   "cell_type": "code",
   "execution_count": 27,
   "metadata": {
    "ExecuteTime": {
     "end_time": "2022-06-29T11:44:56.126304Z",
     "start_time": "2022-06-29T11:44:56.120192Z"
    }
   },
   "outputs": [
    {
     "name": "stdout",
     "output_type": "stream",
     "text": [
      "и швец\n",
      "и жнец\n",
      "и на\n",
      "дуде игрец\n",
      "\n",
      "и и и дуде\n",
      "швец жнец на игрец\n"
     ]
    }
   ],
   "source": [
    "import numpy as np\n",
    "def sol(n,m):\n",
    "    mat = np.array(['и','швец','и','жнец','и','на','дуде','игрец']).reshape((n,m))\n",
    "    [print(*r) for r in mat]\n",
    "    print()\n",
    "    [print(*r) for r in np.transpose(mat)]\n",
    "        \n",
    "sol(4,2)"
   ]
  },
  {
   "cell_type": "markdown",
   "metadata": {},
   "source": [
    "### След матрицы\n",
    "Следом квадратной матрицы называется сумма элементов главной диагонали. Напишите программу, которая выводит след заданной квадратной матрицы."
   ]
  },
  {
   "cell_type": "code",
   "execution_count": 57,
   "metadata": {
    "ExecuteTime": {
     "end_time": "2022-06-29T12:19:15.838746Z",
     "start_time": "2022-06-29T12:19:15.830476Z"
    }
   },
   "outputs": [
    {
     "data": {
      "text/plain": [
       "15"
      ]
     },
     "execution_count": 57,
     "metadata": {},
     "output_type": "execute_result"
    }
   ],
   "source": [
    "def sol(n):    \n",
    "#     mat = list(map(int, [input().split() for _ in range(n)]))\n",
    "    mat = list(map(lambda x: x.split(), ['1 2 3','4 5 6','7 8 9']))\n",
    "    return sum(map(int, [mat[i][i] for i in range(n)]))\n",
    "\n",
    "sol(3)\n",
    "    "
   ]
  },
  {
   "cell_type": "markdown",
   "metadata": {},
   "source": [
    "### Больше среднего\n",
    "Напишите программу, которая выводит количество элементов квадратной матрицы в каждой строке, больших среднего арифметического элементов данной строки."
   ]
  },
  {
   "cell_type": "code",
   "execution_count": 87,
   "metadata": {
    "ExecuteTime": {
     "end_time": "2022-06-29T12:34:45.366282Z",
     "start_time": "2022-06-29T12:34:45.356545Z"
    }
   },
   "outputs": [
    {
     "name": "stdout",
     "output_type": "stream",
     "text": [
      "[[ 1  2  3  4]\n",
      " [ 5  6  3 15]\n",
      " [ 0  2  3  1]\n",
      " [ 5  2  8  5]]\n",
      "[2.5  7.25 1.5  5.  ]\n"
     ]
    },
    {
     "data": {
      "text/plain": [
       "array([2, 1, 2, 1])"
      ]
     },
     "execution_count": 87,
     "metadata": {},
     "output_type": "execute_result"
    }
   ],
   "source": [
    "import numpy as np\n",
    "def sol(n):    \n",
    "#     mat = list(map(int, [input().split() for _ in range(n)]))\n",
    "    mat = np.array(list(map(lambda x: x.split(), ['1 2 3 4','5 6 3 15','0 2 3 1', '5 2 8 5'])), dtype=int)\n",
    "    print(mat)\n",
    "    print(mat.mean(axis=1))\n",
    "    return sum((np.transpose(mat)>mat.mean(axis=1)))\n",
    "\n",
    "sol(3)"
   ]
  },
  {
   "cell_type": "code",
   "execution_count": 107,
   "metadata": {
    "ExecuteTime": {
     "end_time": "2022-06-29T13:12:45.086898Z",
     "start_time": "2022-06-29T13:12:45.082304Z"
    }
   },
   "outputs": [
    {
     "name": "stdout",
     "output_type": "stream",
     "text": [
      "2\n",
      "1\n",
      "2\n",
      "1\n"
     ]
    }
   ],
   "source": [
    "def sol(n):    \n",
    "#     mat = list(map(int, [input().split() for _ in range(n)]))\n",
    "    mat = list(map(lambda x: list(map(int, x.split())), ['1 2 3 4','5 6 3 15','0 2 3 1', '5 2 8 5']))\n",
    "#     mat = [list(map(int, input().split())) for _ in range(n)]\n",
    "    [print(sum([e>sum(r)/len(r) for e in r])) for r in mat]\n",
    "\n",
    "sol(4)"
   ]
  },
  {
   "cell_type": "markdown",
   "metadata": {},
   "source": [
    "### Максимальный в области\n"
   ]
  },
  {
   "cell_type": "code",
   "execution_count": 115,
   "metadata": {
    "ExecuteTime": {
     "end_time": "2022-06-29T13:22:38.999871Z",
     "start_time": "2022-06-29T13:22:38.991704Z"
    }
   },
   "outputs": [
    {
     "data": {
      "text/plain": [
       "7"
      ]
     },
     "execution_count": 115,
     "metadata": {},
     "output_type": "execute_result"
    }
   ],
   "source": [
    "def sol(n):\n",
    "    mat = list(map(lambda x: list(map(int, x.split())), ['1 4 5','6 7 8','1 1 6']))\n",
    "    #     mat = [list(map(int, input().split())) for _ in range(n)]\n",
    "    res = mat[0][0]\n",
    "    for i in range(n):\n",
    "        res = max(res, max(mat[i][:i+1]))\n",
    "    return res\n",
    "\n",
    "sol(3)\n",
    "    "
   ]
  },
  {
   "cell_type": "code",
   "execution_count": 134,
   "metadata": {
    "ExecuteTime": {
     "end_time": "2022-06-29T13:50:51.971017Z",
     "start_time": "2022-06-29T13:50:51.964583Z"
    }
   },
   "outputs": [
    {
     "data": {
      "text/plain": [
       "8"
      ]
     },
     "execution_count": 134,
     "metadata": {},
     "output_type": "execute_result"
    }
   ],
   "source": [
    "def sol(n):\n",
    "    mat = list(map(lambda x: list(map(int, x.split())), ['1 4 5','6 7 8','1 1 6']))\n",
    "    #     mat = [list(map(int, input().split())) for _ in range(n)]\n",
    "    return max([mat[i][j] for j in range(n) for i in range(n) if n-j-1>=i>=j or j>=i>=n-j-1])\n",
    "\n",
    "sol(3)"
   ]
  },
  {
   "cell_type": "markdown",
   "metadata": {},
   "source": [
    "### Суммы четвертей\n",
    "Квадратная матрица разбивается на четыре четверти, ограниченные главной и побочной диагоналями: верхнюю, нижнюю, левую и правую.\n",
    "**Примечание.** Элементы диагоналей не учитываются."
   ]
  },
  {
   "cell_type": "code",
   "execution_count": 149,
   "metadata": {
    "ExecuteTime": {
     "end_time": "2022-06-29T14:12:25.426886Z",
     "start_time": "2022-06-29T14:12:25.416324Z"
    }
   },
   "outputs": [
    {
     "name": "stdout",
     "output_type": "stream",
     "text": [
      "Верхняя четверть: 5\n",
      "Правая четверть: 14\n",
      "Нижняя четверть: 5\n",
      "Левая четверть: 8\n"
     ]
    }
   ],
   "source": [
    "def sol(n):\n",
    "    mat = list(map(lambda x: list(map(int, x.split())), ['1 2 3 4','5 6 7 8','3 4 5 6', '1 2 3 4']))\n",
    "    #     mat = [list(map(int, input().split())) for _ in range(n)]\n",
    "    res = [0,0,0,0]\n",
    "    keys = ['Верхняя четверть:', 'Правая четверть:', 'Нижняя четверть:', 'Левая четверть:']\n",
    "    for i in range(n):\n",
    "        for j in range(n):\n",
    "            if n-j-1>i>j:\n",
    "                res[3]+=mat[i][j]\n",
    "            if j>i>n-j-1:\n",
    "                res[1]+=mat[i][j]\n",
    "            if n-j-1>i<j:\n",
    "                res[0]+=mat[i][j]\n",
    "            if n-j-1<i>j:\n",
    "                res[2]+=mat[i][j]\n",
    "        \n",
    "    return dict(zip(keys, res))\n",
    "\n",
    "[print(k,v) for k,v in sol(4).items()];\n",
    "    "
   ]
  },
  {
   "cell_type": "markdown",
   "metadata": {},
   "source": [
    "### Таблица умножения\n",
    "На вход программе подаются два натуральных числа n и m — количество строк и столбцов в матрице. Создайте матрицу mult размером n×m и заполните её таблицей умножения по формуле mult[i][j] = i * j"
   ]
  },
  {
   "cell_type": "code",
   "execution_count": 15,
   "metadata": {
    "ExecuteTime": {
     "end_time": "2022-06-30T10:41:55.518611Z",
     "start_time": "2022-06-30T10:41:55.511735Z"
    }
   },
   "outputs": [
    {
     "name": "stdout",
     "output_type": "stream",
     "text": [
      "0   0   0   0   0   0  \n",
      "0   1   2   3   4   5  \n",
      "0   2   4   6   8   10 \n",
      "0   3   6   9   12  15 \n"
     ]
    }
   ],
   "source": [
    "def mult(n, m):\n",
    "    [print(*[str(i*j).ljust(3) for j in range(m)]) for i in range(n)]\n",
    "    \n",
    "mult(4, 6)"
   ]
  },
  {
   "cell_type": "markdown",
   "metadata": {},
   "source": [
    "### Максимум в таблице\n",
    "Напишите программу, которая находит индексы (строку и столбец) первого вхождения максимального элемента."
   ]
  },
  {
   "cell_type": "code",
   "execution_count": 27,
   "metadata": {
    "ExecuteTime": {
     "end_time": "2022-06-30T10:54:40.324662Z",
     "start_time": "2022-06-30T10:54:40.319864Z"
    }
   },
   "outputs": [
    {
     "name": "stdout",
     "output_type": "stream",
     "text": [
      "1 2\n"
     ]
    }
   ],
   "source": [
    "import numpy as np\n",
    "def sol(n,m):\n",
    "    mat = np.array(list(map(lambda x: x.split(), ['0 3 2 4','2 3 5 5','5 1 2 3'])), dtype=int)\n",
    "    return np.unravel_index(np.argmax(mat), shape=mat.shape)\n",
    "\n",
    "print(*sol(3,4))\n"
   ]
  },
  {
   "cell_type": "markdown",
   "metadata": {},
   "source": [
    "### Обмен столбцов\n",
    "Напишите программу, которая меняет местами столбцы в матрице."
   ]
  },
  {
   "cell_type": "code",
   "execution_count": 34,
   "metadata": {
    "ExecuteTime": {
     "end_time": "2022-06-30T11:11:08.523269Z",
     "start_time": "2022-06-30T11:11:08.517714Z"
    }
   },
   "outputs": [
    {
     "name": "stdout",
     "output_type": "stream",
     "text": [
      "[[12 11 13 14]\n",
      " [22 21 23 24]\n",
      " [32 31 33 34]]\n"
     ]
    }
   ],
   "source": [
    "import numpy as np\n",
    "def sol(n,m):\n",
    "    mat = np.array(list(map(lambda x: x.split(), ['11 12 13 14','21 22 23 24','31 32 33 34'])), dtype=int)\n",
    "#     mat = np.array([input().split() for _ in range(n)], dtype=int)\n",
    "    i ,j = 0, 1\n",
    "    mat[:,i], mat[:,j] = mat[:,j].copy(), mat[:,i].copy()\n",
    "    return mat\n",
    "\n",
    "print(sol(3,4))"
   ]
  },
  {
   "cell_type": "markdown",
   "metadata": {},
   "source": [
    "### Симметричная матрица\n",
    "Напишите программу, которая проверяет симметричность квадратной матрицы относительно главной диагонали."
   ]
  },
  {
   "cell_type": "code",
   "execution_count": 49,
   "metadata": {
    "ExecuteTime": {
     "end_time": "2022-06-30T11:36:53.028433Z",
     "start_time": "2022-06-30T11:36:53.018035Z"
    }
   },
   "outputs": [
    {
     "data": {
      "text/plain": [
       "'NO'"
      ]
     },
     "execution_count": 49,
     "metadata": {},
     "output_type": "execute_result"
    }
   ],
   "source": [
    "def sol(n):\n",
    "    mat = list(map(lambda x: list(map(int, x.split())), ['0 1 2','1 2 7','2 3 4']))\n",
    "    #     mat = [list(map(int, input().split())) for _ in range(n)]\n",
    "    return 'YES' if all([mat[i][j] == mat[j][i] for j in range(len(mat)) for i in range(j)]) else 'NO'\n",
    "sol(3)"
   ]
  },
  {
   "cell_type": "markdown",
   "metadata": {},
   "source": [
    "### Обмен диагоналей\n",
    "Дана квадратная матрица чисел. Напишите программу, которая меняет местами элементы, стоящие на главной и побочной диагонали, при этом каждый элемент должен остаться в том же столбце (то есть в каждом столбце нужно поменять местами элемент на главной диагонали и на побочной диагонали)."
   ]
  },
  {
   "cell_type": "code",
   "execution_count": 59,
   "metadata": {
    "ExecuteTime": {
     "end_time": "2022-06-30T11:56:48.116186Z",
     "start_time": "2022-06-30T11:56:48.108820Z"
    }
   },
   "outputs": [
    {
     "name": "stdout",
     "output_type": "stream",
     "text": [
      "7 2 9\n",
      "4 5 6\n",
      "1 8 3\n"
     ]
    }
   ],
   "source": [
    "def sol(n):\n",
    "    mat = list(map(lambda x: list(map(int, x.split())), ['1 2 3','4 5 6','7 8 9']))\n",
    "    #     mat = [list(map(int, input().split())) for _ in range(n)]\n",
    "    for i in range(n):\n",
    "        mat[i][i], mat[n-i-1][i] = mat[n-i-1][i], mat[i][i]\n",
    "        \n",
    "    return mat\n",
    "[print(*_) for _ in sol(3)];"
   ]
  },
  {
   "cell_type": "markdown",
   "metadata": {},
   "source": [
    "### Зеркальное отображение\n",
    "Напишите программу, которая зеркально отображает её элементы относительно горизонтальной оси симметрии."
   ]
  },
  {
   "cell_type": "code",
   "execution_count": 62,
   "metadata": {
    "ExecuteTime": {
     "end_time": "2022-06-30T12:07:28.115108Z",
     "start_time": "2022-06-30T12:07:28.110212Z"
    }
   },
   "outputs": [
    {
     "name": "stdout",
     "output_type": "stream",
     "text": [
      "7 8 9\n",
      "4 5 6\n",
      "1 2 3\n"
     ]
    }
   ],
   "source": [
    "def sol(n):\n",
    "    mat = list(map(lambda x: list(map(int, x.split())), ['1 2 3','4 5 6','7 8 9']))\n",
    "    #     mat = [list(map(int, input().split())) for _ in range(n)]\n",
    "    mat.reverse()\n",
    "    return mat\n",
    "\n",
    "[print(*_) for _ in sol(3)];"
   ]
  },
  {
   "cell_type": "markdown",
   "metadata": {},
   "source": [
    "### Поворот матрицы\n",
    "Напишите программу, которая поворачивает квадратную матрицу чисел на 90 по часовой стрелке."
   ]
  },
  {
   "cell_type": "code",
   "execution_count": 112,
   "metadata": {
    "ExecuteTime": {
     "end_time": "2022-06-30T14:05:34.460675Z",
     "start_time": "2022-06-30T14:05:34.455666Z"
    }
   },
   "outputs": [
    {
     "name": "stdout",
     "output_type": "stream",
     "text": [
      "7 4 1\n",
      "8 5 2\n",
      "9 6 3\n"
     ]
    }
   ],
   "source": [
    "import numpy as np\n",
    "def sol(n):\n",
    "    mat = np.array(list(map(lambda x: x.split(), ['1 2 3','4 5 6','7 8 9'])), dtype=int)\n",
    "    #     mat = [list(map(int, input().split())) for _ in range(n)]\n",
    "    return np.rot90(mat, k=3)\n",
    "\n",
    "[print(*_) for _ in sol(3)];"
   ]
  },
  {
   "cell_type": "code",
   "execution_count": 1,
   "metadata": {
    "ExecuteTime": {
     "end_time": "2022-06-30T14:18:45.449322Z",
     "start_time": "2022-06-30T14:18:45.441281Z"
    }
   },
   "outputs": [
    {
     "name": "stdout",
     "output_type": "stream",
     "text": [
      "7 4 1\n",
      "8 5 2\n",
      "9 6 3\n"
     ]
    }
   ],
   "source": [
    "def sol(n):\n",
    "    mat = list(map(lambda x: list(map(int, x.split())), ['1 2 3','4 5 6','7 8 9']))\n",
    "    #     mat = [list(map(int, input().split())) for _ in range(n)]\n",
    "    return [[mat[n-j-1][i] for j in range(n)] for i in range(n)]\n",
    "\n",
    "[print(*_) for _ in sol(3)];"
   ]
  },
  {
   "cell_type": "markdown",
   "metadata": {},
   "source": [
    "### Ходы коня\n",
    "Напишите программу, которая отмечает положение коня на доске и все клетки, которые бьет конь. Клетку, где стоит конь, отметьте английской буквой N, клетки, которые бьет конь, отметьте символами *, остальные клетки заполните точками."
   ]
  },
  {
   "cell_type": "code",
   "execution_count": 52,
   "metadata": {
    "ExecuteTime": {
     "end_time": "2022-07-01T12:29:28.180533Z",
     "start_time": "2022-07-01T12:29:28.172395Z"
    }
   },
   "outputs": [
    {
     "name": "stdout",
     "output_type": "stream",
     "text": [
      ". . . . . . . .\n",
      ". . . . . . . .\n",
      ". . . . . . . .\n",
      ". . . . * . * .\n",
      ". . . * . . . *\n",
      ". . . . . N . .\n",
      ". . . * . . . *\n",
      ". . . . * . * .\n"
     ]
    }
   ],
   "source": [
    "import math\n",
    "def sol(ch):    \n",
    "    j,i='abcdefgh'.index(ch[0]), 8-int(ch[1])\n",
    "    chess = [['.' for _ in range(8)] for _ in range(8)]\n",
    "    chess[i][j] = 'N'\n",
    "    for f in range(12):\n",
    "        x, y = round(math.sqrt(5)*math.cos(f*math.pi/6)), round(math.sqrt(5)*math.sin(f*math.pi/6))\n",
    "        if x and y and x+i in range(8) and y+j in range(8):\n",
    "            chess[x+i][y+j] = '*'\n",
    "    \n",
    "    return chess\n",
    "\n",
    "[print(*_) for _ in sol('f3')];\n"
   ]
  },
  {
   "cell_type": "markdown",
   "metadata": {},
   "source": [
    "### Магический квадрат\n",
    "Магическим квадратом порядка n называется квадратная таблица размера n×n, составленная из всех чисел 1,2,3,…,n^2 так, что суммы по каждому столбцу, каждой строке и каждой из двух диагоналей равны между собой. Напишите программу, которая проверяет, является ли заданная квадратная матрица магическим квадратом."
   ]
  },
  {
   "cell_type": "code",
   "execution_count": 81,
   "metadata": {
    "ExecuteTime": {
     "end_time": "2022-07-01T13:38:58.241216Z",
     "start_time": "2022-07-01T13:38:58.233901Z"
    }
   },
   "outputs": [
    {
     "data": {
      "text/plain": [
       "'YES'"
      ]
     },
     "execution_count": 81,
     "metadata": {},
     "output_type": "execute_result"
    }
   ],
   "source": [
    "import numpy as np\n",
    "\n",
    "\n",
    "def sol(n):\n",
    "    mat = np.array(\n",
    "        list(map(lambda x: list(map(int, x.split())),['8 1 6', '3 5 7', '4 9 2']))\n",
    "    )\n",
    "    #     mat = [list(map(int, input().split())) for _ in range(n)]\n",
    "    return 'YES' if np.unique(\n",
    "        np.concatenate(\n",
    "            (mat.sum(axis=0), mat.sum(axis=1),\n",
    "             np.array(\n",
    "                 (mat.diagonal().sum(),\n",
    "                  np.rot90(mat, k=1).diagonal().sum()))))).size == 1 else 'NO'\n",
    "\n",
    "\n",
    "sol(3)"
   ]
  },
  {
   "cell_type": "code",
   "execution_count": 123,
   "metadata": {
    "ExecuteTime": {
     "end_time": "2022-07-01T14:35:37.022448Z",
     "start_time": "2022-07-01T14:35:37.012592Z"
    }
   },
   "outputs": [
    {
     "data": {
      "text/plain": [
       "'NO'"
      ]
     },
     "execution_count": 123,
     "metadata": {},
     "output_type": "execute_result"
    }
   ],
   "source": [
    "def sol(n):\n",
    "    mat = list(map(lambda x: list(map(int, x.split())),['8 2 5', '2 5 8', '5 8 2']))\n",
    "#     mat = [list(map(int, input().split())) for _ in range(n)]\n",
    "    magic = n*(n**2 + 1) // 2\n",
    "    diag=[0, 0]\n",
    "    uniq = set()\n",
    "    for i in range(n):\n",
    "        diag[0] += mat[i][i]\n",
    "        diag[1] += mat[i][n-i-1]\n",
    "        uniq |= set(mat[i])\n",
    "        if len(uniq) < n*(i+1) or not (sum(mat[i]) == magic and sum([mat[j][i] for j in range(n)]) == magic):\n",
    "            return 'NO'\n",
    "        \n",
    "    return 'YES' if all([_ for _ in diag if _ == magic]) else 'NO'\n",
    "            \n",
    "    \n",
    "sol(3)\n",
    "\n"
   ]
  },
  {
   "cell_type": "markdown",
   "metadata": {},
   "source": [
    "### Шахматная доска\n",
    "Напишите программу для создания матрицы размером m x n заполнив ее символами . и * в шахматном порядке. В левом верхнем углу должна стоять точка."
   ]
  },
  {
   "cell_type": "code",
   "execution_count": 62,
   "metadata": {},
   "outputs": [
    {
     "name": "stdout",
     "output_type": "stream",
     "text": [
      ". * . *\n",
      "* . * .\n",
      ". * . *\n"
     ]
    }
   ],
   "source": [
    "def sol(nm):\n",
    "    n,m = nm.split()\n",
    "    return [['.*'[(i+j)%2] for j in range(int(m))] for i in range(int(n))]    \n",
    "    \n",
    "[print(*_) for _ in sol('3 4')];"
   ]
  },
  {
   "cell_type": "markdown",
   "metadata": {},
   "source": [
    "### Побочная диагональ\n",
    "На вход программе подается натуральное число n. Напишите программу, которая создает матрицу размером n×n и заполняет её по следующему правилу:\n",
    "\n",
    "- числа на побочной диагонали равны 1;\n",
    "- числа, стоящие выше этой диагонали, равны 0;\n",
    "- числа, стоящие ниже этой диагонали, равны 2.\n"
   ]
  },
  {
   "cell_type": "code",
   "execution_count": 69,
   "metadata": {},
   "outputs": [
    {
     "name": "stdout",
     "output_type": "stream",
     "text": [
      "0 0 0 0 0 1\n",
      "0 0 0 0 1 2\n",
      "0 0 0 1 2 2\n",
      "0 0 1 2 2 2\n",
      "0 1 2 2 2 2\n",
      "1 2 2 2 2 2\n"
     ]
    }
   ],
   "source": [
    "def sol(n):\n",
    "    return [[2 if j>n+~i else int(j==n+~i) for j in range(n)] for i in range(n)]\n",
    "    \n",
    "[print(*_) for _ in sol(6)];"
   ]
  },
  {
   "cell_type": "markdown",
   "metadata": {},
   "source": [
    "### Заполнение\n",
    "Напишите программу, которая создает матрицу размером n×m и заполняет её числами от 1 до n⋅m в соответствии с образцом."
   ]
  },
  {
   "cell_type": "code",
   "execution_count": 80,
   "metadata": {},
   "outputs": [
    {
     "name": "stdout",
     "output_type": "stream",
     "text": [
      "1   2   3   4   5   6   7  \n",
      "8   9   10  11  12  13  14 \n",
      "15  16  17  18  19  20  21 \n",
      "22  23  24  25  26  27  28 \n"
     ]
    }
   ],
   "source": [
    "def sol(nm):\n",
    "    n,m = map(int, nm.split())\n",
    "    return [[str(i*m+j+1).ljust(3) for j in range(m)] for i in range(n)] \n",
    "\n",
    "[print(*_) for _ in sol('4 7')];"
   ]
  },
  {
   "cell_type": "code",
   "execution_count": 10,
   "metadata": {},
   "outputs": [
    {
     "name": "stdout",
     "output_type": "stream",
     "text": [
      "1   7   13  19  25  31 \n",
      "2   8   14  20  26  32 \n",
      "3   9   15  21  27  33 \n",
      "4   10  16  22  28  34 \n",
      "5   11  17  23  29  35 \n",
      "6   12  18  24  30  36 \n"
     ]
    }
   ],
   "source": [
    "def sol(nm):\n",
    "    n,m = map(int, nm.split())\n",
    "    return [[str(1+i+j*n).ljust(3) for j in range(m)] for i in range(n)] \n",
    "\n",
    "[print(*_) for _ in sol('6 6')];"
   ]
  },
  {
   "cell_type": "code",
   "execution_count": 13,
   "metadata": {},
   "outputs": [
    {
     "name": "stdout",
     "output_type": "stream",
     "text": [
      "1 0 0 0 1\n",
      "0 1 0 1 0\n",
      "0 0 1 0 0\n",
      "0 1 0 1 0\n",
      "1 0 0 0 1\n"
     ]
    }
   ],
   "source": [
    "def sol(n):\n",
    "    return [[int(i==j or j==n+~i) for j in range(n)] for i in range(n)]\n",
    "    \n",
    "[print(*_) for _ in sol(5)];"
   ]
  },
  {
   "cell_type": "code",
   "execution_count": 26,
   "metadata": {},
   "outputs": [
    {
     "name": "stdout",
     "output_type": "stream",
     "text": [
      "1 1 1 1 1\n",
      "0 1 1 1 0\n",
      "0 0 1 0 0\n",
      "0 0 1 1 0\n",
      "0 1 1 1 1\n"
     ]
    }
   ],
   "source": [
    "def sol(n):\n",
    "    return [[int(i<=j<=n+~i or i>=j>=n+~i) for j in range(n)] for i in range(n)]\n",
    "    \n",
    "[print(*_) for _ in sol(5)];"
   ]
  },
  {
   "cell_type": "code",
   "execution_count": 33,
   "metadata": {},
   "outputs": [
    {
     "name": "stdout",
     "output_type": "stream",
     "text": [
      "1   2   3   4   5  \n",
      "2   3   4   5   1  \n",
      "3   4   5   1   2  \n",
      "4   5   1   2   3  \n",
      "5   1   2   3   4  \n"
     ]
    }
   ],
   "source": [
    "def sol(nm):\n",
    "    n,m = map(int, nm.split())\n",
    "    return [[str(1+(i+j+m)%m).ljust(3) for j in range(m)] for i in range(n)] \n",
    "\n",
    "[print(*_) for _ in sol('5 5')];"
   ]
  },
  {
   "cell_type": "code",
   "execution_count": 56,
   "metadata": {},
   "outputs": [
    {
     "name": "stdout",
     "output_type": "stream",
     "text": [
      "1   2   3   4   5  \n",
      "10  9   8   7   6  \n",
      "11  12  13  14  15 \n"
     ]
    }
   ],
   "source": [
    "def sol(nm):\n",
    "    n,m = map(int, nm.split())\n",
    "    return [[str(1+(i*m+j)).ljust(3) for j in range(m)][::(1,-1)[i%2]] for i in range(n)] \n",
    "\n",
    "[print(*_) for _ in sol('3 5')];"
   ]
  },
  {
   "cell_type": "code",
   "execution_count": 210,
   "metadata": {},
   "outputs": [
    {
     "name": "stdout",
     "output_type": "stream",
     "text": [
      "1   2   4  \n",
      "3   5   7  \n",
      "6   8   10 \n",
      "9   11  13 \n",
      "12  14  16 \n",
      "15  17  19 \n",
      "18  20  22 \n",
      "21  23  24 \n"
     ]
    }
   ],
   "source": [
    "def sol(nm):\n",
    "    n,m = map(int, nm.split())\n",
    "    mat=[[0]*m for _ in range(n)]\n",
    "    c=0\n",
    "    for d in range(n+m):\n",
    "        for i in range(n):\n",
    "            for j in range(m):\n",
    "                if j==d+~i:\n",
    "                    c+=1\n",
    "                    mat[i][j] = str(c).ljust(3)\n",
    "                \n",
    "    return mat\n",
    "\n",
    "[print(*_) for _ in sol('8 3')];"
   ]
  },
  {
   "cell_type": "markdown",
   "metadata": {},
   "source": [
    "### Заполнение спиралью\n",
    "Напишите программу, которая создает матрицу размером n×m заполнив её \"спиралью\" в соответствии с образцом."
   ]
  },
  {
   "cell_type": "code",
   "execution_count": 31,
   "metadata": {},
   "outputs": [
    {
     "name": "stdout",
     "output_type": "stream",
     "text": [
      "1   2   3   4   5   6  \n",
      "20  21  22  23  24  7  \n",
      "19  32  33  34  25  8  \n",
      "18  31  36  35  26  9  \n",
      "17  30  29  28  27  10 \n",
      "16  15  14  13  12  11 \n"
     ]
    }
   ],
   "source": [
    "import math\n",
    "def sol(nm):\n",
    "    n,m = map(int, nm.split())\n",
    "    mat = [[0]*m for _ in range(n)]\n",
    "    c = f = i = j = 0\n",
    "    di, dj = 0, 1\n",
    "    while c < n*m:\n",
    "        if 0<=i<n and 0<=j<m and not mat[i][j]:\n",
    "            c+=1\n",
    "            mat[i][j] = str(c).ljust(3)\n",
    "        else:            \n",
    "            i += -di\n",
    "            j += -dj\n",
    "            f += math.pi/2\n",
    "            di, dj = int(math.sin(f)), int(math.cos(f))\n",
    "            \n",
    "        i += di\n",
    "        j += dj\n",
    "            \n",
    "    return mat\n",
    "\n",
    "[print(*_) for _ in sol('6 6')];"
   ]
  }
 ],
 "metadata": {
  "kernelspec": {
   "display_name": "Python 3",
   "language": "python",
   "name": "python3"
  },
  "language_info": {
   "codemirror_mode": {
    "name": "ipython",
    "version": 3
   },
   "file_extension": ".py",
   "mimetype": "text/x-python",
   "name": "python",
   "nbconvert_exporter": "python",
   "pygments_lexer": "ipython3",
   "version": "3.8.10"
  },
  "latex_envs": {
   "LaTeX_envs_menu_present": true,
   "autoclose": false,
   "autocomplete": true,
   "bibliofile": "biblio.bib",
   "cite_by": "apalike",
   "current_citInitial": 1,
   "eqLabelWithNumbers": true,
   "eqNumInitial": 1,
   "hotkeys": {
    "equation": "Ctrl-E",
    "itemize": "Ctrl-I"
   },
   "labels_anchors": false,
   "latex_user_defs": false,
   "report_style_numbering": false,
   "user_envs_cfg": false
  },
  "varInspector": {
   "cols": {
    "lenName": 16,
    "lenType": 16,
    "lenVar": 40
   },
   "kernels_config": {
    "python": {
     "delete_cmd_postfix": "",
     "delete_cmd_prefix": "del ",
     "library": "var_list.py",
     "varRefreshCmd": "print(var_dic_list())"
    },
    "r": {
     "delete_cmd_postfix": ") ",
     "delete_cmd_prefix": "rm(",
     "library": "var_list.r",
     "varRefreshCmd": "cat(var_dic_list()) "
    }
   },
   "types_to_exclude": [
    "module",
    "function",
    "builtin_function_or_method",
    "instance",
    "_Feature"
   ],
   "window_display": false
  }
 },
 "nbformat": 4,
 "nbformat_minor": 5
}
