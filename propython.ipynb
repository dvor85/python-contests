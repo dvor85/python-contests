{
 "cells": [
  {
   "cell_type": "markdown",
   "id": "3a2bc313",
   "metadata": {},
   "source": [
    "## 2.1 Основные конструкции"
   ]
  },
  {
   "cell_type": "markdown",
   "id": "d30166a5",
   "metadata": {},
   "source": [
    "### 1. Easy"
   ]
  },
  {
   "cell_type": "code",
   "execution_count": 1,
   "id": "9a60ac2d",
   "metadata": {
    "ExecuteTime": {
     "end_time": "2022-07-12T10:27:21.831902Z",
     "start_time": "2022-07-12T10:27:15.513256Z"
    }
   },
   "outputs": [
    {
     "name": "stdout",
     "output_type": "stream",
     "text": [
      "3\n",
      "6\n",
      "9 -3 18 0.5 0 3 7779.795948480911\n"
     ]
    }
   ],
   "source": [
    "a, b = int(input()), int(input())\n",
    "print(a + b, a - b, a * b, a / b, a // b, a % b, (a**10 + b**10)**0.5)"
   ]
  },
  {
   "cell_type": "markdown",
   "id": "c38e9863",
   "metadata": {},
   "source": [
    "### 2. Индекс массы тела\n",
    "Напишите программу для вычисления и оценки индекса массы тела (ИМТ) человека. ИМТ показывает весит человек больше или меньше нормы для своего роста."
   ]
  },
  {
   "cell_type": "code",
   "execution_count": 6,
   "id": "76fb7aa3",
   "metadata": {
    "ExecuteTime": {
     "end_time": "2022-06-22T14:07:36.898681Z",
     "start_time": "2022-06-22T14:07:36.887799Z"
    }
   },
   "outputs": [
    {
     "data": {
      "text/plain": [
       "'Оптимальная масса'"
      ]
     },
     "execution_count": 6,
     "metadata": {},
     "output_type": "execute_result"
    }
   ],
   "source": [
    "def solution(m,l):\n",
    "    imt = m/(l**2)\n",
    "    if 18.5<=imt<=25:\n",
    "        return \"Оптимальная масса\"\n",
    "    elif imt<18.5:\n",
    "        return \"Недостаточная масса\"\n",
    "    else:\n",
    "        return \"Избыточная масса\"\n",
    "    \n",
    "solution(75, 1.8)"
   ]
  },
  {
   "cell_type": "markdown",
   "id": "aad0d2b8",
   "metadata": {},
   "source": [
    "### 3. Стоимость строки\n",
    "Дана строка текста. Напишите программу для подсчета стоимости строки, исходя из того, что один любой символ (в том числе пробел) стоит 60 копеек."
   ]
  },
  {
   "cell_type": "code",
   "execution_count": 18,
   "id": "3fb2372e",
   "metadata": {
    "ExecuteTime": {
     "end_time": "2022-06-22T14:24:16.319390Z",
     "start_time": "2022-06-22T14:24:16.313348Z"
    }
   },
   "outputs": [
    {
     "data": {
      "text/plain": [
       "'43 р. 80 коп.'"
      ]
     },
     "execution_count": 18,
     "metadata": {},
     "output_type": "execute_result"
    }
   ],
   "source": [
    "def solution(s):\n",
    "    price = 60*len(s)\n",
    "    return f\"{price // 100} р. {price % 100} коп.\"\n",
    "solution(\"Я собираюсь сделать ему предложение, от которого он не сможет отказаться.\")"
   ]
  },
  {
   "cell_type": "markdown",
   "id": "fd4bc325",
   "metadata": {},
   "source": [
    "### 4. Количество слов\n",
    "Дана строка, состоящая из слов, разделенных пробелами. Напишите программу, которая подсчитывает количество слов в этой строке."
   ]
  },
  {
   "cell_type": "code",
   "execution_count": 1,
   "id": "2bce1caa",
   "metadata": {
    "ExecuteTime": {
     "end_time": "2022-06-23T10:41:20.843967Z",
     "start_time": "2022-06-23T10:41:14.128726Z"
    }
   },
   "outputs": [
    {
     "name": "stdout",
     "output_type": "stream",
     "text": [
      "Hello world\n",
      "2\n"
     ]
    }
   ],
   "source": [
    "print(len(input().split()))"
   ]
  },
  {
   "cell_type": "markdown",
   "id": "9329147a",
   "metadata": {},
   "source": [
    "### 5.Зодиак\n",
    "Китайский гороскоп назначает животным годы в 12-летнем цикле. Один 12-летний цикл показан в таблице ниже. Таким образом, 2012 год будет очередным годом дракона."
   ]
  },
  {
   "cell_type": "code",
   "execution_count": 32,
   "id": "cedfd40d",
   "metadata": {
    "ExecuteTime": {
     "end_time": "2022-06-23T11:05:55.070606Z",
     "start_time": "2022-06-23T11:05:55.063742Z"
    }
   },
   "outputs": [
    {
     "data": {
      "text/plain": [
       "'Петух'"
      ]
     },
     "execution_count": 32,
     "metadata": {},
     "output_type": "execute_result"
    }
   ],
   "source": [
    "def solution(year):\n",
    "    zodiak = [\n",
    "        \"Дракон\", \"Змея\", \"Лошадь\", \"Овца\", \"Обезьяна\", \"Петух\", \"Собака\",\n",
    "        \"Свинья\", \"Крыса\", \"Бык\", \"Тигр\", \"Заяц\"\n",
    "    ]\n",
    "    return zodiak[(year - 2000) % 12]\n",
    "\n",
    "\n",
    "solution(1945)"
   ]
  },
  {
   "cell_type": "markdown",
   "id": "df4176b5",
   "metadata": {
    "ExecuteTime": {
     "end_time": "2022-06-23T10:51:51.370003Z",
     "start_time": "2022-06-23T10:51:51.366362Z"
    }
   },
   "source": [
    "### 6. Переворот числа\n",
    "Дано пятизначное или шестизначное натуральное число. Напишите программу, которая изменит порядок его последних пяти цифр на обратный."
   ]
  },
  {
   "cell_type": "code",
   "execution_count": 64,
   "id": "659bb52d",
   "metadata": {
    "ExecuteTime": {
     "end_time": "2022-06-23T11:21:34.152920Z",
     "start_time": "2022-06-23T11:21:34.148051Z"
    }
   },
   "outputs": [
    {
     "data": {
      "text/plain": [
       "52"
      ]
     },
     "execution_count": 64,
     "metadata": {},
     "output_type": "execute_result"
    }
   ],
   "source": [
    "s=\"25000\"\n",
    "int(s.replace(s[-5:],s[:-6:-1]))"
   ]
  },
  {
   "cell_type": "markdown",
   "id": "a7c4f439",
   "metadata": {},
   "source": [
    "### 7. Standard American Convention\n",
    "На вход программе подаётся натуральное число. Напишите программу, которая вставляет в заданное число запятые в соответствии со стандартным американским соглашением о запятых в больших числах.\n"
   ]
  },
  {
   "cell_type": "code",
   "execution_count": 71,
   "id": "231c861f",
   "metadata": {
    "ExecuteTime": {
     "end_time": "2022-06-23T11:30:00.424437Z",
     "start_time": "2022-06-23T11:29:55.780557Z"
    }
   },
   "outputs": [
    {
     "name": "stdout",
     "output_type": "stream",
     "text": [
      " \t  3724650756252\n",
      "3,724,650,756,252\n"
     ]
    }
   ],
   "source": [
    "print(f\"{int(input()):,}\")\n",
    "    "
   ]
  },
  {
   "cell_type": "markdown",
   "id": "1f606d4f",
   "metadata": {},
   "source": [
    "### 8. Задача Иосифа Флавия\n",
    "n человек, пронумерованных числами от 1 до n, стоят в кругу. Они начинают считаться, каждый k-й по счету человек выбывает из круга, после чего счет продолжается со следующего за ним человека. Напишите программу, определяющую номер человека, который останется в кругу последним."
   ]
  },
  {
   "cell_type": "code",
   "execution_count": 91,
   "id": "9069da98",
   "metadata": {
    "ExecuteTime": {
     "end_time": "2022-06-23T12:29:28.611975Z",
     "start_time": "2022-06-23T12:29:28.606515Z"
    }
   },
   "outputs": [
    {
     "data": {
      "text/plain": [
       "2"
      ]
     },
     "execution_count": 91,
     "metadata": {},
     "output_type": "execute_result"
    }
   ],
   "source": [
    "def F(n, k):\n",
    "    return 1 if n == 1 else 1 + (F(n - 1, k) + k - 1) % n\n",
    "\n",
    "\n",
    "F(2, 1)"
   ]
  },
  {
   "cell_type": "markdown",
   "id": "9fd03f15",
   "metadata": {},
   "source": [
    "## 2.2"
   ]
  },
  {
   "cell_type": "markdown",
   "id": "2d0dbf9a",
   "metadata": {},
   "source": [
    "### 1. Координатные четверти\n",
    "Дан набор точек на координатной плоскости. Необходимо подсчитать и вывести количество точек, лежащих в каждой координатной четверти."
   ]
  },
  {
   "cell_type": "code",
   "execution_count": 150,
   "id": "214e6bd0",
   "metadata": {
    "ExecuteTime": {
     "end_time": "2022-06-23T14:18:20.666768Z",
     "start_time": "2022-06-23T14:18:20.659386Z"
    }
   },
   "outputs": [
    {
     "name": "stdout",
     "output_type": "stream",
     "text": [
      "Первая четверть: 1\n",
      "Вторая четверть: 0\n",
      "Третья четверть: 1\n",
      "Четвертая четверть: 0\n"
     ]
    }
   ],
   "source": [
    "import numpy as np\n",
    "\n",
    "def solution(n):\n",
    "    test = '0 -1\\n1 2\\n0 9\\n-9 -5'\n",
    "    coords = np.array([x.split() for x in [_ for _ in test.splitlines()]], dtype=int)\n",
    "    print(\"Первая четверть:\", sum(np.logical_and(coords[:,0]>0, coords[:,1]>0)))\n",
    "    print(\"Вторая четверть:\", sum(np.logical_and(coords[:,0]<0, coords[:,1]>0)))\n",
    "    print(\"Третья четверть:\", sum(np.logical_and(coords[:,0]<0, coords[:,1]<0)))\n",
    "    print(\"Четвертая четверть:\", sum(np.logical_and(coords[:,0]>0, coords[:,1]<0)))\n",
    "    \n",
    "solution(4)"
   ]
  },
  {
   "cell_type": "markdown",
   "id": "d520f69d",
   "metadata": {},
   "source": [
    "### 2. Больше предыдущего\n",
    "Напишите программу подсчета количества чисел, которые больше предшествующего им в этом списке числа, то есть, стоят вслед за меньшим числом. "
   ]
  },
  {
   "cell_type": "code",
   "execution_count": 11,
   "id": "f9bf6414",
   "metadata": {
    "ExecuteTime": {
     "end_time": "2022-06-24T10:25:46.448389Z",
     "start_time": "2022-06-24T10:25:46.442459Z"
    }
   },
   "outputs": [
    {
     "name": "stdout",
     "output_type": "stream",
     "text": [
      "4\n"
     ]
    }
   ],
   "source": [
    "import numpy as np\n",
    "\n",
    "print(sum(np.diff(np.array('1 2 3 4 5'.split(), dtype=int))>0))\n"
   ]
  },
  {
   "cell_type": "markdown",
   "id": "d65d556f",
   "metadata": {},
   "source": [
    "### 3. Назад, вперёд и наоборот\n",
    "На вход программе подается строка текста из натуральных чисел. Из элементов строки формируется список чисел. Напишите программу, которая меняет местами соседние элементы списка"
   ]
  },
  {
   "cell_type": "code",
   "execution_count": 18,
   "id": "673c725d",
   "metadata": {
    "ExecuteTime": {
     "end_time": "2022-06-24T10:36:33.338987Z",
     "start_time": "2022-06-24T10:36:33.331834Z"
    }
   },
   "outputs": [
    {
     "data": {
      "text/plain": [
       "'2 1 4 3 5'"
      ]
     },
     "execution_count": 18,
     "metadata": {},
     "output_type": "execute_result"
    }
   ],
   "source": [
    "import re\n",
    "\n",
    "def solution(ls):\n",
    "    regx = re.compile(r'(\\d+)\\s+(\\d+)')\n",
    "    return regx.sub(lambda m: f\"{m.group(2)} {m.group(1)}\", ls)\n",
    "\n",
    "solution('1 2 3 4 5')"
   ]
  },
  {
   "cell_type": "markdown",
   "id": "d946fd6b",
   "metadata": {},
   "source": [
    "### 4. Сдвиг в развитии\n",
    "Напишите программу циклического сдвига элементов списка направо, когда последний элемент становится первым, а остальные сдвигаются на одну позицию вперед, в сторону увеличения индексов."
   ]
  },
  {
   "cell_type": "code",
   "execution_count": 23,
   "id": "c42b591e",
   "metadata": {
    "ExecuteTime": {
     "end_time": "2022-06-24T10:46:42.457594Z",
     "start_time": "2022-06-24T10:46:42.451345Z"
    }
   },
   "outputs": [
    {
     "name": "stdout",
     "output_type": "stream",
     "text": [
      "13 489 483 43 2 3 84 1 4 3 2 5 4 3\n"
     ]
    }
   ],
   "source": [
    "from collections import deque\n",
    "\n",
    "def solution(ls):\n",
    "    dl = deque(ls.split())\n",
    "    dl.rotate(1)\n",
    "    return dl\n",
    "\n",
    "print(*solution('489 483 43 2 3 84 1 4 3 2 5 4 3 13'))"
   ]
  },
  {
   "cell_type": "markdown",
   "id": "62062c1b",
   "metadata": {},
   "source": [
    "### 5. Различные элементы\n",
    "Напишите программу для подсчета количества разных элементов в списке."
   ]
  },
  {
   "cell_type": "code",
   "execution_count": 26,
   "id": "1d3ebca3",
   "metadata": {
    "ExecuteTime": {
     "end_time": "2022-06-24T10:50:39.304177Z",
     "start_time": "2022-06-24T10:50:39.297897Z"
    }
   },
   "outputs": [
    {
     "data": {
      "text/plain": [
       "1"
      ]
     },
     "execution_count": 26,
     "metadata": {},
     "output_type": "execute_result"
    }
   ],
   "source": [
    "len(set('2 2 5 5 5 5 8 10 10'.split()))"
   ]
  },
  {
   "cell_type": "markdown",
   "id": "13bd551b",
   "metadata": {},
   "source": [
    "### 6. Произведение чисел\n",
    "Напишите программу для определения, является ли число произведением двух чисел из данного набора, выводящую результат в виде ответа «ДА» или «НЕТ»."
   ]
  },
  {
   "cell_type": "code",
   "execution_count": 55,
   "id": "1cc99439",
   "metadata": {
    "ExecuteTime": {
     "end_time": "2022-06-24T11:34:50.590699Z",
     "start_time": "2022-06-24T11:34:50.584056Z"
    }
   },
   "outputs": [
    {
     "data": {
      "text/plain": [
       "'ДА'"
      ]
     },
     "execution_count": 55,
     "metadata": {},
     "output_type": "execute_result"
    }
   ],
   "source": [
    "def solution(n):\n",
    "    test = '89\\n4\\n77\\n4'\n",
    "    prod = 16\n",
    "    nums = [int(x) for x in test.splitlines()]\n",
    "    for i in range(len(nums)):\n",
    "        for j in range(len(nums)):\n",
    "            if i != j and nums[i] * nums[j] == prod:\n",
    "                return \"ДА\"\n",
    "    return \"НЕТ\"\n",
    "\n",
    "\n",
    "solution(5)"
   ]
  },
  {
   "cell_type": "markdown",
   "id": "fec31727",
   "metadata": {},
   "source": [
    "### 7. Камень, ножницы, бумага\n",
    "Программа должна вывести результат жеребьёвки, то есть кто победит"
   ]
  },
  {
   "cell_type": "code",
   "execution_count": 64,
   "id": "112c1daa",
   "metadata": {
    "ExecuteTime": {
     "end_time": "2022-06-24T12:29:24.380800Z",
     "start_time": "2022-06-24T12:29:24.373983Z"
    }
   },
   "outputs": [
    {
     "data": {
      "text/plain": [
       "'Тимур'"
      ]
     },
     "execution_count": 64,
     "metadata": {},
     "output_type": "execute_result"
    }
   ],
   "source": [
    "def solution(timur, ruslan):\n",
    "    elems = {\"камень\": [0,1,-1], \"ножницы\": [-1,0,1], \"бумага\": [1,-1,0]}\n",
    "    res = elems[timur][list(elems.keys()).index(ruslan)]\n",
    "    return \"Тимур\" if res > 0 else \"Руслан\" if res < 0 else \"ничья\"\n",
    "    \n",
    "solution(\"камень\", \"ножницы\") "
   ]
  },
  {
   "cell_type": "code",
   "execution_count": 63,
   "id": "9d2db670",
   "metadata": {
    "ExecuteTime": {
     "end_time": "2022-06-24T12:22:49.549753Z",
     "start_time": "2022-06-24T12:22:49.541516Z"
    }
   },
   "outputs": [
    {
     "data": {
      "text/plain": [
       "'Тимур'"
      ]
     },
     "execution_count": 63,
     "metadata": {},
     "output_type": "execute_result"
    }
   ],
   "source": [
    "def solution(timur, ruslan):\n",
    "    var = ['камень', 'ножницы', 'бумага']\n",
    "    ans = ['ничья', 'Руслан', 'Тимур']\n",
    "    return ans[var.index(timur) - var.index(ruslan)]\n",
    "    \n",
    "solution(\"камень\", \"ножницы\")       \n",
    "    "
   ]
  },
  {
   "cell_type": "markdown",
   "id": "756ddb88",
   "metadata": {},
   "source": [
    "### 8. Камень, ножницы, бумага, ящерица, Спок\n",
    "Правила игры стандартные: ножницы режут бумагу. Бумага заворачивает камень. Камень давит ящерицу, а ящерица травит Спока, в то время как Спок ломает ножницы, которые, в свою очередь, отрезают голову ящерице, которая ест бумагу, на которой улики против Спока. Спок испаряет камень, а камень, разумеется, затупляет ножницы."
   ]
  },
  {
   "cell_type": "code",
   "execution_count": 95,
   "id": "50ca654d",
   "metadata": {
    "ExecuteTime": {
     "end_time": "2022-06-24T13:05:25.808599Z",
     "start_time": "2022-06-24T13:05:25.801446Z"
    }
   },
   "outputs": [
    {
     "data": {
      "text/plain": [
       "'Тимур'"
      ]
     },
     "execution_count": 95,
     "metadata": {},
     "output_type": "execute_result"
    }
   ],
   "source": [
    "def solution(timur, ruslan):\n",
    "    graf = {\n",
    "        'ножницы': ['бумага', 'ящерица'],\n",
    "        'бумага': ['камень', 'Спок'],\n",
    "        'камень': ['ножницы', 'ящерица'],\n",
    "        'ящерица': ['Спок', 'бумага'],\n",
    "        'Спок': ['ножницы', 'камень']\n",
    "    }\n",
    "    return \"Тимур\" if ruslan in graf[timur] else \"Руслан\" if timur in graf[ruslan] else \"ничья\"\n",
    "\n",
    "\n",
    "solution(\"бумага\", \"Спок\")"
   ]
  },
  {
   "cell_type": "code",
   "execution_count": 97,
   "id": "e1c51599",
   "metadata": {
    "ExecuteTime": {
     "end_time": "2022-06-24T13:23:55.316242Z",
     "start_time": "2022-06-24T13:23:55.304100Z"
    }
   },
   "outputs": [
    {
     "data": {
      "text/plain": [
       "'Тимур'"
      ]
     },
     "execution_count": 97,
     "metadata": {},
     "output_type": "execute_result"
    }
   ],
   "source": [
    "#Алекс Глозман\n",
    "def solution(timur, ruslan):\n",
    "    g = ('ножницы', 'бумага', 'камень', 'ящерица', 'Спок')\n",
    "    dist = (g.index(timur) - g.index(ruslan)) % len(g)\n",
    "    return ('ничья', 'Тимур', 'Руслан')[dist and dist % 2 + 1]\n",
    "            \n",
    "solution(\"бумага\", \"Спок\")\n"
   ]
  },
  {
   "cell_type": "markdown",
   "id": "458f71b1",
   "metadata": {},
   "source": [
    "### 9. Орел и решка\n",
    "Дана строка текста, состоящая из букв русского алфавита \"О\" и \"Р\". Буква \"О\" – соответствует выпадению Орла, а буква \"Р\" – соответствует выпадению Решки. Напишите программу, которая подсчитывает наибольшее количество подряд выпавших Решек."
   ]
  },
  {
   "cell_type": "code",
   "execution_count": 114,
   "id": "fd5086cd",
   "metadata": {
    "ExecuteTime": {
     "end_time": "2022-06-24T13:46:30.915705Z",
     "start_time": "2022-06-24T13:46:30.910340Z"
    }
   },
   "outputs": [
    {
     "data": {
      "text/plain": [
       "7"
      ]
     },
     "execution_count": 114,
     "metadata": {},
     "output_type": "execute_result"
    }
   ],
   "source": [
    "len(max('ООООООРРРОРОРРРРРРР'.split('О')))\n"
   ]
  },
  {
   "cell_type": "markdown",
   "id": "85c249a2",
   "metadata": {},
   "source": [
    "### 10. Кремниевая долина\n",
    "Искусственный интеллект Антон, созданный Гилфойлом, взломал сеть умных холодильников. Теперь он использует их в качестве серверов \"Пегого дудочника\". Помогите владельцу фирмы отыскать все зараженные холодильники.\n",
    "\n",
    "Для каждого холодильника существует строка с данными, состоящая из строчных букв и цифр, и если в ней присутствует слово \"anton\" (необязательно рядом стоящие буквы, главное наличие последовательности букв), то холодильник заражен и нужно вывести номер холодильника, нумерация начинается с единицы"
   ]
  },
  {
   "cell_type": "code",
   "execution_count": 12,
   "id": "2203d77e",
   "metadata": {
    "ExecuteTime": {
     "end_time": "2022-06-27T10:58:27.569810Z",
     "start_time": "2022-06-27T10:58:27.563883Z"
    }
   },
   "outputs": [
    {
     "data": {
      "text/plain": [
       "[1, 2, 3]"
      ]
     },
     "execution_count": 12,
     "metadata": {},
     "output_type": "execute_result"
    }
   ],
   "source": [
    "import re\n",
    "\n",
    "\n",
    "def solution(n):\n",
    "    test = [\n",
    "        '222anton456', 'a1n1t1o1n1', '0000a0000n00t00000o000000n', 'gylfole',\n",
    "        'richard', 'ant0n'\n",
    "    ]\n",
    "    rex = re.compile(r'a.*?n.*?t.*?o.*?n')\n",
    "    fr = [i + 1 for i, s in enumerate(test) if rex.search(s) is not None]\n",
    "    return fr\n",
    "\n",
    "\n",
    "solution(9)"
   ]
  },
  {
   "cell_type": "code",
   "execution_count": 19,
   "id": "b860733d",
   "metadata": {
    "ExecuteTime": {
     "end_time": "2022-06-27T11:09:22.691959Z",
     "start_time": "2022-06-27T11:08:56.302272Z"
    }
   },
   "outputs": [
    {
     "name": "stdout",
     "output_type": "stream",
     "text": [
      "6\n",
      "222anton456\n",
      "a1n1t1o1n1\n",
      "0000a0000n00t00000o000000n\n",
      "gylfole\n",
      "richard\n",
      "ant0n\n",
      "1 2 3\n"
     ]
    }
   ],
   "source": [
    "import re\n",
    "\n",
    "print(*[\n",
    "    i + 1 for i, s in enumerate([input() for _ in range(int(input()))])\n",
    "    if re.search(r'a.*?n.*?t.*?o.*?n', s) is not None\n",
    "])"
   ]
  },
  {
   "cell_type": "markdown",
   "id": "081fe8a2",
   "metadata": {},
   "source": [
    "### 11. Роскомнадзор запретил букву а\n",
    "Необходимо написать программу, реализующую алгоритм написания [этой](https://www.youtube.com/watch?v=sAuMERnj-FU) песни. Алгоритм выводит в конце предложения следующую в алфавитном порядке букву, если она встречается в строке текста, а очередную строку отображает уже без этой буквы."
   ]
  },
  {
   "cell_type": "code",
   "execution_count": 41,
   "id": "b6ccd9f6",
   "metadata": {
    "ExecuteTime": {
     "end_time": "2022-06-27T12:06:26.854465Z",
     "start_time": "2022-06-27T12:06:26.849484Z"
    }
   },
   "outputs": [
    {
     "name": "stdout",
     "output_type": "stream",
     "text": [
      "тимур запретил букву а\n",
      "тимур зпретил букву б\n",
      "тимур зпретил укву в\n",
      "тимур зпретил уку е\n",
      "тимур зпртил уку з\n",
      "тимур пртил уку и\n",
      "тмур пртл уку к\n",
      "тмур пртл уу л\n",
      "тмур прт уу м\n",
      "тур прт уу п\n",
      "тур рт уу р\n",
      "ту т уу т\n",
      "у уу у\n"
     ]
    }
   ],
   "source": [
    "def solution(s):\n",
    "    s = f\"{s} запретил букву\"\n",
    "    for i in range(1072, 1104):\n",
    "        if chr(i) in s:\n",
    "            print(*s.split(), chr(i))\n",
    "            s = s.replace(chr(i), '').strip()\n",
    "\n",
    "\n",
    "solution('тимур')"
   ]
  },
  {
   "cell_type": "markdown",
   "id": "c4176fde",
   "metadata": {},
   "source": [
    "## 4.2 Вложенные списки\n",
    "Дополните приведенный код так, чтобы он выводил единственное число: сумму всех чисел списка list1 разделённую на общее количество всех чисел."
   ]
  },
  {
   "cell_type": "code",
   "execution_count": 89,
   "id": "5a3766d0",
   "metadata": {
    "ExecuteTime": {
     "end_time": "2022-06-27T14:25:20.089229Z",
     "start_time": "2022-06-27T14:25:20.083625Z"
    }
   },
   "outputs": [
    {
     "data": {
      "text/plain": [
       "53.3125"
      ]
     },
     "execution_count": 89,
     "metadata": {},
     "output_type": "execute_result"
    }
   ],
   "source": [
    "def solution():\n",
    "    list1 = [[1, 7, 8], [9, 7, 102], [102, 106, 105], [100, 99, 98, 103], [1, 2, 3]]\n",
    "    total = sum(list1, [])\n",
    "    return sum(total) / len(total)\n",
    "solution()"
   ]
  },
  {
   "cell_type": "markdown",
   "id": "fc86fd14",
   "metadata": {},
   "source": [
    "### Треугольник Паскаля\n",
    "Треугольник Паскаля — бесконечная таблица биномиальных коэффициентов, имеющая треугольную форму. В этом треугольнике на вершине и по бокам стоят единицы. Каждое число равно сумме двух расположенных над ним чисел."
   ]
  },
  {
   "cell_type": "code",
   "execution_count": 87,
   "id": "9c1ae52f",
   "metadata": {
    "ExecuteTime": {
     "end_time": "2022-06-28T12:49:51.728856Z",
     "start_time": "2022-06-28T12:49:51.723348Z"
    }
   },
   "outputs": [
    {
     "name": "stdout",
     "output_type": "stream",
     "text": [
      "1\n",
      "1 1\n",
      "1 2 1\n",
      "1 3 3 1\n",
      "1 4 6 4 1\n",
      "1 5 10 10 5 1\n"
     ]
    }
   ],
   "source": [
    "def pascal(n):\n",
    "    res = []\n",
    "    for i in range(n+1):\n",
    "        res.append([1])\n",
    "        for j in range(i):\n",
    "            res[i].append(sum(res[i-1][j:j+2]))\n",
    "    return res[:n]\n",
    "    \n",
    "[print(*li) for li in pascal(6)];"
   ]
  },
  {
   "cell_type": "markdown",
   "id": "f036b8d9",
   "metadata": {},
   "source": [
    "### Упаковка дубликатов\n",
    "На вход программе подается строка текста, содержащая символы. Напишите программу, которая упаковывает последовательности одинаковых символов заданной строки в подсписки."
   ]
  },
  {
   "cell_type": "code",
   "execution_count": 102,
   "id": "a800be41",
   "metadata": {
    "ExecuteTime": {
     "end_time": "2022-06-28T13:23:14.674877Z",
     "start_time": "2022-06-28T13:23:14.668216Z"
    }
   },
   "outputs": [
    {
     "data": {
      "text/plain": [
       "[['w', 'w', 'w'],\n",
       " ['o'],\n",
       " ['r'],\n",
       " ['l'],\n",
       " ['d'],\n",
       " ['g', 'g', 'g', 'g'],\n",
       " ['r'],\n",
       " ['e'],\n",
       " ['a'],\n",
       " ['t', 't'],\n",
       " ['e'],\n",
       " ['c', 'c'],\n",
       " ['h'],\n",
       " ['e'],\n",
       " ['m'],\n",
       " ['g', 'g'],\n",
       " ['p'],\n",
       " ['w', 'w']]"
      ]
     },
     "execution_count": 102,
     "metadata": {},
     "output_type": "execute_result"
    }
   ],
   "source": [
    "def solution(s):\n",
    "    res = []\n",
    "    for x in s.split():\n",
    "        if res and x in res[-1]:\n",
    "            res[-1].append(x)\n",
    "        else:\n",
    "            res.append([x])\n",
    "    return res\n",
    "\n",
    "solution('w w w o r l d g g g g r e a t t e c c h e m g g p w w')"
   ]
  },
  {
   "cell_type": "markdown",
   "id": "7b40a237",
   "metadata": {},
   "source": [
    "### Разбиение на чанки\n",
    "Реализуйте функцию chunked(), которая принимает на вход список и число, задающее размер чанка (куска), а возвращает список из чанков указанной длины."
   ]
  },
  {
   "cell_type": "code",
   "execution_count": 132,
   "id": "d3c445fa",
   "metadata": {
    "ExecuteTime": {
     "end_time": "2022-06-28T14:09:39.735844Z",
     "start_time": "2022-06-28T14:09:39.728360Z"
    }
   },
   "outputs": [
    {
     "data": {
      "text/plain": [
       "[['a', 'b'], ['c', 'd'], ['e', 'f'], ['r', 'g'], ['b']]"
      ]
     },
     "execution_count": 132,
     "metadata": {},
     "output_type": "execute_result"
    }
   ],
   "source": [
    "def chunked(ls, size):\n",
    "    ls = ls.split()\n",
    "    return [ls[i:i+size] for i in range(0,len(ls),size)]\n",
    "\n",
    "\n",
    "chunked('a b c d e f r g b ', 2)"
   ]
  },
  {
   "cell_type": "markdown",
   "id": "5b24203e",
   "metadata": {},
   "source": [
    "### Подсписки списка\n",
    "Подсписок может содержать один элемент, несколько, и даже ни одного. Например, [1], [2], [3] и [4] — подсписки списка [1, 2, 3, 4]. Список [2, 3] — подсписок списка [1, 2, 3, 4], но список [2, 4] не подсписок списка [1, 2, 3, 4], так как элементы 2 и 4 во втором списке не смежные. Пустой список — подсписок любого списка. Сам список — подсписок самого себя, то есть список [1, 2, 3, 4] подсписок списка [1, 2, 3, 4]."
   ]
  },
  {
   "cell_type": "code",
   "execution_count": 20,
   "id": "f8a0206f",
   "metadata": {
    "ExecuteTime": {
     "end_time": "2022-06-29T10:38:17.967604Z",
     "start_time": "2022-06-29T10:38:17.957368Z"
    }
   },
   "outputs": [
    {
     "data": {
      "text/plain": [
       "[[],\n",
       " ['1'],\n",
       " ['2'],\n",
       " ['3'],\n",
       " ['1'],\n",
       " ['1', '2'],\n",
       " ['2', '3'],\n",
       " ['3', '1'],\n",
       " ['1', '2', '3'],\n",
       " ['2', '3', '1'],\n",
       " ['1', '2', '3', '1']]"
      ]
     },
     "execution_count": 20,
     "metadata": {},
     "output_type": "execute_result"
    }
   ],
   "source": [
    "def chunked(ls, size):\n",
    "    return [ls[i:i+size] for i in range(len(ls))]\n",
    "\n",
    "def sublists(ls):\n",
    "    ls = ls.split()\n",
    "    res = [[]]    \n",
    "    for i in range(len(ls)):\n",
    "        for ch in chunked(ls, i+1):\n",
    "            if len(ch) == i+1:\n",
    "                res.append(ch)\n",
    "    return res\n",
    "sublists('1 2 3 1')"
   ]
  },
  {
   "cell_type": "markdown",
   "id": "47fbb0c9",
   "metadata": {},
   "source": [
    "## 4.4 Матрицы"
   ]
  },
  {
   "cell_type": "markdown",
   "id": "f0d70595",
   "metadata": {},
   "source": [
    "### Вывести матрицу"
   ]
  },
  {
   "cell_type": "code",
   "execution_count": 11,
   "id": "1cfb439e",
   "metadata": {
    "ExecuteTime": {
     "end_time": "2022-06-29T11:32:12.830189Z",
     "start_time": "2022-06-29T11:32:12.825683Z"
    }
   },
   "outputs": [
    {
     "name": "stdout",
     "output_type": "stream",
     "text": [
      "и швец\n",
      "и жнец\n",
      "и на\n",
      "дуде игрец\n"
     ]
    }
   ],
   "source": [
    "def sol(n,m):\n",
    "    li = ['и','швец','и','жнец','и','на','дуде','игрец']    \n",
    "#     li = [input() for _ in range(n*m)]\n",
    "    [print(*li[i:i+m]) for i in range(0,n*m,m)]\n",
    "        \n",
    "sol(4,2)"
   ]
  },
  {
   "cell_type": "code",
   "execution_count": 27,
   "id": "5ba228c3",
   "metadata": {
    "ExecuteTime": {
     "end_time": "2022-06-29T11:44:56.126304Z",
     "start_time": "2022-06-29T11:44:56.120192Z"
    }
   },
   "outputs": [
    {
     "name": "stdout",
     "output_type": "stream",
     "text": [
      "и швец\n",
      "и жнец\n",
      "и на\n",
      "дуде игрец\n",
      "\n",
      "и и и дуде\n",
      "швец жнец на игрец\n"
     ]
    }
   ],
   "source": [
    "import numpy as np\n",
    "def sol(n,m):\n",
    "    mat = np.array(['и','швец','и','жнец','и','на','дуде','игрец']).reshape((n,m))\n",
    "    [print(*r) for r in mat]\n",
    "    print()\n",
    "    [print(*r) for r in np.transpose(mat)]\n",
    "        \n",
    "sol(4,2)"
   ]
  },
  {
   "cell_type": "markdown",
   "id": "282791c7",
   "metadata": {},
   "source": [
    "### След матрицы\n",
    "Следом квадратной матрицы называется сумма элементов главной диагонали. Напишите программу, которая выводит след заданной квадратной матрицы."
   ]
  },
  {
   "cell_type": "code",
   "execution_count": 57,
   "id": "3e3d8e6c",
   "metadata": {
    "ExecuteTime": {
     "end_time": "2022-06-29T12:19:15.838746Z",
     "start_time": "2022-06-29T12:19:15.830476Z"
    }
   },
   "outputs": [
    {
     "data": {
      "text/plain": [
       "15"
      ]
     },
     "execution_count": 57,
     "metadata": {},
     "output_type": "execute_result"
    }
   ],
   "source": [
    "def sol(n):    \n",
    "#     mat = list(map(int, [input().split() for _ in range(n)]))\n",
    "    mat = list(map(lambda x: x.split(), ['1 2 3','4 5 6','7 8 9']))\n",
    "    return sum(map(int, [mat[i][i] for i in range(n)]))\n",
    "\n",
    "sol(3)\n",
    "    "
   ]
  },
  {
   "cell_type": "markdown",
   "id": "72d83ad8",
   "metadata": {},
   "source": [
    "### Больше среднего\n",
    "Напишите программу, которая выводит количество элементов квадратной матрицы в каждой строке, больших среднего арифметического элементов данной строки."
   ]
  },
  {
   "cell_type": "code",
   "execution_count": 87,
   "id": "67c2cd1e",
   "metadata": {
    "ExecuteTime": {
     "end_time": "2022-06-29T12:34:45.366282Z",
     "start_time": "2022-06-29T12:34:45.356545Z"
    }
   },
   "outputs": [
    {
     "name": "stdout",
     "output_type": "stream",
     "text": [
      "[[ 1  2  3  4]\n",
      " [ 5  6  3 15]\n",
      " [ 0  2  3  1]\n",
      " [ 5  2  8  5]]\n",
      "[2.5  7.25 1.5  5.  ]\n"
     ]
    },
    {
     "data": {
      "text/plain": [
       "array([2, 1, 2, 1])"
      ]
     },
     "execution_count": 87,
     "metadata": {},
     "output_type": "execute_result"
    }
   ],
   "source": [
    "import numpy as np\n",
    "def sol(n):    \n",
    "#     mat = list(map(int, [input().split() for _ in range(n)]))\n",
    "    mat = np.array(list(map(lambda x: x.split(), ['1 2 3 4','5 6 3 15','0 2 3 1', '5 2 8 5'])), dtype=int)\n",
    "    print(mat)\n",
    "    print(mat.mean(axis=1))\n",
    "    return sum((np.transpose(mat)>mat.mean(axis=1)))\n",
    "\n",
    "sol(3)"
   ]
  },
  {
   "cell_type": "code",
   "execution_count": 107,
   "id": "d4ac9e3a",
   "metadata": {
    "ExecuteTime": {
     "end_time": "2022-06-29T13:12:45.086898Z",
     "start_time": "2022-06-29T13:12:45.082304Z"
    }
   },
   "outputs": [
    {
     "name": "stdout",
     "output_type": "stream",
     "text": [
      "2\n",
      "1\n",
      "2\n",
      "1\n"
     ]
    }
   ],
   "source": [
    "def sol(n):    \n",
    "#     mat = list(map(int, [input().split() for _ in range(n)]))\n",
    "    mat = list(map(lambda x: list(map(int, x.split())), ['1 2 3 4','5 6 3 15','0 2 3 1', '5 2 8 5']))\n",
    "#     mat = [list(map(int, input().split())) for _ in range(n)]\n",
    "    [print(sum([e>sum(r)/len(r) for e in r])) for r in mat]\n",
    "\n",
    "sol(4)"
   ]
  },
  {
   "cell_type": "markdown",
   "id": "f84a3e1f",
   "metadata": {},
   "source": [
    "### Максимальный в области\n"
   ]
  },
  {
   "cell_type": "code",
   "execution_count": 115,
   "id": "fb107df0",
   "metadata": {
    "ExecuteTime": {
     "end_time": "2022-06-29T13:22:38.999871Z",
     "start_time": "2022-06-29T13:22:38.991704Z"
    }
   },
   "outputs": [
    {
     "data": {
      "text/plain": [
       "7"
      ]
     },
     "execution_count": 115,
     "metadata": {},
     "output_type": "execute_result"
    }
   ],
   "source": [
    "def sol(n):\n",
    "    mat = list(map(lambda x: list(map(int, x.split())), ['1 4 5','6 7 8','1 1 6']))\n",
    "    #     mat = [list(map(int, input().split())) for _ in range(n)]\n",
    "    res = mat[0][0]\n",
    "    for i in range(n):\n",
    "        res = max(res, max(mat[i][:i+1]))\n",
    "    return res\n",
    "\n",
    "sol(3)\n",
    "    "
   ]
  },
  {
   "cell_type": "code",
   "execution_count": 134,
   "id": "5d2023ce",
   "metadata": {
    "ExecuteTime": {
     "end_time": "2022-06-29T13:50:51.971017Z",
     "start_time": "2022-06-29T13:50:51.964583Z"
    }
   },
   "outputs": [
    {
     "data": {
      "text/plain": [
       "8"
      ]
     },
     "execution_count": 134,
     "metadata": {},
     "output_type": "execute_result"
    }
   ],
   "source": [
    "def sol(n):\n",
    "    mat = list(map(lambda x: list(map(int, x.split())), ['1 4 5','6 7 8','1 1 6']))\n",
    "    #     mat = [list(map(int, input().split())) for _ in range(n)]\n",
    "    return max([mat[i][j] for j in range(n) for i in range(n) if n-j-1>=i>=j or j>=i>=n-j-1])\n",
    "\n",
    "sol(3)"
   ]
  },
  {
   "cell_type": "markdown",
   "id": "391f434e",
   "metadata": {},
   "source": [
    "### Суммы четвертей\n",
    "Квадратная матрица разбивается на четыре четверти, ограниченные главной и побочной диагоналями: верхнюю, нижнюю, левую и правую.\n",
    "**Примечание.** Элементы диагоналей не учитываются."
   ]
  },
  {
   "cell_type": "code",
   "execution_count": 149,
   "id": "8bbd88c6",
   "metadata": {
    "ExecuteTime": {
     "end_time": "2022-06-29T14:12:25.426886Z",
     "start_time": "2022-06-29T14:12:25.416324Z"
    }
   },
   "outputs": [
    {
     "name": "stdout",
     "output_type": "stream",
     "text": [
      "Верхняя четверть: 5\n",
      "Правая четверть: 14\n",
      "Нижняя четверть: 5\n",
      "Левая четверть: 8\n"
     ]
    }
   ],
   "source": [
    "def sol(n):\n",
    "    mat = list(map(lambda x: list(map(int, x.split())), ['1 2 3 4','5 6 7 8','3 4 5 6', '1 2 3 4']))\n",
    "    #     mat = [list(map(int, input().split())) for _ in range(n)]\n",
    "    res = [0,0,0,0]\n",
    "    keys = ['Верхняя четверть:', 'Правая четверть:', 'Нижняя четверть:', 'Левая четверть:']\n",
    "    for i in range(n):\n",
    "        for j in range(n):\n",
    "            if n-j-1>i>j:\n",
    "                res[3]+=mat[i][j]\n",
    "            if j>i>n-j-1:\n",
    "                res[1]+=mat[i][j]\n",
    "            if n-j-1>i<j:\n",
    "                res[0]+=mat[i][j]\n",
    "            if n-j-1<i>j:\n",
    "                res[2]+=mat[i][j]\n",
    "        \n",
    "    return dict(zip(keys, res))\n",
    "\n",
    "[print(k,v) for k,v in sol(4).items()];\n",
    "    "
   ]
  },
  {
   "cell_type": "markdown",
   "id": "f3e73c06",
   "metadata": {},
   "source": [
    "### Таблица умножения\n",
    "На вход программе подаются два натуральных числа n и m — количество строк и столбцов в матрице. Создайте матрицу mult размером n×m и заполните её таблицей умножения по формуле mult[i][j] = i * j"
   ]
  },
  {
   "cell_type": "code",
   "execution_count": 15,
   "id": "5f5428b9",
   "metadata": {
    "ExecuteTime": {
     "end_time": "2022-06-30T10:41:55.518611Z",
     "start_time": "2022-06-30T10:41:55.511735Z"
    }
   },
   "outputs": [
    {
     "name": "stdout",
     "output_type": "stream",
     "text": [
      "0   0   0   0   0   0  \n",
      "0   1   2   3   4   5  \n",
      "0   2   4   6   8   10 \n",
      "0   3   6   9   12  15 \n"
     ]
    }
   ],
   "source": [
    "def mult(n, m):\n",
    "    [print(*[str(i*j).ljust(3) for j in range(m)]) for i in range(n)]\n",
    "    \n",
    "mult(4, 6)"
   ]
  },
  {
   "cell_type": "markdown",
   "id": "4f390517",
   "metadata": {},
   "source": [
    "### Максимум в таблице\n",
    "Напишите программу, которая находит индексы (строку и столбец) первого вхождения максимального элемента."
   ]
  },
  {
   "cell_type": "code",
   "execution_count": 27,
   "id": "e05b70d4",
   "metadata": {
    "ExecuteTime": {
     "end_time": "2022-06-30T10:54:40.324662Z",
     "start_time": "2022-06-30T10:54:40.319864Z"
    }
   },
   "outputs": [
    {
     "name": "stdout",
     "output_type": "stream",
     "text": [
      "1 2\n"
     ]
    }
   ],
   "source": [
    "import numpy as np\n",
    "def sol(n,m):\n",
    "    mat = np.array(list(map(lambda x: x.split(), ['0 3 2 4','2 3 5 5','5 1 2 3'])), dtype=int)\n",
    "    return np.unravel_index(np.argmax(mat), shape=mat.shape)\n",
    "\n",
    "print(*sol(3,4))\n"
   ]
  },
  {
   "cell_type": "markdown",
   "id": "5a00f452",
   "metadata": {},
   "source": [
    "### Обмен столбцов\n",
    "Напишите программу, которая меняет местами столбцы в матрице."
   ]
  },
  {
   "cell_type": "code",
   "execution_count": 34,
   "id": "d8491437",
   "metadata": {
    "ExecuteTime": {
     "end_time": "2022-06-30T11:11:08.523269Z",
     "start_time": "2022-06-30T11:11:08.517714Z"
    }
   },
   "outputs": [
    {
     "name": "stdout",
     "output_type": "stream",
     "text": [
      "[[12 11 13 14]\n",
      " [22 21 23 24]\n",
      " [32 31 33 34]]\n"
     ]
    }
   ],
   "source": [
    "import numpy as np\n",
    "def sol(n,m):\n",
    "    mat = np.array(list(map(lambda x: x.split(), ['11 12 13 14','21 22 23 24','31 32 33 34'])), dtype=int)\n",
    "#     mat = np.array([input().split() for _ in range(n)], dtype=int)\n",
    "    i ,j = 0, 1\n",
    "    mat[:,i], mat[:,j] = mat[:,j].copy(), mat[:,i].copy()\n",
    "    return mat\n",
    "\n",
    "print(sol(3,4))"
   ]
  },
  {
   "cell_type": "markdown",
   "id": "ff9a420d",
   "metadata": {},
   "source": [
    "### Симметричная матрица\n",
    "Напишите программу, которая проверяет симметричность квадратной матрицы относительно главной диагонали."
   ]
  },
  {
   "cell_type": "code",
   "execution_count": 49,
   "id": "590618f2",
   "metadata": {
    "ExecuteTime": {
     "end_time": "2022-06-30T11:36:53.028433Z",
     "start_time": "2022-06-30T11:36:53.018035Z"
    }
   },
   "outputs": [
    {
     "data": {
      "text/plain": [
       "'NO'"
      ]
     },
     "execution_count": 49,
     "metadata": {},
     "output_type": "execute_result"
    }
   ],
   "source": [
    "def sol(n):\n",
    "    mat = list(map(lambda x: list(map(int, x.split())), ['0 1 2','1 2 7','2 3 4']))\n",
    "    #     mat = [list(map(int, input().split())) for _ in range(n)]\n",
    "    return 'YES' if all([mat[i][j] == mat[j][i] for j in range(len(mat)) for i in range(j)]) else 'NO'\n",
    "sol(3)"
   ]
  },
  {
   "cell_type": "markdown",
   "id": "5d9ac878",
   "metadata": {},
   "source": [
    "### Обмен диагоналей\n",
    "Дана квадратная матрица чисел. Напишите программу, которая меняет местами элементы, стоящие на главной и побочной диагонали, при этом каждый элемент должен остаться в том же столбце (то есть в каждом столбце нужно поменять местами элемент на главной диагонали и на побочной диагонали)."
   ]
  },
  {
   "cell_type": "code",
   "execution_count": 59,
   "id": "a7fa29e3",
   "metadata": {
    "ExecuteTime": {
     "end_time": "2022-06-30T11:56:48.116186Z",
     "start_time": "2022-06-30T11:56:48.108820Z"
    }
   },
   "outputs": [
    {
     "name": "stdout",
     "output_type": "stream",
     "text": [
      "7 2 9\n",
      "4 5 6\n",
      "1 8 3\n"
     ]
    }
   ],
   "source": [
    "def sol(n):\n",
    "    mat = list(map(lambda x: list(map(int, x.split())), ['1 2 3','4 5 6','7 8 9']))\n",
    "    #     mat = [list(map(int, input().split())) for _ in range(n)]\n",
    "    for i in range(n):\n",
    "        mat[i][i], mat[n-i-1][i] = mat[n-i-1][i], mat[i][i]\n",
    "        \n",
    "    return mat\n",
    "[print(*_) for _ in sol(3)];"
   ]
  },
  {
   "cell_type": "markdown",
   "id": "a4f0d4ec",
   "metadata": {},
   "source": [
    "### Зеркальное отображение\n",
    "Напишите программу, которая зеркально отображает её элементы относительно горизонтальной оси симметрии."
   ]
  },
  {
   "cell_type": "code",
   "execution_count": 62,
   "id": "cfe06d9e",
   "metadata": {
    "ExecuteTime": {
     "end_time": "2022-06-30T12:07:28.115108Z",
     "start_time": "2022-06-30T12:07:28.110212Z"
    }
   },
   "outputs": [
    {
     "name": "stdout",
     "output_type": "stream",
     "text": [
      "7 8 9\n",
      "4 5 6\n",
      "1 2 3\n"
     ]
    }
   ],
   "source": [
    "def sol(n):\n",
    "    mat = list(map(lambda x: list(map(int, x.split())), ['1 2 3','4 5 6','7 8 9']))\n",
    "    #     mat = [list(map(int, input().split())) for _ in range(n)]\n",
    "    mat.reverse()\n",
    "    return mat\n",
    "\n",
    "[print(*_) for _ in sol(3)];"
   ]
  },
  {
   "cell_type": "markdown",
   "id": "d0f8d8fc",
   "metadata": {},
   "source": [
    "### Поворот матрицы\n",
    "Напишите программу, которая поворачивает квадратную матрицу чисел на 90 по часовой стрелке."
   ]
  },
  {
   "cell_type": "code",
   "execution_count": 112,
   "id": "4cd3ae08",
   "metadata": {
    "ExecuteTime": {
     "end_time": "2022-06-30T14:05:34.460675Z",
     "start_time": "2022-06-30T14:05:34.455666Z"
    }
   },
   "outputs": [
    {
     "name": "stdout",
     "output_type": "stream",
     "text": [
      "7 4 1\n",
      "8 5 2\n",
      "9 6 3\n"
     ]
    }
   ],
   "source": [
    "import numpy as np\n",
    "def sol(n):\n",
    "    mat = np.array(list(map(lambda x: x.split(), ['1 2 3','4 5 6','7 8 9'])), dtype=int)\n",
    "    #     mat = [list(map(int, input().split())) for _ in range(n)]\n",
    "    return np.rot90(mat, k=3)\n",
    "\n",
    "[print(*_) for _ in sol(3)];"
   ]
  },
  {
   "cell_type": "code",
   "execution_count": 1,
   "id": "639e714e",
   "metadata": {
    "ExecuteTime": {
     "end_time": "2022-06-30T14:18:45.449322Z",
     "start_time": "2022-06-30T14:18:45.441281Z"
    }
   },
   "outputs": [
    {
     "name": "stdout",
     "output_type": "stream",
     "text": [
      "7 4 1\n",
      "8 5 2\n",
      "9 6 3\n"
     ]
    }
   ],
   "source": [
    "def sol(n):\n",
    "    mat = list(map(lambda x: list(map(int, x.split())), ['1 2 3','4 5 6','7 8 9']))\n",
    "    #     mat = [list(map(int, input().split())) for _ in range(n)]\n",
    "    return [[mat[n-j-1][i] for j in range(n)] for i in range(n)]\n",
    "\n",
    "[print(*_) for _ in sol(3)];"
   ]
  },
  {
   "cell_type": "markdown",
   "id": "21a71cd1",
   "metadata": {},
   "source": [
    "### Ходы коня\n",
    "Напишите программу, которая отмечает положение коня на доске и все клетки, которые бьет конь. Клетку, где стоит конь, отметьте английской буквой N, клетки, которые бьет конь, отметьте символами *, остальные клетки заполните точками."
   ]
  },
  {
   "cell_type": "code",
   "execution_count": 464,
   "id": "85765c4f",
   "metadata": {
    "ExecuteTime": {
     "end_time": "2022-07-11T14:55:25.858820Z",
     "start_time": "2022-07-11T14:55:25.845819Z"
    }
   },
   "outputs": [
    {
     "name": "stdout",
     "output_type": "stream",
     "text": [
      ". . . . . . . .\n",
      ". . . . . . . .\n",
      ". . . . . . . .\n",
      ". . . . * . * .\n",
      ". . . * . . . *\n",
      ". . . . . N . .\n",
      ". . . * . . . *\n",
      ". . . . * . * .\n"
     ]
    }
   ],
   "source": [
    "import math\n",
    "def sol(ch):    \n",
    "    j,i='abcdefgh'.index(ch[0]), 8-int(ch[1])\n",
    "    chess = [['.' for _ in range(8)] for _ in range(8)]\n",
    "    chess[i][j] = 'N'\n",
    "    for f in range(12):\n",
    "        x, y = round(math.sqrt(5)*math.cos(f*math.pi/6)), round(math.sqrt(5)*math.sin(f*math.pi/6))\n",
    "        if x and y and x+i in range(8) and y+j in range(8):\n",
    "            chess[x+i][y+j] = '*'\n",
    "    \n",
    "    return chess\n",
    "\n",
    "[print(*_) for _ in sol('f3')];\n"
   ]
  },
  {
   "cell_type": "code",
   "execution_count": 463,
   "id": "dca916ef",
   "metadata": {
    "ExecuteTime": {
     "end_time": "2022-07-11T14:55:17.438099Z",
     "start_time": "2022-07-11T14:55:17.429076Z"
    }
   },
   "outputs": [
    {
     "name": "stdout",
     "output_type": "stream",
     "text": [
      ". . . . . . . .\n",
      ". . . . . . . .\n",
      ". . . . . . . .\n",
      ". . . . * . * .\n",
      ". . . * . . . *\n",
      ". . . . . N . .\n",
      ". . . * . . . *\n",
      ". . . . * . * .\n"
     ]
    }
   ],
   "source": [
    "def sol(ch):    \n",
    "    j,i='abcdefgh'.index(ch[0]), 8-int(ch[1])\n",
    "    chess = [['.*'[abs((x - j) * (y - i)) == 2] for y in range(8)] for x in range(8)]\n",
    "    chess[i][j] = 'N'\n",
    "    \n",
    "    return chess\n",
    "\n",
    "[print(*_) for _ in sol('f3')];"
   ]
  },
  {
   "cell_type": "markdown",
   "id": "b298d353",
   "metadata": {},
   "source": [
    "### Магический квадрат\n",
    "Магическим квадратом порядка n называется квадратная таблица размера n×n, составленная из всех чисел 1,2,3,…,n^2 так, что суммы по каждому столбцу, каждой строке и каждой из двух диагоналей равны между собой. Напишите программу, которая проверяет, является ли заданная квадратная матрица магическим квадратом."
   ]
  },
  {
   "cell_type": "code",
   "execution_count": 81,
   "id": "84cd12f8",
   "metadata": {
    "ExecuteTime": {
     "end_time": "2022-07-01T13:38:58.241216Z",
     "start_time": "2022-07-01T13:38:58.233901Z"
    }
   },
   "outputs": [
    {
     "data": {
      "text/plain": [
       "'YES'"
      ]
     },
     "execution_count": 81,
     "metadata": {},
     "output_type": "execute_result"
    }
   ],
   "source": [
    "import numpy as np\n",
    "\n",
    "\n",
    "def sol(n):\n",
    "    mat = np.array(\n",
    "        list(map(lambda x: list(map(int, x.split())),['8 1 6', '3 5 7', '4 9 2']))\n",
    "    )\n",
    "    #     mat = [list(map(int, input().split())) for _ in range(n)]\n",
    "    return 'YES' if np.unique(\n",
    "        np.concatenate(\n",
    "            (mat.sum(axis=0), mat.sum(axis=1),\n",
    "             np.array(\n",
    "                 (mat.diagonal().sum(),\n",
    "                  np.rot90(mat, k=1).diagonal().sum()))))).size == 1 else 'NO'\n",
    "\n",
    "\n",
    "sol(3)"
   ]
  },
  {
   "cell_type": "code",
   "execution_count": 123,
   "id": "cbfb36f5",
   "metadata": {
    "ExecuteTime": {
     "end_time": "2022-07-01T14:35:37.022448Z",
     "start_time": "2022-07-01T14:35:37.012592Z"
    }
   },
   "outputs": [
    {
     "data": {
      "text/plain": [
       "'NO'"
      ]
     },
     "execution_count": 123,
     "metadata": {},
     "output_type": "execute_result"
    }
   ],
   "source": [
    "def sol(n):\n",
    "    mat = list(map(lambda x: list(map(int, x.split())),['8 2 5', '2 5 8', '5 8 2']))\n",
    "#     mat = [list(map(int, input().split())) for _ in range(n)]\n",
    "    magic = n*(n**2 + 1) // 2\n",
    "    diag=[0, 0]\n",
    "    uniq = set()\n",
    "    for i in range(n):\n",
    "        diag[0] += mat[i][i]\n",
    "        diag[1] += mat[i][n-i-1]\n",
    "        uniq |= set(mat[i])\n",
    "        if len(uniq) < n*(i+1) or not (sum(mat[i]) == magic and sum([mat[j][i] for j in range(n)]) == magic):\n",
    "            return 'NO'\n",
    "        \n",
    "    return 'YES' if all([_ for _ in diag if _ == magic]) else 'NO'\n",
    "            \n",
    "    \n",
    "sol(3)\n",
    "\n"
   ]
  },
  {
   "cell_type": "markdown",
   "id": "2e7c2cd1",
   "metadata": {},
   "source": [
    "### Шахматная доска\n",
    "Напишите программу для создания матрицы размером m x n заполнив ее символами . и * в шахматном порядке. В левом верхнем углу должна стоять точка."
   ]
  },
  {
   "cell_type": "code",
   "execution_count": 62,
   "id": "d08fb41a",
   "metadata": {},
   "outputs": [
    {
     "name": "stdout",
     "output_type": "stream",
     "text": [
      ". * . *\n",
      "* . * .\n",
      ". * . *\n"
     ]
    }
   ],
   "source": [
    "def sol(nm):\n",
    "    n,m = nm.split()\n",
    "    return [['.*'[(i+j)%2] for j in range(int(m))] for i in range(int(n))]    \n",
    "    \n",
    "[print(*_) for _ in sol('3 4')];"
   ]
  },
  {
   "cell_type": "markdown",
   "id": "bc036ae9",
   "metadata": {},
   "source": [
    "### Побочная диагональ\n",
    "На вход программе подается натуральное число n. Напишите программу, которая создает матрицу размером n×n и заполняет её по следующему правилу:\n",
    "\n",
    "- числа на побочной диагонали равны 1;\n",
    "- числа, стоящие выше этой диагонали, равны 0;\n",
    "- числа, стоящие ниже этой диагонали, равны 2.\n"
   ]
  },
  {
   "cell_type": "code",
   "execution_count": 69,
   "id": "c9e3d45b",
   "metadata": {},
   "outputs": [
    {
     "name": "stdout",
     "output_type": "stream",
     "text": [
      "0 0 0 0 0 1\n",
      "0 0 0 0 1 2\n",
      "0 0 0 1 2 2\n",
      "0 0 1 2 2 2\n",
      "0 1 2 2 2 2\n",
      "1 2 2 2 2 2\n"
     ]
    }
   ],
   "source": [
    "def sol(n):\n",
    "    return [[2 if j>n+~i else int(j==n+~i) for j in range(n)] for i in range(n)]\n",
    "    \n",
    "[print(*_) for _ in sol(6)];"
   ]
  },
  {
   "cell_type": "markdown",
   "id": "6dd45c36",
   "metadata": {},
   "source": [
    "### Заполнение\n",
    "Напишите программу, которая создает матрицу размером n×m и заполняет её числами от 1 до n⋅m в соответствии с образцом."
   ]
  },
  {
   "cell_type": "code",
   "execution_count": 80,
   "id": "9c9a446f",
   "metadata": {},
   "outputs": [
    {
     "name": "stdout",
     "output_type": "stream",
     "text": [
      "1   2   3   4   5   6   7  \n",
      "8   9   10  11  12  13  14 \n",
      "15  16  17  18  19  20  21 \n",
      "22  23  24  25  26  27  28 \n"
     ]
    }
   ],
   "source": [
    "def sol(nm):\n",
    "    n,m = map(int, nm.split())\n",
    "    return [[str(i*m+j+1).ljust(3) for j in range(m)] for i in range(n)] \n",
    "\n",
    "[print(*_) for _ in sol('4 7')];"
   ]
  },
  {
   "cell_type": "code",
   "execution_count": 10,
   "id": "83db4f3c",
   "metadata": {},
   "outputs": [
    {
     "name": "stdout",
     "output_type": "stream",
     "text": [
      "1   7   13  19  25  31 \n",
      "2   8   14  20  26  32 \n",
      "3   9   15  21  27  33 \n",
      "4   10  16  22  28  34 \n",
      "5   11  17  23  29  35 \n",
      "6   12  18  24  30  36 \n"
     ]
    }
   ],
   "source": [
    "def sol(nm):\n",
    "    n,m = map(int, nm.split())\n",
    "    return [[str(1+i+j*n).ljust(3) for j in range(m)] for i in range(n)] \n",
    "\n",
    "[print(*_) for _ in sol('6 6')];"
   ]
  },
  {
   "cell_type": "code",
   "execution_count": 13,
   "id": "c64b4314",
   "metadata": {},
   "outputs": [
    {
     "name": "stdout",
     "output_type": "stream",
     "text": [
      "1 0 0 0 1\n",
      "0 1 0 1 0\n",
      "0 0 1 0 0\n",
      "0 1 0 1 0\n",
      "1 0 0 0 1\n"
     ]
    }
   ],
   "source": [
    "def sol(n):\n",
    "    return [[int(i==j or j==n+~i) for j in range(n)] for i in range(n)]\n",
    "    \n",
    "[print(*_) for _ in sol(5)];"
   ]
  },
  {
   "cell_type": "code",
   "execution_count": 26,
   "id": "84139593",
   "metadata": {},
   "outputs": [
    {
     "name": "stdout",
     "output_type": "stream",
     "text": [
      "1 1 1 1 1\n",
      "0 1 1 1 0\n",
      "0 0 1 0 0\n",
      "0 0 1 1 0\n",
      "0 1 1 1 1\n"
     ]
    }
   ],
   "source": [
    "def sol(n):\n",
    "    return [[int(i<=j<=n+~i or i>=j>=n+~i) for j in range(n)] for i in range(n)]\n",
    "    \n",
    "[print(*_) for _ in sol(5)];"
   ]
  },
  {
   "cell_type": "code",
   "execution_count": 33,
   "id": "7f3bb9d5",
   "metadata": {},
   "outputs": [
    {
     "name": "stdout",
     "output_type": "stream",
     "text": [
      "1   2   3   4   5  \n",
      "2   3   4   5   1  \n",
      "3   4   5   1   2  \n",
      "4   5   1   2   3  \n",
      "5   1   2   3   4  \n"
     ]
    }
   ],
   "source": [
    "def sol(nm):\n",
    "    n,m = map(int, nm.split())\n",
    "    return [[str(1+(i+j+m)%m).ljust(3) for j in range(m)] for i in range(n)] \n",
    "\n",
    "[print(*_) for _ in sol('5 5')];"
   ]
  },
  {
   "cell_type": "code",
   "execution_count": 56,
   "id": "104a8f2d",
   "metadata": {},
   "outputs": [
    {
     "name": "stdout",
     "output_type": "stream",
     "text": [
      "1   2   3   4   5  \n",
      "10  9   8   7   6  \n",
      "11  12  13  14  15 \n"
     ]
    }
   ],
   "source": [
    "def sol(nm):\n",
    "    n,m = map(int, nm.split())\n",
    "    return [[str(1+(i*m+j)).ljust(3) for j in range(m)][::(1,-1)[i%2]] for i in range(n)] \n",
    "\n",
    "[print(*_) for _ in sol('3 5')];"
   ]
  },
  {
   "cell_type": "code",
   "execution_count": 210,
   "id": "05070db4",
   "metadata": {},
   "outputs": [
    {
     "name": "stdout",
     "output_type": "stream",
     "text": [
      "1   2   4  \n",
      "3   5   7  \n",
      "6   8   10 \n",
      "9   11  13 \n",
      "12  14  16 \n",
      "15  17  19 \n",
      "18  20  22 \n",
      "21  23  24 \n"
     ]
    }
   ],
   "source": [
    "def sol(nm):\n",
    "    n,m = map(int, nm.split())\n",
    "    mat=[[0]*m for _ in range(n)]\n",
    "    c=0\n",
    "    for d in range(n+m):\n",
    "        for i in range(n):\n",
    "            for j in range(m):\n",
    "                if j==d+~i:\n",
    "                    c+=1\n",
    "                    mat[i][j] = str(c).ljust(3)\n",
    "                \n",
    "    return mat\n",
    "\n",
    "[print(*_) for _ in sol('8 3')];"
   ]
  },
  {
   "cell_type": "markdown",
   "id": "a13d4e28",
   "metadata": {},
   "source": [
    "### Заполнение спиралью\n",
    "Напишите программу, которая создает матрицу размером n×m заполнив её \"спиралью\" в соответствии с образцом."
   ]
  },
  {
   "cell_type": "code",
   "execution_count": 31,
   "id": "7ea0e778",
   "metadata": {},
   "outputs": [
    {
     "name": "stdout",
     "output_type": "stream",
     "text": [
      "1   2   3   4   5   6  \n",
      "20  21  22  23  24  7  \n",
      "19  32  33  34  25  8  \n",
      "18  31  36  35  26  9  \n",
      "17  30  29  28  27  10 \n",
      "16  15  14  13  12  11 \n"
     ]
    }
   ],
   "source": [
    "import math\n",
    "def sol(nm):\n",
    "    n,m = map(int, nm.split())\n",
    "    mat = [[0]*m for _ in range(n)]\n",
    "    c = f = i = j = 0\n",
    "    di, dj = 0, 1\n",
    "    while c < n*m:\n",
    "        if 0<=i<n and 0<=j<m and not mat[i][j]:\n",
    "            c+=1\n",
    "            mat[i][j] = str(c).ljust(3)\n",
    "        else:            \n",
    "            i += -di\n",
    "            j += -dj\n",
    "            f += math.pi/2\n",
    "            di, dj = int(math.sin(f)), int(math.cos(f))\n",
    "            \n",
    "        i += di\n",
    "        j += dj\n",
    "            \n",
    "    return mat\n",
    "\n",
    "[print(*_) for _ in sol('6 6')];"
   ]
  },
  {
   "cell_type": "markdown",
   "id": "fac477dd",
   "metadata": {},
   "source": [
    "### Сложение матриц"
   ]
  },
  {
   "cell_type": "code",
   "execution_count": 10,
   "id": "fc57a894",
   "metadata": {
    "ExecuteTime": {
     "end_time": "2022-07-11T09:53:00.067333Z",
     "start_time": "2022-07-11T09:53:00.060742Z"
    }
   },
   "outputs": [
    {
     "name": "stdout",
     "output_type": "stream",
     "text": [
      "4 4 4 6\n",
      "6 9 8 4\n"
     ]
    }
   ],
   "source": [
    "def sol(nm):\n",
    "    n,m = map(int, nm.split())\n",
    "    a = list(map(lambda x: list(map(int, x.split())),['1 2 3 4', '5 6 7 1']))\n",
    "    b = list(map(lambda x: list(map(int, x.split())),['3 2 1 2', '1 3 1 3']))\n",
    "#     mat = [list(map(int, input().split())) for _ in range(n)]\n",
    "\n",
    "    return [[a[i][j] + b[i][j] for j in range(m)] for i in range(n)]\n",
    "    \n",
    "[print(*_) for _ in sol('2 4')];"
   ]
  },
  {
   "cell_type": "markdown",
   "id": "aafb6d55",
   "metadata": {},
   "source": [
    "### Умножение матриц"
   ]
  },
  {
   "cell_type": "code",
   "execution_count": 33,
   "id": "59ea0625",
   "metadata": {
    "ExecuteTime": {
     "end_time": "2022-07-11T11:03:38.495780Z",
     "start_time": "2022-07-11T11:03:38.488589Z"
    }
   },
   "outputs": [
    {
     "name": "stdout",
     "output_type": "stream",
     "text": [
      "[2, 5] [2, 5, 2, 5, 2, 5] [2, 5]\n",
      "[6, 7] [6, 7, 6, 7, 6, 7] [6, 7]\n",
      "[1, 8] [1, 8, 1, 8, 1, 8] [1, 8]\n"
     ]
    }
   ],
   "source": [
    "def sol():\n",
    "    nm = '3 2'\n",
    "    mk = '2 3'\n",
    "    n,m = map(int, nm.split())\n",
    "    a = list(map(lambda x: list(map(int, x.split())),['2 5', '6 7', '1 8']))\n",
    "    m,k = map(int, mk.split())\n",
    "    b = list(map(lambda x: list(map(int, x.split())),['1 2 1', '0 1 0']))\n",
    "#     mat = [list(map(int, input().split())) for _ in range(n)]\n",
    "    return [[sum([a[i][j] * b[j][l] for j in range(m)]) for l in range(k)] for i in range(n)]\n",
    "    \n",
    "[print(*_) for _ in sol()];"
   ]
  },
  {
   "cell_type": "markdown",
   "id": "88af6b55",
   "metadata": {},
   "source": [
    "### Возведение матрицы в степень"
   ]
  },
  {
   "cell_type": "code",
   "execution_count": 35,
   "id": "820faf46",
   "metadata": {
    "ExecuteTime": {
     "end_time": "2022-07-11T11:06:05.935910Z",
     "start_time": "2022-07-11T11:06:05.929198Z"
    }
   },
   "outputs": [
    {
     "name": "stdout",
     "output_type": "stream",
     "text": [
      "30 36 42\n",
      "66 81 96\n",
      "102 126 150\n"
     ]
    }
   ],
   "source": [
    "def power(a, m):\n",
    "    n = len(a)\n",
    "    r = a.copy()\n",
    "    for _ in range(m-1):\n",
    "        r = [[sum([a[i][j] * r[j][l] for j in range(n)]) for l in range(n)] for i in range(n)]\n",
    "    return r\n",
    "\n",
    "def sol():\n",
    "    n = 3    \n",
    "    a = list(map(lambda x: list(map(int, x.split())),['1 2 3', '4 5 6', '7 8 9']))\n",
    "#     a = [list(map(int, input().split())) for _ in range(n)]\n",
    "    m = 2\n",
    "    return power(a, m)\n",
    "    \n",
    "[print(*_) for _ in sol()];"
   ]
  },
  {
   "cell_type": "markdown",
   "id": "3c31a514",
   "metadata": {},
   "source": [
    "## Итоговая работа на вложенные списки и матрицы"
   ]
  },
  {
   "cell_type": "markdown",
   "id": "2c420da2",
   "metadata": {},
   "source": [
    "### Каждый n-ый элемент\n",
    "Напишите программу, которая разделяет список на вложенные подсписки так, что nnn последовательных элементов принадлежат разным подспискам."
   ]
  },
  {
   "cell_type": "code",
   "execution_count": 46,
   "id": "b96d6d81",
   "metadata": {
    "ExecuteTime": {
     "end_time": "2022-07-11T11:33:04.746199Z",
     "start_time": "2022-07-11T11:33:04.738380Z"
    }
   },
   "outputs": [
    {
     "data": {
      "text/plain": [
       "[['a', 'd', 'g', 'j', 'm'], ['b', 'e', 'h', 'k', 'n'], ['c', 'f', 'i', 'l']]"
      ]
     },
     "execution_count": 46,
     "metadata": {},
     "output_type": "execute_result"
    }
   ],
   "source": [
    "def sol(ls, n):\n",
    "    ls = ls.split()\n",
    "    return [ls[i::n] for i in range(n)]\n",
    "    \n",
    "sol('a b c d e f g h i j k l m n', 3)"
   ]
  },
  {
   "cell_type": "markdown",
   "id": "ce023551",
   "metadata": {},
   "source": [
    "### Максимальный в области 2\n"
   ]
  },
  {
   "cell_type": "code",
   "execution_count": 56,
   "id": "def770f1",
   "metadata": {
    "ExecuteTime": {
     "end_time": "2022-07-11T11:41:35.568645Z",
     "start_time": "2022-07-11T11:41:35.563025Z"
    }
   },
   "outputs": [
    {
     "data": {
      "text/plain": [
       "8"
      ]
     },
     "execution_count": 56,
     "metadata": {},
     "output_type": "execute_result"
    }
   ],
   "source": [
    "def sol(n):\n",
    "    mat = list(map(lambda x: list(map(int, x.split())), ['1 4 5', '6 7 8', '1 1 6']))\n",
    "    #     mat = [list(map(int, input().split())) for _ in range(n)]\n",
    "    return max([max(mat[i][~i:]) for i in range(n)])\n",
    "        \n",
    "    \n",
    "sol(3)\n",
    "            "
   ]
  },
  {
   "cell_type": "markdown",
   "id": "73dcb4b0",
   "metadata": {},
   "source": [
    "### Транспонирование матрицы"
   ]
  },
  {
   "cell_type": "code",
   "execution_count": 60,
   "id": "d9227212",
   "metadata": {
    "ExecuteTime": {
     "end_time": "2022-07-11T11:47:09.797186Z",
     "start_time": "2022-07-11T11:47:09.789059Z"
    }
   },
   "outputs": [
    {
     "name": "stdout",
     "output_type": "stream",
     "text": [
      "1 4 7\n",
      "2 5 8\n",
      "3 6 9\n"
     ]
    }
   ],
   "source": [
    "def sol(n):\n",
    "    mat = list(map(lambda x: list(map(int, x.split())), ['1 2 3', '4 5 6', '7 8 9']))\n",
    "    #     mat = [list(map(int, input().split())) for _ in range(n)]\n",
    "    return [[mat[j][i] for j in range(n)] for i in range(n)]\n",
    "        \n",
    "[print(*_) for _ in sol(3)];"
   ]
  },
  {
   "cell_type": "markdown",
   "id": "39df9918",
   "metadata": {},
   "source": [
    "### Снежинка\n",
    "Напишите программу, которая создает матрицу размером n×n заполнив её символами. Затем заполните символами * среднюю строку и столбец матрицы, главную и побочную диагональ матрицы. Выведите полученную матрицу на экран, разделяя элементы пробелами."
   ]
  },
  {
   "cell_type": "code",
   "execution_count": 74,
   "id": "1fff1a82",
   "metadata": {
    "ExecuteTime": {
     "end_time": "2022-07-11T12:12:44.160691Z",
     "start_time": "2022-07-11T12:12:44.155329Z"
    }
   },
   "outputs": [
    {
     "name": "stdout",
     "output_type": "stream",
     "text": [
      "* . * . *\n",
      ". * * * .\n",
      "* * * * *\n",
      ". * * * .\n",
      "* . * . *\n"
     ]
    }
   ],
   "source": [
    "def sol(n):\n",
    "    mat = [['.']*n for i in range(n)]\n",
    "    for i in range(n):\n",
    "        mat[i][i] = '*'\n",
    "        mat[i][~i] = '*'\n",
    "        mat[i][(n-1)//2] = '*'\n",
    "        mat[(n-1)//2][i] = '*'\n",
    "\n",
    "    return mat\n",
    "        \n",
    "[print(*_) for _ in sol(5)];"
   ]
  },
  {
   "cell_type": "markdown",
   "id": "c2ae5675",
   "metadata": {},
   "source": [
    "### Симметричная матрица\n",
    "Напишите программу проверки симметричности квадратной матрицы относительно побочной диагонали."
   ]
  },
  {
   "cell_type": "code",
   "execution_count": 103,
   "id": "0330551b",
   "metadata": {
    "ExecuteTime": {
     "end_time": "2022-07-11T12:35:39.692080Z",
     "start_time": "2022-07-11T12:35:39.686461Z"
    }
   },
   "outputs": [
    {
     "data": {
      "text/plain": [
       "'YES'"
      ]
     },
     "execution_count": 103,
     "metadata": {},
     "output_type": "execute_result"
    }
   ],
   "source": [
    "def sol(n):\n",
    "    mat = list(map(lambda x: list(map(int, x.split())), ['0 3 10', '4 9 3', '7 4 0']))\n",
    "    #     mat = [list(map(int, input().split())) for _ in range(n)]\n",
    "    return 'YES' if all([mat[i][j] == mat[~j][~i] for j in range(n) for i in range(j,n)]) else 'NO'\n",
    "sol(3)"
   ]
  },
  {
   "cell_type": "markdown",
   "id": "89647063",
   "metadata": {},
   "source": [
    "### Латинский квадрат\n",
    "Латинским квадратом порядка nnn называется квадратная матрица размером n×n, каждая строка и каждый столбец которой содержат все числа от 1 до n. Напишите программу, которая проверяет, является ли заданная квадратная матрица латинским квадратом."
   ]
  },
  {
   "cell_type": "code",
   "execution_count": 105,
   "id": "11ce2923",
   "metadata": {
    "ExecuteTime": {
     "end_time": "2022-07-11T12:46:33.633735Z",
     "start_time": "2022-07-11T12:46:33.624409Z"
    }
   },
   "outputs": [
    {
     "data": {
      "text/plain": [
       "'YES'"
      ]
     },
     "execution_count": 105,
     "metadata": {},
     "output_type": "execute_result"
    }
   ],
   "source": [
    "def sol(n):\n",
    "    mat = list(map(lambda x: list(map(int, x.split())), ['2 3 4 1', '3 4 1 2', '4 1 2 3', '1 2 3 4']))\n",
    "    n=len(mat)\n",
    "    nat = list(range(1,n+1))\n",
    "    #     mat = [list(map(int, input().split())) for _ in range(n)]\n",
    "    for i in range(n):        \n",
    "        if not (sorted(mat[i]) == nat  and sorted([mat[j][i] for j in range(n)]) == nat):\n",
    "            return 'NO'\n",
    "    return 'YES'\n",
    "    \n",
    "sol(3)"
   ]
  },
  {
   "cell_type": "markdown",
   "id": "5710faa4",
   "metadata": {},
   "source": [
    "### Ходы ферзя\n",
    "На шахматной доске 8×8 стоит ферзь. Отметьте положение ферзя на доске и все клетки, которые бьет ферзь. Клетку, где стоит ферзь, отметьте буквой Q, клетки, которые бьет ферзь, отметьте символами *, остальные клетки заполните точками."
   ]
  },
  {
   "cell_type": "code",
   "execution_count": 460,
   "id": "dd6b3670",
   "metadata": {
    "ExecuteTime": {
     "end_time": "2022-07-11T14:48:07.670370Z",
     "start_time": "2022-07-11T14:48:07.660229Z"
    }
   },
   "outputs": [
    {
     "name": "stdout",
     "output_type": "stream",
     "text": [
      ". . * . . . . *\n",
      ". . * . . . * .\n",
      ". . * . . * . .\n",
      "* . * . * . . .\n",
      ". * * * . . . .\n",
      "* * Q * * * * *\n",
      ". * * * . . . .\n",
      "* . * . * . . .\n"
     ]
    }
   ],
   "source": [
    "import math\n",
    "def sol(ch):  \n",
    "    n=8\n",
    "    j,i='abcdefgh'.index(ch[0]), n-int(ch[1])\n",
    "    chess = [['.*'[x==i or y==j or abs(x-i) == abs(y-j)] for y in range(n)] for x in range(n)]                \n",
    "    chess[i][j] = 'Q'\n",
    "            \n",
    "    return chess\n",
    "\n",
    "[print(*_) for _ in sol('c3')];"
   ]
  },
  {
   "cell_type": "markdown",
   "id": "d863eddd",
   "metadata": {},
   "source": [
    "### Диагонали параллельные главной\n",
    "Напишите программу, которая создает матрицу размером n×n и заполняет её по следующему правилу:\n",
    "- на главной диагонали на месте каждого элемента должно стоять число 0;\n",
    "- на двух диагоналях, прилегающих к главной, число 1;\n",
    "- на следующих двух диагоналях число 2, и т.д.\n"
   ]
  },
  {
   "cell_type": "code",
   "execution_count": 211,
   "id": "9065de0d",
   "metadata": {
    "ExecuteTime": {
     "end_time": "2022-07-11T13:30:19.598240Z",
     "start_time": "2022-07-11T13:30:19.594297Z"
    }
   },
   "outputs": [
    {
     "name": "stdout",
     "output_type": "stream",
     "text": [
      "0 1 2 3 4\n",
      "1 0 1 2 3\n",
      "2 1 0 1 2\n",
      "3 2 1 0 1\n",
      "4 3 2 1 0\n"
     ]
    }
   ],
   "source": [
    "def sol(n):\n",
    "    return [[abs(i - j) for j in range(n)] for i in range(n)]\n",
    "            \n",
    "[print(*_) for _ in sol(5)];"
   ]
  },
  {
   "cell_type": "markdown",
   "id": "56fdd2dc",
   "metadata": {},
   "source": [
    "## Кортежи"
   ]
  },
  {
   "cell_type": "markdown",
   "id": "5d74ef33",
   "metadata": {},
   "source": [
    "### Вершина параболы\n",
    "Уравнение параболы имеет вид $y = ax^2 + bx + c$, где $a≠0$. Напишите программу, которая по введенным значениям a,b,c определяет и выводит вершину параболы.\n",
    "Координаты вершины параболы имеют вид: $\\left(-\\dfrac{b}{2a}; \\, \\dfrac{4ac-b^2}{4a}\\right)$."
   ]
  },
  {
   "cell_type": "code",
   "execution_count": 4,
   "id": "0b2ead23",
   "metadata": {
    "ExecuteTime": {
     "end_time": "2022-07-12T12:28:11.397887Z",
     "start_time": "2022-07-12T12:28:11.379194Z"
    }
   },
   "outputs": [
    {
     "data": {
      "text/plain": [
       "(-1.0, -7.0)"
      ]
     },
     "execution_count": 4,
     "metadata": {},
     "output_type": "execute_result"
    }
   ],
   "source": [
    "def sol(a,b,c):\n",
    "    return -b/2/a, (4*a*c-b**2)/4/a\n",
    "sol(2,4,-5)"
   ]
  },
  {
   "cell_type": "markdown",
   "id": "b9ff4363",
   "metadata": {},
   "source": [
    "### Конкурсный отбор\n",
    "Напишите программу, которая выводит список хорошистов и отличников в классе."
   ]
  },
  {
   "cell_type": "code",
   "execution_count": 54,
   "id": "06e0c6d6",
   "metadata": {
    "ExecuteTime": {
     "end_time": "2022-07-12T13:47:18.278760Z",
     "start_time": "2022-07-12T13:47:18.249966Z"
    }
   },
   "outputs": [
    {
     "name": "stdout",
     "output_type": "stream",
     "text": [
      "Гуев 3\n",
      "Чаниев 5\n",
      "Барсуков 2\n",
      "\n",
      "Чаниев 5\n"
     ]
    }
   ],
   "source": [
    "def sol(n):\n",
    "    data = ['Гуев 3', 'Чаниев 5', 'Барсуков 2']\n",
    "    print(*data, sep='\\n')\n",
    "    print()\n",
    "    [print(x) for x in data if int(x.split()[1])>3]\n",
    "\n",
    "sol(3)\n"
   ]
  },
  {
   "cell_type": "markdown",
   "id": "b2eb1fd6",
   "metadata": {},
   "source": [
    "### Последовательность Трибоначчи\n",
    "Последовательность Трибоначчи – последовательность натуральных чисел, где каждое последующее число является суммой трех предыдущих"
   ]
  },
  {
   "cell_type": "code",
   "execution_count": 53,
   "id": "be690cf4",
   "metadata": {
    "ExecuteTime": {
     "end_time": "2022-07-12T13:28:46.868370Z",
     "start_time": "2022-07-12T13:28:46.861702Z"
    }
   },
   "outputs": [
    {
     "name": "stdout",
     "output_type": "stream",
     "text": [
      "1 1 1 3 5 9 17 31 57 105\n"
     ]
    }
   ],
   "source": [
    "def tribon(n):\n",
    "    t, res = (1,) * 3, []\n",
    "    for i in range(n):\n",
    "        res.append(t[0])\n",
    "        t = *t[1:], sum(t)        \n",
    "    return res\n",
    "        \n",
    "print(*tribon(10))"
   ]
  },
  {
   "cell_type": "markdown",
   "id": "fc68574d",
   "metadata": {},
   "source": [
    "## Множества"
   ]
  },
  {
   "cell_type": "markdown",
   "id": "5691f3e2",
   "metadata": {},
   "source": [
    "### Тимур и его команда\n",
    "\n",
    "На летних каникулах Тимур и ученики онлайн-школы BEEGEEK решили отдохнуть. В результате n учеников школы поехали отдыхать на море, m учеников съездили в деревню, а k учеников сходили в горы. Оказалось, что и в деревне, и на море были x учеников, а в деревне и в горах — y учеников. Побывать и в горах, и на море не удалось никому. \n",
    "\n",
    "Напишите программу для определения количества учеников в школе, если никто не смог посетить все три места сразу, а z учеников писали ДВИ по математике для поступления в МГУ, и никуда не ездили.\n",
    "\n"
   ]
  },
  {
   "cell_type": "code",
   "execution_count": 1,
   "id": "002f6fd6",
   "metadata": {
    "ExecuteTime": {
     "end_time": "2022-07-14T11:01:28.972343Z",
     "start_time": "2022-07-14T11:01:05.826631Z"
    }
   },
   "outputs": [
    {
     "name": "stdout",
     "output_type": "stream",
     "text": [
      "14\n",
      "16\n",
      "5\n",
      "10\n",
      "3\n",
      "2\n"
     ]
    },
    {
     "data": {
      "text/plain": [
       "24"
      ]
     },
     "execution_count": 1,
     "metadata": {},
     "output_type": "execute_result"
    }
   ],
   "source": [
    "def sol():\n",
    "    n,m,k,x,y,z = [int(input()) for _ in 'nmkxyz']\n",
    "    return n+m+k+z-x-y\n",
    "\n",
    "sol()"
   ]
  },
  {
   "cell_type": "markdown",
   "id": "b87086c5",
   "metadata": {},
   "source": [
    "### Книги на прочтение 🌶️\n",
    "\n",
    "Ученики 10 класса онлайн-школы BEEGEEK получили задание прочесть на летних каникулах три книги:\n",
    "\n",
    "- \"Что такое математика?\";\n",
    "- \"Математическая составляющая\";\n",
    "- \"100 гениальных идей по математике\".\n",
    "\n",
    "Оказалось, что n учеников прочитали первую книгу, m учеников — вторую, k учеников — третью. Также известно, что x учеников прочли первую или вторую, или обе эти книги, y учеников — вторую или третью, или обе, z учеников — первую и третью, или хотя бы одну из этих двух книг. Полностью выполнили задание только t учеников. Всего в 10 классе учится a учеников. Напишите программу, которая выводит сколько учеников:\n",
    "\n",
    "- прочитали только одну книгу;\n",
    "- прочитали две книги;\n",
    "- не прочитали ни одной из рекомендованных книг.\n"
   ]
  },
  {
   "cell_type": "code",
   "execution_count": 18,
   "id": "688f84d1",
   "metadata": {
    "ExecuteTime": {
     "end_time": "2022-07-14T12:01:18.451175Z",
     "start_time": "2022-07-14T12:01:18.446058Z"
    }
   },
   "outputs": [
    {
     "name": "stdout",
     "output_type": "stream",
     "text": [
      "29\n",
      "12\n",
      "7\n"
     ]
    }
   ],
   "source": [
    "def sol():\n",
    "#     n,m,k,x,y,z,t,a = [int(input()) for _ in 'nmkxyzta']\n",
    "    n,m,k,x,y,z,t,a = 19,18,22,32,33,35,2,50\n",
    "    l1, l2, l3 = n+m-t-x, m+k-t-y, n+k-t-z\n",
    "    s1 = n + m + k -2*l1 - 2*l2 - 2*l3 - 3*t\n",
    "    s2 = l1 + l2 + l3\n",
    "    s3 = a - (n + m + k - l1 - l2 - l3 - 2*t)\n",
    "    return s1, s2, s3\n",
    "\n",
    "print(*sol(), sep='\\n')\n"
   ]
  },
  {
   "cell_type": "markdown",
   "id": "537d185a",
   "metadata": {},
   "source": [
    "### Уникальные символы\n",
    "Напишите программу для вывода общего количества уникальных символов во всех считанных словах без учета регистра."
   ]
  },
  {
   "cell_type": "code",
   "execution_count": 27,
   "id": "2d6bcc02",
   "metadata": {
    "ExecuteTime": {
     "end_time": "2022-07-15T11:53:46.318226Z",
     "start_time": "2022-07-15T11:53:41.081080Z"
    }
   },
   "outputs": [
    {
     "name": "stdout",
     "output_type": "stream",
     "text": [
      "4\n",
      "wdcwc\n",
      "wcwec\n",
      "gbb\n",
      "wafwe\n"
     ]
    },
    {
     "data": {
      "text/plain": [
       "8"
      ]
     },
     "execution_count": 27,
     "metadata": {},
     "output_type": "execute_result"
    }
   ],
   "source": [
    "def sol():\n",
    "    s=set()\n",
    "    [s.update(set(input().lower())) for _ in range(int(input()))]\n",
    "        \n",
    "    return len(s)\n",
    "sol()"
   ]
  },
  {
   "cell_type": "markdown",
   "id": "50aefa11",
   "metadata": {},
   "source": [
    "### Количество слов в тексте\n",
    "Напишите программу для определения общего количества различных слов в строке текста.\n"
   ]
  },
  {
   "cell_type": "code",
   "execution_count": 56,
   "id": "2c7ed660",
   "metadata": {
    "ExecuteTime": {
     "end_time": "2022-07-15T12:20:26.337757Z",
     "start_time": "2022-07-15T12:20:26.333279Z"
    }
   },
   "outputs": [
    {
     "data": {
      "text/plain": [
       "15"
      ]
     },
     "execution_count": 56,
     "metadata": {},
     "output_type": "execute_result"
    }
   ],
   "source": [
    "import re\n",
    "def sol(s):\n",
    "    return len(set(re.split(r'\\W+', s.lower()))) - 1\n",
    "sol('Snowflakes, snowflakes falling down. Snowflakes, covering up the ground. Making a blanket, soft and white. Making a blanket in the night.')"
   ]
  },
  {
   "cell_type": "markdown",
   "id": "c5cdc896",
   "metadata": {},
   "source": [
    "### Встречалось ли число раньше?\n",
    "\n",
    "На вход программе подается строка текста, содержащая числа. Для каждого числа выведите слово YES (в отдельной строке), если это число ранее встречалось в последовательности или NO, если не встречалось."
   ]
  },
  {
   "cell_type": "code",
   "execution_count": 80,
   "id": "e659b023",
   "metadata": {
    "ExecuteTime": {
     "end_time": "2022-07-15T12:42:08.932365Z",
     "start_time": "2022-07-15T12:42:08.927309Z"
    }
   },
   "outputs": [
    {
     "name": "stdout",
     "output_type": "stream",
     "text": [
      "NO\n",
      "YES\n",
      "NO\n",
      "YES\n",
      "NO\n",
      "YES\n",
      "YES\n",
      "YES\n",
      "NO\n",
      "NO\n",
      "NO\n"
     ]
    }
   ],
   "source": [
    "def sol(ls):    \n",
    "    s = set()\n",
    "    return [(print('YES' if int(x) in s else 'NO'), s.add(int(x))) for x in ls.split()]\n",
    "#     return s\n",
    "    \n",
    "sol('1 1 2 2 5 5 5 5 6 7 8');"
   ]
  },
  {
   "cell_type": "markdown",
   "id": "75a233ca",
   "metadata": {},
   "source": [
    "### Общие числа\n",
    "\n",
    "На вход программе подаются две строки текста, содержащие числа. Напишите программу, которая выводит все числа в порядке возрастания, которые есть как в первой строке, так и во второй."
   ]
  },
  {
   "cell_type": "code",
   "execution_count": 82,
   "id": "a7ef0119",
   "metadata": {
    "ExecuteTime": {
     "end_time": "2022-07-15T13:01:32.131053Z",
     "start_time": "2022-07-15T13:01:22.096352Z"
    }
   },
   "outputs": [
    {
     "name": "stdout",
     "output_type": "stream",
     "text": [
      "10 9 8 7 6 5 4 3 2 1\n",
      "1 2 3 4 5 6 7 8 9 10\n",
      "1 2 3 4 5 6 7 8 9 10\n"
     ]
    }
   ],
   "source": [
    "print(*sorted(set(map(int, input().split())) & set(map(int, input().split()))))"
   ]
  },
  {
   "cell_type": "markdown",
   "id": "6783cc09",
   "metadata": {},
   "source": [
    "### Числа первой строки\n",
    "\n",
    "На вход программе подаются две строки текста, содержащие числа. Напишите программу, которая выводит все числа в порядке возрастания, которые есть в первой строке, но отсутствуют во второй."
   ]
  },
  {
   "cell_type": "code",
   "execution_count": 84,
   "id": "2bcd019a",
   "metadata": {
    "ExecuteTime": {
     "end_time": "2022-07-15T13:06:25.501312Z",
     "start_time": "2022-07-15T13:06:13.099323Z"
    }
   },
   "outputs": [
    {
     "name": "stdout",
     "output_type": "stream",
     "text": [
      "1 2 3 4\n",
      "5 6 7 8\n",
      "1 2 3 4\n"
     ]
    }
   ],
   "source": [
    "print(*sorted(set(input().split()) - set(input().split()), key=int))"
   ]
  },
  {
   "cell_type": "markdown",
   "id": "1d406220",
   "metadata": {},
   "source": [
    "### Общие цифры\n",
    "\n",
    "На вход программе подается натуральное число n, а затем n различных натуральных чисел, каждое на отдельной строке. Напишите программу, которая выводит все общие цифры в порядке возрастания у всех введенных чисел."
   ]
  },
  {
   "cell_type": "code",
   "execution_count": 103,
   "id": "c61de432",
   "metadata": {
    "ExecuteTime": {
     "end_time": "2022-07-15T13:39:52.106189Z",
     "start_time": "2022-07-15T13:39:46.950498Z"
    }
   },
   "outputs": [
    {
     "name": "stdout",
     "output_type": "stream",
     "text": [
      "3\n",
      "123\n",
      "456\n",
      "789\n",
      "\n"
     ]
    }
   ],
   "source": [
    "print ( *sorted( set.intersection(*[set(input()) for _ in range(int(input()))]) ))\n",
    "    "
   ]
  },
  {
   "cell_type": "markdown",
   "id": "e02a8e0b",
   "metadata": {},
   "source": [
    "### Используя генератор множеств\n",
    "дополните приведенный код, так чтобы получить множество, содержащее уникальные слова  строки sentence длиною меньше 4 символов. Результат вывести на одной строке (в нижнем регистре) в алфавитном порядке, разделяя элементы одним символом пробела.\n",
    "\n",
    "**Примечание**. Учтите, что знаки пунктуации не относятся к словам."
   ]
  },
  {
   "cell_type": "code",
   "execution_count": 6,
   "id": "183d4463",
   "metadata": {
    "ExecuteTime": {
     "end_time": "2022-07-18T10:41:42.196893Z",
     "start_time": "2022-07-18T10:41:42.191770Z"
    }
   },
   "outputs": [
    {
     "name": "stdout",
     "output_type": "stream",
     "text": [
      "a all am and at by can day for had her i if in my of or set sun the was you\n"
     ]
    }
   ],
   "source": [
    "import re\n",
    "sentence = '''My very photogenic mother died in a freak accident (picnic, lightning) when I was three, and, save for a pocket of warmth in the darkest past, nothing of her subsists within the hollows and dells of memory, over which, if you can still stand my style (I am writing under observation), the sun of my infancy had set: surely, you all know those redolent remnants of day suspended, with the midges, about some hedge in bloom or suddenly entered and traversed by the rambler, at the bottom of a hill, in the summer dusk; a furry warmth, golden midges.'''\n",
    "\n",
    "print(*sorted({s.lower() for s in re.findall(r'\\b\\w{1,3}\\b', sentence)}))"
   ]
  },
  {
   "cell_type": "code",
   "execution_count": 8,
   "id": "dd572461",
   "metadata": {
    "ExecuteTime": {
     "end_time": "2022-07-18T10:46:54.420097Z",
     "start_time": "2022-07-18T10:46:54.415935Z"
    }
   },
   "outputs": [
    {
     "name": "stdout",
     "output_type": "stream",
     "text": [
      "board.png png.png python.png stepik.png\n"
     ]
    }
   ],
   "source": [
    "files = ['python.png', 'qwerty.py', 'stepik.png', 'beegeek.org', 'windows.pnp', 'pen.txt', 'phone.py', 'book.txT', 'board.pNg', 'keyBoard.jpg', 'Python.PNg', 'apple.jpeg', 'png.png', 'input.tXt', 'split.pop', 'solution.Py', 'stepik.org', 'kotlin.ko', 'github.git']\n",
    "print(*sorted({f.lower() for f in files if f.lower().endswith('.png')}))"
   ]
  },
  {
   "cell_type": "markdown",
   "id": "e9376e9b",
   "metadata": {},
   "source": [
    "## Итоговая \"Множества\""
   ]
  },
  {
   "cell_type": "markdown",
   "id": "83057253",
   "metadata": {},
   "source": [
    "### Домашнее задание\n",
    "\n",
    "Учитель проверяет домашнее задание в классе и получил следующие ответы: из n школьников у m домашнее задание съела собака, у k отключили свет, а p учеников постигли оба несчастья. Напишите программу, которая определяет сколько человек выполнило домашнее задание."
   ]
  },
  {
   "cell_type": "code",
   "execution_count": 9,
   "id": "37476513",
   "metadata": {
    "ExecuteTime": {
     "end_time": "2022-07-18T11:13:43.581016Z",
     "start_time": "2022-07-18T11:13:32.112414Z"
    }
   },
   "outputs": [
    {
     "name": "stdout",
     "output_type": "stream",
     "text": [
      "35\n",
      "20\n",
      "10\n",
      "3\n",
      "8\n"
     ]
    }
   ],
   "source": [
    "n,m,k,p = [int(input()) for _ in 'nmkp']\n",
    "print(n-m-k+p)"
   ]
  },
  {
   "cell_type": "markdown",
   "id": "2ad98797",
   "metadata": {},
   "source": [
    "### Восход\n",
    "\n",
    "На спутнике «Восход» установлен прибор для измерения солнечной активности. Каждую минуту он передаёт в обсерваторию по каналу связи положительное целое число — количество энергии солнечного излучения. Для правильного анализа результатов нет необходимости держать повторяющиеся данные. Напишите программу, которая выводит максимальное количество показаний спутника, при удалении которых результат будет правильно проанализирован."
   ]
  },
  {
   "cell_type": "code",
   "execution_count": 10,
   "id": "bbeaa2b7",
   "metadata": {
    "ExecuteTime": {
     "end_time": "2022-07-18T11:16:34.331639Z",
     "start_time": "2022-07-18T11:16:26.495018Z"
    }
   },
   "outputs": [
    {
     "name": "stdout",
     "output_type": "stream",
     "text": [
      "10 20 30 10 40\n"
     ]
    },
    {
     "data": {
      "text/plain": [
       "1"
      ]
     },
     "execution_count": 10,
     "metadata": {},
     "output_type": "execute_result"
    }
   ],
   "source": [
    "d=input().split()\n",
    "len(d) - len(set(d))"
   ]
  },
  {
   "cell_type": "markdown",
   "id": "9f0bbbd4",
   "metadata": {},
   "source": [
    "### Города\n",
    "\n",
    "Тимур и Руслан играют в игру города. Они очень любят эту игру и знают много городов, особенно Тимур, однако к концу игры ввиду своего возраста забывают, какие города уже называли.\n",
    "\n",
    "Напишите программу, считывающую информацию об игре и сообщающую ребятам, что очередной город назван повторно."
   ]
  },
  {
   "cell_type": "code",
   "execution_count": 11,
   "id": "42657dbd",
   "metadata": {
    "ExecuteTime": {
     "end_time": "2022-07-18T11:24:52.933073Z",
     "start_time": "2022-07-18T11:24:30.529184Z"
    }
   },
   "outputs": [
    {
     "name": "stdout",
     "output_type": "stream",
     "text": [
      "Каир\n",
      "Рим\n",
      "Москва\n",
      "Агра\n",
      "OK\n"
     ]
    }
   ],
   "source": [
    "def sol(n):\n",
    "    towns = [input() for _ in range(n)]\n",
    "    print('REPEAT' if input() in set(towns) else 'OK')\n",
    "sol(3)"
   ]
  },
  {
   "cell_type": "markdown",
   "id": "a898f235",
   "metadata": {},
   "source": [
    "### Книги на прочтение\n",
    "\n",
    "Руслан получил в конце учебного года список литературы на лето. Теперь ему надо выяснить, какие книги из этого списка у него есть. У Руслана на компьютере в текстовом файле записаны все книги из его домашней библиотеки в случайном порядке.\n",
    "\n",
    "Напишите программу, определяющую для каждой книги из списка на прочтение, есть она у Руслана или нет."
   ]
  },
  {
   "cell_type": "code",
   "execution_count": 12,
   "id": "cd271034",
   "metadata": {
    "ExecuteTime": {
     "end_time": "2022-07-18T11:34:08.457452Z",
     "start_time": "2022-07-18T11:33:19.398825Z"
    }
   },
   "outputs": [
    {
     "name": "stdout",
     "output_type": "stream",
     "text": [
      "4\n",
      "4\n",
      "Хоббит\n",
      "Алиса в стране чудес\n",
      "Том Сойер\n",
      "Остров сокровищ\n",
      "Буратино\n",
      "Хоббит\n",
      "Остров сокровищ\n",
      "Война и мир\n",
      "NO\n",
      "YES\n",
      "YES\n",
      "NO\n"
     ]
    },
    {
     "data": {
      "text/plain": [
       "[None, None, None, None]"
      ]
     },
     "execution_count": 12,
     "metadata": {},
     "output_type": "execute_result"
    }
   ],
   "source": [
    "m,n = int(input()), int(input())\n",
    "hl = [input() for _ in range(m)]\n",
    "sl = [input() for _ in range(n)]\n",
    "[print('YES' if x in hl else 'NO') for x in sl];"
   ]
  },
  {
   "cell_type": "markdown",
   "id": "0244cf24",
   "metadata": {},
   "source": [
    "### Странное увлечение\n",
    "\n",
    "Как известно, математики странные люди. Не составляет исключения и Тимур — автор данного курса. Каждый день Тимур решает ровно две сложные математические задачи. Решая первую задачу, он записывает на первом листочке все числа, которые в ней встречаются. Далее он делает паузу и берется за вторую задачу. Затем записывает на втором листочке все числа, которые в ней встречаются. После этого он берет еще один листок и выписывает на него все совпадающие числа из первых двух листочков. Если такие числа есть, день удался, если общих чисел нет, Тимур считает день неудачным.\n",
    "\n",
    "Напишите программу, которая находит общие числа двух листочков или сообщает, что день не удался 😏"
   ]
  },
  {
   "cell_type": "code",
   "execution_count": 17,
   "id": "9240a3f8",
   "metadata": {
    "ExecuteTime": {
     "end_time": "2022-07-18T11:44:31.070277Z",
     "start_time": "2022-07-18T11:44:04.145959Z"
    }
   },
   "outputs": [
    {
     "name": "stdout",
     "output_type": "stream",
     "text": [
      "6 56 7 34 14\n",
      "675 45 246 2 1\n",
      "BAD DAY\n"
     ]
    }
   ],
   "source": [
    "a,b = [set(input().split()) for _ in 'ab']\n",
    "c=a & b\n",
    "print(*sorted(c, reverse=True, key=int) if c else ['BAD DAY'])"
   ]
  },
  {
   "cell_type": "markdown",
   "id": "875649b4",
   "metadata": {},
   "source": [
    "### Онлайн-школа BEEGEEK 1\n",
    "\n",
    "При приёме новых сотрудников в онлайн-школу BEEGEEK её руководитель тестирует не только профессиональные качества кандидата, но и его память.\n",
    "\n",
    "Кандидату показывают ненадолго несколько различных чисел, а затем кандидат должен их назвать. Причем неважно, в каком порядке он их вспоминает, и повторяется он или нет, главное он должен назвать все числа, не добавляя лишних.\n",
    "\n",
    "Напишите программу, определяющую, успешно ли прошел кандидат тестирование памяти."
   ]
  },
  {
   "cell_type": "code",
   "execution_count": 18,
   "id": "65308742",
   "metadata": {
    "ExecuteTime": {
     "end_time": "2022-07-18T11:46:19.713427Z",
     "start_time": "2022-07-18T11:46:08.306403Z"
    }
   },
   "outputs": [
    {
     "name": "stdout",
     "output_type": "stream",
     "text": [
      "1 2 3 4 8 5\n",
      "1 2 8 2 3 4 5 2\n",
      "YES\n"
     ]
    }
   ],
   "source": [
    "print('YES' if set(input().split()) == set(input().split()) else 'NO')"
   ]
  },
  {
   "cell_type": "markdown",
   "id": "a39147cd",
   "metadata": {},
   "source": [
    "### Онлайн-школа BEEGEEK 2\n",
    "\n",
    "Каждый ученик, обучающийся в онлайн-школе BEEGEEK изучает либо математику, либо информатику, либо оба эти предмета. У руководителя школы есть списки изучающих каждый предмет.\n",
    "\n",
    "Напишите программу, позволяющую руководителю выяснить, сколько учеников изучает только математику."
   ]
  },
  {
   "cell_type": "code",
   "execution_count": 20,
   "id": "eb4f5855",
   "metadata": {
    "ExecuteTime": {
     "end_time": "2022-07-18T11:55:33.118121Z",
     "start_time": "2022-07-18T11:53:13.054714Z"
    }
   },
   "outputs": [
    {
     "name": "stdout",
     "output_type": "stream",
     "text": [
      "2\n",
      "3\n",
      "Хохлов\n",
      "Фадеев\n",
      "Ершов\n",
      "Ушаков\n",
      "Хохлов\n",
      "1\n"
     ]
    }
   ],
   "source": [
    "m,n = [int(input()) for _ in 'mn']\n",
    "mat = set([input() for _ in range(m)])\n",
    "inf = set([input() for _ in range(n)])\n",
    "print(len(mat-inf))"
   ]
  },
  {
   "cell_type": "markdown",
   "id": "cb4bbfb5",
   "metadata": {},
   "source": [
    "### Онлайн-школа BEEGEEK 3\n",
    "\n",
    "Каждый ученик, обучающийся в онлайн-школе BEEGEEK изучает либо математику, либо информатику, либо оба этих предмета. У руководителя школы есть списки изучающих каждый предмет.\n",
    "\n",
    "Напишите программу, позволяющую руководителю выяснить, сколько учеников изучает только один предмет."
   ]
  },
  {
   "cell_type": "code",
   "execution_count": 22,
   "id": "a62fc092",
   "metadata": {
    "ExecuteTime": {
     "end_time": "2022-07-18T11:58:19.939056Z",
     "start_time": "2022-07-18T11:57:27.961001Z"
    }
   },
   "outputs": [
    {
     "name": "stdout",
     "output_type": "stream",
     "text": [
      "5\n",
      "4\n",
      "Демин\n",
      "Рыбаков\n",
      "Сафонов\n",
      "Игнатов\n",
      "Мухин\n",
      "Сафонов\n",
      "Игнатов\n",
      "Демин\n",
      "Рыбаков\n",
      "1\n"
     ]
    }
   ],
   "source": [
    "m,n = [int(input()) for _ in 'mn']\n",
    "mat = set([input() for _ in range(m)])\n",
    "inf = set([input() for _ in range(n)])\n",
    "print(len(mat ^ inf) or 'NO')\n",
    "\n"
   ]
  },
  {
   "cell_type": "markdown",
   "id": "f0d4df4b",
   "metadata": {},
   "source": [
    "### Онлайн-школа BEEGEEK 4\n",
    "\n",
    "Руководитель онлайн-школы BEEGEEK и его помощник составили списки учеников их школы.\n",
    "\n",
    "Напишите программу, которая выведет все фамилии учеников, которые вспомнили руководитель и его помощник."
   ]
  },
  {
   "cell_type": "code",
   "execution_count": 25,
   "id": "4d52470b",
   "metadata": {
    "ExecuteTime": {
     "end_time": "2022-07-18T12:09:08.388729Z",
     "start_time": "2022-07-18T12:08:56.915396Z"
    }
   },
   "outputs": [
    {
     "name": "stdout",
     "output_type": "stream",
     "text": [
      "Бобров Жданов Некрасов Блинов\n",
      "Блинов Жданов\n",
      "Блинов Бобров Жданов Некрасов\n"
     ]
    }
   ],
   "source": [
    "print(*sorted(set(input().split()).union(set(input().split()))))"
   ]
  },
  {
   "cell_type": "markdown",
   "id": "e26286b5",
   "metadata": {},
   "source": [
    "### Онлайн-школа BEEGEEK 5 🌶️\n",
    "\n",
    "Каждый ученик, обучающийся в онлайн-школе BEEGEEK изучает либо математику, либо информатику, либо оба этих предмета. У руководителя школы есть списки учеников, изучающих каждый предмет. Случайно списки всех учеников перемешались.\n",
    "\n",
    "Напишите программу, которая позволит руководителю выяснить, сколько учеников изучает только один предмет."
   ]
  },
  {
   "cell_type": "code",
   "execution_count": 26,
   "id": "23661124",
   "metadata": {
    "ExecuteTime": {
     "end_time": "2022-07-18T12:22:24.805909Z",
     "start_time": "2022-07-18T12:21:52.358680Z"
    }
   },
   "outputs": [
    {
     "name": "stdout",
     "output_type": "stream",
     "text": [
      "2\n",
      "3\n",
      "Хохлов\n",
      "Фадеев\n",
      "Ершов\n",
      "Ушаков\n",
      "Хохлов\n",
      "3\n"
     ]
    }
   ],
   "source": [
    "n = int(input()) + int(input())\n",
    "print(2 * len(set([input() for _ in range(n)])) - n or 'NO')"
   ]
  },
  {
   "cell_type": "markdown",
   "id": "5286a17a",
   "metadata": {},
   "source": [
    "### Онлайн-школа BEEGEEK 6 🌶️\n",
    "\n",
    "Руководителю онлайн-школы BEEGEEK захотелось узнать, кто из его учеников присутствовал на всех уроках с начала учебного года. Для каждого урока есть листок со списком присутствовавших учеников.\n",
    "\n",
    "Напишите программу, определяющую фамилии учеников, которые присутствовали на всех уроках."
   ]
  },
  {
   "cell_type": "code",
   "execution_count": 34,
   "id": "3c643531",
   "metadata": {
    "ExecuteTime": {
     "end_time": "2022-07-18T12:43:17.144736Z",
     "start_time": "2022-07-18T12:42:42.335202Z"
    }
   },
   "outputs": [
    {
     "name": "stdout",
     "output_type": "stream",
     "text": [
      "2\n",
      "4\n",
      "Черкасов\n",
      "Фокин\n",
      "Самойлов\n",
      "Устинов\n",
      "2\n",
      "Черкасов\n",
      "Устинов\n",
      "Устинов\n",
      "Черкасов\n"
     ]
    }
   ],
   "source": [
    "print(*sorted(set.intersection(*[{input() for _ in range(int(input()))} for x in range(int(input()))])), sep='\\n')\n"
   ]
  },
  {
   "cell_type": "markdown",
   "id": "3a626b2e",
   "metadata": {},
   "source": [
    "## Словари"
   ]
  },
  {
   "cell_type": "markdown",
   "id": "5d80c1c4",
   "metadata": {},
   "source": [
    "### выведите\n",
    "имена всех пользователей (в алфавитном порядке), чей номер оканчивается на 8."
   ]
  },
  {
   "cell_type": "code",
   "execution_count": 4,
   "id": "05474e7a",
   "metadata": {
    "ExecuteTime": {
     "end_time": "2022-07-19T12:02:47.100325Z",
     "start_time": "2022-07-19T12:02:47.091189Z"
    }
   },
   "outputs": [
    {
     "name": "stdout",
     "output_type": "stream",
     "text": [
      "Helga LJ Maria Riyad Ruslan\n"
     ]
    }
   ],
   "source": [
    "users = [{'name': 'Todd', 'phone': '551-1414', 'email': 'todd@gmail.com'},\n",
    "         {'name': 'Helga', 'phone': '555-1618', 'email': 'helga@mail.net'},\n",
    "         {'name': 'Olivia', 'phone': '449-3141', 'email': ''},\n",
    "         {'name': 'LJ', 'phone': '555-2718', 'email': 'lj@gmail.net'},\n",
    "         {'name': 'Ruslan', 'phone': '422-145-9098', 'email': 'rus-lan.cha@yandex.ru'},\n",
    "         {'name': 'John', 'phone': '233-421-32', 'email': ''},\n",
    "         {'name': 'Lara', 'phone': '+7998-676-2532', 'email': 'g.lara89@gmail.com'},\n",
    "         {'name': 'Alina', 'phone': '+7948-799-2434', 'email': 'ali.ch.b@gmail.com'},\n",
    "         {'name': 'Robert', 'phone': '420-2011', 'email': ''},\n",
    "         {'name': 'Riyad', 'phone': '128-8890-128', 'email': 'r.mahrez@mail.net'},\n",
    "         {'name': 'Khabib', 'phone': '+7995-600-9080', 'email': 'kh.nurmag@gmail.com'},\n",
    "         {'name': 'Olga', 'phone': '6449-314-1213', 'email': ''},\n",
    "         {'name': 'Roman', 'phone': '+7459-145-8059', 'email': 'roma988@mail.ru'},\n",
    "         {'name': 'Maria', 'phone': '12-129-3148', 'email': 'm.sharapova@gmail.com'},\n",
    "         {'name': 'Fedor', 'phone': '+7445-341-0545', 'email': ''},\n",
    "         {'name': 'Tim', 'phone': '242-449-3141', 'email': 'timm.ggg@yandex.ru'}]\n",
    "\n",
    "print(*sorted([u['name'] for u in users if u['phone'].endswith('8')]))"
   ]
  },
  {
   "cell_type": "markdown",
   "id": "62193038",
   "metadata": {},
   "source": [
    "### Строковое представление\n",
    "\n",
    "Напишите программу, которая будет превращать натуральное число в строку, заменяя все цифры в числе на слова:"
   ]
  },
  {
   "cell_type": "code",
   "execution_count": 8,
   "id": "53dfa924",
   "metadata": {
    "ExecuteTime": {
     "end_time": "2022-07-19T12:32:17.364858Z",
     "start_time": "2022-07-19T12:32:17.358841Z"
    }
   },
   "outputs": [
    {
     "name": "stdout",
     "output_type": "stream",
     "text": [
      "two three zero\n"
     ]
    }
   ],
   "source": [
    "my_dict = {\n",
    "    '0': 'zero',\n",
    "    '1': 'one',\n",
    "    '2': 'two',\n",
    "    '3': 'three',\n",
    "    '4': 'four',\n",
    "    '5': 'five',\n",
    "    '6': 'six',\n",
    "    '7': 'seven',\n",
    "    '8': 'eight',\n",
    "    '9': 'nine'\n",
    "}\n",
    "print(*[my_dict[i] for i in '230'])"
   ]
  },
  {
   "cell_type": "markdown",
   "id": "c429d835",
   "metadata": {},
   "source": [
    "### Информация об учебных курсах\n",
    "\n",
    "Напишите программу, которая по номеру курса выводит информацию о данном курсе. "
   ]
  },
  {
   "cell_type": "code",
   "execution_count": 11,
   "id": "42285694",
   "metadata": {
    "ExecuteTime": {
     "end_time": "2022-07-19T12:35:52.017737Z",
     "start_time": "2022-07-19T12:35:52.012624Z"
    }
   },
   "outputs": [
    {
     "name": "stdout",
     "output_type": "stream",
     "text": [
      "CS101: 3004, Хайнс, 8:00\n"
     ]
    }
   ],
   "source": [
    "d = {\n",
    "    'CS101': ['3004', 'Хайнс', '8:00'],\n",
    "    'CS102': ['4501', 'Альварадо', '9:00'],\n",
    "    'CS103': ['6755', 'Рич', '10:00'],\n",
    "    'NT110': ['1244', 'Берк', '11:00'],\n",
    "    'CM241': ['1411', 'Ли', '13:00']\n",
    "}\n",
    "key = 'CS101'\n",
    "print(f\"{key}: {', '.join(d[key])}\")"
   ]
  },
  {
   "cell_type": "markdown",
   "id": "cc68c1b5",
   "metadata": {},
   "source": [
    "### Набор сообщений\n",
    "\n",
    "На мобильных кнопочных телефонах текстовые сообщения можно отправлять с помощью цифровой клавиатуры. Поскольку с каждой клавишей связано несколько букв, для большинства букв требуется несколько нажатий клавиш. При однократном нажатии цифры генерируется первый символ, указанный для этой клавиши. Нажатие цифры 2,3,4,5 раз генерирует второй, третий, четвертый или пятый символ клавиши."
   ]
  },
  {
   "cell_type": "code",
   "execution_count": 19,
   "id": "3fd2a71a",
   "metadata": {
    "ExecuteTime": {
     "end_time": "2022-07-19T13:06:09.643780Z",
     "start_time": "2022-07-19T13:06:09.635342Z"
    }
   },
   "outputs": [
    {
     "data": {
      "text/plain": [
       "'4433555555666110966677755531111'"
      ]
     },
     "execution_count": 19,
     "metadata": {},
     "output_type": "execute_result"
    }
   ],
   "source": [
    "def sol(ss):\n",
    "    t9 = [' ', \".,?!:\", 'ABC', 'DEF', 'GHI', 'JKL', 'MNO', 'PQRS', 'TUV', 'WXYZ']\n",
    "    res = ''\n",
    "    for s in ss.upper():\n",
    "        for i in range(len(t9)):\n",
    "            if s in t9[i]:\n",
    "                res += str(i) * (t9[i].index(s) + 1)\n",
    "    return res\n",
    "\n",
    "\n",
    "sol('Hello, World!')"
   ]
  },
  {
   "cell_type": "markdown",
   "id": "cb5a35bd",
   "metadata": {},
   "source": [
    "### Код Морзе\n",
    "\n",
    "Код Морзе для представления цифр и букв использует тире и точки.\n",
    "Напишите программу для кодирования текстового сообщения в соответствии с кодом Морзе."
   ]
  },
  {
   "cell_type": "code",
   "execution_count": 28,
   "id": "9091c59b",
   "metadata": {
    "ExecuteTime": {
     "end_time": "2022-07-19T13:22:44.452597Z",
     "start_time": "2022-07-19T13:22:44.446577Z"
    }
   },
   "outputs": [
    {
     "name": "stdout",
     "output_type": "stream",
     "text": [
      "... --- ...\n"
     ]
    }
   ],
   "source": [
    "letters = 'ABCDEFGHIJKLMNOPQRSTUVWXYZ0123456789'\n",
    "morse = ['.-', '-...', '-.-.', '-..', '.', '..-.', '--.', '....', '..', '.---', '-.-', '.-..', '--', '-.', '---', '.--.', '--.-', '.-.', '...', '-', '..-', '...-', '.--', '-..-', '-.--', '--..', '-----', '.----', '..---', '...--', '....-', '.....', '-....', '--...', '---..', '----.']\n",
    "\n",
    "t = dict(zip(letters, morse))\n",
    "\n",
    "print(*[t[s] for s in 'sos'.upper() if s in t])"
   ]
  },
  {
   "cell_type": "markdown",
   "id": "e9a8d3fc",
   "metadata": {},
   "source": [
    "### Дополните\n",
    "приведенный код так, чтобы он объединил содержимое двух словарей dict1 и dict2 по ключам, складывая значения по одному и тому же ключу, в случае, если ключ присутствует в обоих словарях. Результирующий словарь необходимо присвоить переменной result."
   ]
  },
  {
   "cell_type": "code",
   "execution_count": 6,
   "id": "b90b9421",
   "metadata": {
    "ExecuteTime": {
     "end_time": "2022-07-20T11:06:14.194441Z",
     "start_time": "2022-07-20T11:06:14.189081Z"
    }
   },
   "outputs": [
    {
     "name": "stdout",
     "output_type": "stream",
     "text": [
      "{'p': 123, 'm': 230, 'b': 400, 'c': 312, 'a': 400, 'q': 34, 'z': 999, 'd': 445, 'e': 98, 't': 853, 'w': 111, 'f': 90}\n"
     ]
    }
   ],
   "source": [
    "dict1 = {'a': 100, 'z': 333, 'b': 200, 'c': 300, 'd': 45, 'e': 98, 't': 76, 'q': 34, 'f': 90, 'm': 230}\n",
    "dict2 = {'a': 300, 'b': 200, 'd': 400, 't': 777, 'c': 12, 'p': 123, 'w': 111, 'z': 666}\n",
    "\n",
    "\n",
    "result = {k:dict1.get(k, 0) + dict2.get(k, 0) for k in set(dict1) | set(dict2)}\n",
    "    \n",
    "print(result)"
   ]
  },
  {
   "cell_type": "markdown",
   "id": "966e0beb",
   "metadata": {},
   "source": [
    "### Дополните \n",
    "приведенный код, чтобы он вывел наиболее часто встречающееся слово строки s. Если таких слов несколько, должно быть выведено то, что меньше в лексикографическом порядке."
   ]
  },
  {
   "cell_type": "code",
   "execution_count": 32,
   "id": "8e3599e5",
   "metadata": {
    "ExecuteTime": {
     "end_time": "2022-07-20T12:11:33.568306Z",
     "start_time": "2022-07-20T12:11:33.559823Z"
    }
   },
   "outputs": [
    {
     "data": {
      "text/plain": [
       "'banana'"
      ]
     },
     "execution_count": 32,
     "metadata": {},
     "output_type": "execute_result"
    }
   ],
   "source": [
    "s = 'orange strawberry barley gooseberry apple apricot barley currant orange melon pomegranate banana banana orange barley apricot plum grapefruit banana quince strawberry barley grapefruit banana grapes melon strawberry apricot currant currant gooseberry raspberry apricot currant orange lime quince grapefruit barley banana melon pomegranate barley banana orange barley apricot plum banana quince lime grapefruit strawberry gooseberry apple barley apricot currant orange melon pomegranate banana banana orange apricot barley plum banana grapefruit banana quince currant orange melon pomegranate barley plum banana quince barley lime grapefruit pomegranate barley'\n",
    "d = {s.count(x): x  for x in sorted(set(s.split()),reverse=True)}\n",
    "d[max(d)]\n",
    "\n",
    "\n",
    "\n",
    "    "
   ]
  },
  {
   "cell_type": "markdown",
   "id": "873655e5",
   "metadata": {},
   "source": [
    "Вам доступен список pets, содержащий информацию о собаках и их владельцах.  Каждый элемент списка – это кортеж вида (кличка собаки, имя владельца, фамилия владельца, возраст владельца).\n",
    "\n",
    "Дополните приведенный код так, чтобы в переменной result хранился словарь, в котором для каждого владельца будут перечислены его собаки. Ключом словаря должен быть кортеж (имя, фамилия, возраст владельца), а значением – список кличек собак (сохранив исходный порядок следования)."
   ]
  },
  {
   "cell_type": "code",
   "execution_count": 37,
   "id": "35795b4a",
   "metadata": {
    "ExecuteTime": {
     "end_time": "2022-07-20T12:30:34.383643Z",
     "start_time": "2022-07-20T12:30:34.368541Z"
    }
   },
   "outputs": [
    {
     "data": {
      "text/plain": [
       "{('Parker', 'Wilson', 50): ['Hatiko'],\n",
       " ('Josh', 'King', 25): ['Rusty', 'Balto', 'Barry', 'Lassie'],\n",
       " ('John', 'Smith', 28): ['Fido'],\n",
       " ('Jake', 'Smirnoff', 18): ['Butch'],\n",
       " ('Emma', 'Wright', 18): ['Odi'],\n",
       " ('Hannah', 'Taylor', 40): ['Snape'],\n",
       " ('Martha', 'Robinson', 73): ['Horry', 'Chase'],\n",
       " ('Alex', 'Martinez', 65): ['Giro'],\n",
       " ('Simon', 'Nevel', 32): ['Zooma', 'Rocky'],\n",
       " ('Martha', 'Williams', 38): ['Ace']}"
      ]
     },
     "execution_count": 37,
     "metadata": {},
     "output_type": "execute_result"
    }
   ],
   "source": [
    "pets = [('Hatiko', 'Parker', 'Wilson', 50),\n",
    "        ('Rusty', 'Josh', 'King', 25),\n",
    "        ('Fido', 'John', 'Smith', 28),\n",
    "        ('Butch', 'Jake', 'Smirnoff', 18),\n",
    "        ('Odi', 'Emma', 'Wright', 18),\n",
    "        ('Balto', 'Josh', 'King', 25),\n",
    "        ('Barry', 'Josh', 'King', 25),\n",
    "        ('Snape', 'Hannah', 'Taylor', 40),\n",
    "        ('Horry', 'Martha', 'Robinson', 73),\n",
    "        ('Giro', 'Alex', 'Martinez', 65),\n",
    "        ('Zooma', 'Simon', 'Nevel', 32),\n",
    "        ('Lassie', 'Josh', 'King', 25),\n",
    "        ('Chase', 'Martha', 'Robinson', 73),\n",
    "        ('Ace', 'Martha', 'Williams', 38),\n",
    "        ('Rocky', 'Simon', 'Nevel', 32)]\n",
    "\n",
    "result = {}\n",
    "for pet, *owner in pets:\n",
    "    result.setdefault(tuple(owner), []).append(pet)\n",
    "result"
   ]
  },
  {
   "cell_type": "markdown",
   "id": "7d3b4759",
   "metadata": {},
   "source": [
    "### Самое редкое слово 🌶️\n",
    "\n",
    "На вход программе подается строка текста. Напишите программу, которая выводит слово, которое встречается реже всего, без учета регистра. Если таких слов несколько, выведите то, которое меньше в лексикографическом порядке."
   ]
  },
  {
   "cell_type": "code",
   "execution_count": 60,
   "id": "20b0a912",
   "metadata": {
    "ExecuteTime": {
     "end_time": "2022-07-20T12:49:30.374581Z",
     "start_time": "2022-07-20T12:49:30.367098Z"
    }
   },
   "outputs": [
    {
     "data": {
      "text/plain": [
       "'a'"
      ]
     },
     "execution_count": 60,
     "metadata": {},
     "output_type": "execute_result"
    }
   ],
   "source": [
    "import re\n",
    "s='I bought two books: a new book and an old book. The new book was more expensive than the old book.'\n",
    "ls = re.findall(r'\\b\\w+\\b', s.lower())\n",
    "d = {ls.count(x): x for x in sorted(set(ls), reverse=True)}\n",
    "d[min(d)]"
   ]
  },
  {
   "cell_type": "markdown",
   "id": "16c5d1b0",
   "metadata": {},
   "source": [
    "### Исправление дубликатов 🌶️\n",
    "\n",
    "На вход программе подается строка, содержащая строки-идентификаторы. Напишите программу, которая исправляет их так, чтобы в результирующей строке не было дубликатов. Для этого необходимо прибавлять к повторяющимся идентификаторам постфикс _n, где n – количество раз, сколько такой идентификатор уже встречался."
   ]
  },
  {
   "cell_type": "code",
   "execution_count": 64,
   "id": "62499b3d",
   "metadata": {
    "ExecuteTime": {
     "end_time": "2022-07-20T13:12:24.344138Z",
     "start_time": "2022-07-20T13:12:24.339614Z"
    }
   },
   "outputs": [
    {
     "name": "stdout",
     "output_type": "stream",
     "text": [
      "a b c a_1 a_2 d c_1 "
     ]
    }
   ],
   "source": [
    "s='a b c a a d c'.split()\n",
    "res = set()\n",
    "for a in s:\n",
    "    e, i = a, 1\n",
    "    while e in res:\n",
    "        e, i = f\"{a}_{i}\", i+1\n",
    "    res.add(e)\n",
    "    print(e, end=' ')\n",
    "            \n",
    "        \n"
   ]
  },
  {
   "cell_type": "markdown",
   "id": "91c2350b",
   "metadata": {},
   "source": [
    "### Словарь программиста\n",
    "\n",
    "Программисты, как вы уже знаете, постоянно учатся, а в общении между собой используют весьма специфический язык. Чтобы систематизировать ваш пополняющийся профессиональный лексикон, мы придумали эту задачу. Напишите программу создания небольшого словаря сленговых программерских выражений, чтобы она потом по запросу возвращала значения из этого словаря."
   ]
  },
  {
   "cell_type": "code",
   "execution_count": 113,
   "id": "304c18c1",
   "metadata": {
    "ExecuteTime": {
     "end_time": "2022-07-20T14:52:36.091041Z",
     "start_time": "2022-07-20T14:52:36.077387Z"
    }
   },
   "outputs": [
    {
     "name": "stdout",
     "output_type": "stream",
     "text": [
      "язык программирования Python\n",
      "Не найдено\n",
      "код, который нужен, чтобы исправить несовершенство ранее написанного кода\n"
     ]
    }
   ],
   "source": [
    "def translate():\n",
    "    d = {}\n",
    "    n = 5\n",
    "    words = [\n",
    "        \"Змея: язык программирования Python\",\n",
    "        \"Баг: от англ. bug — жучок, клоп, ошибка в программе\",\n",
    "        \"Конфа: конференция\",\n",
    "        \"Костыль: код, который нужен, чтобы исправить несовершенство ранее написанного кода\",\n",
    "        \"Бета: бета-версия, приложение на стадии публичного тестирования\"\n",
    "    ]\n",
    "    d = {k.lower(): v for _ in range(n) for k, v in [w.split(': ', 1) for w in words]}\n",
    "    return [d.get(w.lower(), 'Не найдено') for w in (\"Змея\", \"Жаба\", \"костыль\")]\n",
    "\n",
    "print(*translate(), sep='\\n')"
   ]
  },
  {
   "cell_type": "markdown",
   "id": "fc0295a8",
   "metadata": {},
   "source": [
    "### Анаграммы\n",
    "\n",
    "На вход программе подаются два предложения. Напишите программу, которая определяет, являются они анаграммами или нет. Ваша программа должна игнорировать регистр символов, знаки препинания и пробелы."
   ]
  },
  {
   "cell_type": "code",
   "execution_count": 21,
   "id": "052fbdf3",
   "metadata": {
    "ExecuteTime": {
     "end_time": "2022-07-21T10:51:43.977535Z",
     "start_time": "2022-07-21T10:51:43.972313Z"
    }
   },
   "outputs": [
    {
     "data": {
      "text/plain": [
       "'YES'"
      ]
     },
     "execution_count": 21,
     "metadata": {},
     "output_type": "execute_result"
    }
   ],
   "source": [
    "import re\n",
    "def sol():    \n",
    "    a,b = [sorted(re.sub(r'[.,!?:;\\-\\s]+', '', s.lower())) for s in ['С мая весной', 'сам я не свой']]\n",
    "    return ('NO','YES')[a == b]\n",
    "\n",
    "sol()\n",
    "    \n",
    "    "
   ]
  },
  {
   "cell_type": "markdown",
   "id": "4596504a",
   "metadata": {},
   "source": [
    "### Словарь синонимов\n",
    "\n",
    "Вам дан словарь, состоящий из пар слов-синонимов. Повторяющихся слов в словаре нет. Напишите программу, которая для одного данного слова определяет его синоним."
   ]
  },
  {
   "cell_type": "code",
   "execution_count": 43,
   "id": "ae5c9dab",
   "metadata": {
    "ExecuteTime": {
     "end_time": "2022-07-21T11:13:26.428287Z",
     "start_time": "2022-07-21T11:13:26.420124Z"
    }
   },
   "outputs": [
    {
     "data": {
      "text/plain": [
       "'Beautiful'"
      ]
     },
     "execution_count": 43,
     "metadata": {},
     "output_type": "execute_result"
    }
   ],
   "source": [
    "def sol(s):\n",
    "    sinon = [\n",
    "        'Awful Terrible', 'Beautiful Pretty', 'Great Excellent',\n",
    "        'Generous Bountiful'\n",
    "    ]\n",
    "    d = dict([x.split() for x in sinon] + [(v,k) for k,v in [x.split() for x in sinon]])\n",
    "    return d[s]\n",
    "\n",
    "sol('Pretty')"
   ]
  },
  {
   "cell_type": "markdown",
   "id": "f28ac144",
   "metadata": {},
   "source": [
    "### Страны и города\n",
    "\n",
    "На вход программе подается список стран и городов каждой страны. Затем даны названия городов. Напишите программу, которая для каждого города выводит, в какой стране он находится.\n",
    "\n"
   ]
  },
  {
   "cell_type": "code",
   "execution_count": 53,
   "id": "53e88500",
   "metadata": {
    "ExecuteTime": {
     "end_time": "2022-07-21T12:02:38.005346Z",
     "start_time": "2022-07-21T12:01:38.181333Z"
    }
   },
   "outputs": [
    {
     "name": "stdout",
     "output_type": "stream",
     "text": [
      "2\n",
      "Германия Берлин Мюнхен Гамбург Дортмунд\n",
      "Нидерланды Амстердам Гаага Роттердам Алкмар\n",
      "4\n",
      "Амстердам\n",
      "Нидерланды\n",
      "Алкмар\n",
      "Нидерланды\n",
      "Гамбург\n",
      "Германия\n",
      "Гаага\n",
      "Нидерланды\n"
     ]
    }
   ],
   "source": [
    "countries = [dict.fromkeys(v, k) for k,*v in [input().split() for _ in range(int(input()))]]\n",
    "\n",
    "for i in range(int(input())):\n",
    "    k = input()\n",
    "    [print(c[k]) for c in countries if k in c]\n",
    "            \n"
   ]
  },
  {
   "cell_type": "markdown",
   "id": "913c57d4",
   "metadata": {},
   "source": [
    "### Телефонная книга\n",
    "\n",
    "Тимур записал телефоны всех своих друзей, чтобы автоматизировать поиск нужного номера.\n",
    "\n",
    "У каждого из друзей Тимура может быть один или более телефонных номеров. Напишите программу, которая поможет Тимуру находить все номера определённого друга."
   ]
  },
  {
   "cell_type": "code",
   "execution_count": 56,
   "id": "35015ddb",
   "metadata": {
    "ExecuteTime": {
     "end_time": "2022-07-21T12:29:20.010369Z",
     "start_time": "2022-07-21T12:28:48.501365Z"
    }
   },
   "outputs": [
    {
     "name": "stdout",
     "output_type": "stream",
     "text": [
      "3\n",
      "79184219577 Женя\n",
      "79194249271 Руслан\n",
      "79281234567 Женя\n",
      "3\n",
      "Руслан\n",
      "79194249271\n",
      "женя\n",
      "79184219577 79281234567\n",
      "Рустам\n",
      "абонент не найден\n"
     ]
    }
   ],
   "source": [
    "def phonebook():\n",
    "    phonedict = {}\n",
    "    [phonedict.setdefault(v.lower(), []).append(k) for k, v in [input().split() for _ in range(int(input()))]]\n",
    "    for _ in range(int(input())):\n",
    "        print(*phonedict.get(input().lower(), ['абонент не найден']))\n",
    "        \n",
    "phonebook()        \n",
    "        "
   ]
  },
  {
   "cell_type": "markdown",
   "id": "fc45cd12",
   "metadata": {},
   "source": [
    "### Секретное слово\n",
    "\n",
    "Напишите программу для расшифровки секретного слова методом частотного анализа."
   ]
  },
  {
   "cell_type": "code",
   "execution_count": 69,
   "id": "720dc12b",
   "metadata": {
    "ExecuteTime": {
     "end_time": "2022-07-21T13:59:30.096664Z",
     "start_time": "2022-07-21T13:59:30.091002Z"
    }
   },
   "outputs": [
    {
     "name": "stdout",
     "output_type": "stream",
     "text": [
      "ананас\n"
     ]
    }
   ],
   "source": [
    "def secret():\n",
    "#     cipher = input()\n",
    "#     d = {int(v):k for k,v in [input().split(': ') for _ in range(int(input()))]}\n",
    "    cipher = '*!*!*?'\n",
    "    n = 3\n",
    "    dl = ['а: 3', 'н: 2', 'с: 1']\n",
    "    \n",
    "    d = {int(v):k for k,v in [l.split(': ') for l in dl]}\n",
    "    return [d[cipher.count(c)] for c in cipher]\n",
    "    \n",
    "print(*secret(), sep='')"
   ]
  },
  {
   "cell_type": "markdown",
   "id": "e1ca5c44",
   "metadata": {},
   "source": [
    "Используя генератор, дополните приведенный код, чтобы получить словарь result , где ключом будет элемент списка numbers, а значением – отсортированный по возрастанию список всех его **делителей** начиная с 1."
   ]
  },
  {
   "cell_type": "code",
   "execution_count": 8,
   "id": "c3cfdf4c",
   "metadata": {
    "ExecuteTime": {
     "end_time": "2022-07-22T11:51:48.055222Z",
     "start_time": "2022-07-22T11:51:38.450000Z"
    }
   },
   "outputs": [
    {
     "name": "stdout",
     "output_type": "stream",
     "text": [
      "1.21 ms ± 202 µs per loop (mean ± std. dev. of 7 runs, 1,000 loops each)\n"
     ]
    }
   ],
   "source": [
    "%%timeit\n",
    "def sol():\n",
    "    numbers = [34, 10, 4, 6, 10, 23, 90, 100, 21, 35, 95, 1, 36, 38, 19, 1, 6, 87, 1000, 13456, 360]\n",
    "\n",
    "    return {k: [i for i in range(1, k+1) if k % i == 0] for k in numbers}\n",
    "sol()"
   ]
  },
  {
   "cell_type": "code",
   "execution_count": 9,
   "id": "678455d7",
   "metadata": {
    "ExecuteTime": {
     "end_time": "2022-07-22T11:52:03.866353Z",
     "start_time": "2022-07-22T11:51:58.702588Z"
    }
   },
   "outputs": [
    {
     "name": "stdout",
     "output_type": "stream",
     "text": [
      "624 µs ± 120 µs per loop (mean ± std. dev. of 7 runs, 1,000 loops each)\n"
     ]
    }
   ],
   "source": [
    "%%timeit\n",
    "def glozman_1():\n",
    "    numbers = [34, 10, 4, 6, 10, 23, 90, 100, 21, 35, 95, 1, 36, 38, 19, 1, 6, 87, 1000, 13456, 360]\n",
    "    return {n: [i for i in range(1, n // 2 + 1) if n % i == 0] + [n] for n in numbers}\n",
    "glozman_1()"
   ]
  },
  {
   "cell_type": "code",
   "execution_count": 10,
   "id": "302adc72",
   "metadata": {
    "ExecuteTime": {
     "end_time": "2022-07-22T11:52:23.538312Z",
     "start_time": "2022-07-22T11:52:18.313992Z"
    }
   },
   "outputs": [
    {
     "name": "stdout",
     "output_type": "stream",
     "text": [
      "66.8 µs ± 16.1 µs per loop (mean ± std. dev. of 7 runs, 10,000 loops each)\n"
     ]
    }
   ],
   "source": [
    "%%timeit\n",
    "from collections import deque\n",
    "def get_factors_fast(n):\n",
    "    nsqrt = n ** .5\n",
    "    factors = deque()\n",
    "    if nsqrt.is_integer():\n",
    "        factors.append(int(nsqrt))\n",
    "    for i in range(int(nsqrt) - nsqrt.is_integer(), 0, -1):\n",
    "        if n % i == 0:\n",
    "            factors.appendleft(i)  \n",
    "            factors.append(n // i)\n",
    "    return list(factors)\n",
    "\n",
    "\n",
    "def glozman_2():\n",
    "    numbers = [34, 10, 4, 6, 10, 23, 90, 100, 21, 35, 95, 1, 36, 38, 19, 1, 6, 87, 1000, 13456, 360]\n",
    "    return {n: get_factors_fast(n) for n in numbers}\n",
    "\n",
    "glozman_2()"
   ]
  },
  {
   "cell_type": "markdown",
   "id": "b550ce9c",
   "metadata": {},
   "source": [
    "Список tuples содержит кортежи, состоящие из трех чисел.\n",
    "\n",
    "Дополните приведенный код, используя генератор, чтобы получить словарь result, в котором ключом является первый элемент каждого кортежа, а значением – **кортеж из оставшихся двух элементов**."
   ]
  },
  {
   "cell_type": "code",
   "execution_count": 15,
   "id": "e075f1f7",
   "metadata": {
    "ExecuteTime": {
     "end_time": "2022-07-22T12:24:41.844605Z",
     "start_time": "2022-07-22T12:24:41.833395Z"
    }
   },
   "outputs": [
    {
     "data": {
      "text/plain": [
       "{1: (2, 3),\n",
       " 4: (5, 6),\n",
       " 7: (8, 9),\n",
       " 10: (11, 12),\n",
       " 13: (14, 15),\n",
       " 16: (17, 18),\n",
       " 19: (20, 21),\n",
       " 22: (23, 24),\n",
       " 25: (26, 27),\n",
       " 28: (29, 30),\n",
       " 31: (32, 33),\n",
       " 34: (35, 36)}"
      ]
     },
     "execution_count": 15,
     "metadata": {},
     "output_type": "execute_result"
    }
   ],
   "source": [
    "def sol():\n",
    "    tuples = [(1, 2, 3), (4, 5, 6), (7, 8, 9), (10, 11, 12), (13, 14, 15), (16, 17, 18), (19, 20, 21), (22, 23, 24), (25, 26, 27), (28, 29, 30), (31, 32, 33), (34, 35, 36)]\n",
    "    return {k: tuple(v) for k, *v in tuples}\n",
    "sol()"
   ]
  },
  {
   "cell_type": "markdown",
   "id": "84b248fe",
   "metadata": {},
   "source": [
    "Даны три списка student_ids, student_names, student_grades, содержащие информацию о студентах.\n",
    "\n",
    "Дополните приведенный код, используя генератор, так чтобы получить список result, содержащий вложенные словари в соответствии с образцом: **[{'S001': {'Camila Rodriguez': 86}}, {'S002': {'Juan Cruz': 98}},...]**."
   ]
  },
  {
   "cell_type": "code",
   "execution_count": 27,
   "id": "fd09cd43",
   "metadata": {
    "ExecuteTime": {
     "end_time": "2022-07-22T12:41:17.468234Z",
     "start_time": "2022-07-22T12:41:17.461067Z"
    }
   },
   "outputs": [
    {
     "data": {
      "text/plain": [
       "[{'S001': {'Camila Rodriguez': 86}},\n",
       " {'S002': {'Juan Cruz': 98}},\n",
       " {'S003': {'Dan Richards': 89}},\n",
       " {'S004': {'Sam Boyle': 92}},\n",
       " {'S005': {'Batista Cesare': 45}},\n",
       " {'S006': {'Francesco Totti': 67}},\n",
       " {'S007': {'Khalid Hussain': 89}},\n",
       " {'S008': {'Ethan Hawke': 90}},\n",
       " {'S009': {'David Bowman': 100}},\n",
       " {'S010': {'James Milner': 98}},\n",
       " {'S011': {'Michael Owen': 10}},\n",
       " {'S012': {'Gary Oldman': 96}},\n",
       " {'S013': {'Tom Hardy': 93}}]"
      ]
     },
     "execution_count": 27,
     "metadata": {},
     "output_type": "execute_result"
    }
   ],
   "source": [
    "def sol():\n",
    "    student_ids = ['S001', 'S002', 'S003', 'S004', 'S005', 'S006', 'S007', 'S008', 'S009', 'S010', 'S011', 'S012', 'S013'] \n",
    "    student_names = ['Camila Rodriguez', 'Juan Cruz', 'Dan Richards', 'Sam Boyle', 'Batista Cesare', 'Francesco Totti', 'Khalid Hussain', 'Ethan Hawke', 'David Bowman', 'James Milner', 'Michael Owen', 'Gary Oldman', 'Tom Hardy'] \n",
    "    student_grades = [86, 98, 89, 92, 45, 67, 89, 90, 100, 98, 10, 96, 93]\n",
    "\n",
    "    return [{i: {n:g}} for i,n,g in zip(student_ids, student_names, student_grades)]\n",
    "sol()"
   ]
  },
  {
   "cell_type": "markdown",
   "id": "23ffb5c3",
   "metadata": {},
   "source": [
    "## Итоговая по словарям"
   ]
  },
  {
   "cell_type": "markdown",
   "id": "2dbbd4a3",
   "metadata": {
    "ExecuteTime": {
     "end_time": "2022-07-28T10:30:27.711776Z",
     "start_time": "2022-07-28T10:30:27.707040Z"
    }
   },
   "source": [
    "Словарь emails содержит информацию об электронных адресах пользователей, сгруппированных по домену. Дополните приведенный код, чтобы он вывел все электронные адреса в алфавитном порядке, каждый на отдельной строке, в формате username@domain."
   ]
  },
  {
   "cell_type": "code",
   "execution_count": 16,
   "id": "84b4e801",
   "metadata": {
    "ExecuteTime": {
     "end_time": "2022-07-28T10:58:09.237497Z",
     "start_time": "2022-07-28T10:58:09.232999Z"
    }
   },
   "outputs": [
    {
     "name": "stdout",
     "output_type": "stream",
     "text": [
      "angel.down@mail.ru\n",
      "apple.fruit@msu.edu\n",
      "beegeek.school@msu.edu\n",
      "beegeek@msu.edu\n",
      "cream.soda@hse.edu\n",
      "google@yandex.ru\n",
      "joanne@mail.ru\n",
      "joseph@nosu.edu\n",
      "larisa.mamuk@nosu.edu\n",
      "ruslan.chaika@gmail.com\n",
      "rustam.mini@gmail.com\n",
      "stepik-best@gmail.com\n",
      "surface@yandex.ru\n",
      "svetlana.gaeva@nosu.edu\n",
      "the.fame.moster@mail.ru\n",
      "timyr@nosu.edu\n",
      "tomas-henders@hse.edu\n",
      "zivert@hse.edu\n"
     ]
    }
   ],
   "source": [
    "emails = {'nosu.edu': ['timyr', 'joseph', 'svetlana.gaeva', 'larisa.mamuk'], \n",
    "          'gmail.com': ['ruslan.chaika', 'rustam.mini', 'stepik-best'], \n",
    "          'msu.edu': ['apple.fruit', 'beegeek', 'beegeek.school'], \n",
    "          'yandex.ru': ['surface', 'google'],\n",
    "          'hse.edu': ['tomas-henders', 'cream.soda', 'zivert'],\n",
    "          'mail.ru': ['angel.down', 'joanne', 'the.fame.moster']}\n",
    "\n",
    "print(*sorted([f\"{x}@{k}\" for k, v in emails.items() for x in v]), sep = '\\n')\n"
   ]
  },
  {
   "cell_type": "markdown",
   "id": "d5d13aa8",
   "metadata": {},
   "source": [
    "### Минутка генетики"
   ]
  },
  {
   "cell_type": "code",
   "execution_count": 17,
   "id": "e781eba1",
   "metadata": {
    "ExecuteTime": {
     "end_time": "2022-07-28T11:01:59.173990Z",
     "start_time": "2022-07-28T11:01:59.169981Z"
    }
   },
   "outputs": [
    {
     "name": "stdout",
     "output_type": "stream",
     "text": [
      "UGAC\n"
     ]
    }
   ],
   "source": [
    "d = {'A': 'U', 'C': 'G', 'G': 'C', 'T': 'A'}\n",
    "print(*[d[i] for i in 'ACTG'], sep='')"
   ]
  },
  {
   "cell_type": "markdown",
   "id": "a02723be",
   "metadata": {},
   "source": [
    "### Порядковый номер\n",
    "\n",
    "Дана строка текста на русском языке, состоящая из слов и символов пробела. Словом считается последовательность букв, слова разделены одним пробелом или несколькими.\n",
    "\n",
    "Напишите программу, определяющую для каждого слова порядковый номер его вхождения в текст именно в этой форме, с учетом регистра. Для первого вхождения слова программа выведет 1, для второго вхождения того же слова — 2 и т. д."
   ]
  },
  {
   "cell_type": "code",
   "execution_count": 49,
   "id": "fc3d77b6",
   "metadata": {
    "ExecuteTime": {
     "end_time": "2022-07-28T11:35:17.054343Z",
     "start_time": "2022-07-28T11:35:17.049797Z"
    }
   },
   "outputs": [
    {
     "name": "stdout",
     "output_type": "stream",
     "text": [
      "1 1 2 1 1 2 1 2 3 1\n"
     ]
    }
   ],
   "source": [
    "def sol(ss):\n",
    "    ls = ss.split()\n",
    "    d={}\n",
    "    res = []\n",
    "    for i in ls:\n",
    "        d[i] = d.get(i, 0) + 1\n",
    "        res.append(d[i])\n",
    "    return res\n",
    "print(*sol('прием Хьюстон Хьюстон как слышно прием меня слышно прием хьюстон'))\n",
    "        "
   ]
  },
  {
   "cell_type": "markdown",
   "id": "5227ffa6",
   "metadata": {},
   "source": [
    "### Scrabble game\n",
    "\n",
    "В игре Scrabble каждая буква приносит определенное количество баллов. Общая стоимость слова – сумма баллов его букв. Чем реже буква встречается, тем больше она ценится"
   ]
  },
  {
   "cell_type": "code",
   "execution_count": 61,
   "id": "76e099ff",
   "metadata": {
    "ExecuteTime": {
     "end_time": "2022-07-28T11:46:47.194586Z",
     "start_time": "2022-07-28T11:46:47.188162Z"
    }
   },
   "outputs": [
    {
     "data": {
      "text/plain": [
       "15"
      ]
     },
     "execution_count": 61,
     "metadata": {},
     "output_type": "execute_result"
    }
   ],
   "source": [
    "def sol(ss):\n",
    "    d = {\n",
    "        1: \"AEILNORSTU\",\n",
    "        2: \"DG\",\n",
    "        3: \"BCMP\",\n",
    "        4: \"FHVWY\",\n",
    "        5: \"K\",\n",
    "        8: \"JX\",\n",
    "        10: \"QZ\"\n",
    "    }\n",
    "    return sum([k for s in ss for k,v in d.items() if s in v])\n",
    "sol('FRESHENER')\n",
    "         "
   ]
  },
  {
   "cell_type": "markdown",
   "id": "5b1c562b",
   "metadata": {},
   "source": [
    "### Строка запроса\n"
   ]
  },
  {
   "cell_type": "code",
   "execution_count": 63,
   "id": "2b7290b3",
   "metadata": {
    "ExecuteTime": {
     "end_time": "2022-07-28T11:52:20.144946Z",
     "start_time": "2022-07-28T11:52:20.140178Z"
    }
   },
   "outputs": [
    {
     "data": {
      "text/plain": [
       "'age=28&name=timur'"
      ]
     },
     "execution_count": 63,
     "metadata": {},
     "output_type": "execute_result"
    }
   ],
   "source": [
    "def build_query_string(params):\n",
    "    return '&'.join(sorted([f\"{k}={v}\" for k,v in params.items()]))\n",
    "\n",
    "build_query_string({'name': 'timur', 'age': 28})"
   ]
  },
  {
   "cell_type": "markdown",
   "id": "5febfc9e",
   "metadata": {},
   "source": [
    "### Слияние словарей 🌶️\n",
    "\n",
    "Напишите функцию merge(), объединяющую словари в один общий. Функция должна принимать список словарей и возвращать словарь, каждый ключ которого содержит множество (тип данных set) уникальных значений собранных из всех словарей переданного списка."
   ]
  },
  {
   "cell_type": "code",
   "execution_count": 65,
   "id": "7427721e",
   "metadata": {
    "ExecuteTime": {
     "end_time": "2022-07-28T11:56:57.556779Z",
     "start_time": "2022-07-28T11:56:57.550159Z"
    }
   },
   "outputs": [
    {
     "data": {
      "text/plain": [
       "{'a': {1, 5}, 'b': {2, 10, 17}, 'c': {50, 100}, 'd': {777}}"
      ]
     },
     "execution_count": 65,
     "metadata": {},
     "output_type": "execute_result"
    }
   ],
   "source": [
    "def merge(values):      # values - это список словарей\n",
    "    res = {}\n",
    "    for d in values:\n",
    "        for k,v in d.items():\n",
    "            res.setdefault(k, set()).add(v)\n",
    "    return res\n",
    "\n",
    "merge([{'a': 1, 'b': 2}, {'b': 10, 'c': 100}, {'a': 1, 'b': 17, 'c': 50}, {'a': 5, 'd': 777}])"
   ]
  },
  {
   "cell_type": "markdown",
   "id": "d1c27c27",
   "metadata": {},
   "source": [
    "### Опасный вирус 😈\n",
    "\n",
    "В файловую систему компьютера, на котором развернута наша ❤️ платформа Stepik, проник опасный вирус и сломал контроль прав доступа к файлам. Говорят, вирус написал один из студентов курса Python для начинающих.\n",
    "\n",
    "Для каждого файла известно, с какими действиями можно к нему обращаться:\n",
    "\n",
    "    запись W (write, доступ на запись в файл);\n",
    "    чтение R (read, доступ на чтение из файла);\n",
    "    запуск X (execute, запуск на исполнение файла).\n",
    "\n",
    "Напишите программу для восстановления контроля прав доступа к файлам. Ваша программа для каждого запроса должна будет возвращать OK если выполняется допустимая операция, и Access denied, если операция недопустима."
   ]
  },
  {
   "cell_type": "code",
   "execution_count": 72,
   "id": "2b0ef2fc",
   "metadata": {
    "ExecuteTime": {
     "end_time": "2022-07-28T12:17:25.519761Z",
     "start_time": "2022-07-28T12:16:25.878774Z"
    }
   },
   "outputs": [
    {
     "name": "stdout",
     "output_type": "stream",
     "text": [
      "2\n",
      "my_pycode.exe W X\n",
      "log_n X W R\n",
      "2\n",
      "write my_pycode.exe\n",
      "OK\n",
      "write log_n\n",
      "OK\n"
     ]
    }
   ],
   "source": [
    "def sol():\n",
    "    t = {'execute': 'X', 'read': 'R', 'write': 'W'}\n",
    "    n = int(input())\n",
    "    files = {}\n",
    "    for i in range(n):\n",
    "        k,*v = input().split()\n",
    "        files[k] = v\n",
    "        \n",
    "    m = int(input())\n",
    "    for i in range(m):\n",
    "        a,f = input().split()\n",
    "        print('OK' if t[a] in files[f] else 'Access denied')\n",
    "    \n",
    "    \n",
    "sol()"
   ]
  },
  {
   "cell_type": "markdown",
   "id": "dea3ba6f",
   "metadata": {},
   "source": [
    "### Покупки в интернет-магазине 🌶️\n",
    "\n",
    "Напишите программу для подсчета количества единиц каждого вида товара из приобретенных каждым покупателем интернет-магазина."
   ]
  },
  {
   "cell_type": "code",
   "execution_count": 82,
   "id": "78e29279",
   "metadata": {
    "ExecuteTime": {
     "end_time": "2022-07-28T13:10:12.284420Z",
     "start_time": "2022-07-28T13:09:36.507244Z"
    }
   },
   "outputs": [
    {
     "name": "stdout",
     "output_type": "stream",
     "text": [
      "7\n",
      "Вячеслав Ручка 1\n",
      "Филипп Ручка 1\n",
      "Виктория Перо 3\n",
      "Вячеслав Линейка 4\n",
      "Виктория Тетрадь 7\n",
      "Вячеслав Ручка 29\n",
      "Филипп Циркуль 1\n",
      "Виктория:\n",
      "Перо 3\n",
      "Тетрадь 7\n",
      "Вячеслав:\n",
      "Линейка 4\n",
      "Ручка 30\n",
      "Филипп:\n",
      "Ручка 1\n",
      "Циркуль 1\n"
     ]
    }
   ],
   "source": [
    "def sol():\n",
    "    orders = {}\n",
    "    n = int(input())\n",
    "    for i in range(n):\n",
    "        n, t, c = input().split()\n",
    "        part = orders.setdefault(n, {})\n",
    "        orders[n][t] = part.get(t, 0) + int(c)\n",
    "        \n",
    "    return orders\n",
    "\n",
    "for n, p in sorted(sol().items()):\n",
    "    print(f\"{n}:\")\n",
    "    for t in sorted(p.items()):\n",
    "        print(*t)\n",
    "        "
   ]
  }
 ],
 "metadata": {
  "kernelspec": {
   "display_name": "Python 3 (ipykernel)",
   "language": "python",
   "name": "python3"
  },
  "language_info": {
   "codemirror_mode": {
    "name": "ipython",
    "version": 3
   },
   "file_extension": ".py",
   "mimetype": "text/x-python",
   "name": "python",
   "nbconvert_exporter": "python",
   "pygments_lexer": "ipython3",
   "version": "3.8.10"
  },
  "latex_envs": {
   "LaTeX_envs_menu_present": true,
   "autoclose": false,
   "autocomplete": true,
   "bibliofile": "biblio.bib",
   "cite_by": "apalike",
   "current_citInitial": 1,
   "eqLabelWithNumbers": true,
   "eqNumInitial": 1,
   "hotkeys": {
    "equation": "Ctrl-E",
    "itemize": "Ctrl-I"
   },
   "labels_anchors": false,
   "latex_user_defs": false,
   "report_style_numbering": false,
   "user_envs_cfg": false
  },
  "varInspector": {
   "cols": {
    "lenName": 16,
    "lenType": 16,
    "lenVar": 40
   },
   "kernels_config": {
    "python": {
     "delete_cmd_postfix": "",
     "delete_cmd_prefix": "del ",
     "library": "var_list.py",
     "varRefreshCmd": "print(var_dic_list())"
    },
    "r": {
     "delete_cmd_postfix": ") ",
     "delete_cmd_prefix": "rm(",
     "library": "var_list.r",
     "varRefreshCmd": "cat(var_dic_list()) "
    }
   },
   "types_to_exclude": [
    "module",
    "function",
    "builtin_function_or_method",
    "instance",
    "_Feature"
   ],
   "window_display": false
  }
 },
 "nbformat": 4,
 "nbformat_minor": 5
}
