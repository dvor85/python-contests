{
 "cells": [
  {
   "cell_type": "markdown",
   "id": "417a086a",
   "metadata": {},
   "source": [
    "# 1. Задачи на программирование"
   ]
  },
  {
   "cell_type": "markdown",
   "id": "7e8c9426",
   "metadata": {},
   "source": [
    "## 1. Одиндватри\n",
    "Рассмотрим последовательность натуральных чисел:\n",
    "1,2,3,4,5,6,7,8,9,10,11,12,13,14, …Перевернем в ней каждое число. Получим последовательность:\n",
    "1,2,3,4,5,6,7,8,9,01,11,21,31,41,…Запишем полученную последовательность слитно в виде одной строки:\n",
    "1234567890111213141...\n",
    "\n",
    "Напишите программу, которая выводит n-ую цифру полученной строки."
   ]
  },
  {
   "cell_type": "code",
   "execution_count": 21,
   "id": "39850ac9",
   "metadata": {
    "ExecuteTime": {
     "end_time": "2022-06-08T10:23:50.148666Z",
     "start_time": "2022-06-08T10:23:41.009805Z"
    }
   },
   "outputs": [
    {
     "ename": "KeyboardInterrupt",
     "evalue": "",
     "output_type": "error",
     "traceback": [
      "\u001b[0;31m---------------------------------------------------------------------------\u001b[0m",
      "\u001b[0;31mKeyboardInterrupt\u001b[0m                         Traceback (most recent call last)",
      "Input \u001b[0;32mIn [21]\u001b[0m, in \u001b[0;36m<cell line: 14>\u001b[0;34m()\u001b[0m\n\u001b[1;32m      9\u001b[0m             \u001b[38;5;28;01mreturn\u001b[39;00m a[::\u001b[38;5;241m-\u001b[39m\u001b[38;5;241m1\u001b[39m][d\u001b[38;5;241m-\u001b[39m\u001b[38;5;241m1\u001b[39m]\n\u001b[1;32m     11\u001b[0m \u001b[38;5;66;03m#     return ''.join([x[::-1] for x in map(str, range(1,n+1))])\u001b[39;00m\n\u001b[0;32m---> 14\u001b[0m \u001b[43msolution\u001b[49m\u001b[43m(\u001b[49m\u001b[38;5;241;43m100000000000\u001b[39;49m\u001b[43m)\u001b[49m\n",
      "Input \u001b[0;32mIn [21]\u001b[0m, in \u001b[0;36msolution\u001b[0;34m(n)\u001b[0m\n\u001b[1;32m      5\u001b[0m a\u001b[38;5;241m=\u001b[39m\u001b[38;5;28mstr\u001b[39m(x)\n\u001b[1;32m      6\u001b[0m c\u001b[38;5;241m+\u001b[39m\u001b[38;5;241m=\u001b[39m\u001b[38;5;28mlen\u001b[39m(a)\n\u001b[0;32m----> 7\u001b[0m d\u001b[38;5;241m=\u001b[39m\u001b[43mn\u001b[49m\u001b[38;5;241;43m-\u001b[39;49m\u001b[43mc\u001b[49m\n\u001b[1;32m      8\u001b[0m \u001b[38;5;28;01mif\u001b[39;00m d\u001b[38;5;241m<\u001b[39m\u001b[38;5;241m=\u001b[39m\u001b[38;5;241m0\u001b[39m:\n\u001b[1;32m      9\u001b[0m     \u001b[38;5;28;01mreturn\u001b[39;00m a[::\u001b[38;5;241m-\u001b[39m\u001b[38;5;241m1\u001b[39m][d\u001b[38;5;241m-\u001b[39m\u001b[38;5;241m1\u001b[39m]\n",
      "\u001b[0;31mKeyboardInterrupt\u001b[0m: "
     ]
    }
   ],
   "source": [
    "def solution(n):\n",
    "    c=0\n",
    "    \n",
    "    for x in range(n>>1,n+1):\n",
    "        a=str(x)\n",
    "        c+=len(a)\n",
    "        d=n-c\n",
    "        if d<=0:\n",
    "            return a[::-1][d-1]\n",
    "        \n",
    "#     return ''.join([x[::-1] for x in map(str, range(1,n+1))])\n",
    "\n",
    "\n",
    "solution(100000000000)"
   ]
  },
  {
   "cell_type": "markdown",
   "id": "8e318822",
   "metadata": {},
   "source": [
    "## 2. Угадайка\n",
    "Определите по тестам условие задачи и напишите программу для ее решения.\n",
    "\n",
    "Формат входных данных\n",
    "На вход программе подается единственное натуральное число.\n",
    "\n",
    "Формат выходных данных\n",
    "Программа должна вывести единственное натуральное число."
   ]
  },
  {
   "cell_type": "code",
   "execution_count": 27,
   "id": "36007e44",
   "metadata": {
    "ExecuteTime": {
     "end_time": "2022-06-08T10:35:42.349245Z",
     "start_time": "2022-06-08T10:35:42.343747Z"
    }
   },
   "outputs": [
    {
     "data": {
      "text/plain": [
       "9"
      ]
     },
     "execution_count": 27,
     "metadata": {},
     "output_type": "execute_result"
    }
   ],
   "source": [
    "def solution(n):\n",
    "    return sum([int(d)+1 for d in n])\n",
    "\n",
    "solution('123')"
   ]
  },
  {
   "cell_type": "markdown",
   "id": "9e7d6eb9",
   "metadata": {},
   "source": [
    "## 3. Зеркальный мир\n",
    "Один странный доктор научился путешествовать в мир, который очень похож на наш, однако в нем все объекты отражены горизонтально. Все, что попадает в этот мир из реального, тоже «отзеркаливается», но доктор изобрел специальные ящики, содержимое которых остается в изначальном состоянии после переноса в новый мир.\n",
    "\n",
    "Ящики выглядят как прямоугольники разных размеров, у которых нижняя и верхняя части обозначены символом _, а стенки — символом |. Содержимое ящиков состоит из букв латинского алфавита в произвольном регистре и цифр. Все пустое пространство на складе составляют символы .. Стенки, нижние и верхние части у ящиков могут совпадать.\n",
    "\n",
    "Напишите программу, которая показывает, как будут выглядеть ящики после их переноса в зеркальное измерение."
   ]
  },
  {
   "cell_type": "code",
   "execution_count": 62,
   "id": "11893140",
   "metadata": {
    "ExecuteTime": {
     "end_time": "2022-06-08T11:52:06.861482Z",
     "start_time": "2022-06-08T11:52:06.850121Z"
    }
   },
   "outputs": [
    {
     "name": "stdout",
     "output_type": "stream",
     "text": [
      ".....___.\n",
      "..__|123|\n",
      ".|AB|456|\n",
      ".|CD|___|\n",
      ".|__|XYZ|\n",
      "....|___|\n",
      ".._......\n",
      ".|0|..._.\n",
      ".|_|..|_|\n"
     ]
    }
   ],
   "source": [
    "import re\n",
    "def solution(sn, test=None):\n",
    "    n=int(sn.split(' ')[0])\n",
    "    _box = re.compile(r'\\|([\\w_\\|]+)\\|')\n",
    "    res = []\n",
    "    if test:\n",
    "        for t in test.splitlines():\n",
    "            ab = _box.search(t)\n",
    "            if ab:\n",
    "                boxes = '|'.join(ab.group(0).split('|')[::-1])\n",
    "                res.append(_box.sub(''.join(boxes), t[::-1]))\n",
    "            else:\n",
    "                res.append(t[::-1])\n",
    "                \n",
    "    return '\\n'.join(res)\n",
    "\n",
    "# 1\n",
    "print(solution('9 9', '''.___.....\n",
    "|123|__..\n",
    "|456|AB|.\n",
    "|___|CD|.\n",
    "|XYZ|__|.\n",
    "|___|....\n",
    "......_..\n",
    "._...|0|.\n",
    "|_|..|_|.'''))\n",
    "\n",
    "# 2\n",
    "# print(solution('3 4', '''._..\n",
    "# |x|.\n",
    "# |_|.'''))\n",
    "\n",
    "# 3\n",
    "# print(solution('5 7', '''.__....\n",
    "# |85|...\n",
    "# |__|__.\n",
    "# ...|aA|\n",
    "# ...|__|'''))"
   ]
  },
  {
   "cell_type": "markdown",
   "id": "90c27335",
   "metadata": {},
   "source": [
    "## 4. Скобки\n",
    "Напишите программу, которая выводит все правильные скобочные выражения заданной длины, состоящие из круглых и квадратных скобок."
   ]
  },
  {
   "cell_type": "code",
   "execution_count": 72,
   "id": "42b79cc4",
   "metadata": {
    "ExecuteTime": {
     "end_time": "2022-06-08T12:00:36.869742Z",
     "start_time": "2022-06-08T12:00:36.860235Z"
    }
   },
   "outputs": [
    {
     "data": {
      "text/plain": [
       "[]"
      ]
     },
     "execution_count": 72,
     "metadata": {},
     "output_type": "execute_result"
    }
   ],
   "source": [
    "import itertools\n",
    "def solution(n):\n",
    "    return list(itertools.combinations(['()','[]'], n))\n",
    "\n",
    "solution(4)"
   ]
  },
  {
   "cell_type": "markdown",
   "id": "9cfed5e2",
   "metadata": {},
   "source": [
    "# 5. Возрастающая подпоследовательность\n",
    "Дана последовательность натуральных чисел. Напишите программу, которая из данной последовательности вычеркивает минимальное количество чисел так, чтобы оставшиеся шли в порядке возрастания."
   ]
  },
  {
   "cell_type": "code",
   "execution_count": 33,
   "id": "28668af9",
   "metadata": {
    "ExecuteTime": {
     "end_time": "2022-06-09T15:39:56.504362Z",
     "start_time": "2022-06-09T15:39:56.490923Z"
    },
    "scrolled": true
   },
   "outputs": [
    {
     "name": "stdout",
     "output_type": "stream",
     "text": [
      "[3 2 9 1 1 7 5 2 2 9]\n"
     ]
    },
    {
     "data": {
      "text/plain": [
       "array([1, 2, 9])"
      ]
     },
     "execution_count": 33,
     "metadata": {},
     "output_type": "execute_result"
    }
   ],
   "source": [
    "import numpy as np\n",
    "\n",
    "\n",
    "def solution(ls):\n",
    "    a = np.array(ls.split(' ')).astype(int)\n",
    "    a = (10 * np.random.sample(10)).astype(int)\n",
    "    d = np.ones(a.size, dtype=int)\n",
    "    p = np.full(a.size, fill_value=-1, dtype=int)\n",
    "    print(a)\n",
    "\n",
    "    for i in range(d.size):\n",
    "        for j in range(i):\n",
    "            if a[j] < a[i]:\n",
    "                d[i] = max(d[i], 1 + d[j])\n",
    "                p[i] = j\n",
    "#     print(d)\n",
    "    pat = np.full(a.size, fill_value=False, dtype=bool)\n",
    "    pos = np.argmax(d)\n",
    "    while pos != -1:\n",
    "        pat[pos] = True\n",
    "        pos = p[pos]\n",
    "\n",
    "    return a[pat]\n",
    "\n",
    "\n",
    "# solution('2 5 3 4 6 1')\n",
    "# print(\"---------2\")\n",
    "solution('1 3 5 2 4')"
   ]
  }
 ],
 "metadata": {
  "kernelspec": {
   "display_name": "Python 3 (ipykernel)",
   "language": "python",
   "name": "python3"
  },
  "language_info": {
   "codemirror_mode": {
    "name": "ipython",
    "version": 3
   },
   "file_extension": ".py",
   "mimetype": "text/x-python",
   "name": "python",
   "nbconvert_exporter": "python",
   "pygments_lexer": "ipython3",
   "version": "3.8.10"
  },
  "latex_envs": {
   "LaTeX_envs_menu_present": true,
   "autoclose": false,
   "autocomplete": true,
   "bibliofile": "biblio.bib",
   "cite_by": "apalike",
   "current_citInitial": 1,
   "eqLabelWithNumbers": true,
   "eqNumInitial": 1,
   "hotkeys": {
    "equation": "Ctrl-E",
    "itemize": "Ctrl-I"
   },
   "labels_anchors": false,
   "latex_user_defs": false,
   "report_style_numbering": false,
   "user_envs_cfg": false
  },
  "varInspector": {
   "cols": {
    "lenName": 16,
    "lenType": 16,
    "lenVar": 40
   },
   "kernels_config": {
    "python": {
     "delete_cmd_postfix": "",
     "delete_cmd_prefix": "del ",
     "library": "var_list.py",
     "varRefreshCmd": "print(var_dic_list())"
    },
    "r": {
     "delete_cmd_postfix": ") ",
     "delete_cmd_prefix": "rm(",
     "library": "var_list.r",
     "varRefreshCmd": "cat(var_dic_list()) "
    }
   },
   "types_to_exclude": [
    "module",
    "function",
    "builtin_function_or_method",
    "instance",
    "_Feature"
   ],
   "window_display": false
  }
 },
 "nbformat": 4,
 "nbformat_minor": 5
}
