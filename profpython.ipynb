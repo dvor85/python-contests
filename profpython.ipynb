{
 "cells": [
  {
   "cell_type": "markdown",
   "id": "dd30c74c-527f-437d-8673-83c9c77eb8e7",
   "metadata": {},
   "source": [
    "# Вам доступен список кортежей data \n",
    "с данными о доходах некоторого образовательного ресурса. Первым элементом кортежа является название продукта, вторым — прибыль в долларах.\n",
    "\n",
    "Дополните приведенный ниже код, чтобы он определил, какой общий доход принес каждый продукт и вывел названия всех продуктов, указав для каждого соответствующую общую прибыль. Продукты должны быть расположены в лексикографическом порядке, каждый на отдельной строке, в следующем формате:\n",
    "'''\n",
    "<продукт>: $<общая прибыль>\n",
    "'''"
   ]
  },
  {
   "cell_type": "code",
   "execution_count": 4,
   "id": "6213d38f-1bcf-4626-97b9-04d1a5024f76",
   "metadata": {},
   "outputs": [
    {
     "name": "stdout",
     "output_type": "stream",
     "text": [
      "Books: $7969\n",
      "Courses: $2991\n",
      "Merch: $4083\n",
      "Tutorials: $3730\n"
     ]
    },
    {
     "data": {
      "text/plain": [
       "[None, None, None, None]"
      ]
     },
     "execution_count": 4,
     "metadata": {},
     "output_type": "execute_result"
    }
   ],
   "source": [
    "from collections import defaultdict\n",
    "\n",
    "data = [('Books', 1343), ('Books', 1166), ('Merch', 616), ('Courses', 966), ('Merch', 1145), ('Courses', 1061), ('Books', 848), ('Courses', 964), ('Tutorials', 832), ('Merch', 642),\n",
    "        ('Books', 815), ('Tutorials', 1041), ('Books', 1218), ('Tutorials', 880), ('Books', 1003), ('Merch', 951), ('Books', 920), ('Merch', 729), ('Tutorials', 977), ('Books', 656)]\n",
    "df = defaultdict(int)\n",
    "for k, v in sorted(data):\n",
    "    df[k] += v\n",
    "\n",
    "[print(f\"{k}: ${v}\") for k, v in df.items()]"
   ]
  },
  {
   "cell_type": "markdown",
   "id": "cfd8185a-20f3-44eb-bcf2-871c2436c990",
   "metadata": {},
   "source": [
    "# Вам доступен список кортежей staff\n",
    "с данными о сотрудниках некоторой компании. Первым элементом кортежа является название отдела, вторым — имя и фамилия сотрудника, работающего в этом отделе.\n",
    "\n",
    "Дополните приведенный ниже код, чтобы он определил, какое число сотрудников работает в каждом отделе и вывел названия всех отделов, указав для каждого соответствующее количество сотрудников. Отделы должны быть расположены в лексикографическом порядке, каждый на отдельной строке, в следующем формате:\n",
    "\n",
    "<отдел>: <количество сотрудников>"
   ]
  },
  {
   "cell_type": "code",
   "execution_count": 6,
   "id": "c4a8a5df-acd3-4e09-83f0-b9b1abd782ac",
   "metadata": {},
   "outputs": [
    {
     "name": "stdout",
     "output_type": "stream",
     "text": [
      "Accounting: 17\n",
      "Developing: 7\n",
      "Marketing: 13\n",
      "Sales: 13\n"
     ]
    },
    {
     "data": {
      "text/plain": [
       "[None, None, None, None]"
      ]
     },
     "execution_count": 6,
     "metadata": {},
     "output_type": "execute_result"
    }
   ],
   "source": [
    "from collections import defaultdict\n",
    "\n",
    "staff = [('Sales', 'Robert Barnes'), ('Developing', 'Thomas Porter'), ('Accounting', 'James Wilkins'), ('Sales', 'Connie Reid'), ('Accounting', 'Brenda Davis'), ('Developing', 'Miguel Norris'), ('Accounting', 'Linda Hudson'), ('Developing', 'Deborah George'), ('Developing', 'Nicole Watts'), ('Marketing', 'Billy Lloyd'), ('Sales', 'Charlotte Cox'), ('Marketing', 'Bernice Ramos'), ('Sales', 'Jose Taylor'), ('Sales', 'Katie Warner'), ('Accounting', 'Steven Diaz'), ('Accounting', 'Kimberly Reynolds'), ('Accounting', 'John Watts'), ('Accounting', 'Dale Houston'), ('Developing', 'Arlene Gibson'), ('Marketing', 'Joyce Lawrence'), ('Accounting', 'Rosemary Garcia'), ('Marketing', 'Ralph Morgan'), ('Marketing', 'Sam Davis'), ('Marketing', 'Gail Hill'), ('Accounting',\n",
    "                                                                                                                                                                                                                                                                                                                                                                                                                                                                                                                                                                                                                                                                                                                                                                                  'Michelle Wright'), ('Accounting', 'Casey Jenkins'), ('Sales', 'Evelyn Martin'), ('Accounting', 'Aaron Ferguson'), ('Marketing', 'Andrew Clark'), ('Marketing', 'John Gonzalez'), ('Developing', 'Wilma Woods'), ('Sales', 'Marie Cooper'), ('Accounting', 'Kay Scott'), ('Sales', 'Gladys Taylor'), ('Accounting', 'Ann Bell'), ('Accounting', 'Craig Wood'), ('Accounting', 'Gloria Higgins'), ('Marketing', 'Mario Reynolds'), ('Marketing', 'Helen Taylor'), ('Marketing', 'Mary King'), ('Accounting', 'Jane Jackson'), ('Marketing', 'Carol Peters'), ('Sales', 'Alicia Mendoza'), ('Accounting', 'Edna Cunningham'), ('Developing', 'Joyce Rivera'), ('Sales', 'Joseph Lee'), ('Sales', 'John White'), ('Marketing', 'Charles Bailey'), ('Sales', 'Chester Fernandez'), ('Sales', 'John Washington')]\n",
    "\n",
    "df = defaultdict(int)\n",
    "for k, v in sorted(staff):\n",
    "    df[k] += 1\n",
    "\n",
    "[print(f\"{k}: {v}\") for k, v in df.items()]"
   ]
  },
  {
   "cell_type": "markdown",
   "id": "9867b951-7367-4c67-8f0d-813efbe1f612",
   "metadata": {},
   "source": [
    "# Вам доступен список кортежей staff_broken \n",
    "с данными о сотрудниках некоторой компании. Первым элементом кортежа является название отдела, вторым — имя и фамилия сотрудника, работающего в этом отделе. Некоторые сотрудники могут встречаться в списке несколько раз.\n",
    "\n",
    "Дополните приведенный ниже код, чтобы он сгруппировал сотрудников по соответствующим отделам и вывел названия всех отделов, указав для каждого имена и фамилии его сотрудников. Отделы, а также имена и фамилии сотрудников в этих отделах, должны быть расположены в лексикографическом порядке, каждый на отдельной строке, в следующем формате:\n",
    "\n",
    "<отдел>: <имя> <фамилия>, <имя> <фамилия>, ..."
   ]
  },
  {
   "cell_type": "code",
   "execution_count": 8,
   "id": "be8fe934-aceb-4332-a17a-40e4eb9df580",
   "metadata": {},
   "outputs": [
    {
     "name": "stdout",
     "output_type": "stream",
     "text": [
      "Accounting: Aaron Ferguson, Ann Bell, Brenda Davis, Casey Jenkins, Craig Wood, Dale Houston, Edna Cunningham, Gloria Higgins, James Wilkins, Jane Jackson, John Watts, Kay Scott, Kimberly Reynolds, Linda Hudson, Michelle Wright, Rosemary Garcia, Steven Diaz\n",
      "Developing: Arlene Gibson, Deborah George, Joyce Rivera, Miguel Norris, Nicole Watts, Thomas Porter, Wilma Woods\n",
      "Marketing: Andrew Clark, Bernice Ramos, Billy Lloyd, Carol Peters, Charles Bailey, Gail Hill, Helen Taylor, John Gonzalez, Joyce Lawrence, Mario Reynolds, Mary King, Ralph Morgan, Sam Davis\n",
      "Sales: Alicia Mendoza, Charlotte Cox, Chester Fernandez, Connie Reid, Evelyn Martin, Gladys Taylor, John Washington, John White, Jose Taylor, Joseph Lee, Katie Warner, Marie Cooper, Robert Barnes\n"
     ]
    },
    {
     "data": {
      "text/plain": [
       "[None, None, None, None]"
      ]
     },
     "execution_count": 8,
     "metadata": {},
     "output_type": "execute_result"
    }
   ],
   "source": [
    "from collections import defaultdict\n",
    "\n",
    "staff_broken = [('Developing', 'Miguel Norris'), ('Sales', 'Connie Reid'), ('Sales', 'Joseph Lee'), ('Marketing', 'Carol Peters'), ('Accounting', 'Linda Hudson'), ('Accounting', 'Ann Bell'), ('Marketing', 'Ralph Morgan'), ('Accounting', 'Gloria Higgins'), ('Developing', 'Wilma Woods'), ('Developing', 'Wilma Woods'), ('Marketing', 'Bernice Ramos'), ('Marketing', 'Joyce Lawrence'), ('Accounting', 'Craig Wood'), ('Developing', 'Nicole Watts'), ('Sales', 'Jose Taylor'), ('Accounting', 'Linda Hudson'), ('Accounting', 'Edna Cunningham'), ('Sales', 'Jose Taylor'), ('Marketing', 'Helen Taylor'), ('Accounting', 'Kimberly Reynolds'), ('Marketing', 'Mary King'), ('Sales', 'Joseph Lee'), ('Accounting', 'Gloria Higgins'), ('Marketing', 'Andrew Clark'), ('Accounting', 'John Watts'), ('Accounting', 'Rosemary Garcia'), ('Accounting', 'Steven Diaz'), ('Marketing', 'Mary King'), ('Sales', 'Gladys Taylor'), ('Developing', 'Thomas Porter'), ('Accounting', 'Brenda Davis'), ('Sales', 'Connie Reid'), ('Sales', 'Alicia Mendoza'), ('Marketing', 'Mario Reynolds'), ('Sales', 'John White'), ('Developing', 'Joyce Rivera'), ('Accounting',\n",
    "                                                                                                                                                                                                                                                                                                                                                                                                                                                                                                                                                                                                                                                                                                                                                                                                                                                                                                                                                                                                                                                                                                                                                         'Steven Diaz'), ('Developing', 'Arlene Gibson'), ('Sales', 'Robert Barnes'), ('Sales', 'Charlotte Cox'), ('Accounting', 'Craig Wood'), ('Marketing', 'Carol Peters'), ('Marketing', 'Ralph Morgan'), ('Accounting', 'Kay Scott'), ('Sales', 'Evelyn Martin'), ('Marketing', 'Billy Lloyd'), ('Sales', 'Gladys Taylor'), ('Developing', 'Deborah George'), ('Sales', 'Charlotte Cox'), ('Marketing', 'Sam Davis'), ('Sales', 'John White'), ('Sales', 'Marie Cooper'), ('Marketing', 'John Gonzalez'), ('Sales', 'John Washington'), ('Sales', 'Chester Fernandez'), ('Sales', 'Alicia Mendoza'), ('Sales', 'Katie Warner'), ('Accounting', 'Jane Jackson'), ('Sales', 'Chester Fernandez'), ('Marketing', 'Charles Bailey'), ('Marketing', 'Gail Hill'), ('Accounting', 'Casey Jenkins'), ('Accounting', 'James Wilkins'), ('Accounting', 'Casey Jenkins'), ('Marketing', 'Mario Reynolds'), ('Accounting', 'Aaron Ferguson'), ('Accounting', 'Kimberly Reynolds'), ('Sales', 'Robert Barnes'), ('Accounting', 'Aaron Ferguson'), ('Accounting', 'Jane Jackson'), ('Developing', 'Deborah George'), ('Accounting', 'Michelle Wright'), ('Accounting', 'Dale Houston')]\n",
    "\n",
    "df = defaultdict(set)\n",
    "for k, v in sorted(staff_broken):\n",
    "    df[k].add(v)\n",
    "\n",
    "[print(f\"{k}: {', '.join(sorted(v))}\") for k, v in df.items()]"
   ]
  },
  {
   "cell_type": "markdown",
   "id": "7a56fd5f-2a31-400e-becf-95d7f6ef79db",
   "metadata": {},
   "source": [
    "# Функция wins()\n",
    "В онлайн-школе BEEGEEK каждое лето проходят соревнования по шахматам, во время которых ведется статистика побед и поражений. Каждая партия описывается кортежем из двух элементов, где первый элемент — имя победившего ученика, второй элемент — имя проигравшего ученика.\n",
    "\n",
    "Реализуйте функцию wins(), которая принимает один аргумент:\n",
    "\n",
    "pairs — итерируемый объект, элементами которого являются кортежи, каждый из которых представляет собой пару имён победитель-проигравший\n",
    "Функция должна возвращать словарь, в котором ключом служит имя ученика, а значением — множество (тип set) имен учеников, которых он победил.\n",
    "\n"
   ]
  },
  {
   "cell_type": "code",
   "execution_count": 9,
   "id": "c133da4b-3c50-4ba2-9a45-dfc8a79e4a4a",
   "metadata": {},
   "outputs": [
    {
     "name": "stdout",
     "output_type": "stream",
     "text": [
      "Дима -> Артур\n",
      "Тимур -> Артур Дима\n"
     ]
    }
   ],
   "source": [
    "from collections import defaultdict\n",
    "\n",
    "def wins(pairs):\n",
    "    result = defaultdict(set)\n",
    "    for k, v in pairs:\n",
    "        result[k].add(v)\n",
    "    return result\n",
    "\n",
    "\n",
    "result = wins([('Тимур', 'Артур'), ('Тимур', 'Дима'), ('Дима', 'Артур')])\n",
    "\n",
    "for winner, losers in sorted(result.items()):\n",
    "    print(winner, '->', *sorted(losers))"
   ]
  },
  {
   "cell_type": "markdown",
   "id": "a203d4c1-a8ac-4d86-8be3-604cf6ed3907",
   "metadata": {},
   "source": [
    "# Функция flip_dict()\n",
    "Рассмотрим следующий словарь:\n",
    "\n",
    "{'a': [1, 2], 'b': [3, 1], 'c': [2]}\n",
    "«Перевернем» его, представив ключи в виде значений, а значения — в виде ключей:\n",
    "\n",
    "{1: ['a', 'b'], 2: ['a', 'c'], 3: ['b']}\n",
    "Реализуйте функцию flip_dict(), которая принимает один аргумент:\n",
    "\n",
    "dict_of_lists — словарь, в котором ключом является число или строка, а значением — список чисел или строк\n",
    "Функция должна возвращать новый словарь (тип defaultdict с типом list в качестве значения по умолчанию), который представляет собой «перевернутый» словарь dict_of_lists."
   ]
  },
  {
   "cell_type": "code",
   "execution_count": 10,
   "id": "83146049-a571-4ad7-ab9c-3d9b676cf7ae",
   "metadata": {},
   "outputs": [
    {
     "name": "stdout",
     "output_type": "stream",
     "text": [
      "defaultdict(<class 'list'>, {1: ['a', 'b'], 2: ['a', 'c'], 3: ['b']})\n"
     ]
    }
   ],
   "source": [
    "from collections import defaultdict\n",
    "\n",
    "def flip_dict(dict_of_lists):\n",
    "    res = defaultdict(list)\n",
    "    for k, v in dict_of_lists.items():\n",
    "        for i in v:\n",
    "            res[i].append(k)\n",
    "    return res\n",
    "\n",
    "\n",
    "print(flip_dict({'a': [1, 2], 'b': [3, 1], 'c': [2]}))"
   ]
  },
  {
   "cell_type": "markdown",
   "id": "c8995fdb-920d-49c6-82ee-1d2e7890f185",
   "metadata": {},
   "source": [
    "# Функция best_sender()\n",
    "Рассмотрим два списка:\n",
    "\n",
    "messages = ['Hi, Linda', 'Hi, Sam', 'How are you doing?']\n",
    "\n",
    "senders = ['Sam Fisher', 'Linda', 'Sam Fisher']\n",
    "Первый список представляет набор отправленных сообщений в некотором мессенджере, второй список — набор отправителей этих сообщений. Причем сообщение messages[i] отправлено пользователем senders[i]. Каждое сообщение представляет собой последовательность слов, разделенных пробелом (знаки препинания считаются частями слов). Количество слов — это общее число слов, отправленное пользователем. Обратите внимание, что каждый пользователь может отправлять более одного сообщения. Например, пользователь Sam Fisher отправил \n",
    "2 слова в первом сообщении и 4 слова во втором, следовательно, его количество слов равно 6\n",
    "2+4=6. \n",
    "\n",
    "Реализуйте функцию best_sender(), которая принимает два аргумента в следующем порядке:\n",
    "\n",
    "messages — список сообщений\n",
    "senders — список имен отправителей\n",
    "Функция должна определять отправителя, имеющего наибольшее количество слов, и возвращать его имя. Если таких отправителей несколько, следует вернуть имя того, чье имя больше в лексикографическом сравнении."
   ]
  },
  {
   "cell_type": "code",
   "execution_count": 3,
   "id": "bab47740-8753-49f0-bef6-2d85288315db",
   "metadata": {
    "ExecuteTime": {
     "end_time": "2024-09-23T11:19:18.085063Z",
     "start_time": "2024-09-23T11:19:18.072413Z"
    }
   },
   "outputs": [
    {
     "name": "stdout",
     "output_type": "stream",
     "text": [
      "Charlie\n"
     ]
    }
   ],
   "source": [
    "from collections import defaultdict\n",
    "\n",
    "def best_sender(messages, senders):\n",
    "    res = defaultdict(int)\n",
    "    for k, v in sorted(zip(senders, messages), reverse=True):\n",
    "        res[k] += len(v.split())\n",
    "\n",
    "    return sorted(res.items(), key=lambda x: x[1], reverse=True)[0][0]\n",
    "\n",
    "\n",
    "messages = ['How is Stepik for everyone', 'Stepik is useful for practice']\n",
    "senders = ['Bob', 'Charlie']\n",
    "\n",
    "print(best_sender(messages, senders))"
   ]
  },
  {
   "cell_type": "markdown",
   "id": "f60083af",
   "metadata": {
    "ExecuteTime": {
     "end_time": "2024-09-23T11:19:00.317793Z",
     "start_time": "2024-09-23T11:19:00.311922Z"
    }
   },
   "source": [
    "# Генератор последовательности Фибоначчи\n"
   ]
  },
  {
   "cell_type": "code",
   "execution_count": 19,
   "id": "61492f1d",
   "metadata": {
    "editable": true,
    "slideshow": {
     "slide_type": ""
    },
    "tags": []
   },
   "outputs": [
    {
     "data": {
      "text/plain": [
       "[1, 1, 2, 3, 5, 8, 13, 21, 34, 55, 89, 144, 233, 377, 610]"
      ]
     },
     "execution_count": 19,
     "metadata": {},
     "output_type": "execute_result"
    }
   ],
   "source": [
    "def gen_fibonacci_numbers(n):\n",
    "    f0, f1 = 0, 1\n",
    "    for i in range(n):\n",
    "        f0, f1 = f1, f0+f1\n",
    "        yield f0\n",
    "\n",
    "\n",
    "list(gen_fibonacci_numbers(15))"
   ]
  }
 ],
 "metadata": {
  "celltoolbar": "Отсутствует",
  "kernelspec": {
   "display_name": "Python 3 (ipykernel)",
   "language": "python",
   "name": "python3"
  },
  "language_info": {
   "codemirror_mode": {
    "name": "ipython",
    "version": 3
   },
   "file_extension": ".py",
   "mimetype": "text/x-python",
   "name": "python",
   "nbconvert_exporter": "python",
   "pygments_lexer": "ipython3",
   "version": "3.12.3"
  },
  "latex_envs": {
   "LaTeX_envs_menu_present": true,
   "autoclose": false,
   "autocomplete": true,
   "bibliofile": "biblio.bib",
   "cite_by": "apalike",
   "current_citInitial": 1,
   "eqLabelWithNumbers": true,
   "eqNumInitial": 1,
   "hotkeys": {
    "equation": "Ctrl-E",
    "itemize": "Ctrl-I"
   },
   "labels_anchors": false,
   "latex_user_defs": false,
   "report_style_numbering": false,
   "user_envs_cfg": false
  },
  "varInspector": {
   "cols": {
    "lenName": 16,
    "lenType": 16,
    "lenVar": 40
   },
   "kernels_config": {
    "python": {
     "delete_cmd_postfix": "",
     "delete_cmd_prefix": "del ",
     "library": "var_list.py",
     "varRefreshCmd": "print(var_dic_list())"
    },
    "r": {
     "delete_cmd_postfix": ") ",
     "delete_cmd_prefix": "rm(",
     "library": "var_list.r",
     "varRefreshCmd": "cat(var_dic_list()) "
    }
   },
   "types_to_exclude": [
    "module",
    "function",
    "builtin_function_or_method",
    "instance",
    "_Feature"
   ],
   "window_display": false
  },
  "widgets": {
   "application/vnd.jupyter.widget-state+json": {
    "state": {},
    "version_major": 2,
    "version_minor": 0
   }
  }
 },
 "nbformat": 4,
 "nbformat_minor": 5
}
